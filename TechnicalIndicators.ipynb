{
 "cells": [
  {
   "attachments": {},
   "cell_type": "markdown",
   "metadata": {},
   "source": [
    "# Technical indicators coding"
   ]
  },
  {
   "attachments": {},
   "cell_type": "markdown",
   "metadata": {},
   "source": [
    "## Fibonacci retracement levels\n",
    "The Fibonacci retracement levels are commonly used in technical analysis to identify potential support and resistance levels in a financial time series. These levels are calculated based on the Fibonacci sequence, which is a series of numbers where each number is the sum of the two preceding ones, starting from 0 and 1. The Fibonacci retracement levels are typically set at 23.6%, 38.2%, 50%, 61.8%, and 100% of the move from the high to low point in a given time series.\n",
    "\n",
    "To calculate the Fibonacci retracement levels in a window of OHLCV data, you can use the following steps:\n",
    "\n",
    "Identify the high and low points in the window: In OHLCV data, the high and low prices are typically represented by the \"High\" and \"Low\" columns, respectively. To identify the high and low points in the window, you can use the max and min functions on these columns.\n",
    "\n",
    "Calculate the move from the high to low point: The move from the high to low point in the window is the difference between the high and low prices. You can calculate this using the diff function.\n",
    "\n",
    "Calculate the Fibonacci retracement levels: Once you have the move from the high to low point, you can calculate the Fibonacci retracement levels using the following formula:\n",
    "\n",
    "23.6% retracement level = high - (move * 0.236)\n",
    "38.2% retracement level = high - (move * 0.382)\n",
    "50% retracement level = high - (move * 0.5)\n",
    "61.8% retracement level = high - (move * 0.618)\n",
    "100% retracement level = high\n",
    "Where high is the highest price in the window, and move is the difference between the high and low prices.\n",
    "\n",
    "Here's an example code that shows how to calculate Fibonacci retracement levels in a window of OHLCV data using Pandas:"
   ]
  },
  {
   "cell_type": "code",
   "execution_count": 8,
   "metadata": {},
   "outputs": [],
   "source": [
    "import os\n",
    "import gc\n",
    "import pandas as pd\n",
    "\n",
    "def read_data(pair, start_date, end_date, data_dir, interval):\n",
    "    \"\"\"\n",
    "    Reads data for a given trading pair and date range.\n",
    "    \n",
    "    Args:\n",
    "        pair (str): Trading pair (e.g. 'BTCUSDT')\n",
    "        start_date (pd.Timestamp): Start date of data to read\n",
    "        end_date (pd.Timestamp): End date of data to read\n",
    "        data_dir (str): Directory where data is stored\n",
    "        interval (str): Interval of data to read (e.g. '1m', '1h', '1d')\n",
    "    \n",
    "    Returns:\n",
    "        pd.DataFrame: DataFrame containing data for the given pair and date range\n",
    "    \"\"\"\n",
    "    data = pd.DataFrame()\n",
    "    \n",
    "    # Iterate over all months between start_date and end_date\n",
    "    for year in range(start_date.year, end_date.year + 1):\n",
    "        for month in range(1, 13):\n",
    "            gc.collect()\n",
    "            if year == start_date.year and month < start_date.month:\n",
    "                continue\n",
    "            if year == end_date.year and month > end_date.month:\n",
    "                continue\n",
    "                \n",
    "            # Construct file path\n",
    "            file_path = os.path.join(data_dir, interval, pair, f\"{pair}_{year}_{str(month).zfill(2)}.zip\")\n",
    "            \n",
    "            # Check if file exists\n",
    "            if os.path.exists(file_path):\n",
    "                # Read data from file\n",
    "                df= pd.read_csv(file_path, compression='zip', header=0, sep=',', quotechar='\"', names=['Open time', 'Open', 'High', 'Low', 'Close', 'Volume', 'Close time', 'Quote asset volume', 'Number of trades', 'Taker buy base asset volume', 'Taker buy quote asset volume', 'Ignore'])\n",
    "                # Filter data by date range\n",
    "                mask = (df['Open time'] >= start_date.timestamp() * 1000) & (df['Open time'] <= end_date.timestamp() * 1000)\n",
    "                data = pd.concat([data, df.loc[mask]])\n",
    "    return data\n"
   ]
  },
  {
   "cell_type": "code",
   "execution_count": 2,
   "metadata": {},
   "outputs": [
    {
     "name": "stdout",
     "output_type": "stream",
     "text": [
      "Empty DataFrame\n",
      "Columns: []\n",
      "Index: []\n"
     ]
    }
   ],
   "source": [
    "import pandas as pd\n",
    "\n",
    "# Load the OHLCV data\n",
    "data = read_data(\"ETHUSDT\", pd.Timestamp(\"2022-01-01\"),  pd.Timestamp(\"2023-02-28\"), \"./database/Trades/\", \"1h\")\n",
    "# Set the window size\n",
    "window_size = 20\n",
    "\n",
    "# Define a function to calculate the Fibonacci retracement levels in a window\n",
    "def calculate_fibonacci_retracement_levels(data):\n",
    "    # Calculate the high and low points in the window\n",
    "    high = data['High'].max()\n",
    "    low = data['Low'].min()\n",
    "    \n",
    "    # Calculate the move from the high to low point\n",
    "    move = high - low\n",
    "    \n",
    "    # Calculate the Fibonacci retracement levels\n",
    "    retracement_23 = high - (move * 0.236)\n",
    "    retracement_38 = high - (move * 0.382)\n",
    "    retracement_50 = high - (move * 0.5)\n",
    "    retracement_61 = high - (move * 0.618)\n",
    "    retracement_100 = high\n",
    "    \n",
    "    return {\n",
    "        '23.6%': retracement_23,\n",
    "        '38.2%': retracement_38,\n",
    "        '50%': retracement_50,\n",
    "        '61.8%': retracement_61,\n",
    "        '100%': retracement_100\n",
    "    }\n",
    "\n",
    "# Apply the function to each window of data\n",
    "fibonacci_levels = data.rolling(window_size).apply(calculate_fibonacci_retracement_levels, raw=True)\n",
    "\n",
    "# Print the results\n",
    "print(fibonacci_levels)\n"
   ]
  },
  {
   "cell_type": "code",
   "execution_count": 7,
   "metadata": {},
   "outputs": [
    {
     "data": {
      "text/html": [
       "<div>\n",
       "<style scoped>\n",
       "    .dataframe tbody tr th:only-of-type {\n",
       "        vertical-align: middle;\n",
       "    }\n",
       "\n",
       "    .dataframe tbody tr th {\n",
       "        vertical-align: top;\n",
       "    }\n",
       "\n",
       "    .dataframe thead th {\n",
       "        text-align: right;\n",
       "    }\n",
       "</style>\n",
       "<table border=\"1\" class=\"dataframe\">\n",
       "  <thead>\n",
       "    <tr style=\"text-align: right;\">\n",
       "      <th></th>\n",
       "    </tr>\n",
       "  </thead>\n",
       "  <tbody>\n",
       "  </tbody>\n",
       "</table>\n",
       "</div>"
      ],
      "text/plain": [
       "Empty DataFrame\n",
       "Columns: []\n",
       "Index: []"
      ]
     },
     "execution_count": 7,
     "metadata": {},
     "output_type": "execute_result"
    }
   ],
   "source": [
    "read_data(\"BTCUSDT\", pd.Timestamp(\"2022-01-01\"),  pd.Timestamp(\"2023-02-28\"), \"./database/Trades/\", \"1h\")"
   ]
  },
  {
   "cell_type": "code",
   "execution_count": null,
   "metadata": {},
   "outputs": [],
   "source": [
    "import pandas as pd\n",
    "import mplfinance as mpf\n",
    "\n",
    "# Load the OHLCV data\n",
    "data = pd.read_csv('ohlc_data.csv')\n",
    "data = data.set_index('Date')\n",
    "\n",
    "# Plot the candlestick chart\n",
    "mpf.plot(data, type='candle', mav=(10, 20), volume=True)\n"
   ]
  }
 ],
 "metadata": {
  "kernelspec": {
   "display_name": "Python 3",
   "language": "python",
   "name": "python3"
  },
  "language_info": {
   "codemirror_mode": {
    "name": "ipython",
    "version": 3
   },
   "file_extension": ".py",
   "mimetype": "text/x-python",
   "name": "python",
   "nbconvert_exporter": "python",
   "pygments_lexer": "ipython3",
   "version": "3.9.2"
  },
  "orig_nbformat": 4,
  "vscode": {
   "interpreter": {
    "hash": "767d51c1340bd893661ea55ea3124f6de3c7a262a8b4abca0554b478b1e2ff90"
   }
  }
 },
 "nbformat": 4,
 "nbformat_minor": 2
}
