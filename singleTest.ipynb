{
 "cells": [
  {
   "cell_type": "markdown",
   "metadata": {},
   "source": [
    "# Single AI crypto concept"
   ]
  },
  {
   "cell_type": "code",
   "execution_count": 1,
   "metadata": {},
   "outputs": [],
   "source": [
    "from xdata_config import *"
   ]
  },
  {
   "cell_type": "markdown",
   "metadata": {},
   "source": [
    "## 1 - Imports and fonctions"
   ]
  },
  {
   "cell_type": "code",
   "execution_count": 2,
   "metadata": {},
   "outputs": [
    {
     "name": "stderr",
     "output_type": "stream",
     "text": [
      "/usr/local/lib/python3.9/dist-packages/pandas/core/arrays/masked.py:59: UserWarning: Pandas requires version '1.3.2' or newer of 'bottleneck' (version '1.2.1' currently installed).\n",
      "  from pandas.core import (\n",
      "2022-11-18 21:31:43.604185: W tensorflow/stream_executor/platform/default/dso_loader.cc:64] Could not load dynamic library 'libcudart.so.11.0'; dlerror: libcudart.so.11.0: cannot open shared object file: No such file or directory\n",
      "2022-11-18 21:31:43.604332: I tensorflow/stream_executor/cuda/cudart_stub.cc:29] Ignore above cudart dlerror if you do not have a GPU set up on your machine.\n",
      "2022-11-18 21:31:44.019872: E tensorflow/stream_executor/cuda/cuda_blas.cc:2981] Unable to register cuBLAS factory: Attempting to register factory for plugin cuBLAS when one has already been registered\n",
      "2022-11-18 21:31:48.596662: W tensorflow/stream_executor/platform/default/dso_loader.cc:64] Could not load dynamic library 'libnvinfer.so.7'; dlerror: libnvinfer.so.7: cannot open shared object file: No such file or directory\n",
      "2022-11-18 21:31:48.597448: W tensorflow/stream_executor/platform/default/dso_loader.cc:64] Could not load dynamic library 'libnvinfer_plugin.so.7'; dlerror: libnvinfer_plugin.so.7: cannot open shared object file: No such file or directory\n",
      "2022-11-18 21:31:48.597531: W tensorflow/compiler/tf2tensorrt/utils/py_utils.cc:38] TF-TRT Warning: Cannot dlopen some TensorRT libraries. If you would like to use Nvidia GPU with TensorRT, please make sure the missing libraries mentioned above are installed properly.\n"
     ]
    }
   ],
   "source": [
    "from functions_module import *"
   ]
  },
  {
   "cell_type": "code",
   "execution_count": 3,
   "metadata": {},
   "outputs": [],
   "source": [
    "import tensorflow as tf\n",
    "from keras.models import Sequential\n",
    "from keras.layers import Dense\n",
    "from keras.layers import Dropout\n",
    "from keras.constraints import MaxNorm\n",
    "from keras.optimizers import SGD\n",
    "from keras.callbacks import EarlyStopping, ModelCheckpoint\n",
    "from keras.models import Sequential\n",
    "from keras.layers import Dense \n",
    "from keras.models import load_model"
   ]
  },
  {
   "cell_type": "code",
   "execution_count": 4,
   "metadata": {},
   "outputs": [
    {
     "data": {
      "text/html": [
       "<div>\n",
       "<style scoped>\n",
       "    .dataframe tbody tr th:only-of-type {\n",
       "        vertical-align: middle;\n",
       "    }\n",
       "\n",
       "    .dataframe tbody tr th {\n",
       "        vertical-align: top;\n",
       "    }\n",
       "\n",
       "    .dataframe thead th {\n",
       "        text-align: right;\n",
       "    }\n",
       "</style>\n",
       "<table border=\"1\" class=\"dataframe\">\n",
       "  <thead>\n",
       "    <tr style=\"text-align: right;\">\n",
       "      <th></th>\n",
       "      <th>0</th>\n",
       "      <th>Pair</th>\n",
       "      <th>launch_week_stamp</th>\n",
       "      <th>launch_day_stamp</th>\n",
       "      <th>launch_minute</th>\n",
       "    </tr>\n",
       "  </thead>\n",
       "  <tbody>\n",
       "    <tr>\n",
       "      <th>0</th>\n",
       "      <td>BTCUSDT</td>\n",
       "      <td>BTC/USDT</td>\n",
       "      <td>1502668800000</td>\n",
       "      <td>1502928000000</td>\n",
       "      <td>2017-08-17 04:00:00</td>\n",
       "    </tr>\n",
       "    <tr>\n",
       "      <th>1</th>\n",
       "      <td>LUNAUSDT</td>\n",
       "      <td>LUNA/USDT</td>\n",
       "      <td>1597622400000</td>\n",
       "      <td>1597968000000</td>\n",
       "      <td>2020-08-21 10:00:00</td>\n",
       "    </tr>\n",
       "    <tr>\n",
       "      <th>2</th>\n",
       "      <td>ETHUSDT</td>\n",
       "      <td>ETH/USDT</td>\n",
       "      <td>1502668800000</td>\n",
       "      <td>1502928000000</td>\n",
       "      <td>2017-08-17 04:00:00</td>\n",
       "    </tr>\n",
       "    <tr>\n",
       "      <th>3</th>\n",
       "      <td>GMTUSDT</td>\n",
       "      <td>GMT/USDT</td>\n",
       "      <td>1646611200000</td>\n",
       "      <td>1646784000000</td>\n",
       "      <td>2022-03-09 12:00:00</td>\n",
       "    </tr>\n",
       "    <tr>\n",
       "      <th>4</th>\n",
       "      <td>USTUSDT</td>\n",
       "      <td>UST/USDT</td>\n",
       "      <td>1639958400000</td>\n",
       "      <td>1640304000000</td>\n",
       "      <td>2021-12-24 08:00:00</td>\n",
       "    </tr>\n",
       "    <tr>\n",
       "      <th>...</th>\n",
       "      <td>...</td>\n",
       "      <td>...</td>\n",
       "      <td>...</td>\n",
       "      <td>...</td>\n",
       "      <td>...</td>\n",
       "    </tr>\n",
       "    <tr>\n",
       "      <th>106</th>\n",
       "      <td>FIDAUSDT</td>\n",
       "      <td>FIDA/USDT</td>\n",
       "      <td>1632700800000</td>\n",
       "      <td>1632960000000</td>\n",
       "      <td>2021-09-30 12:00:00</td>\n",
       "    </tr>\n",
       "    <tr>\n",
       "      <th>107</th>\n",
       "      <td>XNOUSDT</td>\n",
       "      <td>XNO/USDT</td>\n",
       "      <td>1642982400000</td>\n",
       "      <td>1643328000000</td>\n",
       "      <td>2022-01-28 08:00:00</td>\n",
       "    </tr>\n",
       "    <tr>\n",
       "      <th>108</th>\n",
       "      <td>BTGUSDT</td>\n",
       "      <td>BTG/USDT</td>\n",
       "      <td>1618185600000</td>\n",
       "      <td>1618531200000</td>\n",
       "      <td>2021-04-16 07:00:00</td>\n",
       "    </tr>\n",
       "    <tr>\n",
       "      <th>109</th>\n",
       "      <td>GHSTUSDT</td>\n",
       "      <td>GHST/USDT</td>\n",
       "      <td>1629072000000</td>\n",
       "      <td>1629417600000</td>\n",
       "      <td>2021-08-20 10:00:00</td>\n",
       "    </tr>\n",
       "    <tr>\n",
       "      <th>110</th>\n",
       "      <td>EPSUSDT</td>\n",
       "      <td>EPS/USDT</td>\n",
       "      <td>1616976000000</td>\n",
       "      <td>1617321600000</td>\n",
       "      <td>2021-04-02 09:00:00</td>\n",
       "    </tr>\n",
       "  </tbody>\n",
       "</table>\n",
       "<p>111 rows × 5 columns</p>\n",
       "</div>"
      ],
      "text/plain": [
       "            0       Pair  launch_week_stamp  launch_day_stamp  \\\n",
       "0     BTCUSDT   BTC/USDT      1502668800000     1502928000000   \n",
       "1    LUNAUSDT  LUNA/USDT      1597622400000     1597968000000   \n",
       "2     ETHUSDT   ETH/USDT      1502668800000     1502928000000   \n",
       "3     GMTUSDT   GMT/USDT      1646611200000     1646784000000   \n",
       "4     USTUSDT   UST/USDT      1639958400000     1640304000000   \n",
       "..        ...        ...                ...               ...   \n",
       "106  FIDAUSDT  FIDA/USDT      1632700800000     1632960000000   \n",
       "107   XNOUSDT   XNO/USDT      1642982400000     1643328000000   \n",
       "108   BTGUSDT   BTG/USDT      1618185600000     1618531200000   \n",
       "109  GHSTUSDT  GHST/USDT      1629072000000     1629417600000   \n",
       "110   EPSUSDT   EPS/USDT      1616976000000     1617321600000   \n",
       "\n",
       "           launch_minute  \n",
       "0    2017-08-17 04:00:00  \n",
       "1    2020-08-21 10:00:00  \n",
       "2    2017-08-17 04:00:00  \n",
       "3    2022-03-09 12:00:00  \n",
       "4    2021-12-24 08:00:00  \n",
       "..                   ...  \n",
       "106  2021-09-30 12:00:00  \n",
       "107  2022-01-28 08:00:00  \n",
       "108  2021-04-16 07:00:00  \n",
       "109  2021-08-20 10:00:00  \n",
       "110  2021-04-02 09:00:00  \n",
       "\n",
       "[111 rows x 5 columns]"
      ]
     },
     "execution_count": 4,
     "metadata": {},
     "output_type": "execute_result"
    }
   ],
   "source": [
    "# chking import\n",
    "MetaData"
   ]
  },
  {
   "cell_type": "code",
   "execution_count": 13,
   "metadata": {},
   "outputs": [],
   "source": [
    "def One_pair_AI_Gen(pair=\"ETH/USDT\"):\n",
    "    ResJS={}\n",
    "    price_volatility_15m=(100*(df_list15m[pair][\"high\"]-df_list15m[pair][\"low\"])/df_list15m[pair][\"high\"]).mean()\n",
    "    print(price_volatility_15m)\n",
    "    df=mini_expand3(pair=pair,i=0,j=len(df_list1m[pair]),window=WINDOW_SIZE,metadata=MetaData,buy_pourcent=max(price_volatility_15m*0.6,BUY_PERCENT),sell_pourcent=SELL_PERCENT)\n",
    "    print(\"df original shape \"+str(df.shape))\n",
    "    print(f\"df original shape buy mean : {df.buy.mean()*100}\")\n",
    "    df=df.reset_index()\n",
    "    try:df.pop(\"num_index\")\n",
    "    except: pass\n",
    "    try:df.pop(\"index\")\n",
    "    except: pass\n",
    "    try:df.pop(\"date\")\n",
    "    except: pass\n",
    "    df=data_shufler(df)            \n",
    "    #df=data_chooser(df,weight=50,row_numbers=df.buy.sum()*2)\n",
    "    df=data_chooser50(df,row_numbers=500000)\n",
    "    gc.collect()\n",
    "    df=data_cleanup(df)\n",
    "    df=df.dropna()\n",
    "    print(\"df choosen data shape\"+str(df.shape))\n",
    "    print(f\"pair: {(df.shape[0]/2)==df.buy.sum()}\")\n",
    "    dt=df.to_numpy(dtype=np.float32)\n",
    "    #dt=df.to_numpy()\n",
    "    dt=np.nan_to_num(dt,nan=0)\n",
    "    #dt=dt.astype(np.float32)\n",
    "    dt=np.nan_to_num(dt, neginf=0) \n",
    "    dt=np.nan_to_num(dt, posinf=0) \n",
    "\n",
    "    ## normalisation\n",
    "    index_20percent= int(0.2*len(dt[:,0]))\n",
    "    print(index_20percent)\n",
    "    if True:\n",
    "        if True:\n",
    "        #if True:\n",
    "            print(\"normalizing ...\")\n",
    "            mean = dt[index_20percent:, 0:-1].mean(axis=0)\n",
    "            std = dt[index_20percent:, 0:-1].std(axis=0)\n",
    "\n",
    "\n",
    "\n",
    "            dt[index_20percent:, 0:-1] -= mean \n",
    "            dt[index_20percent:, 0:-1] /= std\n",
    "\n",
    "            dt[:index_20percent, :-1] -=mean\n",
    "            dt[:index_20percent, :-1] /= std\n",
    "            FIRST_NORM_FLAG=False\n",
    "            ######################### SAVIN NORM ################\n",
    "            try:\n",
    "                Normalization={\"mean\":mean.tolist(),\"std\":std.tolist()}\n",
    "                with open(f'{DATA_DIR}/{pair.replace(\"/\", \"-\")}-tp{int(BUY_PERCENT*100)}_w{WINDOW_SIZE}_max{MAX_FORCAST_SIZE}min_Norm_v{VERSION}.json', 'w+') as fp:\n",
    "                            json.dump(Normalization, fp,  indent=4)\n",
    "                            print(fp.name)\n",
    "            except Exception as e:\n",
    "                print(\"error Normalization in juppiter\")\n",
    "                print(e)\n",
    "        else:print(\"already normalized\")\n",
    "        \n",
    "    dt=np.nan_to_num(dt,nan=0)\n",
    "    dt=np.nan_to_num(dt, neginf=0) \n",
    "    dt=np.nan_to_num(dt, posinf=0) \n",
    "    dt=dt.astype(np.float32)\n",
    "    ## Model\n",
    "    IN_DIM=dt.shape[1]-1\n",
    "    model = Sequential()\n",
    "    model.add(Dense(int(250),input_dim=IN_DIM,activation='relu')) #( 100=>66.23)\n",
    "    # resultus withe 250 d0.3 50 d 20 d 8 = 65.6% vs  65.49 no droppout vs 65.78 d0.5 vs 65.68 d0.4 # 65.48 # one dropout of   0.5 = 66.11   #tanh 66.33 accuracy #softmax 66.12 #softplus 66.5 # sigmoid 66.21 / \n",
    "    model.add(Dropout(0.2))\n",
    "    model.add(Dense(int(20),activation='relu')) # best softplus 66.26(69) vs relu 66.65(70)  / -20 => 66.25 /250 ->65.78\n",
    "    #model2.add(Dropout(0.1)) #5=> 66.00  66.21 vs no dopout 66.28\n",
    "    #model2.add(Dense(int(20),activation='relu')) # disabled 6.24\n",
    "    model.add(Dense(int(50),activation='relu')) # -4 -> -> 66.24\n",
    "    model.add(Dense(1,activation='sigmoid'))\n",
    "    print(model.summary())\n",
    "    model.compile(loss='binary_crossentropy',optimizer='adam',metrics=['accuracy'])\n",
    "    callbacks_a = ModelCheckpoint(filepath =f'{DATA_DIR}/{pair.replace(\"/\", \"-\")}-tp{int(BUY_PERCENT*100)}_w{WINDOW_SIZE}_max{MAX_FORCAST_SIZE}min_Model_v{VERSION}.hdf5',monitor ='val_accuracy',save_best_only = True, save_weights = True)\n",
    "    callbacks_b = EarlyStopping(monitor ='val_accuracy',mode='auto',patience=15,verbose=1)\n",
    "    history = model.fit(dt[index_20percent:, 0:-1],\n",
    "                    dt[index_20percent:,-1],\n",
    "                    validation_data=(dt[:index_20percent, :-1],dt[:index_20percent,-1]),\n",
    "                    epochs=6000,\n",
    "                    batch_size=256*10,\n",
    "                    callbacks=[callbacks_a,callbacks_b])\n",
    "\n",
    "    print('##########################################################################')\n",
    "    print(MODEL_FILE.replace(\"/UltimeTradingBot/Data/\", \"/UltimeTradingBot/Data/\"+pair.replace(\"/\", \"-\")+\"-\"))\n",
    "    print(f\"------val_accuracy-----> {'{0:.4g}'.format(max(history.history['val_accuracy'])*100)} | {'{0:.4g}'.format(max(history.history['accuracy'])*100)} <----------accuracy----------\")\n",
    "    ResJS[pair]='{0:.4g}'.format(max(history.history['val_accuracy'])*100)\n",
    "    return( model , ResJS)\n",
    "    #94%"
   ]
  },
  {
   "cell_type": "code",
   "execution_count": 14,
   "metadata": {},
   "outputs": [],
   "source": [
    "def NormalDataTest(pair=\"ETH/USDT\"):\n",
    "    price_volatility_15m=(100*(df_list15m[pair][\"high\"]-df_list15m[pair][\"low\"])/df_list15m[pair][\"high\"]).mean()\n",
    "    print(price_volatility_15m)\n",
    "    df=mini_expand3(pair=pair,i=0,j=len(df_list1m[pair]),window=WINDOW_SIZE,metadata=MetaData,buy_pourcent=max(price_volatility_15m*0.6,BUY_PERCENT),sell_pourcent=SELL_PERCENT)\n",
    "    print(\"df original shape \"+str(df.shape))\n",
    "    print(f\"df original shape buy mean : {df.buy.mean()*100}\")\n",
    "    df=df.reset_index()\n",
    "    try:df.pop(\"num_index\")\n",
    "    except: pass\n",
    "    try:df.pop(\"index\")\n",
    "    except: pass\n",
    "    try:df.pop(\"date\")\n",
    "    except: pass\n",
    "    # df=data_shufler(df)            \n",
    "    # #df=data_chooser(df,weight=50,row_numbers=df.buy.sum()*2)\n",
    "    # df=data_chooser50(df,row_numbers=500000)\n",
    "    # gc.collect()\n",
    "    df=data_cleanup(df)\n",
    "    df=df.dropna()\n",
    "    print(\"df choosen data shape\"+str(df.shape))\n",
    "    print(f\"pair: {(df.shape[0]/2)==df.buy.sum()}\")\n",
    "    dt=df.to_numpy(dtype=np.float32)\n",
    "    #dt=df.to_numpy()\n",
    "    dt=np.nan_to_num(dt,nan=0)\n",
    "    #dt=dt.astype(np.float32)\n",
    "    dt=np.nan_to_num(dt, neginf=0) \n",
    "    dt=np.nan_to_num(dt, posinf=0) \n",
    "\n",
    "    ## normalisation\n",
    "    #index_20percent= int(0.2*len(dt[:,0]))\n",
    "    #print(index_20percent)\n",
    "    Y=dt[:,-1].copy()\n",
    "    dt[:,:-1]=normalize(dt[:,:-1],f'{DATA_DIR}/{pair.replace(\"/\", \"-\")}-tp{int(BUY_PERCENT*100)}_w{WINDOW_SIZE}_max{MAX_FORCAST_SIZE}min_Norm_v{VERSION}.json')\n",
    "    dt=np.nan_to_num(dt,nan=0)\n",
    "    dt=np.nan_to_num(dt, neginf=0) \n",
    "    dt=np.nan_to_num(dt, posinf=0) \n",
    "    dt=dt.astype(np.float32)\n",
    "    ## Model\n",
    "    return dt\n",
    "    #94%"
   ]
  },
  {
   "cell_type": "code",
   "execution_count": 15,
   "metadata": {},
   "outputs": [
    {
     "data": {
      "text/plain": [
       "'/UltimeTradingBot/Data/Multi/Min/EPS-USDT-tp77_w30_max20min_Norm_v1.json'"
      ]
     },
     "execution_count": 15,
     "metadata": {},
     "output_type": "execute_result"
    }
   ],
   "source": [
    "f'{DATA_DIR}/{pair.replace(\"/\", \"-\")}-tp{int(BUY_PERCENT*100)}_w{WINDOW_SIZE}_max{MAX_FORCAST_SIZE}min_Norm_v{VERSION}.json'"
   ]
  },
  {
   "cell_type": "code",
   "execution_count": 16,
   "metadata": {},
   "outputs": [
    {
     "data": {
      "text/plain": [
       "'/UltimeTradingBot/Data/Multi/Min/EPS-USDT-tp77_w30_max20min_Model_v1.hdf5'"
      ]
     },
     "execution_count": 16,
     "metadata": {},
     "output_type": "execute_result"
    }
   ],
   "source": [
    "f'{DATA_DIR}/{pair.replace(\"/\", \"-\")}-tp{int(BUY_PERCENT*100)}_w{WINDOW_SIZE}_max{MAX_FORCAST_SIZE}min_Model_v{VERSION}.hdf5'"
   ]
  },
  {
   "cell_type": "markdown",
   "metadata": {},
   "source": [
    "## 2- Garbage Test"
   ]
  },
  {
   "cell_type": "code",
   "execution_count": 34,
   "metadata": {},
   "outputs": [],
   "source": [
    "pair=\"GMT/USDT\"\n",
    "model = load_model(MODEL_FILE.replace(\"/UltimeTradingBot/Data/\", \"/UltimeTradingBot/Data/\"+pair.replace(\"/\", \"-\")+\"-\"))"
   ]
  },
  {
   "cell_type": "code",
   "execution_count": 19,
   "metadata": {},
   "outputs": [
    {
     "name": "stdout",
     "output_type": "stream",
     "text": [
      "2.173600867703185\n"
     ]
    }
   ],
   "source": [
    "pair=\"GMT/USDT\"\n",
    "price_volatility_15m=(100*(df_list15m[pair][\"high\"]-df_list15m[pair][\"low\"])/df_list15m[pair][\"high\"]).mean()\n",
    "print(price_volatility_15m)"
   ]
  },
  {
   "cell_type": "code",
   "execution_count": 20,
   "metadata": {},
   "outputs": [
    {
     "ename": "NameError",
     "evalue": "name 'df' is not defined",
     "output_type": "error",
     "traceback": [
      "\u001b[0;31m---------------------------------------------------------------------------\u001b[0m",
      "\u001b[0;31mNameError\u001b[0m                                 Traceback (most recent call last)",
      "Cell \u001b[0;32mIn [20], line 1\u001b[0m\n\u001b[0;32m----> 1\u001b[0m \u001b[39mprint\u001b[39m(\u001b[39m\"\u001b[39m\u001b[39mdf choosen data shape\u001b[39m\u001b[39m\"\u001b[39m\u001b[39m+\u001b[39m\u001b[39mstr\u001b[39m(df\u001b[39m.\u001b[39mshape))\n\u001b[1;32m      2\u001b[0m (df\u001b[39m.\u001b[39mshape[\u001b[39m0\u001b[39m]\u001b[39m/\u001b[39m\u001b[39m2\u001b[39m)\u001b[39m==\u001b[39mdf\u001b[39m.\u001b[39mbuy\u001b[39m.\u001b[39msum()\n",
      "\u001b[0;31mNameError\u001b[0m: name 'df' is not defined"
     ]
    }
   ],
   "source": [
    "print(\"df choosen data shape\"+str(df.shape))\n",
    "(df.shape[0]/2)==df.buy.sum()"
   ]
  },
  {
   "cell_type": "code",
   "execution_count": null,
   "metadata": {},
   "outputs": [],
   "source": [
    "df.buy.mean()"
   ]
  },
  {
   "cell_type": "code",
   "execution_count": null,
   "metadata": {},
   "outputs": [],
   "source": [
    "dt=df.to_numpy(dtype=np.float32)\n",
    "#dt=df.to_numpy()\n",
    "dt=np.nan_to_num(dt,nan=0)\n",
    "#dt=dt.astype(np.float32)\n",
    "dt=np.nan_to_num(dt, neginf=0) \n",
    "dt=np.nan_to_num(dt, posinf=0) "
   ]
  },
  {
   "cell_type": "code",
   "execution_count": null,
   "metadata": {},
   "outputs": [],
   "source": [
    "dt.shape"
   ]
  },
  {
   "cell_type": "markdown",
   "metadata": {},
   "source": [
    "## 3- Tests and evaluations"
   ]
  },
  {
   "cell_type": "code",
   "execution_count": 22,
   "metadata": {},
   "outputs": [
    {
     "name": "stdout",
     "output_type": "stream",
     "text": [
      "2.173600867703185\n",
      "---buy_min_up--- Buy percent: 1.304160520621911%\n",
      "---buy_only--- no b\n",
      "df original shape (58441, 1207)\n",
      "df original shape buy mean : 0.8196300542427405\n",
      "df choosen data shape(58441, 1207)\n",
      "pair: False\n"
     ]
    }
   ],
   "source": [
    "dt=NormalDataTest(pair=\"GMT/USDT\")\n"
   ]
  },
  {
   "cell_type": "code",
   "execution_count": 33,
   "metadata": {},
   "outputs": [
    {
     "data": {
      "text/plain": [
       "'GMT/USDT'"
      ]
     },
     "execution_count": 33,
     "metadata": {},
     "output_type": "execute_result"
    }
   ],
   "source": [
    "pair"
   ]
  },
  {
   "cell_type": "code",
   "execution_count": 24,
   "metadata": {},
   "outputs": [
    {
     "data": {
      "text/plain": [
       "array([[-2.5207617e+00,  4.5034808e-01,  3.0302450e-02, ...,\n",
       "        -1.6218209e+00,  3.4028235e+38,  0.0000000e+00],\n",
       "       [-2.5220962e+00, -4.0063205e-01, -9.6656150e-01, ...,\n",
       "        -1.5657399e+00,  3.4028235e+38,  0.0000000e+00],\n",
       "       [-2.5228846e+00,  8.1727445e-02, -5.0188011e-01, ...,\n",
       "        -1.5096588e+00,  3.4028235e+38,  0.0000000e+00],\n",
       "       ...,\n",
       "       [-2.6794498e+00,  3.9467573e-01, -3.3738601e-01, ...,\n",
       "         1.6308796e+00,  3.4028235e+38,  1.0000000e+00],\n",
       "       [-2.6790342e+00,  7.3128635e-01,  4.0394530e-01, ...,\n",
       "         1.6869607e+00,  3.4028235e+38,  0.0000000e+00],\n",
       "       [-2.6787329e+00,  4.5522383e-01,  2.7815175e-01, ...,\n",
       "        -1.6218209e+00,  3.4028235e+38,  0.0000000e+00]], dtype=float32)"
      ]
     },
     "execution_count": 24,
     "metadata": {},
     "output_type": "execute_result"
    }
   ],
   "source": [
    "dt"
   ]
  },
  {
   "cell_type": "code",
   "execution_count": null,
   "metadata": {},
   "outputs": [],
   "source": [
    "index_20percent= int(0.2*len(dt[:,0]))\n",
    "print(index_20percent)\n"
   ]
  },
  {
   "cell_type": "code",
   "execution_count": null,
   "metadata": {},
   "outputs": [],
   "source": [
    "buy_function=buy_min_up\n",
    "df=mini_expand3(pair=pair,i=0,j=len(df_list1m[pair]),window=WINDOW_SIZE,metadata=MetaData,buy_pourcent=BUY_PERCENT,sell_pourcent=SELL_PERCENT)\n",
    "print(\"df original shape \"+str(df.shape))\n",
    "print(f\"df original shape buy mean : {df.buy.mean()*100}\")\n",
    "df=df.reset_index()\n",
    "try:df.pop(\"num_index\")\n",
    "except: pass\n",
    "try:df.pop(\"index\")\n",
    "except: pass\n",
    "try:df.pop(\"date\")\n",
    "except: pass\n"
   ]
  },
  {
   "cell_type": "code",
   "execution_count": null,
   "metadata": {},
   "outputs": [],
   "source": [
    "pair"
   ]
  },
  {
   "cell_type": "code",
   "execution_count": null,
   "metadata": {},
   "outputs": [],
   "source": [
    "df"
   ]
  },
  {
   "cell_type": "code",
   "execution_count": null,
   "metadata": {},
   "outputs": [],
   "source": [
    "df.index[100]"
   ]
  },
  {
   "cell_type": "code",
   "execution_count": null,
   "metadata": {},
   "outputs": [],
   "source": [
    "import matplotlib.pyplot as plt\n",
    "\n",
    "i_start=22500\n",
    "i_end=i_start+1000\n",
    "x = np.linspace(0, 10, 500)\n",
    "dashes = [10, 5, 100, 5]  # 10 points on, 5 off, 100 on, 5 off\n",
    "\n",
    "fig, ax = plt.subplots()\n",
    "line1, = ax.plot(df.index[i_start:i_end], df.price[i_start:i_end], '-', linewidth=1,\n",
    "                 label='Dashes set retroactively')\n",
    "line1.set_dashes(dashes)\n",
    "plt.plot(df[i_start:i_end][df.buy[i_start:i_end]==1].index, df[i_start:i_end][df.buy[i_start:i_end]==1].price, 'ro')\n",
    "\n",
    "\n",
    "ax.legend(loc='lower right')\n",
    "plt.show()"
   ]
  },
  {
   "cell_type": "code",
   "execution_count": null,
   "metadata": {},
   "outputs": [],
   "source": []
  },
  {
   "cell_type": "code",
   "execution_count": null,
   "metadata": {},
   "outputs": [],
   "source": []
  },
  {
   "cell_type": "code",
   "execution_count": 30,
   "metadata": {},
   "outputs": [
    {
     "data": {
      "image/png": "[encoded data removed]",
      "text/plain": [
       "<Figure size 640x480 with 1 Axes>"
      ]
     },
     "metadata": {},
     "output_type": "display_data"
    }
   ],
   "source": [
    "import matplotlib.pyplot as plt\n",
    "\n",
    "i_start=35000\n",
    "i_end=i_start+1000\n",
    "x = np.linspace(0, 10, 500)\n",
    "dashes = [10, 5, 100, 5]  # 10 points on, 5 off, 100 on, 5 off\n",
    "\n",
    "fig, ax = plt.subplots()\n",
    "line1, = ax.plot(np.arange(i_start,i_end), dt[i_start:i_end,0], '-', linewidth=1,\n",
    "                 label='Price')\n",
    "# line1.set_dashes(dashes)\n",
    "plt.plot(np.arange(i_start,i_end)[dt[i_start:i_end,-1]==1], dt[i_start:i_end,0][dt[i_start:i_end,-1]==1], 'ro')\n",
    "\n",
    "\n",
    "ax.legend(loc='lower right')\n",
    "plt.show()"
   ]
  },
  {
   "cell_type": "code",
   "execution_count": 31,
   "metadata": {},
   "outputs": [],
   "source": [
    "index_20percent=dt.shape[0]"
   ]
  },
  {
   "cell_type": "code",
   "execution_count": 32,
   "metadata": {},
   "outputs": [
    {
     "name": "stdout",
     "output_type": "stream",
     "text": [
      "1812/1812 [==============================] - 8s 4ms/step - loss: 0.0000e+00 - accuracy: 1.0000\n",
      "15/15 [==============================] - 0s 3ms/step - loss: inf - accuracy: 0.0000e+00\n",
      "1827/1827 [==============================] - 6s 3ms/step - loss: inf - accuracy: 0.9918\n",
      "1827/1827 [==============================] - 6s 3ms/step - loss: inf - accuracy: 0.9918\n",
      "class 0: 100.00 %\n",
      "class 1: 0.00 %\n",
      "FULL class : 99.18 %\n",
      "FULL class with all data: 99.18 %\n"
     ]
    }
   ],
   "source": [
    "\n",
    "XVALIDATION= dt[:index_20percent, :-1]\n",
    "YVALIDATION= dt[:index_20percent,-1]\n",
    "XTRAIN= dt[index_20percent:, 0:-1]\n",
    "YTRAIN= dt[index_20percent:,-1]\n",
    "\n",
    "\n",
    "XX0=XVALIDATION[YVALIDATION==0]\n",
    "YY0=YVALIDATION[YVALIDATION==0]\n",
    "\n",
    "INDEX_SEP=int(XX0.shape[0]/4)\n",
    "XX0Train=XX0[INDEX_SEP:]\n",
    "YY0Train=YY0[INDEX_SEP:]\n",
    "\n",
    "XX0Val=XX0[:INDEX_SEP]\n",
    "YY0Val=YY0[:INDEX_SEP]\n",
    "\n",
    "XX1=XVALIDATION[YVALIDATION==1]\n",
    "YY1=YVALIDATION[YVALIDATION==1]\n",
    "\n",
    "INDEX_SEP=int(XX1.shape[0]/4)\n",
    "XX1Train=XX1[INDEX_SEP:]\n",
    "YY1Train=YY1[INDEX_SEP:]\n",
    "\n",
    "XX1Val=XX1[:INDEX_SEP]\n",
    "YY1Val=YY1[:INDEX_SEP]\n",
    "\n",
    "\n",
    "accuracy0 = model.evaluate(XX0, YY0)\n",
    "accuracy1 = model.evaluate(XX1, YY1)\n",
    "accuracy = model.evaluate(XVALIDATION, YVALIDATION)\n",
    "maxaccuracy = model.evaluate(dt[:,:-1], dt[:,-1])\n",
    "\n",
    "print(f\"class 0: {format(accuracy0[1]*100,'0.2f')} %\")\n",
    "print(f\"class 1: {format(accuracy1[1]*100,'0.2f')} %\")\n",
    "print(f\"FULL class : {format(accuracy[1]*100,'0.2f')} %\")\n",
    "print(f\"FULL class with all data: {format(maxaccuracy[1]*100,'0.2f')} %\")\n",
    "\n",
    "#accuracy = model.evaluate(dt[:,0:-1], dt[:,-1])\n"
   ]
  },
  {
   "cell_type": "code",
   "execution_count": null,
   "metadata": {},
   "outputs": [],
   "source": [
    "# dftest=mini_expand3(pair=pair,i=0,j=len(df_list1m[pair]),window=WINDOW_SIZE,metadata=MetaData,buy_pourcent=0.4,sell_pourcent=SELL_PERCENT)\n",
    "dftest=df\n",
    "print(\"df original shape \"+str(dftest.shape))\n",
    "print(f\"df original shape buy mean : {dftest.buy.mean()*100}\")\n",
    "dftest=dftest.reset_index()\n",
    "try:dftest.pop(\"num_index\")\n",
    "except: pass\n",
    "try:dftest.pop(\"index\")\n",
    "except: pass\n",
    "try:dftest.pop(\"date\")\n",
    "except: pass\n",
    "dftest=data_shufler(dftest)            \n",
    "gc.collect()\n",
    "dftest=data_cleanup(dftest)\n",
    "dftest=dftest.dropna()\n",
    "df.pop(\"price\");print(\"we work with no price\")\n",
    "df.pop(\"BTC_price\")"
   ]
  },
  {
   "cell_type": "code",
   "execution_count": null,
   "metadata": {},
   "outputs": [],
   "source": [
    "dftest.buy.mean()"
   ]
  },
  {
   "cell_type": "code",
   "execution_count": 35,
   "metadata": {},
   "outputs": [],
   "source": [
    "#dtt=dftest.to_numpy(dtype=np.float32)\n",
    "dtt=dt\n",
    "#dt=df.to_numpy()\n",
    "dtt=np.nan_to_num(dtt,nan=0)\n",
    "#dt=dt.astype(np.float32)\n",
    "dtt=np.nan_to_num(dtt, neginf=0) \n",
    "dtt=np.nan_to_num(dtt, posinf=0) "
   ]
  },
  {
   "cell_type": "markdown",
   "metadata": {},
   "source": [
    "### stats plus"
   ]
  },
  {
   "cell_type": "code",
   "execution_count": 36,
   "metadata": {},
   "outputs": [
    {
     "name": "stdout",
     "output_type": "stream",
     "text": [
      "1827/1827 [==============================] - 7s 4ms/step\n"
     ]
    }
   ],
   "source": [
    "prediction2=(model.predict( dtt[:, 0:-1])).round()"
   ]
  },
  {
   "cell_type": "code",
   "execution_count": 37,
   "metadata": {},
   "outputs": [],
   "source": [
    "ixx=dtt.shape[0]"
   ]
  },
  {
   "cell_type": "code",
   "execution_count": 38,
   "metadata": {},
   "outputs": [],
   "source": [
    "False_prediction=dtt[:ixx,-1][(prediction2[:ixx].transpose()[0]!=dtt[:ixx])]\n",
    "True_prediction=dtt[:ixx,-1][(prediction2[:ixx].transpose()[0]==dtt[:ixx])]"
   ]
  },
  {
   "cell_type": "code",
   "execution_count": 45,
   "metadata": {},
   "outputs": [
    {
     "data": {
      "text/plain": [
       "0.8196300826966763"
      ]
     },
     "execution_count": 45,
     "metadata": {},
     "output_type": "execute_result"
    }
   ],
   "source": [
    "dtt[:,-1].mean()*100"
   ]
  },
  {
   "cell_type": "code",
   "execution_count": 44,
   "metadata": {},
   "outputs": [
    {
     "name": "stdout",
     "output_type": "stream",
     "text": [
      "Prediction mean :0.0 %#### the colose to 50 the better\n",
      "False prediction class 0 :99.18036994575726 %#### it mean that x of the 0 class are wrong the buyed witch lead the losses\n",
      "False prediction class 1 :0.8196300542427405 %#### we don't buy x % of the correct chanses\n",
      "True prediction class 0 :0.0 %#### it mean that 40 % of class 0 are predicted correctly\n",
      "True prediction class 1 :0.0 %#### the only buying correct of all\n",
      "successful buy pourcent of unsuccessfull: 0.0  %\n"
     ]
    }
   ],
   "source": [
    "fp0=False_prediction[False_prediction==0].shape[0]*100/ixx #### it mean that 11.73 of the 0 class are wrong the buyed witch lead the losses\n",
    "print( f\"Prediction mean :{prediction2.mean()*100} %\"+'#### the colose to 50 the better')\n",
    "print( f\"False prediction class 0 :{fp0} %\"+'#### it mean that x of the 0 class are wrong the buyed witch lead the losses')\n",
    "fp1=False_prediction[False_prediction==1].shape[0]*100/ixx   #### we don't buy x % of the correct chanses\n",
    "print( f\"False prediction class 1 :{fp1} %\"+'#### we don\\'t buy x % of the correct chanses')\n",
    "trp0=True_prediction[True_prediction==0].shape[0]*100/ixx   #### it mean that 40 % of class 0 are predicted correctly\n",
    "trp1=True_prediction[True_prediction==1].shape[0]*100/ixx     #### the only buying correct of all\n",
    "print( f\"True prediction class 0 :{trp0} %\"+'#### it mean that 40 % of class 0 are predicted correctly')\n",
    "print( f\"True prediction class 1 :{trp1} %\"+'#### the only buying correct of all')\n",
    "print(f\"successful buy pourcent of unsuccessfull: {100*trp1/(trp1+fp1)}  %\")\n"
   ]
  },
  {
   "cell_type": "code",
   "execution_count": 42,
   "metadata": {},
   "outputs": [],
   "source": [
    "Y=dtt[:,-1]"
   ]
  },
  {
   "cell_type": "code",
   "execution_count": 43,
   "metadata": {},
   "outputs": [
    {
     "name": "stdout",
     "output_type": "stream",
     "text": [
      "1827/1827 [==============================] - 8s 4ms/step - loss: inf - accuracy: 0.9918\n"
     ]
    },
    {
     "data": {
      "text/plain": [
       "[inf, 0.9918037056922913]"
      ]
     },
     "execution_count": 43,
     "metadata": {},
     "output_type": "execute_result"
    }
   ],
   "source": [
    "model.evaluate(dt[:index_20percent,:-1], Y[:index_20percent]) #3-> 66.76 / 4 -> 65.75\n"
   ]
  }
 ],
 "metadata": {
  "kernelspec": {
   "display_name": "Python 3",
   "language": "python",
   "name": "python3"
  },
  "language_info": {
   "codemirror_mode": {
    "name": "ipython",
    "version": 3
   },
   "file_extension": ".py",
   "mimetype": "text/x-python",
   "name": "python",
   "nbconvert_exporter": "python",
   "pygments_lexer": "ipython3",
   "version": "3.9.2 (default, Feb 28 2021, 17:03:44) \n[GCC 10.2.1 20210110]"
  },
  "orig_nbformat": 4,
  "vscode": {
   "interpreter": {
    "hash": "767d51c1340bd893661ea55ea3124f6de3c7a262a8b4abca0554b478b1e2ff90"
   }
  }
 },
 "nbformat": 4,
 "nbformat_minor": 2
}
