{
 "cells": [
  {
   "cell_type": "markdown",
   "metadata": {},
   "source": [
    "# Single AI crypto concept"
   ]
  },
  {
   "cell_type": "code",
   "execution_count": 1,
   "metadata": {},
   "outputs": [],
   "source": [
    "from xdata_config import *"
   ]
  },
  {
   "cell_type": "markdown",
   "metadata": {},
   "source": [
    "## 1 - Imports and fonctions"
   ]
  },
  {
   "cell_type": "code",
   "execution_count": 2,
   "metadata": {},
   "outputs": [
    {
     "name": "stderr",
     "output_type": "stream",
     "text": [
      "/usr/local/lib/python3.9/dist-packages/pandas/core/arrays/masked.py:59: UserWarning: Pandas requires version '1.3.2' or newer of 'bottleneck' (version '1.2.1' currently installed).\n",
      "  from pandas.core import (\n",
      "2023-01-03 01:30:51.045432: W tensorflow/stream_executor/platform/default/dso_loader.cc:64] Could not load dynamic library 'libcudart.so.11.0'; dlerror: libcudart.so.11.0: cannot open shared object file: No such file or directory\n",
      "2023-01-03 01:30:51.045499: I tensorflow/stream_executor/cuda/cudart_stub.cc:29] Ignore above cudart dlerror if you do not have a GPU set up on your machine.\n",
      "2023-01-03 01:30:51.120318: E tensorflow/stream_executor/cuda/cuda_blas.cc:2981] Unable to register cuBLAS factory: Attempting to register factory for plugin cuBLAS when one has already been registered\n",
      "2023-01-03 01:30:52.574011: W tensorflow/stream_executor/platform/default/dso_loader.cc:64] Could not load dynamic library 'libnvinfer.so.7'; dlerror: libnvinfer.so.7: cannot open shared object file: No such file or directory\n",
      "2023-01-03 01:30:52.574177: W tensorflow/stream_executor/platform/default/dso_loader.cc:64] Could not load dynamic library 'libnvinfer_plugin.so.7'; dlerror: libnvinfer_plugin.so.7: cannot open shared object file: No such file or directory\n",
      "2023-01-03 01:30:52.574199: W tensorflow/compiler/tf2tensorrt/utils/py_utils.cc:38] TF-TRT Warning: Cannot dlopen some TensorRT libraries. If you would like to use Nvidia GPU with TensorRT, please make sure the missing libraries mentioned above are installed properly.\n"
     ]
    }
   ],
   "source": [
    "from functions_module import *"
   ]
  },
  {
   "cell_type": "code",
   "execution_count": 3,
   "metadata": {},
   "outputs": [],
   "source": [
    "import tensorflow as tf\n",
    "from keras.models import Sequential\n",
    "from keras.layers import Dense\n",
    "from keras.layers import Dropout\n",
    "from keras.constraints import MaxNorm\n",
    "from keras.optimizers import SGD\n",
    "from keras.callbacks import EarlyStopping, ModelCheckpoint\n",
    "from keras.models import Sequential\n",
    "from keras.layers import Dense \n",
    "from keras.models import load_model"
   ]
  },
  {
   "cell_type": "code",
   "execution_count": 4,
   "metadata": {},
   "outputs": [
    {
     "data": {
      "text/html": [
       "<div>\n",
       "<style scoped>\n",
       "    .dataframe tbody tr th:only-of-type {\n",
       "        vertical-align: middle;\n",
       "    }\n",
       "\n",
       "    .dataframe tbody tr th {\n",
       "        vertical-align: top;\n",
       "    }\n",
       "\n",
       "    .dataframe thead th {\n",
       "        text-align: right;\n",
       "    }\n",
       "</style>\n",
       "<table border=\"1\" class=\"dataframe\">\n",
       "  <thead>\n",
       "    <tr style=\"text-align: right;\">\n",
       "      <th></th>\n",
       "      <th>0</th>\n",
       "      <th>Pair</th>\n",
       "      <th>launch_week_stamp</th>\n",
       "      <th>launch_day_stamp</th>\n",
       "      <th>launch_minute</th>\n",
       "    </tr>\n",
       "  </thead>\n",
       "  <tbody>\n",
       "    <tr>\n",
       "      <th>0</th>\n",
       "      <td>SNMBUSD</td>\n",
       "      <td>SNM/BUSD</td>\n",
       "      <td>1661126400000</td>\n",
       "      <td>1661472000000</td>\n",
       "      <td>2022-08-26 08:00:00</td>\n",
       "    </tr>\n",
       "    <tr>\n",
       "      <th>1</th>\n",
       "      <td>BTCUSDT</td>\n",
       "      <td>BTC/USDT</td>\n",
       "      <td>1502668800000</td>\n",
       "      <td>1502928000000</td>\n",
       "      <td>2017-08-17 04:00:00</td>\n",
       "    </tr>\n",
       "    <tr>\n",
       "      <th>2</th>\n",
       "      <td>LUNAUSDT</td>\n",
       "      <td>LUNA/USDT</td>\n",
       "      <td>1597622400000</td>\n",
       "      <td>1597968000000</td>\n",
       "      <td>2020-08-21 10:00:00</td>\n",
       "    </tr>\n",
       "    <tr>\n",
       "      <th>3</th>\n",
       "      <td>ETHUSDT</td>\n",
       "      <td>ETH/USDT</td>\n",
       "      <td>1502668800000</td>\n",
       "      <td>1502928000000</td>\n",
       "      <td>2017-08-17 04:00:00</td>\n",
       "    </tr>\n",
       "    <tr>\n",
       "      <th>4</th>\n",
       "      <td>GMTUSDT</td>\n",
       "      <td>GMT/USDT</td>\n",
       "      <td>1646611200000</td>\n",
       "      <td>1646784000000</td>\n",
       "      <td>2022-03-09 12:00:00</td>\n",
       "    </tr>\n",
       "    <tr>\n",
       "      <th>...</th>\n",
       "      <td>...</td>\n",
       "      <td>...</td>\n",
       "      <td>...</td>\n",
       "      <td>...</td>\n",
       "      <td>...</td>\n",
       "    </tr>\n",
       "    <tr>\n",
       "      <th>107</th>\n",
       "      <td>FIDAUSDT</td>\n",
       "      <td>FIDA/USDT</td>\n",
       "      <td>1632700800000</td>\n",
       "      <td>1632960000000</td>\n",
       "      <td>2021-09-30 12:00:00</td>\n",
       "    </tr>\n",
       "    <tr>\n",
       "      <th>108</th>\n",
       "      <td>XNOUSDT</td>\n",
       "      <td>XNO/USDT</td>\n",
       "      <td>1642982400000</td>\n",
       "      <td>1643328000000</td>\n",
       "      <td>2022-01-28 08:00:00</td>\n",
       "    </tr>\n",
       "    <tr>\n",
       "      <th>109</th>\n",
       "      <td>BTGUSDT</td>\n",
       "      <td>BTG/USDT</td>\n",
       "      <td>1618185600000</td>\n",
       "      <td>1618531200000</td>\n",
       "      <td>2021-04-16 07:00:00</td>\n",
       "    </tr>\n",
       "    <tr>\n",
       "      <th>110</th>\n",
       "      <td>GHSTUSDT</td>\n",
       "      <td>GHST/USDT</td>\n",
       "      <td>1629072000000</td>\n",
       "      <td>1629417600000</td>\n",
       "      <td>2021-08-20 10:00:00</td>\n",
       "    </tr>\n",
       "    <tr>\n",
       "      <th>111</th>\n",
       "      <td>EPSUSDT</td>\n",
       "      <td>EPS/USDT</td>\n",
       "      <td>1616976000000</td>\n",
       "      <td>1617321600000</td>\n",
       "      <td>2021-04-02 09:00:00</td>\n",
       "    </tr>\n",
       "  </tbody>\n",
       "</table>\n",
       "<p>112 rows × 5 columns</p>\n",
       "</div>"
      ],
      "text/plain": [
       "            0       Pair  launch_week_stamp  launch_day_stamp  \\\n",
       "0     SNMBUSD   SNM/BUSD      1661126400000     1661472000000   \n",
       "1     BTCUSDT   BTC/USDT      1502668800000     1502928000000   \n",
       "2    LUNAUSDT  LUNA/USDT      1597622400000     1597968000000   \n",
       "3     ETHUSDT   ETH/USDT      1502668800000     1502928000000   \n",
       "4     GMTUSDT   GMT/USDT      1646611200000     1646784000000   \n",
       "..        ...        ...                ...               ...   \n",
       "107  FIDAUSDT  FIDA/USDT      1632700800000     1632960000000   \n",
       "108   XNOUSDT   XNO/USDT      1642982400000     1643328000000   \n",
       "109   BTGUSDT   BTG/USDT      1618185600000     1618531200000   \n",
       "110  GHSTUSDT  GHST/USDT      1629072000000     1629417600000   \n",
       "111   EPSUSDT   EPS/USDT      1616976000000     1617321600000   \n",
       "\n",
       "           launch_minute  \n",
       "0    2022-08-26 08:00:00  \n",
       "1    2017-08-17 04:00:00  \n",
       "2    2020-08-21 10:00:00  \n",
       "3    2017-08-17 04:00:00  \n",
       "4    2022-03-09 12:00:00  \n",
       "..                   ...  \n",
       "107  2021-09-30 12:00:00  \n",
       "108  2022-01-28 08:00:00  \n",
       "109  2021-04-16 07:00:00  \n",
       "110  2021-08-20 10:00:00  \n",
       "111  2021-04-02 09:00:00  \n",
       "\n",
       "[112 rows x 5 columns]"
      ]
     },
     "execution_count": 4,
     "metadata": {},
     "output_type": "execute_result"
    }
   ],
   "source": [
    "# chking import\n",
    "MetaData"
   ]
  },
  {
   "cell_type": "code",
   "execution_count": 5,
   "metadata": {},
   "outputs": [
    {
     "name": "stdout",
     "output_type": "stream",
     "text": [
      "Results dir: /UltimeTradingBot/Data/BUY_UP_CLOSE\n"
     ]
    }
   ],
   "source": [
    "if BUY_MODE==\"BUY_ONLY\":\n",
    "    buy_function=buy_up_only\n",
    "elif BUY_MODE==\"BUY_UP\":\n",
    "    buy_function=buy_up\n",
    "elif  BUY_MODE==\"BUY_DIP\":\n",
    "    buy_function=buy_min_up\n",
    "elif  BUY_MODE==\"AFTER_DEPTH\":\n",
    "    buy_function=buy_after_depth\n",
    "elif  BUY_MODE==\"BUY_UP_CLOSE\":\n",
    "    buy_function=buy_up_close\n",
    "\n",
    "try:\n",
    "    os.mkdir(DATA_DIR, mode = 0o777)\n",
    "except Exception as e:\n",
    "    print(e)\n",
    "print(f\"Results dir: {DATA_DIR}\")\n",
    "\n",
    "\n",
    "def One_pair_AI_Gen(pair=\"ETH/USDT\",row_numbers=500000):\n",
    "    ResJS={}\n",
    "    mfile=f'{DATA_DIR}/{pair.replace(\"/\", \"-\")}-tp{int(BUY_PCT*100)}_w{WINDOW_SIZE}_max{MAX_FORCAST_SIZE}min_Model_v{VERSION}.hdf5'\n",
    "    nfile=f'{DATA_DIR}/{pair.replace(\"/\", \"-\")}-tp{int(BUY_PCT*100)}_w{WINDOW_SIZE}_max{MAX_FORCAST_SIZE}min_Norm_v{VERSION}.json'\n",
    "    print(f\"One_pair_AI_Gen : {pair}\")\n",
    "    price_volatility_15m=round((100*(df_list15m[pair][\"high\"]-df_list15m[pair][\"low\"])/df_list15m[pair][\"high\"]).mean()*0.51,2)\n",
    "    print(f\"price_volatility_15m:{price_volatility_15m}%\")\n",
    "    df=mini_expand4(pair=pair,i=0,j=len(df_list1m[pair]),window=WINDOW_SIZE,metadata=MetaData,BUY_PCT=max(price_volatility_15m,BUY_PCT),SELL_PCT=SELL_PCT,buy_function=buy_function)\n",
    "    print(\"df original shape \"+str(df.shape))\n",
    "    print(f\"df original shape buy mean : {df.buy.mean()*100}\")\n",
    "    df=df.reset_index()\n",
    "    try:df.pop(\"num_index\")\n",
    "    except: pass\n",
    "    try:df.pop(\"index\")\n",
    "    except: pass\n",
    "    try:df.pop(\"date\")\n",
    "    except: pass\n",
    "    df=data_shufler(df)            \n",
    "    #df=data_chooser(df,weight=50,row_numbers=df.buy.sum()*2)\n",
    "    df=data_chooser50(df,row_numbers=row_numbers)\n",
    "    gc.collect()\n",
    "    df=data_cleanup(df)\n",
    "    df=df.dropna()\n",
    "    print(\"df choosen data shape\"+str(df.shape))\n",
    "    print(f\"pair: {(df.shape[0]/2)==df.buy.sum()}\")\n",
    "    dt=df.to_numpy(dtype=np.float32)\n",
    "    #dt=df.to_numpy()\n",
    "    dt=np.nan_to_num(dt,nan=0)\n",
    "    #dt=dt.astype(np.float32)\n",
    "    dt=np.nan_to_num(dt, neginf=0) \n",
    "    dt=np.nan_to_num(dt, posinf=0) \n",
    "\n",
    "    ## normalisation\n",
    "    index_20pct= int(0.2*len(dt[:,0]))\n",
    "    print(index_20pct)\n",
    "    if True:\n",
    "        if True:\n",
    "        #if True:\n",
    "            print(\"normalizing ...\")\n",
    "            mean = dt[index_20pct:, 0:-1].mean(axis=0)\n",
    "            std = dt[index_20pct:, 0:-1].std(axis=0)\n",
    "\n",
    "\n",
    "\n",
    "            dt[index_20pct:, 0:-1] -= mean \n",
    "            dt[index_20pct:, 0:-1] /= std\n",
    "\n",
    "            dt[:index_20pct, :-1] -=mean\n",
    "            dt[:index_20pct, :-1] /= std\n",
    "            FIRST_NORM_FLAG=False\n",
    "            ######################### SAVIN NORM ################\n",
    "            try:\n",
    "                Normalization={\"mean\":mean.tolist(),\"std\":std.tolist()}\n",
    "                with open(nfile, 'w+') as fp:\n",
    "                            json.dump(Normalization, fp,  indent=4)\n",
    "                            print(fp.name)\n",
    "            except Exception as e:\n",
    "                print(\"error Normalization in juppiter\")\n",
    "                print(e)\n",
    "        else:print(\"already normalized\")\n",
    "        \n",
    "    dt=np.nan_to_num(dt,nan=0)\n",
    "    dt=np.nan_to_num(dt, neginf=0) \n",
    "    dt=np.nan_to_num(dt, posinf=0) \n",
    "    dt=dt.astype(np.float32)\n",
    "    ## Model\n",
    "    IN_DIM=dt.shape[1]-1\n",
    "    model = Sequential()\n",
    "    model.add(Dense(int(250),input_dim=IN_DIM,activation='relu')) #( 100=>66.23)\n",
    "    # resultus withe 250 d0.3 50 d 20 d 8 = 65.6% vs  65.49 no droppout vs 65.78 d0.5 vs 65.68 d0.4 # 65.48 # one dropout of   0.5 = 66.11   #tanh 66.33 accuracy #softmax 66.12 #softplus 66.5 # sigmoid 66.21 / \n",
    "    model.add(Dropout(0.2))\n",
    "    model.add(Dense(int(20),activation='relu')) # best softplus 66.26(69) vs relu 66.65(70)  / -20 => 66.25 /250 ->65.78\n",
    "    #model2.add(Dropout(0.1)) #5=> 66.00  66.21 vs no dopout 66.28\n",
    "    #model2.add(Dense(int(20),activation='relu')) # disabled 6.24\n",
    "    model.add(Dense(int(50),activation='relu')) # -4 -> -> 66.24\n",
    "    model.add(Dense(1,activation='sigmoid'))\n",
    "    print(model.summary())\n",
    "    model.compile(loss='binary_crossentropy',optimizer='adam',metrics=['accuracy'])\n",
    "    callbacks_a = ModelCheckpoint(filepath =mfile,monitor ='val_accuracy',save_best_only = True, save_weights = True)\n",
    "    callbacks_b = EarlyStopping(monitor ='val_accuracy',mode='auto',patience=15,verbose=1)\n",
    "    print(\"saving file in: \"+mfile)\n",
    "    history = model.fit(dt[index_20pct:, 0:-1],\n",
    "                    dt[index_20pct:,-1],\n",
    "                    validation_data=(dt[:index_20pct, :-1],dt[:index_20pct,-1]),\n",
    "                    epochs=6000,\n",
    "                    batch_size=256*10,\n",
    "                    callbacks=[callbacks_a,callbacks_b])\n",
    "\n",
    "    print('##########################################################################')\n",
    "    print(f\"------val_accuracy-----> {'{0:.4g}'.format(max(history.history['val_accuracy'])*100)} | {'{0:.4g}'.format(max(history.history['accuracy'])*100)} <----------accuracy----------\")\n",
    "    print(nfile)\n",
    "    print(mfile)\n",
    "    ResJS[pair]='{0:.4g}'.format(max(history.history['val_accuracy'])*100)\n",
    "    return( model , ResJS)\n",
    "    #94%\n",
    "    \n",
    "def NormalDataTest(pair=\"ETH/USDT\"):\n",
    "    price_volatility_15m=round((100*(df_list15m[pair][\"high\"]-df_list15m[pair][\"low\"])/df_list15m[pair][\"high\"]).mean()*0.51,2)\n",
    "    print(f\"price_volatility_15m:{price_volatility_15m}%\")\n",
    "    df=mini_expand4(pair=pair,i=0,j=len(df_list1m[pair]),window=WINDOW_SIZE,metadata=MetaData,BUY_PCT=max(price_volatility_15m,BUY_PCT),SELL_PCT=SELL_PCT,buy_function=buy_function)\n",
    "    print(\"df original shape \"+str(df.shape))\n",
    "    print(f\"df original shape buy mean : {df.buy.mean()*100}\")\n",
    "    df=df.reset_index()\n",
    "    try:df.pop(\"num_index\")\n",
    "    except: pass\n",
    "    try:df.pop(\"index\")\n",
    "    except: pass\n",
    "    try:df.pop(\"date\")\n",
    "    except: pass\n",
    "    # df=data_shufler(df)            \n",
    "    # #df=data_chooser(df,weight=50,row_numbers=df.buy.sum()*2)\n",
    "    # df=data_chooser50(df,row_numbers=500000)\n",
    "    # gc.collect()\n",
    "    df=data_cleanup(df)\n",
    "    df=df.dropna()\n",
    "    print(\"df choosen data shape\"+str(df.shape))\n",
    "    print(f\"pair: {(df.shape[0]/2)==df.buy.sum()}\")\n",
    "    dt=df.to_numpy(dtype=np.float32)\n",
    "    #dt=df.to_numpy()\n",
    "    dt=np.nan_to_num(dt,nan=0)\n",
    "    #dt=dt.astype(np.float32)\n",
    "    dt=np.nan_to_num(dt, neginf=0) \n",
    "    dt=np.nan_to_num(dt, posinf=0) \n",
    "\n",
    "    ## normalisation\n",
    "    #index_20pct= int(0.2*len(dt[:,0]))\n",
    "    #print(index_20pct)\n",
    "    Y=dt[:,-1].copy()\n",
    "    dt[:,:-1]=normalize(dt[:,:-1],f'{DATA_DIR}/{pair.replace(\"/\", \"-\")}-tp{int(BUY_PCT*100)}_w{WINDOW_SIZE}_max{MAX_FORCAST_SIZE}min_Norm_v{VERSION}.json')\n",
    "    dt=np.nan_to_num(dt,nan=0)\n",
    "    dt=np.nan_to_num(dt, neginf=0) \n",
    "    dt=np.nan_to_num(dt, posinf=0) \n",
    "    dt=dt.astype(np.float32)\n",
    "    ## Model\n",
    "    return dt\n",
    "    #94%"
   ]
  },
  {
   "cell_type": "code",
   "execution_count": 6,
   "metadata": {},
   "outputs": [
    {
     "name": "stdout",
     "output_type": "stream",
     "text": [
      "/UltimeTradingBot/Data/BUY_UP_CLOSE/SNM-BUSD-tp50_w40_max10min_Model_v1.hdf5\n",
      "/UltimeTradingBot/Data/BUY_UP_CLOSE/SNM-BUSD-tp50_w40_max10min_Norm_v1.json\n"
     ]
    }
   ],
   "source": [
    "pair=\"SNM/BUSD\"\n",
    "mfile=f'{DATA_DIR}/{pair.replace(\"/\", \"-\")}-tp{int(BUY_PCT*100)}_w{WINDOW_SIZE}_max{MAX_FORCAST_SIZE}min_Model_v{VERSION}.hdf5'\n",
    "nfile=f'{DATA_DIR}/{pair.replace(\"/\", \"-\")}-tp{int(BUY_PCT*100)}_w{WINDOW_SIZE}_max{MAX_FORCAST_SIZE}min_Norm_v{VERSION}.json'\n",
    "print(mfile)\n",
    "print(nfile)"
   ]
  },
  {
   "cell_type": "code",
   "execution_count": 8,
   "metadata": {},
   "outputs": [
    {
     "name": "stdout",
     "output_type": "stream",
     "text": [
      "zsh:1: no matches found: /UltimeTradingBot/Data/BUY_UP_CLOSE/SNM-BUSD_*\n"
     ]
    }
   ],
   "source": [
    "!ls /UltimeTradingBot/Data/BUY_UP_CLOSE/SNM-BUSD_*"
   ]
  },
  {
   "cell_type": "code",
   "execution_count": 9,
   "metadata": {},
   "outputs": [
    {
     "name": "stdout",
     "output_type": "stream",
     "text": [
      "One_pair_AI_Gen : SNM/BUSD\n",
      "price_volatility_15m:0.93%\n",
      "mini_expand : SNM/BUSD\n",
      "---buy_simple_up--- Buy pct: 0.93%\n",
      "---buy_only--- Max time window: 10%\n",
      "---buy_only--- no b\n",
      "---buy_only--- no sell\n",
      "df original shape (107970, 1607)\n",
      "df original shape buy mean : 10.713161063258312\n",
      "df choosen data shape(107970, 1607)\n",
      "pair: True\n",
      "21594\n",
      "normalizing ...\n",
      "/UltimeTradingBot/Data/BUY_UP_CLOSE/SNM-BUSD-tp50_w40_max10min_Norm_v1.json\n",
      "Model: \"sequential\"\n",
      "_________________________________________________________________\n",
      " Layer (type)                Output Shape              Param #   \n",
      "=================================================================\n",
      " dense (Dense)               (None, 250)               401750    \n",
      "                                                                 \n",
      " dropout (Dropout)           (None, 250)               0         \n",
      "                                                                 \n",
      " dense_1 (Dense)             (None, 20)                5020      \n",
      "                                                                 \n",
      " dense_2 (Dense)             (None, 50)                1050      \n",
      "                                                                 \n",
      " dense_3 (Dense)             (None, 1)                 51        \n",
      "                                                                 \n",
      "=================================================================\n",
      "Total params: 407,871\n",
      "Trainable params: 407,871\n",
      "Non-trainable params: 0\n",
      "_________________________________________________________________\n"
     ]
    },
    {
     "name": "stderr",
     "output_type": "stream",
     "text": [
      "2023-01-03 01:41:00.413059: W tensorflow/stream_executor/platform/default/dso_loader.cc:64] Could not load dynamic library 'libcuda.so.1'; dlerror: libcuda.so.1: cannot open shared object file: No such file or directory\n",
      "2023-01-03 01:41:00.413113: W tensorflow/stream_executor/cuda/cuda_driver.cc:263] failed call to cuInit: UNKNOWN ERROR (303)\n",
      "2023-01-03 01:41:00.413151: I tensorflow/stream_executor/cuda/cuda_diagnostics.cc:169] retrieving CUDA diagnostic information for host: abj-K93SV\n",
      "2023-01-03 01:41:00.413167: I tensorflow/stream_executor/cuda/cuda_diagnostics.cc:176] hostname: abj-K93SV\n",
      "2023-01-03 01:41:00.413246: I tensorflow/stream_executor/cuda/cuda_diagnostics.cc:200] libcuda reported version is: NOT_FOUND: was unable to find libcuda.so DSO loaded into this program\n",
      "2023-01-03 01:41:00.413310: I tensorflow/stream_executor/cuda/cuda_diagnostics.cc:204] kernel reported version is: 390.154.0\n"
     ]
    },
    {
     "name": "stdout",
     "output_type": "stream",
     "text": [
      "None\n",
      "saving file in: /UltimeTradingBot/Data/BUY_UP_CLOSE/SNM-BUSD-tp50_w40_max10min_Model_v1.hdf5\n",
      "Epoch 1/6000\n",
      "34/34 [==============================] - 6s 134ms/step - loss: 0.5715 - accuracy: 0.7093 - val_loss: 0.5125 - val_accuracy: 0.7522\n",
      "Epoch 2/6000\n",
      "34/34 [==============================] - 4s 110ms/step - loss: 0.5006 - accuracy: 0.7610 - val_loss: 0.4654 - val_accuracy: 0.7857\n",
      "Epoch 3/6000\n",
      "34/34 [==============================] - 4s 110ms/step - loss: 0.4566 - accuracy: 0.7875 - val_loss: 0.4185 - val_accuracy: 0.8168\n",
      "Epoch 4/6000\n",
      "34/34 [==============================] - 4s 109ms/step - loss: 0.4125 - accuracy: 0.8155 - val_loss: 0.3745 - val_accuracy: 0.8357\n",
      "Epoch 5/6000\n",
      "34/34 [==============================] - 4s 110ms/step - loss: 0.3717 - accuracy: 0.8385 - val_loss: 0.3432 - val_accuracy: 0.8604\n",
      "Epoch 6/6000\n",
      "34/34 [==============================] - 4s 117ms/step - loss: 0.3401 - accuracy: 0.8556 - val_loss: 0.3038 - val_accuracy: 0.8783\n",
      "Epoch 7/6000\n",
      "34/34 [==============================] - 4s 109ms/step - loss: 0.3080 - accuracy: 0.8727 - val_loss: 0.2782 - val_accuracy: 0.8928\n",
      "Epoch 8/6000\n",
      "34/34 [==============================] - 4s 122ms/step - loss: 0.2854 - accuracy: 0.8846 - val_loss: 0.2560 - val_accuracy: 0.9011\n",
      "Epoch 9/6000\n",
      "34/34 [==============================] - 4s 111ms/step - loss: 0.2628 - accuracy: 0.8947 - val_loss: 0.2402 - val_accuracy: 0.9090\n",
      "Epoch 10/6000\n",
      "34/34 [==============================] - 4s 110ms/step - loss: 0.2467 - accuracy: 0.9019 - val_loss: 0.2263 - val_accuracy: 0.9144\n",
      "Epoch 11/6000\n",
      "34/34 [==============================] - 4s 110ms/step - loss: 0.2338 - accuracy: 0.9087 - val_loss: 0.2089 - val_accuracy: 0.9253\n",
      "Epoch 12/6000\n",
      "34/34 [==============================] - 4s 109ms/step - loss: 0.2212 - accuracy: 0.9139 - val_loss: 0.2041 - val_accuracy: 0.9247\n",
      "Epoch 13/6000\n",
      "34/34 [==============================] - 4s 109ms/step - loss: 0.2139 - accuracy: 0.9169 - val_loss: 0.1912 - val_accuracy: 0.9323\n",
      "Epoch 14/6000\n",
      "34/34 [==============================] - 4s 111ms/step - loss: 0.1974 - accuracy: 0.9252 - val_loss: 0.1812 - val_accuracy: 0.9357\n",
      "Epoch 15/6000\n",
      "34/34 [==============================] - 4s 111ms/step - loss: 0.1933 - accuracy: 0.9260 - val_loss: 0.1776 - val_accuracy: 0.9382\n",
      "Epoch 16/6000\n",
      "34/34 [==============================] - 4s 110ms/step - loss: 0.1801 - accuracy: 0.9317 - val_loss: 0.1724 - val_accuracy: 0.9417\n",
      "Epoch 17/6000\n",
      "34/34 [==============================] - 4s 109ms/step - loss: 0.1741 - accuracy: 0.9337 - val_loss: 0.1733 - val_accuracy: 0.9377\n",
      "Epoch 18/6000\n",
      "34/34 [==============================] - 4s 110ms/step - loss: 0.1697 - accuracy: 0.9369 - val_loss: 0.1603 - val_accuracy: 0.9421\n",
      "Epoch 19/6000\n",
      "34/34 [==============================] - 4s 111ms/step - loss: 0.1655 - accuracy: 0.9375 - val_loss: 0.1538 - val_accuracy: 0.9469\n",
      "Epoch 20/6000\n",
      "34/34 [==============================] - 4s 113ms/step - loss: 0.1567 - accuracy: 0.9402 - val_loss: 0.1524 - val_accuracy: 0.9455\n",
      "Epoch 21/6000\n",
      "34/34 [==============================] - 4s 110ms/step - loss: 0.1531 - accuracy: 0.9420 - val_loss: 0.1507 - val_accuracy: 0.9475\n",
      "Epoch 22/6000\n",
      "34/34 [==============================] - 4s 111ms/step - loss: 0.1489 - accuracy: 0.9446 - val_loss: 0.1446 - val_accuracy: 0.9512\n",
      "Epoch 23/6000\n",
      "34/34 [==============================] - 4s 109ms/step - loss: 0.1423 - accuracy: 0.9472 - val_loss: 0.1476 - val_accuracy: 0.9495\n",
      "Epoch 24/6000\n",
      "34/34 [==============================] - 4s 110ms/step - loss: 0.1422 - accuracy: 0.9485 - val_loss: 0.1374 - val_accuracy: 0.9519\n",
      "Epoch 25/6000\n",
      "34/34 [==============================] - 4s 110ms/step - loss: 0.1357 - accuracy: 0.9498 - val_loss: 0.1326 - val_accuracy: 0.9563\n",
      "Epoch 26/6000\n",
      "34/34 [==============================] - 4s 108ms/step - loss: 0.1307 - accuracy: 0.9518 - val_loss: 0.1398 - val_accuracy: 0.9543\n",
      "Epoch 27/6000\n",
      "34/34 [==============================] - 4s 108ms/step - loss: 0.1300 - accuracy: 0.9520 - val_loss: 0.1379 - val_accuracy: 0.9528\n",
      "Epoch 28/6000\n",
      "34/34 [==============================] - 4s 110ms/step - loss: 0.1235 - accuracy: 0.9548 - val_loss: 0.1279 - val_accuracy: 0.9595\n",
      "Epoch 29/6000\n",
      "34/34 [==============================] - 4s 109ms/step - loss: 0.1221 - accuracy: 0.9550 - val_loss: 0.1250 - val_accuracy: 0.9586\n",
      "Epoch 30/6000\n",
      "34/34 [==============================] - 4s 114ms/step - loss: 0.1189 - accuracy: 0.9564 - val_loss: 0.1241 - val_accuracy: 0.9584\n",
      "Epoch 31/6000\n",
      "34/34 [==============================] - 4s 117ms/step - loss: 0.1169 - accuracy: 0.9565 - val_loss: 0.1216 - val_accuracy: 0.9595\n",
      "Epoch 32/6000\n",
      "34/34 [==============================] - 4s 108ms/step - loss: 0.1168 - accuracy: 0.9573 - val_loss: 0.1276 - val_accuracy: 0.9582\n",
      "Epoch 33/6000\n",
      "34/34 [==============================] - 4s 110ms/step - loss: 0.1150 - accuracy: 0.9582 - val_loss: 0.1175 - val_accuracy: 0.9617\n",
      "Epoch 34/6000\n",
      "34/34 [==============================] - 4s 108ms/step - loss: 0.1128 - accuracy: 0.9589 - val_loss: 0.1313 - val_accuracy: 0.9574\n",
      "Epoch 35/6000\n",
      "34/34 [==============================] - 4s 109ms/step - loss: 0.1087 - accuracy: 0.9602 - val_loss: 0.1212 - val_accuracy: 0.9596\n",
      "Epoch 36/6000\n",
      "34/34 [==============================] - 4s 111ms/step - loss: 0.1066 - accuracy: 0.9613 - val_loss: 0.1148 - val_accuracy: 0.9623\n",
      "Epoch 37/6000\n",
      "34/34 [==============================] - 4s 109ms/step - loss: 0.1065 - accuracy: 0.9617 - val_loss: 0.1201 - val_accuracy: 0.9614\n",
      "Epoch 38/6000\n",
      "34/34 [==============================] - 4s 108ms/step - loss: 0.1012 - accuracy: 0.9630 - val_loss: 0.1195 - val_accuracy: 0.9610\n",
      "Epoch 39/6000\n",
      "34/34 [==============================] - 4s 109ms/step - loss: 0.0992 - accuracy: 0.9637 - val_loss: 0.1206 - val_accuracy: 0.9629\n",
      "Epoch 40/6000\n",
      "34/34 [==============================] - 4s 110ms/step - loss: 0.0983 - accuracy: 0.9642 - val_loss: 0.1152 - val_accuracy: 0.9647\n",
      "Epoch 41/6000\n",
      "34/34 [==============================] - 4s 111ms/step - loss: 0.0962 - accuracy: 0.9649 - val_loss: 0.1106 - val_accuracy: 0.9650\n",
      "Epoch 42/6000\n",
      "34/34 [==============================] - 4s 109ms/step - loss: 0.0968 - accuracy: 0.9645 - val_loss: 0.1116 - val_accuracy: 0.9652\n",
      "Epoch 43/6000\n",
      "34/34 [==============================] - 4s 108ms/step - loss: 0.0949 - accuracy: 0.9650 - val_loss: 0.1192 - val_accuracy: 0.9629\n",
      "Epoch 44/6000\n",
      "34/34 [==============================] - 4s 107ms/step - loss: 0.0907 - accuracy: 0.9673 - val_loss: 0.1126 - val_accuracy: 0.9642\n",
      "Epoch 45/6000\n",
      "34/34 [==============================] - 4s 110ms/step - loss: 0.0899 - accuracy: 0.9679 - val_loss: 0.1116 - val_accuracy: 0.9657\n",
      "Epoch 46/6000\n",
      "34/34 [==============================] - 4s 111ms/step - loss: 0.0870 - accuracy: 0.9686 - val_loss: 0.1121 - val_accuracy: 0.9665\n",
      "Epoch 47/6000\n",
      "34/34 [==============================] - 4s 111ms/step - loss: 0.0857 - accuracy: 0.9683 - val_loss: 0.1067 - val_accuracy: 0.9674\n",
      "Epoch 48/6000\n",
      "34/34 [==============================] - 4s 108ms/step - loss: 0.0854 - accuracy: 0.9688 - val_loss: 0.1179 - val_accuracy: 0.9644\n",
      "Epoch 49/6000\n",
      "34/34 [==============================] - 4s 111ms/step - loss: 0.0831 - accuracy: 0.9701 - val_loss: 0.1175 - val_accuracy: 0.9644\n",
      "Epoch 50/6000\n",
      "34/34 [==============================] - 4s 111ms/step - loss: 0.0822 - accuracy: 0.9705 - val_loss: 0.1030 - val_accuracy: 0.9689\n",
      "Epoch 51/6000\n",
      "34/34 [==============================] - 4s 110ms/step - loss: 0.0790 - accuracy: 0.9715 - val_loss: 0.1020 - val_accuracy: 0.9697\n",
      "Epoch 52/6000\n",
      "34/34 [==============================] - 4s 108ms/step - loss: 0.0799 - accuracy: 0.9703 - val_loss: 0.1132 - val_accuracy: 0.9667\n",
      "Epoch 53/6000\n",
      "34/34 [==============================] - 4s 110ms/step - loss: 0.0781 - accuracy: 0.9720 - val_loss: 0.1033 - val_accuracy: 0.9705\n",
      "Epoch 54/6000\n",
      "34/34 [==============================] - 4s 108ms/step - loss: 0.0798 - accuracy: 0.9719 - val_loss: 0.1035 - val_accuracy: 0.9679\n",
      "Epoch 55/6000\n",
      "34/34 [==============================] - 4s 108ms/step - loss: 0.0758 - accuracy: 0.9731 - val_loss: 0.0998 - val_accuracy: 0.9701\n",
      "Epoch 56/6000\n",
      "34/34 [==============================] - 4s 109ms/step - loss: 0.0745 - accuracy: 0.9734 - val_loss: 0.1058 - val_accuracy: 0.9684\n",
      "Epoch 57/6000\n",
      "34/34 [==============================] - 4s 110ms/step - loss: 0.0732 - accuracy: 0.9734 - val_loss: 0.0998 - val_accuracy: 0.9704\n",
      "Epoch 58/6000\n",
      "34/34 [==============================] - 4s 109ms/step - loss: 0.0701 - accuracy: 0.9748 - val_loss: 0.1024 - val_accuracy: 0.9706\n",
      "Epoch 59/6000\n",
      "34/34 [==============================] - 4s 108ms/step - loss: 0.0709 - accuracy: 0.9742 - val_loss: 0.1103 - val_accuracy: 0.9677\n",
      "Epoch 60/6000\n",
      "34/34 [==============================] - 4s 109ms/step - loss: 0.0731 - accuracy: 0.9741 - val_loss: 0.1015 - val_accuracy: 0.9695\n",
      "Epoch 61/6000\n",
      "34/34 [==============================] - 4s 111ms/step - loss: 0.0720 - accuracy: 0.9740 - val_loss: 0.0913 - val_accuracy: 0.9723\n",
      "Epoch 62/6000\n",
      "34/34 [==============================] - 4s 108ms/step - loss: 0.0688 - accuracy: 0.9754 - val_loss: 0.1055 - val_accuracy: 0.9701\n",
      "Epoch 63/6000\n",
      "34/34 [==============================] - 4s 108ms/step - loss: 0.0682 - accuracy: 0.9758 - val_loss: 0.0971 - val_accuracy: 0.9719\n",
      "Epoch 64/6000\n",
      "34/34 [==============================] - 4s 109ms/step - loss: 0.0692 - accuracy: 0.9758 - val_loss: 0.1015 - val_accuracy: 0.9709\n",
      "Epoch 65/6000\n",
      "34/34 [==============================] - 4s 111ms/step - loss: 0.0687 - accuracy: 0.9750 - val_loss: 0.0954 - val_accuracy: 0.9730\n",
      "Epoch 66/6000\n",
      "34/34 [==============================] - 4s 109ms/step - loss: 0.0677 - accuracy: 0.9757 - val_loss: 0.1019 - val_accuracy: 0.9702\n",
      "Epoch 67/6000\n",
      "34/34 [==============================] - 4s 108ms/step - loss: 0.0680 - accuracy: 0.9755 - val_loss: 0.1019 - val_accuracy: 0.9711\n",
      "Epoch 68/6000\n",
      "34/34 [==============================] - 4s 108ms/step - loss: 0.0643 - accuracy: 0.9772 - val_loss: 0.1010 - val_accuracy: 0.9711\n",
      "Epoch 69/6000\n",
      "34/34 [==============================] - 4s 114ms/step - loss: 0.0644 - accuracy: 0.9765 - val_loss: 0.1065 - val_accuracy: 0.9691\n",
      "Epoch 70/6000\n",
      "34/34 [==============================] - 4s 109ms/step - loss: 0.0653 - accuracy: 0.9771 - val_loss: 0.0957 - val_accuracy: 0.9731\n",
      "Epoch 71/6000\n",
      "34/34 [==============================] - 4s 111ms/step - loss: 0.0623 - accuracy: 0.9772 - val_loss: 0.0961 - val_accuracy: 0.9737\n",
      "Epoch 72/6000\n",
      "34/34 [==============================] - 4s 110ms/step - loss: 0.0613 - accuracy: 0.9779 - val_loss: 0.1061 - val_accuracy: 0.9712\n",
      "Epoch 73/6000\n",
      "34/34 [==============================] - 4s 109ms/step - loss: 0.0614 - accuracy: 0.9784 - val_loss: 0.0952 - val_accuracy: 0.9733\n",
      "Epoch 74/6000\n",
      "34/34 [==============================] - 4s 110ms/step - loss: 0.0621 - accuracy: 0.9781 - val_loss: 0.1064 - val_accuracy: 0.9714\n",
      "Epoch 75/6000\n",
      "34/34 [==============================] - 4s 108ms/step - loss: 0.0601 - accuracy: 0.9787 - val_loss: 0.0966 - val_accuracy: 0.9733\n",
      "Epoch 76/6000\n",
      "34/34 [==============================] - 6s 187ms/step - loss: 0.0568 - accuracy: 0.9790 - val_loss: 0.0953 - val_accuracy: 0.9727\n",
      "Epoch 77/6000\n",
      "34/34 [==============================] - 5s 133ms/step - loss: 0.0592 - accuracy: 0.9786 - val_loss: 0.0940 - val_accuracy: 0.9739\n",
      "Epoch 78/6000\n",
      "34/34 [==============================] - 4s 108ms/step - loss: 0.0603 - accuracy: 0.9784 - val_loss: 0.1031 - val_accuracy: 0.9721\n",
      "Epoch 79/6000\n",
      "34/34 [==============================] - 4s 110ms/step - loss: 0.0574 - accuracy: 0.9795 - val_loss: 0.1157 - val_accuracy: 0.9702\n",
      "Epoch 80/6000\n",
      "34/34 [==============================] - 4s 109ms/step - loss: 0.0585 - accuracy: 0.9793 - val_loss: 0.1043 - val_accuracy: 0.9722\n",
      "Epoch 81/6000\n",
      "34/34 [==============================] - 4s 108ms/step - loss: 0.0561 - accuracy: 0.9802 - val_loss: 0.1015 - val_accuracy: 0.9717\n",
      "Epoch 82/6000\n",
      "34/34 [==============================] - 4s 110ms/step - loss: 0.0568 - accuracy: 0.9796 - val_loss: 0.1022 - val_accuracy: 0.9718\n",
      "Epoch 83/6000\n",
      "34/34 [==============================] - 4s 109ms/step - loss: 0.0559 - accuracy: 0.9804 - val_loss: 0.1014 - val_accuracy: 0.9721\n",
      "Epoch 84/6000\n",
      "34/34 [==============================] - 4s 111ms/step - loss: 0.0541 - accuracy: 0.9812 - val_loss: 0.1035 - val_accuracy: 0.9718\n",
      "Epoch 85/6000\n",
      "34/34 [==============================] - 4s 108ms/step - loss: 0.0547 - accuracy: 0.9808 - val_loss: 0.0935 - val_accuracy: 0.9735\n",
      "Epoch 86/6000\n",
      "34/34 [==============================] - 4s 111ms/step - loss: 0.0529 - accuracy: 0.9810 - val_loss: 0.0986 - val_accuracy: 0.9734\n",
      "Epoch 87/6000\n",
      "34/34 [==============================] - 4s 114ms/step - loss: 0.0529 - accuracy: 0.9810 - val_loss: 0.0930 - val_accuracy: 0.9748\n",
      "Epoch 88/6000\n",
      "34/34 [==============================] - 4s 110ms/step - loss: 0.0517 - accuracy: 0.9820 - val_loss: 0.0905 - val_accuracy: 0.9759\n",
      "Epoch 89/6000\n",
      "34/34 [==============================] - 4s 109ms/step - loss: 0.0507 - accuracy: 0.9820 - val_loss: 0.0965 - val_accuracy: 0.9744\n",
      "Epoch 90/6000\n",
      "34/34 [==============================] - 4s 110ms/step - loss: 0.0526 - accuracy: 0.9816 - val_loss: 0.0924 - val_accuracy: 0.9742\n",
      "Epoch 91/6000\n",
      "34/34 [==============================] - 7s 196ms/step - loss: 0.0505 - accuracy: 0.9822 - val_loss: 0.0991 - val_accuracy: 0.9733\n",
      "Epoch 92/6000\n",
      "34/34 [==============================] - 5s 147ms/step - loss: 0.0518 - accuracy: 0.9814 - val_loss: 0.1077 - val_accuracy: 0.9721\n",
      "Epoch 93/6000\n",
      "34/34 [==============================] - 4s 108ms/step - loss: 0.0485 - accuracy: 0.9829 - val_loss: 0.0943 - val_accuracy: 0.9744\n",
      "Epoch 94/6000\n",
      "34/34 [==============================] - 4s 109ms/step - loss: 0.0470 - accuracy: 0.9830 - val_loss: 0.1051 - val_accuracy: 0.9726\n",
      "Epoch 95/6000\n",
      "34/34 [==============================] - 4s 109ms/step - loss: 0.0490 - accuracy: 0.9828 - val_loss: 0.0988 - val_accuracy: 0.9739\n",
      "Epoch 96/6000\n",
      "34/34 [==============================] - 4s 109ms/step - loss: 0.0520 - accuracy: 0.9813 - val_loss: 0.1049 - val_accuracy: 0.9738\n",
      "Epoch 97/6000\n",
      "34/34 [==============================] - 4s 108ms/step - loss: 0.0505 - accuracy: 0.9827 - val_loss: 0.1171 - val_accuracy: 0.9720\n",
      "Epoch 98/6000\n",
      "34/34 [==============================] - 4s 109ms/step - loss: 0.0503 - accuracy: 0.9822 - val_loss: 0.0983 - val_accuracy: 0.9746\n",
      "Epoch 99/6000\n",
      "34/34 [==============================] - 4s 109ms/step - loss: 0.0485 - accuracy: 0.9833 - val_loss: 0.1043 - val_accuracy: 0.9721\n",
      "Epoch 100/6000\n",
      "34/34 [==============================] - 4s 108ms/step - loss: 0.0457 - accuracy: 0.9840 - val_loss: 0.0990 - val_accuracy: 0.9754\n",
      "Epoch 101/6000\n",
      "34/34 [==============================] - 4s 108ms/step - loss: 0.0464 - accuracy: 0.9833 - val_loss: 0.1133 - val_accuracy: 0.9717\n",
      "Epoch 102/6000\n",
      "34/34 [==============================] - 4s 109ms/step - loss: 0.0468 - accuracy: 0.9834 - val_loss: 0.1016 - val_accuracy: 0.9738\n",
      "Epoch 103/6000\n",
      "34/34 [==============================] - 6s 186ms/step - loss: 0.0464 - accuracy: 0.9835 - val_loss: 0.1046 - val_accuracy: 0.9736\n",
      "Epoch 103: early stopping\n",
      "##########################################################################\n",
      "------val_accuracy-----> 97.59 | 98.4 <----------accuracy----------\n",
      "/UltimeTradingBot/Data/BUY_UP_CLOSE/SNM-BUSD-tp50_w40_max10min_Norm_v1.json\n",
      "/UltimeTradingBot/Data/BUY_UP_CLOSE/SNM-BUSD-tp50_w40_max10min_Model_v1.hdf5\n"
     ]
    }
   ],
   "source": [
    "model,h=One_pair_AI_Gen(pair)"
   ]
  },
  {
   "cell_type": "markdown",
   "metadata": {},
   "source": [
    "## 2- Garbage Test"
   ]
  },
  {
   "cell_type": "code",
   "execution_count": 12,
   "metadata": {},
   "outputs": [
    {
     "name": "stderr",
     "output_type": "stream",
     "text": [
      "2023-01-02 23:25:20.769018: W tensorflow/stream_executor/platform/default/dso_loader.cc:64] Could not load dynamic library 'libcuda.so.1'; dlerror: libcuda.so.1: cannot open shared object file: No such file or directory\n",
      "2023-01-02 23:25:20.769361: W tensorflow/stream_executor/cuda/cuda_driver.cc:263] failed call to cuInit: UNKNOWN ERROR (303)\n",
      "2023-01-02 23:25:20.769410: I tensorflow/stream_executor/cuda/cuda_diagnostics.cc:169] retrieving CUDA diagnostic information for host: abj-K93SV\n",
      "2023-01-02 23:25:20.769428: I tensorflow/stream_executor/cuda/cuda_diagnostics.cc:176] hostname: abj-K93SV\n",
      "2023-01-02 23:25:20.769512: I tensorflow/stream_executor/cuda/cuda_diagnostics.cc:200] libcuda reported version is: NOT_FOUND: was unable to find libcuda.so DSO loaded into this program\n",
      "2023-01-02 23:25:20.769584: I tensorflow/stream_executor/cuda/cuda_diagnostics.cc:204] kernel reported version is: 390.154.0\n"
     ]
    }
   ],
   "source": [
    "pair=\"SNM/BUSD\"\n",
    "model = load_model(mfile)"
   ]
  },
  {
   "cell_type": "code",
   "execution_count": 10,
   "metadata": {},
   "outputs": [
    {
     "name": "stdout",
     "output_type": "stream",
     "text": [
      "0.9285710853217788\n"
     ]
    }
   ],
   "source": [
    "pair=\"SNM/BUSD\"\n",
    "price_volatility_15m=(100*(df_list15m[pair][\"high\"]-df_list15m[pair][\"low\"])/df_list15m[pair][\"high\"]).mean()*0.51\n",
    "print(price_volatility_15m)"
   ]
  },
  {
   "cell_type": "code",
   "execution_count": null,
   "metadata": {},
   "outputs": [],
   "source": []
  },
  {
   "cell_type": "code",
   "execution_count": 11,
   "metadata": {},
   "outputs": [
    {
     "name": "stdout",
     "output_type": "stream",
     "text": [
      "mini_expand : SNM/BUSD\n",
      "---buy_simple_up--- Buy pct: 0.9285710853217788%\n",
      "---buy_only--- Max time window: 10%\n",
      "---buy_only--- no b\n",
      "---buy_only--- no sell\n"
     ]
    }
   ],
   "source": [
    "df=mini_expand4(pair=pair,i=0,j=len(df_list1m[pair]),window=WINDOW_SIZE,metadata=MetaData,BUY_PCT=max(price_volatility_15m,BUY_PCT),SELL_PCT=SELL_PCT,buy_function=buy_function)\n"
   ]
  },
  {
   "cell_type": "code",
   "execution_count": 12,
   "metadata": {},
   "outputs": [
    {
     "name": "stdout",
     "output_type": "stream",
     "text": [
      "df choosen data shape(107970, 1607)\n"
     ]
    },
    {
     "data": {
      "text/plain": [
       "False"
      ]
     },
     "execution_count": 12,
     "metadata": {},
     "output_type": "execute_result"
    }
   ],
   "source": [
    "print(\"df choosen data shape\"+str(df.shape))\n",
    "(df.shape[0]/2)==df.buy.sum()"
   ]
  },
  {
   "cell_type": "code",
   "execution_count": 13,
   "metadata": {},
   "outputs": [
    {
     "data": {
      "text/html": [
       "<div>\n",
       "<style scoped>\n",
       "    .dataframe tbody tr th:only-of-type {\n",
       "        vertical-align: middle;\n",
       "    }\n",
       "\n",
       "    .dataframe tbody tr th {\n",
       "        vertical-align: top;\n",
       "    }\n",
       "\n",
       "    .dataframe thead th {\n",
       "        text-align: right;\n",
       "    }\n",
       "</style>\n",
       "<table border=\"1\" class=\"dataframe\">\n",
       "  <thead>\n",
       "    <tr style=\"text-align: right;\">\n",
       "      <th></th>\n",
       "      <th>price</th>\n",
       "      <th>high-1</th>\n",
       "      <th>low-1</th>\n",
       "      <th>close-1</th>\n",
       "      <th>volume-1</th>\n",
       "      <th>high-2</th>\n",
       "      <th>low-2</th>\n",
       "      <th>close-2</th>\n",
       "      <th>volume-2</th>\n",
       "      <th>high-3</th>\n",
       "      <th>...</th>\n",
       "      <th>BTC_volume-39_5min</th>\n",
       "      <th>BTC_high-40_5min</th>\n",
       "      <th>BTC_low-40_5min</th>\n",
       "      <th>BTC_close-40_5min</th>\n",
       "      <th>BTC_volume-40_5min</th>\n",
       "      <th>day</th>\n",
       "      <th>hour</th>\n",
       "      <th>minute</th>\n",
       "      <th>lunch_day</th>\n",
       "      <th>buy</th>\n",
       "    </tr>\n",
       "    <tr>\n",
       "      <th>date</th>\n",
       "      <th></th>\n",
       "      <th></th>\n",
       "      <th></th>\n",
       "      <th></th>\n",
       "      <th></th>\n",
       "      <th></th>\n",
       "      <th></th>\n",
       "      <th></th>\n",
       "      <th></th>\n",
       "      <th></th>\n",
       "      <th></th>\n",
       "      <th></th>\n",
       "      <th></th>\n",
       "      <th></th>\n",
       "      <th></th>\n",
       "      <th></th>\n",
       "      <th></th>\n",
       "      <th></th>\n",
       "      <th></th>\n",
       "      <th></th>\n",
       "      <th></th>\n",
       "    </tr>\n",
       "  </thead>\n",
       "  <tbody>\n",
       "    <tr>\n",
       "      <th>2022-10-05 00:00:00</th>\n",
       "      <td>0.313900</td>\n",
       "      <td>0.000000</td>\n",
       "      <td>0.000000</td>\n",
       "      <td>0.000000</td>\n",
       "      <td>0.0</td>\n",
       "      <td>0.000000</td>\n",
       "      <td>0.000000</td>\n",
       "      <td>0.000000</td>\n",
       "      <td>93.0</td>\n",
       "      <td>-0.000637</td>\n",
       "      <td>...</td>\n",
       "      <td>2543.10993</td>\n",
       "      <td>-0.001519</td>\n",
       "      <td>0.001382</td>\n",
       "      <td>0.000594</td>\n",
       "      <td>1163.51882</td>\n",
       "      <td>3</td>\n",
       "      <td>0</td>\n",
       "      <td>0</td>\n",
       "      <td>-968</td>\n",
       "      <td>0</td>\n",
       "    </tr>\n",
       "    <tr>\n",
       "      <th>2022-10-05 00:01:00</th>\n",
       "      <td>0.313900</td>\n",
       "      <td>0.000000</td>\n",
       "      <td>0.000000</td>\n",
       "      <td>0.000000</td>\n",
       "      <td>0.0</td>\n",
       "      <td>0.000000</td>\n",
       "      <td>0.000000</td>\n",
       "      <td>0.000000</td>\n",
       "      <td>0.0</td>\n",
       "      <td>0.000000</td>\n",
       "      <td>...</td>\n",
       "      <td>2543.10993</td>\n",
       "      <td>-0.001527</td>\n",
       "      <td>0.001373</td>\n",
       "      <td>0.000585</td>\n",
       "      <td>1163.51882</td>\n",
       "      <td>3</td>\n",
       "      <td>0</td>\n",
       "      <td>1</td>\n",
       "      <td>-968</td>\n",
       "      <td>0</td>\n",
       "    </tr>\n",
       "    <tr>\n",
       "      <th>2022-10-05 00:02:00</th>\n",
       "      <td>0.314325</td>\n",
       "      <td>0.001352</td>\n",
       "      <td>0.001352</td>\n",
       "      <td>0.001352</td>\n",
       "      <td>0.0</td>\n",
       "      <td>0.001352</td>\n",
       "      <td>0.001352</td>\n",
       "      <td>0.001352</td>\n",
       "      <td>0.0</td>\n",
       "      <td>0.001352</td>\n",
       "      <td>...</td>\n",
       "      <td>2543.10993</td>\n",
       "      <td>-0.001002</td>\n",
       "      <td>0.001896</td>\n",
       "      <td>0.001109</td>\n",
       "      <td>1163.51882</td>\n",
       "      <td>3</td>\n",
       "      <td>0</td>\n",
       "      <td>2</td>\n",
       "      <td>-968</td>\n",
       "      <td>0</td>\n",
       "    </tr>\n",
       "    <tr>\n",
       "      <th>2022-10-05 00:03:00</th>\n",
       "      <td>0.314600</td>\n",
       "      <td>0.000000</td>\n",
       "      <td>0.002225</td>\n",
       "      <td>0.000000</td>\n",
       "      <td>6768.0</td>\n",
       "      <td>0.002225</td>\n",
       "      <td>0.002225</td>\n",
       "      <td>0.002225</td>\n",
       "      <td>0.0</td>\n",
       "      <td>0.002225</td>\n",
       "      <td>...</td>\n",
       "      <td>2543.10993</td>\n",
       "      <td>-0.001003</td>\n",
       "      <td>0.001896</td>\n",
       "      <td>0.001108</td>\n",
       "      <td>1163.51882</td>\n",
       "      <td>3</td>\n",
       "      <td>0</td>\n",
       "      <td>3</td>\n",
       "      <td>-968</td>\n",
       "      <td>0</td>\n",
       "    </tr>\n",
       "    <tr>\n",
       "      <th>2022-10-05 00:04:00</th>\n",
       "      <td>0.314475</td>\n",
       "      <td>-0.000397</td>\n",
       "      <td>-0.000397</td>\n",
       "      <td>-0.000397</td>\n",
       "      <td>0.0</td>\n",
       "      <td>-0.000397</td>\n",
       "      <td>0.001828</td>\n",
       "      <td>-0.000397</td>\n",
       "      <td>6768.0</td>\n",
       "      <td>0.001828</td>\n",
       "      <td>...</td>\n",
       "      <td>2543.10993</td>\n",
       "      <td>-0.001499</td>\n",
       "      <td>0.001401</td>\n",
       "      <td>0.000613</td>\n",
       "      <td>1163.51882</td>\n",
       "      <td>3</td>\n",
       "      <td>0</td>\n",
       "      <td>4</td>\n",
       "      <td>-968</td>\n",
       "      <td>0</td>\n",
       "    </tr>\n",
       "    <tr>\n",
       "      <th>...</th>\n",
       "      <td>...</td>\n",
       "      <td>...</td>\n",
       "      <td>...</td>\n",
       "      <td>...</td>\n",
       "      <td>...</td>\n",
       "      <td>...</td>\n",
       "      <td>...</td>\n",
       "      <td>...</td>\n",
       "      <td>...</td>\n",
       "      <td>...</td>\n",
       "      <td>...</td>\n",
       "      <td>...</td>\n",
       "      <td>...</td>\n",
       "      <td>...</td>\n",
       "      <td>...</td>\n",
       "      <td>...</td>\n",
       "      <td>...</td>\n",
       "      <td>...</td>\n",
       "      <td>...</td>\n",
       "      <td>...</td>\n",
       "      <td>...</td>\n",
       "    </tr>\n",
       "    <tr>\n",
       "      <th>2022-12-18 23:25:00</th>\n",
       "      <td>0.556500</td>\n",
       "      <td>0.004133</td>\n",
       "      <td>0.008625</td>\n",
       "      <td>0.004133</td>\n",
       "      <td>6351.0</td>\n",
       "      <td>0.004492</td>\n",
       "      <td>0.010961</td>\n",
       "      <td>0.006469</td>\n",
       "      <td>17734.0</td>\n",
       "      <td>0.010961</td>\n",
       "      <td>...</td>\n",
       "      <td>194.98097</td>\n",
       "      <td>0.001761</td>\n",
       "      <td>0.002117</td>\n",
       "      <td>0.002028</td>\n",
       "      <td>256.23527</td>\n",
       "      <td>7</td>\n",
       "      <td>23</td>\n",
       "      <td>25</td>\n",
       "      <td>-968</td>\n",
       "      <td>0</td>\n",
       "    </tr>\n",
       "    <tr>\n",
       "      <th>2022-12-18 23:26:00</th>\n",
       "      <td>0.558675</td>\n",
       "      <td>0.000134</td>\n",
       "      <td>0.007652</td>\n",
       "      <td>0.000134</td>\n",
       "      <td>11174.0</td>\n",
       "      <td>0.008010</td>\n",
       "      <td>0.012485</td>\n",
       "      <td>0.008010</td>\n",
       "      <td>6351.0</td>\n",
       "      <td>0.008368</td>\n",
       "      <td>...</td>\n",
       "      <td>194.98097</td>\n",
       "      <td>0.001862</td>\n",
       "      <td>0.002218</td>\n",
       "      <td>0.002129</td>\n",
       "      <td>256.23527</td>\n",
       "      <td>7</td>\n",
       "      <td>23</td>\n",
       "      <td>26</td>\n",
       "      <td>-968</td>\n",
       "      <td>0</td>\n",
       "    </tr>\n",
       "    <tr>\n",
       "      <th>2022-12-18 23:27:00</th>\n",
       "      <td>0.558375</td>\n",
       "      <td>-0.002552</td>\n",
       "      <td>0.002463</td>\n",
       "      <td>-0.001657</td>\n",
       "      <td>17904.0</td>\n",
       "      <td>-0.000403</td>\n",
       "      <td>0.007119</td>\n",
       "      <td>-0.000403</td>\n",
       "      <td>11174.0</td>\n",
       "      <td>0.007477</td>\n",
       "      <td>...</td>\n",
       "      <td>194.98097</td>\n",
       "      <td>0.001863</td>\n",
       "      <td>0.002219</td>\n",
       "      <td>0.002130</td>\n",
       "      <td>256.23527</td>\n",
       "      <td>7</td>\n",
       "      <td>23</td>\n",
       "      <td>27</td>\n",
       "      <td>-968</td>\n",
       "      <td>0</td>\n",
       "    </tr>\n",
       "    <tr>\n",
       "      <th>2022-12-18 23:28:00</th>\n",
       "      <td>0.556950</td>\n",
       "      <td>-0.004219</td>\n",
       "      <td>-0.000808</td>\n",
       "      <td>-0.001347</td>\n",
       "      <td>16408.0</td>\n",
       "      <td>-0.005117</td>\n",
       "      <td>-0.000090</td>\n",
       "      <td>-0.004219</td>\n",
       "      <td>17904.0</td>\n",
       "      <td>-0.002963</td>\n",
       "      <td>...</td>\n",
       "      <td>194.98097</td>\n",
       "      <td>0.001698</td>\n",
       "      <td>0.002054</td>\n",
       "      <td>0.001965</td>\n",
       "      <td>256.23527</td>\n",
       "      <td>7</td>\n",
       "      <td>23</td>\n",
       "      <td>28</td>\n",
       "      <td>-968</td>\n",
       "      <td>0</td>\n",
       "    </tr>\n",
       "    <tr>\n",
       "      <th>2022-12-18 23:29:00</th>\n",
       "      <td>0.556475</td>\n",
       "      <td>-0.003459</td>\n",
       "      <td>0.003010</td>\n",
       "      <td>0.000314</td>\n",
       "      <td>16064.0</td>\n",
       "      <td>-0.005077</td>\n",
       "      <td>-0.001662</td>\n",
       "      <td>-0.002201</td>\n",
       "      <td>16408.0</td>\n",
       "      <td>-0.005975</td>\n",
       "      <td>...</td>\n",
       "      <td>194.98097</td>\n",
       "      <td>0.001605</td>\n",
       "      <td>0.001961</td>\n",
       "      <td>0.001872</td>\n",
       "      <td>256.23527</td>\n",
       "      <td>7</td>\n",
       "      <td>23</td>\n",
       "      <td>29</td>\n",
       "      <td>-968</td>\n",
       "      <td>0</td>\n",
       "    </tr>\n",
       "  </tbody>\n",
       "</table>\n",
       "<p>107970 rows × 1607 columns</p>\n",
       "</div>"
      ],
      "text/plain": [
       "                        price    high-1     low-1   close-1  volume-1  \\\n",
       "date                                                                    \n",
       "2022-10-05 00:00:00  0.313900  0.000000  0.000000  0.000000       0.0   \n",
       "2022-10-05 00:01:00  0.313900  0.000000  0.000000  0.000000       0.0   \n",
       "2022-10-05 00:02:00  0.314325  0.001352  0.001352  0.001352       0.0   \n",
       "2022-10-05 00:03:00  0.314600  0.000000  0.002225  0.000000    6768.0   \n",
       "2022-10-05 00:04:00  0.314475 -0.000397 -0.000397 -0.000397       0.0   \n",
       "...                       ...       ...       ...       ...       ...   \n",
       "2022-12-18 23:25:00  0.556500  0.004133  0.008625  0.004133    6351.0   \n",
       "2022-12-18 23:26:00  0.558675  0.000134  0.007652  0.000134   11174.0   \n",
       "2022-12-18 23:27:00  0.558375 -0.002552  0.002463 -0.001657   17904.0   \n",
       "2022-12-18 23:28:00  0.556950 -0.004219 -0.000808 -0.001347   16408.0   \n",
       "2022-12-18 23:29:00  0.556475 -0.003459  0.003010  0.000314   16064.0   \n",
       "\n",
       "                       high-2     low-2   close-2  volume-2    high-3  ...  \\\n",
       "date                                                                   ...   \n",
       "2022-10-05 00:00:00  0.000000  0.000000  0.000000      93.0 -0.000637  ...   \n",
       "2022-10-05 00:01:00  0.000000  0.000000  0.000000       0.0  0.000000  ...   \n",
       "2022-10-05 00:02:00  0.001352  0.001352  0.001352       0.0  0.001352  ...   \n",
       "2022-10-05 00:03:00  0.002225  0.002225  0.002225       0.0  0.002225  ...   \n",
       "2022-10-05 00:04:00 -0.000397  0.001828 -0.000397    6768.0  0.001828  ...   \n",
       "...                       ...       ...       ...       ...       ...  ...   \n",
       "2022-12-18 23:25:00  0.004492  0.010961  0.006469   17734.0  0.010961  ...   \n",
       "2022-12-18 23:26:00  0.008010  0.012485  0.008010    6351.0  0.008368  ...   \n",
       "2022-12-18 23:27:00 -0.000403  0.007119 -0.000403   11174.0  0.007477  ...   \n",
       "2022-12-18 23:28:00 -0.005117 -0.000090 -0.004219   17904.0 -0.002963  ...   \n",
       "2022-12-18 23:29:00 -0.005077 -0.001662 -0.002201   16408.0 -0.005975  ...   \n",
       "\n",
       "                     BTC_volume-39_5min  BTC_high-40_5min  BTC_low-40_5min  \\\n",
       "date                                                                         \n",
       "2022-10-05 00:00:00          2543.10993         -0.001519         0.001382   \n",
       "2022-10-05 00:01:00          2543.10993         -0.001527         0.001373   \n",
       "2022-10-05 00:02:00          2543.10993         -0.001002         0.001896   \n",
       "2022-10-05 00:03:00          2543.10993         -0.001003         0.001896   \n",
       "2022-10-05 00:04:00          2543.10993         -0.001499         0.001401   \n",
       "...                                 ...               ...              ...   \n",
       "2022-12-18 23:25:00           194.98097          0.001761         0.002117   \n",
       "2022-12-18 23:26:00           194.98097          0.001862         0.002218   \n",
       "2022-12-18 23:27:00           194.98097          0.001863         0.002219   \n",
       "2022-12-18 23:28:00           194.98097          0.001698         0.002054   \n",
       "2022-12-18 23:29:00           194.98097          0.001605         0.001961   \n",
       "\n",
       "                     BTC_close-40_5min  BTC_volume-40_5min  day  hour  minute  \\\n",
       "date                                                                            \n",
       "2022-10-05 00:00:00           0.000594          1163.51882    3     0       0   \n",
       "2022-10-05 00:01:00           0.000585          1163.51882    3     0       1   \n",
       "2022-10-05 00:02:00           0.001109          1163.51882    3     0       2   \n",
       "2022-10-05 00:03:00           0.001108          1163.51882    3     0       3   \n",
       "2022-10-05 00:04:00           0.000613          1163.51882    3     0       4   \n",
       "...                                ...                 ...  ...   ...     ...   \n",
       "2022-12-18 23:25:00           0.002028           256.23527    7    23      25   \n",
       "2022-12-18 23:26:00           0.002129           256.23527    7    23      26   \n",
       "2022-12-18 23:27:00           0.002130           256.23527    7    23      27   \n",
       "2022-12-18 23:28:00           0.001965           256.23527    7    23      28   \n",
       "2022-12-18 23:29:00           0.001872           256.23527    7    23      29   \n",
       "\n",
       "                     lunch_day  buy  \n",
       "date                                 \n",
       "2022-10-05 00:00:00       -968    0  \n",
       "2022-10-05 00:01:00       -968    0  \n",
       "2022-10-05 00:02:00       -968    0  \n",
       "2022-10-05 00:03:00       -968    0  \n",
       "2022-10-05 00:04:00       -968    0  \n",
       "...                        ...  ...  \n",
       "2022-12-18 23:25:00       -968    0  \n",
       "2022-12-18 23:26:00       -968    0  \n",
       "2022-12-18 23:27:00       -968    0  \n",
       "2022-12-18 23:28:00       -968    0  \n",
       "2022-12-18 23:29:00       -968    0  \n",
       "\n",
       "[107970 rows x 1607 columns]"
      ]
     },
     "execution_count": 13,
     "metadata": {},
     "output_type": "execute_result"
    }
   ],
   "source": [
    "df"
   ]
  },
  {
   "cell_type": "code",
   "execution_count": null,
   "metadata": {},
   "outputs": [],
   "source": []
  },
  {
   "cell_type": "code",
   "execution_count": 14,
   "metadata": {},
   "outputs": [],
   "source": [
    "dt=df.to_numpy(dtype=np.float32)\n",
    "#dt=df.to_numpy()\n",
    "dt=np.nan_to_num(dt,nan=0)\n",
    "#dt=dt.astype(np.float32)\n",
    "dt=np.nan_to_num(dt, neginf=0) \n",
    "dt=np.nan_to_num(dt, posinf=0) "
   ]
  },
  {
   "cell_type": "code",
   "execution_count": 15,
   "metadata": {},
   "outputs": [
    {
     "data": {
      "text/plain": [
       "(107970, 1607)"
      ]
     },
     "execution_count": 15,
     "metadata": {},
     "output_type": "execute_result"
    }
   ],
   "source": [
    "dt.shape"
   ]
  },
  {
   "cell_type": "markdown",
   "metadata": {},
   "source": [
    "## 3- Tests and evaluations"
   ]
  },
  {
   "cell_type": "code",
   "execution_count": 22,
   "metadata": {},
   "outputs": [
    {
     "name": "stdout",
     "output_type": "stream",
     "text": [
      "2.173600867703185\n",
      "---buy_min_up--- Buy pct: 1.304160520621911%\n",
      "---buy_only--- no b\n",
      "df original shape (58441, 1207)\n",
      "df original shape buy mean : 0.8196300542427405\n",
      "df choosen data shape(58441, 1207)\n",
      "pair: False\n"
     ]
    }
   ],
   "source": [
    "dt=NormalDataTest(pair=\"GMT/USDT\")\n"
   ]
  },
  {
   "cell_type": "code",
   "execution_count": 16,
   "metadata": {},
   "outputs": [
    {
     "data": {
      "text/plain": [
       "'SNM/BUSD'"
      ]
     },
     "execution_count": 16,
     "metadata": {},
     "output_type": "execute_result"
    }
   ],
   "source": [
    "pair"
   ]
  },
  {
   "cell_type": "code",
   "execution_count": 17,
   "metadata": {},
   "outputs": [
    {
     "data": {
      "text/plain": [
       "0"
      ]
     },
     "execution_count": 17,
     "metadata": {},
     "output_type": "execute_result"
    }
   ],
   "source": [
    "df.iloc[-1,-1]"
   ]
  },
  {
   "cell_type": "code",
   "execution_count": 20,
   "metadata": {},
   "outputs": [
    {
     "data": {
      "text/plain": [
       "0.0"
      ]
     },
     "execution_count": 20,
     "metadata": {},
     "output_type": "execute_result"
    }
   ],
   "source": [
    "dt_unnormal[-1,-1]"
   ]
  },
  {
   "cell_type": "code",
   "execution_count": 19,
   "metadata": {},
   "outputs": [],
   "source": [
    "gc.collect()\n",
    "dt_unnormal=dt.copy()\n",
    "Y=dt_unnormal[:,-1]\n",
    "dt=normalize(dt[:,0:-1],nfile)"
   ]
  },
  {
   "cell_type": "code",
   "execution_count": 21,
   "metadata": {},
   "outputs": [],
   "source": [
    "X=np.nan_to_num(dt, neginf=0) \n",
    "X=np.nan_to_num(dt, posinf=0) "
   ]
  },
  {
   "cell_type": "code",
   "execution_count": 22,
   "metadata": {},
   "outputs": [
    {
     "name": "stdout",
     "output_type": "stream",
     "text": [
      "3375/3375 [==============================] - 13s 4ms/step - loss: 0.1080 - accuracy: 0.9705\n"
     ]
    },
    {
     "data": {
      "text/plain": [
       "[0.10804276913404465, 0.9705288410186768]"
      ]
     },
     "execution_count": 22,
     "metadata": {},
     "output_type": "execute_result"
    }
   ],
   "source": [
    "model.evaluate(X,Y)                                                                                                                                                                                                                                                                                                                                                                                                                                                                                                                                                                                                                                                                                                                                                                                                                                                                                                                                                                                                                                                                                                                                                                                                                                                                                                                                                                                                                                                                                                                                                                                                                                                                                                                                                                                                                                                                                                                                                                                                                                                                                                                                                                                                                                                                                                                                                                                                                                                                                                                                                                                                                                                                                                                                                                                                                                                                                                                                                                                                                                                                                                                                                                                                                                                                                                                                                                                                                                                                                                                                                                                                                                                                                                                                                                                                                                                                                                                                                                                                                                                                                                                                                                                                                                                                                                                                                                                                                                                                                                                                                                                                                                                                                                                                                                                                                                                                                                                                                                                                                                                                                                                                                         "
   ]
  },
  {
   "cell_type": "code",
   "execution_count": 23,
   "metadata": {},
   "outputs": [
    {
     "name": "stdout",
     "output_type": "stream",
     "text": [
      "26202\n"
     ]
    }
   ],
   "source": [
    "index_20pct= int(0.2*len(dt[:,0]))\n",
    "print(index_20pct)\n"
   ]
  },
  {
   "cell_type": "code",
   "execution_count": null,
   "metadata": {},
   "outputs": [],
   "source": [
    "buy_function=buy_min_up\n",
    "df=mini_expand3(pair=pair,i=0,j=len(df_list1m[pair]),window=WINDOW_SIZE,metadata=MetaData,BUY_PCT=BUY_PCT,SELL_PCT=SELL_PCT)\n",
    "print(\"df original shape \"+str(df.shape))\n",
    "print(f\"df original shape buy mean : {df.buy.mean()*100}\")\n",
    "df=df.reset_index()\n",
    "try:df.pop(\"num_index\")\n",
    "except: pass\n",
    "try:df.pop(\"index\")\n",
    "except: pass\n",
    "try:df.pop(\"date\")\n",
    "except: pass\n"
   ]
  },
  {
   "cell_type": "code",
   "execution_count": null,
   "metadata": {},
   "outputs": [],
   "source": [
    "pair"
   ]
  },
  {
   "cell_type": "code",
   "execution_count": null,
   "metadata": {},
   "outputs": [],
   "source": [
    "df"
   ]
  },
  {
   "cell_type": "code",
   "execution_count": null,
   "metadata": {},
   "outputs": [],
   "source": [
    "df.index[100]"
   ]
  },
  {
   "cell_type": "code",
   "execution_count": 23,
   "metadata": {},
   "outputs": [
    {
     "data": {
      "image/png": "[encoded data removed]",
      "text/plain": [
       "<Figure size 640x480 with 1 Axes>"
      ]
     },
     "metadata": {},
     "output_type": "display_data"
    }
   ],
   "source": [
    "import matplotlib.pyplot as plt\n",
    "\n",
    "i_start=22500\n",
    "i_end=i_start+1000\n",
    "x = np.linspace(0, 10, 500)\n",
    "dashes = [10, 5, 100, 5]  # 10 points on, 5 off, 100 on, 5 off\n",
    "\n",
    "fig, ax = plt.subplots()\n",
    "line1, = ax.plot(df.index[i_start:i_end], df.price[i_start:i_end], '-', linewidth=1,\n",
    "                 label='Dashes set retroactively')\n",
    "line1.set_dashes(dashes)\n",
    "plt.plot(df[i_start:i_end][df.buy[i_start:i_end]==1].index, df[i_start:i_end][df.buy[i_start:i_end]==1].price, 'ro')\n",
    "\n",
    "\n",
    "ax.legend(loc='lower right')\n",
    "plt.show()"
   ]
  },
  {
   "cell_type": "code",
   "execution_count": null,
   "metadata": {},
   "outputs": [],
   "source": []
  },
  {
   "cell_type": "code",
   "execution_count": 55,
   "metadata": {},
   "outputs": [
    {
     "data": {
      "text/plain": [
       "0"
      ]
     },
     "execution_count": 55,
     "metadata": {},
     "output_type": "execute_result"
    }
   ],
   "source": [
    "df.buy[df.buy==0].sum()"
   ]
  },
  {
   "cell_type": "code",
   "execution_count": 53,
   "metadata": {},
   "outputs": [
    {
     "data": {
      "image/png": "[encoded data removed]",
      "text/plain": [
       "<Figure size 640x480 with 1 Axes>"
      ]
     },
     "metadata": {},
     "output_type": "display_data"
    }
   ],
   "source": [
    "import matplotlib.pyplot as plt\n",
    "\n",
    "i_start=35000\n",
    "i_end=i_start+1000\n",
    "x = np.linspace(0, 10, 500)\n",
    "dashes = [10, 5, 100, 5]  # 10 points on, 5 off, 100 on, 5 off\n",
    "\n",
    "fig, ax = plt.subplots()\n",
    "line1, = ax.plot(np.arange(i_start,i_end), dt[i_start:i_end,0], '-', linewidth=1,\n",
    "                 label='Price')\n",
    "# line1.set_dashes(dashes)\n",
    "plt.plot(np.arange(i_start,i_end)[dt[i_start:i_end,-1]==1], dt[i_start:i_end,0][dt[i_start:i_end,-1]==1], 'ro')\n",
    "\n",
    "\n",
    "ax.legend(loc='lower right')\n",
    "plt.show()"
   ]
  },
  {
   "cell_type": "code",
   "execution_count": 31,
   "metadata": {},
   "outputs": [],
   "source": [
    "index_20pct=dt.shape[0]"
   ]
  },
  {
   "cell_type": "code",
   "execution_count": 32,
   "metadata": {},
   "outputs": [
    {
     "name": "stdout",
     "output_type": "stream",
     "text": [
      "1812/1812 [==============================] - 8s 4ms/step - loss: 0.0000e+00 - accuracy: 1.0000\n",
      "15/15 [==============================] - 0s 3ms/step - loss: inf - accuracy: 0.0000e+00\n",
      "1827/1827 [==============================] - 6s 3ms/step - loss: inf - accuracy: 0.9918\n",
      "1827/1827 [==============================] - 6s 3ms/step - loss: inf - accuracy: 0.9918\n",
      "class 0: 100.00 %\n",
      "class 1: 0.00 %\n",
      "FULL class : 99.18 %\n",
      "FULL class with all data: 99.18 %\n"
     ]
    }
   ],
   "source": [
    "\n",
    "XVALIDATION= dt[:index_20pct, :-1]\n",
    "YVALIDATION= dt[:index_20pct,-1]\n",
    "XTRAIN= dt[index_20pct:, 0:-1]\n",
    "YTRAIN= dt[index_20pct:,-1]\n",
    "\n",
    "\n",
    "XX0=XVALIDATION[YVALIDATION==0]\n",
    "YY0=YVALIDATION[YVALIDATION==0]\n",
    "\n",
    "INDEX_SEP=int(XX0.shape[0]/4)\n",
    "XX0Train=XX0[INDEX_SEP:]\n",
    "YY0Train=YY0[INDEX_SEP:]\n",
    "\n",
    "XX0Val=XX0[:INDEX_SEP]\n",
    "YY0Val=YY0[:INDEX_SEP]\n",
    "\n",
    "XX1=XVALIDATION[YVALIDATION==1]\n",
    "YY1=YVALIDATION[YVALIDATION==1]\n",
    "\n",
    "INDEX_SEP=int(XX1.shape[0]/4)\n",
    "XX1Train=XX1[INDEX_SEP:]\n",
    "YY1Train=YY1[INDEX_SEP:]\n",
    "\n",
    "XX1Val=XX1[:INDEX_SEP]\n",
    "YY1Val=YY1[:INDEX_SEP]\n",
    "\n",
    "\n",
    "accuracy0 = model.evaluate(XX0, YY0)\n",
    "accuracy1 = model.evaluate(XX1, YY1)\n",
    "accuracy = model.evaluate(XVALIDATION, YVALIDATION)\n",
    "maxaccuracy = model.evaluate(dt[:,:-1], dt[:,-1])\n",
    "\n",
    "print(f\"class 0: {format(accuracy0[1]*100,'0.2f')} %\")\n",
    "print(f\"class 1: {format(accuracy1[1]*100,'0.2f')} %\")\n",
    "print(f\"FULL class : {format(accuracy[1]*100,'0.2f')} %\")\n",
    "print(f\"FULL class with all data: {format(maxaccuracy[1]*100,'0.2f')} %\")\n",
    "\n",
    "#accuracy = model.evaluate(dt[:,0:-1], dt[:,-1])\n"
   ]
  },
  {
   "cell_type": "code",
   "execution_count": null,
   "metadata": {},
   "outputs": [],
   "source": [
    "# dftest=mini_expand3(pair=pair,i=0,j=len(df_list1m[pair]),window=WINDOW_SIZE,metadata=MetaData,BUY_PCT=0.4,SELL_PCT=SELL_PCT)\n",
    "dftest=df\n",
    "print(\"df original shape \"+str(dftest.shape))\n",
    "print(f\"df original shape buy mean : {dftest.buy.mean()*100}\")\n",
    "dftest=dftest.reset_index()\n",
    "try:dftest.pop(\"num_index\")\n",
    "except: pass\n",
    "try:dftest.pop(\"index\")\n",
    "except: pass\n",
    "try:dftest.pop(\"date\")\n",
    "except: pass\n",
    "dftest=data_shufler(dftest)            \n",
    "gc.collect()\n",
    "dftest=data_cleanup(dftest)\n",
    "dftest=dftest.dropna()\n",
    "df.pop(\"price\");print(\"we work with no price\")\n",
    "df.pop(\"BTC_price\")"
   ]
  },
  {
   "cell_type": "code",
   "execution_count": null,
   "metadata": {},
   "outputs": [],
   "source": [
    "dftest.buy.mean()"
   ]
  },
  {
   "cell_type": "code",
   "execution_count": 35,
   "metadata": {},
   "outputs": [],
   "source": [
    "#dtt=dftest.to_numpy(dtype=np.float32)\n",
    "dtt=dt\n",
    "#dt=df.to_numpy()\n",
    "dtt=np.nan_to_num(dtt,nan=0)\n",
    "#dt=dt.astype(np.float32)\n",
    "dtt=np.nan_to_num(dtt, neginf=0) \n",
    "dtt=np.nan_to_num(dtt, posinf=0) "
   ]
  },
  {
   "cell_type": "markdown",
   "metadata": {},
   "source": [
    "### stats plus"
   ]
  },
  {
   "cell_type": "code",
   "execution_count": 36,
   "metadata": {},
   "outputs": [
    {
     "name": "stdout",
     "output_type": "stream",
     "text": [
      "1827/1827 [==============================] - 7s 4ms/step\n"
     ]
    }
   ],
   "source": [
    "prediction2=(model.predict( dtt[:, 0:-1])).round()"
   ]
  },
  {
   "cell_type": "code",
   "execution_count": 37,
   "metadata": {},
   "outputs": [],
   "source": [
    "ixx=dtt.shape[0]"
   ]
  },
  {
   "cell_type": "code",
   "execution_count": 38,
   "metadata": {},
   "outputs": [],
   "source": [
    "False_prediction=dtt[:ixx,-1][(prediction2[:ixx].transpose()[0]!=dtt[:ixx])]\n",
    "True_prediction=dtt[:ixx,-1][(prediction2[:ixx].transpose()[0]==dtt[:ixx])]"
   ]
  },
  {
   "cell_type": "code",
   "execution_count": 45,
   "metadata": {},
   "outputs": [
    {
     "data": {
      "text/plain": [
       "0.8196300826966763"
      ]
     },
     "execution_count": 45,
     "metadata": {},
     "output_type": "execute_result"
    }
   ],
   "source": [
    "dtt[:,-1].mean()*100"
   ]
  },
  {
   "cell_type": "code",
   "execution_count": 44,
   "metadata": {},
   "outputs": [
    {
     "name": "stdout",
     "output_type": "stream",
     "text": [
      "Prediction mean :0.0 %#### the colose to 50 the better\n",
      "False prediction class 0 :99.18036994575726 %#### it mean that x of the 0 class are wrong the buyed witch lead the losses\n",
      "False prediction class 1 :0.8196300542427405 %#### we don't buy x % of the correct chanses\n",
      "True prediction class 0 :0.0 %#### it mean that 40 % of class 0 are predicted correctly\n",
      "True prediction class 1 :0.0 %#### the only buying correct of all\n",
      "successful buy pct of unsuccessfull: 0.0  %\n"
     ]
    }
   ],
   "source": [
    "fp0=False_prediction[False_prediction==0].shape[0]*100/ixx #### it mean that 11.73 of the 0 class are wrong the buyed witch lead the losses\n",
    "print( f\"Prediction mean :{prediction2.mean()*100} %\"+'#### the colose to 50 the better')\n",
    "print( f\"False prediction class 0 :{fp0} %\"+'#### it mean that x of the 0 class are wrong the buyed witch lead the losses')\n",
    "fp1=False_prediction[False_prediction==1].shape[0]*100/ixx   #### we don't buy x % of the correct chanses\n",
    "print( f\"False prediction class 1 :{fp1} %\"+'#### we don\\'t buy x % of the correct chanses')\n",
    "trp0=True_prediction[True_prediction==0].shape[0]*100/ixx   #### it mean that 40 % of class 0 are predicted correctly\n",
    "trp1=True_prediction[True_prediction==1].shape[0]*100/ixx     #### the only buying correct of all\n",
    "print( f\"True prediction class 0 :{trp0} %\"+'#### it mean that 40 % of class 0 are predicted correctly')\n",
    "print( f\"True prediction class 1 :{trp1} %\"+'#### the only buying correct of all')\n",
    "print(f\"successful buy pct of unsuccessfull: {100*trp1/(trp1+fp1)}  %\")\n"
   ]
  },
  {
   "cell_type": "code",
   "execution_count": 42,
   "metadata": {},
   "outputs": [],
   "source": [
    "Y=dtt[:,-1]"
   ]
  },
  {
   "cell_type": "code",
   "execution_count": 43,
   "metadata": {},
   "outputs": [
    {
     "name": "stdout",
     "output_type": "stream",
     "text": [
      "1827/1827 [==============================] - 8s 4ms/step - loss: inf - accuracy: 0.9918\n"
     ]
    },
    {
     "data": {
      "text/plain": [
       "[inf, 0.9918037056922913]"
      ]
     },
     "execution_count": 43,
     "metadata": {},
     "output_type": "execute_result"
    }
   ],
   "source": [
    "model.evaluate(dt[:index_20pct,:-1], Y[:index_20pct]) #3-> 66.76 / 4 -> 65.75\n"
   ]
  }
 ],
 "metadata": {
  "kernelspec": {
   "display_name": "Python 3",
   "language": "python",
   "name": "python3"
  },
  "language_info": {
   "codemirror_mode": {
    "name": "ipython",
    "version": 3
   },
   "file_extension": ".py",
   "mimetype": "text/x-python",
   "name": "python",
   "nbconvert_exporter": "python",
   "pygments_lexer": "ipython3",
   "version": "3.9.2"
  },
  "orig_nbformat": 4,
  "vscode": {
   "interpreter": {
    "hash": "767d51c1340bd893661ea55ea3124f6de3c7a262a8b4abca0554b478b1e2ff90"
   }
  }
 },
 "nbformat": 4,
 "nbformat_minor": 2
}
