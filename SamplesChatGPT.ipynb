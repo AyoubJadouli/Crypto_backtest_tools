{
 "cells": [
  {
   "attachments": {},
   "cell_type": "markdown",
   "metadata": {},
   "source": [
    "Sure, here's an example function that retrieves order history data from the Binance API and creates a pandas DataFrame with columns similar to the order history on the Binance website. The base_currency parameter is used to specify the currency that the orders are denominated in:"
   ]
  },
  {
   "cell_type": "code",
   "execution_count": null,
   "metadata": {},
   "outputs": [],
   "source": [
    "import pandas as pd\n",
    "from binance.client import Client\n",
    "from binance.enums import *\n",
    "\n",
    "def create_order_history_dataframe(api_key, api_secret, base_currency='USDT'):\n",
    "    # create a Binance API client\n",
    "    client = Client(api_key, api_secret)\n",
    "    \n",
    "    # get the order history data for the specified base currency\n",
    "    trades = client.get_my_trades(symbol=f'{base_currency.upper()}USDT')\n",
    "    \n",
    "    # create an empty DataFrame with the columns we need\n",
    "    columns = ['Order ID', 'Pair', 'Side', 'Price', 'Quantity', 'Executed', 'Time', 'Status']\n",
    "    df = pd.DataFrame(columns=columns)\n",
    "    \n",
    "    # populate the DataFrame with the order history data\n",
    "    for trade in trades:\n",
    "        order_id = trade['orderId']\n",
    "        pair = trade['symbol']\n",
    "        side = 'BUY' if trade['isBuyer'] else 'SELL'\n",
    "        price = trade['price']\n",
    "        quantity = trade['qty']\n",
    "        executed = trade['executedQty']\n",
    "        time = pd.to_datetime(trade['time'], unit='ms')\n",
    "        status = trade['status']\n",
    "        data = [order_id, pair, side, price, quantity, executed, time, status]\n",
    "        df = df.append(pd.Series(data, index=columns), ignore_index=True)\n",
    "    \n",
    "    # set the 'Time' column as the index of the DataFrame\n",
    "    df.set_index('Time', inplace=True)\n",
    "    \n",
    "    return df"
   ]
  },
  {
   "attachments": {},
   "cell_type": "markdown",
   "metadata": {},
   "source": [
    "This function uses the Binance Python API client to retrieve the order history data for the specified base currency (in this case, USDT by default). It then creates an empty pandas DataFrame with columns for the order ID, trading pair, buy/sell side, price, quantity, amount executed, timestamp, and order status. It populates the DataFrame with the data from each trade in the order history and sets the 'Time' column as the index of the DataFrame.\n",
    "\n",
    "You can call this function like this:"
   ]
  },
  {
   "attachments": {},
   "cell_type": "markdown",
   "metadata": {},
   "source": [
    " here's an example function that creates a pandas DataFrame with columns similar to the order history on the Binance website, but with fake data for backtesting purposes:"
   ]
  },
  {
   "cell_type": "code",
   "execution_count": 1,
   "metadata": {},
   "outputs": [
    {
     "name": "stderr",
     "output_type": "stream",
     "text": [
      "/usr/local/lib/python3.9/dist-packages/pandas/core/arrays/masked.py:59: UserWarning: Pandas requires version '1.3.2' or newer of 'bottleneck' (version '1.2.1' currently installed).\n",
      "  from pandas.core import (\n"
     ]
    }
   ],
   "source": [
    "import pandas as pd\n",
    "\n",
    "def create_order_history_dataframe(base_currency='USDT', start_time=None, end_time=None):\n",
    "    # generate fake order history data for the specified base currency\n",
    "    orders = []\n",
    "    pairs = ['BTC', 'ETH', 'BNB', 'ADA', 'DOT']\n",
    "    sides = ['BUY', 'SELL']\n",
    "    status = ['FILLED', 'PARTIALLY_FILLED', 'CANCELED']\n",
    "    for i in range(100):\n",
    "        order_id = f'order{i+1}'\n",
    "        pair = pairs[i%len(pairs)] + base_currency\n",
    "        side = sides[i%len(sides)]\n",
    "        price = round(10000 / (i+1), 4)\n",
    "        quantity = round(0.5 + (i % 5), 2)\n",
    "        executed = round(quantity / 2, 2)\n",
    "        time = pd.Timestamp('2022-01-01') + pd.Timedelta(days=i)\n",
    "        if end_time and time > end_time:\n",
    "            break\n",
    "        if start_time and time < start_time:\n",
    "            continue\n",
    "        s = status[i%len(status)]\n",
    "        orders.append([order_id, pair, side, price, quantity, executed, time, s])\n",
    "    \n",
    "    # create a pandas DataFrame from the order history data\n",
    "    columns = ['Order ID', 'Pair', 'Side', 'Price', 'Quantity', 'Executed', 'Time', 'Status']\n",
    "    df = pd.DataFrame(orders, columns=columns)\n",
    "    \n",
    "    # set the 'Time' column as the index of the DataFrame\n",
    "    df.set_index('Time', inplace=True)\n",
    "    \n",
    "    return df\n"
   ]
  },
  {
   "cell_type": "code",
   "execution_count": 2,
   "metadata": {},
   "outputs": [
    {
     "name": "stdout",
     "output_type": "stream",
     "text": [
      "            Order ID     Pair  Side       Price  Quantity  Executed  \\\n",
      "Time                                                                  \n",
      "2022-01-01    order1  BTCUSDT   BUY  10000.0000       0.5      0.25   \n",
      "2022-01-02    order2  ETHUSDT  SELL   5000.0000       1.5      0.75   \n",
      "2022-01-03    order3  BNBUSDT   BUY   3333.3333       2.5      1.25   \n",
      "2022-01-04    order4  ADAUSDT  SELL   2500.0000       3.5      1.75   \n",
      "2022-01-05    order5  DOTUSDT   BUY   2000.0000       4.5      2.25   \n",
      "...              ...      ...   ...         ...       ...       ...   \n",
      "2022-04-06   order96  BTCUSDT  SELL    104.1667       0.5      0.25   \n",
      "2022-04-07   order97  ETHUSDT   BUY    103.0928       1.5      0.75   \n",
      "2022-04-08   order98  BNBUSDT  SELL    102.0408       2.5      1.25   \n",
      "2022-04-09   order99  ADAUSDT   BUY    101.0101       3.5      1.75   \n",
      "2022-04-10  order100  DOTUSDT  SELL    100.0000       4.5      2.25   \n",
      "\n",
      "                      Status  \n",
      "Time                          \n",
      "2022-01-01            FILLED  \n",
      "2022-01-02  PARTIALLY_FILLED  \n",
      "2022-01-03          CANCELED  \n",
      "2022-01-04            FILLED  \n",
      "2022-01-05  PARTIALLY_FILLED  \n",
      "...                      ...  \n",
      "2022-04-06          CANCELED  \n",
      "2022-04-07            FILLED  \n",
      "2022-04-08  PARTIALLY_FILLED  \n",
      "2022-04-09          CANCELED  \n",
      "2022-04-10            FILLED  \n",
      "\n",
      "[100 rows x 7 columns]\n"
     ]
    }
   ],
   "source": [
    "# create the order history DataFrame for USDT trades\n",
    "df = create_order_history_dataframe(base_currency='USDT')\n",
    "\n",
    "# print the resulting DataFrame\n",
    "print(df)\n"
   ]
  }
 ],
 "metadata": {
  "kernelspec": {
   "display_name": "Python 3",
   "language": "python",
   "name": "python3"
  },
  "language_info": {
   "codemirror_mode": {
    "name": "ipython",
    "version": 3
   },
   "file_extension": ".py",
   "mimetype": "text/x-python",
   "name": "python",
   "nbconvert_exporter": "python",
   "pygments_lexer": "ipython3",
   "version": "3.9.2"
  },
  "orig_nbformat": 4,
  "vscode": {
   "interpreter": {
    "hash": "767d51c1340bd893661ea55ea3124f6de3c7a262a8b4abca0554b478b1e2ff90"
   }
  }
 },
 "nbformat": 4,
 "nbformat_minor": 2
}
