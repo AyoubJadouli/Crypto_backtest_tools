{
 "cells": [
  {
   "attachments": {},
   "cell_type": "markdown",
   "metadata": {},
   "source": [
    "First, let's import the necessary libraries and load the pre-trained models from the H5 files:"
   ]
  },
  {
   "cell_type": "code",
   "execution_count": 2,
   "metadata": {},
   "outputs": [
    {
     "name": "stderr",
     "output_type": "stream",
     "text": [
      "2023-03-04 01:05:28.120211: W tensorflow/stream_executor/platform/default/dso_loader.cc:64] Could not load dynamic library 'libcuda.so.1'; dlerror: libcuda.so.1: cannot open shared object file: No such file or directory\n",
      "2023-03-04 01:05:28.121332: W tensorflow/stream_executor/cuda/cuda_driver.cc:263] failed call to cuInit: UNKNOWN ERROR (303)\n",
      "2023-03-04 01:05:28.121921: I tensorflow/stream_executor/cuda/cuda_diagnostics.cc:169] retrieving CUDA diagnostic information for host: abj-K93SV\n",
      "2023-03-04 01:05:28.121957: I tensorflow/stream_executor/cuda/cuda_diagnostics.cc:176] hostname: abj-K93SV\n",
      "2023-03-04 01:05:28.123109: I tensorflow/stream_executor/cuda/cuda_diagnostics.cc:200] libcuda reported version is: NOT_FOUND: was unable to find libcuda.so DSO loaded into this program\n",
      "2023-03-04 01:05:28.124746: I tensorflow/stream_executor/cuda/cuda_diagnostics.cc:204] kernel reported version is: 390.154.0\n"
     ]
    }
   ],
   "source": [
    "from keras.models import Model\n",
    "from keras.layers import Input, concatenate, Dense\n",
    "from keras.models import load_model\n",
    "\n",
    "# Load the pre-trained models\n",
    "model1 = load_model('/UltimeTradingBot/Data/AFTER_DEPTH_CLOSE/tp130_w7_max16min_Model_vInit.h5')\n",
    "model2 = load_model('/UltimeTradingBot/Data/BUY_MIN_CLOSE/tp70_w7_max4min_Model_VeryDeep.h5')\n",
    "model3 = load_model('/UltimeTradingBot/Data/BUY_TEST/tp150_w7_max2min_Model_vInit.h5')\n"
   ]
  },
  {
   "attachments": {},
   "cell_type": "markdown",
   "metadata": {},
   "source": [
    "Next, we need to freeze the layers in each of the pre-trained models to prevent their weights from being updated during training:"
   ]
  },
  {
   "cell_type": "code",
   "execution_count": 3,
   "metadata": {},
   "outputs": [],
   "source": [
    "# Freeze the layers in each of the pre-trained models\n",
    "for layer in model1.layers:\n",
    "    layer.trainable = False\n",
    "    \n",
    "for layer in model2.layers:\n",
    "    layer.trainable = False\n",
    "    \n",
    "for layer in model3.layers:\n",
    "    layer.trainable = False\n"
   ]
  },
  {
   "attachments": {},
   "cell_type": "markdown",
   "metadata": {},
   "source": [
    "Then, we can define the input shape for our model and concatenate the outputs from the pre-trained models:"
   ]
  },
  {
   "cell_type": "code",
   "execution_count": 1,
   "metadata": {},
   "outputs": [
    {
     "ename": "NameError",
     "evalue": "name 'binary_model' is not defined",
     "output_type": "error",
     "traceback": [
      "\u001b[0;31m---------------------------------------------------------------------------\u001b[0m",
      "\u001b[0;31mNameError\u001b[0m                                 Traceback (most recent call last)",
      "Cell \u001b[0;32mIn [1], line 1\u001b[0m\n\u001b[0;32m----> 1\u001b[0m binary_model\u001b[39m.\u001b[39mcompile(optimizer\u001b[39m=\u001b[39m\u001b[39m'\u001b[39m\u001b[39madam\u001b[39m\u001b[39m'\u001b[39m,\n\u001b[1;32m      2\u001b[0m                      loss\u001b[39m=\u001b[39m\u001b[39m'\u001b[39m\u001b[39mbinary_crossentropy\u001b[39m\u001b[39m'\u001b[39m,\n\u001b[1;32m      3\u001b[0m                      metrics\u001b[39m=\u001b[39m[\u001b[39m'\u001b[39m\u001b[39maccuracy\u001b[39m\u001b[39m'\u001b[39m])\n",
      "\u001b[0;31mNameError\u001b[0m: name 'binary_model' is not defined"
     ]
    }
   ],
   "source": [
    "# Define the input shape for our model\n",
    "input_shape = (286,)\n",
    "\n",
    "# Define the input layer for our model\n",
    "input_layer = Input(shape=input_shape)\n",
    "\n",
    "# Concatenate the outputs from the pre-trained models\n",
    "concat_layer = concatenate([model1.output, model2.output, model3.output])\n"
   ]
  },
  {
   "attachments": {},
   "cell_type": "markdown",
   "metadata": {},
   "source": [
    "Train the model\n",
    "Finally, you can train the model on your data. You need to provide the same input data to the new model as the pre-trained models. You can do this by passing the input tensor to the inputs argument of the new model. For example:\n",
    "\n",
    "\n",
    "\n",
    "Here, input_tensor is a tensor of shape (num_samples, input_shape[0], input_shape[1], input_shape[2]) containing your input images, and labels is a tensor of shape (num_samples, 1) containing the binary labels (0 or 1) for each sample. You can adjust the number of epochs and batch size as needed for your data."
   ]
  },
  {
   "cell_type": "code",
   "execution_count": null,
   "metadata": {},
   "outputs": [],
   "source": [
    "# Add some deep layers on top of the concatenated outputs\n",
    "x = Dense(256, activation='relu')(concat_layer)\n",
    "x = Dense(128, activation='relu')(x)\n",
    "x = Dense(64, activation='relu')(x)\n",
    "x = Dense(32, activation='relu')(x)\n",
    "output_layer = Dense(1, activation='sigmoid')(x)\n"
   ]
  },
  {
   "cell_type": "code",
   "execution_count": null,
   "metadata": {},
   "outputs": [],
   "source": [
    "# Define our model\n",
    "model = Model(inputs=[model1.input, model2.input, model3.input], outputs=output_layer)\n",
    "\n",
    "# Compile the model\n",
    "model.compile(loss='binary_crossentropy', optimizer='adam', metrics=['accuracy'])\n"
   ]
  },
  {
   "cell_type": "code",
   "execution_count": null,
   "metadata": {},
   "outputs": [],
   "source": [
    "import numpy as np\n",
    "\n",
    "input_data = np.random.rand(100, 1, 286) # example input data\n",
    "labels = np.random.randint(0, 2, size=(100, 1)) # example binary labels\n",
    "\n",
    "binary_model.fit(x=input_data, y=labels, epochs=10, batch_size=32, validation_split=0.2)"
   ]
  }
 ],
 "metadata": {
  "kernelspec": {
   "display_name": "Python 3",
   "language": "python",
   "name": "python3"
  },
  "language_info": {
   "codemirror_mode": {
    "name": "ipython",
    "version": 3
   },
   "file_extension": ".py",
   "mimetype": "text/x-python",
   "name": "python",
   "nbconvert_exporter": "python",
   "pygments_lexer": "ipython3",
   "version": "3.9.2"
  },
  "orig_nbformat": 4,
  "vscode": {
   "interpreter": {
    "hash": "767d51c1340bd893661ea55ea3124f6de3c7a262a8b4abca0554b478b1e2ff90"
   }
  }
 },
 "nbformat": 4,
 "nbformat_minor": 2
}
