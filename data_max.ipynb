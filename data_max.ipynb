{
 "cells": [
  {
   "cell_type": "code",
   "execution_count": null,
   "metadata": {},
   "outputs": [],
   "source": [
    "import sys\n",
    "sys.path.append('/UltimeTradingBot/Crypto_backtest_tools')\n",
    "%cd /UltimeTradingBot/Crypto_backtest_tools\n",
    "from utilities.get_data import get_historical_from_db\n",
    "from utilities.backtesting import basic_single_asset_backtest, plot_wallet_vs_asset, get_metrics\n",
    "import pandas as pd\n",
    "import ccxt\n",
    "import matplotlib.pyplot as plt\n",
    "#import ta\n",
    "import numpy as np\n",
    "import random\n",
    "from sklearn.utils import shuffle\n",
    "import tensorflow as tf\n",
    "import seaborn as sns\n",
    "from utilities.backtesting import plot_wallet_vs_asset, get_metrics, get_n_columns, basic_multi_asset_backtest, plot_sharpe_evolution, plot_bar_by_month\n",
    "#from utilities.custom_indicators import SuperTrend\n",
    "pd.options.mode.chained_assignment = None  # default='warn'\n"
   ]
  },
  {
   "cell_type": "markdown",
   "metadata": {},
   "source": [
    "## Local functions"
   ]
  },
  {
   "cell_type": "code",
   "execution_count": 2,
   "metadata": {},
   "outputs": [],
   "source": [
    "\n",
    "def data_is_enough(df,days=10,window=10):\n",
    "    if days <= window:\n",
    "        return df[~df.isnull().any(axis=1) |(df[\"open-\"+str(days)+\"_day\"].isnull() & ~df[\"open-\"+str(window-1)+\"_hour\"].isnull()  & ~df[\"open-\"+str(window-1)+\"_5min\"].isnull() & ~df[\"open-\"+str(days-1)+\"_day\"].isnull())]\n",
    "    else:\n",
    "        prerr(\"number of days must be equal or lower than window\")\n",
    "        return df\n",
    "\n",
    "def data_cleanup(df):\n",
    "    return df[~df.isnull().any(axis=1)]\n",
    "    \n",
    "\n",
    "def data_shufler(df):\n",
    "    x = len(df)\n",
    "    df[\"num_index\"] = range(0, x, 1)\n",
    "    df.set_index(df['num_index'], inplace=True)\n",
    "    df = df.reindex(np.random.permutation(df.index))\n",
    "    df= df.drop(\"num_index\",axis=1)\n",
    "    df = df.reindex(np.random.permutation(df.index))\n",
    "    return df"
   ]
  },
  {
   "cell_type": "markdown",
   "metadata": {},
   "source": [
    "## import  raw dataset"
   ]
  },
  {
   "cell_type": "code",
   "execution_count": 3,
   "metadata": {},
   "outputs": [],
   "source": [
    "df=pd.read_csv('/gdrive/+DATA+/Xallok_w15_no_volume.csv')"
   ]
  },
  {
   "cell_type": "code",
   "execution_count": 7,
   "metadata": {},
   "outputs": [],
   "source": [
    "df=df.drop(columns=\"num_index\")"
   ]
  },
  {
   "cell_type": "code",
   "execution_count": null,
   "metadata": {},
   "outputs": [],
   "source": [
    "for k in df.keys():\n",
    "    if k.find(\"volume\")!=-1:print(k,end=\" ; \")"
   ]
  },
  {
   "cell_type": "code",
   "execution_count": null,
   "metadata": {},
   "outputs": [],
   "source": []
  },
  {
   "cell_type": "code",
   "execution_count": 12,
   "metadata": {},
   "outputs": [],
   "source": [
    "df=df.reindex(np.random.permutation(df.index))\n",
    "df=df.reindex(np.random.permutation(df.index))\n",
    "df=df.reindex(np.random.permutation(df.index))\n",
    "df.to_csv(\"w15_novolume.csv\")"
   ]
  }
 ],
 "metadata": {
  "kernelspec": {
   "display_name": "Python 3.9.2 64-bit",
   "language": "python",
   "name": "python3"
  },
  "language_info": {
   "codemirror_mode": {
    "name": "ipython",
    "version": 3
   },
   "file_extension": ".py",
   "mimetype": "text/x-python",
   "name": "python",
   "nbconvert_exporter": "python",
   "pygments_lexer": "ipython3",
   "version": "3.9.2"
  },
  "orig_nbformat": 4,
  "vscode": {
   "interpreter": {
    "hash": "e7370f93d1d0cde622a1f8e1c04877d8463912d04d973331ad4851f04de6915a"
   }
  }
 },
 "nbformat": 4,
 "nbformat_minor": 2
}
