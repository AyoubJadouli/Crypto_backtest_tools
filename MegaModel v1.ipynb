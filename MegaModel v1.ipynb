{
 "cells": [
  {
   "attachments": {},
   "cell_type": "markdown",
   "metadata": {},
   "source": [
    "Transfer learning involves taking a pre-trained model and adapting it to a new task. In your case, you have three pre-trained models, and you want to use them to build a binary classification model. Here are the steps to do this using Keras:\n",
    "\n",
    "    Load the pre-trained models\n",
    "    You need to load the three pre-trained models you have, and freeze their layers to prevent them from being trained further. You can do this using the include_top=False argument to exclude the final classification layer of the pre-trained models. For example, if you have pre-trained models named model1, model2, and model3, you can load them like this:"
   ]
  },
  {
   "cell_type": "code",
   "execution_count": null,
   "metadata": {},
   "outputs": [],
   "source": [
    "from keras.models import load_model\n",
    "model1=load_model()\n",
    "model2=load_model()\n",
    "model3=load_model()\n",
    "\n",
    "input_shape = (1, 286) # assuming input shape is (1, 286)\n",
    "base_model1 = model1(input_shape=input_shape, weights='imagenet', include_top=False)\n",
    "base_model2 = model2(input_shape=input_shape, weights='imagenet', include_top=False)\n",
    "base_model3 = model3(input_shape=input_shape, weights='imagenet', include_top=False)\n",
    "\n",
    "for layer in base_model1.layers:\n",
    "    layer.trainable = False\n",
    "for layer in base_model2.layers:\n",
    "    layer.trainable = False\n",
    "for layer in base_model3.layers:\n",
    "    layer.trainable = False"
   ]
  },
  {
   "attachments": {},
   "cell_type": "markdown",
   "metadata": {},
   "source": [
    "Build a new model for binary classification\n",
    "Next, you need to build a new model that takes the same input as the pre-trained models and outputs a binary classification. You can use the Sequential API to add layers to this model. For example, you can add a Global Average Pooling layer to the output of each pre-trained model, concatenate the three resulting feature vectors, and add a fully connected layer with a sigmoid activation function as the final output. Here's how you can build the new model:"
   ]
  },
  {
   "cell_type": "code",
   "execution_count": null,
   "metadata": {},
   "outputs": [],
   "source": [
    "from keras.models import Sequential\n",
    "from keras.layers import Flatten, Dense, Concatenate\n",
    "\n",
    "binary_model = Sequential()\n",
    "binary_model.add(base_model1)\n",
    "binary_model.add(Flatten())\n",
    "binary_model.add(base_model2)\n",
    "binary_model.add(Flatten())\n",
    "binary_model.add(base_model3)\n",
    "binary_model.add(Flatten())\n",
    "binary_model.add(Dense(1, activation='sigmoid'))\n"
   ]
  },
  {
   "attachments": {},
   "cell_type": "markdown",
   "metadata": {},
   "source": [
    "Compile the model\n",
    "Once you've built the new model, you need to compile it with an appropriate optimizer, loss function, and metric. For binary classification, a common choice is the binary_crossentropy loss function and the accuracy metric. For example:"
   ]
  },
  {
   "cell_type": "code",
   "execution_count": 1,
   "metadata": {},
   "outputs": [
    {
     "ename": "NameError",
     "evalue": "name 'binary_model' is not defined",
     "output_type": "error",
     "traceback": [
      "\u001b[0;31m---------------------------------------------------------------------------\u001b[0m",
      "\u001b[0;31mNameError\u001b[0m                                 Traceback (most recent call last)",
      "Cell \u001b[0;32mIn [1], line 1\u001b[0m\n\u001b[0;32m----> 1\u001b[0m binary_model\u001b[39m.\u001b[39mcompile(optimizer\u001b[39m=\u001b[39m\u001b[39m'\u001b[39m\u001b[39madam\u001b[39m\u001b[39m'\u001b[39m,\n\u001b[1;32m      2\u001b[0m                      loss\u001b[39m=\u001b[39m\u001b[39m'\u001b[39m\u001b[39mbinary_crossentropy\u001b[39m\u001b[39m'\u001b[39m,\n\u001b[1;32m      3\u001b[0m                      metrics\u001b[39m=\u001b[39m[\u001b[39m'\u001b[39m\u001b[39maccuracy\u001b[39m\u001b[39m'\u001b[39m])\n",
      "\u001b[0;31mNameError\u001b[0m: name 'binary_model' is not defined"
     ]
    }
   ],
   "source": [
    "binary_model.compile(optimizer='adam',\n",
    "                     loss='binary_crossentropy',\n",
    "                     metrics=['accuracy'])\n"
   ]
  },
  {
   "attachments": {},
   "cell_type": "markdown",
   "metadata": {},
   "source": [
    "Train the model\n",
    "Finally, you can train the model on your data. You need to provide the same input data to the new model as the pre-trained models. You can do this by passing the input tensor to the inputs argument of the new model. For example:\n",
    "\n",
    "\n",
    "\n",
    "Here, input_tensor is a tensor of shape (num_samples, input_shape[0], input_shape[1], input_shape[2]) containing your input images, and labels is a tensor of shape (num_samples, 1) containing the binary labels (0 or 1) for each sample. You can adjust the number of epochs and batch size as needed for your data."
   ]
  },
  {
   "cell_type": "code",
   "execution_count": null,
   "metadata": {},
   "outputs": [],
   "source": [
    "import numpy as np\n",
    "\n",
    "input_data = np.random.rand(100, 1, 286) # example input data\n",
    "labels = np.random.randint(0, 2, size=(100, 1)) # example binary labels\n",
    "\n",
    "binary_model.fit(x=input_data, y=labels, epochs=10, batch_size=32, validation_split=0.2)\n"
   ]
  },
  {
   "cell_type": "code",
   "execution_count": null,
   "metadata": {},
   "outputs": [],
   "source": []
  }
 ],
 "metadata": {
  "kernelspec": {
   "display_name": "Python 3",
   "language": "python",
   "name": "python3"
  },
  "language_info": {
   "codemirror_mode": {
    "name": "ipython",
    "version": 3
   },
   "file_extension": ".py",
   "mimetype": "text/x-python",
   "name": "python",
   "nbconvert_exporter": "python",
   "pygments_lexer": "ipython3",
   "version": "3.9.2"
  },
  "orig_nbformat": 4,
  "vscode": {
   "interpreter": {
    "hash": "767d51c1340bd893661ea55ea3124f6de3c7a262a8b4abca0554b478b1e2ff90"
   }
  }
 },
 "nbformat": 4,
 "nbformat_minor": 2
}
