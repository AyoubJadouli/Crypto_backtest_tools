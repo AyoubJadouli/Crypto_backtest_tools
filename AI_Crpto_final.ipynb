{
 "cells": [
  {
   "cell_type": "markdown",
   "metadata": {},
   "source": [
    "# Final Model Prediction"
   ]
  },
  {
   "cell_type": "code",
   "execution_count": 3,
   "metadata": {},
   "outputs": [],
   "source": [
    "import sys\n",
    "sys.path.append('a/UltimeTradingBot/Crypto_backtest_tools')\n",
    "import pandas as pd\n",
    "import json\n",
    "import numpy as np\n",
    "import random\n",
    "from keras.models import load_model\n",
    "import os\n",
    "import tensorflow as tf"
   ]
  },
  {
   "cell_type": "markdown",
   "metadata": {},
   "source": [
    "## loding the model"
   ]
  },
  {
   "cell_type": "code",
   "execution_count": 4,
   "metadata": {},
   "outputs": [],
   "source": [
    "model = load_model('FinalModelPrediction.hdf5')"
   ]
  },
  {
   "cell_type": "markdown",
   "metadata": {},
   "source": [
    "Loding Data"
   ]
  },
  {
   "cell_type": "code",
   "execution_count": null,
   "metadata": {},
   "outputs": [],
   "source": [
    "df = pd.read_csv('D:/+DATA+/allok_w15_nosell.csv',index_col=0)\n",
    "high_weight=3\n",
    "df[\"high\"]=(df[\"open\"]+high_weight*df[\"high\"]+df[\"low\"]+df[\"close\"])/(3+high_weight)\n",
    "df.rename(columns={\"high\":\"price\"},inplace = True)\n",
    "df[\"BTC_high\"]=(df[\"BTC_open\"]+high_weight*df[\"BTC_high\"]+df[\"BTC_low\"]+df[\"BTC_close\"])/(3+high_weight)\n",
    "df.rename(columns={\"BTC_high\":\"BTC_price\"},inplace = True)\n",
    "df=df.drop(columns=[\"BTC_open\",\"BTC_low\",\"BTC_close\",\"open\",\"low\",\"close\"])\n"
   ]
  },
  {
   "cell_type": "code",
   "execution_count": null,
   "metadata": {},
   "outputs": [],
   "source": [
    "df.iloc[0]"
   ]
  },
  {
   "cell_type": "markdown",
   "metadata": {},
   "source": [
    "Persentage Nomalization"
   ]
  },
  {
   "cell_type": "code",
   "execution_count": 5,
   "metadata": {},
   "outputs": [
    {
     "ename": "NameError",
     "evalue": "name 'df' is not defined",
     "output_type": "error",
     "traceback": [
      "\u001b[1;31m---------------------------------------------------------------------------\u001b[0m",
      "\u001b[1;31mNameError\u001b[0m                                 Traceback (most recent call last)",
      "\u001b[1;32m~\\AppData\\Local\\Temp/ipykernel_20540/87620107.py\u001b[0m in \u001b[0;36m<module>\u001b[1;34m\u001b[0m\n\u001b[1;32m----> 1\u001b[1;33m \u001b[1;32mfor\u001b[0m \u001b[0mkey\u001b[0m \u001b[1;32min\u001b[0m \u001b[0mdf\u001b[0m\u001b[1;33m.\u001b[0m\u001b[0mkeys\u001b[0m\u001b[1;33m(\u001b[0m\u001b[1;33m)\u001b[0m\u001b[1;33m:\u001b[0m\u001b[1;33m\u001b[0m\u001b[1;33m\u001b[0m\u001b[0m\n\u001b[0m\u001b[0;32m      2\u001b[0m     if key.find(\"BTC\")!=-1 and (key.find(\"open\")!=-1 or\n\u001b[0;32m      3\u001b[0m     key.find(\"high\")!=-1 or key.find(\"low\")!=-1 or key.find(\"close\")!=-1):\n\u001b[0;32m      4\u001b[0m         \u001b[0mdf\u001b[0m\u001b[1;33m[\u001b[0m\u001b[0mkey\u001b[0m\u001b[1;33m]\u001b[0m\u001b[1;33m=\u001b[0m\u001b[1;33m(\u001b[0m\u001b[0mdf\u001b[0m\u001b[1;33m[\u001b[0m\u001b[1;34m\"BTC_price\"\u001b[0m\u001b[1;33m]\u001b[0m\u001b[1;33m-\u001b[0m\u001b[0mdf\u001b[0m\u001b[1;33m[\u001b[0m\u001b[0mkey\u001b[0m\u001b[1;33m]\u001b[0m\u001b[1;33m)\u001b[0m\u001b[1;33m/\u001b[0m\u001b[0mdf\u001b[0m\u001b[1;33m[\u001b[0m\u001b[1;34m\"BTC_price\"\u001b[0m\u001b[1;33m]\u001b[0m\u001b[1;33m\u001b[0m\u001b[1;33m\u001b[0m\u001b[0m\n\u001b[0;32m      5\u001b[0m     if key.find(\"BTC\")==-1 and (key.find(\"open\")!=-1 or\n",
      "\u001b[1;31mNameError\u001b[0m: name 'df' is not defined"
     ]
    }
   ],
   "source": [
    "for key in df.keys():\n",
    "    if key.find(\"BTC\")!=-1 and (key.find(\"open\")!=-1 or\n",
    "    key.find(\"high\")!=-1 or key.find(\"low\")!=-1 or key.find(\"close\")!=-1):\n",
    "        df[key]=(df[\"BTC_price\"]-df[key])/df[\"BTC_price\"]\n",
    "    if key.find(\"BTC\")==-1 and (key.find(\"open\")!=-1 or\n",
    "    key.find(\"high\")!=-1 or key.find(\"low\")!=-1 or key.find(\"close\")!=-1):\n",
    "        df[key]=(df[\"price\"]-df[key])/df[\"price\"]"
   ]
  },
  {
   "cell_type": "markdown",
   "metadata": {},
   "source": [
    "Import Normalization values"
   ]
  },
  {
   "cell_type": "code",
   "execution_count": 6,
   "metadata": {},
   "outputs": [],
   "source": [
    "def normalize(dataset,file='Normalization_Values_Final.json'):\n",
    "    global Normalization\n",
    "    try:\n",
    "        N=Normalization\n",
    "    except:\n",
    "        Normalization==None\n",
    "    if(Normalization==None):\n",
    "        print('Loading normalization from file')\n",
    "        with open(file) as json_file:\n",
    "            Normalization = json.load(json_file)\n",
    "    else:\n",
    "        print('normalization is loaded')\n",
    "\n",
    "    mean=np.array(Normalization[\"mean\"])\n",
    "    std=np.array(Normalization[\"std\"])\n",
    "    dataset -= mean \n",
    "    dataset /= std\n",
    "    return(dataset)\n"
   ]
  },
  {
   "cell_type": "code",
   "execution_count": null,
   "metadata": {},
   "outputs": [],
   "source": [
    "dt=df.drop(columns=[\"buy\"]).to_numpy()"
   ]
  },
  {
   "cell_type": "code",
   "execution_count": null,
   "metadata": {},
   "outputs": [],
   "source": [
    "Y=df.drop(columns=[\"buy\".to_numpy()])"
   ]
  },
  {
   "cell_type": "code",
   "execution_count": 7,
   "metadata": {},
   "outputs": [],
   "source": [
    "def Buy_Dessision(input):\n",
    "    A=np.array(input)\n",
    "    A = A.reshape(1,A.shape[0])\n",
    "    predictions = model.predict(normalize(A))\n",
    "    rounded = [round(x[0]) for x in predictions]\n",
    "    return(rounded[0])\n",
    "\n",
    "def Buy_Dessision_Normalized(input):\n",
    "    A=np.array(input)\n",
    "    A = A.reshape(1,A.shape[0])\n",
    "    predictions = model.predict(A)\n",
    "    rounded = [round(x[0]) for x in predictions]\n",
    "    return(rounded[0])\n",
    "\n",
    "def Buy_Dessision_Multi_In_Out(input):\n",
    "    A=np.array(input)\n",
    "    predictions = model.predict(normalize(A))\n",
    "    rounded = [round(x[0]) for x in predictions]\n",
    "    return(rounded)\n",
    "\n",
    "def Buy_Dessision_Multi_In_Out_Normalized(input):\n",
    "    A=np.array(input)\n",
    "    predictions = model.predict(A)\n",
    "    rounded = [round(x[0]) for x in predictions]\n",
    "    return(rounded)"
   ]
  },
  {
   "cell_type": "code",
   "execution_count": null,
   "metadata": {},
   "outputs": [],
   "source": [
    "Buy_Dessision(df.drop(columns=[\"buy\"]).iloc[111520])"
   ]
  },
  {
   "cell_type": "code",
   "execution_count": 142,
   "metadata": {},
   "outputs": [],
   "source": [
    "import os\n",
    "os.environ[\"CUDA_DEVICE_ORDER\"]=\"PCI_BUS_ID\"\n",
    "os.environ[\"CUDA_VISIBLE_DEVICES\"]=\"0\""
   ]
  },
  {
   "cell_type": "code",
   "execution_count": 147,
   "metadata": {},
   "outputs": [
    {
     "name": "stdout",
     "output_type": "stream",
     "text": [
      "33887/33887 [==============================] - 411s 12ms/step - loss: 0.3554 - accuracy: 0.9220\n"
     ]
    }
   ],
   "source": [
    "with tf.device('/cpu:0'):\n",
    "    accuracy = model.evaluate(dt, Y)\n",
    "print(\"accuracy: \"str(accuracy[1]))\n"
   ]
  },
  {
   "cell_type": "code",
   "execution_count": 22,
   "metadata": {},
   "outputs": [],
   "source": [
    "import ccxt\n",
    "Exchange=ccxt.binance()\n",
    "ex=Exchange"
   ]
  },
  {
   "cell_type": "code",
   "execution_count": 27,
   "metadata": {},
   "outputs": [
    {
     "data": {
      "text/plain": [
       "'18385.83000000'"
      ]
     },
     "execution_count": 27,
     "metadata": {},
     "output_type": "execute_result"
    }
   ],
   "source": [
    "bitcoin_ticker = Exchange.fetch_ticker('BTC/USDT')\n",
    "bitcoin_ticker['info']['askPrice']\n"
   ]
  },
  {
   "cell_type": "code",
   "execution_count": 24,
   "metadata": {},
   "outputs": [
    {
     "data": {
      "text/plain": [
       "'18398.77000000'"
      ]
     },
     "execution_count": 24,
     "metadata": {},
     "output_type": "execute_result"
    }
   ],
   "source": []
  },
  {
   "cell_type": "code",
   "execution_count": 38,
   "metadata": {},
   "outputs": [
    {
     "data": {
      "text/plain": [
       "array([1470.89817,  956.71927,  964.05919,  799.82492,  966.49763,\n",
       "        715.62772, 1174.58647,  931.53968, 1227.95439, 1333.94053,\n",
       "       1119.03133, 1114.87588, 1809.99656, 1672.69011,  321.70569])"
      ]
     },
     "execution_count": 38,
     "metadata": {},
     "output_type": "execute_result"
    }
   ],
   "source": [
    "ohlcv = ex.fetch_ohlcv('BTC/USDT', '1m', limit=15)\n",
    "ohlcv = ex.fetch_ohlcv('BTC/USDT', '5m', limit=15)\n",
    "ohlcv = ex.fetch_ohlcv('BTC/USDT', '15m', limit=15)\n",
    "ohlcv = ex.fetch_ohlcv('BTC/USDT', '1h', limit=15)\n",
    "ohlcv = ex.fetch_ohlcv('BTC/USDT', '1d', limit=15)\n",
    "\n",
    "np.array(ohlcv)[:,5]"
   ]
  }
 ],
 "metadata": {
  "kernelspec": {
   "display_name": "Python 3.9.7 ('base')",
   "language": "python",
   "name": "python3"
  },
  "language_info": {
   "codemirror_mode": {
    "name": "ipython",
    "version": 3
   },
   "file_extension": ".py",
   "mimetype": "text/x-python",
   "name": "python",
   "nbconvert_exporter": "python",
   "pygments_lexer": "ipython3",
   "version": "3.9.7"
  },
  "orig_nbformat": 4,
  "vscode": {
   "interpreter": {
    "hash": "875f36f95367728e9e1ed7321fa85119a0c86f1195820c7e047475fcf301cc07"
   }
  }
 },
 "nbformat": 4,
 "nbformat_minor": 2
}
