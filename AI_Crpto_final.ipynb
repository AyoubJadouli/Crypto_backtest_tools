{
 "cells": [
  {
   "cell_type": "markdown",
   "metadata": {},
   "source": [
    "# Final Model Prediction"
   ]
  },
  {
   "cell_type": "code",
   "execution_count": 6,
   "metadata": {},
   "outputs": [],
   "source": [
    "import sys\n",
    "sys.path.append('a/UltimeTradingBot/Crypto_backtest_tools')\n",
    "import pandas as pd\n",
    "import json\n",
    "import numpy as np\n",
    "import urllib\n",
    "#import ccxt\n",
    "import ccxt.async_support as ccxt  \n",
    "import random\n",
    "from keras.models import load_model\n",
    "import os\n",
    "import asyncio\n",
    "import tensorflow as tf"
   ]
  },
  {
   "cell_type": "markdown",
   "metadata": {},
   "source": [
    "## Garbage collection"
   ]
  },
  {
   "cell_type": "code",
   "execution_count": 7,
   "metadata": {},
   "outputs": [
    {
     "data": {
      "text/plain": [
       "42"
      ]
     },
     "execution_count": 7,
     "metadata": {},
     "output_type": "execute_result"
    }
   ],
   "source": [
    "import gc\n",
    "gc.collect()    "
   ]
  },
  {
   "cell_type": "markdown",
   "metadata": {},
   "source": [
    "## Local Functions first"
   ]
  },
  {
   "cell_type": "code",
   "execution_count": 8,
   "metadata": {},
   "outputs": [],
   "source": [
    "# Get list of all IDs on binance\n",
    "def give_first_kline_open_stamp(interval, symbol, start_ts=1499990400000):\n",
    "        '''\n",
    "        Returns the first kline from an interval and start timestamp and symbol\n",
    "        :param interval:  1w, 1d, 1m etc - the bar length to query\n",
    "        :param symbol:    BTCUSDT or LTCBTC etc\n",
    "        :param start_ts:  Timestamp in miliseconds to start the query from\n",
    "        :return:          The first open candle timestamp\n",
    "        '''\n",
    "\n",
    "        url_stub = \"http://api.binance.com/api/v1/klines?interval=\"\n",
    "\n",
    "        #/api/v1/klines?interval=1m&startTime=1536349500000&symbol=ETCBNB\n",
    "        addInterval   = url_stub     + str(interval) + \"&\"\n",
    "        addStarttime  = addInterval   + \"startTime=\"  + str(start_ts) + \"&\"\n",
    "        addSymbol     = addStarttime + \"symbol=\"     + str(symbol)\n",
    "        url_to_get = addSymbol\n",
    "\n",
    "        kline_data = urllib.request.urlopen(url_to_get).read().decode(\"utf-8\")\n",
    "        kline_data = json.loads(kline_data)\n",
    "\n",
    "        return kline_data[0][0]\n",
    "\n",
    "def get_crypto_metadata(pair_list):\n",
    "    Binance_USDT_HALAL=pair_list\n",
    "    ids = []\n",
    "    #ids = all_ids()\n",
    "    for halalpair in Binance_USDT_HALAL:\n",
    "    #    print( halalpair.replace('/',''))\n",
    "        ids.append(halalpair.replace('/',''))\n",
    "    #print(ids)\n",
    "    MetaData=pd.DataFrame(ids)\n",
    "    MetaData[\"Pair\"]=Binance_USDT_HALAL\n",
    "    counters=0\n",
    "    for this_id in ids:\n",
    "        '''\n",
    "        Find launch Week of symbol, start at Binance launch date 2017-07-14 (1499990400000)\n",
    "        Find launch Day of symbol in week\n",
    "        Find launch minute of symbol in day\n",
    "        '''\n",
    "\n",
    "        symbol_launch_week_stamp   = give_first_kline_open_stamp('1w', this_id, 1499990400000 )\n",
    "        symbol_launch_day_stamp    = give_first_kline_open_stamp('1d', this_id, symbol_launch_week_stamp)\n",
    "        symbol_launch_minute_stamp = give_first_kline_open_stamp('1m', this_id, symbol_launch_day_stamp)\n",
    "        MetaData.loc[counters,\"launch_week_stamp\"]=str(symbol_launch_week_stamp)\n",
    "        MetaData.loc[counters,\"launch_day_stamp\"]=str(symbol_launch_day_stamp)\n",
    "        MetaData.loc[counters,\"launch_minute\"]=pd.to_datetime(symbol_launch_minute_stamp, unit='ms')\n",
    "\n",
    "        counters += 1\n",
    "\n",
    "        #print(\"Week stamp\", symbol_launch_week_stamp)\n",
    "        #print(\"Day  stamp\", symbol_launch_day_stamp)\n",
    "        #print(\"Min  stamp\", symbol_launch_minute_stamp)\n",
    "        print(counters,end=\" \")\n",
    "        #print(this_id, \"launched\", symbol_launch_minute_stamp )\n",
    "    return MetaData\n",
    "    #print(\"\")\n",
    "    \n",
    "def instant_pair_data(pair=\"GMT/BUSD\",exchange=ccxt.binance(),window=15):\n",
    "    ex=exchange\n",
    "    ticker = ex.fetch_ticker(pair)\n",
    "    pair_current_price=ticker['info']['askPrice']\n",
    "    #print(pair_current_price)\n",
    "\n",
    "    ohlcv1m = ex.fetch_ohlcv(pair, '1m', limit=15)\n",
    "    ohlcv5m = ex.fetch_ohlcv(pair, '5m', limit=15)\n",
    "    ohlcv15m = ex.fetch_ohlcv(pair, '15m', limit=15)\n",
    "    ohlcv1h = ex.fetch_ohlcv(pair, '1h', limit=15)\n",
    "    ohlcv1d = ex.fetch_ohlcv(pair, '1d', limit=15)\n",
    "\n",
    "    pair_data=pd.DataFrame()\n",
    "    pair_data.loc[0,\"price\"]=float(pair_current_price)\n",
    "    #minute\n",
    "    for window_i in range(1,window+1):\n",
    "        pair_data.loc[0,\"high-\"+str(window_i)]=ohlcv1m[-window_i][1]\n",
    "        pair_data.loc[0,\"low-\"+str(window_i)]=ohlcv1m[-window_i][2]\n",
    "        pair_data.loc[0,\"open-\"+str(window_i)]=ohlcv1m[-window_i][0]\n",
    "        pair_data.loc[0,\"close-\"+str(window_i)]=ohlcv1m[-window_i][3]\n",
    "        if(window_i!=1):pair_data.loc[0,\"volume-\"+str(window_i)]=ohlcv1m[-window_i][4]\n",
    "\n",
    "    for window_i in range(1,window+1):\n",
    "        pair_data.loc[0,\"high-\"+str(window_i)+\"_day\"]=ohlcv1d[-window_i][1]\n",
    "        pair_data.loc[0,\"low-\"+str(window_i)+\"_day\"]=ohlcv1d[-window_i][2]\n",
    "        pair_data.loc[0,\"open-\"+str(window_i)+\"_day\"]=ohlcv1d[-window_i][0]\n",
    "        pair_data.loc[0,\"close-\"+str(window_i)+\"_day\"]=ohlcv1d[-window_i][3]\n",
    "        if(window_i!=1):pair_data.loc[0,\"volume-\"+str(window_i)+\"_day\"]=ohlcv1d[-window_i][4]  \n",
    "\n",
    "    for window_i in range(1,window+1):\n",
    "        pair_data.loc[0,\"high-\"+str(window_i)+\"_hour\"]=ohlcv1h[-window_i][1]\n",
    "        pair_data.loc[0,\"low-\"+str(window_i)+\"_hour\"]=ohlcv1h[-window_i][2]\n",
    "        pair_data.loc[0,\"open-\"+str(window_i)+\"_hour\"]=ohlcv1h[-window_i][0]\n",
    "        pair_data.loc[0,\"close-\"+str(window_i)+\"_hour\"]=ohlcv1h[-window_i][3]\n",
    "        if(window_i!=1):pair_data.loc[0,\"volume-\"+str(window_i)+\"_hour\"]=ohlcv1h[-window_i][4]  \n",
    "\n",
    "    for window_i in range(1,window+1):\n",
    "        pair_data.loc[0,\"high-\"+str(window_i)+\"_15min\"]=ohlcv15m[-window_i][1]\n",
    "        pair_data.loc[0,\"low-\"+str(window_i)+\"_15min\"]=ohlcv15m[-window_i][2]\n",
    "        pair_data.loc[0,\"open-\"+str(window_i)+\"_15min\"]=ohlcv15m[-window_i][0]\n",
    "        pair_data.loc[0,\"close-\"+str(window_i)+\"_15min\"]=ohlcv15m[-window_i][3]\n",
    "        if(window_i!=1):pair_data.loc[0,\"volume-\"+str(window_i)+\"_15min\"]=ohlcv5m[-window_i][4]  \n",
    "\n",
    "    for window_i in range(1,window+1):\n",
    "        pair_data.loc[0,\"high-\"+str(window_i)+\"_5min\"]=ohlcv5m[-window_i][1]\n",
    "        pair_data.loc[0,\"low-\"+str(window_i)+\"_5min\"]=ohlcv5m[-window_i][2]\n",
    "        pair_data.loc[0,\"open-\"+str(window_i)+\"_5min\"]=ohlcv5m[-window_i][0]\n",
    "        pair_data.loc[0,\"close-\"+str(window_i)+\"_5min\"]=ohlcv5m[-window_i][3]\n",
    "        if(window_i!=1):pair_data.loc[0,\"volume-\"+str(window_i)+\"_5min\"]=ohlcv5m[-window_i][4]   \n",
    "    return  pair_data\n",
    "\n",
    "def normalize(dataset,file='Normalization_Values.json'):\n",
    "    global Normalization\n",
    "    try:\n",
    "        N=Normalization\n",
    "    except:\n",
    "        Normalization=None\n",
    "    if(Normalization==None):\n",
    "        print('Loading normalization from file')\n",
    "        with open(file) as json_file:\n",
    "            Normalization = json.load(json_file)\n",
    "    else:\n",
    "        print('normalization is loaded')\n",
    "\n",
    "    mean=np.array(Normalization[\"mean\"])\n",
    "    std=np.array(Normalization[\"std\"])\n",
    "    dataset -= mean \n",
    "    dataset /= std\n",
    "    return(dataset)\n",
    "\n",
    "def Buy_Dessision(input):\n",
    "    A=np.array(input)\n",
    "    A = A.reshape(1,A.shape[0])\n",
    "    predictions = model.predict(normalize(A))\n",
    "    rounded = [round(x[0]) for x in predictions]\n",
    "    return(rounded[0])\n",
    "\n",
    "def Buy_Dessision_Normalized(input):\n",
    "    A=np.array(input)\n",
    "    A = A.reshape(1,A.shape[0])\n",
    "    predictions = model.predict(A)\n",
    "    rounded = [round(x[0]) for x in predictions]\n",
    "    return(rounded[0])\n",
    "\n",
    "def Buy_Dessision_Multi_In_Out(input):\n",
    "    A=np.array(input)\n",
    "    predictions = model.predict(normalize(A))\n",
    "    rounded = [round(x[0]) for x in predictions]\n",
    "    return(rounded)\n",
    "\n",
    "def Buy_Dessision_Multi_In_Out_Normalized(input):\n",
    "    A=np.array(input)\n",
    "    predictions = model.predict(A)\n",
    "    rounded = [round(x[0]) for x in predictions]\n",
    "    return(rounded)"
   ]
  },
  {
   "cell_type": "markdown",
   "metadata": {},
   "source": [
    "## Gloabale variables"
   ]
  },
  {
   "cell_type": "code",
   "execution_count": 9,
   "metadata": {},
   "outputs": [],
   "source": [
    "Normalization=None\n",
    "Model_FileName='XcryptoAi_model.hdf5'\n",
    "Normalization_File='Normalization_Values.json'\n",
    "Binance_USDT_HALAL = [\n",
    "    \"BTC/USDT\",\n",
    "    \"LUNA/USDT\",\n",
    "    \"ETH/USDT\",\n",
    "    \"GMT/USDT\",\n",
    "    \"UST/USDT\",\n",
    "    \"SOL/USDT\",\n",
    "    \"APE/USDT\",\n",
    "    \"XRP/USDT\",\n",
    "    \"IDEX/USDT\",\n",
    "    \"AVAX/USDT\",\n",
    "    \"DOT/USDT\",\n",
    "    \"ADA/USDT\",\n",
    "    \"JASMY/USDT\",\n",
    "    \"TRX/USDT\",\n",
    "    \"NEAR/USDT\",\n",
    "    \"AXS/USDT\",\n",
    "    \"GAL/USDT\",\n",
    "    \"GALA/USDT\",\n",
    "    \"SHIB/USDT\",\n",
    "    \"ZIL/USDT\",\n",
    "    \"ENS/USDT\",\n",
    "    \"DOGE/USDT\",\n",
    "    \"LTC/USDT\",\n",
    "    \"EUR/USDT\",\n",
    "    \"MANA/USDT\",\n",
    "    \"DAR/USDT\",\n",
    "    \"WAVES/USDT\",\n",
    "    \"LAZIO/USDT\",\n",
    "    \"ALICE/USDT\",\n",
    "    \"ROSE/USDT\",\n",
    "    \"ZEC/USDT\",\n",
    "    \"ALGO/USDT\",\n",
    "    \"GRT/USDT\",\n",
    "    \"PSG/USDT\",\n",
    "    \"SLP/USDT\",\n",
    "    \"EOS/USDT\",\n",
    "    \"PORTO/USDT\",\n",
    "    \"ICP/USDT\",\n",
    "    \"EGLD/USDT\",\n",
    "    \"XMR/USDT\",\n",
    "    \"KDA/USDT\",\n",
    "    \"ETC/USDT\",\n",
    "    \"MBOX/USDT\",\n",
    "    \"OGN/USDT\",\n",
    "    \"AR/USDT\",\n",
    "    \"GLMR/USDT\",\n",
    "    \"LOKA/USDT\",\n",
    "    \"XLM/USDT\",\n",
    "    \"MTL/USDT\",\n",
    "    \"SNX/USDT\",\n",
    "    \"PYR/USDT\",\n",
    "    \"DASH/USDT\",\n",
    "    \"CITY/USDT\",\n",
    "    \"ASTR/USDT\",\n",
    "    \"IOTA/USDT\",\n",
    "    \"ACM/USDT\",\n",
    "    \"BAR/USDT\",\n",
    "    \"JUV/USDT\",\n",
    "    \"SYS/USDT\",\n",
    "    \"RVN/USDT\",\n",
    "    \"MBL/USDT\",\n",
    "    \"REN/USDT\",\n",
    "    \"JST/USDT\",\n",
    "    \"OMG/USDT\",\n",
    "    \"ATM/USDT\",\n",
    "    \"XEC/USDT\",\n",
    "    \"STORJ/USDT\",\n",
    "    \"ZRX/USDT\",\n",
    "    \"SRM/USDT\",\n",
    "    \"ICX/USDT\",\n",
    "    \"API3/USDT\",\n",
    "    \"ONT/USDT\",\n",
    "    \"SKL/USDT\",\n",
    "    \"MULTI/USDT\",\n",
    "    \"QTUM/USDT\",\n",
    "    \"COCOS/USDT\",\n",
    "    \"VOXEL/USDT\",\n",
    "    \"HIVE/USDT\",\n",
    "    \"KP3R/USDT\",\n",
    "    \"ATA/USDT\",\n",
    "    \"STMX/USDT\",\n",
    "    \"ADX/USDT\",\n",
    "    \"HIGH/USDT\",\n",
    "    \"NULS/USDT\",\n",
    "    \"MLN/USDT\",\n",
    "    \"YGG/USDT\",\n",
    "    \"SC/USDT\",\n",
    "    \"CKB/USDT\",\n",
    "    \"TOMO/USDT\",\n",
    "    \"STX/USDT\",\n",
    "    \"FLUX/USDT\",\n",
    "    \"DNT/USDT\",\n",
    "    \"ORN/USDT\",\n",
    "    \"PLA/USDT\",\n",
    "    \"BADGER/USDT\",\n",
    "    \"DF/USDT\",\n",
    "    \"MOB/USDT\",\n",
    "    \"LPT/USDT\",\n",
    "    \"SCRT/USDT\",\n",
    "    \"RAD/USDT\",\n",
    "    \"NMR/USDT\",\n",
    "    \"ELF/USDT\",\n",
    "    \"TORN/USDT\",\n",
    "    \"T/USDT\",\n",
    "    \"QUICK/USDT\",\n",
    "    \"LSK/USDT\",\n",
    "    \"FIDA/USDT\",\n",
    "    \"XNO/USDT\",\n",
    "    \"BTG/USDT\",\n",
    "    \"GHST/USDT\",\n",
    "    \"EPS/USDT\"\n",
    "]\n",
    "\n",
    "pair_list = Binance_USDT_HALAL\n"
   ]
  },
  {
   "cell_type": "code",
   "execution_count": 10,
   "metadata": {},
   "outputs": [],
   "source": [
    "try:\n",
    "    MetaData=pd.read_csv(\"D:\\+DATA+\\MetaData.csv\")\n",
    "except:\n",
    "    MetaData=get_crypto_metadata(Binance_USDT_HALAL)\n"
   ]
  },
  {
   "cell_type": "markdown",
   "metadata": {},
   "source": [
    "## loding the model"
   ]
  },
  {
   "cell_type": "code",
   "execution_count": 11,
   "metadata": {},
   "outputs": [],
   "source": [
    "model = load_model(Model_FileName)"
   ]
  },
  {
   "cell_type": "markdown",
   "metadata": {},
   "source": [
    "Loding Data"
   ]
  },
  {
   "cell_type": "code",
   "execution_count": 12,
   "metadata": {},
   "outputs": [
    {
     "ename": "KeyboardInterrupt",
     "evalue": "",
     "output_type": "error",
     "traceback": [
      "\u001b[1;31m---------------------------------------------------------------------------\u001b[0m",
      "\u001b[1;31mKeyboardInterrupt\u001b[0m                         Traceback (most recent call last)",
      "Cell \u001b[1;32mIn [12], line 1\u001b[0m\n\u001b[1;32m----> 1\u001b[0m df \u001b[38;5;241m=\u001b[39m \u001b[43mpd\u001b[49m\u001b[38;5;241;43m.\u001b[39;49m\u001b[43mread_csv\u001b[49m\u001b[43m(\u001b[49m\u001b[38;5;124;43m'\u001b[39;49m\u001b[38;5;124;43mA:/UltimeTradingBot/Crypto_backtest_tools/cleaned_w15_50percent_novolume.csv\u001b[39;49m\u001b[38;5;124;43m'\u001b[39;49m\u001b[43m,\u001b[49m\u001b[43mindex_col\u001b[49m\u001b[38;5;241;43m=\u001b[39;49m\u001b[38;5;241;43m0\u001b[39;49m\u001b[43m)\u001b[49m\n",
      "File \u001b[1;32mc:\\LIB\\Anaconda3\\lib\\site-packages\\pandas\\util\\_decorators.py:311\u001b[0m, in \u001b[0;36mdeprecate_nonkeyword_arguments.<locals>.decorate.<locals>.wrapper\u001b[1;34m(*args, **kwargs)\u001b[0m\n\u001b[0;32m    305\u001b[0m \u001b[39mif\u001b[39;00m \u001b[39mlen\u001b[39m(args) \u001b[39m>\u001b[39m num_allow_args:\n\u001b[0;32m    306\u001b[0m     warnings\u001b[39m.\u001b[39mwarn(\n\u001b[0;32m    307\u001b[0m         msg\u001b[39m.\u001b[39mformat(arguments\u001b[39m=\u001b[39marguments),\n\u001b[0;32m    308\u001b[0m         \u001b[39mFutureWarning\u001b[39;00m,\n\u001b[0;32m    309\u001b[0m         stacklevel\u001b[39m=\u001b[39mstacklevel,\n\u001b[0;32m    310\u001b[0m     )\n\u001b[1;32m--> 311\u001b[0m \u001b[39mreturn\u001b[39;00m func(\u001b[39m*\u001b[39margs, \u001b[39m*\u001b[39m\u001b[39m*\u001b[39mkwargs)\n",
      "File \u001b[1;32mc:\\LIB\\Anaconda3\\lib\\site-packages\\pandas\\io\\parsers\\readers.py:586\u001b[0m, in \u001b[0;36mread_csv\u001b[1;34m(filepath_or_buffer, sep, delimiter, header, names, index_col, usecols, squeeze, prefix, mangle_dupe_cols, dtype, engine, converters, true_values, false_values, skipinitialspace, skiprows, skipfooter, nrows, na_values, keep_default_na, na_filter, verbose, skip_blank_lines, parse_dates, infer_datetime_format, keep_date_col, date_parser, dayfirst, cache_dates, iterator, chunksize, compression, thousands, decimal, lineterminator, quotechar, quoting, doublequote, escapechar, comment, encoding, encoding_errors, dialect, error_bad_lines, warn_bad_lines, on_bad_lines, delim_whitespace, low_memory, memory_map, float_precision, storage_options)\u001b[0m\n\u001b[0;32m    571\u001b[0m kwds_defaults \u001b[39m=\u001b[39m _refine_defaults_read(\n\u001b[0;32m    572\u001b[0m     dialect,\n\u001b[0;32m    573\u001b[0m     delimiter,\n\u001b[1;32m   (...)\u001b[0m\n\u001b[0;32m    582\u001b[0m     defaults\u001b[39m=\u001b[39m{\u001b[39m\"\u001b[39m\u001b[39mdelimiter\u001b[39m\u001b[39m\"\u001b[39m: \u001b[39m\"\u001b[39m\u001b[39m,\u001b[39m\u001b[39m\"\u001b[39m},\n\u001b[0;32m    583\u001b[0m )\n\u001b[0;32m    584\u001b[0m kwds\u001b[39m.\u001b[39mupdate(kwds_defaults)\n\u001b[1;32m--> 586\u001b[0m \u001b[39mreturn\u001b[39;00m _read(filepath_or_buffer, kwds)\n",
      "File \u001b[1;32mc:\\LIB\\Anaconda3\\lib\\site-packages\\pandas\\io\\parsers\\readers.py:488\u001b[0m, in \u001b[0;36m_read\u001b[1;34m(filepath_or_buffer, kwds)\u001b[0m\n\u001b[0;32m    485\u001b[0m     \u001b[39mreturn\u001b[39;00m parser\n\u001b[0;32m    487\u001b[0m \u001b[39mwith\u001b[39;00m parser:\n\u001b[1;32m--> 488\u001b[0m     \u001b[39mreturn\u001b[39;00m parser\u001b[39m.\u001b[39;49mread(nrows)\n",
      "File \u001b[1;32mc:\\LIB\\Anaconda3\\lib\\site-packages\\pandas\\io\\parsers\\readers.py:1047\u001b[0m, in \u001b[0;36mTextFileReader.read\u001b[1;34m(self, nrows)\u001b[0m\n\u001b[0;32m   1045\u001b[0m \u001b[39mdef\u001b[39;00m \u001b[39mread\u001b[39m(\u001b[39mself\u001b[39m, nrows\u001b[39m=\u001b[39m\u001b[39mNone\u001b[39;00m):\n\u001b[0;32m   1046\u001b[0m     nrows \u001b[39m=\u001b[39m validate_integer(\u001b[39m\"\u001b[39m\u001b[39mnrows\u001b[39m\u001b[39m\"\u001b[39m, nrows)\n\u001b[1;32m-> 1047\u001b[0m     index, columns, col_dict \u001b[39m=\u001b[39m \u001b[39mself\u001b[39;49m\u001b[39m.\u001b[39;49m_engine\u001b[39m.\u001b[39;49mread(nrows)\n\u001b[0;32m   1049\u001b[0m     \u001b[39mif\u001b[39;00m index \u001b[39mis\u001b[39;00m \u001b[39mNone\u001b[39;00m:\n\u001b[0;32m   1050\u001b[0m         \u001b[39mif\u001b[39;00m col_dict:\n\u001b[0;32m   1051\u001b[0m             \u001b[39m# Any column is actually fine:\u001b[39;00m\n",
      "File \u001b[1;32mc:\\LIB\\Anaconda3\\lib\\site-packages\\pandas\\io\\parsers\\c_parser_wrapper.py:224\u001b[0m, in \u001b[0;36mCParserWrapper.read\u001b[1;34m(self, nrows)\u001b[0m\n\u001b[0;32m    222\u001b[0m \u001b[39mtry\u001b[39;00m:\n\u001b[0;32m    223\u001b[0m     \u001b[39mif\u001b[39;00m \u001b[39mself\u001b[39m\u001b[39m.\u001b[39mlow_memory:\n\u001b[1;32m--> 224\u001b[0m         chunks \u001b[39m=\u001b[39m \u001b[39mself\u001b[39;49m\u001b[39m.\u001b[39;49m_reader\u001b[39m.\u001b[39;49mread_low_memory(nrows)\n\u001b[0;32m    225\u001b[0m         \u001b[39m# destructive to chunks\u001b[39;00m\n\u001b[0;32m    226\u001b[0m         data \u001b[39m=\u001b[39m _concatenate_chunks(chunks)\n",
      "File \u001b[1;32mc:\\LIB\\Anaconda3\\lib\\site-packages\\pandas\\_libs\\parsers.pyx:801\u001b[0m, in \u001b[0;36mpandas._libs.parsers.TextReader.read_low_memory\u001b[1;34m()\u001b[0m\n",
      "File \u001b[1;32mc:\\LIB\\Anaconda3\\lib\\site-packages\\pandas\\_libs\\parsers.pyx:880\u001b[0m, in \u001b[0;36mpandas._libs.parsers.TextReader._read_rows\u001b[1;34m()\u001b[0m\n",
      "File \u001b[1;32mc:\\LIB\\Anaconda3\\lib\\site-packages\\pandas\\_libs\\parsers.pyx:1026\u001b[0m, in \u001b[0;36mpandas._libs.parsers.TextReader._convert_column_data\u001b[1;34m()\u001b[0m\n",
      "File \u001b[1;32mc:\\LIB\\Anaconda3\\lib\\site-packages\\pandas\\_libs\\parsers.pyx:1073\u001b[0m, in \u001b[0;36mpandas._libs.parsers.TextReader._convert_tokens\u001b[1;34m()\u001b[0m\n",
      "File \u001b[1;32mc:\\LIB\\Anaconda3\\lib\\site-packages\\pandas\\_libs\\parsers.pyx:1129\u001b[0m, in \u001b[0;36mpandas._libs.parsers.TextReader._convert_with_dtype\u001b[1;34m()\u001b[0m\n",
      "File \u001b[1;32mc:\\LIB\\Anaconda3\\lib\\site-packages\\pandas\\core\\dtypes\\common.py:1420\u001b[0m, in \u001b[0;36mis_extension_array_dtype\u001b[1;34m(arr_or_dtype)\u001b[0m\n\u001b[0;32m   1413\u001b[0m     \u001b[39m# Note: if other EA dtypes are ever held in HybridBlock, exclude those\u001b[39;00m\n\u001b[0;32m   1414\u001b[0m     \u001b[39m#  here too.\u001b[39;00m\n\u001b[0;32m   1415\u001b[0m     \u001b[39m# NB: need to check DatetimeTZDtype and not is_datetime64tz_dtype\u001b[39;00m\n\u001b[0;32m   1416\u001b[0m     \u001b[39m#  to exclude ArrowTimestampUSDtype\u001b[39;00m\n\u001b[0;32m   1417\u001b[0m     \u001b[39mreturn\u001b[39;00m \u001b[39misinstance\u001b[39m(dtype, ExtensionDtype) \u001b[39mand\u001b[39;00m \u001b[39mnot\u001b[39;00m \u001b[39misinstance\u001b[39m(dtype, DatetimeTZDtype)\n\u001b[1;32m-> 1420\u001b[0m \u001b[39mdef\u001b[39;00m \u001b[39mis_extension_array_dtype\u001b[39m(arr_or_dtype) \u001b[39m-\u001b[39m\u001b[39m>\u001b[39m \u001b[39mbool\u001b[39m:\n\u001b[0;32m   1421\u001b[0m     \u001b[39m\"\"\"\u001b[39;00m\n\u001b[0;32m   1422\u001b[0m \u001b[39m    Check if an object is a pandas extension array type.\u001b[39;00m\n\u001b[0;32m   1423\u001b[0m \n\u001b[1;32m   (...)\u001b[0m\n\u001b[0;32m   1463\u001b[0m \u001b[39m    False\u001b[39;00m\n\u001b[0;32m   1464\u001b[0m \u001b[39m    \"\"\"\u001b[39;00m\n\u001b[0;32m   1465\u001b[0m     dtype \u001b[39m=\u001b[39m \u001b[39mgetattr\u001b[39m(arr_or_dtype, \u001b[39m\"\u001b[39m\u001b[39mdtype\u001b[39m\u001b[39m\"\u001b[39m, arr_or_dtype)\n",
      "\u001b[1;31mKeyboardInterrupt\u001b[0m: "
     ]
    }
   ],
   "source": [
    "df = pd.read_csv('A:/UltimeTradingBot/Crypto_backtest_tools/cleaned_w15_50percent_novolume.csv',index_col=0)\n",
    "# high_weight=3\n",
    "# df[\"high\"]=(df[\"open\"]+high_weight*df[\"high\"]+df[\"low\"]+df[\"close\"])/(3+high_weight)\n",
    "# df.rename(columns={\"high\":\"price\"},inplace = True)\n",
    "# df[\"BTC_high\"]=(df[\"BTC_open\"]+high_weight*df[\"BTC_high\"]+df[\"BTC_low\"]+df[\"BTC_close\"])/(3+high_weight)\n",
    "# df.rename(columns={\"BTC_high\":\"BTC_price\"},inplace = True)\n",
    "# df=df.drop(columns=[\"BTC_open\",\"BTC_low\",\"BTC_close\",\"open\",\"low\",\"close\"])\n"
   ]
  },
  {
   "cell_type": "code",
   "execution_count": null,
   "metadata": {},
   "outputs": [
    {
     "data": {
      "text/plain": [
       "price          0.258300\n",
       "high-1        -0.006194\n",
       "low-1          0.001549\n",
       "open-1        -0.002710\n",
       "close-1       -0.004259\n",
       "                ...    \n",
       "day            1.000000\n",
       "hour          15.000000\n",
       "minute        18.000000\n",
       "lunch_day   -117.000000\n",
       "buy            1.000000\n",
       "Name: 5, Length: 747, dtype: float64"
      ]
     },
     "execution_count": 52,
     "metadata": {},
     "output_type": "execute_result"
    }
   ],
   "source": [
    "df.iloc[0]"
   ]
  },
  {
   "cell_type": "code",
   "execution_count": null,
   "metadata": {},
   "outputs": [],
   "source": [
    "# for key in df.keys():\n",
    "#     if key.find(\"BTC\")!=-1 and (key.find(\"open\")!=-1 or\n",
    "#     key.find(\"high\")!=-1 or key.find(\"low\")!=-1 or key.find(\"close\")!=-1):\n",
    "#         df[key]=(df[\"BTC_price\"]-df[key])/df[\"BTC_price\"]\n",
    "#     if key.find(\"BTC\")==-1 and (key.find(\"open\")!=-1 or\n",
    "#     key.find(\"high\")!=-1 or key.find(\"low\")!=-1 or key.find(\"close\")!=-1):\n",
    "#         df[key]=(df[\"price\"]-df[key])/df[\"price\"]"
   ]
  },
  {
   "cell_type": "code",
   "execution_count": null,
   "metadata": {},
   "outputs": [],
   "source": [
    "#df['volume'][0]\n",
    "# VolRemover=[\"volume\",\"volume-1\",\"BTC_volume\",\"BTC_volume-1\"]\n",
    "# #VolRemover=[]\n",
    "# for key in df.keys():\n",
    "#     if key.find(\"volume-1_\") != -1 :\n",
    "#         VolRemover.append(key)\n",
    "# print(VolRemover)\n",
    "# df=df.drop(columns=VolRemover)# "
   ]
  },
  {
   "cell_type": "code",
   "execution_count": null,
   "metadata": {},
   "outputs": [
    {
     "name": "stderr",
     "output_type": "stream",
     "text": [
      "C:\\Users\\ayoub\\AppData\\Local\\Temp\\ipykernel_4636\\1716042835.py:1: UserWarning: Boolean Series key will be reindexed to match DataFrame index.\n",
      "  df[df['day']==3][df[\"buy\"]==1]\n"
     ]
    },
    {
     "data": {
      "text/html": [
       "<div>\n",
       "<style scoped>\n",
       "    .dataframe tbody tr th:only-of-type {\n",
       "        vertical-align: middle;\n",
       "    }\n",
       "\n",
       "    .dataframe tbody tr th {\n",
       "        vertical-align: top;\n",
       "    }\n",
       "\n",
       "    .dataframe thead th {\n",
       "        text-align: right;\n",
       "    }\n",
       "</style>\n",
       "<table border=\"1\" class=\"dataframe\">\n",
       "  <thead>\n",
       "    <tr style=\"text-align: right;\">\n",
       "      <th></th>\n",
       "      <th>price</th>\n",
       "      <th>high-1</th>\n",
       "      <th>low-1</th>\n",
       "      <th>open-1</th>\n",
       "      <th>close-1</th>\n",
       "      <th>high-2</th>\n",
       "      <th>low-2</th>\n",
       "      <th>open-2</th>\n",
       "      <th>close-2</th>\n",
       "      <th>volume-2</th>\n",
       "      <th>...</th>\n",
       "      <th>BTC_high-15_5min</th>\n",
       "      <th>BTC_low-15_5min</th>\n",
       "      <th>BTC_open-15_5min</th>\n",
       "      <th>BTC_close-15_5min</th>\n",
       "      <th>BTC_volume-15_5min</th>\n",
       "      <th>day</th>\n",
       "      <th>hour</th>\n",
       "      <th>minute</th>\n",
       "      <th>lunch_day</th>\n",
       "      <th>buy</th>\n",
       "    </tr>\n",
       "  </thead>\n",
       "  <tbody>\n",
       "    <tr>\n",
       "      <th>25</th>\n",
       "      <td>0.266187</td>\n",
       "      <td>-0.006700</td>\n",
       "      <td>-0.004446</td>\n",
       "      <td>-0.005723</td>\n",
       "      <td>-0.004483</td>\n",
       "      <td>-0.007263</td>\n",
       "      <td>-0.004784</td>\n",
       "      <td>-0.006061</td>\n",
       "      <td>-0.005723</td>\n",
       "      <td>8.135990e+04</td>\n",
       "      <td>...</td>\n",
       "      <td>-0.004625</td>\n",
       "      <td>-0.002497</td>\n",
       "      <td>-0.004625</td>\n",
       "      <td>-0.002908</td>\n",
       "      <td>121.085350</td>\n",
       "      <td>3</td>\n",
       "      <td>7</td>\n",
       "      <td>7</td>\n",
       "      <td>-617</td>\n",
       "      <td>1</td>\n",
       "    </tr>\n",
       "    <tr>\n",
       "      <th>51</th>\n",
       "      <td>0.000093</td>\n",
       "      <td>-0.003151</td>\n",
       "      <td>0.000609</td>\n",
       "      <td>-0.003151</td>\n",
       "      <td>0.000609</td>\n",
       "      <td>-0.003151</td>\n",
       "      <td>0.000609</td>\n",
       "      <td>0.000501</td>\n",
       "      <td>-0.002291</td>\n",
       "      <td>4.693775e+08</td>\n",
       "      <td>...</td>\n",
       "      <td>-0.005787</td>\n",
       "      <td>-0.003975</td>\n",
       "      <td>-0.004048</td>\n",
       "      <td>-0.005608</td>\n",
       "      <td>70.892530</td>\n",
       "      <td>3</td>\n",
       "      <td>0</td>\n",
       "      <td>34</td>\n",
       "      <td>-611</td>\n",
       "      <td>1</td>\n",
       "    </tr>\n",
       "    <tr>\n",
       "      <th>68</th>\n",
       "      <td>55.441667</td>\n",
       "      <td>-0.001233</td>\n",
       "      <td>0.001653</td>\n",
       "      <td>-0.001233</td>\n",
       "      <td>0.000752</td>\n",
       "      <td>-0.000691</td>\n",
       "      <td>0.001653</td>\n",
       "      <td>0.001653</td>\n",
       "      <td>-0.000691</td>\n",
       "      <td>2.454000e+01</td>\n",
       "      <td>...</td>\n",
       "      <td>0.001966</td>\n",
       "      <td>0.002985</td>\n",
       "      <td>0.002007</td>\n",
       "      <td>0.002834</td>\n",
       "      <td>69.386300</td>\n",
       "      <td>3</td>\n",
       "      <td>10</td>\n",
       "      <td>5</td>\n",
       "      <td>-499</td>\n",
       "      <td>1</td>\n",
       "    </tr>\n",
       "    <tr>\n",
       "      <th>100</th>\n",
       "      <td>8.983333</td>\n",
       "      <td>-0.002523</td>\n",
       "      <td>-0.000074</td>\n",
       "      <td>-0.002189</td>\n",
       "      <td>-0.000186</td>\n",
       "      <td>-0.002635</td>\n",
       "      <td>0.000037</td>\n",
       "      <td>-0.000631</td>\n",
       "      <td>-0.002635</td>\n",
       "      <td>5.411000e+02</td>\n",
       "      <td>...</td>\n",
       "      <td>0.009829</td>\n",
       "      <td>0.012100</td>\n",
       "      <td>0.010704</td>\n",
       "      <td>0.010801</td>\n",
       "      <td>289.076130</td>\n",
       "      <td>3</td>\n",
       "      <td>15</td>\n",
       "      <td>50</td>\n",
       "      <td>-420</td>\n",
       "      <td>1</td>\n",
       "    </tr>\n",
       "    <tr>\n",
       "      <th>174</th>\n",
       "      <td>21.766667</td>\n",
       "      <td>-0.000153</td>\n",
       "      <td>-0.000153</td>\n",
       "      <td>-0.000153</td>\n",
       "      <td>-0.000153</td>\n",
       "      <td>-0.000153</td>\n",
       "      <td>-0.000153</td>\n",
       "      <td>-0.000153</td>\n",
       "      <td>-0.000153</td>\n",
       "      <td>0.000000e+00</td>\n",
       "      <td>...</td>\n",
       "      <td>-0.014767</td>\n",
       "      <td>-0.012131</td>\n",
       "      <td>-0.014242</td>\n",
       "      <td>-0.013426</td>\n",
       "      <td>165.612740</td>\n",
       "      <td>3</td>\n",
       "      <td>16</td>\n",
       "      <td>39</td>\n",
       "      <td>-527</td>\n",
       "      <td>1</td>\n",
       "    </tr>\n",
       "    <tr>\n",
       "      <th>...</th>\n",
       "      <td>...</td>\n",
       "      <td>...</td>\n",
       "      <td>...</td>\n",
       "      <td>...</td>\n",
       "      <td>...</td>\n",
       "      <td>...</td>\n",
       "      <td>...</td>\n",
       "      <td>...</td>\n",
       "      <td>...</td>\n",
       "      <td>...</td>\n",
       "      <td>...</td>\n",
       "      <td>...</td>\n",
       "      <td>...</td>\n",
       "      <td>...</td>\n",
       "      <td>...</td>\n",
       "      <td>...</td>\n",
       "      <td>...</td>\n",
       "      <td>...</td>\n",
       "      <td>...</td>\n",
       "      <td>...</td>\n",
       "      <td>...</td>\n",
       "    </tr>\n",
       "    <tr>\n",
       "      <th>1084258</th>\n",
       "      <td>0.727883</td>\n",
       "      <td>-0.001809</td>\n",
       "      <td>0.003686</td>\n",
       "      <td>-0.000435</td>\n",
       "      <td>0.001626</td>\n",
       "      <td>-0.004694</td>\n",
       "      <td>-0.000435</td>\n",
       "      <td>-0.004694</td>\n",
       "      <td>-0.000435</td>\n",
       "      <td>2.175641e+04</td>\n",
       "      <td>...</td>\n",
       "      <td>-0.014319</td>\n",
       "      <td>-0.002560</td>\n",
       "      <td>-0.003060</td>\n",
       "      <td>-0.014101</td>\n",
       "      <td>901.091280</td>\n",
       "      <td>3</td>\n",
       "      <td>7</td>\n",
       "      <td>16</td>\n",
       "      <td>527</td>\n",
       "      <td>1</td>\n",
       "    </tr>\n",
       "    <tr>\n",
       "      <th>1084280</th>\n",
       "      <td>0.033890</td>\n",
       "      <td>-0.002656</td>\n",
       "      <td>-0.000590</td>\n",
       "      <td>-0.002066</td>\n",
       "      <td>-0.001180</td>\n",
       "      <td>-0.007377</td>\n",
       "      <td>-0.001475</td>\n",
       "      <td>-0.006787</td>\n",
       "      <td>-0.002066</td>\n",
       "      <td>3.864282e+06</td>\n",
       "      <td>...</td>\n",
       "      <td>-0.004209</td>\n",
       "      <td>0.000003</td>\n",
       "      <td>-0.003359</td>\n",
       "      <td>-0.001068</td>\n",
       "      <td>273.401745</td>\n",
       "      <td>3</td>\n",
       "      <td>2</td>\n",
       "      <td>21</td>\n",
       "      <td>569</td>\n",
       "      <td>1</td>\n",
       "    </tr>\n",
       "    <tr>\n",
       "      <th>1084283</th>\n",
       "      <td>0.048237</td>\n",
       "      <td>-0.003801</td>\n",
       "      <td>0.001175</td>\n",
       "      <td>-0.002764</td>\n",
       "      <td>0.001175</td>\n",
       "      <td>-0.006288</td>\n",
       "      <td>-0.002971</td>\n",
       "      <td>-0.006288</td>\n",
       "      <td>-0.002971</td>\n",
       "      <td>1.847130e+04</td>\n",
       "      <td>...</td>\n",
       "      <td>-0.008375</td>\n",
       "      <td>-0.000885</td>\n",
       "      <td>-0.006085</td>\n",
       "      <td>-0.008278</td>\n",
       "      <td>545.043657</td>\n",
       "      <td>3</td>\n",
       "      <td>14</td>\n",
       "      <td>2</td>\n",
       "      <td>-323</td>\n",
       "      <td>1</td>\n",
       "    </tr>\n",
       "    <tr>\n",
       "      <th>1084343</th>\n",
       "      <td>0.020591</td>\n",
       "      <td>-0.008021</td>\n",
       "      <td>0.002323</td>\n",
       "      <td>-0.005399</td>\n",
       "      <td>0.001643</td>\n",
       "      <td>-0.012489</td>\n",
       "      <td>-0.002388</td>\n",
       "      <td>-0.012489</td>\n",
       "      <td>-0.005982</td>\n",
       "      <td>1.260659e+06</td>\n",
       "      <td>...</td>\n",
       "      <td>-0.022357</td>\n",
       "      <td>-0.009742</td>\n",
       "      <td>-0.011860</td>\n",
       "      <td>-0.019319</td>\n",
       "      <td>806.548067</td>\n",
       "      <td>3</td>\n",
       "      <td>12</td>\n",
       "      <td>11</td>\n",
       "      <td>-187</td>\n",
       "      <td>1</td>\n",
       "    </tr>\n",
       "    <tr>\n",
       "      <th>1084361</th>\n",
       "      <td>2.429167</td>\n",
       "      <td>-0.001990</td>\n",
       "      <td>0.001715</td>\n",
       "      <td>-0.001990</td>\n",
       "      <td>-0.000343</td>\n",
       "      <td>-0.002813</td>\n",
       "      <td>-0.000343</td>\n",
       "      <td>-0.002813</td>\n",
       "      <td>-0.000343</td>\n",
       "      <td>5.190000e+02</td>\n",
       "      <td>...</td>\n",
       "      <td>-0.009068</td>\n",
       "      <td>-0.005585</td>\n",
       "      <td>-0.005586</td>\n",
       "      <td>-0.008587</td>\n",
       "      <td>82.259800</td>\n",
       "      <td>3</td>\n",
       "      <td>0</td>\n",
       "      <td>39</td>\n",
       "      <td>-638</td>\n",
       "      <td>1</td>\n",
       "    </tr>\n",
       "  </tbody>\n",
       "</table>\n",
       "<p>33034 rows × 747 columns</p>\n",
       "</div>"
      ],
      "text/plain": [
       "             price    high-1     low-1    open-1   close-1    high-2  \\\n",
       "25        0.266187 -0.006700 -0.004446 -0.005723 -0.004483 -0.007263   \n",
       "51        0.000093 -0.003151  0.000609 -0.003151  0.000609 -0.003151   \n",
       "68       55.441667 -0.001233  0.001653 -0.001233  0.000752 -0.000691   \n",
       "100       8.983333 -0.002523 -0.000074 -0.002189 -0.000186 -0.002635   \n",
       "174      21.766667 -0.000153 -0.000153 -0.000153 -0.000153 -0.000153   \n",
       "...            ...       ...       ...       ...       ...       ...   \n",
       "1084258   0.727883 -0.001809  0.003686 -0.000435  0.001626 -0.004694   \n",
       "1084280   0.033890 -0.002656 -0.000590 -0.002066 -0.001180 -0.007377   \n",
       "1084283   0.048237 -0.003801  0.001175 -0.002764  0.001175 -0.006288   \n",
       "1084343   0.020591 -0.008021  0.002323 -0.005399  0.001643 -0.012489   \n",
       "1084361   2.429167 -0.001990  0.001715 -0.001990 -0.000343 -0.002813   \n",
       "\n",
       "            low-2    open-2   close-2      volume-2  ...  BTC_high-15_5min  \\\n",
       "25      -0.004784 -0.006061 -0.005723  8.135990e+04  ...         -0.004625   \n",
       "51       0.000609  0.000501 -0.002291  4.693775e+08  ...         -0.005787   \n",
       "68       0.001653  0.001653 -0.000691  2.454000e+01  ...          0.001966   \n",
       "100      0.000037 -0.000631 -0.002635  5.411000e+02  ...          0.009829   \n",
       "174     -0.000153 -0.000153 -0.000153  0.000000e+00  ...         -0.014767   \n",
       "...           ...       ...       ...           ...  ...               ...   \n",
       "1084258 -0.000435 -0.004694 -0.000435  2.175641e+04  ...         -0.014319   \n",
       "1084280 -0.001475 -0.006787 -0.002066  3.864282e+06  ...         -0.004209   \n",
       "1084283 -0.002971 -0.006288 -0.002971  1.847130e+04  ...         -0.008375   \n",
       "1084343 -0.002388 -0.012489 -0.005982  1.260659e+06  ...         -0.022357   \n",
       "1084361 -0.000343 -0.002813 -0.000343  5.190000e+02  ...         -0.009068   \n",
       "\n",
       "         BTC_low-15_5min  BTC_open-15_5min  BTC_close-15_5min  \\\n",
       "25             -0.002497         -0.004625          -0.002908   \n",
       "51             -0.003975         -0.004048          -0.005608   \n",
       "68              0.002985          0.002007           0.002834   \n",
       "100             0.012100          0.010704           0.010801   \n",
       "174            -0.012131         -0.014242          -0.013426   \n",
       "...                  ...               ...                ...   \n",
       "1084258        -0.002560         -0.003060          -0.014101   \n",
       "1084280         0.000003         -0.003359          -0.001068   \n",
       "1084283        -0.000885         -0.006085          -0.008278   \n",
       "1084343        -0.009742         -0.011860          -0.019319   \n",
       "1084361        -0.005585         -0.005586          -0.008587   \n",
       "\n",
       "         BTC_volume-15_5min  day  hour  minute  lunch_day  buy  \n",
       "25               121.085350    3     7       7       -617    1  \n",
       "51                70.892530    3     0      34       -611    1  \n",
       "68                69.386300    3    10       5       -499    1  \n",
       "100              289.076130    3    15      50       -420    1  \n",
       "174              165.612740    3    16      39       -527    1  \n",
       "...                     ...  ...   ...     ...        ...  ...  \n",
       "1084258          901.091280    3     7      16        527    1  \n",
       "1084280          273.401745    3     2      21        569    1  \n",
       "1084283          545.043657    3    14       2       -323    1  \n",
       "1084343          806.548067    3    12      11       -187    1  \n",
       "1084361           82.259800    3     0      39       -638    1  \n",
       "\n",
       "[33034 rows x 747 columns]"
      ]
     },
     "execution_count": 54,
     "metadata": {},
     "output_type": "execute_result"
    }
   ],
   "source": [
    "df[df['day']==3][df[\"buy\"]==1]"
   ]
  },
  {
   "cell_type": "markdown",
   "metadata": {},
   "source": [
    "Import Normalization values"
   ]
  },
  {
   "cell_type": "code",
   "execution_count": null,
   "metadata": {},
   "outputs": [
    {
     "name": "stdout",
     "output_type": "stream",
     "text": [
      "price        high-1        low-1        open-1        close-1        high-2        low-2        open-2        close-2        volume-2        high-3        low-3        open-3        close-3        volume-3        high-4        low-4        open-4        close-4        volume-4        high-5        low-5        open-5        close-5        volume-5        high-6        low-6        open-6        close-6        volume-6        high-7        low-7        open-7        close-7        volume-7        high-8        low-8        open-8        close-8        volume-8        high-9        low-9        open-9        close-9        volume-9        high-10        low-10        open-10        close-10        volume-10        high-11        low-11        open-11        close-11        volume-11        high-12        low-12        open-12        close-12        volume-12        high-13        low-13        open-13        close-13        volume-13        high-14        low-14        open-14        close-14        volume-14        high-15        low-15        open-15        close-15        volume-15        high-1_day        low-1_day        open-1_day        close-1_day        high-2_day        low-2_day        open-2_day        close-2_day        volume-2_day        high-3_day        low-3_day        open-3_day        close-3_day        volume-3_day        high-4_day        low-4_day        open-4_day        close-4_day        volume-4_day        high-5_day        low-5_day        open-5_day        close-5_day        volume-5_day        high-6_day        low-6_day        open-6_day        close-6_day        volume-6_day        high-7_day        low-7_day        open-7_day        close-7_day        volume-7_day        high-8_day        low-8_day        open-8_day        close-8_day        volume-8_day        high-9_day        low-9_day        open-9_day        close-9_day        volume-9_day        high-10_day        low-10_day        open-10_day        close-10_day        volume-10_day        high-11_day        low-11_day        open-11_day        close-11_day        volume-11_day        high-12_day        low-12_day        open-12_day        close-12_day        volume-12_day        high-13_day        low-13_day        open-13_day        close-13_day        volume-13_day        high-14_day        low-14_day        open-14_day        close-14_day        volume-14_day        high-15_day        low-15_day        open-15_day        close-15_day        volume-15_day        high-1_hour        low-1_hour        open-1_hour        close-1_hour        high-2_hour        low-2_hour        open-2_hour        close-2_hour        volume-2_hour        high-3_hour        low-3_hour        open-3_hour        close-3_hour        volume-3_hour        high-4_hour        low-4_hour        open-4_hour        close-4_hour        volume-4_hour        high-5_hour        low-5_hour        open-5_hour        close-5_hour        volume-5_hour        high-6_hour        low-6_hour        open-6_hour        close-6_hour        volume-6_hour        high-7_hour        low-7_hour        open-7_hour        close-7_hour        volume-7_hour        high-8_hour        low-8_hour        open-8_hour        close-8_hour        volume-8_hour        high-9_hour        low-9_hour        open-9_hour        close-9_hour        volume-9_hour        high-10_hour        low-10_hour        open-10_hour        close-10_hour        volume-10_hour        high-11_hour        low-11_hour        open-11_hour        close-11_hour        volume-11_hour        high-12_hour        low-12_hour        open-12_hour        close-12_hour        volume-12_hour        high-13_hour        low-13_hour        open-13_hour        close-13_hour        volume-13_hour        high-14_hour        low-14_hour        open-14_hour        close-14_hour        volume-14_hour        high-15_hour        low-15_hour        open-15_hour        close-15_hour        volume-15_hour        high-1_15min        low-1_15min        open-1_15min        close-1_15min        high-2_15min        low-2_15min        open-2_15min        close-2_15min        volume-2_15min        high-3_15min        low-3_15min        open-3_15min        close-3_15min        volume-3_15min        high-4_15min        low-4_15min        open-4_15min        close-4_15min        volume-4_15min        high-5_15min        low-5_15min        open-5_15min        close-5_15min        volume-5_15min        high-6_15min        low-6_15min        open-6_15min        close-6_15min        volume-6_15min        high-7_15min        low-7_15min        open-7_15min        close-7_15min        volume-7_15min        high-8_15min        low-8_15min        open-8_15min        close-8_15min        volume-8_15min        high-9_15min        low-9_15min        open-9_15min        close-9_15min        volume-9_15min        high-10_15min        low-10_15min        open-10_15min        close-10_15min        volume-10_15min        high-11_15min        low-11_15min        open-11_15min        close-11_15min        volume-11_15min        high-12_15min        low-12_15min        open-12_15min        close-12_15min        volume-12_15min        high-13_15min        low-13_15min        open-13_15min        close-13_15min        volume-13_15min        high-14_15min        low-14_15min        open-14_15min        close-14_15min        volume-14_15min        high-15_15min        low-15_15min        open-15_15min        close-15_15min        volume-15_15min        high-1_5min        low-1_5min        open-1_5min        close-1_5min        high-2_5min        low-2_5min        open-2_5min        close-2_5min        volume-2_5min        high-3_5min        low-3_5min        open-3_5min        close-3_5min        volume-3_5min        high-4_5min        low-4_5min        open-4_5min        close-4_5min        volume-4_5min        high-5_5min        low-5_5min        open-5_5min        close-5_5min        volume-5_5min        high-6_5min        low-6_5min        open-6_5min        close-6_5min        volume-6_5min        high-7_5min        low-7_5min        open-7_5min        close-7_5min        volume-7_5min        high-8_5min        low-8_5min        open-8_5min        close-8_5min        volume-8_5min        high-9_5min        low-9_5min        open-9_5min        close-9_5min        volume-9_5min        high-10_5min        low-10_5min        open-10_5min        close-10_5min        volume-10_5min        high-11_5min        low-11_5min        open-11_5min        close-11_5min        volume-11_5min        high-12_5min        low-12_5min        open-12_5min        close-12_5min        volume-12_5min        high-13_5min        low-13_5min        open-13_5min        close-13_5min        volume-13_5min        high-14_5min        low-14_5min        open-14_5min        close-14_5min        volume-14_5min        high-15_5min        low-15_5min        open-15_5min        close-15_5min        volume-15_5min        BTC_price        BTC_high-1        BTC_low-1        BTC_open-1        BTC_close-1        BTC_high-2        BTC_low-2        BTC_open-2        BTC_close-2        BTC_volume-2        BTC_high-3        BTC_low-3        BTC_open-3        BTC_close-3        BTC_volume-3        BTC_high-4        BTC_low-4        BTC_open-4        BTC_close-4        BTC_volume-4        BTC_high-5        BTC_low-5        BTC_open-5        BTC_close-5        BTC_volume-5        BTC_high-6        BTC_low-6        BTC_open-6        BTC_close-6        BTC_volume-6        BTC_high-7        BTC_low-7        BTC_open-7        BTC_close-7        BTC_volume-7        BTC_high-8        BTC_low-8        BTC_open-8        BTC_close-8        BTC_volume-8        BTC_high-9        BTC_low-9        BTC_open-9        BTC_close-9        BTC_volume-9        BTC_high-10        BTC_low-10        BTC_open-10        BTC_close-10        BTC_volume-10        BTC_high-11        BTC_low-11        BTC_open-11        BTC_close-11        BTC_volume-11        BTC_high-12        BTC_low-12        BTC_open-12        BTC_close-12        BTC_volume-12        BTC_high-13        BTC_low-13        BTC_open-13        BTC_close-13        BTC_volume-13        BTC_high-14        BTC_low-14        BTC_open-14        BTC_close-14        BTC_volume-14        BTC_high-15        BTC_low-15        BTC_open-15        BTC_close-15        BTC_volume-15        BTC_high-1_day        BTC_low-1_day        BTC_open-1_day        BTC_close-1_day        BTC_high-2_day        BTC_low-2_day        BTC_open-2_day        BTC_close-2_day        BTC_volume-2_day        BTC_high-3_day        BTC_low-3_day        BTC_open-3_day        BTC_close-3_day        BTC_volume-3_day        BTC_high-4_day        BTC_low-4_day        BTC_open-4_day        BTC_close-4_day        BTC_volume-4_day        BTC_high-5_day        BTC_low-5_day        BTC_open-5_day        BTC_close-5_day        BTC_volume-5_day        BTC_high-6_day        BTC_low-6_day        BTC_open-6_day        BTC_close-6_day        BTC_volume-6_day        BTC_high-7_day        BTC_low-7_day        BTC_open-7_day        BTC_close-7_day        BTC_volume-7_day        BTC_high-8_day        BTC_low-8_day        BTC_open-8_day        BTC_close-8_day        BTC_volume-8_day        BTC_high-9_day        BTC_low-9_day        BTC_open-9_day        BTC_close-9_day        BTC_volume-9_day        BTC_high-10_day        BTC_low-10_day        BTC_open-10_day        BTC_close-10_day        BTC_volume-10_day        BTC_high-11_day        BTC_low-11_day        BTC_open-11_day        BTC_close-11_day        BTC_volume-11_day        BTC_high-12_day        BTC_low-12_day        BTC_open-12_day        BTC_close-12_day        BTC_volume-12_day        BTC_high-13_day        BTC_low-13_day        BTC_open-13_day        BTC_close-13_day        BTC_volume-13_day        BTC_high-14_day        BTC_low-14_day        BTC_open-14_day        BTC_close-14_day        BTC_volume-14_day        BTC_high-15_day        BTC_low-15_day        BTC_open-15_day        BTC_close-15_day        BTC_volume-15_day        BTC_high-1_hour        BTC_low-1_hour        BTC_open-1_hour        BTC_close-1_hour        BTC_high-2_hour        BTC_low-2_hour        BTC_open-2_hour        BTC_close-2_hour        BTC_volume-2_hour        BTC_high-3_hour        BTC_low-3_hour        BTC_open-3_hour        BTC_close-3_hour        BTC_volume-3_hour        BTC_high-4_hour        BTC_low-4_hour        BTC_open-4_hour        BTC_close-4_hour        BTC_volume-4_hour        BTC_high-5_hour        BTC_low-5_hour        BTC_open-5_hour        BTC_close-5_hour        BTC_volume-5_hour        BTC_high-6_hour        BTC_low-6_hour        BTC_open-6_hour        BTC_close-6_hour        BTC_volume-6_hour        BTC_high-7_hour        BTC_low-7_hour        BTC_open-7_hour        BTC_close-7_hour        BTC_volume-7_hour        BTC_high-8_hour        BTC_low-8_hour        BTC_open-8_hour        BTC_close-8_hour        BTC_volume-8_hour        BTC_high-9_hour        BTC_low-9_hour        BTC_open-9_hour        BTC_close-9_hour        BTC_volume-9_hour        BTC_high-10_hour        BTC_low-10_hour        BTC_open-10_hour        BTC_close-10_hour        BTC_volume-10_hour        BTC_high-11_hour        BTC_low-11_hour        BTC_open-11_hour        BTC_close-11_hour        BTC_volume-11_hour        BTC_high-12_hour        BTC_low-12_hour        BTC_open-12_hour        BTC_close-12_hour        BTC_volume-12_hour        BTC_high-13_hour        BTC_low-13_hour        BTC_open-13_hour        BTC_close-13_hour        BTC_volume-13_hour        BTC_high-14_hour        BTC_low-14_hour        BTC_open-14_hour        BTC_close-14_hour        BTC_volume-14_hour        BTC_high-15_hour        BTC_low-15_hour        BTC_open-15_hour        BTC_close-15_hour        BTC_volume-15_hour        BTC_high-1_15min        BTC_low-1_15min        BTC_open-1_15min        BTC_close-1_15min        BTC_high-2_15min        BTC_low-2_15min        BTC_open-2_15min        BTC_close-2_15min        BTC_volume-2_15min        BTC_high-3_15min        BTC_low-3_15min        BTC_open-3_15min        BTC_close-3_15min        BTC_volume-3_15min        BTC_high-4_15min        BTC_low-4_15min        BTC_open-4_15min        BTC_close-4_15min        BTC_volume-4_15min        BTC_high-5_15min        BTC_low-5_15min        BTC_open-5_15min        BTC_close-5_15min        BTC_volume-5_15min        BTC_high-6_15min        BTC_low-6_15min        BTC_open-6_15min        BTC_close-6_15min        BTC_volume-6_15min        BTC_high-7_15min        BTC_low-7_15min        BTC_open-7_15min        BTC_close-7_15min        BTC_volume-7_15min        BTC_high-8_15min        BTC_low-8_15min        BTC_open-8_15min        BTC_close-8_15min        BTC_volume-8_15min        BTC_high-9_15min        BTC_low-9_15min        BTC_open-9_15min        BTC_close-9_15min        BTC_volume-9_15min        BTC_high-10_15min        BTC_low-10_15min        BTC_open-10_15min        BTC_close-10_15min        BTC_volume-10_15min        BTC_high-11_15min        BTC_low-11_15min        BTC_open-11_15min        BTC_close-11_15min        BTC_volume-11_15min        BTC_high-12_15min        BTC_low-12_15min        BTC_open-12_15min        BTC_close-12_15min        BTC_volume-12_15min        BTC_high-13_15min        BTC_low-13_15min        BTC_open-13_15min        BTC_close-13_15min        BTC_volume-13_15min        BTC_high-14_15min        BTC_low-14_15min        BTC_open-14_15min        BTC_close-14_15min        BTC_volume-14_15min        BTC_high-15_15min        BTC_low-15_15min        BTC_open-15_15min        BTC_close-15_15min        BTC_volume-15_15min        BTC_high-1_5min        BTC_low-1_5min        BTC_open-1_5min        BTC_close-1_5min        BTC_high-2_5min        BTC_low-2_5min        BTC_open-2_5min        BTC_close-2_5min        BTC_volume-2_5min        BTC_high-3_5min        BTC_low-3_5min        BTC_open-3_5min        BTC_close-3_5min        BTC_volume-3_5min        BTC_high-4_5min        BTC_low-4_5min        BTC_open-4_5min        BTC_close-4_5min        BTC_volume-4_5min        BTC_high-5_5min        BTC_low-5_5min        BTC_open-5_5min        BTC_close-5_5min        BTC_volume-5_5min        BTC_high-6_5min        BTC_low-6_5min        BTC_open-6_5min        BTC_close-6_5min        BTC_volume-6_5min        BTC_high-7_5min        BTC_low-7_5min        BTC_open-7_5min        BTC_close-7_5min        BTC_volume-7_5min        BTC_high-8_5min        BTC_low-8_5min        BTC_open-8_5min        BTC_close-8_5min        BTC_volume-8_5min        BTC_high-9_5min        BTC_low-9_5min        BTC_open-9_5min        BTC_close-9_5min        BTC_volume-9_5min        BTC_high-10_5min        BTC_low-10_5min        BTC_open-10_5min        BTC_close-10_5min        BTC_volume-10_5min        BTC_high-11_5min        BTC_low-11_5min        BTC_open-11_5min        BTC_close-11_5min        BTC_volume-11_5min        BTC_high-12_5min        BTC_low-12_5min        BTC_open-12_5min        BTC_close-12_5min        BTC_volume-12_5min        BTC_high-13_5min        BTC_low-13_5min        BTC_open-13_5min        BTC_close-13_5min        BTC_volume-13_5min        BTC_high-14_5min        BTC_low-14_5min        BTC_open-14_5min        BTC_close-14_5min        BTC_volume-14_5min        BTC_high-15_5min        BTC_low-15_5min        BTC_open-15_5min        BTC_close-15_5min        BTC_volume-15_5min        day        hour        minute        lunch_day        buy        "
     ]
    }
   ],
   "source": [
    "for k in df.keys():print(k,end='        ')"
   ]
  },
  {
   "cell_type": "code",
   "execution_count": null,
   "metadata": {},
   "outputs": [],
   "source": [
    "dt=df.drop(columns=[\"buy\"]).to_numpy()"
   ]
  },
  {
   "cell_type": "code",
   "execution_count": null,
   "metadata": {},
   "outputs": [
    {
     "data": {
      "text/plain": [
       "(429940, 746)"
      ]
     },
     "execution_count": 56,
     "metadata": {},
     "output_type": "execute_result"
    }
   ],
   "source": [
    "dt.shape"
   ]
  },
  {
   "cell_type": "code",
   "execution_count": 14,
   "metadata": {},
   "outputs": [
    {
     "ename": "NameError",
     "evalue": "name 'df' is not defined",
     "output_type": "error",
     "traceback": [
      "\u001b[1;31m---------------------------------------------------------------------------\u001b[0m",
      "\u001b[1;31mNameError\u001b[0m                                 Traceback (most recent call last)",
      "Cell \u001b[1;32mIn [14], line 1\u001b[0m\n\u001b[1;32m----> 1\u001b[0m Y\u001b[38;5;241m=\u001b[39m\u001b[43mdf\u001b[49m[\u001b[38;5;124m\"\u001b[39m\u001b[38;5;124mbuy\u001b[39m\u001b[38;5;124m\"\u001b[39m]\u001b[38;5;241m.\u001b[39mto_numpy()\n",
      "\u001b[1;31mNameError\u001b[0m: name 'df' is not defined"
     ]
    }
   ],
   "source": [
    "Y=df[\"buy\"].to_numpy()"
   ]
  },
  {
   "cell_type": "code",
   "execution_count": 13,
   "metadata": {},
   "outputs": [
    {
     "ename": "NameError",
     "evalue": "name 'dt' is not defined",
     "output_type": "error",
     "traceback": [
      "\u001b[1;31m---------------------------------------------------------------------------\u001b[0m",
      "\u001b[1;31mNameError\u001b[0m                                 Traceback (most recent call last)",
      "Cell \u001b[1;32mIn [13], line 1\u001b[0m\n\u001b[1;32m----> 1\u001b[0m \u001b[38;5;28mprint\u001b[39m(\u001b[43mdt\u001b[49m\u001b[38;5;241m.\u001b[39mshape)\n",
      "\u001b[1;31mNameError\u001b[0m: name 'dt' is not defined"
     ]
    }
   ],
   "source": [
    "print(dt.shape)"
   ]
  },
  {
   "cell_type": "code",
   "execution_count": null,
   "metadata": {},
   "outputs": [
    {
     "name": "stdout",
     "output_type": "stream",
     "text": [
      "(429940,)\n"
     ]
    }
   ],
   "source": [
    "print(Y.shape)"
   ]
  },
  {
   "cell_type": "markdown",
   "metadata": {},
   "source": [
    "## Try once"
   ]
  },
  {
   "cell_type": "code",
   "execution_count": null,
   "metadata": {},
   "outputs": [
    {
     "name": "stdout",
     "output_type": "stream",
     "text": [
      "normalization is loaded\n",
      "verdict ---> True\n"
     ]
    }
   ],
   "source": [
    "\n",
    "index_sample=5123\n",
    "#print(df.iloc[index_sample])\n",
    "Sample=df.drop(columns=[\"buy\"]).iloc[index_sample]\n",
    "with tf.device('/gpu:0'):\n",
    "    Bgpu=Buy_Dessision(Sample)\n",
    "# with tf.device('/cpu:0'):\n",
    "#     Bcpu=Buy_Dessision(Sample)\n",
    "# Bcpu\n",
    "verdict=Bgpu==Y[index_sample]\n",
    "print(\"verdict ---> \"+str(verdict))\n"
   ]
  },
  {
   "cell_type": "code",
   "execution_count": null,
   "metadata": {},
   "outputs": [
    {
     "data": {
      "text/plain": [
       "(746,)"
      ]
     },
     "execution_count": 132,
     "metadata": {},
     "output_type": "execute_result"
    }
   ],
   "source": [
    "pdata.iloc[0].shape"
   ]
  },
  {
   "cell_type": "markdown",
   "metadata": {},
   "source": [
    "## no GPU"
   ]
  },
  {
   "cell_type": "code",
   "execution_count": null,
   "metadata": {},
   "outputs": [],
   "source": [
    "import os\n",
    "os.environ[\"CUDA_DEVICE_ORDER\"]=\"PCI_BUS_ID\"\n",
    "os.environ[\"CUDA_VISIBLE_DEVICES\"]=\"0\""
   ]
  },
  {
   "cell_type": "code",
   "execution_count": null,
   "metadata": {},
   "outputs": [
    {
     "name": "stdout",
     "output_type": "stream",
     "text": [
      "normalization is loaded\n"
     ]
    }
   ],
   "source": [
    "if(df.iloc[33,0]==dt[33,0]):dt=normalize(dt)"
   ]
  },
  {
   "cell_type": "code",
   "execution_count": null,
   "metadata": {},
   "outputs": [
    {
     "name": "stdout",
     "output_type": "stream",
     "text": [
      "13436/13436 [==============================] - 113s 8ms/step - loss: 0.0471 - accuracy: 0.9841\n",
      "accuracy: 0.9841163754463196\n"
     ]
    }
   ],
   "source": [
    "with tf.device('/cpu:0'):\n",
    "    accuracy = model.evaluate(dt, Y)\n",
    "print(\"accuracy: \"+str(accuracy[1]))\n"
   ]
  },
  {
   "cell_type": "code",
   "execution_count": null,
   "metadata": {},
   "outputs": [],
   "source": [
    "Y"
   ]
  },
  {
   "cell_type": "code",
   "execution_count": null,
   "metadata": {},
   "outputs": [
    {
     "name": "stdout",
     "output_type": "stream",
     "text": [
      "1490/1490 [==============================] - 7s 5ms/step - loss: 0.0397 - accuracy: 0.9917\n",
      "accuracy: 0.9917122721672058\n"
     ]
    }
   ],
   "source": [
    "with tf.device('/gpu:0'):\n",
    "    accuracy = model.evaluate(dt[110:int(len(dt)/9),:], Y[110:int(len(dt)/9)])\n",
    "print(\"accuracy: \"+str(accuracy[1]))\n"
   ]
  },
  {
   "cell_type": "code",
   "execution_count": null,
   "metadata": {},
   "outputs": [],
   "source": [
    "Exchange=ccxt.binance()\n",
    "ex=Exchange"
   ]
  },
  {
   "cell_type": "code",
   "execution_count": null,
   "metadata": {},
   "outputs": [
    {
     "name": "stdout",
     "output_type": "stream",
     "text": [
      "18462.66000000\n"
     ]
    }
   ],
   "source": [
    "pair='GMT/BUSD'\n",
    "# bitcoin_ticker = Exchange.fetch_ticker('BTC/USDT')\n",
    "# btc_current_price=bitcoin_ticker['info']['askPrice']\n",
    "# print(btc_current_price)\n",
    "\n",
    "\n",
    "\n",
    "\n",
    "# li1 = df.keys().values.tolist()\n",
    "# li2 = fulldata.keys().values.tolist()\n",
    " \n",
    "# s = set(li2)\n",
    "# temp3 = [x for x in li1 if x not in s]\n",
    "# print(temp3)"
   ]
  },
  {
   "cell_type": "code",
   "execution_count": null,
   "metadata": {},
   "outputs": [
    {
     "data": {
      "text/plain": [
       "19"
      ]
     },
     "execution_count": 70,
     "metadata": {},
     "output_type": "execute_result"
    }
   ],
   "source": [
    "Timestamp=pd.to_datetime(ex.fetchTime(),unit='ms')\n",
    "Timestamp.dayofweek+1\n",
    "Timestamp.hour\n",
    "Timestamp.minute"
   ]
  },
  {
   "cell_type": "code",
   "execution_count": null,
   "metadata": {},
   "outputs": [
    {
     "data": {
      "text/plain": [
       "7"
      ]
     },
     "execution_count": 71,
     "metadata": {},
     "output_type": "execute_result"
    }
   ],
   "source": [
    "pd.to_datetime(\"25/09/2022\").dayofweek+1"
   ]
  },
  {
   "cell_type": "code",
   "execution_count": null,
   "metadata": {},
   "outputs": [
    {
     "data": {
      "text/plain": [
       "1"
      ]
     },
     "execution_count": 73,
     "metadata": {},
     "output_type": "execute_result"
    }
   ],
   "source": [
    "pd.to_datetime(\"26/09/2022\").dayofweek+1"
   ]
  },
  {
   "cell_type": "code",
   "execution_count": null,
   "metadata": {},
   "outputs": [],
   "source": [
    "def instant_full_data(pair,exchange=ex,window=15):\n",
    "    pdata=instant_pair_data(pair,exchange=exchange,window=15)\n",
    "    btcdata=instant_pair_data(\"BTC/USDT\",exchange=exchange,window=15).add_prefix(\"BTC_\")\n",
    "    Timestamp=pd.to_datetime(ex.fetchTime(),unit='ms')\n",
    "    pdata=pd.concat([pdata,btcdata],axis=1)\n",
    "    pdata.loc[0,\"day\"]=Timestamp.dayofweek+1\n",
    "    pdata.loc[0,\"hour\"]=Timestamp.hour\n",
    "    pdata.loc[0,\"minute\"]=Timestamp.minute\n",
    "    pdata.loc[0,\"lunch_day\"]=int(-(pd.to_datetime(MetaData[MetaData[\"Pair\"] == (pair.split(\"/\")[0]+\"/USDT\")][\"launch_minute\"])-pd.Timestamp('2020-01-01 00:00:00.000000')).dt.days)\n",
    "    for key in pdata.keys():\n",
    "        if key.find(\"BTC\")!=-1 and (key.find(\"open\")!=-1 or\n",
    "        key.find(\"high\")!=-1 or key.find(\"low\")!=-1 or key.find(\"close\")!=-1):\n",
    "            pdata[key]=(pdata[\"BTC_price\"]-pdata[key])/pdata[\"BTC_price\"]\n",
    "        if key.find(\"BTC\")==-1 and (key.find(\"open\")!=-1 or\n",
    "        key.find(\"high\")!=-1 or key.find(\"low\")!=-1 or key.find(\"close\")!=-1):\n",
    "            pdata[key]=(pdata[\"price\"]-pdata[key])/pdata[\"price\"]\n",
    "    return pdata"
   ]
  },
  {
   "cell_type": "code",
   "execution_count": null,
   "metadata": {},
   "outputs": [
    {
     "ename": "KeyboardInterrupt",
     "evalue": "",
     "output_type": "error",
     "traceback": [
      "\u001b[1;31m---------------------------------------------------------------------------\u001b[0m",
      "\u001b[1;31mKeyboardInterrupt\u001b[0m                         Traceback (most recent call last)",
      "Cell \u001b[1;32mIn [139], line 23\u001b[0m\n\u001b[0;32m     20\u001b[0m             \u001b[38;5;28;01mbreak\u001b[39;00m\n\u001b[0;32m     21\u001b[0m     \u001b[38;5;28mprint\u001b[39m(\u001b[38;5;124m\"\u001b[39m\u001b[38;5;124m--- losing bought at: \u001b[39m\u001b[38;5;124m\"\u001b[39m\u001b[38;5;241m+\u001b[39m\u001b[38;5;28mstr\u001b[39m(pdata\u001b[38;5;241m.\u001b[39mloc[\u001b[38;5;241m0\u001b[39m,\u001b[38;5;124m\"\u001b[39m\u001b[38;5;124mprice\u001b[39m\u001b[38;5;124m\"\u001b[39m]) \u001b[38;5;241m+\u001b[39m\u001b[38;5;124m\"\u001b[39m\u001b[38;5;124m sold at: \u001b[39m\u001b[38;5;124m\"\u001b[39m\u001b[38;5;241m+\u001b[39m\u001b[38;5;28mstr\u001b[39m(pp) )\n\u001b[1;32m---> 23\u001b[0m \u001b[43mtime\u001b[49m\u001b[38;5;241;43m.\u001b[39;49m\u001b[43msleep\u001b[49m\u001b[43m(\u001b[49m\u001b[38;5;241;43m30\u001b[39;49m\u001b[43m)\u001b[49m\n",
      "\u001b[1;31mKeyboardInterrupt\u001b[0m: "
     ]
    }
   ],
   "source": [
    "import time\n",
    "import warnings\n",
    "warnings.filterwarnings('ignore')\n",
    "PRERR=False\n",
    "def prerr(err):\n",
    "    if PRERR:\n",
    "        print(\"\\033[0;31m Error in \"+str(sys._getframe().f_code.co_name) +\" \\033[0;33m\"+str(err))\n",
    "\n",
    "GoodDeal={}\n",
    "\n",
    "while True:\n",
    "    pdata=instant_full_data(pair,exchange=ex,window=15)\n",
    "    if Buy_Dessision(pdata.iloc[0]) == 1:\n",
    "        print(\"buying\")\n",
    "        pp=0\n",
    "        for i in range(14):\n",
    "            time.sleep(30)\n",
    "            pp=ex.fetch_ticker(pair).ticker['info']['askPrice']\n",
    "            if(float(pdata.loc[0,\"price\"]) >= float(pp)):\n",
    "                print(\"+++ wining bought at:\"+str(pdata.loc[0,\"price\"]) +\" sold at: \"+str(pp) )\n",
    "                break\n",
    "        print(\"--- losing bought at: \"+str(pdata.loc[0,\"price\"]) +\" sold at: \"+str(pp) )\n",
    "            \n",
    "    time.sleep(30)"
   ]
  }
 ],
 "metadata": {
  "kernelspec": {
   "display_name": "Python 3.9.7 ('base')",
   "language": "python",
   "name": "python3"
  },
  "language_info": {
   "codemirror_mode": {
    "name": "ipython",
    "version": 3
   },
   "file_extension": ".py",
   "mimetype": "text/x-python",
   "name": "python",
   "nbconvert_exporter": "python",
   "pygments_lexer": "ipython3",
   "version": "3.9.7"
  },
  "orig_nbformat": 4,
  "vscode": {
   "interpreter": {
    "hash": "875f36f95367728e9e1ed7321fa85119a0c86f1195820c7e047475fcf301cc07"
   }
  }
 },
 "nbformat": 4,
 "nbformat_minor": 2
}
