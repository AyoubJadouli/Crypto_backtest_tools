{
 "cells": [
  {
   "cell_type": "markdown",
   "metadata": {},
   "source": [
    "# Final Model Prediction"
   ]
  },
  {
   "cell_type": "code",
   "execution_count": 2,
   "metadata": {},
   "outputs": [],
   "source": [
    "import sys\n",
    "sys.path.append('a/UltimeTradingBot/Crypto_backtest_tools')\n",
    "import pandas as pd\n",
    "import json\n",
    "import numpy as np\n",
    "import random\n",
    "from keras.models import load_model\n",
    "import os\n",
    "import tensorflow as tf"
   ]
  },
  {
   "cell_type": "markdown",
   "metadata": {},
   "source": [
    "## Garbage collection"
   ]
  },
  {
   "cell_type": "code",
   "execution_count": 78,
   "metadata": {},
   "outputs": [
    {
     "data": {
      "text/plain": [
       "0"
      ]
     },
     "execution_count": 78,
     "metadata": {},
     "output_type": "execute_result"
    }
   ],
   "source": [
    "import gc\n",
    "gc.collect()    "
   ]
  },
  {
   "cell_type": "markdown",
   "metadata": {},
   "source": [
    "## Local Functions first"
   ]
  },
  {
   "cell_type": "code",
   "execution_count": 46,
   "metadata": {},
   "outputs": [],
   "source": [
    "Normalization=None\n",
    "def normalize(dataset,file='NoVol_Normalization_Values.json'):\n",
    "    global Normalization\n",
    "    try:\n",
    "        N=Normalization\n",
    "    except:\n",
    "        Normalization=None\n",
    "    if(Normalization==None):\n",
    "        print('Loading normalization from file')\n",
    "        with open(file) as json_file:\n",
    "            Normalization = json.load(json_file)\n",
    "    else:\n",
    "        print('normalization is loaded')\n",
    "\n",
    "    mean=np.array(Normalization[\"mean\"])\n",
    "    std=np.array(Normalization[\"std\"])\n",
    "    dataset -= mean \n",
    "    dataset /= std\n",
    "    return(dataset)\n",
    "\n",
    "def Buy_Dessision(input):\n",
    "    A=np.array(input)\n",
    "    A = A.reshape(1,A.shape[0])\n",
    "    predictions = model.predict(normalize(A))\n",
    "    rounded = [round(x[0]) for x in predictions]\n",
    "    return(rounded[0])\n",
    "\n",
    "def Buy_Dessision_Normalized(input):\n",
    "    A=np.array(input)\n",
    "    A = A.reshape(1,A.shape[0])\n",
    "    predictions = model.predict(A)\n",
    "    rounded = [round(x[0]) for x in predictions]\n",
    "    return(rounded[0])\n",
    "\n",
    "def Buy_Dessision_Multi_In_Out(input):\n",
    "    A=np.array(input)\n",
    "    predictions = model.predict(normalize(A))\n",
    "    rounded = [round(x[0]) for x in predictions]\n",
    "    return(rounded)\n",
    "\n",
    "def Buy_Dessision_Multi_In_Out_Normalized(input):\n",
    "    A=np.array(input)\n",
    "    predictions = model.predict(A)\n",
    "    rounded = [round(x[0]) for x in predictions]\n",
    "    return(rounded)"
   ]
  },
  {
   "cell_type": "markdown",
   "metadata": {},
   "source": [
    "## loding the model"
   ]
  },
  {
   "cell_type": "code",
   "execution_count": 8,
   "metadata": {},
   "outputs": [],
   "source": [
    "model = load_model('XcryptoAi_NoVol.hdf5')"
   ]
  },
  {
   "cell_type": "markdown",
   "metadata": {},
   "source": [
    "Loding Data"
   ]
  },
  {
   "cell_type": "code",
   "execution_count": 7,
   "metadata": {},
   "outputs": [],
   "source": [
    "df = pd.read_csv('D:/+DATA+/AICryptoBot/allok_w15_nosell.csv',index_col=0)\n",
    "high_weight=3\n",
    "df[\"high\"]=(df[\"open\"]+high_weight*df[\"high\"]+df[\"low\"]+df[\"close\"])/(3+high_weight)\n",
    "df.rename(columns={\"high\":\"price\"},inplace = True)\n",
    "df[\"BTC_high\"]=(df[\"BTC_open\"]+high_weight*df[\"BTC_high\"]+df[\"BTC_low\"]+df[\"BTC_close\"])/(3+high_weight)\n",
    "df.rename(columns={\"BTC_high\":\"BTC_price\"},inplace = True)\n",
    "df=df.drop(columns=[\"BTC_open\",\"BTC_low\",\"BTC_close\",\"open\",\"low\",\"close\"])\n"
   ]
  },
  {
   "cell_type": "code",
   "execution_count": 9,
   "metadata": {},
   "outputs": [
    {
     "data": {
      "text/plain": [
       "price          4.87425\n",
       "volume       241.35000\n",
       "high-1         4.87480\n",
       "low-1          4.87420\n",
       "open-1         4.87420\n",
       "               ...    \n",
       "day            5.00000\n",
       "hour          20.00000\n",
       "minute        15.00000\n",
       "lunch_day   -685.00000\n",
       "buy            0.00000\n",
       "Name: 0, Length: 759, dtype: float64"
      ]
     },
     "execution_count": 9,
     "metadata": {},
     "output_type": "execute_result"
    }
   ],
   "source": [
    "df.iloc[0]"
   ]
  },
  {
   "cell_type": "markdown",
   "metadata": {},
   "source": [
    "Persentage Nomalization"
   ]
  },
  {
   "cell_type": "code",
   "execution_count": 10,
   "metadata": {},
   "outputs": [],
   "source": [
    "for key in df.keys():\n",
    "    if key.find(\"BTC\")!=-1 and (key.find(\"open\")!=-1 or\n",
    "    key.find(\"high\")!=-1 or key.find(\"low\")!=-1 or key.find(\"close\")!=-1):\n",
    "        df[key]=(df[\"BTC_price\"]-df[key])/df[\"BTC_price\"]\n",
    "    if key.find(\"BTC\")==-1 and (key.find(\"open\")!=-1 or\n",
    "    key.find(\"high\")!=-1 or key.find(\"low\")!=-1 or key.find(\"close\")!=-1):\n",
    "        df[key]=(df[\"price\"]-df[key])/df[\"price\"]"
   ]
  },
  {
   "cell_type": "code",
   "execution_count": 29,
   "metadata": {},
   "outputs": [
    {
     "name": "stdout",
     "output_type": "stream",
     "text": [
      "['volume', 'volume-1', 'BTC_volume-1']\n"
     ]
    }
   ],
   "source": [
    "df['volume'][0]\n",
    "VolRemover=[\"volume\",\"volume-1\",\"BTC_volume-1\"]\n",
    "#VolRemover=[]\n",
    "for key in df.keys():\n",
    "    if key.find(\"volume-1_\") != -1 :\n",
    "        VolRemover.append(key)\n",
    "print(VolRemover)\n",
    "df=df.drop(columns=VolRemover)"
   ]
  },
  {
   "cell_type": "markdown",
   "metadata": {},
   "source": [
    "Import Normalization values"
   ]
  },
  {
   "cell_type": "code",
   "execution_count": 30,
   "metadata": {},
   "outputs": [
    {
     "name": "stdout",
     "output_type": "stream",
     "text": [
      "price        high-1        low-1        open-1        close-1        high-2        low-2        open-2        close-2        volume-2        high-3        low-3        open-3        close-3        volume-3        high-4        low-4        open-4        close-4        volume-4        high-5        low-5        open-5        close-5        volume-5        high-6        low-6        open-6        close-6        volume-6        high-7        low-7        open-7        close-7        volume-7        high-8        low-8        open-8        close-8        volume-8        high-9        low-9        open-9        close-9        volume-9        high-10        low-10        open-10        close-10        volume-10        high-11        low-11        open-11        close-11        volume-11        high-12        low-12        open-12        close-12        volume-12        high-13        low-13        open-13        close-13        volume-13        high-14        low-14        open-14        close-14        volume-14        high-15        low-15        open-15        close-15        volume-15        high-1_day        low-1_day        open-1_day        close-1_day        high-2_day        low-2_day        open-2_day        close-2_day        volume-2_day        high-3_day        low-3_day        open-3_day        close-3_day        volume-3_day        high-4_day        low-4_day        open-4_day        close-4_day        volume-4_day        high-5_day        low-5_day        open-5_day        close-5_day        volume-5_day        high-6_day        low-6_day        open-6_day        close-6_day        volume-6_day        high-7_day        low-7_day        open-7_day        close-7_day        volume-7_day        high-8_day        low-8_day        open-8_day        close-8_day        volume-8_day        high-9_day        low-9_day        open-9_day        close-9_day        volume-9_day        high-10_day        low-10_day        open-10_day        close-10_day        volume-10_day        high-11_day        low-11_day        open-11_day        close-11_day        volume-11_day        high-12_day        low-12_day        open-12_day        close-12_day        volume-12_day        high-13_day        low-13_day        open-13_day        close-13_day        volume-13_day        high-14_day        low-14_day        open-14_day        close-14_day        volume-14_day        high-15_day        low-15_day        open-15_day        close-15_day        volume-15_day        high-1_hour        low-1_hour        open-1_hour        close-1_hour        high-2_hour        low-2_hour        open-2_hour        close-2_hour        volume-2_hour        high-3_hour        low-3_hour        open-3_hour        close-3_hour        volume-3_hour        high-4_hour        low-4_hour        open-4_hour        close-4_hour        volume-4_hour        high-5_hour        low-5_hour        open-5_hour        close-5_hour        volume-5_hour        high-6_hour        low-6_hour        open-6_hour        close-6_hour        volume-6_hour        high-7_hour        low-7_hour        open-7_hour        close-7_hour        volume-7_hour        high-8_hour        low-8_hour        open-8_hour        close-8_hour        volume-8_hour        high-9_hour        low-9_hour        open-9_hour        close-9_hour        volume-9_hour        high-10_hour        low-10_hour        open-10_hour        close-10_hour        volume-10_hour        high-11_hour        low-11_hour        open-11_hour        close-11_hour        volume-11_hour        high-12_hour        low-12_hour        open-12_hour        close-12_hour        volume-12_hour        high-13_hour        low-13_hour        open-13_hour        close-13_hour        volume-13_hour        high-14_hour        low-14_hour        open-14_hour        close-14_hour        volume-14_hour        high-15_hour        low-15_hour        open-15_hour        close-15_hour        volume-15_hour        high-1_15min        low-1_15min        open-1_15min        close-1_15min        high-2_15min        low-2_15min        open-2_15min        close-2_15min        volume-2_15min        high-3_15min        low-3_15min        open-3_15min        close-3_15min        volume-3_15min        high-4_15min        low-4_15min        open-4_15min        close-4_15min        volume-4_15min        high-5_15min        low-5_15min        open-5_15min        close-5_15min        volume-5_15min        high-6_15min        low-6_15min        open-6_15min        close-6_15min        volume-6_15min        high-7_15min        low-7_15min        open-7_15min        close-7_15min        volume-7_15min        high-8_15min        low-8_15min        open-8_15min        close-8_15min        volume-8_15min        high-9_15min        low-9_15min        open-9_15min        close-9_15min        volume-9_15min        high-10_15min        low-10_15min        open-10_15min        close-10_15min        volume-10_15min        high-11_15min        low-11_15min        open-11_15min        close-11_15min        volume-11_15min        high-12_15min        low-12_15min        open-12_15min        close-12_15min        volume-12_15min        high-13_15min        low-13_15min        open-13_15min        close-13_15min        volume-13_15min        high-14_15min        low-14_15min        open-14_15min        close-14_15min        volume-14_15min        high-15_15min        low-15_15min        open-15_15min        close-15_15min        volume-15_15min        high-1_5min        low-1_5min        open-1_5min        close-1_5min        high-2_5min        low-2_5min        open-2_5min        close-2_5min        volume-2_5min        high-3_5min        low-3_5min        open-3_5min        close-3_5min        volume-3_5min        high-4_5min        low-4_5min        open-4_5min        close-4_5min        volume-4_5min        high-5_5min        low-5_5min        open-5_5min        close-5_5min        volume-5_5min        high-6_5min        low-6_5min        open-6_5min        close-6_5min        volume-6_5min        high-7_5min        low-7_5min        open-7_5min        close-7_5min        volume-7_5min        high-8_5min        low-8_5min        open-8_5min        close-8_5min        volume-8_5min        high-9_5min        low-9_5min        open-9_5min        close-9_5min        volume-9_5min        high-10_5min        low-10_5min        open-10_5min        close-10_5min        volume-10_5min        high-11_5min        low-11_5min        open-11_5min        close-11_5min        volume-11_5min        high-12_5min        low-12_5min        open-12_5min        close-12_5min        volume-12_5min        high-13_5min        low-13_5min        open-13_5min        close-13_5min        volume-13_5min        high-14_5min        low-14_5min        open-14_5min        close-14_5min        volume-14_5min        high-15_5min        low-15_5min        open-15_5min        close-15_5min        volume-15_5min        BTC_price        BTC_volume        BTC_high-1        BTC_low-1        BTC_open-1        BTC_close-1        BTC_high-2        BTC_low-2        BTC_open-2        BTC_close-2        BTC_volume-2        BTC_high-3        BTC_low-3        BTC_open-3        BTC_close-3        BTC_volume-3        BTC_high-4        BTC_low-4        BTC_open-4        BTC_close-4        BTC_volume-4        BTC_high-5        BTC_low-5        BTC_open-5        BTC_close-5        BTC_volume-5        BTC_high-6        BTC_low-6        BTC_open-6        BTC_close-6        BTC_volume-6        BTC_high-7        BTC_low-7        BTC_open-7        BTC_close-7        BTC_volume-7        BTC_high-8        BTC_low-8        BTC_open-8        BTC_close-8        BTC_volume-8        BTC_high-9        BTC_low-9        BTC_open-9        BTC_close-9        BTC_volume-9        BTC_high-10        BTC_low-10        BTC_open-10        BTC_close-10        BTC_volume-10        BTC_high-11        BTC_low-11        BTC_open-11        BTC_close-11        BTC_volume-11        BTC_high-12        BTC_low-12        BTC_open-12        BTC_close-12        BTC_volume-12        BTC_high-13        BTC_low-13        BTC_open-13        BTC_close-13        BTC_volume-13        BTC_high-14        BTC_low-14        BTC_open-14        BTC_close-14        BTC_volume-14        BTC_high-15        BTC_low-15        BTC_open-15        BTC_close-15        BTC_volume-15        BTC_high-1_day        BTC_low-1_day        BTC_open-1_day        BTC_close-1_day        BTC_high-2_day        BTC_low-2_day        BTC_open-2_day        BTC_close-2_day        BTC_volume-2_day        BTC_high-3_day        BTC_low-3_day        BTC_open-3_day        BTC_close-3_day        BTC_volume-3_day        BTC_high-4_day        BTC_low-4_day        BTC_open-4_day        BTC_close-4_day        BTC_volume-4_day        BTC_high-5_day        BTC_low-5_day        BTC_open-5_day        BTC_close-5_day        BTC_volume-5_day        BTC_high-6_day        BTC_low-6_day        BTC_open-6_day        BTC_close-6_day        BTC_volume-6_day        BTC_high-7_day        BTC_low-7_day        BTC_open-7_day        BTC_close-7_day        BTC_volume-7_day        BTC_high-8_day        BTC_low-8_day        BTC_open-8_day        BTC_close-8_day        BTC_volume-8_day        BTC_high-9_day        BTC_low-9_day        BTC_open-9_day        BTC_close-9_day        BTC_volume-9_day        BTC_high-10_day        BTC_low-10_day        BTC_open-10_day        BTC_close-10_day        BTC_volume-10_day        BTC_high-11_day        BTC_low-11_day        BTC_open-11_day        BTC_close-11_day        BTC_volume-11_day        BTC_high-12_day        BTC_low-12_day        BTC_open-12_day        BTC_close-12_day        BTC_volume-12_day        BTC_high-13_day        BTC_low-13_day        BTC_open-13_day        BTC_close-13_day        BTC_volume-13_day        BTC_high-14_day        BTC_low-14_day        BTC_open-14_day        BTC_close-14_day        BTC_volume-14_day        BTC_high-15_day        BTC_low-15_day        BTC_open-15_day        BTC_close-15_day        BTC_volume-15_day        BTC_high-1_hour        BTC_low-1_hour        BTC_open-1_hour        BTC_close-1_hour        BTC_high-2_hour        BTC_low-2_hour        BTC_open-2_hour        BTC_close-2_hour        BTC_volume-2_hour        BTC_high-3_hour        BTC_low-3_hour        BTC_open-3_hour        BTC_close-3_hour        BTC_volume-3_hour        BTC_high-4_hour        BTC_low-4_hour        BTC_open-4_hour        BTC_close-4_hour        BTC_volume-4_hour        BTC_high-5_hour        BTC_low-5_hour        BTC_open-5_hour        BTC_close-5_hour        BTC_volume-5_hour        BTC_high-6_hour        BTC_low-6_hour        BTC_open-6_hour        BTC_close-6_hour        BTC_volume-6_hour        BTC_high-7_hour        BTC_low-7_hour        BTC_open-7_hour        BTC_close-7_hour        BTC_volume-7_hour        BTC_high-8_hour        BTC_low-8_hour        BTC_open-8_hour        BTC_close-8_hour        BTC_volume-8_hour        BTC_high-9_hour        BTC_low-9_hour        BTC_open-9_hour        BTC_close-9_hour        BTC_volume-9_hour        BTC_high-10_hour        BTC_low-10_hour        BTC_open-10_hour        BTC_close-10_hour        BTC_volume-10_hour        BTC_high-11_hour        BTC_low-11_hour        BTC_open-11_hour        BTC_close-11_hour        BTC_volume-11_hour        BTC_high-12_hour        BTC_low-12_hour        BTC_open-12_hour        BTC_close-12_hour        BTC_volume-12_hour        BTC_high-13_hour        BTC_low-13_hour        BTC_open-13_hour        BTC_close-13_hour        BTC_volume-13_hour        BTC_high-14_hour        BTC_low-14_hour        BTC_open-14_hour        BTC_close-14_hour        BTC_volume-14_hour        BTC_high-15_hour        BTC_low-15_hour        BTC_open-15_hour        BTC_close-15_hour        BTC_volume-15_hour        BTC_high-1_15min        BTC_low-1_15min        BTC_open-1_15min        BTC_close-1_15min        BTC_high-2_15min        BTC_low-2_15min        BTC_open-2_15min        BTC_close-2_15min        BTC_volume-2_15min        BTC_high-3_15min        BTC_low-3_15min        BTC_open-3_15min        BTC_close-3_15min        BTC_volume-3_15min        BTC_high-4_15min        BTC_low-4_15min        BTC_open-4_15min        BTC_close-4_15min        BTC_volume-4_15min        BTC_high-5_15min        BTC_low-5_15min        BTC_open-5_15min        BTC_close-5_15min        BTC_volume-5_15min        BTC_high-6_15min        BTC_low-6_15min        BTC_open-6_15min        BTC_close-6_15min        BTC_volume-6_15min        BTC_high-7_15min        BTC_low-7_15min        BTC_open-7_15min        BTC_close-7_15min        BTC_volume-7_15min        BTC_high-8_15min        BTC_low-8_15min        BTC_open-8_15min        BTC_close-8_15min        BTC_volume-8_15min        BTC_high-9_15min        BTC_low-9_15min        BTC_open-9_15min        BTC_close-9_15min        BTC_volume-9_15min        BTC_high-10_15min        BTC_low-10_15min        BTC_open-10_15min        BTC_close-10_15min        BTC_volume-10_15min        BTC_high-11_15min        BTC_low-11_15min        BTC_open-11_15min        BTC_close-11_15min        BTC_volume-11_15min        BTC_high-12_15min        BTC_low-12_15min        BTC_open-12_15min        BTC_close-12_15min        BTC_volume-12_15min        BTC_high-13_15min        BTC_low-13_15min        BTC_open-13_15min        BTC_close-13_15min        BTC_volume-13_15min        BTC_high-14_15min        BTC_low-14_15min        BTC_open-14_15min        BTC_close-14_15min        BTC_volume-14_15min        BTC_high-15_15min        BTC_low-15_15min        BTC_open-15_15min        BTC_close-15_15min        BTC_volume-15_15min        BTC_high-1_5min        BTC_low-1_5min        BTC_open-1_5min        BTC_close-1_5min        BTC_high-2_5min        BTC_low-2_5min        BTC_open-2_5min        BTC_close-2_5min        BTC_volume-2_5min        BTC_high-3_5min        BTC_low-3_5min        BTC_open-3_5min        BTC_close-3_5min        BTC_volume-3_5min        BTC_high-4_5min        BTC_low-4_5min        BTC_open-4_5min        BTC_close-4_5min        BTC_volume-4_5min        BTC_high-5_5min        BTC_low-5_5min        BTC_open-5_5min        BTC_close-5_5min        BTC_volume-5_5min        BTC_high-6_5min        BTC_low-6_5min        BTC_open-6_5min        BTC_close-6_5min        BTC_volume-6_5min        BTC_high-7_5min        BTC_low-7_5min        BTC_open-7_5min        BTC_close-7_5min        BTC_volume-7_5min        BTC_high-8_5min        BTC_low-8_5min        BTC_open-8_5min        BTC_close-8_5min        BTC_volume-8_5min        BTC_high-9_5min        BTC_low-9_5min        BTC_open-9_5min        BTC_close-9_5min        BTC_volume-9_5min        BTC_high-10_5min        BTC_low-10_5min        BTC_open-10_5min        BTC_close-10_5min        BTC_volume-10_5min        BTC_high-11_5min        BTC_low-11_5min        BTC_open-11_5min        BTC_close-11_5min        BTC_volume-11_5min        BTC_high-12_5min        BTC_low-12_5min        BTC_open-12_5min        BTC_close-12_5min        BTC_volume-12_5min        BTC_high-13_5min        BTC_low-13_5min        BTC_open-13_5min        BTC_close-13_5min        BTC_volume-13_5min        BTC_high-14_5min        BTC_low-14_5min        BTC_open-14_5min        BTC_close-14_5min        BTC_volume-14_5min        BTC_high-15_5min        BTC_low-15_5min        BTC_open-15_5min        BTC_close-15_5min        BTC_volume-15_5min        day        hour        minute        lunch_day        buy        "
     ]
    }
   ],
   "source": [
    "for k in df.keys():print(k,end='        ')"
   ]
  },
  {
   "cell_type": "code",
   "execution_count": 35,
   "metadata": {},
   "outputs": [],
   "source": [
    "dt=df.drop(columns=[\"buy\"]).to_numpy()"
   ]
  },
  {
   "cell_type": "code",
   "execution_count": 33,
   "metadata": {},
   "outputs": [],
   "source": [
    "Y=df[\"buy\"].to_numpy()"
   ]
  },
  {
   "cell_type": "code",
   "execution_count": 37,
   "metadata": {},
   "outputs": [
    {
     "name": "stdout",
     "output_type": "stream",
     "text": [
      "(1084382, 747)\n"
     ]
    }
   ],
   "source": [
    "print(dt.shape)"
   ]
  },
  {
   "cell_type": "code",
   "execution_count": 38,
   "metadata": {},
   "outputs": [
    {
     "name": "stdout",
     "output_type": "stream",
     "text": [
      "(1084382,)\n"
     ]
    }
   ],
   "source": [
    "print(Y.shape)"
   ]
  },
  {
   "cell_type": "markdown",
   "metadata": {},
   "source": [
    "## Try once"
   ]
  },
  {
   "cell_type": "code",
   "execution_count": 111,
   "metadata": {},
   "outputs": [
    {
     "name": "stdout",
     "output_type": "stream",
     "text": [
      "price          1.455\n",
      "high-1         0.000\n",
      "low-1          0.000\n",
      "open-1         0.000\n",
      "close-1        0.000\n",
      "              ...   \n",
      "day            4.000\n",
      "hour          18.000\n",
      "minute        10.000\n",
      "lunch_day   -709.000\n",
      "buy            0.000\n",
      "Name: 51541, Length: 748, dtype: float64\n"
     ]
    }
   ],
   "source": [
    "\n",
    "index_sample=51541\n",
    "print(df.iloc[index_sample])\n",
    "Sample=df.drop(columns=[\"buy\"]).iloc[index_sample]\n"
   ]
  },
  {
   "cell_type": "code",
   "execution_count": 112,
   "metadata": {},
   "outputs": [
    {
     "name": "stdout",
     "output_type": "stream",
     "text": [
      "normalization is loaded\n"
     ]
    }
   ],
   "source": [
    "with tf.device('/gpu:0'):\n",
    "    Bgpu=Buy_Dessision(Sample)"
   ]
  },
  {
   "cell_type": "code",
   "execution_count": 97,
   "metadata": {},
   "outputs": [
    {
     "name": "stdout",
     "output_type": "stream",
     "text": [
      "normalization is loaded\n"
     ]
    },
    {
     "data": {
      "text/plain": [
       "1"
      ]
     },
     "execution_count": 97,
     "metadata": {},
     "output_type": "execute_result"
    }
   ],
   "source": [
    "with tf.device('/cpu:0'):\n",
    "    Bcpu=Buy_Dessision(Sample)\n",
    "Bcpu"
   ]
  },
  {
   "cell_type": "code",
   "execution_count": 113,
   "metadata": {},
   "outputs": [
    {
     "name": "stdout",
     "output_type": "stream",
     "text": [
      "verdict ---> True\n"
     ]
    }
   ],
   "source": [
    "verdict=Bgpu==Y[index_sample]\n",
    "print(\"verdict ---> \"+str(verdict))"
   ]
  },
  {
   "cell_type": "markdown",
   "metadata": {},
   "source": [
    "## no GPU"
   ]
  },
  {
   "cell_type": "code",
   "execution_count": 142,
   "metadata": {},
   "outputs": [],
   "source": [
    "import os\n",
    "os.environ[\"CUDA_DEVICE_ORDER\"]=\"PCI_BUS_ID\"\n",
    "os.environ[\"CUDA_VISIBLE_DEVICES\"]=\"0\""
   ]
  },
  {
   "cell_type": "code",
   "execution_count": 71,
   "metadata": {},
   "outputs": [
    {
     "name": "stdout",
     "output_type": "stream",
     "text": [
      "normalization is loaded\n"
     ]
    }
   ],
   "source": [
    "if(df.iloc[33,0]==dt[33,0]):dt=normalize(dt)"
   ]
  },
  {
   "cell_type": "code",
   "execution_count": null,
   "metadata": {},
   "outputs": [],
   "source": [
    "with tf.device('/cpu:0'):\n",
    "    accuracy = model.evaluate(dt, Y)\n",
    "print(\"accuracy: \"+str(accuracy[1]))\n"
   ]
  },
  {
   "cell_type": "code",
   "execution_count": 105,
   "metadata": {},
   "outputs": [
    {
     "data": {
      "text/plain": [
       "array([0, 0, 0, ..., 0, 0, 0], dtype=int64)"
      ]
     },
     "execution_count": 105,
     "metadata": {},
     "output_type": "execute_result"
    }
   ],
   "source": [
    "Y"
   ]
  },
  {
   "cell_type": "code",
   "execution_count": 114,
   "metadata": {},
   "outputs": [
    {
     "ename": "InternalError",
     "evalue": "Failed copying input tensor from /job:localhost/replica:0/task:0/device:CPU:0 to /job:localhost/replica:0/task:0/device:GPU:0 in order to run _EagerConst: Dst tensor is not initialized.",
     "output_type": "error",
     "traceback": [
      "\u001b[1;31m---------------------------------------------------------------------------\u001b[0m",
      "\u001b[1;31mInternalError\u001b[0m                             Traceback (most recent call last)",
      "Cell \u001b[1;32mIn [114], line 2\u001b[0m\n\u001b[0;32m      1\u001b[0m \u001b[38;5;28;01mwith\u001b[39;00m tf\u001b[38;5;241m.\u001b[39mdevice(\u001b[38;5;124m'\u001b[39m\u001b[38;5;124m/gpu:0\u001b[39m\u001b[38;5;124m'\u001b[39m):\n\u001b[1;32m----> 2\u001b[0m     accuracy \u001b[38;5;241m=\u001b[39m \u001b[43mmodel\u001b[49m\u001b[38;5;241;43m.\u001b[39;49m\u001b[43mevaluate\u001b[49m\u001b[43m(\u001b[49m\u001b[43mdt\u001b[49m\u001b[43m[\u001b[49m\u001b[38;5;241;43m110\u001b[39;49m\u001b[43m:\u001b[49m\u001b[38;5;28;43mint\u001b[39;49m\u001b[43m(\u001b[49m\u001b[38;5;28;43mlen\u001b[39;49m\u001b[43m(\u001b[49m\u001b[43mdt\u001b[49m\u001b[43m)\u001b[49m\u001b[38;5;241;43m/\u001b[39;49m\u001b[38;5;241;43m9\u001b[39;49m\u001b[43m)\u001b[49m\u001b[43m,\u001b[49m\u001b[43m:\u001b[49m\u001b[43m]\u001b[49m\u001b[43m,\u001b[49m\u001b[43m \u001b[49m\u001b[43mY\u001b[49m\u001b[43m[\u001b[49m\u001b[38;5;241;43m110\u001b[39;49m\u001b[43m:\u001b[49m\u001b[38;5;28;43mint\u001b[39;49m\u001b[43m(\u001b[49m\u001b[38;5;28;43mlen\u001b[39;49m\u001b[43m(\u001b[49m\u001b[43mdt\u001b[49m\u001b[43m)\u001b[49m\u001b[38;5;241;43m/\u001b[39;49m\u001b[38;5;241;43m9\u001b[39;49m\u001b[43m)\u001b[49m\u001b[43m]\u001b[49m\u001b[43m)\u001b[49m\n\u001b[0;32m      3\u001b[0m \u001b[38;5;28mprint\u001b[39m(\u001b[38;5;124m\"\u001b[39m\u001b[38;5;124maccuracy: \u001b[39m\u001b[38;5;124m\"\u001b[39m\u001b[38;5;241m+\u001b[39m\u001b[38;5;28mstr\u001b[39m(accuracy[\u001b[38;5;241m1\u001b[39m]))\n",
      "File \u001b[1;32mc:\\LIB\\Anaconda3\\lib\\site-packages\\keras\\utils\\traceback_utils.py:67\u001b[0m, in \u001b[0;36mfilter_traceback.<locals>.error_handler\u001b[1;34m(*args, **kwargs)\u001b[0m\n\u001b[0;32m     65\u001b[0m \u001b[39mexcept\u001b[39;00m \u001b[39mException\u001b[39;00m \u001b[39mas\u001b[39;00m e:  \u001b[39m# pylint: disable=broad-except\u001b[39;00m\n\u001b[0;32m     66\u001b[0m   filtered_tb \u001b[39m=\u001b[39m _process_traceback_frames(e\u001b[39m.\u001b[39m__traceback__)\n\u001b[1;32m---> 67\u001b[0m   \u001b[39mraise\u001b[39;00m e\u001b[39m.\u001b[39mwith_traceback(filtered_tb) \u001b[39mfrom\u001b[39;00m \u001b[39mNone\u001b[39m\n\u001b[0;32m     68\u001b[0m \u001b[39mfinally\u001b[39;00m:\n\u001b[0;32m     69\u001b[0m   \u001b[39mdel\u001b[39;00m filtered_tb\n",
      "File \u001b[1;32mc:\\LIB\\Anaconda3\\lib\\site-packages\\tensorflow\\python\\framework\\constant_op.py:102\u001b[0m, in \u001b[0;36mconvert_to_eager_tensor\u001b[1;34m(value, ctx, dtype)\u001b[0m\n\u001b[0;32m    100\u001b[0m     dtype \u001b[39m=\u001b[39m dtypes\u001b[39m.\u001b[39mas_dtype(dtype)\u001b[39m.\u001b[39mas_datatype_enum\n\u001b[0;32m    101\u001b[0m ctx\u001b[39m.\u001b[39mensure_initialized()\n\u001b[1;32m--> 102\u001b[0m \u001b[39mreturn\u001b[39;00m ops\u001b[39m.\u001b[39;49mEagerTensor(value, ctx\u001b[39m.\u001b[39;49mdevice_name, dtype)\n",
      "\u001b[1;31mInternalError\u001b[0m: Failed copying input tensor from /job:localhost/replica:0/task:0/device:CPU:0 to /job:localhost/replica:0/task:0/device:GPU:0 in order to run _EagerConst: Dst tensor is not initialized."
     ]
    }
   ],
   "source": [
    "with tf.device('/gpu:0'):\n",
    "    accuracy = model.evaluate(dt[110:int(len(dt)/9),:], Y[110:int(len(dt)/9)])\n",
    "print(\"accuracy: \"+str(accuracy[1]))\n"
   ]
  },
  {
   "cell_type": "code",
   "execution_count": 115,
   "metadata": {},
   "outputs": [],
   "source": [
    "import ccxt\n",
    "Exchange=ccxt.binance()\n",
    "ex=Exchange"
   ]
  },
  {
   "cell_type": "code",
   "execution_count": 208,
   "metadata": {},
   "outputs": [
    {
     "name": "stdout",
     "output_type": "stream",
     "text": [
      "18927.24000000\n"
     ]
    },
    {
     "data": {
      "text/plain": [
       "1663793980898"
      ]
     },
     "execution_count": 208,
     "metadata": {},
     "output_type": "execute_result"
    }
   ],
   "source": [
    "pair='GMT/BUSD'\n",
    "bitcoin_ticker = Exchange.fetch_ticker('BTC/USDT')\n",
    "btc_current_price=bitcoin_ticker['info']['askPrice']\n",
    "print(btc_current_price)\n",
    "\n",
    "ex.fetchTime()"
   ]
  },
  {
   "cell_type": "code",
   "execution_count": 191,
   "metadata": {},
   "outputs": [],
   "source": [
    "pair_data=pd.DataFrame()"
   ]
  },
  {
   "cell_type": "code",
   "execution_count": 199,
   "metadata": {},
   "outputs": [],
   "source": [
    "def instant_pair_data(pair=\"GMT/BUSD\",window=15):\n",
    "\n",
    "    ticker = Exchange.fetch_ticker(pair)\n",
    "    pair_current_price=ticker['info']['askPrice']\n",
    "    #print(pair_current_price)\n",
    "\n",
    "    ohlcv1m = ex.fetch_ohlcv(pair, '1m', limit=15)\n",
    "    ohlcv5m = ex.fetch_ohlcv(pair, '5m', limit=15)\n",
    "    ohlcv15m = ex.fetch_ohlcv(pair, '15m', limit=15)\n",
    "    ohlcv1h = ex.fetch_ohlcv(pair, '1h', limit=15)\n",
    "    ohlcv1d = ex.fetch_ohlcv(pair, '1d', limit=15)\n",
    "\n",
    "\n",
    "    pair_data.loc[0,\"price\"]=pair_current_price\n",
    "    #minute\n",
    "    for window_i in range(1,window+1):\n",
    "        pair_data.loc[0,\"high-\"+str(window_i)]=ohlcv1m[-window_i][1]\n",
    "        pair_data.loc[0,\"low-\"+str(window_i)]=ohlcv1m[-window_i][2]\n",
    "        pair_data.loc[0,\"open-\"+str(window_i)]=ohlcv1m[-window_i][0]\n",
    "        pair_data.loc[0,\"close-\"+str(window_i)]=ohlcv1m[-window_i][3]\n",
    "        if(window_i!=1):pair_data.loc[0,\"volume-\"+str(window_i)]=ohlcv1m[-window_i][4]\n",
    "\n",
    "    for window_i in range(1,window+1):\n",
    "        pair_data.loc[0,\"high-\"+str(window_i)+\"_day\"]=ohlcv1d[-window_i][1]\n",
    "        pair_data.loc[0,\"low-\"+str(window_i)+\"_day\"]=ohlcv1d[-window_i][2]\n",
    "        pair_data.loc[0,\"open-\"+str(window_i)+\"_day\"]=ohlcv1d[-window_i][0]\n",
    "        pair_data.loc[0,\"close-\"+str(window_i)+\"_day\"]=ohlcv1d[-window_i][3]\n",
    "        if(window_i!=1):pair_data.loc[0,\"volume-\"+str(window_i)+\"_day\"]=ohlcv1d[-window_i][4]  \n",
    "\n",
    "    for window_i in range(1,window+1):\n",
    "        pair_data.loc[0,\"high-\"+str(window_i)+\"_hour\"]=ohlcv1h[-window_i][1]\n",
    "        pair_data.loc[0,\"low-\"+str(window_i)+\"_hour\"]=ohlcv1h[-window_i][2]\n",
    "        pair_data.loc[0,\"open-\"+str(window_i)+\"_hour\"]=ohlcv1h[-window_i][0]\n",
    "        pair_data.loc[0,\"close-\"+str(window_i)+\"_hour\"]=ohlcv1h[-window_i][3]\n",
    "        if(window_i!=1):pair_data.loc[0,\"volume-\"+str(window_i)+\"_hour\"]=ohlcv1h[-window_i][4]  \n",
    "\n",
    "    for window_i in range(1,window+1):\n",
    "        pair_data.loc[0,\"high-\"+str(window_i)+\"_15min\"]=ohlcv15m[-window_i][1]\n",
    "        pair_data.loc[0,\"low-\"+str(window_i)+\"_15min\"]=ohlcv15m[-window_i][2]\n",
    "        pair_data.loc[0,\"open-\"+str(window_i)+\"_15min\"]=ohlcv15m[-window_i][0]\n",
    "        pair_data.loc[0,\"close-\"+str(window_i)+\"_15min\"]=ohlcv15m[-window_i][3]\n",
    "        if(window_i!=1):pair_data.loc[0,\"volume-\"+str(window_i)+\"_15min\"]=ohlcv5m[-window_i][4]  \n",
    "\n",
    "    for window_i in range(1,window+1):\n",
    "        pair_data.loc[0,\"high-\"+str(window_i)+\"_5min\"]=ohlcv5m[-window_i][1]\n",
    "        pair_data.loc[0,\"low-\"+str(window_i)+\"_5min\"]=ohlcv5m[-window_i][2]\n",
    "        pair_data.loc[0,\"open-\"+str(window_i)+\"_5min\"]=ohlcv5m[-window_i][0]\n",
    "        pair_data.loc[0,\"close-\"+str(window_i)+\"_5min\"]=ohlcv5m[-window_i][3]\n",
    "        if(window_i!=1):pair_data.loc[0,\"volume-\"+str(window_i)+\"_5min\"]=ohlcv5m[-window_i][4]   \n",
    "    return  pair_data\n",
    "\n",
    "def instant_full_data(pair,window=15):\n",
    "    pdata=instant_pair_data(pair,window=15)\n",
    "    btcdata=instant_pair_data(\"BTC/USDT\",window=15).add_prefix(\"BTC_\")"
   ]
  },
  {
   "cell_type": "code",
   "execution_count": null,
   "metadata": {},
   "outputs": [],
   "source": [
    "\n",
    "    \n"
   ]
  },
  {
   "cell_type": "code",
   "execution_count": 168,
   "metadata": {},
   "outputs": [
    {
     "data": {
      "text/html": [
       "<div>\n",
       "<style scoped>\n",
       "    .dataframe tbody tr th:only-of-type {\n",
       "        vertical-align: middle;\n",
       "    }\n",
       "\n",
       "    .dataframe tbody tr th {\n",
       "        vertical-align: top;\n",
       "    }\n",
       "\n",
       "    .dataframe thead th {\n",
       "        text-align: right;\n",
       "    }\n",
       "</style>\n",
       "<table border=\"1\" class=\"dataframe\">\n",
       "  <thead>\n",
       "    <tr style=\"text-align: right;\">\n",
       "      <th></th>\n",
       "      <th>open</th>\n",
       "    </tr>\n",
       "  </thead>\n",
       "  <tbody>\n",
       "    <tr>\n",
       "      <th>0</th>\n",
       "      <td>0.62690000</td>\n",
       "    </tr>\n",
       "  </tbody>\n",
       "</table>\n",
       "</div>"
      ],
      "text/plain": [
       "         open\n",
       "0  0.62690000"
      ]
     },
     "execution_count": 168,
     "metadata": {},
     "output_type": "execute_result"
    }
   ],
   "source": [
    "pair_data"
   ]
  }
 ],
 "metadata": {
  "kernelspec": {
   "display_name": "Python 3.9.7 ('base')",
   "language": "python",
   "name": "python3"
  },
  "language_info": {
   "codemirror_mode": {
    "name": "ipython",
    "version": 3
   },
   "file_extension": ".py",
   "mimetype": "text/x-python",
   "name": "python",
   "nbconvert_exporter": "python",
   "pygments_lexer": "ipython3",
   "version": "3.9.7"
  },
  "orig_nbformat": 4,
  "vscode": {
   "interpreter": {
    "hash": "875f36f95367728e9e1ed7321fa85119a0c86f1195820c7e047475fcf301cc07"
   }
  }
 },
 "nbformat": 4,
 "nbformat_minor": 2
}
