{
 "cells": [
  {
   "cell_type": "code",
   "execution_count": null,
   "metadata": {},
   "outputs": [],
   "source": [
    "# Mini Binance order book suport risitance finder"
   ]
  },
  {
   "cell_type": "code",
   "execution_count": null,
   "metadata": {},
   "outputs": [],
   "source": [
    "import mplfinance as mpf\n",
    "import pandas as pd\n",
    "import numpy as np\n",
    "import ccxt as ccxt\n",
    "import math"
   ]
  },
  {
   "cell_type": "code",
   "execution_count": null,
   "metadata": {},
   "outputs": [],
   "source": [
    "exchange = ccxt.binance()\n",
    "symbol = 'AGIX/BUSD'\n",
    "df_bid = pd.DataFrame(exchange.fetch_order_book(symbol, 1000)['bids'], columns=['price', 'quantity'])\n",
    "df_ask = pd.DataFrame(exchange.fetch_order_book(symbol, 1000)['asks'], columns=['price', 'quantity'])\n",
    "df_bid['usd_quantity'] = df_bid['price'] *  df_bid['quantity']\n",
    "df_ask['usd_quantity'] = df_ask['price'] *  df_ask['quantity']"
   ]
  },
  {
   "cell_type": "code",
   "execution_count": null,
   "metadata": {},
   "outputs": [],
   "source": [
    "#df_bid['usd_quantity'].nlargest(10)\n",
    "precision=30\n",
    "resitance_line_nbr=5\n",
    "support_line_nbr=5\n",
    "df_bid.sort_values(by='usd_quantity', ascending=False)[:precision].sort_index()[:resitance_line_nbr]"
   ]
  },
  {
   "cell_type": "code",
   "execution_count": null,
   "metadata": {},
   "outputs": [],
   "source": [
    "0.2*(df_bid.price.mean()+df_ask.price.mean())/200"
   ]
  },
  {
   "cell_type": "code",
   "execution_count": null,
   "metadata": {},
   "outputs": [],
   "source": [
    "df_ask.sort_values(by='usd_quantity', ascending=False)[:precision].sort_index()[:support_line_nbr]"
   ]
  },
  {
   "cell_type": "code",
   "execution_count": null,
   "metadata": {},
   "outputs": [],
   "source": [
    "askp.price.to_list()[5]"
   ]
  },
  {
   "cell_type": "code",
   "execution_count": null,
   "metadata": {},
   "outputs": [],
   "source": [
    "## Ploting\n",
    "\n",
    "# Get the historical OHLCV data for the specified symbol and timeframe\n",
    "symbol = 'BTC/USDT'\n",
    "timeframe = '1m'\n",
    "ohlcv = exchange.fetch_ohlcv(symbol, timeframe)\n",
    "\n",
    "# Convert the OHLCV data to a pandas DataFrame\n",
    "df = pd.DataFrame(ohlcv, columns=['Timestamp', 'Open', 'High', 'Low', 'Close', 'Volume'])\n",
    "# Set the timestamp column as the index and convert it to a DatetimeIndex\n",
    "df.index = pd.to_datetime(df['Timestamp'], unit='ms')\n",
    "df = df.drop(columns=['Timestamp'])\n",
    "\n",
    "# Plot the candlestick chart\n",
    "mpf.plot(df[-200:], type='candlestick', volume=True, show_nontrading=False)\n",
    "# Show the plot\n",
    "mpf.show()"
   ]
  },
  {
   "cell_type": "code",
   "execution_count": null,
   "metadata": {},
   "outputs": [],
   "source": [
    "precision=50\n",
    "resitance_line_nbr=10\n",
    "support_line_nbr=10\n",
    "exchange = ccxt.binance()\n",
    "symbol = 'AGIX/BUSD'\n",
    "df_bid = pd.DataFrame(exchange.fetch_order_book(symbol, 1000)['bids'], columns=['price', 'quantity'])\n",
    "df_ask = pd.DataFrame(exchange.fetch_order_book(symbol, 1000)['asks'], columns=['price', 'quantity'])\n",
    "df_bid['usd_quantity'] = df_bid['price'] *  df_bid['quantity']\n",
    "df_ask['usd_quantity'] = df_ask['price'] *  df_ask['quantity']\n",
    "top_bids=df_bid.sort_values(by='usd_quantity', ascending=False)[:precision].sort_index()[:resitance_line_nbr]\n",
    "top_asks=df_ask.sort_values(by='usd_quantity', ascending=False)[:precision].sort_index()[:support_line_nbr]\n",
    "timeframe = '1m'\n",
    "ohlcv = exchange.fetch_ohlcv(symbol, timeframe)\n",
    "colors=[]\n",
    "for i in range(resitance_line_nbr):\n",
    "    colors.append(\"r\")\n",
    "for i in range(support_line_nbr):\n",
    "   colors.append(\"g\")\n",
    "# Convert the OHLCV data to a pandas DataFrame\n",
    "df = pd.DataFrame(ohlcv, columns=['Timestamp', 'Open', 'High', 'Low', 'Close', 'Volume'])\n",
    "# Set the timestamp column as the index and convert it to a DatetimeIndex\n",
    "df.index = pd.to_datetime(df['Timestamp'], unit='ms')\n",
    "df = df.drop(columns=['Timestamp'])\n",
    "\n",
    "spline=top_bids.price.mean()\n",
    "rsline=top_asks.price.mean()\n",
    "\n",
    "spdiff=((top_bids.price.max()-top_bids.price.min())/top_bids.price.mean()*100)\n",
    "rsdiff=((top_asks.price.max()-top_asks.price.min())/top_asks.price.mean()*100)\n",
    "\n",
    "\n",
    "sp_std=top_bids.price.std()*1000#((top_bids.price.max()-top_bids.price.min())/top_bids.price.mean()*100)\n",
    "rs_std=top_asks.price.std()*1000#((top_asks.price.max()-top_asks.price.min())/top_asks.price.mean()*100)\n",
    "hlines=top_bids.price.to_list()+top_asks.price.to_list()+[rsline,spline]\n",
    "colors=colors+['cyan','magenta']\n",
    "print(f\"support:{spline}\")\n",
    "print(f\"Resistance:{rsline}\")\n",
    "print(f\"support diff:{spdiff}%\")\n",
    "print(f\"Resistance diff:{rsdiff}%\")\n",
    "notediff=100*rsdiff/spdiff\n",
    "if(notediff<150):print(f\"goin down v: {notediff}\")\n",
    "else:print(f\"goin up ^:{notediff}\")\n",
    "\n",
    "ax=mpf.plot(df[-100:], type='candlestick', volume=True, show_nontrading=False, \n",
    "            hlines=dict(hlines=hlines\n",
    "                        ,colors=colors,linestyle='-.')\n",
    "            )\n",
    "# Show the plot\n",
    "#ax.show()"
   ]
  },
  {
   "cell_type": "code",
   "execution_count": 532,
   "metadata": {},
   "outputs": [
    {
     "data": {
      "text/html": [
       "<div>\n",
       "<style scoped>\n",
       "    .dataframe tbody tr th:only-of-type {\n",
       "        vertical-align: middle;\n",
       "    }\n",
       "\n",
       "    .dataframe tbody tr th {\n",
       "        vertical-align: top;\n",
       "    }\n",
       "\n",
       "    .dataframe thead th {\n",
       "        text-align: right;\n",
       "    }\n",
       "</style>\n",
       "<table border=\"1\" class=\"dataframe\">\n",
       "  <thead>\n",
       "    <tr style=\"text-align: right;\">\n",
       "      <th></th>\n",
       "      <th>price_mean</th>\n",
       "      <th>quantity_sum</th>\n",
       "    </tr>\n",
       "    <tr>\n",
       "      <th>price</th>\n",
       "      <th></th>\n",
       "      <th></th>\n",
       "    </tr>\n",
       "  </thead>\n",
       "  <tbody>\n",
       "    <tr>\n",
       "      <th>(0.426, 0.427]</th>\n",
       "      <td>0.426689</td>\n",
       "      <td>77504.0</td>\n",
       "    </tr>\n",
       "    <tr>\n",
       "      <th>(0.427, 0.428]</th>\n",
       "      <td>0.427686</td>\n",
       "      <td>108374.0</td>\n",
       "    </tr>\n",
       "    <tr>\n",
       "      <th>(0.428, 0.429]</th>\n",
       "      <td>0.428618</td>\n",
       "      <td>111625.0</td>\n",
       "    </tr>\n",
       "  </tbody>\n",
       "</table>\n",
       "</div>"
      ],
      "text/plain": [
       "                price_mean  quantity_sum\n",
       "price                                   \n",
       "(0.426, 0.427]    0.426689       77504.0\n",
       "(0.427, 0.428]    0.427686      108374.0\n",
       "(0.428, 0.429]    0.428618      111625.0"
      ]
     },
     "execution_count": 532,
     "metadata": {},
     "output_type": "execute_result"
    }
   ],
   "source": [
    "\n",
    "def top_quantity_sum_price_mean(order_book_df,price_interval_pct=0.2,precision=50,val_nbr=10):\n",
    "    df=order_book_df\n",
    "    step_size = price_interval_pct/100 * df['price'][0]\n",
    "\n",
    "    # create an array of bin edges\n",
    "    bin_edges = np.arange(df['price'].min(), df['price'].max() + step_size, step_size)\n",
    "\n",
    "    # use the cut function to bin the values\n",
    "    bins = pd.cut(df['price'], bins=bin_edges)\n",
    "\n",
    "    # group the values by bin\n",
    "    grouped = df.groupby(bins)\n",
    "\n",
    "\n",
    "    result = pd.DataFrame({'price_mean': grouped['price'].mean(),\n",
    "                        'quantity_sum': grouped['quantity'].sum()})\n",
    "    return result.sort_values(by='quantity_sum', ascending=False)[:precision].sort_values(by='price_mean', ascending=False)[:val_nbr]\n",
    "\n",
    "top_quantity_sum_price_mean(order_book_df=df_ask,price_interval_pct=0.2,precision=40,val_nbr=3)\n",
    "\n",
    "\n",
    "\n",
    "def top_quantity_sum_price_mean_inverted(order_book_df,price_interval_pct=0.2,precision=50,val_nbr=10):\n",
    "    df=order_book_df\n",
    "    step_size = price_interval_pct/100 * df['price'][0]\n",
    "\n",
    "    # create an array of bin edges\n",
    "    bin_edges = np.arange(df['price'].min(), df['price'].max() + step_size, step_size)\n",
    "\n",
    "    # use the cut function to bin the values\n",
    "    bins = pd.cut(df['price'], bins=bin_edges)\n",
    "\n",
    "    # group the values by bin\n",
    "    grouped = df.groupby(bins)\n",
    "\n",
    "\n",
    "    result = pd.DataFrame({'price_mean': grouped['price'].mean(),\n",
    "                        'quantity_sum': grouped['quantity'].sum()})\n",
    "    return result.sort_values(by='quantity_sum', ascending=False)[:precision].sort_values(by='price_mean', ascending=True)[:val_nbr]\n",
    "\n",
    "top_quantity_sum_price_mean(order_book_df=df_bid,price_interval_pct=0.2,precision=30,val_nbr=3)\n",
    "top_quantity_sum_price_mean_inverted(order_book_df=df_ask,price_interval_pct=0.2,precision=30,val_nbr=3)\n",
    "\n"
   ]
  },
  {
   "cell_type": "code",
   "execution_count": null,
   "metadata": {},
   "outputs": [],
   "source": [
    "result.sort_values(by='quantity_sum', ascending=False)[:precision]"
   ]
  },
  {
   "cell_type": "code",
   "execution_count": null,
   "metadata": {},
   "outputs": [],
   "source": [
    "top_quantity_sum_price_mean(order_book_df=df_bid,price_interval_pct=0.1,precision=200,val_nbr=6)"
   ]
  },
  {
   "cell_type": "code",
   "execution_count": null,
   "metadata": {},
   "outputs": [],
   "source": [
    "precision=100\n",
    "resitance_line_nbr=3\n",
    "support_line_nbr=3\n",
    "exchange = ccxt.binance()\n",
    "symbol = 'AGIX/BUSD'\n",
    "df_bid = pd.DataFrame(exchange.fetch_order_book(symbol, 100)['bids'], columns=['price', 'quantity'])\n",
    "df_ask = pd.DataFrame(exchange.fetch_order_book(symbol, 100)['asks'], columns=['price', 'quantity'])\n",
    "df_bid['usd_quantity'] = df_bid['price'] *  df_bid['quantity']\n",
    "df_ask['usd_quantity'] = df_ask['price'] *  df_ask['quantity']\n",
    "top_bids=top_quantity_sum_price_mean(order_book_df=df_bid,price_interval_pct=0.2,precision=precision,val_nbr=resitance_line_nbr)\n",
    "top_asks=top_quantity_sum_price_mean_inverted(order_book_df=df_ask,price_interval_pct=0.2,precision=precision,val_nbr=support_line_nbr)\n",
    "timeframe = '1m'\n",
    "ohlcv = exchange.fetch_ohlcv(symbol, timeframe,limit=100)\n",
    "colors=[]\n",
    "for i in range(resitance_line_nbr):\n",
    "    colors.append(\"r\")\n",
    "for i in range(support_line_nbr):\n",
    "   colors.append(\"g\")\n",
    "# Convert the OHLCV data to a pandas DataFrame\n",
    "df = pd.DataFrame(ohlcv, columns=['Timestamp', 'Open', 'High', 'Low', 'Close', 'Volume'])\n",
    "# Set the timestamp column as the index and convert it to a DatetimeIndex\n",
    "df.index = pd.to_datetime(df['Timestamp'], unit='ms')\n",
    "df = df.drop(columns=['Timestamp'])\n",
    "\n",
    "\n",
    "spline=top_bids.price_mean.mean()\n",
    "rsline=top_asks.price_mean.mean()\n",
    "\n",
    "spdiff=((top_bids.price_mean.max()-top_bids.price_mean.min())/top_bids.price_mean.mean()*100)\n",
    "rsdiff=((top_asks.price_mean.max()-top_asks.price_mean.min())/top_asks.price_mean.mean()*100)\n",
    "\n",
    "\n",
    "sp_std=top_bids.price_mean.std()*1000#((top_bids.price.max()-top_bids.price.min())/top_bids.price.mean()*100)\n",
    "rs_std=top_asks.price_mean.std()*1000#((top_asks.price.max()-top_asks.price.min())/top_asks.price.mean()*100)\n",
    "hlines=top_bids.price_mean.to_list()+top_asks.price_mean.to_list()+[rsline,spline]\n",
    "colors=colors+['cyan','magenta']\n",
    "print(f\"support:{spline}\")\n",
    "print(f\"Resistance:{rsline}\")\n",
    "print(f\"support diff:{spdiff}%\")\n",
    "print(f\"Resistance diff:{rsdiff}%\")\n",
    "notediff=100*rsdiff/spdiff\n",
    "if(notediff<150):print(f\"goin down v: {notediff}\")\n",
    "else:print(f\"goin up ^:{notediff}\")\n",
    "\n",
    "ax=mpf.plot(df[-100:], type='candlestick', volume=True, show_nontrading=False, \n",
    "            hlines=dict(hlines=hlines\n",
    "                        ,colors=colors,linestyle='-.')\n",
    "            )\n",
    "# Show the plot\n",
    "#ax.show()\n",
    "colors\n"
   ]
  },
  {
   "attachments": {},
   "cell_type": "markdown",
   "metadata": {},
   "source": [
    "# print order list"
   ]
  },
  {
   "cell_type": "code",
   "execution_count": null,
   "metadata": {},
   "outputs": [],
   "source": [
    "import datetime\n",
    "\n",
    "while True:\n",
    "    precision=100\n",
    "    resitance_line_nbr=3\n",
    "    support_line_nbr=3\n",
    "    exchange = ccxt.binance()\n",
    "    symbol = 'AGIX/BUSD'\n",
    "    current_time = datetime.datetime.now().time()\n",
    "    df_bid = pd.DataFrame(exchange.fetch_order_book(symbol, 100)['bids'], columns=['price', 'quantity'])\n",
    "    df_ask = pd.DataFrame(exchange.fetch_order_book(symbol, 100)['asks'], columns=['price', 'quantity'])\n",
    "    df_bid['usd_quantity'] = df_bid['price'] *  df_bid['quantity']\n",
    "    df_ask['usd_quantity'] = df_ask['price'] *  df_ask['quantity']\n",
    "    top_bids=top_quantity_sum_price_mean(order_book_df=df_bid,price_interval_pct=0.2,precision=precision,val_nbr=resitance_line_nbr)\n",
    "    top_asks=top_quantity_sum_price_mean_inverted(order_book_df=df_ask,price_interval_pct=0.2,precision=precision,val_nbr=support_line_nbr)\n",
    "    timeframe = '1m'\n",
    "    colors=[]\n",
    "    for i in range(resitance_line_nbr):\n",
    "        colors.append(\"r\")\n",
    "    for i in range(support_line_nbr):\n",
    "        colors.append(\"g\")\n",
    " \n",
    "    spline=top_bids.price_mean.mean()\n",
    "    rsline=top_asks.price_mean.mean()\n",
    "    print (f\" support: {spline} - resistance {rsline} at :{current_time}\")\n",
    "    \n"
   ]
  },
  {
   "attachments": {},
   "cell_type": "markdown",
   "metadata": {},
   "source": [
    "# exemple of code using order book"
   ]
  },
  {
   "cell_type": "code",
   "execution_count": null,
   "metadata": {},
   "outputs": [],
   "source": [
    "import ccxt\n",
    "\n",
    "def calculate_trade_price(order_book, trading_fee):\n",
    "    ask_price = order_book['asks'][0][0]\n",
    "    bid_price = order_book['bids'][0][0]\n",
    "    trade_price = (ask_price + bid_price) / 2\n",
    "    trade_price_with_fee = trade_price * (1 + trading_fee)\n",
    "    return trade_price_with_fee\n",
    "\n",
    "def simulate_trade(exchange, market, trading_fee):\n",
    "    order_book = exchange.fetch_order_book(market)\n",
    "    trade_price = calculate_trade_price(order_book, trading_fee)\n",
    "    trade_amount = 0.01\n",
    "    print(\"Simulating a margin limit buy order for\", trade_amount, \"at\", trade_price)\n",
    "\n",
    "def main():\n",
    "    exchange = ccxt.binance()\n",
    "    market = 'BTC/USDT'\n",
    "    trading_fee = 0.002\n",
    "    for i in range(10): # Number of simulations\n",
    "        simulate_trade(exchange, market, trading_fee)\n",
    "\n",
    "if __name__ == \"__main__\":\n",
    "    main()\n"
   ]
  },
  {
   "attachments": {},
   "cell_type": "markdown",
   "metadata": {},
   "source": [
    "# ChatGPT Test Code"
   ]
  },
  {
   "cell_type": "code",
   "execution_count": 538,
   "metadata": {},
   "outputs": [
    {
     "data": {
      "image/png": "[encoded data removed]",
      "text/plain": [
       "<Figure size 640x480 with 1 Axes>"
      ]
     },
     "metadata": {},
     "output_type": "display_data"
    }
   ],
   "source": [
    "import ccxt\n",
    "import pandas as pd\n",
    "import matplotlib.pyplot as plt\n",
    "\n",
    "# Connect to the exchange using CCXT\n",
    "exchange = ccxt.binance()\n",
    "symbol = 'BTC/BUSD'\n",
    "\n",
    "# Retrieve the historical OHLCV data\n",
    "ohlcv = exchange.fetch_ohlcv(symbol, timeframe='1m')\n",
    "df = pd.DataFrame(ohlcv, columns=['timestamp', 'open', 'high', 'low', 'close', 'volume'])\n",
    "df['timestamp'] = pd.to_datetime(df['timestamp'], unit='ms')\n",
    "df = df.set_index('timestamp')\n",
    "\n",
    "# Define the start and end dates for the backtest\n",
    "start_date = '2023-01-01'\n",
    "end_date = '2023-02-11'\n",
    "\n",
    "# Filter the dataframe to only include the specified period\n",
    "df = df[start_date:end_date]\n",
    "\n",
    "# Calculate the mid-price for each minute\n",
    "df['mid_price'] = (df['high'] + df['low']) / 2\n",
    "\n",
    "# Initialize the portfolio\n",
    "portfolio = {'btc': 0, 'busd': 1000}\n",
    "\n",
    "# Backtest the trading strategy\n",
    "portfolio_values = []\n",
    "for i in range(1, len(df)):\n",
    "    current_price = df.at[df.index[i], 'mid_price']\n",
    "    previous_price = df.at[df.index[i-1], 'mid_price']\n",
    "\n",
    "    if current_price > previous_price:\n",
    "        # Buy Bitcoin\n",
    "        btc_quantity = portfolio['busd'] / current_price\n",
    "        portfolio['btc'] += btc_quantity\n",
    "        portfolio['busd'] -= btc_quantity * current_price\n",
    "    elif current_price < previous_price:\n",
    "        # Sell Bitcoin\n",
    "        busd_quantity = portfolio['btc'] * current_price\n",
    "        portfolio['busd'] += busd_quantity\n",
    "        portfolio['btc'] -= busd_quantity / current_price\n",
    "\n",
    "    portfolio_values.append(portfolio['btc'] * current_price + portfolio['busd'])\n",
    "\n",
    "# Create a plot of the portfolio value over time\n",
    "plt.plot(df.index[1:], portfolio_values)\n",
    "plt.xlabel('Date')\n",
    "plt.ylabel('Portfolio Value (BUSD)')\n",
    "plt.title('Portfolio Value Over Time')\n",
    "plt.show()\n"
   ]
  },
  {
   "cell_type": "code",
   "execution_count": null,
   "metadata": {},
   "outputs": [],
   "source": [
    "import requests\n",
    "\n",
    "# Define your subscription key and endpoint\n",
    "subscription_key = \"your_subscription_key\"\n",
    "endpoint = \"https://api.bing.microsoft.com/v7.0/search\"\n",
    "\n",
    "# Define your query and parameters\n",
    "query = \"generate python code for a simple calculator app\"\n",
    "params = {\"q\": query, \"mkt\": \"en-US\", \"responseFilter\": \"Webpages\"}\n",
    "\n",
    "# Make the request and get the response\n",
    "headers = {\"Ocp-Apim-Subscription-Key\": subscription_key}\n",
    "response = requests.get(endpoint, headers=headers, params=params)\n",
    "response.raise_for_status()\n",
    "results = response.json()\n",
    "\n",
    "# Extract the generated code from the first web page result\n",
    "code = results[\"webPages\"][\"value\"][0][\"snippet\"]\n",
    "\n",
    "# Print the generated code\n",
    "print(code)\n"
   ]
  }
 ],
 "metadata": {
  "kernelspec": {
   "display_name": "Python 3",
   "language": "python",
   "name": "python3"
  },
  "language_info": {
   "codemirror_mode": {
    "name": "ipython",
    "version": 3
   },
   "file_extension": ".py",
   "mimetype": "text/x-python",
   "name": "python",
   "nbconvert_exporter": "python",
   "pygments_lexer": "ipython3",
   "version": "3.9.2"
  },
  "orig_nbformat": 4,
  "vscode": {
   "interpreter": {
    "hash": "e7370f93d1d0cde622a1f8e1c04877d8463912d04d973331ad4851f04de6915a"
   }
  }
 },
 "nbformat": 4,
 "nbformat_minor": 2
}
