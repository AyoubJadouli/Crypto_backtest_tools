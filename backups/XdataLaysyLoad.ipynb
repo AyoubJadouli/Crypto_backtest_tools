{
 "cells": [
  {
   "cell_type": "markdown",
   "metadata": {
    "notebookRunGroups": {
     "groupValue": "1"
    }
   },
   "source": [
    "## importation and routings"
   ]
  },
  {
   "cell_type": "code",
   "execution_count": 1,
   "metadata": {
    "notebookRunGroups": {
     "groupValue": "1"
    },
    "vscode": {
     "languageId": "python"
    }
   },
   "outputs": [
    {
     "name": "stdout",
     "output_type": "stream",
     "text": [
      "/UltimeTradingBot/Crypto_backtest_tools\n",
      "Window: 20 - Focast time: 3min - Buy treshold: 0.35% - Max Down: 0.1%\n"
     ]
    }
   ],
   "source": [
    "%cd '/UltimeTradingBot/Crypto_backtest_tools'\n",
    "WINDOW_SIZE=20\n",
    "BUY_PCT=0.35\n",
    "SELL_PCT=0.1\n",
    "MAX_FORCAST_SIZE=3\n",
    "VERSION=1\n",
    "TESTING_MOD=False\n",
    "UPGRAD_MOD=False\n",
    "JUST_IMPORT_DATA=False\n",
    "#Normalization_File='w15_NoVol_Normalization.json'\n",
    "#Model_FileName='w15_NoVol_XcryptoAi_model.hdf5'\n",
    "ALLHIST_FILE='Results_history.json'\n",
    "DATA_DIR='/UltimeTradingBot/Data/'\n",
    "FIRST_NORM_FLAG=True\n",
    "DATA_DIR='/UltimeTradingBot/Data'\n",
    "Normalization_File=f'{DATA_DIR}/tp{int(BUY_PCT*100)}_w{WINDOW_SIZE}_max{MAX_FORCAST_SIZE}min_Norm_v{VERSION}.json'\n",
    "Model_FileName=f'{DATA_DIR}/tp{int(BUY_PCT*100)}_w{WINDOW_SIZE}_max{MAX_FORCAST_SIZE}min_Model_v{VERSION}.hdf5'\n",
    "DATA_FILE=f'{DATA_DIR}/CSV/tp{int(BUY_PCT*100)}_w{WINDOW_SIZE}_max{MAX_FORCAST_SIZE}min_Data_v{VERSION}.csv'\n",
    "REMOTE_DATA_FILE=f'/gdrive/+DATA+/tp{int(BUY_PCT*100)}_w{WINDOW_SIZE}_max{MAX_FORCAST_SIZE}min_Data_v{VERSION}.csv.zip'\n",
    "window=WINDOW_SIZE\n",
    "META_INFO=f'Window: {WINDOW_SIZE} - Focast time: {MAX_FORCAST_SIZE}min - Buy treshold: {BUY_PCT}% - Max Down: {SELL_PCT}%'\n",
    "NORM_FILE=Normalization_File\n",
    "MODEL_FILE=Model_FileName\n",
    "Px=40\n",
    "BUFFER_SIZE=250000*Px\n",
    "SAMPLE_SIZE=5000*Px\n",
    "\n",
    "print(META_INFO)\n",
    "#DATA_FILE=DATA_DIR+'w'+str(WINDOW_SIZE)+'_EXTData.csv'\n",
    "\n"
   ]
  },
  {
   "cell_type": "code",
   "execution_count": 2,
   "metadata": {
    "notebookRunGroups": {
     "groupValue": "1"
    },
    "vscode": {
     "languageId": "python"
    }
   },
   "outputs": [
    {
     "name": "stdout",
     "output_type": "stream",
     "text": [
      "/UltimeTradingBot/Crypto_backtest_tools\n"
     ]
    },
    {
     "name": "stderr",
     "output_type": "stream",
     "text": [
      "/usr/local/lib/python3.9/dist-packages/pandas/core/computation/expressions.py:21: UserWarning: Pandas requires version '2.7.3' or newer of 'numexpr' (version '2.7.2' currently installed).\n",
      "  from pandas.core.computation.check import NUMEXPR_INSTALLED\n",
      "/usr/local/lib/python3.9/dist-packages/pandas/core/arrays/masked.py:59: UserWarning: Pandas requires version '1.3.2' or newer of 'bottleneck' (version '1.2.1' currently installed).\n",
      "  from pandas.core import (\n",
      "2022-10-18 15:31:45.928971: I tensorflow/core/platform/cpu_feature_guard.cc:193] This TensorFlow binary is optimized with oneAPI Deep Neural Network Library (oneDNN) to use the following CPU instructions in performance-critical operations:  AVX2 AVX512F AVX512_VNNI FMA\n",
      "To enable them in other operations, rebuild TensorFlow with the appropriate compiler flags.\n",
      "2022-10-18 15:31:46.071653: I tensorflow/core/util/util.cc:169] oneDNN custom operations are on. You may see slightly different numerical results due to floating-point round-off errors from different computation orders. To turn them off, set the environment variable `TF_ENABLE_ONEDNN_OPTS=0`.\n"
     ]
    }
   ],
   "source": [
    "\n",
    "import sys\n",
    "sys.path.append('/UltimeTradingBot/Crypto_backtest_tools')\n",
    "%cd /UltimeTradingBot/Crypto_backtest_tools\n",
    "from utilities.get_data import get_historical_from_db\n",
    "from utilities.backtesting import basic_single_asset_backtest, plot_wallet_vs_asset, get_metrics\n",
    "import pandas as pd\n",
    "import dask as dd\n",
    "import ccxt\n",
    "import time\n",
    "import matplotlib.pyplot as plt\n",
    "#import ta\n",
    "import numpy as np\n",
    "import gc\n",
    "import random\n",
    "from sklearn.utils import shuffle\n",
    "import seaborn as sns\n",
    "import tensorflow as tf\n",
    "\n",
    "from utilities.backtesting import plot_wallet_vs_asset, get_metrics, get_n_columns, basic_multi_asset_backtest, plot_sharpe_evolution, plot_bar_by_month\n",
    "#from utilities.custom_indicators import SuperTrend\n",
    "pd.options.mode.chained_assignment = None  # default='warn'\n",
    "import gc\n",
    "gc.collect()    \n",
    "import ccxt\n",
    "import matplotlib.pyplot as plt\n",
    "import json\n",
    "import numpy as np\n",
    "import random\n",
    "import os\n",
    "import tensorflow as tf\n",
    "from tensorflow.keras.models import Sequential\n",
    "from tensorflow.keras.layers import Dense\n",
    "from tensorflow.keras.layers import Dropout\n",
    "from tensorflow.keras.constraints import MaxNorm\n",
    "from tensorflow.keras.optimizers import SGD\n",
    "from keras.callbacks import EarlyStopping, ModelCheckpoint\n",
    "from tensorflow.keras.models import Sequential\n",
    "from tensorflow.keras.layers import Dense \n",
    "\n",
    "\n",
    "import warnings\n",
    "warnings.filterwarnings('ignore')\n",
    "PRERR=False\n",
    "def prerr(err):\n",
    "    if PRERR:\n",
    "        print(\"\\033[0;31m Error in \"+str(sys._getframe().f_code.co_name) +\" \\033[0;33m\"+str(err))\n",
    "\n",
    "PDEBUG=True\n",
    "def pdebug(err):\n",
    "    if PDEBUG:\n",
    "        print(\"\\033[0;31m Error in \"+str(sys._getframe().f_code.co_name) +\" \\033[0;33m\"+str(err))"
   ]
  },
  {
   "cell_type": "markdown",
   "metadata": {},
   "source": [
    "### Usefull Global and Config Vars"
   ]
  },
  {
   "cell_type": "markdown",
   "metadata": {},
   "source": [
    "### importing Data"
   ]
  },
  {
   "cell_type": "code",
   "execution_count": null,
   "metadata": {
    "notebookRunGroups": {
     "groupValue": "1"
    },
    "vscode": {
     "languageId": "python"
    }
   },
   "outputs": [],
   "source": [
    "Binance_USDT_HALAL = [\n",
    "    \"BTC/USDT\",\n",
    "    \"LUNA/USDT\",\n",
    "    \"ETH/USDT\",\n",
    "    \"GMT/USDT\",\n",
    "    \"UST/USDT\",\n",
    "    \"SOL/USDT\",\n",
    "    \"APE/USDT\",\n",
    "    \"XRP/USDT\",\n",
    "    \"IDEX/USDT\",\n",
    "    \"AVAX/USDT\",\n",
    "    \"DOT/USDT\",\n",
    "    \"ADA/USDT\",\n",
    "    \"JASMY/USDT\",\n",
    "    \"TRX/USDT\",\n",
    "    \"NEAR/USDT\",\n",
    "    \"AXS/USDT\",\n",
    "    \"GAL/USDT\",\n",
    "    \"GALA/USDT\",\n",
    "    \"SHIB/USDT\",\n",
    "    \"ZIL/USDT\",\n",
    "    \"ENS/USDT\",\n",
    "    \"DOGE/USDT\",\n",
    "    \"LTC/USDT\",\n",
    "    \"EUR/USDT\",\n",
    "    \"MANA/USDT\",\n",
    "    \"DAR/USDT\",\n",
    "    \"WAVES/USDT\",\n",
    "    \"LAZIO/USDT\",\n",
    "    \"ALICE/USDT\",\n",
    "    \"ROSE/USDT\",\n",
    "    \"ZEC/USDT\",\n",
    "    \"ALGO/USDT\",\n",
    "    \"GRT/USDT\",\n",
    "    \"PSG/USDT\",\n",
    "    \"SLP/USDT\",\n",
    "    \"EOS/USDT\",\n",
    "    \"PORTO/USDT\",\n",
    "    \"ICP/USDT\",\n",
    "    \"EGLD/USDT\",\n",
    "    \"XMR/USDT\",\n",
    "    \"KDA/USDT\",\n",
    "    \"ETC/USDT\",\n",
    "    \"MBOX/USDT\",\n",
    "    \"OGN/USDT\",\n",
    "    \"AR/USDT\",\n",
    "    \"GLMR/USDT\",\n",
    "    \"LOKA/USDT\",\n",
    "    \"XLM/USDT\",\n",
    "    \"MTL/USDT\",\n",
    "    \"SNX/USDT\",\n",
    "    \"PYR/USDT\",\n",
    "    \"DASH/USDT\",\n",
    "    \"CITY/USDT\",\n",
    "    \"ASTR/USDT\",\n",
    "    \"IOTA/USDT\",\n",
    "    \"ACM/USDT\",\n",
    "    \"BAR/USDT\",\n",
    "    \"JUV/USDT\",\n",
    "    \"SYS/USDT\",\n",
    "    \"RVN/USDT\",\n",
    "    \"MBL/USDT\",\n",
    "    \"REN/USDT\",\n",
    "    \"JST/USDT\",\n",
    "    \"OMG/USDT\",\n",
    "    \"ATM/USDT\",\n",
    "    \"XEC/USDT\",\n",
    "    \"STORJ/USDT\",\n",
    "    \"ZRX/USDT\",\n",
    "    \"SRM/USDT\",\n",
    "    \"ICX/USDT\",\n",
    "    \"API3/USDT\",\n",
    "    \"ONT/USDT\",\n",
    "    \"SKL/USDT\",\n",
    "    \"MULTI/USDT\",\n",
    "    \"QTUM/USDT\",\n",
    "    \"COCOS/USDT\",\n",
    "    \"VOXEL/USDT\",\n",
    "    \"HIVE/USDT\",\n",
    "    \"KP3R/USDT\",\n",
    "    \"ATA/USDT\",\n",
    "    \"STMX/USDT\",\n",
    "    \"ADX/USDT\",\n",
    "    \"HIGH/USDT\",\n",
    "    \"NULS/USDT\",\n",
    "    \"MLN/USDT\",\n",
    "    \"YGG/USDT\",\n",
    "    \"SC/USDT\",\n",
    "    \"CKB/USDT\",\n",
    "    \"TOMO/USDT\",\n",
    "    \"STX/USDT\",\n",
    "    \"FLUX/USDT\",\n",
    "    \"DNT/USDT\",\n",
    "    \"ORN/USDT\",\n",
    "    \"PLA/USDT\",\n",
    "    \"BADGER/USDT\",\n",
    "    \"DF/USDT\",\n",
    "    \"MOB/USDT\",\n",
    "    \"LPT/USDT\",\n",
    "    \"SCRT/USDT\",\n",
    "    \"RAD/USDT\",\n",
    "    \"NMR/USDT\",\n",
    "    \"ELF/USDT\",\n",
    "    \"TORN/USDT\",\n",
    "    \"T/USDT\",\n",
    "    \"QUICK/USDT\",\n",
    "    \"LSK/USDT\",\n",
    "    \"FIDA/USDT\",\n",
    "    \"XNO/USDT\",\n",
    "    \"BTG/USDT\",\n",
    "    \"GHST/USDT\",\n",
    "    \"EPS/USDT\"\n",
    "]\n",
    "\n",
    "pair_list = Binance_USDT_HALAL\n",
    "#tf = '1m'\n",
    "oldest_pair = \"BTC/USDT\"\n",
    "df_list1m = {}\n",
    "df_list1d = {}\n",
    "df_list1h = {}\n",
    "df_list5m = {}\n",
    "df_list15m = {}\n",
    "\n",
    "\n",
    "for pair in pair_list:\n",
    "    df = get_historical_from_db(ccxt.binance(), pair, '1m', path=\"./database/\")\n",
    "    df_list1m[pair] = df.loc[:]\n",
    "\n",
    "for pair in pair_list:\n",
    "    df = get_historical_from_db(ccxt.binance(), pair, '1d', path=\"./database/\")\n",
    "    df_list1d[pair] = df.loc[:]\n",
    "\n",
    "for pair in pair_list:\n",
    "    df = get_historical_from_db(ccxt.binance(), pair, '1h', path=\"./database/\")\n",
    "    df_list1h[pair] = df.loc[:]\n",
    "\n",
    "for pair in pair_list:\n",
    "    df = get_historical_from_db(ccxt.binance(), pair, '5m', path=\"./database/\")\n",
    "    df_list5m[pair] = df.loc[:]\n",
    "\n",
    "for pair in pair_list:\n",
    "    df = get_historical_from_db(\n",
    "        ccxt.binance(), pair, '15m', path=\"./database/\")\n",
    "    df_list15m[pair] = df.loc[:]\n",
    "del(df)\n",
    "df_list = df_list1m\n",
    "prerr(\"Data load 100% use df_list1d[\\\"BTC/USDT\\\"] for exemple to access\")\n"
   ]
  },
  {
   "cell_type": "code",
   "execution_count": null,
   "metadata": {
    "vscode": {
     "languageId": "python"
    }
   },
   "outputs": [],
   "source": [
    "#df_list1m[\"BTC/USDT\"].iloc[0:10]"
   ]
  },
  {
   "cell_type": "markdown",
   "metadata": {},
   "source": [
    "### Validated Fonctions"
   ]
  },
  {
   "cell_type": "code",
   "execution_count": null,
   "metadata": {
    "notebookRunGroups": {
     "groupValue": "1"
    },
    "vscode": {
     "languageId": "python"
    }
   },
   "outputs": [],
   "source": [
    "'''\n",
    "Binance First Candle Finders\n",
    "Creslin\n",
    "\n",
    "Get list of all IDs on binance\n",
    "Returns the first candle / launch timestamp to the minute for each\n",
    "'''\n",
    "import urllib.request\n",
    "import json\n",
    "import ccxt\n",
    "\n",
    "def all_ids():\n",
    "    # load all markets from binance into a list\n",
    "    id = 'binance'\n",
    "    exchange_found = id in ccxt.exchanges\n",
    "    if exchange_found:\n",
    "        exchange = getattr(ccxt, id)({})\n",
    "        markets = exchange.load_markets()\n",
    "        tuples = list(ccxt.Exchange.keysort(markets).items())\n",
    "\n",
    "        ids = []\n",
    "        for (k, v) in tuples:\n",
    "            ids.append(v['id'])\n",
    "\n",
    "        return ids\n",
    "\n",
    "def give_first_kline_open_stamp(interval, symbol, start_ts=1499990400000):\n",
    "        '''\n",
    "        Returns the first kline from an interval and start timestamp and symbol\n",
    "        :param interval:  1w, 1d, 1m etc - the bar length to query\n",
    "        :param symbol:    BTCUSDT or LTCBTC etc\n",
    "        :param start_ts:  Timestamp in miliseconds to start the query from\n",
    "        :return:          The first open candle timestamp\n",
    "        '''\n",
    "\n",
    "        url_stub = \"http://api.binance.com/api/v1/klines?interval=\"\n",
    "\n",
    "        #/api/v1/klines?interval=1m&startTime=1536349500000&symbol=ETCBNB\n",
    "        addInterval   = url_stub     + str(interval) + \"&\"\n",
    "        addStarttime  = addInterval   + \"startTime=\"  + str(start_ts) + \"&\"\n",
    "        addSymbol     = addStarttime + \"symbol=\"     + str(symbol)\n",
    "        url_to_get = addSymbol\n",
    "\n",
    "        kline_data = urllib.request.urlopen(url_to_get).read().decode(\"utf-8\")\n",
    "        kline_data = json.loads(kline_data)\n",
    "\n",
    "        return kline_data[0][0]\n",
    "\n",
    "\n",
    "# Get list of all IDs on binance\n",
    "def get_crypto_metadata(pair_list):\n",
    "    Binance_USDT_HALAL=pair_list\n",
    "    ids = []\n",
    "    #ids = all_ids()\n",
    "    for halalpair in Binance_USDT_HALAL:\n",
    "    #    print( halalpair.replace('/',''))\n",
    "        ids.append(halalpair.replace('/',''))\n",
    "    #print(ids)\n",
    "    MetaData=pd.DataFrame(ids)\n",
    "    MetaData[\"Pair\"]=Binance_USDT_HALAL\n",
    "    counters=0\n",
    "    for this_id in ids:\n",
    "        '''\n",
    "        Find launch Week of symbol, start at Binance launch date 2017-07-14 (1499990400000)\n",
    "        Find launch Day of symbol in week\n",
    "        Find launch minute of symbol in day\n",
    "        '''\n",
    "\n",
    "        symbol_launch_week_stamp   = give_first_kline_open_stamp('1w', this_id, 1499990400000 )\n",
    "        symbol_launch_day_stamp    = give_first_kline_open_stamp('1d', this_id, symbol_launch_week_stamp)\n",
    "        symbol_launch_minute_stamp = give_first_kline_open_stamp('1m', this_id, symbol_launch_day_stamp)\n",
    "        MetaData.loc[counters,\"launch_week_stamp\"]=str(symbol_launch_week_stamp)\n",
    "        MetaData.loc[counters,\"launch_day_stamp\"]=str(symbol_launch_day_stamp)\n",
    "        MetaData.loc[counters,\"launch_minute\"]=pd.to_datetime(symbol_launch_minute_stamp, unit='ms')\n",
    "\n",
    "        counters += 1\n",
    "\n",
    "        #print(\"Week stamp\", symbol_launch_week_stamp)\n",
    "        #print(\"Day  stamp\", symbol_launch_day_stamp)\n",
    "        #print(\"Min  stamp\", symbol_launch_minute_stamp)\n",
    "\n",
    "        print(this_id, \"launched\", symbol_launch_minute_stamp )\n",
    "    return MetaData\n",
    "    #print(\"\")"
   ]
  },
  {
   "cell_type": "code",
   "execution_count": null,
   "metadata": {
    "notebookRunGroups": {
     "groupValue": "1"
    },
    "vscode": {
     "languageId": "python"
    }
   },
   "outputs": [],
   "source": [
    "try:\n",
    "    MetaData = pd.read_csv(\"../Data/MetaData.csv\",index_col=0)\n",
    "except:\n",
    "    MetaData=get_crypto_metadata(Binance_USDT_HALAL)\n",
    "    MetaData.to_csv(\"../Data/MetaData.csv\")\n",
    "#allok = pd.read_csv('D:/+DATA+/allok_w15.csv')"
   ]
  },
  {
   "cell_type": "code",
   "execution_count": null,
   "metadata": {
    "notebookRunGroups": {
     "groupValue": "1"
    },
    "vscode": {
     "languageId": "python"
    }
   },
   "outputs": [],
   "source": [
    "#MetaData.to_csv(\"D:\\+DATA+\\MetaData.csv\")\n",
    "pair_list=Binance_USDT_HALAL\n",
    "window=WINDOW_SIZE\n",
    "buy_weight=50\n",
    "sample_size=10000\n",
    "min_days=MAX_FORCAST_SIZE\n",
    "buffer_size=100000\n",
    "#MetaData"
   ]
  },
  {
   "cell_type": "code",
   "execution_count": null,
   "metadata": {
    "notebookRunGroups": {
     "groupValue": "1"
    },
    "vscode": {
     "languageId": "python"
    }
   },
   "outputs": [],
   "source": [
    "def expand_row(dataframe, window=2):\n",
    "    df = dataframe.copy()\n",
    "    for i in range(1, window+1):\n",
    "        df[\"high\"+str(i)] = df[\"high\"][i:]\n",
    "        df[\"low\"+str(i)] = df[\"low\"][i:]\n",
    "        df[\"open\"+str(i)] = df[\"open\"][i:]\n",
    "        df[\"close\"+str(i)] = df[\"close\"][i:]\n",
    "        df[\"volume\"+str(i)] = df[\"volume\"][i:]\n",
    "    return df\n",
    "\n",
    "def justlast_remover(df):\n",
    "    justlast=[\"BTC_open\",\"BTC_low\",\"BTC_close\",\"open\",\"low\",\"close\"]\n",
    "    for key in df.keys():\n",
    "        #key.find(\"-1\") != -1 and key.find(\"open-1\") == -1) or\n",
    "        if ( key.find(\"close\") != -1 ):\n",
    "            justlast.append(key)\n",
    "    df=df.drop(columns=justlast)\n",
    "    return df\n",
    "\n",
    "def expand_previous(dataframe, window=10):\n",
    "    df = dataframe.copy()\n",
    "    if window >= len(df):\n",
    "        for i in range(1, window+1):\n",
    "            df.loc[window:len(df),\"high-\"+str(i)]=None\n",
    "            df.loc[window:len(df),\"low-\"+str(i)]=None\n",
    "            #df.loc[window:len(df),\"open-\"+str(i)]=None            \n",
    "            df.loc[window:len(df),\"close-\"+str(i)]=None            \n",
    "            df.loc[window:len(df),\"volume-\"+str(i)]=None\n",
    "        window=len(df)\n",
    "\n",
    "    for i in range(1, window+1):\n",
    "        try:\n",
    "            df.loc[window:len(df),\"high-\"+str(i)]=None\n",
    "            df[\"high-\"+str(i)].iloc[window:len(df)]=df[\"high\"][window-i:len(df)-i].to_list()\n",
    "\n",
    "            df.loc[window:len(df),\"low-\"+str(i)]=None\n",
    "            df[\"low-\"+str(i)].iloc[window:len(df)]=df[\"low\"][window-i:len(df)-i].to_list()\n",
    "\n",
    "            # df.loc[window:len(df),\"open-\"+str(i)]=None\n",
    "            # df[\"open-\"+str(i)].iloc[window:len(df)]=df[\"open\"][window-i:len(df)-i].to_list()           \n",
    "            \n",
    "            df.loc[window:len(df),\"close-\"+str(i)]=None\n",
    "            df[\"close-\"+str(i)].iloc[window:len(df)]=df[\"close\"][window-i:len(df)-i].to_list()            \n",
    "            \n",
    "            df.loc[window:len(df),\"volume-\"+str(i)]=None\n",
    "            df[\"volume-\"+str(i)].iloc[window:len(df)]=df[\"volume\"][window-i:len(df)-i].to_list()\n",
    "            \n",
    "            # df[\"high-\"+str(i)][i:] = df[\"high\"][i-1:]\n",
    "            # df[\"low-\"+str(i)][i:] = df[\"low\"][i-1:]\n",
    "            # df[\"open-\"+str(i)][i:] = df[\"open\"][i-1:]\n",
    "            # df[\"close-\"+str(i)][i:] = df[\"close\"][i-1:]\n",
    "            # df[\"volume-\"+str(i)][i:] = df[\"volume\"][i-1:]\n",
    "        except:\n",
    "            prerr(\"Error in     expand_previous: \" +str(i))\n",
    "    if window >= len(df): return df       \n",
    "    return df.iloc[window:]\n",
    "\n",
    "def expand_previous_org(dataframe, window=10):\n",
    "    df = dataframe.copy()\n",
    "    if window >= len(df):\n",
    "        for i in range(1, window+1):\n",
    "            df.loc[window:len(df),\"high-\"+str(i)]=None\n",
    "            df.loc[window:len(df),\"low-\"+str(i)]=None\n",
    "            df.loc[window:len(df),\"open-\"+str(i)]=None            \n",
    "            df.loc[window:len(df),\"close-\"+str(i)]=None            \n",
    "            df.loc[window:len(df),\"volume-\"+str(i)]=None\n",
    "        window=len(df)\n",
    "\n",
    "    for i in range(1, window+1):\n",
    "        try:\n",
    "            df.loc[window:len(df),\"high-\"+str(i)]=None\n",
    "            df[\"high-\"+str(i)].iloc[window:len(df)]=df[\"high\"][window-i:len(df)-i].to_list()\n",
    "\n",
    "            df.loc[window:len(df),\"low-\"+str(i)]=None\n",
    "            df[\"low-\"+str(i)].iloc[window:len(df)]=df[\"low\"][window-i:len(df)-i].to_list()\n",
    "\n",
    "            df.loc[window:len(df),\"open-\"+str(i)]=None\n",
    "            df[\"open-\"+str(i)].iloc[window:len(df)]=df[\"open\"][window-i:len(df)-i].to_list()           \n",
    "            \n",
    "            df.loc[window:len(df),\"close-\"+str(i)]=None\n",
    "            df[\"close-\"+str(i)].iloc[window:len(df)]=df[\"close\"][window-i:len(df)-i].to_list()            \n",
    "            \n",
    "            df.loc[window:len(df),\"volume-\"+str(i)]=None\n",
    "            df[\"volume-\"+str(i)].iloc[window:len(df)]=df[\"volume\"][window-i:len(df)-i].to_list()\n",
    "            \n",
    "            # df[\"high-\"+str(i)][i:] = df[\"high\"][i-1:]\n",
    "            # df[\"low-\"+str(i)][i:] = df[\"low\"][i-1:]\n",
    "            # df[\"open-\"+str(i)][i:] = df[\"open\"][i-1:]\n",
    "            # df[\"close-\"+str(i)][i:] = df[\"close\"][i-1:]\n",
    "            # df[\"volume-\"+str(i)][i:] = df[\"volume\"][i-1:]\n",
    "        except:\n",
    "            prerr(\"Error in     expand_previous: \" +str(i))\n",
    "    if window >= len(df): return df       \n",
    "    return df.iloc[window:]\n",
    "\n",
    "\n",
    "def expand_previous_err(dataframe, window=10):\n",
    "    df = dataframe.copy()\n",
    "    if window >= len(df):\n",
    "        for i in range(1, window+1):\n",
    "            df.loc[window:len(df),\"high-\"+str(i)]=None\n",
    "            df.loc[window:len(df),\"low-\"+str(i)]=None\n",
    "            df.loc[window:len(df),\"open-\"+str(i)]=None            \n",
    "            df.loc[window:len(df),\"close-\"+str(i)]=None            \n",
    "            df.loc[window:len(df),\"volume-\"+str(i)]=None\n",
    "        window=len(df)\n",
    "\n",
    "    for i in range(1, window+1):\n",
    "            df.loc[window:len(df),\"high-\"+str(i)]=None\n",
    "            df[\"high-\"+str(i)].iloc[window:len(df)]=df[\"high\"][window-i:len(df)-i]\n",
    "\n",
    "            df.loc[window:len(df),\"low-\"+str(i)]=None\n",
    "            df[\"low-\"+str(i)].iloc[window:len(df)]=df[\"low\"][window-i:len(df)-i]\n",
    "\n",
    "            df.loc[window:len(df),\"open-\"+str(i)]=None\n",
    "            df[\"open-\"+str(i)].iloc[window:len(df)]=df[\"open\"][window-i:len(df)-i]            \n",
    "            \n",
    "            df.loc[window:len(df),\"close-\"+str(i)]=None\n",
    "            df[\"close-\"+str(i)].iloc[window:len(df)]=df[\"close\"][window-i:len(df)-i]            \n",
    "            \n",
    "            df.loc[window:len(df),\"volume-\"+str(i)]=None\n",
    "            df[\"volume-\"+str(i)].iloc[window:len(df)]=df[\"volume\"][window-i:len(df)-i]\n",
    "            \n",
    "            # df[\"high-\"+str(i)][i:] = df[\"high\"][i-1:]\n",
    "            # df[\"low-\"+str(i)][i:] = df[\"low\"][i-1:]\n",
    "            # df[\"open-\"+str(i)][i:] = df[\"open\"][i-1:]\n",
    "            # df[\"close-\"+str(i)][i:] = df[\"close\"][i-1:]\n",
    "            # df[\"volume-\"+str(i)][i:] = df[\"volume\"][i-1:]\n",
    "    if window >= len(df):\n",
    "        return df\n",
    "    return df.iloc[window:]\n",
    "\n",
    "def expand_timeframe(df_minutes,df_hours, window=2):\n",
    "    dfm = df_minutes.copy()\n",
    "    for j in range(1, window+1):\n",
    "        for i in df_hours[dfm.iloc[0].name:].index:\n",
    "        #prerr(str(i))\n",
    "            try:\n",
    "                dfm.loc[pd.date_range(str(i), periods=60, freq=\"min\"),\"high_1h-\"+str(j)]= df_hours[str(i-pd.Timedelta(str(j)+\" hour\"))]['high']\n",
    "                dfm.loc[pd.date_range(str(i), periods=60, freq=\"min\"),\"low_1h-\"+str(j)]= df_hours[str(i-pd.Timedelta(str(j)+\" hour\"))]['low']\n",
    "                dfm.loc[pd.date_range(str(i), periods=60, freq=\"min\"),\"open_1h-\"+str(j)]= df_hours[str(i-pd.Timedelta(str(j)+\" hour\"))]['open']\n",
    "                dfm.loc[pd.date_range(str(i), periods=60, freq=\"min\"),\"close_1h-\"+str(j)]= df_hours[str(i-pd.Timedelta(str(j)+\" hour\"))]['close']\n",
    "            except:\n",
    "                prerr(\"Error Merging: \"+str(i))\n",
    "    \n",
    "    return dfm\n",
    "\n",
    "\n",
    "def float_or_not(var):\n",
    "    try:\n",
    "        x=float(var)\n",
    "    except:\n",
    "        x=None\n",
    "    return x\n",
    "\n",
    "def expand_to_1h(df_1m,df_1h, window=2):\n",
    "    dfm = df_1m.copy()\n",
    "    index_start=df_1h.index.intersection(dfm.index.round(freq='H'))\n",
    "    for i in index_start:\n",
    "        for j in range(1, window+1):\n",
    "            # try:    \n",
    "                timefragment=dfm.index.intersection(pd.date_range(str(i), periods=60, freq=\"min\"))\n",
    "                dfm.loc[timefragment,\"high_1h-\"+str(j)]=float_or_not(df_1h.loc[str(i-pd.Timedelta(str(j)+\" hour\"))]['high'])\n",
    "                dfm.loc[timefragment,\"low_1h-\"+str(j)]=float_or_not(df_1h.loc[str(i-pd.Timedelta(str(j)+\" hour\"))]['low'])\n",
    "                dfm.loc[timefragment,\"open_1h-\"+str(j)]=float_or_not(df_1h.loc[str(i-pd.Timedelta(str(j)+\" hour\"))]['open'])\n",
    "                dfm.loc[timefragment,\"close_1h-\"+str(j)]=float_or_not(df_1h.loc[str(i-pd.Timedelta(str(j)+\" hour\"))]['close'])\n",
    "            # except:\n",
    "            #     prerr(\"error fonction \"str(i))\n",
    "    return dfm\n",
    "\n",
    "def expand_to_4h(df_1m,df_4h, window=2):\n",
    "    dfm = df_1m.copy()\n",
    "    #index_start=df_1h[str(dfm.iloc[0].name.round(freq='H')):].index.intersection(dfm.index)\n",
    "    index_start=df_4h.index.intersection(dfm.index.round(freq='4H'))\n",
    "    for i in index_start:\n",
    "        for j in range(1, window+1):\n",
    "            # try:    \n",
    "                timefragment=dfm.index.intersection(pd.date_range(str(i), periods=4*60, freq=\"min\"))\n",
    "                dfm.loc[timefragment,\"high_4h-\"+str(j)]=float_or_not(df_4h.loc[str(i-pd.Timedelta(str(j*4)+\" hour\"))]['high'])\n",
    "                dfm.loc[timefragment,\"low_4h-\"+str(j)]= float_or_not(df_4h.loc[str(i-pd.Timedelta(str(j*4)+\" hour\"))]['low'])\n",
    "                dfm.loc[timefragment,\"open_4h-\"+str(j)]= float_or_not(df_4h.loc[str(i-pd.Timedelta(str(j*4)+\" hour\"))]['open'])\n",
    "                dfm.loc[timefragment,\"close_4h-\"+str(j)]= float_or_not(df_4h.loc[str(i-pd.Timedelta(str(j*4)+\" hour\"))]['close'])\n",
    "            # except:\n",
    "            #     prerr(\"error fonction \"str(i))\n",
    "    return dfm\n",
    "\n",
    "def expand_to_1d(df_1m,df_1d, window=2,time_suffix=\"1d\"):\n",
    "    dfm = df_1m.copy()\n",
    "    index_start=df_1d.index.intersection(dfm.index.round(freq='1d'))\n",
    "    for i in index_start:\n",
    "        for j in range(1, window+1):\n",
    "            # try:    \n",
    "                prerr(i)\n",
    "                timefragment=dfm.index.intersection(pd.date_range(str(i), periods=24*60, freq=\"min\"))\n",
    "                dfm.loc[timefragment,\"high_\"+time_suffix+\"-\"+str(j)]=float_or_not(df_1d.loc[str(i-pd.Timedelta(str(j)+\" day\"))]['high'])\n",
    "                dfm.loc[timefragment,\"low_\"+time_suffix+\"-\"+str(j)]= float_or_not(df_1d.loc[str(i-pd.Timedelta(str(j)+\" day\"))]['low'])\n",
    "                dfm.loc[timefragment,\"open_\"+time_suffix+\"-\"+str(j)]= float_or_not(df_1d.loc[str(i-pd.Timedelta(str(j)+\" day\"))]['open'])\n",
    "                dfm.loc[timefragment,\"close_\"+time_suffix+\"-\"+str(j)]= float_or_not(df_1d.loc[str(i-pd.Timedelta(str(j)+\" day\"))]['close'])\n",
    "            # except:\n",
    "            #     prerr(\"error fonction \"str(i))\n",
    "    return dfm\n",
    "\n",
    "def expand_to_5m(df_1m,df_5m, window=2,time_suffix=\"5m\"):\n",
    "    dfm = df_1m.copy()\n",
    "    index_start=df_5m.index.intersection(dfm.index.round(freq='5 min'))\n",
    "    for i in index_start:\n",
    "        for j in range(1, window+1):\n",
    "            # try:    \n",
    "                \n",
    "                timefragment=dfm.index.intersection(pd.date_range(str(i), periods=5, freq=\"min\"))\n",
    "                dfm.loc[timefragment,\"high_\"+time_suffix+\"-\"+str(j)]=float_or_not(df_5m.loc[str(i-pd.Timedelta(str(j*5)+\" min\"))]['high'])\n",
    "                dfm.loc[timefragment,\"low_\"+time_suffix+\"-\"+str(j)]= float_or_not(df_5m.loc[str(i-pd.Timedelta(str(j*5)+\" min\"))]['low'])\n",
    "                dfm.loc[timefragment,\"open_\"+time_suffix+\"-\"+str(j)]= float_or_not(df_5m.loc[str(i-pd.Timedelta(str(j*5)+\" min\"))]['open'])\n",
    "                dfm.loc[timefragment,\"close_\"+time_suffix+\"-\"+str(j)]= float_or_not(df_5m.loc[str(i-pd.Timedelta(str(j*5)+\" min\"))]['close'])\n",
    "            # except:\n",
    "            #     prerr(\"error fonction \"str(i))\n",
    "    return dfm\n",
    "\n",
    "\n",
    "def expand_to_15m(df_1m,df_15m, window=2,time_suffix=\"15m\"):\n",
    "    dfm = df_1m.copy()\n",
    "    index_start=df_15m.index.intersection(dfm.index.round(freq='5 min'))\n",
    "    for i in index_start:\n",
    "        for j in range(1, window+1):    \n",
    "            # try:    \n",
    "                timefragment=dfm.index.intersection(pd.date_range(str(i), periods=15, freq=\"min\"))\n",
    "                dfm.loc[timefragment,\"high_\"+time_suffix+\"-\"+str(j)]=float_or_not(df_15m.loc[str(i-pd.Timedelta(str(j*15)+\" min\"))]['high'])\n",
    "                dfm.loc[timefragment,\"low_\"+time_suffix+\"-\"+str(j)]= float_or_not(df_15m.loc[str(i-pd.Timedelta(str(j*15)+\" min\"))]['low'])\n",
    "                dfm.loc[timefragment,\"open_\"+time_suffix+\"-\"+str(j)]= float_or_not(df_15m.loc[str(i-pd.Timedelta(str(j*15)+\" min\"))]['open'])\n",
    "                dfm.loc[timefragment,\"close_\"+time_suffix+\"-\"+str(j)]= float_or_not(df_15m.loc[str(i-pd.Timedelta(str(j*15)+\" min\"))]['close'])\n",
    "            # except:\n",
    "            #     prerr(\"error fonction \"str(i))\n",
    "    return dfm\n",
    "\n",
    "def rapid1d_expand(df1m,df1d,window=2):\n",
    "    d1min=df1m.copy()\n",
    "    d1day=df1d.loc[\n",
    "    d1min.index[0].round(freq='1d')-pd.Timedelta(str(window)+' day'):\n",
    "    d1min.index[len(d1min)-1].round(freq='1d')+pd.Timedelta('1 day')\n",
    "    ].copy()\n",
    "    d1day_pre=expand_previous(d1day,window)\n",
    "    d1day_pre=d1day_pre.drop(columns=['open', 'low','close','high','volume'])\n",
    "    d1day_pre=d1day_pre.add_suffix(\"_day\")\n",
    "    d1min=pd.merge_asof(\n",
    "        d1min, d1day_pre, on=None, left_on=None, right_on=None, left_index=True, \n",
    "        right_index=True, by=None, left_by=None, right_by=None, \n",
    "        suffixes=('', '_day'),\n",
    "        tolerance=pd.Timedelta('1 day'), allow_exact_matches=True, direction='backward')\n",
    "    return d1min\n",
    "\n",
    "def rapid1h_expand(df1m,df1h,window=2):\n",
    "    d1min=df1m.copy()\n",
    "    d1hour=df1h.loc[\n",
    "    d1min.index[0].round(freq='H')-pd.Timedelta(str(window)+' hour'):\n",
    "    d1min.index[len(d1min)-1].round(freq='H')+pd.Timedelta('1 hour')\n",
    "    ].copy()\n",
    "    d1hour_pre=expand_previous(d1hour,window)\n",
    "    d1hour_pre=d1hour_pre.drop(columns=['open', 'low','close','high','volume'])\n",
    "    d1hour_pre=d1hour_pre.add_suffix(\"_hour\")\n",
    "    d1min=pd.merge_asof(\n",
    "    d1min, d1hour_pre, on=None, left_on=None, right_on=None, left_index=True, \n",
    "    right_index=True, by=None, left_by=None, right_by=None, \n",
    "    suffixes=('', '_hour'),\n",
    "    tolerance=pd.Timedelta('1 hour'), allow_exact_matches=True, direction='backward')\n",
    "    return d1min\n",
    "\n",
    "\n",
    "def rapid5m_expand(df1m,df5m,window=2):\n",
    "    d1min=df1m.copy()\n",
    "    d5min=df5m.loc[\n",
    "    d1min.index[0].round(freq='5 min')-pd.Timedelta(str(window*5+10)+' min'):\n",
    "    d1min.index[len(d1min)-1].round(freq='5 min')+pd.Timedelta('5 min')\n",
    "    ].copy()\n",
    "    d5min_pre=expand_previous(d5min,window)\n",
    "    d5min_pre=d5min_pre.drop(columns=['open', 'low','close','high','volume'])\n",
    "    d5min_pre=d5min_pre.add_suffix(\"_5min\")\n",
    "    d1min=pd.merge_asof(\n",
    "    d1min, d5min_pre, on=None, left_on=None, right_on=None, left_index=True, \n",
    "    right_index=True, by=None, left_by=None, right_by=None, \n",
    "    suffixes=('', '_5min'),\n",
    "    tolerance=pd.Timedelta('5 min'), allow_exact_matches=True, direction='backward')\n",
    "    return d1min\n",
    "\n",
    "def rapid15m_expand(df1m,df15m,window=2):\n",
    "    d1min=df1m.copy()\n",
    "    d15min=df15m.loc[\n",
    "    d1min.index[0].round(freq='15 min')-pd.Timedelta(str(window*15+30)+' min'):\n",
    "    d1min.index[len(d1min)-1].round(freq='15 min')+pd.Timedelta('15 min')\n",
    "    ].copy()\n",
    "    d15min_pre=expand_previous(d15min,window)\n",
    "    d15min_pre=d15min_pre.drop(columns=['open', 'low','close','high','volume'])\n",
    "    d15min_pre=d15min_pre.add_suffix(\"_15min\")\n",
    "    d1min=pd.merge_asof(\n",
    "    d1min, d15min_pre, on=None, left_on=None, right_on=None, left_index=True, \n",
    "    right_index=True, by=None, left_by=None, right_by=None, \n",
    "    suffixes=('', '_15min'),\n",
    "    tolerance=pd.Timedelta('15 min'), allow_exact_matches=True, direction='backward')\n",
    "    return d1min\n",
    "\n",
    "\n",
    "def full_expand(df1m,df5m,df15m,df1h,df1d,window=10):\n",
    "    d1min=df1m.copy()\n",
    "    d1min=expand_previous(d1min,window=window).drop(columns=[\"volume\"])\n",
    "    d1min=rapid1d_expand(d1min,df1d,window)\n",
    "    d1min=rapid1h_expand(d1min,df1h,window)\n",
    "    d1min=rapid15m_expand(d1min,df15m,window)\n",
    "    d1min=rapid5m_expand(d1min,df5m,window)\n",
    "    return d1min\n",
    "\n",
    "def full_expand_org(df1m,df5m,df15m,df1h,df1d,window=10):\n",
    "    d1min=df1m.copy()\n",
    "    d1min=expand_previous(d1min,window=window)\n",
    "    d1min=rapid1d_expand(d1min,df1d,window)\n",
    "    d1min=rapid1h_expand(d1min,df1h,window)\n",
    "    d1min=rapid15m_expand(d1min,df15m,window)\n",
    "    d1min=rapid5m_expand(d1min,df5m,window)\n",
    "    return d1min\n",
    "\n",
    "\n",
    "def day_expand(data_full):\n",
    "    ser = pd.to_datetime(pd.Series(data_full.index))\n",
    "    data_full[\"day\"]=ser.dt.isocalendar().day.values\n",
    "    data_full[\"hour\"]=ser.dt.hour.values\n",
    "    data_full[\"minute\"]=ser.dt.minute.values\n",
    "\n",
    "# merging\n",
    "def pair_btc(pair=\"LTC/USDT\",window=2):\n",
    "    Pair_Full=full_expand(df_list1m[pair],df_list5m[pair],df_list15m[pair],df_list1h[pair],df_list1d[pair],window)\n",
    "    BTC_Full=full_expand(\n",
    "        df_list1m[\"BTC/USDT\"].loc[df_list1m[pair].iloc[0].name:\n",
    "        df_list1m[pair].iloc[len(df_list1m[pair])-1].name],\n",
    "        df_list5m[\"BTC/USDT\"],df_list15m[\"BTC/USDT\"],df_list1h[\"BTC/USDT\"],df_list1d[\"BTC/USDT\"],window)   \n",
    "    BTC_Full=BTC_Full.add_prefix(\"BTC_\")\n",
    "    Merged=pd.merge(Pair_Full, BTC_Full, left_index=True, how='outer',\n",
    "            right_index=True, suffixes=('', ''))\n",
    "    day_expand(Merged)\n",
    "    return Merged\n",
    "\n",
    "\n",
    "\n",
    "\n"
   ]
  },
  {
   "cell_type": "code",
   "execution_count": null,
   "metadata": {
    "notebookRunGroups": {
     "groupValue": "1"
    },
    "vscode": {
     "languageId": "python"
    }
   },
   "outputs": [],
   "source": [
    "def buy_results(df,min_pct=BUY_PCT):\n",
    "    mino=min_pct*0.01\n",
    "    df[\"buy\"]=(\n",
    "        ((df[\"high\"].shift(periods=1, freq=None, axis=0, fill_value=None)-df[\"high\"])/df[\"high\"] >=mino )| ((\n",
    "          df[\"high\"].shift(periods=2, freq=None, axis=0, fill_value=None)-df[\"high\"])/df[\"high\"] >=mino )| ((\n",
    "          df[\"high\"].shift(periods=3, freq=None, axis=0, fill_value=None)-df[\"high\"])/df[\"high\"] >=mino)\n",
    "    ).replace({False: 0, True: 1}) \n",
    " \n",
    "def buy_results_gen(df,min_pct=BUY_PCT,window=3):\n",
    "    mino=min_pct*0.01\n",
    "    codep1='df[\"buy\"]=((('\n",
    "    for i in range(1,window):\n",
    "        codep1=codep1+'df[\"high\"].shift(periods='+str(i)+', freq=None, axis=0, fill_value=None)-df[\"high\"])/df[\"high\"] >=mino )| (('\n",
    "    codep2='df[\"high\"].shift(periods='+str(window)+', freq=None, axis=0, fill_value=None)-df[\"high\"])/df[\"high\"] >=mino)).replace({False: 0, True: 1})'\n",
    "    code=codep1+codep2\n",
    "    print(code)\n",
    "    exec(code)\n",
    "\n",
    "def buy_sell(df,BUY_PCT=BUY_PCT,SELL_PCT=SELL_PCT,window=3):\n",
    "    mino=BUY_PCT*0.01\n",
    "    maxo=-SELL_PCT*0.01\n",
    "    codep1='df[\"buy\"]=((('\n",
    "    for i in range(1,window):\n",
    "        codep1=codep1+'df[\"high\"].shift(periods='+str(i)+', freq=None, axis=0, fill_value=None)-df[\"high\"])/df[\"high\"] >=mino )| (('\n",
    "    codep2='df[\"high\"].shift(periods='+str(window)+', freq=None, axis=0, fill_value=None)-df[\"high\"])/df[\"high\"] >=mino)).replace({False: 0, True: 1})'\n",
    "    code=codep1+codep2\n",
    "    prerr(code)\n",
    "    exec(code)\n",
    "    codep1='df[\"sell\"]=((df[\"buy\"]==0)&(( '\n",
    "    for i in range(1,window):\n",
    "        codep1=codep1+'df[\"high\"].shift(periods='+str(i)+', freq=None, axis=0, fill_value=None)-df[\"high\"])/df[\"high\"] <=maxo )& (('\n",
    "    codep2='df[\"high\"].shift(periods='+str(window)+', freq=None, axis=0, fill_value=None)-df[\"high\"])/df[\"high\"] <=maxo )).replace({False: 0, True: 1})'\n",
    "    code=codep1+codep2\n",
    "    prerr(code)\n",
    "    exec(code)\n",
    "    df[\"bs\"]=((df['buy']==1 ) & (df['sell']==0)).replace({False: 0, True: 1})\n",
    "\n",
    "def buy_only(df,BUY_PCT=BUY_PCT,SELL_PCT=SELL_PCT,window=3):\n",
    "    mino=BUY_PCT*0.01\n",
    "    maxo=-SELL_PCT*0.01\n",
    "    codep1='df[\"buy\"]=((('\n",
    "    for i in range(1,window):\n",
    "        codep1=codep1+'df[\"high\"].shift(periods='+str(i)+', freq=None, axis=0, fill_value=None)-df[\"high\"])/df[\"high\"] >=mino )| (('\n",
    "    codep2='df[\"high\"].shift(periods='+str(window)+', freq=None, axis=0, fill_value=None)-df[\"high\"])/df[\"high\"] >=mino)).replace({False: 0, True: 1})'\n",
    "    code=codep1+codep2\n",
    "    prerr(code)\n",
    "    exec(code)\n",
    "    # codep1='df[\"sell\"]=((df[\"buy\"]==0)&(( '\n",
    "    # for i in range(1,window):\n",
    "    #     codep1=codep1+'df[\"high\"].shift(periods='+str(i)+', freq=None, axis=0, fill_value=None)-df[\"high\"])/df[\"high\"] <=maxo )& (('\n",
    "    # codep2='df[\"high\"].shift(periods='+str(window)+', freq=None, axis=0, fill_value=None)-df[\"high\"])/df[\"high\"] <=maxo )).replace({False: 0, True: 1})'\n",
    "    # code=codep1+codep2\n",
    "    # prerr(code)\n",
    "    # exec(code)\n",
    "    # df[\"bs\"]=((df['buy']==1 ) & (df['sell']==0)).replace({False: 0, True: 1})\n",
    "    return df"
   ]
  },
  {
   "cell_type": "code",
   "execution_count": null,
   "metadata": {
    "notebookRunGroups": {
     "groupValue": "1"
    },
    "vscode": {
     "languageId": "python"
    }
   },
   "outputs": [],
   "source": [
    "def Meta_expand(data_full,metadt,pair):\n",
    "    data_full[\"lunch_day\"]=int(-(pd.to_datetime(metadt[metadt[\"Pair\"] == pair][\"launch_minute\"])-pd.Timestamp('2020-01-01 00:00:00.000000')).dt.days)\n",
    "\n",
    "def mini_expand(pair=\"LTC/USDT\",i=0,j=10000,window=2):\n",
    "    Pair_Full=full_expand(df_list1m[pair].iloc[i:j],df_list5m[pair],df_list15m[pair],df_list1h[pair],df_list1d[pair],window)\n",
    "    BTC_Full=full_expand(\n",
    "        df_list1m[\"BTC/USDT\"].loc[Pair_Full.iloc[0].name-pd.Timedelta(str(window-1) +\" min\"):Pair_Full.iloc[len(Pair_Full)-1].name],\n",
    "        df_list5m[\"BTC/USDT\"],\n",
    "        df_list15m[\"BTC/USDT\"],\n",
    "        df_list1h[\"BTC/USDT\"],\n",
    "        df_list1d[\"BTC/USDT\"],\n",
    "        window)   \n",
    "    BTC_Full=BTC_Full.add_prefix(\"BTC_\")\n",
    "    Merged=pd.merge(Pair_Full, BTC_Full, left_index=True, how='left',\n",
    "            right_index=True, suffixes=('', ''))\n",
    "    day_expand(Merged)\n",
    "    return Merged\n",
    "\n",
    "def mini_expand2(pair=\"LTC/USDT\",i=0,j=10000,window=2,metadata=MetaData):\n",
    "    Pair_Full=full_expand(df_list1m[pair].iloc[i:j],df_list5m[pair],df_list15m[pair],df_list1h[pair],df_list1d[pair],window)\n",
    "    BTC_Full=full_expand(\n",
    "        df_list1m[\"BTC/USDT\"].loc[Pair_Full.iloc[0].name-pd.Timedelta(str(window-1) +\" min\"):Pair_Full.iloc[len(Pair_Full)-1].name],\n",
    "        df_list5m[\"BTC/USDT\"],\n",
    "        df_list15m[\"BTC/USDT\"],\n",
    "        df_list1h[\"BTC/USDT\"],\n",
    "        df_list1d[\"BTC/USDT\"],\n",
    "        window)   \n",
    "    BTC_Full=BTC_Full.add_prefix(\"BTC_\")\n",
    "    Merged=pd.merge(Pair_Full, BTC_Full, left_index=True, how='left',\n",
    "            right_index=True, suffixes=('', ''))\n",
    "    day_expand(Merged)\n",
    "    Meta_expand(Merged,metadata,pair)\n",
    "    buy_sell(Merged,BUY_PCT=BUY_PCT,SELL_PCT=SELL_PCT,window=7)\n",
    "    return Merged\n",
    "\n",
    "def mini_expand3(pair=\"LTC/USDT\",i=0,j=10000,window=2,metadata=MetaData,high_weight=3):\n",
    "    Pair_Full=full_expand(df_list1m[pair].iloc[i:j],df_list5m[pair],df_list15m[pair],df_list1h[pair],df_list1d[pair],window)\n",
    "    BTC_Full=full_expand(\n",
    "        df_list1m[\"BTC/USDT\"].loc[(Pair_Full.iloc[0].name-pd.Timedelta(str(window) +\" d\")).round(freq='1 min'):Pair_Full.iloc[len(Pair_Full)-1].name],\n",
    "        df_list5m[\"BTC/USDT\"],#.loc[(Pair_Full.iloc[0].name-pd.Timedelta(str(window) +\" d\")).round(freq='5 min'):Pair_Full.iloc[len(Pair_Full)-1].name],\n",
    "        df_list15m[\"BTC/USDT\"],#.loc[(Pair_Full.iloc[0].name-pd.Timedelta(str(window) +\" day\")).round(freq='15 min'):Pair_Full.iloc[len(Pair_Full)-1].name],\n",
    "        df_list1h[\"BTC/USDT\"],#.loc[(Pair_Full.iloc[0].name-pd.Timedelta(str(window) +\" day\")).round(freq='1 H'):Pair_Full.iloc[len(Pair_Full)-1].name],\n",
    "        df_list1d[\"BTC/USDT\"],#.loc[(Pair_Full.iloc[0].name-pd.Timedelta(str(window) +\" day\")).round(freq='1 d'):Pair_Full.iloc[len(Pair_Full)-1].name],\n",
    "        window)   \n",
    "    BTC_Full=BTC_Full.add_prefix(\"BTC_\")\n",
    "    # Merged=pd.merge(Pair_Full, BTC_Full, left_index=True, how='left',\n",
    "    #         right_index=True, suffixes=('', ''))\n",
    "    Merged=pd.merge(Pair_Full, BTC_Full, left_index=True, how='inner',\n",
    "            right_index=True, suffixes=('', ''))\n",
    "    day_expand(Merged)\n",
    "    Meta_expand(Merged,metadata,pair)\n",
    "    #buy_sell(Merged,BUY_PCT=BUY_PCT,SELL_PCT=SELL_PCT,window=MAX_FORCAST_SIZE)\n",
    "    buy_only(Merged,BUY_PCT=BUY_PCT,SELL_PCT=SELL_PCT,window=MAX_FORCAST_SIZE)\n",
    "    Merged[\"high\"]=(Merged[\"open\"]+high_weight*Merged[\"high\"]+Merged[\"low\"]+Merged[\"close\"])/(3+high_weight)\n",
    "    Merged.rename(columns={\"high\":\"price\"},inplace = True)\n",
    "    Merged[\"BTC_high\"]=(Merged[\"BTC_open\"]+high_weight*Merged[\"BTC_high\"]+Merged[\"BTC_low\"]+Merged[\"BTC_close\"])/(3+high_weight)\n",
    "    Merged.rename(columns={\"BTC_high\":\"BTC_price\"},inplace = True)\n",
    "    Merged=Merged.drop(columns=[\"BTC_open\",\"BTC_low\",\"BTC_close\",\"open\",\"low\",\"close\"])\n",
    "    # Merged=justlast_remover(Merged)\n",
    "    for key in Merged.keys():\n",
    "        if key.find(\"BTC\")!=-1 and (key.find(\"open\")!=-1 or\n",
    "        key.find(\"high\")!=-1 or key.find(\"low\")!=-1 or key.find(\"close\")!=-1):\n",
    "            Merged[key]=(Merged[\"BTC_price\"]-Merged[key])/Merged[\"BTC_price\"]\n",
    "        if key.find(\"BTC\")==-1 and (key.find(\"open\")!=-1 or\n",
    "        key.find(\"high\")!=-1 or key.find(\"low\")!=-1 or key.find(\"close\")!=-1):\n",
    "            Merged[key]=(Merged[\"price\"]-Merged[key])/Merged[\"price\"]\n",
    "    return Merged\n",
    "\n",
    "def mini_expand3old(pair=\"LTC/USDT\",i=0,j=10000,window=2,metadata=MetaData,high_weight=3):\n",
    "    Pair_Full=full_expand(df_list1m[pair].iloc[i:j],df_list5m[pair],df_list15m[pair],df_list1h[pair],df_list1d[pair],window)\n",
    "    BTC_Full=full_expand(\n",
    "        df_list1m[\"BTC/USDT\"].loc[Pair_Full.iloc[0].name-pd.Timedelta(str(window) +\" min\"):Pair_Full.iloc[len(Pair_Full)-1].name],\n",
    "        df_list5m[\"BTC/USDT\"],\n",
    "        df_list15m[\"BTC/USDT\"],\n",
    "        df_list1h[\"BTC/USDT\"],\n",
    "        df_list1d[\"BTC/USDT\"],\n",
    "        window)   \n",
    "    BTC_Full=BTC_Full.add_prefix(\"BTC_\")\n",
    "    Merged=pd.merge(Pair_Full, BTC_Full, left_index=True, how='left',\n",
    "            right_index=True, suffixes=('', ''))\n",
    "    day_expand(Merged)\n",
    "    Meta_expand(Merged,metadata,pair)\n",
    "    buy_sell(Merged,BUY_PCT=BUY_PCT,SELL_PCT=SELL_PCT,window=MAX_FORCAST_SIZE)\n",
    "    Merged[\"high\"]=(Merged[\"open\"]+high_weight*Merged[\"high\"]+Merged[\"low\"]+Merged[\"close\"])/(3+high_weight)\n",
    "    Merged.rename(columns={\"high\":\"price\"},inplace = True)\n",
    "    Merged[\"BTC_high\"]=(Merged[\"BTC_open\"]+high_weight*Merged[\"BTC_high\"]+Merged[\"BTC_low\"]+Merged[\"BTC_close\"])/(3+high_weight)\n",
    "    Merged.rename(columns={\"BTC_high\":\"BTC_price\"},inplace = True)\n",
    "    # Merged=Merged.drop(columns=[\"BTC_open\",\"BTC_low\",\"BTC_close\",\"open\",\"low\",\"close\"])\n",
    "    Merged=justlast_remover(Merged)\n",
    "\n",
    "    for key in Merged.keys():\n",
    "        if key.find(\"BTC\")!=-1 and (key.find(\"open\")!=-1 or\n",
    "        key.find(\"high\")!=-1 or key.find(\"low\")!=-1 or key.find(\"close\")!=-1):\n",
    "            Merged[key]=(Merged[\"BTC_price\"]-Merged[key])/Merged[\"BTC_price\"]\n",
    "        if key.find(\"BTC\")==-1 and (key.find(\"open\")!=-1 or\n",
    "        key.find(\"high\")!=-1 or key.find(\"low\")!=-1 or key.find(\"close\")!=-1):\n",
    "            Merged[key]=(Merged[\"price\"]-Merged[key])/Merged[\"price\"]\n",
    "    return Merged\n",
    "\n",
    "\n",
    "\n",
    "def slow_expand(pair=\"LTC/USDT\",i=0,j=100000,window=3):\n",
    "    df=mini_expand(pair=pair,i=i,j=j,window=window)\n",
    "    for mx in range(1,int(len(df_list1m[pair])/j)+1) :\n",
    "        df=pd.concat([df,\n",
    "        mini_expand(pair=pair,\n",
    "        i=(mx*j)-window,\n",
    "        j=(mx+1)*j,\n",
    "        window=window)],axis=0)\n",
    "    return df\n",
    "\n",
    "def pair_data_gen(pair=\"LTC/USDT\",i=0,j=100000,window=3,metadata=MetaData):\n",
    "    df=mini_expand3(pair=pair,i=i,j=j,window=window,metadata=metadata)\n",
    "    for mx in range(1,int(len(df_list1m[pair])/j)+1) :\n",
    "        df=pd.concat([df,\n",
    "        mini_expand3(pair=pair,\n",
    "        i=(mx*j)-window,\n",
    "        j=(mx+1)*j,\n",
    "        window=window,metadata=metadata)],axis=0)\n",
    "        # Meta_expand(df,metadata,pair)\n",
    "        # buy_sell(df,BUY_PCT=BUY_PCT,SELL_PCT=SELL_PCT,window=7)\n",
    "        #print(\"loop \"+str(mx)+\"--> size of df: \"+str(len(df)))\n",
    "    return df\n",
    "\n",
    "###\n",
    "\n",
    "def data_is_enough(df,days=10,window=10):\n",
    "    if days <= window:\n",
    "        return df[~df.isnull().any(axis=1) |(df[\"open-\"+str(days)+\"_day\"].isnull() & ~df[\"open-\"+str(window-1)+\"_hour\"].isnull()  & ~df[\"open-\"+str(window-1)+\"_5min\"].isnull() & ~df[\"open-\"+str(days-1)+\"_day\"].isnull())]\n",
    "    else:\n",
    "        prerr(\"number of days must be equal or lower than window\")\n",
    "        return df\n",
    "\n",
    "def data_cleanup(df):\n",
    "    return df.dropna()\n",
    "    #return df[~df.isnull().any(axis=1)]\n",
    "    \n",
    "def data_shufler2(df):\n",
    "    return df.sample(frac=1).reset_index()\n",
    "    \n",
    "def data_shufler(df):\n",
    "    x = len(df)\n",
    "    df[\"num_index\"] = range(0, x, 1)\n",
    "    df.set_index(df['num_index'], inplace=True)\n",
    "    df = df.reindex(np.random.permutation(df.index))\n",
    "    try:df= df.drop(\"num_index\",axis=1)\n",
    "    except:pass\n",
    "    #df = df.reindex(np.random.permutation(df.index))\n",
    "    return df\n",
    "    \n",
    "def data_np_shufler(df):\n",
    "    df = shuffle(df)\n",
    "    #df = df.reindex(np.random.permutation(df.index))\n",
    "        \n",
    "\n",
    "\n",
    "\n",
    "def data_chooser(df,weight=50,row_numbers=100000):\n",
    "    df=data_shufler(df)\n",
    "    if row_numbers>=len(df):\n",
    "        row_numbers=len(df)\n",
    "    df=pd.concat([df[df[\"buy\"]==1].iloc[:int(row_numbers*weight*0.01)],\n",
    "                 df[df[\"buy\"]==0].iloc[:int(row_numbers*(100-weight)*0.01)]])\n",
    "    df=data_shufler(df)\n",
    "    return df\n",
    "    \n",
    "\n",
    "def data_looper(pair_list=Binance_USDT_HALAL,window=15,buy_weight=50,sample_size=100000,min_days=10,buffer_size=100000):\n",
    "    xdf=pd.DataFrame()\n",
    "    for pair in pair_list:\n",
    "        if pair != \"BTC/USDT\":\n",
    "            print(\"working on: \"+pair)\n",
    "            df=pair_data_gen(pair=pair,i=0,j=buffer_size,window=window)\n",
    "            gc.collect()\n",
    "\n",
    "            df=data_is_enough(df,days=min_days,window=window)\n",
    "            gc.collect()\n",
    "\n",
    "            df=data_chooser(df,weight=buy_weight,row_numbers=sample_size)\n",
    "            gc.collect()\n",
    "\n",
    "            print(pair+\" is processed\")\n",
    "            xdf=pd.concat([xdf,df],axis=0)\n",
    "            del(df)\n",
    "            gc.collect()\n",
    "        else:\n",
    "            print(\"ignore BTC\")\n",
    "    return xdf\n",
    "\n",
    "def data_looper_fast(pair_list=Binance_USDT_HALAL,window=15,buy_weight=50,sample_size=100000,min_days=10,buffer_size=100000):\n",
    "    xdf=pd.DataFrame()\n",
    "    count=0\n",
    "    for pair in pair_list:\n",
    "        if pair != \"BTC/USDT\":\n",
    "            print(\"working on: \"+pair ,end=\" -->\")\n",
    "            try:\n",
    "                df=pair_data_gen(pair=pair,i=0,j=buffer_size,window=window)\n",
    "                gc.collect()\n",
    "                count+=1\n",
    "                # df=data_is_enough(df,days=min_days,window=window)\n",
    "                # gc.collect()\n",
    "                df.reindex(np.random.permutation(df.index))\n",
    "                df=data_chooser(df,weight=buy_weight,row_numbers=sample_size)\n",
    "                gc.collect()\n",
    "\n",
    "                df=data_cleanup(df)\n",
    "                print(pair+\" is processed\")\n",
    "            except:\n",
    "                print(f\"error while processing {pair} {count}/{len(pair_list)}\")\n",
    "            xdf=pd.concat([xdf,df],axis=0)\n",
    "            del(df)\n",
    "            gc.collect()\n",
    "        else:\n",
    "            print(\"ignore BTC\")\n",
    "            \n",
    "    return xdf\n",
    "\n",
    "def volume_cleaner(df):\n",
    "    VolRemover=[\"volume\",\"volume-1\",\"BTC_volume\",\"BTC_volume-1\"]\n",
    "    for key in df.keys():\n",
    "        if key.find(\"volume-1_\") != -1 :\n",
    "            VolRemover.append(key)\n",
    "    df=df.drop(columns=VolRemover)\n",
    "    return df\n",
    "    \n",
    "Normalization=None\n",
    "def normalize(dataset,file=Normalization_File):\n",
    "    global Normalization\n",
    "    try:\n",
    "        N=Normalization\n",
    "    except:\n",
    "        Normalization=None\n",
    "    if(Normalization==None):\n",
    "        #print('Loading normalization from file')\n",
    "        with open(file) as json_file:\n",
    "            Normalization = json.load(json_file)\n",
    "    else:\n",
    "        #print('normalization is loaded')\n",
    "        pass\n",
    "\n",
    "    mean=np.array(Normalization[\"mean\"])\n",
    "    std=np.array(Normalization[\"std\"])\n",
    "    dataset -= mean \n",
    "    dataset /= std\n",
    "    return(dataset)"
   ]
  },
  {
   "cell_type": "markdown",
   "metadata": {},
   "source": [
    "# Start Data genration Process"
   ]
  },
  {
   "cell_type": "code",
   "execution_count": 12,
   "metadata": {
    "vscode": {
     "languageId": "python"
    }
   },
   "outputs": [
    {
     "ename": "KeyboardInterrupt",
     "evalue": "",
     "output_type": "error",
     "traceback": [
      "\u001b[0;31m---------------------------------------------------------------------------\u001b[0m",
      "\u001b[0;31mKeyboardInterrupt\u001b[0m                         Traceback (most recent call last)",
      "Cell \u001b[0;32mIn [12], line 3\u001b[0m\n\u001b[1;32m      1\u001b[0m \u001b[39m#import dask.dataframe as dd\u001b[39;00m\n\u001b[1;32m      2\u001b[0m df\u001b[39m=\u001b[39mpd\u001b[39m.\u001b[39mconcat([\n\u001b[0;32m----> 3\u001b[0m pd\u001b[39m.\u001b[39;49mread_csv(\u001b[39m\"\u001b[39;49m\u001b[39m/gdrive/TMP/test.csv1\u001b[39;49m\u001b[39m\"\u001b[39;49m),\n\u001b[1;32m      4\u001b[0m pd\u001b[39m.\u001b[39mread_csv(\u001b[39m\"\u001b[39m\u001b[39m/gdrive/TMP/test.csv2\u001b[39m\u001b[39m\"\u001b[39m),\n\u001b[1;32m      5\u001b[0m pd\u001b[39m.\u001b[39mread_csv(\u001b[39m\"\u001b[39m\u001b[39m/gdrive/TMP/test.csv3\u001b[39m\u001b[39m\"\u001b[39m),\n\u001b[1;32m      6\u001b[0m pd\u001b[39m.\u001b[39mread_csv(\u001b[39m\"\u001b[39m\u001b[39m/gdrive/TMP/test.csv4\u001b[39m\u001b[39m\"\u001b[39m),\n\u001b[1;32m      7\u001b[0m pd\u001b[39m.\u001b[39mread_csv(\u001b[39m\"\u001b[39m\u001b[39m/gdrive/TMP/test.csv5\u001b[39m\u001b[39m\"\u001b[39m),\n\u001b[1;32m      8\u001b[0m pd\u001b[39m.\u001b[39mread_csv(\u001b[39m\"\u001b[39m\u001b[39m/gdrive/TMP/test.csv6\u001b[39m\u001b[39m\"\u001b[39m),\n\u001b[1;32m      9\u001b[0m pd\u001b[39m.\u001b[39mread_csv(\u001b[39m\"\u001b[39m\u001b[39m/gdrive/TMP/test.csv7\u001b[39m\u001b[39m\"\u001b[39m),\n\u001b[1;32m     10\u001b[0m pd\u001b[39m.\u001b[39mread_csv(\u001b[39m\"\u001b[39m\u001b[39m/gdrive/TMP/test.csv8\u001b[39m\u001b[39m\"\u001b[39m),\n\u001b[1;32m     11\u001b[0m pd\u001b[39m.\u001b[39mread_csv(\u001b[39m\"\u001b[39m\u001b[39m/gdrive/TMP/test.csv9\u001b[39m\u001b[39m\"\u001b[39m),\n\u001b[1;32m     12\u001b[0m pd\u001b[39m.\u001b[39mread_csv(\u001b[39m\"\u001b[39m\u001b[39m/gdrive/TMP/test.csv10\u001b[39m\u001b[39m\"\u001b[39m)\n\u001b[1;32m     13\u001b[0m ])\n",
      "File \u001b[0;32m/usr/local/lib/python3.9/dist-packages/pandas/util/_decorators.py:211\u001b[0m, in \u001b[0;36mdeprecate_kwarg.<locals>._deprecate_kwarg.<locals>.wrapper\u001b[0;34m(*args, **kwargs)\u001b[0m\n\u001b[1;32m    209\u001b[0m     \u001b[39melse\u001b[39;00m:\n\u001b[1;32m    210\u001b[0m         kwargs[new_arg_name] \u001b[39m=\u001b[39m new_arg_value\n\u001b[0;32m--> 211\u001b[0m \u001b[39mreturn\u001b[39;00m func(\u001b[39m*\u001b[39;49margs, \u001b[39m*\u001b[39;49m\u001b[39m*\u001b[39;49mkwargs)\n",
      "File \u001b[0;32m/usr/local/lib/python3.9/dist-packages/pandas/util/_decorators.py:317\u001b[0m, in \u001b[0;36mdeprecate_nonkeyword_arguments.<locals>.decorate.<locals>.wrapper\u001b[0;34m(*args, **kwargs)\u001b[0m\n\u001b[1;32m    311\u001b[0m \u001b[39mif\u001b[39;00m \u001b[39mlen\u001b[39m(args) \u001b[39m>\u001b[39m num_allow_args:\n\u001b[1;32m    312\u001b[0m     warnings\u001b[39m.\u001b[39mwarn(\n\u001b[1;32m    313\u001b[0m         msg\u001b[39m.\u001b[39mformat(arguments\u001b[39m=\u001b[39marguments),\n\u001b[1;32m    314\u001b[0m         \u001b[39mFutureWarning\u001b[39;00m,\n\u001b[1;32m    315\u001b[0m         stacklevel\u001b[39m=\u001b[39mfind_stack_level(inspect\u001b[39m.\u001b[39mcurrentframe()),\n\u001b[1;32m    316\u001b[0m     )\n\u001b[0;32m--> 317\u001b[0m \u001b[39mreturn\u001b[39;00m func(\u001b[39m*\u001b[39;49margs, \u001b[39m*\u001b[39;49m\u001b[39m*\u001b[39;49mkwargs)\n",
      "File \u001b[0;32m/usr/local/lib/python3.9/dist-packages/pandas/io/parsers/readers.py:950\u001b[0m, in \u001b[0;36mread_csv\u001b[0;34m(filepath_or_buffer, sep, delimiter, header, names, index_col, usecols, squeeze, prefix, mangle_dupe_cols, dtype, engine, converters, true_values, false_values, skipinitialspace, skiprows, skipfooter, nrows, na_values, keep_default_na, na_filter, verbose, skip_blank_lines, parse_dates, infer_datetime_format, keep_date_col, date_parser, dayfirst, cache_dates, iterator, chunksize, compression, thousands, decimal, lineterminator, quotechar, quoting, doublequote, escapechar, comment, encoding, encoding_errors, dialect, error_bad_lines, warn_bad_lines, on_bad_lines, delim_whitespace, low_memory, memory_map, float_precision, storage_options)\u001b[0m\n\u001b[1;32m    935\u001b[0m kwds_defaults \u001b[39m=\u001b[39m _refine_defaults_read(\n\u001b[1;32m    936\u001b[0m     dialect,\n\u001b[1;32m    937\u001b[0m     delimiter,\n\u001b[0;32m   (...)\u001b[0m\n\u001b[1;32m    946\u001b[0m     defaults\u001b[39m=\u001b[39m{\u001b[39m\"\u001b[39m\u001b[39mdelimiter\u001b[39m\u001b[39m\"\u001b[39m: \u001b[39m\"\u001b[39m\u001b[39m,\u001b[39m\u001b[39m\"\u001b[39m},\n\u001b[1;32m    947\u001b[0m )\n\u001b[1;32m    948\u001b[0m kwds\u001b[39m.\u001b[39mupdate(kwds_defaults)\n\u001b[0;32m--> 950\u001b[0m \u001b[39mreturn\u001b[39;00m _read(filepath_or_buffer, kwds)\n",
      "File \u001b[0;32m/usr/local/lib/python3.9/dist-packages/pandas/io/parsers/readers.py:611\u001b[0m, in \u001b[0;36m_read\u001b[0;34m(filepath_or_buffer, kwds)\u001b[0m\n\u001b[1;32m    608\u001b[0m     \u001b[39mreturn\u001b[39;00m parser\n\u001b[1;32m    610\u001b[0m \u001b[39mwith\u001b[39;00m parser:\n\u001b[0;32m--> 611\u001b[0m     \u001b[39mreturn\u001b[39;00m parser\u001b[39m.\u001b[39;49mread(nrows)\n",
      "File \u001b[0;32m/usr/local/lib/python3.9/dist-packages/pandas/io/parsers/readers.py:1772\u001b[0m, in \u001b[0;36mTextFileReader.read\u001b[0;34m(self, nrows)\u001b[0m\n\u001b[1;32m   1765\u001b[0m nrows \u001b[39m=\u001b[39m validate_integer(\u001b[39m\"\u001b[39m\u001b[39mnrows\u001b[39m\u001b[39m\"\u001b[39m, nrows)\n\u001b[1;32m   1766\u001b[0m \u001b[39mtry\u001b[39;00m:\n\u001b[1;32m   1767\u001b[0m     \u001b[39m# error: \"ParserBase\" has no attribute \"read\"\u001b[39;00m\n\u001b[1;32m   1768\u001b[0m     (\n\u001b[1;32m   1769\u001b[0m         index,\n\u001b[1;32m   1770\u001b[0m         columns,\n\u001b[1;32m   1771\u001b[0m         col_dict,\n\u001b[0;32m-> 1772\u001b[0m     ) \u001b[39m=\u001b[39m \u001b[39mself\u001b[39;49m\u001b[39m.\u001b[39;49m_engine\u001b[39m.\u001b[39;49mread(  \u001b[39m# type: ignore[attr-defined]\u001b[39;49;00m\n\u001b[1;32m   1773\u001b[0m         nrows\n\u001b[1;32m   1774\u001b[0m     )\n\u001b[1;32m   1775\u001b[0m \u001b[39mexcept\u001b[39;00m \u001b[39mException\u001b[39;00m:\n\u001b[1;32m   1776\u001b[0m     \u001b[39mself\u001b[39m\u001b[39m.\u001b[39mclose()\n",
      "File \u001b[0;32m/usr/local/lib/python3.9/dist-packages/pandas/io/parsers/c_parser_wrapper.py:243\u001b[0m, in \u001b[0;36mCParserWrapper.read\u001b[0;34m(self, nrows)\u001b[0m\n\u001b[1;32m    241\u001b[0m \u001b[39mtry\u001b[39;00m:\n\u001b[1;32m    242\u001b[0m     \u001b[39mif\u001b[39;00m \u001b[39mself\u001b[39m\u001b[39m.\u001b[39mlow_memory:\n\u001b[0;32m--> 243\u001b[0m         chunks \u001b[39m=\u001b[39m \u001b[39mself\u001b[39;49m\u001b[39m.\u001b[39;49m_reader\u001b[39m.\u001b[39;49mread_low_memory(nrows)\n\u001b[1;32m    244\u001b[0m         \u001b[39m# destructive to chunks\u001b[39;00m\n\u001b[1;32m    245\u001b[0m         data \u001b[39m=\u001b[39m _concatenate_chunks(chunks)\n",
      "File \u001b[0;32m/usr/local/lib/python3.9/dist-packages/pandas/_libs/parsers.pyx:808\u001b[0m, in \u001b[0;36mpandas._libs.parsers.TextReader.read_low_memory\u001b[0;34m()\u001b[0m\n",
      "File \u001b[0;32m/usr/local/lib/python3.9/dist-packages/pandas/_libs/parsers.pyx:890\u001b[0m, in \u001b[0;36mpandas._libs.parsers.TextReader._read_rows\u001b[0;34m()\u001b[0m\n",
      "File \u001b[0;32m/usr/local/lib/python3.9/dist-packages/pandas/_libs/parsers.pyx:1037\u001b[0m, in \u001b[0;36mpandas._libs.parsers.TextReader._convert_column_data\u001b[0;34m()\u001b[0m\n",
      "File \u001b[0;32m/usr/local/lib/python3.9/dist-packages/pandas/_libs/parsers.pyx:1083\u001b[0m, in \u001b[0;36mpandas._libs.parsers.TextReader._convert_tokens\u001b[0;34m()\u001b[0m\n",
      "File \u001b[0;32m/usr/local/lib/python3.9/dist-packages/pandas/_libs/parsers.pyx:1158\u001b[0m, in \u001b[0;36mpandas._libs.parsers.TextReader._convert_with_dtype\u001b[0;34m()\u001b[0m\n",
      "File \u001b[0;32m/usr/local/lib/python3.9/dist-packages/pandas/core/dtypes/common.py:1434\u001b[0m, in \u001b[0;36mis_extension_array_dtype\u001b[0;34m(arr_or_dtype)\u001b[0m\n\u001b[1;32m   1425\u001b[0m     \u001b[39m# Note: if other EA dtypes are ever held in HybridBlock, exclude those\u001b[39;00m\n\u001b[1;32m   1426\u001b[0m     \u001b[39m#  here too.\u001b[39;00m\n\u001b[1;32m   1427\u001b[0m     \u001b[39m# NB: need to check DatetimeTZDtype and not is_datetime64tz_dtype\u001b[39;00m\n\u001b[1;32m   1428\u001b[0m     \u001b[39m#  to exclude ArrowTimestampUSDtype\u001b[39;00m\n\u001b[1;32m   1429\u001b[0m     \u001b[39mreturn\u001b[39;00m \u001b[39misinstance\u001b[39m(dtype, ExtensionDtype) \u001b[39mand\u001b[39;00m \u001b[39mnot\u001b[39;00m \u001b[39misinstance\u001b[39m(\n\u001b[1;32m   1430\u001b[0m         dtype, (DatetimeTZDtype, PeriodDtype)\n\u001b[1;32m   1431\u001b[0m     )\n\u001b[0;32m-> 1434\u001b[0m \u001b[39mdef\u001b[39;00m \u001b[39mis_extension_array_dtype\u001b[39m(arr_or_dtype) \u001b[39m-\u001b[39m\u001b[39m>\u001b[39m \u001b[39mbool\u001b[39m:\n\u001b[1;32m   1435\u001b[0m     \u001b[39m\"\"\"\u001b[39;00m\n\u001b[1;32m   1436\u001b[0m \u001b[39m    Check if an object is a pandas extension array type.\u001b[39;00m\n\u001b[1;32m   1437\u001b[0m \n\u001b[0;32m   (...)\u001b[0m\n\u001b[1;32m   1477\u001b[0m \u001b[39m    False\u001b[39;00m\n\u001b[1;32m   1478\u001b[0m \u001b[39m    \"\"\"\u001b[39;00m\n\u001b[1;32m   1479\u001b[0m     dtype \u001b[39m=\u001b[39m \u001b[39mgetattr\u001b[39m(arr_or_dtype, \u001b[39m\"\u001b[39m\u001b[39mdtype\u001b[39m\u001b[39m\"\u001b[39m, arr_or_dtype)\n",
      "\u001b[0;31mKeyboardInterrupt\u001b[0m: "
     ]
    }
   ],
   "source": [
    "#import dask.dataframe as dd\n",
    "RRows=10000\n",
    "SROWS=11\n",
    "df=pd.concat([\n",
    "pd.read_csv(\"/gdrive/TMP/test.csv1\",nrows=RRows),\n",
    "pd.read_csv(\"/gdrive/TMP/test.csv2\",skiprows=SROWS),\n",
    "pd.read_csv(\"/gdrive/TMP/test.csv3\",skiprows=SROWS),\n",
    "pd.read_csv(\"/gdrive/TMP/test.csv4\",skiprows=SROWS),\n",
    "pd.read_csv(\"/gdrive/TMP/test.csv5\",skiprows=SROWS),\n",
    "pd.read_csv(\"/gdrive/TMP/test.csv6\",skiprows=SROWS),\n",
    "pd.read_csv(\"/gdrive/TMP/test.csv7\",skiprows=SROWS),\n",
    "pd.read_csv(\"/gdrive/TMP/test.csv8\",skiprows=SROWS),\n",
    "pd.read_csv(\"/gdrive/TMP/test.csv9\",skiprows=SROWS),\n",
    "pd.read_csv(\"/gdrive/TMP/test.csv10\",skiprows=SROWS)\n",
    "])"
   ]
  },
  {
   "cell_type": "code",
   "execution_count": 13,
   "metadata": {
    "vscode": {
     "languageId": "python"
    }
   },
   "outputs": [],
   "source": [
    "df=pd.read_csv('/UltimeTradingBot/Data/csv/W20F4minP35.csv')"
   ]
  },
  {
   "cell_type": "code",
   "execution_count": 16,
   "metadata": {
    "vscode": {
     "languageId": "python"
    }
   },
   "outputs": [],
   "source": [
    "df=df.sample(frac=1,random_state=1)"
   ]
  },
  {
   "cell_type": "code",
   "execution_count": null,
   "metadata": {
    "vscode": {
     "languageId": "python"
    }
   },
   "outputs": [],
   "source": [
    "if  not JUST_IMPORT_DATA:\n",
    "    print(\"saveing the file\")\n",
    "    df.to_csv(DATA_FILE)\n",
    "    # dffull=df\n",
    "    print(df)"
   ]
  },
  {
   "cell_type": "code",
   "execution_count": null,
   "metadata": {
    "vscode": {
     "languageId": "python"
    }
   },
   "outputs": [],
   "source": [
    "if JUST_IMPORT_DATA:\n",
    "    df=pd.read_csv(DATA_FILE,nrows=3000000)\n",
    "    # df=dffull"
   ]
  },
  {
   "cell_type": "code",
   "execution_count": null,
   "metadata": {
    "vscode": {
     "languageId": "python"
    }
   },
   "outputs": [],
   "source": [
    "df[0:2]"
   ]
  },
  {
   "cell_type": "code",
   "execution_count": null,
   "metadata": {
    "vscode": {
     "languageId": "python"
    }
   },
   "outputs": [],
   "source": [
    "try:df.pop(\"num_index\")\n",
    "except: pass\n",
    "try:b9p=df.pop(\"b9p\")\n",
    "except: pass\n",
    "# try:b5p=df.pop(\"b5p\")\n",
    "# except: pass\n",
    "try:b15p=df.pop(\"b15p\")\n",
    "except: pass\n",
    "try:f1=df.pop(\"f1\")\n",
    "except: pass\n",
    "try:f2=df.pop(\"f2\")\n",
    "except: pass\n",
    "try:f15=df.pop(\"f15_p\")\n",
    "except: pass\n",
    "try:\n",
    "    fh=df.pop(\"fh_p\")\n",
    "    buy=df.pop(\"buy\")\n",
    "except: pass\n",
    "\n",
    "#print(df[\"buy\"].mean()*100)"
   ]
  },
  {
   "cell_type": "code",
   "execution_count": null,
   "metadata": {
    "vscode": {
     "languageId": "python"
    }
   },
   "outputs": [],
   "source": [
    "df.buy.mean()"
   ]
  },
  {
   "cell_type": "code",
   "execution_count": null,
   "metadata": {
    "vscode": {
     "languageId": "python"
    }
   },
   "outputs": [],
   "source": [
    "#dffull=df\n",
    "size_data=sys.getsizeof(df)/(1024**2)\n",
    "\n",
    "print(size_data)"
   ]
  },
  {
   "cell_type": "code",
   "execution_count": null,
   "metadata": {
    "vscode": {
     "languageId": "python"
    }
   },
   "outputs": [],
   "source": []
  },
  {
   "cell_type": "code",
   "execution_count": null,
   "metadata": {
    "vscode": {
     "languageId": "python"
    }
   },
   "outputs": [],
   "source": [
    "df_list1m[\"ETH/USDT\"][df_list1m[\"ETH/USDT\"].high>=4858.371667]"
   ]
  },
  {
   "cell_type": "code",
   "execution_count": null,
   "metadata": {
    "vscode": {
     "languageId": "python"
    }
   },
   "outputs": [],
   "source": [
    "df_list15m[\"ETH/USDT\"][df_list15m[\"ETH/USDT\"].high==4851.58]"
   ]
  },
  {
   "cell_type": "code",
   "execution_count": null,
   "metadata": {
    "vscode": {
     "languageId": "python"
    }
   },
   "outputs": [],
   "source": [
    "if size_data >= 18000:\n",
    "    df=df[~df.isna().any(axis=1)].iloc[0:int(len(dffull/2))]\n",
    "#df=dffull.drop(columns=[\"sell\",'buy'])"
   ]
  },
  {
   "cell_type": "code",
   "execution_count": 1,
   "metadata": {
    "vscode": {
     "languageId": "python"
    }
   },
   "outputs": [
    {
     "ename": "NameError",
     "evalue": "name 'df' is not defined",
     "output_type": "error",
     "traceback": [
      "\u001b[0;31m---------------------------------------------------------------------------\u001b[0m",
      "\u001b[0;31mNameError\u001b[0m                                 Traceback (most recent call last)",
      "Cell \u001b[0;32mIn [1], line 1\u001b[0m\n\u001b[0;32m----> 1\u001b[0m df\u001b[39m.\u001b[39mshape\n",
      "\u001b[0;31mNameError\u001b[0m: name 'df' is not defined"
     ]
    }
   ],
   "source": [
    "df.shape"
   ]
  },
  {
   "cell_type": "code",
   "execution_count": null,
   "metadata": {
    "vscode": {
     "languageId": "python"
    }
   },
   "outputs": [],
   "source": [
    "df[:2]"
   ]
  },
  {
   "cell_type": "code",
   "execution_count": null,
   "metadata": {
    "vscode": {
     "languageId": "python"
    }
   },
   "outputs": [],
   "source": [
    "df[[\"high-1\",\"high-2\",\"high-3\",\"high-3_hour\",\"high-3_day\",\"minute\"]]"
   ]
  },
  {
   "cell_type": "markdown",
   "metadata": {},
   "source": [
    "# Part 2: Training\n"
   ]
  },
  {
   "cell_type": "markdown",
   "metadata": {},
   "source": [
    "## Testing impoted DATA"
   ]
  },
  {
   "cell_type": "markdown",
   "metadata": {},
   "source": [
    "# starting numpy process"
   ]
  },
  {
   "cell_type": "markdown",
   "metadata": {},
   "source": [
    "## convert Pandas DataFrame to numpy object"
   ]
  },
  {
   "cell_type": "code",
   "execution_count": null,
   "metadata": {
    "vscode": {
     "languageId": "python"
    }
   },
   "outputs": [],
   "source": [
    "df=df.dropna()\n",
    "dt = df.to_numpy()\n",
    "#dt=tf.convert_to_tensor(dt, dtype=tf.float32)\n",
    "#dt = df.iloc[0:int(len(df/1.5))].to_numpy()\n",
    "#dt = np.concatenate((dt,df.iloc[int(len(df/2)):].to_numpy()),axis=0)\n"
   ]
  },
  {
   "cell_type": "code",
   "execution_count": null,
   "metadata": {
    "vscode": {
     "languageId": "python"
    }
   },
   "outputs": [],
   "source": [
    "# del dffull\n",
    "# df=df.iloc[int(len(df/1.5)):]\n",
    "# gc.collect()\n",
    "print(dt.shape)"
   ]
  },
  {
   "cell_type": "code",
   "execution_count": null,
   "metadata": {
    "vscode": {
     "languageId": "python"
    }
   },
   "outputs": [],
   "source": [
    "np.nan_to_num(dt)"
   ]
  },
  {
   "cell_type": "code",
   "execution_count": null,
   "metadata": {
    "vscode": {
     "languageId": "python"
    }
   },
   "outputs": [],
   "source": [
    "dt=dt.astype(np.float64)\n"
   ]
  },
  {
   "cell_type": "code",
   "execution_count": null,
   "metadata": {
    "vscode": {
     "languageId": "python"
    }
   },
   "outputs": [],
   "source": [
    "#dt=np.genfromtxt('np_shuffled_cryptodata_w15.csv', delimiter=',')"
   ]
  },
  {
   "cell_type": "code",
   "execution_count": null,
   "metadata": {
    "vscode": {
     "languageId": "python"
    }
   },
   "outputs": [],
   "source": [
    "index_20pct= int(0.25*len(dt[:,0]))\n",
    "print(index_20pct)"
   ]
  },
  {
   "cell_type": "code",
   "execution_count": null,
   "metadata": {
    "vscode": {
     "languageId": "python"
    }
   },
   "outputs": [],
   "source": [
    "XVALIDATION= dt[:index_20pct, :-1]\n",
    "YVALIDATION= dt[:index_20pct,-1]\n"
   ]
  },
  {
   "cell_type": "code",
   "execution_count": null,
   "metadata": {
    "vscode": {
     "languageId": "python"
    }
   },
   "outputs": [],
   "source": [
    "XTRAIN= dt[index_20pct:, 0:-1]\n",
    "YTRAIN= dt[index_20pct:,-1]"
   ]
  },
  {
   "cell_type": "markdown",
   "metadata": {},
   "source": [
    "## Normalization"
   ]
  },
  {
   "cell_type": "code",
   "execution_count": null,
   "metadata": {
    "vscode": {
     "languageId": "python"
    }
   },
   "outputs": [],
   "source": [
    "import gc\n",
    "gc.collect()"
   ]
  },
  {
   "cell_type": "markdown",
   "metadata": {},
   "source": [
    "Tenderalization (mean normalization)"
   ]
  },
  {
   "cell_type": "code",
   "execution_count": null,
   "metadata": {
    "vscode": {
     "languageId": "python"
    }
   },
   "outputs": [],
   "source": [
    "# Normalization\n",
    "if TESTING_MOD:\n",
    "    with open(Normalization_File) as json_file:\n",
    "                print(Normalization_File)\n",
    "                Normalization = json.load(json_file)\n",
    "                mean=np.array(Normalization[\"mean\"])\n",
    "                std=np.array(Normalization[\"std\"])\n",
    "# mean=np.array(Normalization[\"mean\"])\n"
   ]
  },
  {
   "cell_type": "code",
   "execution_count": null,
   "metadata": {
    "vscode": {
     "languageId": "python"
    }
   },
   "outputs": [],
   "source": [
    "gc.collect()\n",
    "\n",
    "if True:\n",
    "    #if FIRST_NORM_FLAG:\n",
    "    if True:\n",
    "        print(\"normalizing ...\")\n",
    "        mean = XTRAIN.mean(axis=0)\n",
    "        std = XTRAIN.std(axis=0)\n",
    "\n",
    "\n",
    "\n",
    "        XTRAIN -= mean \n",
    "        XTRAIN /= std\n",
    "\n",
    "        XVALIDATION -=mean\n",
    "        XVALIDATION /= std\n",
    "        FIRST_NORM_FLAG=False\n",
    "        ######################### SAVIN NORM ################\n",
    "        try:\n",
    "            Normalization={\"mean\":mean.tolist(),\"std\":std.tolist()}\n",
    "            with open(Normalization_File, 'w+') as fp:\n",
    "                        json.dump(Normalization, fp,  indent=4)\n",
    "                        print(Normalization_File)\n",
    "        except:\n",
    "            print(\"error Normalization in juppiter\")\n",
    "    else:print(\"already normalized\")\n",
    "\n"
   ]
  },
  {
   "cell_type": "code",
   "execution_count": null,
   "metadata": {
    "vscode": {
     "languageId": "python"
    }
   },
   "outputs": [],
   "source": [
    "################## V2 Testing ######################\n",
    "if  TESTING_MOD:\n",
    "    if FIRST_NORM_FLAG:\n",
    "        print(\"normalizing ...\")\n",
    "        dt[:,0:-1] -= Normalization[\"mean\"] \n",
    "        dt[:,0:-1] /= Normalization[\"std\"] \n",
    "\n",
    "    \n",
    "        FIRST_NORM_FLAG=False\n",
    "        FIRST_NORM_FLAG=False\n",
    "    else:print(\"already normalized\")\n"
   ]
  },
  {
   "cell_type": "code",
   "execution_count": 1,
   "metadata": {
    "vscode": {
     "languageId": "python"
    }
   },
   "outputs": [
    {
     "ename": "NameError",
     "evalue": "name 'Normalization_File' is not defined",
     "output_type": "error",
     "traceback": [
      "\u001b[0;31m---------------------------------------------------------------------------\u001b[0m",
      "\u001b[0;31mNameError\u001b[0m                                 Traceback (most recent call last)",
      "Cell \u001b[0;32mIn [1], line 1\u001b[0m\n\u001b[0;32m----> 1\u001b[0m \u001b[39mprint\u001b[39m(Normalization_File)\n",
      "\u001b[0;31mNameError\u001b[0m: name 'Normalization_File' is not defined"
     ]
    }
   ],
   "source": [
    "print(Normalization_File)"
   ]
  },
  {
   "cell_type": "code",
   "execution_count": null,
   "metadata": {
    "vscode": {
     "languageId": "python"
    }
   },
   "outputs": [],
   "source": [
    "print(XTRAIN.shape)\n",
    "print(YTRAIN.shape)\n",
    "print(XVALIDATION.shape)\n",
    "print(YVALIDATION.shape)"
   ]
  },
  {
   "cell_type": "code",
   "execution_count": null,
   "metadata": {
    "vscode": {
     "languageId": "python"
    }
   },
   "outputs": [],
   "source": [
    "df.iloc[0:1]"
   ]
  },
  {
   "cell_type": "markdown",
   "metadata": {},
   "source": [
    "# Neural network model"
   ]
  },
  {
   "cell_type": "markdown",
   "metadata": {},
   "source": [
    "## Model Test"
   ]
  },
  {
   "cell_type": "markdown",
   "metadata": {},
   "source": [
    "## Compile the model "
   ]
  },
  {
   "cell_type": "code",
   "execution_count": 39,
   "metadata": {
    "vscode": {
     "languageId": "python"
    }
   },
   "outputs": [
    {
     "name": "stdout",
     "output_type": "stream",
     "text": [
      "8990/9025 [============================>.] - ETA: 0s - loss: 0.3827 - accuracy: 0.8200"
     ]
    },
    {
     "ename": "KeyboardInterrupt",
     "evalue": "",
     "output_type": "error",
     "traceback": [
      "\u001b[0;31m---------------------------------------------------------------------------\u001b[0m",
      "\u001b[0;31mKeyboardInterrupt\u001b[0m                         Traceback (most recent call last)",
      "Cell \u001b[0;32mIn [39], line 29\u001b[0m\n\u001b[1;32m     27\u001b[0m callbacks_a \u001b[39m=\u001b[39m ModelCheckpoint(filepath\u001b[39m=\u001b[39mModel_FileName\u001b[39m+\u001b[39m\u001b[39m\"\u001b[39m\u001b[39mdataplus.h5\u001b[39m\u001b[39m\"\u001b[39m,monitor \u001b[39m=\u001b[39m\u001b[39m'\u001b[39m\u001b[39maccuracy\u001b[39m\u001b[39m'\u001b[39m,save_best_only \u001b[39m=\u001b[39m \u001b[39mTrue\u001b[39;00m, save_weights \u001b[39m=\u001b[39m \u001b[39mTrue\u001b[39;00m)\n\u001b[1;32m     28\u001b[0m callbacks_b \u001b[39m=\u001b[39m EarlyStopping(monitor \u001b[39m=\u001b[39m\u001b[39m'\u001b[39m\u001b[39maccuracy\u001b[39m\u001b[39m'\u001b[39m,mode\u001b[39m=\u001b[39m\u001b[39m'\u001b[39m\u001b[39mauto\u001b[39m\u001b[39m'\u001b[39m,patience\u001b[39m=\u001b[39m\u001b[39m10\u001b[39m,verbose\u001b[39m=\u001b[39m\u001b[39m1\u001b[39m)\n\u001b[0;32m---> 29\u001b[0m history \u001b[39m=\u001b[39m model\u001b[39m.\u001b[39;49mfit(XTRAIN,\n\u001b[1;32m     30\u001b[0m                 YTRAIN,\n\u001b[1;32m     31\u001b[0m                 validation_data\u001b[39m=\u001b[39;49m(XVALIDATION,YVALIDATION),\n\u001b[1;32m     32\u001b[0m                 epochs\u001b[39m=\u001b[39;49m\u001b[39m6000\u001b[39;49m,\n\u001b[1;32m     33\u001b[0m                 batch_size\u001b[39m=\u001b[39;49m\u001b[39m128\u001b[39;49m\u001b[39m*\u001b[39;49m\u001b[39m5\u001b[39;49m,\n\u001b[1;32m     34\u001b[0m                 callbacks\u001b[39m=\u001b[39;49m[callbacks_a,callbacks_b])\n\u001b[1;32m     36\u001b[0m \u001b[39mprint\u001b[39m(\u001b[39m'\u001b[39m\u001b[39m##########################################################################\u001b[39m\u001b[39m'\u001b[39m)\n\u001b[1;32m     37\u001b[0m \u001b[39mprint\u001b[39m(\u001b[39mf\u001b[39m\u001b[39m\"\u001b[39m\u001b[39m------val_accuracy-----> \u001b[39m\u001b[39m{\u001b[39;00m\u001b[39m'\u001b[39m\u001b[39m{0:.4g}\u001b[39;00m\u001b[39m'\u001b[39m\u001b[39m.\u001b[39mformat(\u001b[39mmax\u001b[39m(history\u001b[39m.\u001b[39mhistory[\u001b[39m'\u001b[39m\u001b[39mval_accuracy\u001b[39m\u001b[39m'\u001b[39m])\u001b[39m*\u001b[39m\u001b[39m100\u001b[39m)\u001b[39m}\u001b[39;00m\u001b[39m | \u001b[39m\u001b[39m{\u001b[39;00m\u001b[39m'\u001b[39m\u001b[39m{0:.4g}\u001b[39;00m\u001b[39m'\u001b[39m\u001b[39m.\u001b[39mformat(\u001b[39mmax\u001b[39m(history\u001b[39m.\u001b[39mhistory[\u001b[39m'\u001b[39m\u001b[39maccuracy\u001b[39m\u001b[39m'\u001b[39m])\u001b[39m*\u001b[39m\u001b[39m100\u001b[39m)\u001b[39m}\u001b[39;00m\u001b[39m <----------accuracy----------\u001b[39m\u001b[39m\"\u001b[39m)\n",
      "File \u001b[0;32m/usr/local/lib/python3.9/dist-packages/keras/utils/traceback_utils.py:65\u001b[0m, in \u001b[0;36mfilter_traceback.<locals>.error_handler\u001b[0;34m(*args, **kwargs)\u001b[0m\n\u001b[1;32m     63\u001b[0m filtered_tb \u001b[39m=\u001b[39m \u001b[39mNone\u001b[39;00m\n\u001b[1;32m     64\u001b[0m \u001b[39mtry\u001b[39;00m:\n\u001b[0;32m---> 65\u001b[0m     \u001b[39mreturn\u001b[39;00m fn(\u001b[39m*\u001b[39;49margs, \u001b[39m*\u001b[39;49m\u001b[39m*\u001b[39;49mkwargs)\n\u001b[1;32m     66\u001b[0m \u001b[39mexcept\u001b[39;00m \u001b[39mException\u001b[39;00m \u001b[39mas\u001b[39;00m e:\n\u001b[1;32m     67\u001b[0m     filtered_tb \u001b[39m=\u001b[39m _process_traceback_frames(e\u001b[39m.\u001b[39m__traceback__)\n",
      "File \u001b[0;32m/usr/local/lib/python3.9/dist-packages/keras/engine/training.py:1564\u001b[0m, in \u001b[0;36mModel.fit\u001b[0;34m(self, x, y, batch_size, epochs, verbose, callbacks, validation_split, validation_data, shuffle, class_weight, sample_weight, initial_epoch, steps_per_epoch, validation_steps, validation_batch_size, validation_freq, max_queue_size, workers, use_multiprocessing)\u001b[0m\n\u001b[1;32m   1556\u001b[0m \u001b[39mwith\u001b[39;00m tf\u001b[39m.\u001b[39mprofiler\u001b[39m.\u001b[39mexperimental\u001b[39m.\u001b[39mTrace(\n\u001b[1;32m   1557\u001b[0m     \u001b[39m\"\u001b[39m\u001b[39mtrain\u001b[39m\u001b[39m\"\u001b[39m,\n\u001b[1;32m   1558\u001b[0m     epoch_num\u001b[39m=\u001b[39mepoch,\n\u001b[0;32m   (...)\u001b[0m\n\u001b[1;32m   1561\u001b[0m     _r\u001b[39m=\u001b[39m\u001b[39m1\u001b[39m,\n\u001b[1;32m   1562\u001b[0m ):\n\u001b[1;32m   1563\u001b[0m     callbacks\u001b[39m.\u001b[39mon_train_batch_begin(step)\n\u001b[0;32m-> 1564\u001b[0m     tmp_logs \u001b[39m=\u001b[39m \u001b[39mself\u001b[39;49m\u001b[39m.\u001b[39;49mtrain_function(iterator)\n\u001b[1;32m   1565\u001b[0m     \u001b[39mif\u001b[39;00m data_handler\u001b[39m.\u001b[39mshould_sync:\n\u001b[1;32m   1566\u001b[0m         context\u001b[39m.\u001b[39masync_wait()\n",
      "File \u001b[0;32m/usr/local/lib/python3.9/dist-packages/tensorflow/python/util/traceback_utils.py:150\u001b[0m, in \u001b[0;36mfilter_traceback.<locals>.error_handler\u001b[0;34m(*args, **kwargs)\u001b[0m\n\u001b[1;32m    148\u001b[0m filtered_tb \u001b[39m=\u001b[39m \u001b[39mNone\u001b[39;00m\n\u001b[1;32m    149\u001b[0m \u001b[39mtry\u001b[39;00m:\n\u001b[0;32m--> 150\u001b[0m   \u001b[39mreturn\u001b[39;00m fn(\u001b[39m*\u001b[39;49margs, \u001b[39m*\u001b[39;49m\u001b[39m*\u001b[39;49mkwargs)\n\u001b[1;32m    151\u001b[0m \u001b[39mexcept\u001b[39;00m \u001b[39mException\u001b[39;00m \u001b[39mas\u001b[39;00m e:\n\u001b[1;32m    152\u001b[0m   filtered_tb \u001b[39m=\u001b[39m _process_traceback_frames(e\u001b[39m.\u001b[39m__traceback__)\n",
      "File \u001b[0;32m/usr/local/lib/python3.9/dist-packages/tensorflow/python/eager/def_function.py:915\u001b[0m, in \u001b[0;36mFunction.__call__\u001b[0;34m(self, *args, **kwds)\u001b[0m\n\u001b[1;32m    912\u001b[0m compiler \u001b[39m=\u001b[39m \u001b[39m\"\u001b[39m\u001b[39mxla\u001b[39m\u001b[39m\"\u001b[39m \u001b[39mif\u001b[39;00m \u001b[39mself\u001b[39m\u001b[39m.\u001b[39m_jit_compile \u001b[39melse\u001b[39;00m \u001b[39m\"\u001b[39m\u001b[39mnonXla\u001b[39m\u001b[39m\"\u001b[39m\n\u001b[1;32m    914\u001b[0m \u001b[39mwith\u001b[39;00m OptionalXlaContext(\u001b[39mself\u001b[39m\u001b[39m.\u001b[39m_jit_compile):\n\u001b[0;32m--> 915\u001b[0m   result \u001b[39m=\u001b[39m \u001b[39mself\u001b[39;49m\u001b[39m.\u001b[39;49m_call(\u001b[39m*\u001b[39;49margs, \u001b[39m*\u001b[39;49m\u001b[39m*\u001b[39;49mkwds)\n\u001b[1;32m    917\u001b[0m new_tracing_count \u001b[39m=\u001b[39m \u001b[39mself\u001b[39m\u001b[39m.\u001b[39mexperimental_get_tracing_count()\n\u001b[1;32m    918\u001b[0m without_tracing \u001b[39m=\u001b[39m (tracing_count \u001b[39m==\u001b[39m new_tracing_count)\n",
      "File \u001b[0;32m/usr/local/lib/python3.9/dist-packages/tensorflow/python/eager/def_function.py:947\u001b[0m, in \u001b[0;36mFunction._call\u001b[0;34m(self, *args, **kwds)\u001b[0m\n\u001b[1;32m    944\u001b[0m   \u001b[39mself\u001b[39m\u001b[39m.\u001b[39m_lock\u001b[39m.\u001b[39mrelease()\n\u001b[1;32m    945\u001b[0m   \u001b[39m# In this case we have created variables on the first call, so we run the\u001b[39;00m\n\u001b[1;32m    946\u001b[0m   \u001b[39m# defunned version which is guaranteed to never create variables.\u001b[39;00m\n\u001b[0;32m--> 947\u001b[0m   \u001b[39mreturn\u001b[39;00m \u001b[39mself\u001b[39;49m\u001b[39m.\u001b[39;49m_stateless_fn(\u001b[39m*\u001b[39;49margs, \u001b[39m*\u001b[39;49m\u001b[39m*\u001b[39;49mkwds)  \u001b[39m# pylint: disable=not-callable\u001b[39;00m\n\u001b[1;32m    948\u001b[0m \u001b[39melif\u001b[39;00m \u001b[39mself\u001b[39m\u001b[39m.\u001b[39m_stateful_fn \u001b[39mis\u001b[39;00m \u001b[39mnot\u001b[39;00m \u001b[39mNone\u001b[39;00m:\n\u001b[1;32m    949\u001b[0m   \u001b[39m# Release the lock early so that multiple threads can perform the call\u001b[39;00m\n\u001b[1;32m    950\u001b[0m   \u001b[39m# in parallel.\u001b[39;00m\n\u001b[1;32m    951\u001b[0m   \u001b[39mself\u001b[39m\u001b[39m.\u001b[39m_lock\u001b[39m.\u001b[39mrelease()\n",
      "File \u001b[0;32m/usr/local/lib/python3.9/dist-packages/tensorflow/python/eager/function.py:2496\u001b[0m, in \u001b[0;36mFunction.__call__\u001b[0;34m(self, *args, **kwargs)\u001b[0m\n\u001b[1;32m   2493\u001b[0m \u001b[39mwith\u001b[39;00m \u001b[39mself\u001b[39m\u001b[39m.\u001b[39m_lock:\n\u001b[1;32m   2494\u001b[0m   (graph_function,\n\u001b[1;32m   2495\u001b[0m    filtered_flat_args) \u001b[39m=\u001b[39m \u001b[39mself\u001b[39m\u001b[39m.\u001b[39m_maybe_define_function(args, kwargs)\n\u001b[0;32m-> 2496\u001b[0m \u001b[39mreturn\u001b[39;00m graph_function\u001b[39m.\u001b[39;49m_call_flat(\n\u001b[1;32m   2497\u001b[0m     filtered_flat_args, captured_inputs\u001b[39m=\u001b[39;49mgraph_function\u001b[39m.\u001b[39;49mcaptured_inputs)\n",
      "File \u001b[0;32m/usr/local/lib/python3.9/dist-packages/tensorflow/python/eager/function.py:1862\u001b[0m, in \u001b[0;36mConcreteFunction._call_flat\u001b[0;34m(self, args, captured_inputs, cancellation_manager)\u001b[0m\n\u001b[1;32m   1858\u001b[0m possible_gradient_type \u001b[39m=\u001b[39m gradients_util\u001b[39m.\u001b[39mPossibleTapeGradientTypes(args)\n\u001b[1;32m   1859\u001b[0m \u001b[39mif\u001b[39;00m (possible_gradient_type \u001b[39m==\u001b[39m gradients_util\u001b[39m.\u001b[39mPOSSIBLE_GRADIENT_TYPES_NONE\n\u001b[1;32m   1860\u001b[0m     \u001b[39mand\u001b[39;00m executing_eagerly):\n\u001b[1;32m   1861\u001b[0m   \u001b[39m# No tape is watching; skip to running the function.\u001b[39;00m\n\u001b[0;32m-> 1862\u001b[0m   \u001b[39mreturn\u001b[39;00m \u001b[39mself\u001b[39m\u001b[39m.\u001b[39m_build_call_outputs(\u001b[39mself\u001b[39;49m\u001b[39m.\u001b[39;49m_inference_function\u001b[39m.\u001b[39;49mcall(\n\u001b[1;32m   1863\u001b[0m       ctx, args, cancellation_manager\u001b[39m=\u001b[39;49mcancellation_manager))\n\u001b[1;32m   1864\u001b[0m forward_backward \u001b[39m=\u001b[39m \u001b[39mself\u001b[39m\u001b[39m.\u001b[39m_select_forward_and_backward_functions(\n\u001b[1;32m   1865\u001b[0m     args,\n\u001b[1;32m   1866\u001b[0m     possible_gradient_type,\n\u001b[1;32m   1867\u001b[0m     executing_eagerly)\n\u001b[1;32m   1868\u001b[0m forward_function, args_with_tangents \u001b[39m=\u001b[39m forward_backward\u001b[39m.\u001b[39mforward()\n",
      "File \u001b[0;32m/usr/local/lib/python3.9/dist-packages/tensorflow/python/eager/function.py:499\u001b[0m, in \u001b[0;36m_EagerDefinedFunction.call\u001b[0;34m(self, ctx, args, cancellation_manager)\u001b[0m\n\u001b[1;32m    497\u001b[0m \u001b[39mwith\u001b[39;00m _InterpolateFunctionError(\u001b[39mself\u001b[39m):\n\u001b[1;32m    498\u001b[0m   \u001b[39mif\u001b[39;00m cancellation_manager \u001b[39mis\u001b[39;00m \u001b[39mNone\u001b[39;00m:\n\u001b[0;32m--> 499\u001b[0m     outputs \u001b[39m=\u001b[39m execute\u001b[39m.\u001b[39;49mexecute(\n\u001b[1;32m    500\u001b[0m         \u001b[39mstr\u001b[39;49m(\u001b[39mself\u001b[39;49m\u001b[39m.\u001b[39;49msignature\u001b[39m.\u001b[39;49mname),\n\u001b[1;32m    501\u001b[0m         num_outputs\u001b[39m=\u001b[39;49m\u001b[39mself\u001b[39;49m\u001b[39m.\u001b[39;49m_num_outputs,\n\u001b[1;32m    502\u001b[0m         inputs\u001b[39m=\u001b[39;49margs,\n\u001b[1;32m    503\u001b[0m         attrs\u001b[39m=\u001b[39;49mattrs,\n\u001b[1;32m    504\u001b[0m         ctx\u001b[39m=\u001b[39;49mctx)\n\u001b[1;32m    505\u001b[0m   \u001b[39melse\u001b[39;00m:\n\u001b[1;32m    506\u001b[0m     outputs \u001b[39m=\u001b[39m execute\u001b[39m.\u001b[39mexecute_with_cancellation(\n\u001b[1;32m    507\u001b[0m         \u001b[39mstr\u001b[39m(\u001b[39mself\u001b[39m\u001b[39m.\u001b[39msignature\u001b[39m.\u001b[39mname),\n\u001b[1;32m    508\u001b[0m         num_outputs\u001b[39m=\u001b[39m\u001b[39mself\u001b[39m\u001b[39m.\u001b[39m_num_outputs,\n\u001b[0;32m   (...)\u001b[0m\n\u001b[1;32m    511\u001b[0m         ctx\u001b[39m=\u001b[39mctx,\n\u001b[1;32m    512\u001b[0m         cancellation_manager\u001b[39m=\u001b[39mcancellation_manager)\n",
      "File \u001b[0;32m/usr/local/lib/python3.9/dist-packages/tensorflow/python/eager/execute.py:54\u001b[0m, in \u001b[0;36mquick_execute\u001b[0;34m(op_name, num_outputs, inputs, attrs, ctx, name)\u001b[0m\n\u001b[1;32m     52\u001b[0m \u001b[39mtry\u001b[39;00m:\n\u001b[1;32m     53\u001b[0m   ctx\u001b[39m.\u001b[39mensure_initialized()\n\u001b[0;32m---> 54\u001b[0m   tensors \u001b[39m=\u001b[39m pywrap_tfe\u001b[39m.\u001b[39;49mTFE_Py_Execute(ctx\u001b[39m.\u001b[39;49m_handle, device_name, op_name,\n\u001b[1;32m     55\u001b[0m                                       inputs, attrs, num_outputs)\n\u001b[1;32m     56\u001b[0m \u001b[39mexcept\u001b[39;00m core\u001b[39m.\u001b[39m_NotOkStatusException \u001b[39mas\u001b[39;00m e:\n\u001b[1;32m     57\u001b[0m   \u001b[39mif\u001b[39;00m name \u001b[39mis\u001b[39;00m \u001b[39mnot\u001b[39;00m \u001b[39mNone\u001b[39;00m:\n",
      "\u001b[0;31mKeyboardInterrupt\u001b[0m: "
     ]
    }
   ],
   "source": [
    "if True:\n",
    "    IN_DIM=len(mean)\n",
    "#     model = Sequential()\n",
    "#     model.add(Dense(int(IN_DIM/2),input_dim=IN_DIM,activation='relu'))\n",
    "#     model.add(Dropout(0.5))\n",
    "#     model.add(Dense(int(IN_DIM/4),activation='relu'))\n",
    "# #    model.add(Dropout(0.7))\n",
    "#     model.add(Dense(8,activation='relu'))\n",
    "# #    model.add(Dropout(0.7))\n",
    "#     model.add(Dense(1,activation='sigmoid'))\n",
    "    model = Sequential()\n",
    "    model.add(Dense(800,input_dim=IN_DIM,activation='relu'))\n",
    "    model.add(Dense(400,activation='relu'))\n",
    "    model.add(Dense(400,activation='relu'))\n",
    "    model.add(Dense(40,activation='relu'))\n",
    "    model.add(Dense(40,activation='relu'))\n",
    "    model.add(Dense(40,activation='relu'))\n",
    "#    model.add(Dense(10,activation='relu'))\n",
    "#    model.add(Dropout(0.5))\n",
    "#    model.add(Dense(20,activation='relu'))\n",
    "#    model.add(Dropout(0.7))\n",
    "    model.add(Dense(4,activation='relu'))\n",
    "#    model.add(Dropout(0.7))\n",
    "    model.add(Dense(1,activation='sigmoid'))\n",
    "    print(model.summary())\n",
    "    model.compile(loss='binary_crossentropy',optimizer='adam',metrics=['accuracy'])\n",
    "    callbacks_a = ModelCheckpoint(filepath=Model_FileName+\"dataplus.h5\",monitor ='accuracy',save_best_only = True, save_weights = True)\n",
    "    callbacks_b = EarlyStopping(monitor ='accuracy',mode='auto',patience=10,verbose=1)\n",
    "    history = model.fit(XTRAIN,\n",
    "                    YTRAIN,\n",
    "                    validation_data=(XVALIDATION,YVALIDATION),\n",
    "                    epochs=6000,\n",
    "                    batch_size=128*5,\n",
    "                    callbacks=[callbacks_a,callbacks_b])\n",
    "\n",
    "    print('##########################################################################')\n",
    "    print(f\"------val_accuracy-----> {'{0:.4g}'.format(max(history.history['val_accuracy'])*100)} | {'{0:.4g}'.format(max(history.history['accuracy'])*100)} <----------accuracy----------\")\n",
    "    #94%"
   ]
  },
  {
   "cell_type": "code",
   "execution_count": null,
   "metadata": {
    "vscode": {
     "languageId": "python"
    }
   },
   "outputs": [],
   "source": [
    "if not TESTING_MOD:\n",
    "    IN_DIM=len(mean)\n",
    "    model = Sequential()\n",
    "    model.add(Dense(int(IN_DIM/2),input_dim=IN_DIM,activation='softplus'))\n",
    "    model.add(Dense(int(IN_DIM/2),activation='relu'))\n",
    "    model.add(Dropout(0.7))\n",
    "    model.add(Dense(int(IN_DIM/5),activation='softplus'))\n",
    "    model.add(Dense(int(IN_DIM/4),activation='softmax'))\n",
    "    model.add(Dense(int(IN_DIM/1),activation='softplus'))\n",
    "    model.add(Dense(1,activation='sigmoid'))\n",
    "    print(model.summary())\n",
    "    #model.compile(loss='binary_crossentropy',optimizer='rmsprop',metrics=['accuracy'])\n",
    "    # model.compile(loss='binary_crossentropy',optimizer='adam',metrics=['accuracy'])\n",
    "    # callbacks_a = ModelCheckpoint(filepath=Model_FileName+'.sftp.hdf5',monitor ='val_accuracy',save_best_only = True, save_weights = True)\n",
    "    # callbacks_b = EarlyStopping(monitor ='val_accuracy',mode='auto',patience=10,verbose=1)\n",
    "    model.compile(loss='binary_crossentropy',optimizer='adam',metrics=['accuracy'])\n",
    "    callbacks_a = ModelCheckpoint(filepath=Model_FileName+'.sftp.hdf5',monitor ='val_accuracy',save_best_only = True, save_weights = True)\n",
    "    callbacks_b = EarlyStopping(monitor ='val_accuracy',mode='auto',patience=10,verbose=1)\n",
    "    history = model.fit(XTRAIN,\n",
    "                    YTRAIN,\n",
    "                    validation_data=(XVALIDATION,YVALIDATION),\n",
    "                    epochs=6000,\n",
    "                    batch_size=128*5,\n",
    "                    callbacks=[callbacks_a,callbacks_b])\n",
    "\n",
    "    print('##########################################################################')\n",
    "    print(f\"------val_accuracy-----> {'{0:.4g}'.format(max(history.history['val_accuracy'])*100)} | {'{0:.4g}'.format(max(history.history['accuracy'])*100)} <----------accuracy----------\")\n",
    "    #94%"
   ]
  },
  {
   "cell_type": "code",
   "execution_count": null,
   "metadata": {
    "vscode": {
     "languageId": "python"
    }
   },
   "outputs": [],
   "source": [
    "print('##########################################################################')\n",
    "print(f'Input shape: {XVALIDATION.shape}')\n",
    "print(f\"------val_accuracy-----> {'{0:.4g}'.format(max(history.history['val_accuracy'])*100)} | {'{0:.4g}'.format(max(history.history['accuracy'])*100)} <----------accuracy----------\")\n"
   ]
  },
  {
   "cell_type": "code",
   "execution_count": 40,
   "metadata": {
    "vscode": {
     "languageId": "python"
    }
   },
   "outputs": [
    {
     "data": {
      "text/plain": [
       "<keras.engine.sequential.Sequential at 0x7f9c486116a0>"
      ]
     },
     "execution_count": 40,
     "metadata": {},
     "output_type": "execute_result"
    }
   ],
   "source": [
    "model"
   ]
  },
  {
   "cell_type": "code",
   "execution_count": null,
   "metadata": {
    "vscode": {
     "languageId": "python"
    }
   },
   "outputs": [],
   "source": [
    "dt[0:1]"
   ]
  },
  {
   "cell_type": "code",
   "execution_count": null,
   "metadata": {
    "vscode": {
     "languageId": "python"
    }
   },
   "outputs": [],
   "source": []
  },
  {
   "cell_type": "code",
   "execution_count": null,
   "metadata": {
    "vscode": {
     "languageId": "python"
    }
   },
   "outputs": [],
   "source": [
    "#dt=df.to_numpy()\n",
    "#if TESTING_MOD:\n",
    "normalize(dt[:,0:-1])"
   ]
  },
  {
   "cell_type": "code",
   "execution_count": null,
   "metadata": {
    "vscode": {
     "languageId": "python"
    }
   },
   "outputs": [],
   "source": [
    "Normalization"
   ]
  },
  {
   "cell_type": "code",
   "execution_count": 41,
   "metadata": {
    "vscode": {
     "languageId": "python"
    }
   },
   "outputs": [
    {
     "name": "stdout",
     "output_type": "stream",
     "text": [
      "/UltimeTradingBot/Data/tp27_w4_max1min_Model_v1.hdf5 Loaded\n"
     ]
    }
   ],
   "source": [
    "from keras.models import load_model\n",
    "\n",
    "model = load_model(Model_FileName+\"dataplus.h5\")\n",
    "\n",
    "print(Model_FileName+' Loaded')"
   ]
  },
  {
   "cell_type": "code",
   "execution_count": null,
   "metadata": {
    "vscode": {
     "languageId": "python"
    }
   },
   "outputs": [],
   "source": [
    "dt[0,0]"
   ]
  },
  {
   "cell_type": "code",
   "execution_count": null,
   "metadata": {
    "vscode": {
     "languageId": "python"
    }
   },
   "outputs": [],
   "source": [
    "\n",
    "#import tensorflow as tf\n",
    "dt=np.nan_to_num(dt)\n",
    "\n",
    "dt=tf.convert_to_tensor(dt, dtype=tf.float32)\n",
    "#dt==dt.astype(np.float64)\n"
   ]
  },
  {
   "cell_type": "code",
   "execution_count": null,
   "metadata": {
    "vscode": {
     "languageId": "python"
    }
   },
   "outputs": [],
   "source": [
    "\n",
    "\n",
    "XVALIDATION[YVALIDATION==1]"
   ]
  },
  {
   "cell_type": "code",
   "execution_count": 42,
   "metadata": {
    "vscode": {
     "languageId": "python"
    }
   },
   "outputs": [
    {
     "name": "stdout",
     "output_type": "stream",
     "text": [
      "41635/41635 [==============================] - 63s 2ms/step - loss: 0.4022 - accuracy: 0.8566\n",
      "18526/18526 [==============================] - 28s 2ms/step - loss: 1.0683 - accuracy: 0.5174\n",
      "60161/60161 [==============================] - 93s 2ms/step - loss: 0.6073 - accuracy: 0.7522\n",
      "class 0: [0.40222346782684326, 0.8566209673881531]\n",
      "class 1: [1.0682971477508545, 0.5173829793930054]\n",
      "FULL class : [0.6073324084281921, 0.7521564960479736]\n"
     ]
    }
   ],
   "source": [
    "accuracy0 = model.evaluate(XVALIDATION[YVALIDATION==0], YVALIDATION[YVALIDATION==0])\n",
    "accuracy1 = model.evaluate(XVALIDATION[YVALIDATION==1], YVALIDATION[YVALIDATION==1])\n",
    "accuracy = model.evaluate(XVALIDATION, YVALIDATION)\n",
    "\n",
    "print(f\"class 0: {accuracy0}\")\n",
    "print(f\"class 1: {accuracy1}\")\n",
    "print(f\"FULL class : {accuracy}\")\n",
    "\n",
    "#accuracy = model.evaluate(dt[:,0:-1], dt[:,-1])\n"
   ]
  },
  {
   "cell_type": "code",
   "execution_count": null,
   "metadata": {
    "vscode": {
     "languageId": "python"
    }
   },
   "outputs": [],
   "source": [
    "print(accuracy)"
   ]
  },
  {
   "cell_type": "code",
   "execution_count": null,
   "metadata": {
    "vscode": {
     "languageId": "python"
    }
   },
   "outputs": [],
   "source": [
    "dt[dt[:,-1]==1]"
   ]
  },
  {
   "cell_type": "code",
   "execution_count": null,
   "metadata": {
    "vscode": {
     "languageId": "python"
    }
   },
   "outputs": [],
   "source": [
    "# dt2[0:,-1].shape"
   ]
  },
  {
   "cell_type": "markdown",
   "metadata": {},
   "source": [
    "### Use the model"
   ]
  },
  {
   "cell_type": "code",
   "execution_count": null,
   "metadata": {
    "vscode": {
     "languageId": "python"
    }
   },
   "outputs": [],
   "source": [
    "\n",
    "# make probability predictions with the model\n",
    "predictions = model.predict(dt[0:,0:-1])\n",
    "# round predictions \n",
    "rounded = [round(x[0]) for x in predictions]"
   ]
  },
  {
   "cell_type": "code",
   "execution_count": null,
   "metadata": {
    "vscode": {
     "languageId": "python"
    }
   },
   "outputs": [],
   "source": []
  },
  {
   "cell_type": "code",
   "execution_count": null,
   "metadata": {
    "vscode": {
     "languageId": "python"
    }
   },
   "outputs": [],
   "source": [
    "sum(rounded)/len(rounded)"
   ]
  },
  {
   "cell_type": "code",
   "execution_count": null,
   "metadata": {
    "vscode": {
     "languageId": "python"
    }
   },
   "outputs": [],
   "source": [
    "YVALIDATION[1002]"
   ]
  },
  {
   "cell_type": "code",
   "execution_count": null,
   "metadata": {
    "vscode": {
     "languageId": "python"
    }
   },
   "outputs": [],
   "source": [
    "def Buy_Dessision(input):\n",
    "    predictions = model.predict(XVALIDATION)\n",
    "    rounded = [round(x[0]) for x in predictions]"
   ]
  }
 ],
 "metadata": {
  "kernelspec": {
   "display_name": "Python 3 (ipykernel)",
   "language": "python",
   "name": "python3"
  },
  "vscode": {
   "interpreter": {
    "hash": "e7370f93d1d0cde622a1f8e1c04877d8463912d04d973331ad4851f04de6915a"
   }
  }
 },
 "nbformat": 4,
 "nbformat_minor": 2
}
