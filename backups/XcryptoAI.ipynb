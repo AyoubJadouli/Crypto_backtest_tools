{
 "cells": [
  {
   "cell_type": "code",
   "execution_count": 1,
   "metadata": {},
   "outputs": [
    {
     "name": "stdout",
     "output_type": "stream",
     "text": [
      "/UltimeTradingBot/Crypto_backtest_tools\n"
     ]
    }
   ],
   "source": [
    "%cd '/UltimeTradingBot/Crypto_backtest_tools'\n",
    "WINDOW_SIZE=30\n",
    "BUY_PERCENT=0.8\n",
    "MAX_FORCAST_SIZE=10\n",
    "VERSION=1\n",
    "TESTING_MOD=True\n",
    "JUST_IMPORT_DATA=True\n",
    "#Normalization_File='w15_NoVol_Normalization.json'\n",
    "#Model_FileName='w15_NoVol_XcryptoAi_model.hdf5'\n",
    "ALLHIST_FILE='Results_history.json'\n",
    "DATA_DIR='/UltimeTradingBot/Data/'\n",
    "FIRST_NORM_FLAG=True\n",
    "DATA_DIR='/UltimeTradingBot/Data'\n",
    "Normalization_File=f'{DATA_DIR}/tp{int(BUY_PERCENT*100)}_w{WINDOW_SIZE}_max{MAX_FORCAST_SIZE}min_Norm_v{VERSION}.json'\n",
    "Model_FileName=f'{DATA_DIR}/tp{int(BUY_PERCENT*100)}_w{WINDOW_SIZE}_max{MAX_FORCAST_SIZE}min_Model_v{VERSION}.hdf5'\n",
    "DATA_FILE=f'{DATA_DIR}/tp{int(BUY_PERCENT*100)}_w{WINDOW_SIZE}_max{MAX_FORCAST_SIZE}min_Data_v{VERSION}.csv'\n",
    "window=WINDOW_SIZE\n",
    "SELL_PERCENT=0.30\n",
    "NORM_FILE=Normalization_File\n",
    "MODEL_FILE=Model_FileName\n",
    "Px=6\n",
    "BUFFER_SIZE=200000*Px\n",
    "SAMPLE_SIZE=4000*Px\n",
    "\n",
    "#DATA_FILE=DATA_DIR+'w'+str(WINDOW_SIZE)+'_EXTData.csv'\n",
    "\n"
   ]
  },
  {
   "cell_type": "code",
   "execution_count": 2,
   "metadata": {},
   "outputs": [
    {
     "name": "stderr",
     "output_type": "stream",
     "text": [
      "2022-10-05 06:54:38.719147: I tensorflow/core/platform/cpu_feature_guard.cc:193] This TensorFlow binary is optimized with oneAPI Deep Neural Network Library (oneDNN) to use the following CPU instructions in performance-critical operations:  AVX2 AVX512F AVX512_VNNI FMA\n",
      "To enable them in other operations, rebuild TensorFlow with the appropriate compiler flags.\n",
      "2022-10-05 06:54:38.870329: I tensorflow/core/util/util.cc:169] oneDNN custom operations are on. You may see slightly different numerical results due to floating-point round-off errors from different computation orders. To turn them off, set the environment variable `TF_ENABLE_ONEDNN_OPTS=0`.\n"
     ]
    }
   ],
   "source": [
    "\n",
    "\n",
    "import sys\n",
    "sys.path.append('/UltimeTradingBot/Crypto_backtest_tools')\n",
    "\n",
    "from utilities.get_data import get_historical_from_db\n",
    "from utilities.backtesting import basic_single_asset_backtest, plot_wallet_vs_asset, get_metrics\n",
    "import pandas as pd\n",
    "import ccxt\n",
    "import matplotlib.pyplot as plt\n",
    "import json\n",
    "import numpy as np\n",
    "import random\n",
    "from sklearn.utils import shuffle\n",
    "import seaborn as sns\n",
    "\n",
    "from tensorflow.keras.models import Sequential\n",
    "from tensorflow.keras.layers import Dense\n",
    "from tensorflow.keras.layers import Dropout\n",
    "from tensorflow.keras.constraints import MaxNorm\n",
    "from tensorflow.keras.optimizers import SGD\n",
    "from keras.callbacks import EarlyStopping, ModelCheckpoint\n",
    "from tensorflow.keras.models import Sequential\n",
    "from tensorflow.keras.layers import Dense \n",
    "import os\n",
    "pd.options.mode.chained_assignment = None  # default='warn'\n",
    "import os\n",
    "import gc\n",
    "import tensorflow as tf\n",
    "pd.options.mode.chained_assignment = None  # default='warn'\n",
    "import warnings\n",
    "warnings.filterwarnings('ignore')\n"
   ]
  },
  {
   "cell_type": "code",
   "execution_count": 3,
   "metadata": {},
   "outputs": [],
   "source": [
    "import gc\n",
    "gc.collect()    \n",
    "\n",
    "import warnings\n",
    "warnings.filterwarnings('ignore')\n",
    "PRERR=False\n",
    "def prerr(err):\n",
    "    if PRERR:\n",
    "        print(\"\\033[0;31m Error in \"+str(sys._getframe().f_code.co_name) +\" \\033[0;33m\"+str(err))\n",
    "\n",
    "PDEBUG=True\n",
    "def pdebug(err):\n",
    "    if PDEBUG:\n",
    "        print(\"\\033[0;31m Error in \"+str(sys._getframe().f_code.co_name) +\" \\033[0;33m\"+str(err))"
   ]
  },
  {
   "cell_type": "code",
   "execution_count": null,
   "metadata": {},
   "outputs": [],
   "source": [
    "MetaData = pd.read_csv(\"../Data/Metadata.csv\",index_col=0)\n",
    "MetaData"
   ]
  },
  {
   "cell_type": "code",
   "execution_count": 4,
   "metadata": {},
   "outputs": [],
   "source": [
    "#MetaData=get_crypto_metadata(Binance_USDT_HALAL)\n",
    "#MetaData = pd.read_csv(\"../Data/MetaData.csv\")\n",
    "#df = pd.read_csv(DATA_FILE,index_col=0,nrows=1000000)\n",
    "df = pd.read_csv(DATA_FILE,index_col=0)"
   ]
  },
  {
   "cell_type": "code",
   "execution_count": null,
   "metadata": {},
   "outputs": [],
   "source": [
    "#df=df.drop(columns=\"sell\")\n",
    "#df=df.drop(columns=[\"Unnamed: 0\"])\n",
    "#df.to_csv('D:/+DATA+/allok_w15_nosell.csv')"
   ]
  },
  {
   "cell_type": "code",
   "execution_count": 6,
   "metadata": {},
   "outputs": [
    {
     "data": {
      "text/plain": [
       "6992.201370239258"
      ]
     },
     "execution_count": 6,
     "metadata": {},
     "output_type": "execute_result"
    }
   ],
   "source": [
    "sys.getsizeof(df)/(1024**2)"
   ]
  },
  {
   "cell_type": "markdown",
   "metadata": {},
   "source": [
    "## Testing impoted DATA"
   ]
  },
  {
   "cell_type": "code",
   "execution_count": 7,
   "metadata": {},
   "outputs": [
    {
     "name": "stdout",
     "output_type": "stream",
     "text": [
      "no bs or sell\n"
     ]
    }
   ],
   "source": [
    "try:\n",
    "    df=df.drop(columns=[\"sell\",'bs'])\n",
    "except:\n",
    "    print(\"no bs or sell\")"
   ]
  },
  {
   "cell_type": "code",
   "execution_count": 8,
   "metadata": {},
   "outputs": [
    {
     "data": {
      "text/html": [
       "<div>\n",
       "<style scoped>\n",
       "    .dataframe tbody tr th:only-of-type {\n",
       "        vertical-align: middle;\n",
       "    }\n",
       "\n",
       "    .dataframe tbody tr th {\n",
       "        vertical-align: top;\n",
       "    }\n",
       "\n",
       "    .dataframe thead th {\n",
       "        text-align: right;\n",
       "    }\n",
       "</style>\n",
       "<table border=\"1\" class=\"dataframe\">\n",
       "  <thead>\n",
       "    <tr style=\"text-align: right;\">\n",
       "      <th></th>\n",
       "      <th>price</th>\n",
       "      <th>high-1</th>\n",
       "      <th>low-1</th>\n",
       "      <th>close-1</th>\n",
       "      <th>volume-1</th>\n",
       "      <th>high-2</th>\n",
       "      <th>low-2</th>\n",
       "      <th>close-2</th>\n",
       "      <th>volume-2</th>\n",
       "      <th>high-3</th>\n",
       "      <th>...</th>\n",
       "      <th>BTC_volume-29_5min</th>\n",
       "      <th>BTC_high-30_5min</th>\n",
       "      <th>BTC_low-30_5min</th>\n",
       "      <th>BTC_close-30_5min</th>\n",
       "      <th>BTC_volume-30_5min</th>\n",
       "      <th>day</th>\n",
       "      <th>hour</th>\n",
       "      <th>minute</th>\n",
       "      <th>lunch_day</th>\n",
       "      <th>buy</th>\n",
       "    </tr>\n",
       "  </thead>\n",
       "  <tbody>\n",
       "  </tbody>\n",
       "</table>\n",
       "<p>0 rows × 1207 columns</p>\n",
       "</div>"
      ],
      "text/plain": [
       "Empty DataFrame\n",
       "Columns: [price, high-1, low-1, close-1, volume-1, high-2, low-2, close-2, volume-2, high-3, low-3, close-3, volume-3, high-4, low-4, close-4, volume-4, high-5, low-5, close-5, volume-5, high-6, low-6, close-6, volume-6, high-7, low-7, close-7, volume-7, high-8, low-8, close-8, volume-8, high-9, low-9, close-9, volume-9, high-10, low-10, close-10, volume-10, high-11, low-11, close-11, volume-11, high-12, low-12, close-12, volume-12, high-13, low-13, close-13, volume-13, high-14, low-14, close-14, volume-14, high-15, low-15, close-15, volume-15, high-16, low-16, close-16, volume-16, high-17, low-17, close-17, volume-17, high-18, low-18, close-18, volume-18, high-19, low-19, close-19, volume-19, high-20, low-20, close-20, volume-20, high-21, low-21, close-21, volume-21, high-22, low-22, close-22, volume-22, high-23, low-23, close-23, volume-23, high-24, low-24, close-24, volume-24, high-25, low-25, close-25, ...]\n",
       "Index: []\n",
       "\n",
       "[0 rows x 1207 columns]"
      ]
     },
     "execution_count": 8,
     "metadata": {},
     "output_type": "execute_result"
    }
   ],
   "source": [
    "df[df.isnull().any(axis=1)]"
   ]
  },
  {
   "cell_type": "code",
   "execution_count": null,
   "metadata": {},
   "outputs": [],
   "source": [
    "# VolRemover=[\"volume\",\"volume-1\",\"BTC_volume-1\"]\n",
    "# for key in df.keys():\n",
    "#     if key.find(\"volume-1_\") != -1 :\n",
    "#         VolRemover.append(key)\n",
    "\n",
    "#     df=pd.concat([df1,df0],axis=0).drop(columns=VolRemover)\n",
    "\n",
    "# high_weight=3\n",
    "# df[\"high\"]=(df[\"open\"]+high_weight*df[\"high\"]+df[\"low\"]+df[\"close\"])/(3+high_weight)\n",
    "# df.rename(columns={\"high\":\"price\"},inplace = True)\n",
    "# df[\"BTC_high\"]=(df[\"BTC_open\"]+high_weight*df[\"BTC_high\"]+df[\"BTC_low\"]+df[\"BTC_close\"])/(3+high_weight)\n",
    "# df.rename(columns={\"BTC_high\":\"BTC_price\"},inplace = True)\n",
    "# df2=df.drop(columns=[\"BTC_open\",\"BTC_low\",\"BTC_close\",\"open\",\"low\",\"close\"])\n",
    "# del(df)\n",
    "# df=df2\n",
    "# #del(df2)\n",
    "# for key in df.keys():\n",
    "#     if key.find(\"BTC\")!=-1 and (key.find(\"open\")!=-1 or\n",
    "#     key.find(\"high\")!=-1 or key.find(\"low\")!=-1 or key.find(\"close\")!=-1):\n",
    "#         df[key]=(df[\"BTC_price\"]-df[key])/df[\"BTC_price\"]\n",
    "#     if key.find(\"BTC\")==-1 and (key.find(\"open\")!=-1 or\n",
    "#     key.find(\"high\")!=-1 or key.find(\"low\")!=-1 or key.find(\"close\")!=-1):\n",
    "#         df[key]=(df[\"price\"]-df[key])/df[\"price\"]\n",
    "\n",
    "# df1=df[df[\"buy\"]==1]\n",
    "# df0=df[df[\"buy\"]==0].iloc[0:len(df1)]\n",
    "# #del(df)\n",
    "\n",
    "\n"
   ]
  },
  {
   "cell_type": "code",
   "execution_count": null,
   "metadata": {},
   "outputs": [],
   "source": [
    "#import gc\n",
    "#df=df.iloc[0:int(len(df)/3)]\n",
    "gc.collect()\n",
    "# df=df.reindex(np.random.permutation(df.index))\n",
    "# df=df.reindex(np.random.permutation(df.index))\n",
    "# sys.getsizeof(df)/(1024**2)\n",
    "df\n"
   ]
  },
  {
   "cell_type": "markdown",
   "metadata": {},
   "source": [
    "### Remove volumes"
   ]
  },
  {
   "cell_type": "code",
   "execution_count": null,
   "metadata": {},
   "outputs": [],
   "source": [
    "# try:\n",
    "#     VolRemover=[\"volume\",\"volume-1\",\"BTC_volume-1\",\"BTC_volume\"]\n",
    "#     for key in df.keys():\n",
    "#         if key.find(\"volume-1_\") != -1 :\n",
    "#             VolRemover.append(key)\n",
    "\n",
    "#         df=df.drop(columns=VolRemover)\n",
    "# except:\n",
    "#     try:\n",
    "#         df=df.drop(columns=[\"BTC_volume\"])\n",
    "#     except:\n",
    "\n",
    "#         print(\"no veol\")\n"
   ]
  },
  {
   "cell_type": "markdown",
   "metadata": {},
   "source": [
    "Cheking null values"
   ]
  },
  {
   "cell_type": "code",
   "execution_count": null,
   "metadata": {},
   "outputs": [],
   "source": [
    "#print(df[df.isnull().any(axis=1)])\n",
    "df[df.isnull().any(axis=1)]"
   ]
  },
  {
   "cell_type": "code",
   "execution_count": null,
   "metadata": {},
   "outputs": [],
   "source": [
    "df=df.fillna(0)"
   ]
  },
  {
   "cell_type": "markdown",
   "metadata": {},
   "source": [
    "checking keys"
   ]
  },
  {
   "cell_type": "code",
   "execution_count": 9,
   "metadata": {},
   "outputs": [
    {
     "name": "stdout",
     "output_type": "stream",
     "text": [
      "volume-1|volume-2|volume-3|volume-4|volume-5|volume-6|volume-7|volume-8|volume-9|volume-10|volume-11|volume-12|volume-13|volume-14|volume-15|volume-16|volume-17|volume-18|volume-19|volume-20|volume-21|volume-22|volume-23|volume-24|volume-25|volume-26|volume-27|volume-28|volume-29|volume-30|volume-1_day|volume-2_day|volume-3_day|volume-4_day|volume-5_day|volume-6_day|volume-7_day|volume-8_day|volume-9_day|volume-10_day|volume-11_day|volume-12_day|volume-13_day|volume-14_day|volume-15_day|volume-16_day|volume-17_day|volume-18_day|volume-19_day|volume-20_day|volume-21_day|volume-22_day|volume-23_day|volume-24_day|volume-25_day|volume-26_day|volume-27_day|volume-28_day|volume-29_day|volume-30_day|volume-1_hour|volume-2_hour|volume-3_hour|volume-4_hour|volume-5_hour|volume-6_hour|volume-7_hour|volume-8_hour|volume-9_hour|volume-10_hour|volume-11_hour|volume-12_hour|volume-13_hour|volume-14_hour|volume-15_hour|volume-16_hour|volume-17_hour|volume-18_hour|volume-19_hour|volume-20_hour|volume-21_hour|volume-22_hour|volume-23_hour|volume-24_hour|volume-25_hour|volume-26_hour|volume-27_hour|volume-28_hour|volume-29_hour|volume-30_hour|volume-1_15min|volume-2_15min|volume-3_15min|volume-4_15min|volume-5_15min|volume-6_15min|volume-7_15min|volume-8_15min|volume-9_15min|volume-10_15min|volume-11_15min|volume-12_15min|volume-13_15min|volume-14_15min|volume-15_15min|volume-16_15min|volume-17_15min|volume-18_15min|volume-19_15min|volume-20_15min|volume-21_15min|volume-22_15min|volume-23_15min|volume-24_15min|volume-25_15min|volume-26_15min|volume-27_15min|volume-28_15min|volume-29_15min|volume-30_15min|volume-1_5min|volume-2_5min|volume-3_5min|volume-4_5min|volume-5_5min|volume-6_5min|volume-7_5min|volume-8_5min|volume-9_5min|volume-10_5min|volume-11_5min|volume-12_5min|volume-13_5min|volume-14_5min|volume-15_5min|volume-16_5min|volume-17_5min|volume-18_5min|volume-19_5min|volume-20_5min|volume-21_5min|volume-22_5min|volume-23_5min|volume-24_5min|volume-25_5min|volume-26_5min|volume-27_5min|volume-28_5min|volume-29_5min|volume-30_5min|BTC_volume-1|BTC_volume-2|BTC_volume-3|BTC_volume-4|BTC_volume-5|BTC_volume-6|BTC_volume-7|BTC_volume-8|BTC_volume-9|BTC_volume-10|BTC_volume-11|BTC_volume-12|BTC_volume-13|BTC_volume-14|BTC_volume-15|BTC_volume-16|BTC_volume-17|BTC_volume-18|BTC_volume-19|BTC_volume-20|BTC_volume-21|BTC_volume-22|BTC_volume-23|BTC_volume-24|BTC_volume-25|BTC_volume-26|BTC_volume-27|BTC_volume-28|BTC_volume-29|BTC_volume-30|BTC_volume-1_day|BTC_volume-2_day|BTC_volume-3_day|BTC_volume-4_day|BTC_volume-5_day|BTC_volume-6_day|BTC_volume-7_day|BTC_volume-8_day|BTC_volume-9_day|BTC_volume-10_day|BTC_volume-11_day|BTC_volume-12_day|BTC_volume-13_day|BTC_volume-14_day|BTC_volume-15_day|BTC_volume-16_day|BTC_volume-17_day|BTC_volume-18_day|BTC_volume-19_day|BTC_volume-20_day|BTC_volume-21_day|BTC_volume-22_day|BTC_volume-23_day|BTC_volume-24_day|BTC_volume-25_day|BTC_volume-26_day|BTC_volume-27_day|BTC_volume-28_day|BTC_volume-29_day|BTC_volume-30_day|BTC_volume-1_hour|BTC_volume-2_hour|BTC_volume-3_hour|BTC_volume-4_hour|BTC_volume-5_hour|BTC_volume-6_hour|BTC_volume-7_hour|BTC_volume-8_hour|BTC_volume-9_hour|BTC_volume-10_hour|BTC_volume-11_hour|BTC_volume-12_hour|BTC_volume-13_hour|BTC_volume-14_hour|BTC_volume-15_hour|BTC_volume-16_hour|BTC_volume-17_hour|BTC_volume-18_hour|BTC_volume-19_hour|BTC_volume-20_hour|BTC_volume-21_hour|BTC_volume-22_hour|BTC_volume-23_hour|BTC_volume-24_hour|BTC_volume-25_hour|BTC_volume-26_hour|BTC_volume-27_hour|BTC_volume-28_hour|BTC_volume-29_hour|BTC_volume-30_hour|BTC_volume-1_15min|BTC_volume-2_15min|BTC_volume-3_15min|BTC_volume-4_15min|BTC_volume-5_15min|BTC_volume-6_15min|BTC_volume-7_15min|BTC_volume-8_15min|BTC_volume-9_15min|BTC_volume-10_15min|BTC_volume-11_15min|BTC_volume-12_15min|BTC_volume-13_15min|BTC_volume-14_15min|BTC_volume-15_15min|BTC_volume-16_15min|BTC_volume-17_15min|BTC_volume-18_15min|BTC_volume-19_15min|BTC_volume-20_15min|BTC_volume-21_15min|BTC_volume-22_15min|BTC_volume-23_15min|BTC_volume-24_15min|BTC_volume-25_15min|BTC_volume-26_15min|BTC_volume-27_15min|BTC_volume-28_15min|BTC_volume-29_15min|BTC_volume-30_15min|BTC_volume-1_5min|BTC_volume-2_5min|BTC_volume-3_5min|BTC_volume-4_5min|BTC_volume-5_5min|BTC_volume-6_5min|BTC_volume-7_5min|BTC_volume-8_5min|BTC_volume-9_5min|BTC_volume-10_5min|BTC_volume-11_5min|BTC_volume-12_5min|BTC_volume-13_5min|BTC_volume-14_5min|BTC_volume-15_5min|BTC_volume-16_5min|BTC_volume-17_5min|BTC_volume-18_5min|BTC_volume-19_5min|BTC_volume-20_5min|BTC_volume-21_5min|BTC_volume-22_5min|BTC_volume-23_5min|BTC_volume-24_5min|BTC_volume-25_5min|BTC_volume-26_5min|BTC_volume-27_5min|BTC_volume-28_5min|BTC_volume-29_5min|BTC_volume-30_5min|"
     ]
    }
   ],
   "source": [
    "for k in df.keys():\n",
    "    if k.find(\"volume\") != -1 :print(k ,end=\"|\")"
   ]
  },
  {
   "cell_type": "markdown",
   "metadata": {},
   "source": [
    "# starting numpy process"
   ]
  },
  {
   "cell_type": "markdown",
   "metadata": {},
   "source": [
    "## convert Pandas DataFrame to numpy object"
   ]
  },
  {
   "cell_type": "code",
   "execution_count": 10,
   "metadata": {},
   "outputs": [
    {
     "data": {
      "text/plain": [
       "array([[ 2.81033333e-05, -2.37219784e-03,  8.30269244e-04, ...,\n",
       "         3.30000000e+01, -4.95000000e+02,  0.00000000e+00],\n",
       "       [ 3.09396667e+00, -3.66304313e-04,  1.31438606e-03, ...,\n",
       "         4.90000000e+01,  3.48000000e+02,  0.00000000e+00],\n",
       "       [ 2.99150000e-01,  1.50426208e-03,  1.50426208e-03, ...,\n",
       "         1.00000000e+00,  5.80000000e+02,  0.00000000e+00],\n",
       "       ...,\n",
       "       [ 1.61766667e+01, -2.06058108e-04,  2.88481352e-03, ...,\n",
       "         1.00000000e+00, -3.64000000e+02,  0.00000000e+00],\n",
       "       [ 4.90831667e+00,  9.86421007e-03,  1.53650776e-02, ...,\n",
       "         1.70000000e+01, -4.39000000e+02,  0.00000000e+00],\n",
       "       [ 1.97813333e+00, -1.65138851e-03, -1.24696684e-03, ...,\n",
       "         3.70000000e+01, -6.59000000e+02,  1.00000000e+00]])"
      ]
     },
     "execution_count": 10,
     "metadata": {},
     "output_type": "execute_result"
    }
   ],
   "source": [
    "\n",
    "dt = df.to_numpy()\n",
    "dt\n"
   ]
  },
  {
   "cell_type": "code",
   "execution_count": null,
   "metadata": {},
   "outputs": [],
   "source": [
    "#del(df)"
   ]
  },
  {
   "cell_type": "code",
   "execution_count": 11,
   "metadata": {},
   "outputs": [
    {
     "data": {
      "text/plain": [
       "(758677, 1207)"
      ]
     },
     "execution_count": 11,
     "metadata": {},
     "output_type": "execute_result"
    }
   ],
   "source": [
    "dt.shape"
   ]
  },
  {
   "cell_type": "code",
   "execution_count": 12,
   "metadata": {},
   "outputs": [
    {
     "data": {
      "text/plain": [
       "0.0"
      ]
     },
     "execution_count": 12,
     "metadata": {},
     "output_type": "execute_result"
    }
   ],
   "source": [
    "dt[3927,-1]"
   ]
  },
  {
   "cell_type": "markdown",
   "metadata": {},
   "source": [
    "### Shuffle the rows Again"
   ]
  },
  {
   "cell_type": "code",
   "execution_count": null,
   "metadata": {},
   "outputs": [],
   "source": [
    "#np.random.shuffle(dt)"
   ]
  },
  {
   "cell_type": "code",
   "execution_count": null,
   "metadata": {},
   "outputs": [],
   "source": [
    "#sys.getsizeof(dt)/(1024**2)"
   ]
  },
  {
   "cell_type": "code",
   "execution_count": null,
   "metadata": {},
   "outputs": [],
   "source": [
    "#np.savetxt('np_shuffled_cryptodata_w15.csv', dt ,delimiter=',')\n",
    "\n"
   ]
  },
  {
   "cell_type": "code",
   "execution_count": null,
   "metadata": {},
   "outputs": [],
   "source": [
    "#dt=np.genfromtxt('np_shuffled_cryptodata_w15.csv', delimiter=',')"
   ]
  },
  {
   "cell_type": "code",
   "execution_count": 13,
   "metadata": {},
   "outputs": [
    {
     "name": "stdout",
     "output_type": "stream",
     "text": [
      "303470\n"
     ]
    }
   ],
   "source": [
    "index_20percent= int(0.4*len(dt[:,0]))\n",
    "print(index_20percent)"
   ]
  },
  {
   "cell_type": "code",
   "execution_count": 14,
   "metadata": {},
   "outputs": [],
   "source": [
    "XVALIDATION= dt[:index_20percent, :-1]\n",
    "YVALIDATION= dt[:index_20percent,-1]\n"
   ]
  },
  {
   "cell_type": "code",
   "execution_count": 15,
   "metadata": {},
   "outputs": [],
   "source": [
    "XTRAIN= dt[index_20percent:, 0:-1]\n",
    "YTRAIN= dt[index_20percent:,-1]"
   ]
  },
  {
   "cell_type": "markdown",
   "metadata": {},
   "source": [
    "## Normalization"
   ]
  },
  {
   "cell_type": "code",
   "execution_count": 16,
   "metadata": {},
   "outputs": [
    {
     "data": {
      "image/png": "[encoded data removed]",
      "text/plain": [
       "<Figure size 640x480 with 1 Axes>"
      ]
     },
     "metadata": {},
     "output_type": "display_data"
    }
   ],
   "source": [
    "plt.hist(XTRAIN[:,0])\n",
    "plt.ylabel(\"open_1min\")\n",
    "plt.show()"
   ]
  },
  {
   "cell_type": "code",
   "execution_count": 17,
   "metadata": {},
   "outputs": [
    {
     "data": {
      "image/png": "[encoded data removed]",
      "text/plain": [
       "<Figure size 640x480 with 1 Axes>"
      ]
     },
     "metadata": {},
     "output_type": "display_data"
    },
    {
     "data": {
      "image/png": "[encoded data removed]",
      "text/plain": [
       "<Figure size 640x480 with 1 Axes>"
      ]
     },
     "metadata": {},
     "output_type": "display_data"
    }
   ],
   "source": [
    "plt.hist(YTRAIN)\n",
    "plt.ylabel(\"Output labels\")\n",
    "plt.show()\n",
    "\n",
    "plt.hist(YVALIDATION)\n",
    "plt.ylabel(\"Output labels\")\n",
    "plt.show()"
   ]
  },
  {
   "cell_type": "code",
   "execution_count": null,
   "metadata": {},
   "outputs": [],
   "source": [
    "import gc\n",
    "gc.collect()"
   ]
  },
  {
   "cell_type": "markdown",
   "metadata": {},
   "source": [
    "Tenderalization (mean normalization)"
   ]
  },
  {
   "cell_type": "code",
   "execution_count": null,
   "metadata": {},
   "outputs": [],
   "source": [
    "Normalization=None\n",
    "def normalize(dataset,file=Normalization_File):\n",
    "    global Normalization\n",
    "    try:\n",
    "        N=Normalization\n",
    "    except:\n",
    "        Normalization=None\n",
    "    if(Normalization==None):\n",
    "        #print('Loading normalization from file')\n",
    "        with open(file) as json_file:\n",
    "            Normalization = json.load(json_file)\n",
    "    else:\n",
    "        #print('normalization is loaded')\n",
    "        pass\n",
    "\n",
    "    mean=np.array(Normalization[\"mean\"])\n",
    "    std=np.array(Normalization[\"std\"])\n",
    "    dataset -= mean \n",
    "    dataset /= std\n",
    "    return(dataset)"
   ]
  },
  {
   "cell_type": "code",
   "execution_count": null,
   "metadata": {},
   "outputs": [],
   "source": [
    "# Normalization\n",
    "# with open('w15_NoVol_Normalization.json') as json_file:\n",
    "#             Normalization = json.load(json_file)\n",
    "# np.array(Normalization[\"mean\"])\n",
    "# mean=np.array(Normalization[\"mean\"])\n"
   ]
  },
  {
   "cell_type": "code",
   "execution_count": null,
   "metadata": {},
   "outputs": [],
   "source": [
    "# mean=np.array(Normalization[\"mean\"])\n",
    "# std=np.array(Normalization[\"std\"])\n"
   ]
  },
  {
   "cell_type": "code",
   "execution_count": null,
   "metadata": {},
   "outputs": [],
   "source": [
    "#std.shape"
   ]
  },
  {
   "cell_type": "code",
   "execution_count": null,
   "metadata": {},
   "outputs": [],
   "source": [
    "del(df)\n",
    "gc.collect()\n",
    "\n",
    "mean = XTRAIN.mean(axis=0)\n",
    "std = XTRAIN.std(axis=0)\n",
    "\n",
    "\n",
    "\n",
    "XTRAIN -= mean \n",
    "XTRAIN /= std\n",
    "\n",
    "XVALIDATION -=mean\n",
    "XVALIDATION /= std\n",
    "\n"
   ]
  },
  {
   "cell_type": "code",
   "execution_count": null,
   "metadata": {},
   "outputs": [],
   "source": [
    "\n",
    "try:\n",
    "    Normalization={\"mean\":mean.tolist(),\"std\":std.tolist()}\n",
    "    with open(Normalization_File, 'w+') as fp:\n",
    "                json.dump(Normalization, fp,  indent=4)\n",
    "except:\n",
    "    print(\"error juppiter\")"
   ]
  },
  {
   "cell_type": "code",
   "execution_count": null,
   "metadata": {},
   "outputs": [],
   "source": [
    "plt.hist(XTRAIN[:,0])\n",
    "plt.ylabel(\"open column\")\n",
    "plt.show()"
   ]
  },
  {
   "cell_type": "code",
   "execution_count": null,
   "metadata": {},
   "outputs": [],
   "source": [
    "print(XTRAIN.shape)\n",
    "print(YTRAIN.shape)\n",
    "print(XVALIDATION.shape)\n",
    "print(YVALIDATION.shape)"
   ]
  },
  {
   "cell_type": "markdown",
   "metadata": {},
   "source": [
    "# Neural network model"
   ]
  },
  {
   "cell_type": "markdown",
   "metadata": {},
   "source": [
    "### Model Generator"
   ]
  },
  {
   "cell_type": "code",
   "execution_count": null,
   "metadata": {
    "id": "5SKqJygzA6X7"
   },
   "outputs": [],
   "source": [
    "IN_DIM=len(XTRAIN[0,:])\n",
    "\n",
    "#code genrator\n",
    "global All_Hist\n",
    "try:\n",
    "    with open('Results_history.json') as json_file:\n",
    "        All_Hist = json.load(json_file)\n",
    "except:\n",
    "    All_Hist={}\n",
    "\n",
    "try:\n",
    "    All_Hist.pop('1e-06')\n",
    "except:\n",
    "    print(All_Hist)\n"
   ]
  },
  {
   "cell_type": "code",
   "execution_count": null,
   "metadata": {},
   "outputs": [],
   "source": [
    "\n",
    "\n",
    "def auto_code_gen():\n",
    "    NumLayer=random.randint(1, 5)\n",
    "    InpLay=int(random.randint(1, max(2,int(NumLayer/random.randint(3,NumLayer+4)+4))))\n",
    "    act_func=['tanh','relu','sigmoid','softmax','softplus']\n",
    "    dropout_val=[0.2,0.3,0.4,0.5,0.6,0.7]\n",
    "    decreaser=1\n",
    "    IN_DIM=len(XTRAIN[0,:])\n",
    "    code=\"model.add(Dense(int(IN_DIM/\"+str(InpLay)+\"),input_dim=IN_DIM,activation=\\'\"+random.choice(act_func)+\"\\'))\\n\"\n",
    "    for i in range(0,NumLayer):\n",
    "        code+='model.add(Dense(int(IN_DIM/'+str(random.randint(1,max(2,(i+1)*2)+1))+'),activation=\\''+random.choice(act_func)+'\\'))\\n'\n",
    "        if random.choice([True,False]):\n",
    "            code+='model.add(Dropout('+str(random.choice(dropout_val))+'))\\n'\n",
    "    code+='model.add(Dense(1,activation=\\'sigmoid\\'))'\n",
    "    return code\n",
    "\n",
    "def model_tester(max_tests=500): \n",
    "    code=\"\"\n",
    "    for c in range(1,max_tests+1):\n",
    "        model = Sequential()\n",
    "        if code  in All_Hist.values(): break\n",
    "        code=auto_code_gen()\n",
    "        exec(code)\n",
    "        print(model.summary())\n",
    "        #model.compile(loss='binary_crossentropy',optimizer='rmsprop',metrics=['accuracy'])\n",
    "        model.compile(loss='binary_crossentropy',optimizer='adam',metrics=['accuracy'])\n",
    "        callbacks_a = ModelCheckpoint(filepath ='X004_w15_cryptoAi_model.hdf5',monitor ='val_accuracy',save_best_only = True, save_weights = True)\n",
    "        callbacks_b = EarlyStopping(monitor ='val_accuracy',mode='auto',patience=20,verbose=1)\n",
    "        history = model.fit(XTRAIN,\n",
    "                        YTRAIN,\n",
    "                        validation_data=(XVALIDATION,YVALIDATION),\n",
    "                        epochs=1200,\n",
    "                        batch_size=5000,\n",
    "                        callbacks=[callbacks_a,callbacks_b])\n",
    "\n",
    "        print('##########################################################################')\n",
    "        print(f\"------val_accuracy-----> {'{0:.4g}'.format(max(history.history['val_accuracy'])*100)} | {'{0:.4g}'.format(max(history.history['accuracy'])*100)} <----------accuracy----------\")\n",
    "        All_Hist[max(history.history['val_accuracy'])]=code\n",
    "        with open('Results_history.json', 'w') as fp:\n",
    "            json.dump(All_Hist, fp,  indent=4)\n",
    "\n",
    "\n",
    "#model_tester(max_tests=500)"
   ]
  },
  {
   "cell_type": "markdown",
   "metadata": {},
   "source": [
    "The neural network architecture:\n",
    "- layer 1 : 764 neurons\n",
    "- layer 2 : 8 neurons\n",
    "- layer 3 : neurons "
   ]
  },
  {
   "cell_type": "markdown",
   "metadata": {},
   "source": [
    "## Model Test"
   ]
  },
  {
   "cell_type": "markdown",
   "metadata": {},
   "source": [
    "## Compile the model "
   ]
  },
  {
   "cell_type": "code",
   "execution_count": null,
   "metadata": {},
   "outputs": [],
   "source": [
    "model = Sequential()\n",
    "model = Sequential()\n",
    "model.add(Dense(int(IN_DIM/2),input_dim=IN_DIM,activation='relu'))\n",
    "model.add(Dropout(0.3))\n",
    "model.add(Dense(int(IN_DIM/6),activation='relu'))\n",
    "model.add(Dropout(0.7))\n",
    "model.add(Dense(int(IN_DIM/12),activation='relu'))\n",
    "model.add(Dropout(0.7))\n",
    "model.add(Dense(1,activation='sigmoid'))\n",
    "print(model.summary())\n",
    "model.compile(loss='binary_crossentropy',optimizer='rmsprop',metrics=['accuracy'])\n",
    "#model.compile(loss='binary_crossentropy',optimizer='adam',metrics=['accuracy'])\n",
    "callbacks_a = ModelCheckpoint(filepath=Model_FileName,monitor ='val_accuracy',save_best_only = True, save_weights = True)\n",
    "callbacks_b = EarlyStopping(monitor ='val_accuracy',mode='auto',patience=20,verbose=1)\n",
    "history = model.fit(XTRAIN,\n",
    "                YTRAIN,\n",
    "                validation_data=(XVALIDATION,YVALIDATION),\n",
    "                epochs=1200,\n",
    "                batch_size=5000,\n",
    "                callbacks=[callbacks_a,callbacks_b])\n",
    "\n",
    "print('##########################################################################')\n",
    "print(f\"------val_accuracy-----> {'{0:.4g}'.format(max(history.history['val_accuracy'])*100)} | {'{0:.4g}'.format(max(history.history['accuracy'])*100)} <----------accuracy----------\")\n"
   ]
  },
  {
   "cell_type": "code",
   "execution_count": null,
   "metadata": {},
   "outputs": [],
   "source": [
    "accuracy = model.evaluate(dt[:,:-1], dt[:,-1])\n"
   ]
  },
  {
   "cell_type": "markdown",
   "metadata": {},
   "source": [
    "### Use the model"
   ]
  },
  {
   "cell_type": "code",
   "execution_count": null,
   "metadata": {},
   "outputs": [],
   "source": [
    "\n",
    "# make probability predictions with the model\n",
    "predictions = model.predict(XVALIDATION)\n",
    "# round predictions \n",
    "rounded = [round(x[0]) for x in predictions]"
   ]
  },
  {
   "cell_type": "code",
   "execution_count": null,
   "metadata": {},
   "outputs": [],
   "source": [
    "rounded[1002]"
   ]
  },
  {
   "cell_type": "code",
   "execution_count": null,
   "metadata": {},
   "outputs": [],
   "source": [
    "YVALIDATION[1002]"
   ]
  },
  {
   "cell_type": "code",
   "execution_count": null,
   "metadata": {},
   "outputs": [],
   "source": [
    "def Buy_Dessision(input):\n",
    "    predictions = model.predict(XVALIDATION)\n",
    "    rounded = [round(x[0]) for x in predictions]"
   ]
  }
 ],
 "metadata": {
  "kernelspec": {
   "display_name": "Python 3 (ipykernel)",
   "language": "python",
   "name": "python3"
  },
  "orig_nbformat": 4,
  "vscode": {
   "interpreter": {
    "hash": "e7370f93d1d0cde622a1f8e1c04877d8463912d04d973331ad4851f04de6915a"
   }
  }
 },
 "nbformat": 4,
 "nbformat_minor": 2
}
