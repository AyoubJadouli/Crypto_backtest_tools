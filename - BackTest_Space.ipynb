{
 "cells": [
  {
   "cell_type": "code",
   "execution_count": null,
   "metadata": {},
   "outputs": [],
   "source": [
    "import mplfinance as mpf\n",
    "import pandas as pd\n",
    "import numpy as np\n",
    "import tensorflow as tf\n",
    "from keras.models import Sequential\n",
    "from keras.layers import Dense\n",
    "from keras.layers import Dropout\n",
    "from keras.constraints import MaxNorm\n",
    "from keras.optimizers import SGD\n",
    "from keras.callbacks import EarlyStopping, ModelCheckpoint\n",
    "from keras.models import Sequential\n",
    "from keras.layers import Dense \n",
    "from keras.models import load_model\n",
    "import pandas as pd\n",
    "import numpy as np\n",
    "import requests\n",
    "import io\n",
    "import os\n",
    "import datetime\n",
    "from concurrent.futures import ThreadPoolExecutor\n",
    "import json\n",
    "import urllib.request\n",
    "import pandas as pd\n",
    "import ccxt\n",
    "import os\n",
    "import gc\n",
    "from backtest_module import *"
   ]
  },
  {
   "attachments": {},
   "cell_type": "markdown",
   "metadata": {},
   "source": [
    "## Controle Space"
   ]
  },
  {
   "cell_type": "code",
   "execution_count": null,
   "metadata": {},
   "outputs": [],
   "source": [
    "# ai_options\n",
    "Normalization_File= \"False\"\n",
    "Model_FileName= \"/UltimeTradingBot/Data/BUY_FIX/tp80_w7_max3min_Model_true_win_model_Re4.h5\"\n",
    "WINDOW_SIZE= 7\n",
    "PRESSISION=0.0\n",
    "PERIODE_START=\"2023-02-09 00:00:00\"\n",
    "PERIODE_END=\"2023-02-11 00:00:00\"\n",
    "\n",
    "# start_period = datetime.strptime(PERIODE_START, '%d-%m-%Y %H:%M:%S')\n",
    "# end_period = datetime.strptime(PERIODE_END, '%d-%m-%Y %H:%M:%S')\n",
    "start_period = pd.Timestamp(PERIODE_START)\n",
    "end_period = pd.Timestamp(PERIODE_END)\n",
    "\n",
    "\n",
    "#trading_options:\n",
    "TAKE_PROFIT= 0.4  \n",
    "STOP_LOSS=  0.8 \n",
    "MAX_HOLDING_TIME= 16\n",
    "PRECISION = 0.0\n",
    "\n",
    "USE_TRAILING_STOP_LOSS: False\n",
    "TRAILING_STOP_LOSS= .002     \n",
    "TRAILING_TAKE_PROFIT= .002  \n",
    "\n",
    "PAIR_WITH= \"USDT\"\n",
    "TRADE_TOTAL= 100 \n",
    "TRADE_SLOTS= 5\n",
    "\n",
    "TRADING_FEE= 0.1\n",
    "  "
   ]
  },
  {
   "attachments": {},
   "cell_type": "markdown",
   "metadata": {},
   "source": [
    "## Data space"
   ]
  },
  {
   "cell_type": "code",
   "execution_count": null,
   "metadata": {},
   "outputs": [],
   "source": [
    "#################### Files #################\n",
    "\n",
    "DATABASE_DIR=\"./database\"\n",
    "INFO_DIR=f\"{DATABASE_DIR}/Info\"\n",
    "ALL_BINANCE_TICKERS_LISTFILE=f\"{INFO_DIR}/ALL_BINANCE_TICKERS_LISTFILE.json\"\n",
    "ONLY_MY_HALAL_LIST_FILE=f\"{INFO_DIR}/ONLY_MY_HALAL_LIST.json\"\n",
    "halal_list_file_path=f\"{INFO_DIR}/halal-crypto-list.txt\"\n",
    "BINANCE_KLINES_DATA_DIR=f\"{DATABASE_DIR}/OpenBinance/KLINES\"\n",
    "BINANCE_TRADES_DATA_DIR=f\"{DATABASE_DIR}/OpenBinance/Trades\"\n",
    "METADATA_FILE=f\"{INFO_DIR}/METADATA.csv\"\n",
    "COINGEKO_INFO_FILE=f\"{INFO_DIR}/COINGEKO_INFO_FILE.csv\"\n",
    "########### data info ################\n"
   ]
  },
  {
   "cell_type": "code",
   "execution_count": null,
   "metadata": {},
   "outputs": [],
   "source": [
    "ALL_BINANCE_TICKERS=get_all_binance_tickers()\n",
    "ALL_USDT_BUSD_PAIRS=extract_pairs(ALL_BINANCE_TICKERS)\n",
    "WORKING_PAIRS,VOLATILE_USDT_PAIRS ,VOLATILE_BUSD_PAIRS=get_my_halal_list(halal_file=halal_list_file_path)\n",
    "MY_HALA_DIC=get_my_halal_list(halal_file=halal_list_file_path)\n",
    "ALL_CIBLED_COINS = list(set([symbol.split('/')[0].lower() for symbol in ALL_USDT_BUSD_PAIRS] ))\n"
   ]
  },
  {
   "cell_type": "code",
   "execution_count": 21,
   "metadata": {},
   "outputs": [
    {
     "name": "stdout",
     "output_type": "stream",
     "text": [
      "STMXUSDT launched 1591844400000\n",
      "MBLUSDT launched 1582293600000\n",
      "AXSUSDT launched 1604494800000\n",
      "ASTRUSDT launched 1646047800000\n",
      "ADXUSDT launched 1635501600000\n",
      "EPSUSDT launched 1617354000000\n",
      "SNXUSDT launched 1594296000000\n",
      "MTLUSDT launched 1566554400000\n",
      "ZRXUSDT launched 1551326400000\n",
      "ELFUSDT launched 1631088000000\n",
      "NEARUSDT launched 1602651600000\n",
      "ENSUSDT launched 1636527600000\n",
      "SCRTUSDT launched 1642766400000\n",
      "NMRUSDT launched 1597838400000\n",
      "SKLUSDT launched 1606784400000\n",
      "GRTUSDT launched 1608237000000\n",
      "MOBUSDT launched 1651226400000\n",
      "DNTUSDT launched 1604988000000\n",
      "QUICKUSDT launched 1628856000000\n",
      "SLPUSDT launched 1619784000000\n",
      "PORTOUSDT launched 1637064000000\n",
      "TOMOUSDT launched 1566651600000\n",
      "ZECUSDT launched 1553140800000\n",
      "MULTIUSDT launched 1649217600000\n",
      "FLUXUSDT launched 1639116000000\n",
      "PYRUSDT launched 1637913600000\n",
      "GALUSDT launched 1651752000000\n",
      "SRMUSDT launched 1597152600000\n",
      "FIROUSDT launched 1611885600000\n",
      "LTCBUSD launched 1571644800000\n",
      "ARBUSD launched 1620993600000\n",
      "SNMBUSD launched 1661500800000\n",
      "OPBUSD launched 1654070400000\n",
      "TRIBEBUSD launched 1629784800000\n",
      "TVKBUSD launched 1614330000000\n",
      "NULSBUSD launched 1640336400000\n",
      "SCBUSD launched 1624010400000\n",
      "DASHBUSD launched 1581408000000\n",
      "DOTBUSD launched 1597791600000\n",
      "JSTBUSD launched 1597125600000\n",
      "ETCBUSD launched 1571644800000\n",
      "FIDABUSD launched 1633003200000\n",
      "GALABUSD launched 1631512800000\n",
      "ICPBUSD launched 1620694800000\n",
      "IDEXBUSD launched 1598079600000\n",
      "IQBUSD launched 1592474400000\n",
      "KP3RBUSD launched 1604404800000\n",
      "LPTBUSD launched 1622178000000\n",
      "MANABUSD launched 1596085200000\n",
      "MBOXBUSD launched 1629360000000\n",
      "LUNABUSD launched 1597831200000\n",
      "USTBUSD launched 1640332800000\n",
      "QTUMBUSD launched 1575619200000\n",
      "RADBUSD launched 1633590000000\n",
      "RVNBUSD launched 1581667200000\n",
      "SHIBBUSD launched 1620644400000\n",
      "SOLBUSD launched 1586491200000\n",
      "SYSBUSD launched 1606222800000\n",
      "TBUSD launched 1645761600000\n",
      "TORNBUSD launched 1623391200000\n",
      "YGGBUSD launched 1632463200000\n",
      "ADABUSD launched 1574308800000\n",
      "ALICEBUSD launched 1615788000000\n",
      "ALGOBUSD launched 1582801200000\n",
      "API3BUSD launched 1642761000000\n",
      "MLNBUSD launched 1625464800000\n",
      "PSGBUSD launched 1608530400000\n",
      "ORNBUSD launched 1628856000000\n",
      "ROSEBUSD launched 1605772800000\n",
      "GMTBUSD launched 1646827200000\n",
      "DFBUSD launched 1607680800000\n",
      "ATABUSD launched 1623045600000\n",
      "ICXBUSD launched 1580983200000\n",
      "JASMYBUSD launched 1637582400000\n",
      "OMGBUSD launched 1614081600000\n",
      "LSKBUSD launched 1632996000000\n",
      "HIVEBUSD launched 1633687200000\n",
      "BTGBUSD launched 1618556400000\n",
      "CITYBUSD launched 1636531200000\n",
      "RENBUSD launched 1632312000000\n",
      "XECBUSD launched 1628222400000\n",
      "IOTABUSD launched 1596708000000\n",
      "EGLDBUSD launched 1599102000000\n",
      "GHSTBUSD launched 1607405400000\n",
      "STXBUSD launched 1632477600000\n",
      "STORJBUSD launched 1595246400000\n",
      "EOSBUSD launched 1573120980000\n",
      "XLMBUSD launched 1574308800000\n",
      "TRXBUSD launched 1573120980000\n",
      "ONTBUSD launched 1581667200000\n",
      "XMRBUSD launched 1582801200000\n",
      "CKBBUSD launched 1611662400000\n",
      "LAZIOBUSD launched 1636106400000\n",
      "COCOSBUSD launched 1638522000000\n",
      "BARBUSD launched 1619002800000\n",
      "LOKABUSD launched 1642680000000\n",
      "ATMBUSD launched 1622973600000\n",
      "JUVBUSD launched 1608530400000\n",
      "ACMBUSD launched 1614164400000\n",
      "DARBUSD launched 1636012800000\n",
      "VOXELBUSD launched 1639483200000\n",
      "AVAXBUSD launched 1600756200000\n",
      "HIGHBUSD launched 1639724400000\n",
      "XRPBUSD launched 1571644800000\n",
      "GLMRBUSD launched 1641916800000\n",
      "OGNBUSD launched 1630663200000\n",
      "KDABUSD launched 1646998200000\n",
      "APEBUSD launched 1647527400000\n",
      "BADGERBUSD launched 1614672000000\n",
      "PLABUSD launched 1637647200000\n",
      "XNOBUSD launched 1643356800000\n",
      "DOGEBUSD launched 1596085200000\n",
      "WAVESBUSD launched 1581408000000\n",
      "ZILBUSD launched 1590134400000\n",
      "STMXBUSD launched 1624010400000\n",
      "MBLBUSD launched 1651230000000\n",
      "AXSBUSD launched 1604494800000\n",
      "ASTRBUSD launched 1646047800000\n",
      "ADXBUSD launched 1627034400000\n",
      "EPSBUSD launched 1617354000000\n",
      "SNXBUSD launched 1594296000000\n",
      "MTLBUSD launched 1630663200000\n",
      "ZRXBUSD launched 1596085200000\n",
      "ELFBUSD launched 1631174400000\n",
      "NEARBUSD launched 1602651600000\n",
      "ENSBUSD launched 1636527600000\n",
      "SCRTBUSD launched 1634896800000\n",
      "NMRBUSD launched 1597665720000\n",
      "SKLBUSD launched 1606784400000\n",
      "GRTBUSD launched 1614081600000\n",
      "MOBBUSD launched 1651226400000\n",
      "DNTBUSD launched 1604988000000\n",
      "QUICKBUSD launched 1627027200000\n",
      "SLPBUSD launched 1619784000000\n",
      "PORTOBUSD launched 1650621600000\n",
      "TOMOBUSD launched 1582801200000\n",
      "ZECBUSD launched 1582801200000\n",
      "MULTIBUSD launched 1649217600000\n",
      "FLUXBUSD launched 1639116000000\n",
      "PYRBUSD launched 1637913600000\n",
      "GALBUSD launched 1651752000000\n",
      "SRMBUSD launched 1597152600000\n",
      "FIROBUSD launched 1655460000000\n",
      "SNMBUSD launched 1661500800000\n"
     ]
    }
   ],
   "source": [
    "MetaData=read_metadata(WORKING_PAIRS)"
   ]
  },
  {
   "cell_type": "code",
   "execution_count": 28,
   "metadata": {},
   "outputs": [],
   "source": [
    "from lightfn_module import *\n",
    "def get_backtest_historical(exchange, symbol, timeframe, path=\"database/\"):\n",
    "    symbol = symbol.replace('/','-')\n",
    "    df = pd.read_csv(filepath_or_buffer=path+\"DataBackTest\"+\"/\"+timeframe+\"/\"+symbol+\".csv\")\n",
    "    df = df.set_index(df['date'])\n",
    "    df.index = pd.to_datetime(df.index, unit='ms')\n",
    "    del df['date']\n",
    "    return df\n"
   ]
  },
  {
   "cell_type": "code",
   "execution_count": 43,
   "metadata": {},
   "outputs": [
    {
     "name": "stdout",
     "output_type": "stream",
     "text": [
      " error on BTG/USDT : [Errno 2] No such file or directory: './database/DataBackTest/1m/BTG-USDT.csv' \n",
      " error on EPS/USDT : [Errno 2] No such file or directory: './database/DataBackTest/1m/EPS-USDT.csv' \n",
      " error on DNT/USDT : [Errno 2] No such file or directory: './database/DataBackTest/1m/DNT-USDT.csv' \n",
      " error on UST/BUSD : [Errno 2] No such file or directory: './database/DataBackTest/1m/UST-BUSD.csv' \n",
      " error on BTG/BUSD : [Errno 2] No such file or directory: './database/DataBackTest/1m/BTG-BUSD.csv' \n",
      " error on EPS/BUSD : [Errno 2] No such file or directory: './database/DataBackTest/1m/EPS-BUSD.csv' \n",
      " error on DNT/BUSD : [Errno 2] No such file or directory: './database/DataBackTest/1m/DNT-BUSD.csv' \n",
      "Data load 100% use dataframes['1d']['BTC/USDT'] for example to access\n"
     ]
    }
   ],
   "source": [
    "import gc\n",
    "from collections import defaultdict\n",
    "from functools import partial\n",
    "import ccxt\n",
    "\n",
    "def get_historical_dataframes(working_pairs, oldest_pair=\"BTC/USDT\", timeframes=(\"1m\", \"1d\", \"1h\", \"5m\", \"15m\"), path=\"./database/\"):\n",
    "    if oldest_pair not in working_pairs:\n",
    "        working_pairs.append(oldest_pair)\n",
    "    \n",
    "    error_list = []\n",
    "    dataframes = defaultdict(dict)\n",
    "\n",
    "    binance = ccxt.binance()\n",
    "    get_backtest_historical_partial = partial(get_backtest_historical, binance, path=path)\n",
    "\n",
    "    for pair in working_pairs:\n",
    "        for tf in timeframes:\n",
    "            try:\n",
    "                df = get_backtest_historical_partial(pair, tf)\n",
    "                dataframes[tf][pair] = df.loc[:]\n",
    "                del(df)\n",
    "            except Exception as e:\n",
    "                print(f\" error on {pair} : {e} \")\n",
    "                error_list.append(pair)\n",
    "                break\n",
    "\n",
    "    gc.collect()\n",
    "    print(\"Data load 100% use dataframes['1d']['BTC/USDT'] for example to access\")\n",
    "    return dataframes, error_list\n",
    "\n",
    "dataframes, error_list = get_historical_dataframes(WORKING_PAIRS)\n"
   ]
  },
  {
   "cell_type": "code",
   "execution_count": 31,
   "metadata": {},
   "outputs": [
    {
     "name": "stdout",
     "output_type": "stream",
     "text": [
      " error on UST/USDT : [Errno 2] No such file or directory: './database/DataBackTest/1m/UST-USDT.csv' \n",
      " error on BTG/USDT : [Errno 2] No such file or directory: './database/DataBackTest/1m/BTG-USDT.csv' \n",
      " error on EPS/USDT : [Errno 2] No such file or directory: './database/DataBackTest/1m/EPS-USDT.csv' \n",
      " error on DNT/USDT : [Errno 2] No such file or directory: './database/DataBackTest/1m/DNT-USDT.csv' \n",
      " error on UST/BUSD : [Errno 2] No such file or directory: './database/DataBackTest/1m/UST-BUSD.csv' \n",
      " error on BTG/BUSD : [Errno 2] No such file or directory: './database/DataBackTest/1m/BTG-BUSD.csv' \n",
      " error on EPS/BUSD : [Errno 2] No such file or directory: './database/DataBackTest/1m/EPS-BUSD.csv' \n",
      " error on DNT/BUSD : [Errno 2] No such file or directory: './database/DataBackTest/1m/DNT-BUSD.csv' \n"
     ]
    },
    {
     "ename": "NameError",
     "evalue": "name 'prerr' is not defined",
     "output_type": "error",
     "traceback": [
      "\u001b[0;31m---------------------------------------------------------------------------\u001b[0m",
      "\u001b[0;31mNameError\u001b[0m                                 Traceback (most recent call last)",
      "\u001b[1;32m/UltimeTradingBot/Crypto_backtest_tools/- BackTest_Space.ipynb Cell 9\u001b[0m in \u001b[0;36m3\n\u001b[1;32m     <a href='vscode-notebook-cell://ssh-remote%2Bpyhome/UltimeTradingBot/Crypto_backtest_tools/-%20BackTest_Space.ipynb#X12sdnNjb2RlLXJlbW90ZQ%3D%3D?line=32'>33</a>\u001b[0m         ERROR_LIST\u001b[39m.\u001b[39mappend(pair)\n\u001b[1;32m     <a href='vscode-notebook-cell://ssh-remote%2Bpyhome/UltimeTradingBot/Crypto_backtest_tools/-%20BackTest_Space.ipynb#X12sdnNjb2RlLXJlbW90ZQ%3D%3D?line=34'>35</a>\u001b[0m df_list \u001b[39m=\u001b[39m df_list1m\n\u001b[0;32m---> <a href='vscode-notebook-cell://ssh-remote%2Bpyhome/UltimeTradingBot/Crypto_backtest_tools/-%20BackTest_Space.ipynb#X12sdnNjb2RlLXJlbW90ZQ%3D%3D?line=35'>36</a>\u001b[0m prerr(\u001b[39m\"\u001b[39m\u001b[39mData load 100\u001b[39m\u001b[39m% u\u001b[39;00m\u001b[39mse df_list1d[\u001b[39m\u001b[39m\\\"\u001b[39;00m\u001b[39mBTC/USDT\u001b[39m\u001b[39m\\\"\u001b[39;00m\u001b[39m] for exemple to access\u001b[39m\u001b[39m\"\u001b[39m)\n",
      "\u001b[0;31mNameError\u001b[0m: name 'prerr' is not defined"
     ]
    }
   ],
   "source": [
    "pair_list = WORKING_PAIRS\n",
    "#tf = '1m'\n",
    "oldest_pair = \"BTC/USDT\"\n",
    "if oldest_pair not in pair_list: pair_list.append(oldest_pair)\n",
    "df_list1m = {}\n",
    "df_list1d = {}\n",
    "df_list1h = {}\n",
    "df_list5m = {}\n",
    "df_list15m = {}\n",
    "\n",
    "ERROR_LIST=[]\n",
    "for pair in pair_list:\n",
    "    try:\n",
    "        df = get_backtest_historical(ccxt.binance(), pair, '1m', path=\"./database/\")\n",
    "        df_list1m[pair] = df.loc[:]\n",
    "\n",
    "        df = get_backtest_historical(ccxt.binance(), pair, '1d', path=\"./database/\")\n",
    "        df_list1d[pair] = df.loc[:]\n",
    "\n",
    "        df = get_backtest_historical(ccxt.binance(), pair, '1h', path=\"./database/\")\n",
    "        df_list1h[pair] = df.loc[:]\n",
    "\n",
    "        df = get_backtest_historical(ccxt.binance(), pair, '5m', path=\"./database/\")\n",
    "        df_list5m[pair] = df.loc[:]\n",
    "\n",
    "        df = get_backtest_historical(\n",
    "            ccxt.binance(), pair, '15m', path=\"./database/\")\n",
    "        df_list15m[pair] = df.loc[:]\n",
    "        del(df)\n",
    "        gc.collect()\n",
    "    except Exception as e:\n",
    "        print(f\" error on {pair} : {e} \")\n",
    "        ERROR_LIST.append(pair)\n",
    "\n",
    "df_list = df_list1m\n",
    "print(\"Data load 100% use df_list1d[\\\"BTC/USDT\\\"] for exemple to access\")\n",
    "\n"
   ]
  },
  {
   "cell_type": "code",
   "execution_count": 41,
   "metadata": {},
   "outputs": [
    {
     "data": {
      "text/plain": [
       "['UST/USDT',\n",
       " 'BTG/USDT',\n",
       " 'EPS/USDT',\n",
       " 'DNT/USDT',\n",
       " 'UST/BUSD',\n",
       " 'BTG/BUSD',\n",
       " 'EPS/BUSD',\n",
       " 'DNT/BUSD']"
      ]
     },
     "execution_count": 41,
     "metadata": {},
     "output_type": "execute_result"
    }
   ],
   "source": [
    "ERROR_LIST"
   ]
  },
  {
   "cell_type": "code",
   "execution_count": 44,
   "metadata": {},
   "outputs": [
    {
     "name": "stdout",
     "output_type": "stream",
     "text": [
      "Memory usage: 4357.03 MB\n"
     ]
    }
   ],
   "source": [
    "#!pip install psutil  # install psutil package if not already installed\n",
    "\n",
    "import psutil\n",
    "\n",
    "# Get the memory usage of the Jupyter Notebook process\n",
    "process = psutil.Process()\n",
    "memory_info = process.memory_info()\n",
    "\n",
    "# Print the memory usage in MB\n",
    "print(f\"Memory usage: {memory_info.rss / 1024 / 1024:.2f} MB\")\n"
   ]
  },
  {
   "cell_type": "code",
   "execution_count": 47,
   "metadata": {},
   "outputs": [
    {
     "name": "stdout",
     "output_type": "stream",
     "text": [
      "Minimum start date: 2022-11-11 00:00:00\n",
      "Maximum end date: 2023-02-22 05:18:00\n"
     ]
    }
   ],
   "source": [
    "def get_min_max_dates(dataframes):\n",
    "    min_start_date = None\n",
    "    max_end_date = None\n",
    "\n",
    "    for tf, df_dict in dataframes.items():\n",
    "        for pair, df in df_dict.items():\n",
    "            start_date = df.index.min()\n",
    "            end_date = df.index.max()\n",
    "\n",
    "            if min_start_date is None or start_date < min_start_date:\n",
    "                min_start_date = start_date\n",
    "\n",
    "            if max_end_date is None or end_date > max_end_date:\n",
    "                max_end_date = end_date\n",
    "\n",
    "    return min_start_date, max_end_date\n",
    "\n",
    "min_start_date, max_end_date = get_min_max_dates(dataframes)\n",
    "print(f\"Minimum start date: {min_start_date}\")\n",
    "print(f\"Maximum end date: {max_end_date}\")\n"
   ]
  },
  {
   "cell_type": "code",
   "execution_count": 46,
   "metadata": {},
   "outputs": [
    {
     "name": "stdout",
     "output_type": "stream",
     "text": [
      "Maximum start date: 2022-11-11 00:00:00\n",
      "Minimum end date: 2022-11-28 00:00:00\n"
     ]
    }
   ],
   "source": [
    "def get_max_min_dates(dataframes):\n",
    "    max_start_date = None\n",
    "    min_end_date = None\n",
    "\n",
    "    for tf, df_dict in dataframes.items():\n",
    "        for pair, df in df_dict.items():\n",
    "            start_date = df.index.min()\n",
    "            end_date = df.index.max()\n",
    "\n",
    "            if max_start_date is None or start_date > max_start_date:\n",
    "                max_start_date = start_date\n",
    "\n",
    "            if min_end_date is None or end_date < min_end_date:\n",
    "                min_end_date = end_date\n",
    "\n",
    "    return max_start_date, min_end_date\n",
    "\n",
    "max_start_date, min_end_date = get_max_min_dates(dataframes)\n",
    "print(f\"Maximum start date: {max_start_date}\")\n",
    "print(f\"Minimum end date: {min_end_date}\")\n"
   ]
  },
  {
   "cell_type": "code",
   "execution_count": 49,
   "metadata": {},
   "outputs": [],
   "source": [
    "start_period=max_start_date\n",
    "end_period=min_end_date"
   ]
  }
 ],
 "metadata": {
  "kernelspec": {
   "display_name": "Python 3",
   "language": "python",
   "name": "python3"
  },
  "language_info": {
   "codemirror_mode": {
    "name": "ipython",
    "version": 3
   },
   "file_extension": ".py",
   "mimetype": "text/x-python",
   "name": "python",
   "nbconvert_exporter": "python",
   "pygments_lexer": "ipython3",
   "version": "3.9.2"
  },
  "orig_nbformat": 4
 },
 "nbformat": 4,
 "nbformat_minor": 2
}
