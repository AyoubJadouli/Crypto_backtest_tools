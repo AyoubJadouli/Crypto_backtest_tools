{
 "cells": [
  {
   "cell_type": "markdown",
   "metadata": {},
   "source": [
    "# Final Model Prediction"
   ]
  },
  {
   "cell_type": "code",
   "execution_count": 44,
   "metadata": {
    "vscode": {
     "languageId": "python"
    }
   },
   "outputs": [
    {
     "name": "stdout",
     "output_type": "stream",
     "text": [
      "/UltimeTradingBot/Crypto_backtest_tools\n"
     ]
    }
   ],
   "source": [
    "%cd '/UltimeTradingBot/Crypto_backtest_tools'\n",
    "# Normalization_File='/UltimeTradingBot/Data/w20_004_Noramalization_val.json'\n",
    "# Model_FileName='/UltimeTradingBot/Data/W20_004_Model.hdf5'\n",
    "\n",
    "\n",
    "Normalization_File='w15_NoVol_Normalization.json'\n",
    "Model_FileName='w15_NoVol_XcryptoAi_model.hdf5'\n",
    "WINDOW_SIZE=15\n",
    "window=WINDOW_SIZE\n",
    "MAX_FORCAST_SIZE=7\n",
    "BUY_PERCENT=0.6\n",
    "SELL_PERCENT=2\n",
    "NORM_FILE=Normalization_File\n",
    "MODEL_FILE=Model_FileName\n",
    "ALLHIST_FILE='Results_history.json'\n",
    "DATA_DIR='/UltimeTradingBot/Data/'\n",
    "\n"
   ]
  },
  {
   "cell_type": "code",
   "execution_count": 23,
   "metadata": {
    "vscode": {
     "languageId": "python"
    }
   },
   "outputs": [
    {
     "name": "stdout",
     "output_type": "stream",
     "text": [
      "/UltimeTradingBot/Crypto_backtest_tools\n"
     ]
    }
   ],
   "source": [
    "import sys\n",
    "sys.path.append('/UltimeTradingBot/Crypto_backtest_tools')\n",
    "%cd '/UltimeTradingBot/Crypto_backtest_tools'\n",
    "import pandas as pd\n",
    "import json\n",
    "import time\n",
    "import timeit\n",
    "import numpy as np\n",
    "import urllib\n",
    "#import ccxt\n",
    "import  ccxt  \n",
    "import random\n",
    "from keras.models import load_model\n",
    "import os\n",
    "import asyncio\n",
    "import tensorflow as tf"
   ]
  },
  {
   "cell_type": "markdown",
   "metadata": {},
   "source": [
    "## Garbage collection"
   ]
  },
  {
   "cell_type": "code",
   "execution_count": 24,
   "metadata": {
    "vscode": {
     "languageId": "python"
    }
   },
   "outputs": [],
   "source": [
    "import gc\n",
    "gc.collect()    \n",
    "\n",
    "import warnings\n",
    "warnings.filterwarnings('ignore')\n",
    "PRERR=False\n",
    "def prerr(err):\n",
    "    if PRERR:\n",
    "        print(\"\\033[0;31m Error in \"+str(sys._getframe().f_code.co_name) +\" \\033[0;33m\"+str(err))\n",
    "\n",
    "PDEBUG=True\n",
    "def pdebug(err):\n",
    "    if PDEBUG:\n",
    "        print(\"\\033[0;31m Error in \"+str(sys._getframe().f_code.co_name) +\" \\033[0;33m\"+str(err))"
   ]
  },
  {
   "cell_type": "markdown",
   "metadata": {},
   "source": [
    "## Gloabale variables"
   ]
  },
  {
   "cell_type": "code",
   "execution_count": 25,
   "metadata": {
    "vscode": {
     "languageId": "python"
    }
   },
   "outputs": [],
   "source": [
    "Normalization=None\n",
    "Model_FileName=Model_FileName\n",
    "Normalization_File=Normalization_File\n",
    "Binance_USDT_HALAL = [\n",
    "    \"LUNA/USDT\",\n",
    "    \"ETH/USDT\",\n",
    "    \"GMT/USDT\",\n",
    "    \"UST/USDT\",\n",
    "    \"SOL/USDT\",\n",
    "    \"APE/USDT\",\n",
    "    \"XRP/USDT\",\n",
    "    \"IDEX/USDT\",\n",
    "    \"AVAX/USDT\",\n",
    "    \"DOT/USDT\",\n",
    "    \"ADA/USDT\",\n",
    "    \"JASMY/USDT\",\n",
    "    \"TRX/USDT\",\n",
    "    \"NEAR/USDT\",\n",
    "    \"AXS/USDT\",\n",
    "    \"GAL/USDT\",\n",
    "    \"GALA/USDT\",\n",
    "    \"SHIB/USDT\",\n",
    "    \"ZIL/USDT\",\n",
    "    \"ENS/USDT\",\n",
    "    \"DOGE/USDT\",\n",
    "    \"LTC/USDT\",\n",
    "    \"EUR/USDT\",\n",
    "    \"MANA/USDT\",\n",
    "    \"DAR/USDT\",\n",
    "    \"WAVES/USDT\",\n",
    "    \"LAZIO/USDT\",\n",
    "    \"ALICE/USDT\",\n",
    "    \"ROSE/USDT\",\n",
    "    \"ZEC/USDT\",\n",
    "    \"ALGO/USDT\",\n",
    "    \"GRT/USDT\",\n",
    "    \"PSG/USDT\",\n",
    "    \"SLP/USDT\",\n",
    "    \"EOS/USDT\",\n",
    "    \"PORTO/USDT\",\n",
    "    \"ICP/USDT\",\n",
    "    \"EGLD/USDT\",\n",
    "    \"XMR/USDT\",\n",
    "    \"KDA/USDT\",\n",
    "    \"ETC/USDT\",\n",
    "    \"MBOX/USDT\",\n",
    "    \"OGN/USDT\",\n",
    "    \"AR/USDT\",\n",
    "    \"GLMR/USDT\",\n",
    "    \"LOKA/USDT\",\n",
    "    \"XLM/USDT\",\n",
    "    \"MTL/USDT\",\n",
    "    \"SNX/USDT\",\n",
    "    \"PYR/USDT\",\n",
    "    \"DASH/USDT\",\n",
    "    \"CITY/USDT\",\n",
    "    \"ASTR/USDT\",\n",
    "    \"IOTA/USDT\",\n",
    "    \"ACM/USDT\",\n",
    "    \"BAR/USDT\",\n",
    "    \"JUV/USDT\",\n",
    "    \"SYS/USDT\",\n",
    "    \"RVN/USDT\",\n",
    "    \"MBL/USDT\",\n",
    "    \"REN/USDT\",\n",
    "    \"JST/USDT\",\n",
    "    \"OMG/USDT\",\n",
    "    \"ATM/USDT\",\n",
    "    \"XEC/USDT\",\n",
    "    \"STORJ/USDT\",\n",
    "    \"ZRX/USDT\",\n",
    "    \"SRM/USDT\",\n",
    "    \"ICX/USDT\",\n",
    "    \"API3/USDT\",\n",
    "    \"ONT/USDT\",\n",
    "    \"SKL/USDT\",\n",
    "    \"MULTI/USDT\",\n",
    "    \"QTUM/USDT\",\n",
    "    \"COCOS/USDT\",\n",
    "    \"VOXEL/USDT\",\n",
    "    \"HIVE/USDT\",\n",
    "    \"KP3R/USDT\",\n",
    "    \"ATA/USDT\",\n",
    "    \"STMX/USDT\",\n",
    "    \"ADX/USDT\",\n",
    "    \"HIGH/USDT\",\n",
    "    \"NULS/USDT\",\n",
    "    \"MLN/USDT\",\n",
    "    \"YGG/USDT\",\n",
    "    \"SC/USDT\",\n",
    "    \"CKB/USDT\",\n",
    "    \"TOMO/USDT\",\n",
    "    \"STX/USDT\",\n",
    "    \"FLUX/USDT\",\n",
    "    \"DNT/USDT\",\n",
    "    \"ORN/USDT\",\n",
    "    \"PLA/USDT\",\n",
    "    \"BADGER/USDT\",\n",
    "    \"DF/USDT\",\n",
    "    \"MOB/USDT\",\n",
    "    \"LPT/USDT\",\n",
    "    \"SCRT/USDT\",\n",
    "    \"RAD/USDT\",\n",
    "    \"NMR/USDT\",\n",
    "    \"ELF/USDT\",\n",
    "    \"TORN/USDT\",\n",
    "    \"T/USDT\",\n",
    "    \"QUICK/USDT\",\n",
    "    \"LSK/USDT\",\n",
    "    \"FIDA/USDT\",\n",
    "    \"XNO/USDT\",\n",
    "    \"BTG/USDT\",\n",
    "    \"GHST/USDT\",\n",
    "    \"EPS/USDT\"\n",
    "]\n",
    "\n",
    "pair_list = Binance_USDT_HALAL\n"
   ]
  },
  {
   "cell_type": "markdown",
   "metadata": {},
   "source": [
    "## Local Functions first"
   ]
  },
  {
   "cell_type": "code",
   "execution_count": 26,
   "metadata": {
    "vscode": {
     "languageId": "python"
    }
   },
   "outputs": [],
   "source": [
    "# Get list of all IDs on binance\n",
    "def give_first_kline_open_stamp(interval, symbol, start_ts=1499990400000):\n",
    "        '''\n",
    "        Returns the first kline from an interval and start timestamp and symbol\n",
    "        :param interval:  1w, 1d, 1m etc - the bar length to query\n",
    "        :param symbol:    BTCUSDT or LTCBTC etc\n",
    "        :param start_ts:  Timestamp in miliseconds to start the query from\n",
    "        :return:          The first open candle timestamp\n",
    "        '''\n",
    "\n",
    "        url_stub = \"http://api.binance.com/api/v1/klines?interval=\"\n",
    "\n",
    "        #/api/v1/klines?interval=1m&startTime=1536349500000&symbol=ETCBNB\n",
    "        addInterval   = url_stub     + str(interval) + \"&\"\n",
    "        addStarttime  = addInterval   + \"startTime=\"  + str(start_ts) + \"&\"\n",
    "        addSymbol     = addStarttime + \"symbol=\"     + str(symbol)\n",
    "        url_to_get = addSymbol\n",
    "\n",
    "        kline_data = urllib.request.urlopen(url_to_get).read().decode(\"utf-8\")\n",
    "        kline_data = json.loads(kline_data)\n",
    "\n",
    "        return kline_data[0][0]\n",
    "\n",
    "def get_crypto_metadata(pair_list):\n",
    "    Binance_USDT_HALAL=pair_list\n",
    "    ids = []\n",
    "    #ids = all_ids()\n",
    "    for halalpair in Binance_USDT_HALAL:\n",
    "    #    print( halalpair.replace('/',''))\n",
    "        ids.append(halalpair.replace('/',''))\n",
    "    #print(ids)\n",
    "    MetaData=pd.DataFrame(ids)\n",
    "    MetaData[\"Pair\"]=Binance_USDT_HALAL\n",
    "    counters=0\n",
    "    for this_id in ids:\n",
    "        '''\n",
    "        Find launch Week of symbol, start at Binance launch date 2017-07-14 (1499990400000)\n",
    "        Find launch Day of symbol in week\n",
    "        Find launch minute of symbol in day\n",
    "        '''\n",
    "\n",
    "        symbol_launch_week_stamp   = give_first_kline_open_stamp('1w', this_id, 1499990400000 )\n",
    "        symbol_launch_day_stamp    = give_first_kline_open_stamp('1d', this_id, symbol_launch_week_stamp)\n",
    "        symbol_launch_minute_stamp = give_first_kline_open_stamp('1m', this_id, symbol_launch_day_stamp)\n",
    "        MetaData.loc[counters,\"launch_week_stamp\"]=str(symbol_launch_week_stamp)\n",
    "        MetaData.loc[counters,\"launch_day_stamp\"]=str(symbol_launch_day_stamp)\n",
    "        MetaData.loc[counters,\"launch_minute\"]=pd.to_datetime(symbol_launch_minute_stamp, unit='ms')\n",
    "\n",
    "        counters += 1\n",
    "\n",
    "        #print(\"Week stamp\", symbol_launch_week_stamp)\n",
    "        #print(\"Day  stamp\", symbol_launch_day_stamp)\n",
    "        #print(\"Min  stamp\", symbol_launch_minute_stamp)\n",
    "        print(counters,end=\" \")\n",
    "        #print(this_id, \"launched\", symbol_launch_minute_stamp )\n",
    "    return MetaData\n",
    "    #print(\"\")\n",
    "    \n",
    "def normalize(dataset,file=Normalization_File):\n",
    "    global Normalization\n",
    "    try:\n",
    "        N=Normalization\n",
    "    except:\n",
    "        Normalization=None\n",
    "    if(Normalization==None):\n",
    "        #print('Loading normalization from file')\n",
    "        with open(file) as json_file:\n",
    "            Normalization = json.load(json_file)\n",
    "    else:\n",
    "        #print('normalization is loaded')\n",
    "        pass\n",
    "\n",
    "    mean=np.array(Normalization[\"mean\"])\n",
    "    std=np.array(Normalization[\"std\"])\n",
    "    dataset -= mean \n",
    "    dataset /= std\n",
    "    return(dataset)\n",
    "\n",
    "def Buy_Dessision(input):\n",
    "    A=np.array(input)\n",
    "    A = A.reshape(1,A.shape[0])\n",
    "    predictions = model.predict(normalize(A))\n",
    "    rounded = [round(x[0]) for x in predictions]\n",
    "    return(rounded[0])\n",
    "\n",
    "def Buy_Dessision_Normalized(input):\n",
    "    A=np.array(input)\n",
    "    A = A.reshape(1,A.shape[0])\n",
    "    predictions = model.predict(A)\n",
    "    rounded = [round(x[0]) for x in predictions]\n",
    "    return(rounded[0])\n",
    "\n",
    "def Buy_Dessision_Multi_In_Out(input):\n",
    "    A=np.array(input)\n",
    "    predictions = model.predict(normalize(A))\n",
    "    rounded = [round(x[0]) for x in predictions]\n",
    "    return(rounded)\n",
    "\n",
    "def Buy_Dessision_Multi_In_Out_Normalized(input):\n",
    "    A=np.array(input)\n",
    "    predictions = model.predict(A)\n",
    "    rounded = [round(x[0]) for x in predictions]\n",
    "    return(rounded)\n",
    "\n",
    "def instant_pair_data(pair=\"GMT/BUSD\",exchange=ccxt.binance(),window=WINDOW_SIZE):\n",
    "    ex=exchange\n",
    "    ticker = ex.fetch_ticker(pair)\n",
    "    pair_current_price=ticker['info']['askPrice']\n",
    "    #print(pair_current_price)\n",
    "\n",
    "    ohlcv1m = ex.fetch_ohlcv(pair, '1m', limit=window)\n",
    "    ohlcv5m = ex.fetch_ohlcv(pair, '5m', limit=window)\n",
    "    ohlcv15m = ex.fetch_ohlcv(pair, '15m', limit=window)\n",
    "    ohlcv1h = ex.fetch_ohlcv(pair, '1h', limit=window)\n",
    "    ohlcv1d = ex.fetch_ohlcv(pair, '1d', limit=window)\n",
    "\n",
    "    pair_data=pd.DataFrame()\n",
    "    pair_data.loc[0,\"price\"]=float(pair_current_price)\n",
    "    #minute\n",
    "    for window_i in range(1,window+1):\n",
    "        pair_data.loc[0,\"high-\"+str(window_i)]=ohlcv1m[-window_i][1]\n",
    "        pair_data.loc[0,\"low-\"+str(window_i)]=ohlcv1m[-window_i][2]\n",
    "        pair_data.loc[0,\"open-\"+str(window_i)]=ohlcv1m[-window_i][0]\n",
    "        pair_data.loc[0,\"close-\"+str(window_i)]=ohlcv1m[-window_i][3]\n",
    "        if(window_i!=1):pair_data.loc[0,\"volume-\"+str(window_i)]=ohlcv1m[-window_i][4]\n",
    "\n",
    "    for window_i in range(1,window+1):\n",
    "        pair_data.loc[0,\"high-\"+str(window_i)+\"_day\"]=ohlcv1d[-window_i][1]\n",
    "        pair_data.loc[0,\"low-\"+str(window_i)+\"_day\"]=ohlcv1d[-window_i][2]\n",
    "        pair_data.loc[0,\"open-\"+str(window_i)+\"_day\"]=ohlcv1d[-window_i][0]\n",
    "        pair_data.loc[0,\"close-\"+str(window_i)+\"_day\"]=ohlcv1d[-window_i][3]\n",
    "        if(window_i!=1):pair_data.loc[0,\"volume-\"+str(window_i)+\"_day\"]=ohlcv1d[-window_i][4]  \n",
    "\n",
    "    for window_i in range(1,window+1):\n",
    "        pair_data.loc[0,\"high-\"+str(window_i)+\"_hour\"]=ohlcv1h[-window_i][1]\n",
    "        pair_data.loc[0,\"low-\"+str(window_i)+\"_hour\"]=ohlcv1h[-window_i][2]\n",
    "        pair_data.loc[0,\"open-\"+str(window_i)+\"_hour\"]=ohlcv1h[-window_i][0]\n",
    "        pair_data.loc[0,\"close-\"+str(window_i)+\"_hour\"]=ohlcv1h[-window_i][3]\n",
    "        if(window_i!=1):pair_data.loc[0,\"volume-\"+str(window_i)+\"_hour\"]=ohlcv1h[-window_i][4]  \n",
    "\n",
    "    for window_i in range(1,window+1):\n",
    "        pair_data.loc[0,\"high-\"+str(window_i)+\"_15min\"]=ohlcv15m[-window_i][1]\n",
    "        pair_data.loc[0,\"low-\"+str(window_i)+\"_15min\"]=ohlcv15m[-window_i][2]\n",
    "        pair_data.loc[0,\"open-\"+str(window_i)+\"_15min\"]=ohlcv15m[-window_i][0]\n",
    "        pair_data.loc[0,\"close-\"+str(window_i)+\"_15min\"]=ohlcv15m[-window_i][3]\n",
    "        if(window_i!=1):pair_data.loc[0,\"volume-\"+str(window_i)+\"_15min\"]=ohlcv5m[-window_i][4]  \n",
    "\n",
    "    for window_i in range(1,window+1):\n",
    "        pair_data.loc[0,\"high-\"+str(window_i)+\"_5min\"]=ohlcv5m[-window_i][1]\n",
    "        pair_data.loc[0,\"low-\"+str(window_i)+\"_5min\"]=ohlcv5m[-window_i][2]\n",
    "        pair_data.loc[0,\"open-\"+str(window_i)+\"_5min\"]=ohlcv5m[-window_i][0]\n",
    "        pair_data.loc[0,\"close-\"+str(window_i)+\"_5min\"]=ohlcv5m[-window_i][3]\n",
    "        if(window_i!=1):pair_data.loc[0,\"volume-\"+str(window_i)+\"_5min\"]=ohlcv5m[-window_i][4]   \n",
    "    return  pair_data\n"
   ]
  },
  {
   "cell_type": "markdown",
   "metadata": {},
   "source": [
    "# Getting Vars"
   ]
  },
  {
   "cell_type": "code",
   "execution_count": 27,
   "metadata": {
    "vscode": {
     "languageId": "python"
    }
   },
   "outputs": [],
   "source": [
    "try:\n",
    "    MetaData=pd.read_csv(\"../Data/MetaData.csv\")\n",
    "except:\n",
    "    MetaData=get_crypto_metadata(Binance_USDT_HALAL)\n"
   ]
  },
  {
   "cell_type": "markdown",
   "metadata": {},
   "source": [
    "## loding the model"
   ]
  },
  {
   "cell_type": "code",
   "execution_count": 51,
   "metadata": {
    "vscode": {
     "languageId": "python"
    }
   },
   "outputs": [
    {
     "name": "stdout",
     "output_type": "stream",
     "text": [
      "/UltimeTradingBot/Data/W20_004_Model.hdf5 Loaded\n"
     ]
    }
   ],
   "source": [
    "model = load_model(Model_FileName)\n",
    "print(Model_FileName+' Loaded')"
   ]
  },
  {
   "cell_type": "code",
   "execution_count": 58,
   "metadata": {
    "vscode": {
     "languageId": "python"
    }
   },
   "outputs": [
    {
     "name": "stdout",
     "output_type": "stream",
     "text": [
      "996\n"
     ]
    }
   ],
   "source": [
    "with open(Normalization_File) as json_file:\n",
    "            Normalization = json.load(json_file)\n",
    "print(len(Normalization['mean']))"
   ]
  },
  {
   "cell_type": "code",
   "execution_count": null,
   "metadata": {
    "vscode": {
     "languageId": "python"
    }
   },
   "outputs": [],
   "source": []
  },
  {
   "cell_type": "code",
   "execution_count": 29,
   "metadata": {
    "vscode": {
     "languageId": "python"
    }
   },
   "outputs": [],
   "source": [
    "Exchange=ccxt.binance()\n",
    "ex=Exchange\n",
    "exchange=Exchange\n"
   ]
  },
  {
   "cell_type": "code",
   "execution_count": 30,
   "metadata": {
    "vscode": {
     "languageId": "python"
    }
   },
   "outputs": [],
   "source": [
    "# bitcoin_ticker = Exchange.fetch_ticker('BTC/USDT')\n",
    "# btc_current_price=bitcoin_ticker['info']['askPrice']\n",
    "# print(btc_current_price)\n",
    "\n",
    "\n",
    "\n",
    "\n",
    "# li1 = df.keys().values.tolist()\n",
    "# li2 = fulldata.keys().values.tolist()\n",
    " \n",
    "# s = set(li2)\n",
    "# temp3 = [x for x in li1 if x not in s]\n",
    "# print(temp3)"
   ]
  },
  {
   "cell_type": "markdown",
   "metadata": {},
   "source": [
    "## Working Fonctions Deffinition"
   ]
  },
  {
   "cell_type": "code",
   "execution_count": 31,
   "metadata": {
    "vscode": {
     "languageId": "python"
    }
   },
   "outputs": [],
   "source": [
    "\n",
    "def instant_pair_data(pair=\"GMT/BUSD\",exchange=ccxt.binance(),window=WINDOW_SIZE):\n",
    "    ex=exchange\n",
    "    ticker = ex.fetch_ticker(pair)\n",
    "    pair_current_price=ticker['info']['askPrice']\n",
    "    #print(pair_current_price)\n",
    "\n",
    "    ohlcv1m = ex.fetch_ohlcv(pair, '1m', limit=window)\n",
    "    ohlcv5m = ex.fetch_ohlcv(pair, '5m', limit=window)\n",
    "    ohlcv15m = ex.fetch_ohlcv(pair, '15m', limit=window)\n",
    "    ohlcv1h = ex.fetch_ohlcv(pair, '1h', limit=window)\n",
    "    ohlcv1d = ex.fetch_ohlcv(pair, '1d', limit=window)\n",
    "\n",
    "    pair_data=pd.DataFrame()\n",
    "    pair_data.loc[0,\"price\"]=float(pair_current_price)\n",
    "    #minute\n",
    "    for window_i in range(1,window+1):\n",
    "        pair_data.loc[0,\"high-\"+str(window_i)]=ohlcv1m[-window_i][1]\n",
    "        pair_data.loc[0,\"low-\"+str(window_i)]=ohlcv1m[-window_i][2]\n",
    "        pair_data.loc[0,\"open-\"+str(window_i)]=ohlcv1m[-window_i][0]\n",
    "        pair_data.loc[0,\"close-\"+str(window_i)]=ohlcv1m[-window_i][3]\n",
    "        if(window_i!=1):pair_data.loc[0,\"volume-\"+str(window_i)]=ohlcv1m[-window_i][4]\n",
    "\n",
    "    for window_i in range(1,window+1):\n",
    "        pair_data.loc[0,\"high-\"+str(window_i)+\"_day\"]=ohlcv1d[-window_i][1]\n",
    "        pair_data.loc[0,\"low-\"+str(window_i)+\"_day\"]=ohlcv1d[-window_i][2]\n",
    "        pair_data.loc[0,\"open-\"+str(window_i)+\"_day\"]=ohlcv1d[-window_i][0]\n",
    "        pair_data.loc[0,\"close-\"+str(window_i)+\"_day\"]=ohlcv1d[-window_i][3]\n",
    "        if(window_i!=1):pair_data.loc[0,\"volume-\"+str(window_i)+\"_day\"]=ohlcv1d[-window_i][4]  \n",
    "\n",
    "    for window_i in range(1,window+1):\n",
    "        pair_data.loc[0,\"high-\"+str(window_i)+\"_hour\"]=ohlcv1h[-window_i][1]\n",
    "        pair_data.loc[0,\"low-\"+str(window_i)+\"_hour\"]=ohlcv1h[-window_i][2]\n",
    "        pair_data.loc[0,\"open-\"+str(window_i)+\"_hour\"]=ohlcv1h[-window_i][0]\n",
    "        pair_data.loc[0,\"close-\"+str(window_i)+\"_hour\"]=ohlcv1h[-window_i][3]\n",
    "        if(window_i!=1):pair_data.loc[0,\"volume-\"+str(window_i)+\"_hour\"]=ohlcv1h[-window_i][4]  \n",
    "\n",
    "    for window_i in range(1,window+1):\n",
    "        pair_data.loc[0,\"high-\"+str(window_i)+\"_15min\"]=ohlcv15m[-window_i][1]\n",
    "        pair_data.loc[0,\"low-\"+str(window_i)+\"_15min\"]=ohlcv15m[-window_i][2]\n",
    "        pair_data.loc[0,\"open-\"+str(window_i)+\"_15min\"]=ohlcv15m[-window_i][0]\n",
    "        pair_data.loc[0,\"close-\"+str(window_i)+\"_15min\"]=ohlcv15m[-window_i][3]\n",
    "        if(window_i!=1):pair_data.loc[0,\"volume-\"+str(window_i)+\"_15min\"]=ohlcv5m[-window_i][4]  \n",
    "\n",
    "    for window_i in range(1,window+1):\n",
    "        pair_data.loc[0,\"high-\"+str(window_i)+\"_5min\"]=ohlcv5m[-window_i][1]\n",
    "        pair_data.loc[0,\"low-\"+str(window_i)+\"_5min\"]=ohlcv5m[-window_i][2]\n",
    "        pair_data.loc[0,\"open-\"+str(window_i)+\"_5min\"]=ohlcv5m[-window_i][0]\n",
    "        pair_data.loc[0,\"close-\"+str(window_i)+\"_5min\"]=ohlcv5m[-window_i][3]\n",
    "        if(window_i!=1):pair_data.loc[0,\"volume-\"+str(window_i)+\"_5min\"]=ohlcv5m[-window_i][4] \n",
    "\n",
    "    return  pair_data\n",
    "\n",
    "def instant_full_data(pair,exchange=ex,window=WINDOW_SIZE):\n",
    "    start = timeit.default_timer()\n",
    "\n",
    "    pdata=instant_pair_data(pair,exchange=exchange,window=WINDOW_SIZE)\n",
    "    btcdata=instant_pair_data(\"BTC/USDT\",exchange=exchange,window=WINDOW_SIZE).add_prefix(\"BTC_\")\n",
    "    Timestamp=pd.to_datetime(ex.fetchTime(),unit='ms')\n",
    "    pdata=pd.concat([pdata,btcdata],axis=1)\n",
    "    pdata.loc[0,\"day\"]=Timestamp.dayofweek+1\n",
    "    pdata.loc[0,\"hour\"]=Timestamp.hour\n",
    "    pdata.loc[0,\"minute\"]=Timestamp.minute\n",
    "    stop = timeit.default_timer()\n",
    "    print(\"synctime for \"+str(pair)+\" :\"+str(stop-start))\n",
    "    try:\n",
    "        pdata.loc[0,\"lunch_day\"]=int(-(pd.to_datetime(MetaData[MetaData[\"Pair\"] == (pair.split(\"/\")[0]+\"/USDT\")][\"launch_minute\"])-pd.Timestamp('2020-01-01 00:00:00.000000')).dt.days)\n",
    "    except:\n",
    "        MData=get_crypto_metadata([pair.split(\"/\")[0]+\"/USDT\"])\n",
    "        pdata.loc[0,\"lunch_day\"]=int(-(pd.to_datetime(MData[MData[\"Pair\"] == (pair.split(\"/\")[0]+\"/USDT\")][\"launch_minute\"])-pd.Timestamp('2020-01-01 00:00:00.000000')).dt.days)\n",
    "    for key in pdata.keys():\n",
    "        if key.find(\"BTC\")!=-1 and (key.find(\"open\")!=-1 or\n",
    "        key.find(\"high\")!=-1 or key.find(\"low\")!=-1 or key.find(\"close\")!=-1):\n",
    "            pdata[key]=(pdata[\"BTC_price\"]-pdata[key])/pdata[\"BTC_price\"]\n",
    "        if key.find(\"BTC\")==-1 and (key.find(\"open\")!=-1 or\n",
    "        key.find(\"high\")!=-1 or key.find(\"low\")!=-1 or key.find(\"close\")!=-1):\n",
    "            pdata[key]=(pdata[\"price\"]-pdata[key])/pdata[\"price\"]\n",
    "    return pdata\n",
    "\n",
    "\n",
    "import asyncio\n",
    "PRERR=False\n",
    "\n",
    "\n",
    "import timeit\n",
    "\n",
    "window=WINDOW_SIZE\n",
    "async def do_ohlcv1m(pair,window,ohlcv1m):\n",
    "    # prerr(\"Preparing 1 minute candelstics\")\n",
    "    await asyncio.sleep(0)\n",
    "    ohlcv1m.extend(ex.fetch_ohlcv(pair, '1m', limit=window))\n",
    "    # prerr(\"-->  1 minute candelstics is ok <--\")\n",
    "async def do_ohlcv5m(pair,window,ohlcv1m):\n",
    "    # prerr(\"Preparing 5 minutes candelstics\")\n",
    "    await asyncio.sleep(0)\n",
    "    ohlcv1m.extend(ex.fetch_ohlcv(pair, '5m', limit=window))\n",
    "    # prerr(\"-->  5 minutes candelstics is ok <--\")\n",
    "async def do_ohlcv15m(pair,window,ohlcv1m):\n",
    "    # prerr(\"Preparing 15 minutes candelstics\")\n",
    "    await asyncio.sleep(0)\n",
    "    ohlcv1m.extend(ex.fetch_ohlcv(pair, '15m', limit=window))\n",
    "    # prerr(\"-->  15 minutes candelstics is ok <--\")\n",
    "async def do_ohlcv1h(pair,window,ohlcv1m):\n",
    "    # prerr(\"Preparing 1 hour candelstics\")\n",
    "    await asyncio.sleep(0)\n",
    "    ohlcv1m.extend(ex.fetch_ohlcv(pair, '1h', limit=window))\n",
    "    # prerr(\"-->  1 hour candelstics is ok <--\")\n",
    "async def do_ohlcv1d(pair,window,ohlcv1m):\n",
    "    # prerr(\"Preparing 1 day candelstics\")\n",
    "    await asyncio.sleep(0)\n",
    "    ohlcv1m.extend(ex.fetch_ohlcv(pair, '1d', limit=window))\n",
    "    # prerr(\"-->  1 day candelstics is ok <--\")\n",
    "\n",
    "async def do_get_ask_price(pair,price):\n",
    "    # prerr(\"Preparing 1 day candelstics\")\n",
    "    await asyncio.sleep(0)\n",
    "    ticker = ex.fetch_ticker(pair)\n",
    "    price[0]+=float(ticker['info']['askPrice'])\n",
    "    # prerr(\"-->  1 day candelstics is ok <--\")\n",
    "\n",
    "\n",
    "\n",
    "async def async_instant_pair_data(pair=\"GMT/BUSD\",exchange=ccxt.binance(),window=WINDOW_SIZE,pdata=pd.DataFrame()):\n",
    "    #pair_data=pd.DataFrame()    \n",
    "    \n",
    "    pair_data=pdata\n",
    "    ex=exchange\n",
    "\n",
    "    ppp=[float(0)]\n",
    "    #print(pair_current_price)\n",
    "    ohlcv1m = []\n",
    "    ohlcv5m = []\n",
    "    ohlcv15m = []\n",
    "    ohlcv1h = []\n",
    "    ohlcv1d = []\n",
    "\n",
    "    task_askprice = asyncio.create_task(do_get_ask_price(pair,ppp))\n",
    "    task_ohlcv1m = asyncio.create_task(do_ohlcv1m(pair,window,ohlcv1m))\n",
    "    task_ohlcv5m = asyncio.create_task(do_ohlcv5m(pair,window,ohlcv5m))\n",
    "    task_ohlcv15m = asyncio.create_task(do_ohlcv15m(pair,window,ohlcv15m))\n",
    "    task_ohlcv1h = asyncio.create_task(do_ohlcv1h(pair,window,ohlcv1h))\n",
    "    task_ohlcv1d = asyncio.create_task(do_ohlcv1d(pair,window,ohlcv1d))\n",
    "\n",
    "    await asyncio.wait([task_askprice,task_ohlcv1m,task_ohlcv5m,task_ohlcv15m,task_ohlcv1h,task_ohlcv1d])\n",
    "    pair_current_price=ppp[0]\n",
    "    #print(\"task1d   \"+str(ohlcv1d))\n",
    "\n",
    "    pair_data.loc[0,\"price\"]=float(pair_current_price)\n",
    "    #minute\n",
    "    for window_i in range(1,window+1):\n",
    "        pair_data.loc[0,\"high-\"+str(window_i)]=ohlcv1m[-window_i][1]\n",
    "        pair_data.loc[0,\"low-\"+str(window_i)]=ohlcv1m[-window_i][2]\n",
    "        pair_data.loc[0,\"open-\"+str(window_i)]=ohlcv1m[-window_i][0]\n",
    "        pair_data.loc[0,\"close-\"+str(window_i)]=ohlcv1m[-window_i][3]\n",
    "        if(window_i!=1):pair_data.loc[0,\"volume-\"+str(window_i)]=ohlcv1m[-window_i][4]\n",
    "\n",
    "    for window_i in range(1,window+1):\n",
    "        pair_data.loc[0,\"high-\"+str(window_i)+\"_day\"]=ohlcv1d[-window_i][1]\n",
    "        pair_data.loc[0,\"low-\"+str(window_i)+\"_day\"]=ohlcv1d[-window_i][2]\n",
    "        pair_data.loc[0,\"open-\"+str(window_i)+\"_day\"]=ohlcv1d[-window_i][0]\n",
    "        pair_data.loc[0,\"close-\"+str(window_i)+\"_day\"]=ohlcv1d[-window_i][3]\n",
    "        if(window_i!=1):pair_data.loc[0,\"volume-\"+str(window_i)+\"_day\"]=ohlcv1d[-window_i][4]  \n",
    "\n",
    "    for window_i in range(1,window+1):\n",
    "        pair_data.loc[0,\"high-\"+str(window_i)+\"_hour\"]=ohlcv1h[-window_i][1]\n",
    "        pair_data.loc[0,\"low-\"+str(window_i)+\"_hour\"]=ohlcv1h[-window_i][2]\n",
    "        pair_data.loc[0,\"open-\"+str(window_i)+\"_hour\"]=ohlcv1h[-window_i][0]\n",
    "        pair_data.loc[0,\"close-\"+str(window_i)+\"_hour\"]=ohlcv1h[-window_i][3]\n",
    "        if(window_i!=1):pair_data.loc[0,\"volume-\"+str(window_i)+\"_hour\"]=ohlcv1h[-window_i][4]  \n",
    "\n",
    "    for window_i in range(1,window+1):\n",
    "        pair_data.loc[0,\"high-\"+str(window_i)+\"_15min\"]=ohlcv15m[-window_i][1]\n",
    "        pair_data.loc[0,\"low-\"+str(window_i)+\"_15min\"]=ohlcv15m[-window_i][2]\n",
    "        pair_data.loc[0,\"open-\"+str(window_i)+\"_15min\"]=ohlcv15m[-window_i][0]\n",
    "        pair_data.loc[0,\"close-\"+str(window_i)+\"_15min\"]=ohlcv15m[-window_i][3]\n",
    "        if(window_i!=1):pair_data.loc[0,\"volume-\"+str(window_i)+\"_15min\"]=ohlcv5m[-window_i][4]  \n",
    "\n",
    "    for window_i in range(1,window+1):\n",
    "        pair_data.loc[0,\"high-\"+str(window_i)+\"_5min\"]=ohlcv5m[-window_i][1]\n",
    "        pair_data.loc[0,\"low-\"+str(window_i)+\"_5min\"]=ohlcv5m[-window_i][2]\n",
    "        pair_data.loc[0,\"open-\"+str(window_i)+\"_5min\"]=ohlcv5m[-window_i][0]\n",
    "        pair_data.loc[0,\"close-\"+str(window_i)+\"_5min\"]=ohlcv5m[-window_i][3]\n",
    "        if(window_i!=1):pair_data.loc[0,\"volume-\"+str(window_i)+\"_5min\"]=ohlcv5m[-window_i][4]   \n",
    "    return  pair_data\n",
    "\n",
    "\n",
    "\n",
    "async def do_pdata(pair,exchange,window=WINDOW_SIZE,pdata=pd.DataFrame()):\n",
    "    # prerr(\"Preparing 1 day candelstics\")\n",
    "    await async_instant_pair_data(pair=pair,exchange=exchange,window=window,pdata=pdata)\n",
    "    # prerr(\"-->  1 day candelstics is ok <--\")\n",
    "async def do_whattime(TimestampAll):\n",
    "    TimestampAll.append(pd.to_datetime(ex.fetchTime(),unit='ms'))\n",
    "    \n",
    "async def async_instant_full_data(pair,exchange=ex,window=WINDOW_SIZE):\n",
    "    start = timeit.default_timer()\n",
    "    pdata=pd.DataFrame()\n",
    "    btcdata=pd.DataFrame()\n",
    "    #async tascs\n",
    "    TimestampAll=[]\n",
    "    task_pdata=asyncio.create_task(do_pdata(pair=pair,exchange=exchange,window=window,pdata=pdata))\n",
    "    task_btcdata=asyncio.create_task(do_pdata(pair=\"BTC/USDT\",exchange=exchange,window=window,pdata=btcdata))\n",
    "    task_whattime=asyncio.create_task(do_whattime(TimestampAll)) \n",
    "    #Timestamp=pd.to_datetime(ex.fetchTime(),unit='ms')\n",
    "    await asyncio.wait([task_pdata, task_btcdata, task_whattime])\n",
    "    Timestamp=TimestampAll[0]\n",
    "    btcdata=btcdata.add_prefix(\"BTC_\")\n",
    "    pdata=pd.concat([pdata,btcdata],axis=1)\n",
    "    pdata.loc[0,\"day\"]=Timestamp.dayofweek+1\n",
    "    pdata.loc[0,\"hour\"]=Timestamp.hour\n",
    "    pdata.loc[0,\"minute\"]=Timestamp.minute\n",
    "    stop = timeit.default_timer()\n",
    "    print(\"async time for \"+str(pair)+\" :\"+str(stop-start))\n",
    "    try:\n",
    "        pdata.loc[0,\"lunch_day\"]=int(-(pd.to_datetime(MetaData[MetaData[\"Pair\"] == (pair.split(\"/\")[0]+\"/USDT\")][\"launch_minute\"])-pd.Timestamp('2020-01-01 00:00:00.000000')).dt.days)\n",
    "    except:\n",
    "        MData=get_crypto_metadata([pair.split(\"/\")[0]+\"/USDT\"])\n",
    "        pdata.loc[0,\"lunch_day\"]=int(-(pd.to_datetime(MData[MData[\"Pair\"] == (pair.split(\"/\")[0]+\"/USDT\")][\"launch_minute\"])-pd.Timestamp('2020-01-01 00:00:00.000000')).dt.days)\n",
    "    for key in pdata.keys():\n",
    "        if key.find(\"BTC\")!=-1 and (key.find(\"open\")!=-1 or\n",
    "        key.find(\"high\")!=-1 or key.find(\"low\")!=-1 or key.find(\"close\")!=-1):\n",
    "            pdata[key]=(pdata[\"BTC_price\"]-pdata[key])/pdata[\"BTC_price\"]\n",
    "        if key.find(\"BTC\")==-1 and (key.find(\"open\")!=-1 or\n",
    "        key.find(\"high\")!=-1 or key.find(\"low\")!=-1 or key.find(\"close\")!=-1):\n",
    "            pdata[key]=(pdata[\"price\"]-pdata[key])/pdata[\"price\"]\n",
    "    return pdata\n",
    "\n",
    "async def do_async_instant_full_data(pdata,pair,exchange=ex,window=WINDOW_SIZE):\n",
    "    \n",
    "    start = timeit.default_timer()\n",
    "    #pdata=pd.DataFrame()\n",
    "    btcdata=pd.DataFrame()\n",
    "    #async tascs\n",
    "    TimestampAll=[]\n",
    "    task_pdata=asyncio.create_task(do_pdata(pair=pair,exchange=exchange,window=window,pdata=pdata))\n",
    "    task_btcdata=asyncio.create_task(do_pdata(pair=\"BTC/USDT\",exchange=exchange,window=window,pdata=btcdata))\n",
    "    task_whattime=asyncio.create_task(do_whattime(TimestampAll)) \n",
    "    #Timestamp=pd.to_datetime(ex.fetchTime(),unit='ms')\n",
    "    await asyncio.wait([task_pdata, task_btcdata, task_whattime])\n",
    "    Timestamp=TimestampAll[0]\n",
    "    btcdata=btcdata.add_prefix(\"BTC_\")\n",
    "    #pdata=pd.concat([pdata,btcdata],axis=1,copy=False)\n",
    "    #pdata.join(btcdata)\n",
    "    for k in btcdata.keys():\n",
    "        pdata.loc[0,str(k)]=btcdata[str(k)][0]\n",
    "    pdata.loc[0,\"day\"]=Timestamp.dayofweek+1\n",
    "    pdata.loc[0,\"hour\"]=Timestamp.hour\n",
    "    pdata.loc[0,\"minute\"]=Timestamp.minute\n",
    "    stop = timeit.default_timer()\n",
    "    print(\"async time for \"+str(pair)+\" :\"+str(stop-start))\n",
    "    try:\n",
    "        pdata.loc[0,\"lunch_day\"]=int(-(pd.to_datetime(MetaData[MetaData[\"Pair\"] == (pair.split(\"/\")[0]+\"/USDT\")][\"launch_minute\"])-pd.Timestamp('2020-01-01 00:00:00.000000')).dt.days)\n",
    "    except:\n",
    "        MData=get_crypto_metadata([pair.split(\"/\")[0]+\"/USDT\"])\n",
    "        pdata.loc[0,\"lunch_day\"]=int(-(pd.to_datetime(MData[MData[\"Pair\"] == (pair.split(\"/\")[0]+\"/USDT\")][\"launch_minute\"])-pd.Timestamp('2020-01-01 00:00:00.000000')).dt.days)\n",
    "    for key in pdata.keys():\n",
    "        if key.find(\"BTC\")!=-1 and (key.find(\"open\")!=-1 or\n",
    "        key.find(\"high\")!=-1 or key.find(\"low\")!=-1 or key.find(\"close\")!=-1):\n",
    "            pdata[key]=(pdata[\"BTC_price\"]-pdata[key])/pdata[\"BTC_price\"]\n",
    "        if key.find(\"BTC\")==-1 and (key.find(\"open\")!=-1 or\n",
    "        key.find(\"high\")!=-1 or key.find(\"low\")!=-1 or key.find(\"close\")!=-1):\n",
    "            pdata[key]=(pdata[\"price\"]-pdata[key])/pdata[\"price\"]\n",
    "\n",
    "async def get_all_data_for(list_pair=Binance_USDT_HALAL,exchange=ex,window=WINDOW_SIZE):\n",
    "    #loop init data dic\n",
    "    data_dic={}\n",
    "    for pair in list_pair:\n",
    "        data_dic[pair]=pd.DataFrame()\n",
    "    \n",
    "    ###loop tasklist\n",
    "    task_list=[]\n",
    "    for pair in list_pair:\n",
    "        task_list.append(   asyncio.create_task(do_async_instant_full_data(pair=pair,exchange=exchange,window=window,pdata=data_dic[pair]))   )\n",
    "    await asyncio.wait(task_list)\n",
    "\n",
    "    return(data_dic)\n"
   ]
  },
  {
   "cell_type": "code",
   "execution_count": 32,
   "metadata": {
    "vscode": {
     "languageId": "python"
    }
   },
   "outputs": [],
   "source": [
    "#import ccxt.async_support as ccxt2"
   ]
  },
  {
   "cell_type": "code",
   "execution_count": 33,
   "metadata": {
    "vscode": {
     "languageId": "python"
    }
   },
   "outputs": [],
   "source": [
    "pdata=await async_instant_pair_data(pair=\"GMT/BUSD\",exchange=ex,window=WINDOW_SIZE)\n",
    "## minimum 1.4 seconds"
   ]
  },
  {
   "cell_type": "code",
   "execution_count": 34,
   "metadata": {
    "vscode": {
     "languageId": "python"
    }
   },
   "outputs": [],
   "source": [
    "pdata=instant_pair_data(pair=\"GMT/BUSD\",exchange=ex,window=WINDOW_SIZE)\n",
    "## minimum 1.6 seconds"
   ]
  },
  {
   "cell_type": "code",
   "execution_count": 35,
   "metadata": {
    "vscode": {
     "languageId": "python"
    }
   },
   "outputs": [
    {
     "data": {
      "text/html": [
       "<div>\n",
       "<style scoped>\n",
       "    .dataframe tbody tr th:only-of-type {\n",
       "        vertical-align: middle;\n",
       "    }\n",
       "\n",
       "    .dataframe tbody tr th {\n",
       "        vertical-align: top;\n",
       "    }\n",
       "\n",
       "    .dataframe thead th {\n",
       "        text-align: right;\n",
       "    }\n",
       "</style>\n",
       "<table border=\"1\" class=\"dataframe\">\n",
       "  <thead>\n",
       "    <tr style=\"text-align: right;\">\n",
       "      <th></th>\n",
       "      <th>price</th>\n",
       "      <th>high-1</th>\n",
       "      <th>low-1</th>\n",
       "      <th>open-1</th>\n",
       "      <th>close-1</th>\n",
       "      <th>high-2</th>\n",
       "      <th>low-2</th>\n",
       "      <th>open-2</th>\n",
       "      <th>close-2</th>\n",
       "      <th>volume-2</th>\n",
       "      <th>...</th>\n",
       "      <th>high-14_5min</th>\n",
       "      <th>low-14_5min</th>\n",
       "      <th>open-14_5min</th>\n",
       "      <th>close-14_5min</th>\n",
       "      <th>volume-14_5min</th>\n",
       "      <th>high-15_5min</th>\n",
       "      <th>low-15_5min</th>\n",
       "      <th>open-15_5min</th>\n",
       "      <th>close-15_5min</th>\n",
       "      <th>volume-15_5min</th>\n",
       "    </tr>\n",
       "  </thead>\n",
       "  <tbody>\n",
       "    <tr>\n",
       "      <th>0</th>\n",
       "      <td>0.6828</td>\n",
       "      <td>0.6824</td>\n",
       "      <td>0.6829</td>\n",
       "      <td>1.664301e+12</td>\n",
       "      <td>0.6815</td>\n",
       "      <td>0.6833</td>\n",
       "      <td>0.6837</td>\n",
       "      <td>1.664300e+12</td>\n",
       "      <td>0.6823</td>\n",
       "      <td>0.6826</td>\n",
       "      <td>...</td>\n",
       "      <td>0.6998</td>\n",
       "      <td>0.6998</td>\n",
       "      <td>1.664296e+12</td>\n",
       "      <td>0.6949</td>\n",
       "      <td>0.6958</td>\n",
       "      <td>0.7015</td>\n",
       "      <td>0.7033</td>\n",
       "      <td>1.664296e+12</td>\n",
       "      <td>0.6982</td>\n",
       "      <td>0.7</td>\n",
       "    </tr>\n",
       "  </tbody>\n",
       "</table>\n",
       "<p>1 rows × 371 columns</p>\n",
       "</div>"
      ],
      "text/plain": [
       "    price  high-1   low-1        open-1  close-1  high-2   low-2  \\\n",
       "0  0.6828  0.6824  0.6829  1.664301e+12   0.6815  0.6833  0.6837   \n",
       "\n",
       "         open-2  close-2  volume-2  ...  high-14_5min  low-14_5min  \\\n",
       "0  1.664300e+12   0.6823    0.6826  ...        0.6998       0.6998   \n",
       "\n",
       "   open-14_5min  close-14_5min  volume-14_5min  high-15_5min  low-15_5min  \\\n",
       "0  1.664296e+12         0.6949          0.6958        0.7015       0.7033   \n",
       "\n",
       "   open-15_5min  close-15_5min  volume-15_5min  \n",
       "0  1.664296e+12         0.6982             0.7  \n",
       "\n",
       "[1 rows x 371 columns]"
      ]
     },
     "execution_count": 35,
     "metadata": {},
     "output_type": "execute_result"
    }
   ],
   "source": [
    "pdata[~pdata.isnull().any(axis=1) ]"
   ]
  },
  {
   "cell_type": "code",
   "execution_count": 62,
   "metadata": {
    "vscode": {
     "languageId": "python"
    }
   },
   "outputs": [
    {
     "name": "stdout",
     "output_type": "stream",
     "text": [
      "async time for MOB/USDT :5.350128131976817\n"
     ]
    }
   ],
   "source": [
    "pdata=await async_instant_full_data(\"MOB/USDT\",exchange=ex,window=WINDOW_SIZE)"
   ]
  },
  {
   "cell_type": "code",
   "execution_count": 49,
   "metadata": {
    "vscode": {
     "languageId": "python"
    }
   },
   "outputs": [
    {
     "data": {
      "text/plain": [
       "(1, 996)"
      ]
     },
     "execution_count": 49,
     "metadata": {},
     "output_type": "execute_result"
    }
   ],
   "source": [
    "pdata.shape\n"
   ]
  },
  {
   "cell_type": "code",
   "execution_count": 38,
   "metadata": {
    "vscode": {
     "languageId": "python"
    }
   },
   "outputs": [],
   "source": [
    "# pdata=instant_full_data(\"MOB/USDT\",exchange=ex,window=WINDOW_SIZE)"
   ]
  },
  {
   "cell_type": "code",
   "execution_count": 39,
   "metadata": {
    "vscode": {
     "languageId": "python"
    }
   },
   "outputs": [],
   "source": [
    "# pdata.shape"
   ]
  },
  {
   "cell_type": "code",
   "execution_count": 40,
   "metadata": {
    "vscode": {
     "languageId": "python"
    }
   },
   "outputs": [],
   "source": [
    "# data_dic=await get_all_data_for(list_pair=Binance_USDT_HALAL[1:5],exchange=ex,window=WINDOW_SIZE)"
   ]
  },
  {
   "cell_type": "code",
   "execution_count": 63,
   "metadata": {
    "vscode": {
     "languageId": "python"
    }
   },
   "outputs": [
    {
     "name": "stdout",
     "output_type": "stream",
     "text": [
      "1/1 [==============================] - 0s 30ms/step\n"
     ]
    },
    {
     "data": {
      "text/plain": [
       "1"
      ]
     },
     "execution_count": 63,
     "metadata": {},
     "output_type": "execute_result"
    }
   ],
   "source": [
    "# pdata=data_dic['GMT/USDT']\n",
    "# pdata=pdata[~pdata.isnull().any(axis=1)]\n",
    "Buy_Dessision(pdata.iloc[0])"
   ]
  },
  {
   "cell_type": "code",
   "execution_count": 64,
   "metadata": {
    "vscode": {
     "languageId": "python"
    }
   },
   "outputs": [
    {
     "name": "stdout",
     "output_type": "stream",
     "text": [
      "async time for GMT/USDT :6.590874129033182\n",
      "1/1 [==============================] - 0s 26ms/step\n",
      "Good : GMT/USDT\n",
      "buying at0.6877\n",
      "--- losing bought at: 0.6877 sold at: 0.68800000\n",
      "async time for UST/USDT :5.258025192015339\n",
      "1/1 [==============================] - 0s 29ms/step\n",
      "async time for SOL/USDT :3.9809603660251014\n",
      "1/1 [==============================] - 0s 27ms/step\n",
      "Good : SOL/USDT\n",
      "buying at32.73\n",
      "--- losing bought at: 32.73 sold at: 32.59000000\n",
      "async time for APE/USDT :7.102871286973823\n",
      "1/1 [==============================] - 0s 33ms/step\n",
      "Good : APE/USDT\n",
      "buying at5.369\n",
      "--- losing bought at: 5.369 sold at: 5.36900000\n",
      "async time for XRP/USDT :7.062607981031761\n",
      "1/1 [==============================] - 0s 27ms/step\n",
      "Good : XRP/USDT\n",
      "buying at0.443\n",
      "--- losing bought at: 0.443 sold at: 0.44480000\n",
      "async time for IDEX/USDT :5.235677877033595\n",
      "1/1 [==============================] - 0s 27ms/step\n",
      "Good : IDEX/USDT\n",
      "buying at0.06129\n"
     ]
    }
   ],
   "source": [
    "\n",
    "GoodDeal=[]\n",
    "BadDeal=[]\n",
    "pair=\"ETH/USDT\"\n",
    "min_win_percent=BUY_PERCENT\n",
    "max_time_window=MAX_FORCAST_SIZE\n",
    "window=WINDOW_SIZE\n",
    "while True:\n",
    "    break_out_flag = False\n",
    "    for pair in Binance_USDT_HALAL[2:13]:\n",
    "        pdata=await async_instant_full_data(pair,exchange=ex,window=WINDOW_SIZE)\n",
    "        if int(Buy_Dessision(pdata.iloc[0])) == 1:\n",
    "            print(\"Good : \" +pair)\n",
    "            print(\"buying at\"+str(pdata[\"price\"].iloc[0]))\n",
    "            bt=pd.to_datetime(ex.fetchTime(),unit='ms')\n",
    "            pp=0\n",
    "            for i in range(max_time_window*2):\n",
    "                time.sleep(30)\n",
    "                pp=ex.fetch_ticker(pair)['info']['askPrice']\n",
    "                if((float(pdata.loc[0,\"price\"])*0.01*min_win_percent+float(pdata.loc[0,\"price\"])) <= float(pp)):\n",
    "                    GoodDeal.append({\"pair\":pair,\n",
    "                                     \"buying_time\":bt,\n",
    "                                     \"buying_price\":float(pdata[\"price\"].iloc[0]),\n",
    "                                     \"Selling_time\":pd.to_datetime(ex.fetchTime(),unit='ms'),\n",
    "                                     \"selling_price\":float(pp)})\n",
    "                    print(\"+++ wining bought at:\"+str(pdata.loc[0,\"price\"]) +\" sold at: \"+str(pp) )\n",
    "                    break_out_flag = True\n",
    "                    break       \n",
    "            if break_out_flag:break\n",
    "            pp=ex.fetch_ticker(pair)['info']['askPrice']\n",
    "            print(\"--- losing bought at: \"+str(pdata.loc[0,\"price\"]) +\" sold at: \"+str(pp) )\n",
    "            BadDeal.append({\"pair\":pair,\n",
    "                                     \"buying_time\":bt,\n",
    "                                     \"buying_price\":float(pdata[\"price\"].iloc[0]),\n",
    "                                     \"Selling_time\":pd.to_datetime(ex.fetchTime(),unit='ms'),\n",
    "                                     \"selling_price\":float(pp)})\n",
    "            \n",
    "    #time.sleep(30)\n"
   ]
  },
  {
   "cell_type": "code",
   "execution_count": 43,
   "metadata": {
    "vscode": {
     "languageId": "python"
    }
   },
   "outputs": [
    {
     "data": {
      "text/plain": [
       "[]"
      ]
     },
     "execution_count": 43,
     "metadata": {},
     "output_type": "execute_result"
    }
   ],
   "source": [
    "GoodDeal"
   ]
  }
 ],
 "metadata": {
  "kernelspec": {
   "display_name": "Python 3 (ipykernel)",
   "language": "python",
   "name": "python3"
  },
  "orig_nbformat": 4,
  "vscode": {
   "interpreter": {
    "hash": "875f36f95367728e9e1ed7321fa85119a0c86f1195820c7e047475fcf301cc07"
   }
  }
 },
 "nbformat": 4,
 "nbformat_minor": 2
}
