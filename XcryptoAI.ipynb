{
 "cells": [
  {
   "cell_type": "code",
   "execution_count": 2,
   "metadata": {},
   "outputs": [],
   "source": [
    "import sys\n",
    "sys.path.append('a/UltimeTradingBot/Crypto_backtest_tools')\n",
    "from utilities.get_data import get_historical_from_db\n",
    "from utilities.backtesting import basic_single_asset_backtest, plot_wallet_vs_asset, get_metrics\n",
    "import pandas as pd\n",
    "import ccxt\n",
    "import matplotlib.pyplot as plt\n",
    "import ta\n",
    "import json\n",
    "import numpy as np\n",
    "import random\n",
    "from sklearn.utils import shuffle\n",
    "import seaborn as sns\n",
    "from utilities.backtesting import plot_wallet_vs_asset, get_metrics, get_n_columns, basic_multi_asset_backtest, plot_sharpe_evolution, plot_bar_by_month\n",
    "from utilities.custom_indicators import SuperTrend\n",
    "from tensorflow.keras.models import Sequential\n",
    "from tensorflow.keras.layers import Dense\n",
    "from tensorflow.keras.layers import Dropout\n",
    "from tensorflow.keras.constraints import MaxNorm\n",
    "from tensorflow.keras.optimizers import SGD\n",
    "from keras.callbacks import EarlyStopping, ModelCheckpoint\n",
    "from tensorflow.keras.models import Sequential\n",
    "from tensorflow.keras.layers import Dense \n",
    "import os\n",
    "pd.options.mode.chained_assignment = None  # default='warn'\n"
   ]
  },
  {
   "cell_type": "code",
   "execution_count": 35,
   "metadata": {},
   "outputs": [],
   "source": [
    "import gc\n"
   ]
  },
  {
   "cell_type": "code",
   "execution_count": 3,
   "metadata": {},
   "outputs": [
    {
     "name": "stdout",
     "output_type": "stream",
     "text": [
      "Wed Sep 21 15:52:47 2022       \n",
      "+-----------------------------------------------------------------------------+\n",
      "| NVIDIA-SMI 512.77       Driver Version: 512.77       CUDA Version: 11.6     |\n",
      "|-------------------------------+----------------------+----------------------+\n",
      "| GPU  Name            TCC/WDDM | Bus-Id        Disp.A | Volatile Uncorr. ECC |\n",
      "| Fan  Temp  Perf  Pwr:Usage/Cap|         Memory-Usage | GPU-Util  Compute M. |\n",
      "|                               |                      |               MIG M. |\n",
      "|===============================+======================+======================|\n",
      "|   0  NVIDIA GeForce ... WDDM  | 00000000:01:00.0 Off |                  N/A |\n",
      "| N/A   54C    P8    N/A /  N/A |    144MiB /  4096MiB |     16%      Default |\n",
      "|                               |                      |                  N/A |\n",
      "+-------------------------------+----------------------+----------------------+\n",
      "                                                                               \n",
      "+-----------------------------------------------------------------------------+\n",
      "| Processes:                                                                  |\n",
      "|  GPU   GI   CI        PID   Type   Process name                  GPU Memory |\n",
      "|        ID   ID                                                   Usage      |\n",
      "|=============================================================================|\n",
      "|    0   N/A  N/A      1808    C+G   ...2txyewy\\TextInputHost.exe    N/A      |\n",
      "|    0   N/A  N/A     10480    C+G   ...4__8wekyb3d8bbwe\\Time.exe    N/A      |\n",
      "|    0   N/A  N/A     11376    C+G   ...8wekyb3d8bbwe\\Cortana.exe    N/A      |\n",
      "|    0   N/A  N/A     12776    C+G   ...5n1h2txyewy\\SearchApp.exe    N/A      |\n",
      "|    0   N/A  N/A     13592    C+G   C:\\LIB\\VSCode\\Code.exe          N/A      |\n",
      "|    0   N/A  N/A     14224    C+G   ...kyb3d8bbwe\\Calculator.exe    N/A      |\n",
      "|    0   N/A  N/A     15184    C+G   ...5n1h2txyewy\\SearchApp.exe    N/A      |\n",
      "+-----------------------------------------------------------------------------+\n"
     ]
    }
   ],
   "source": [
    "\n",
    "import tensorflow as tf\n",
    "#tf.test.is_gpu_available(\n",
    "#     cuda_only=False, min_cuda_compute_capability=None\n",
    "# )\n",
    "tf.config.list_physical_devices('GPU')\n",
    "\n",
    "!nvidia-smi\n",
    "\n"
   ]
  },
  {
   "cell_type": "code",
   "execution_count": 4,
   "metadata": {},
   "outputs": [],
   "source": [
    "import warnings\n",
    "warnings.filterwarnings('ignore')\n",
    "PRERR=False\n",
    "def prerr(err):\n",
    "    if PRERR:\n",
    "        print(\"\\033[0;31m Error in \"+str(sys._getframe().f_code.co_name) +\" \\033[0;33m\"+str(err))"
   ]
  },
  {
   "cell_type": "code",
   "execution_count": 5,
   "metadata": {},
   "outputs": [],
   "source": [
    "#MetaData=get_crypto_metadata(Binance_USDT_HALAL)\n",
    "MetaData = pd.read_csv(\"D:\\+DATA+\\MetaData.csv\")\n",
    "df = pd.read_csv('D:/+DATA+/allok_w15_nosell.csv',index_col=0)"
   ]
  },
  {
   "cell_type": "code",
   "execution_count": 6,
   "metadata": {},
   "outputs": [],
   "source": [
    "#df=df.drop(columns=\"sell\")\n",
    "#df=df.drop(columns=[\"Unnamed: 0\"])\n",
    "#df.to_csv('D:/+DATA+/allok_w15_nosell.csv')"
   ]
  },
  {
   "cell_type": "code",
   "execution_count": 7,
   "metadata": {},
   "outputs": [
    {
     "data": {
      "text/plain": [
       "6337.254440307617"
      ]
     },
     "execution_count": 7,
     "metadata": {},
     "output_type": "execute_result"
    }
   ],
   "source": [
    "sys.getsizeof(df)/(1024**2)"
   ]
  },
  {
   "cell_type": "markdown",
   "metadata": {},
   "source": [
    "## Testing impoted DATA"
   ]
  },
  {
   "cell_type": "code",
   "execution_count": 8,
   "metadata": {},
   "outputs": [
    {
     "data": {
      "text/html": [
       "<div>\n",
       "<style scoped>\n",
       "    .dataframe tbody tr th:only-of-type {\n",
       "        vertical-align: middle;\n",
       "    }\n",
       "\n",
       "    .dataframe tbody tr th {\n",
       "        vertical-align: top;\n",
       "    }\n",
       "\n",
       "    .dataframe thead th {\n",
       "        text-align: right;\n",
       "    }\n",
       "</style>\n",
       "<table border=\"1\" class=\"dataframe\">\n",
       "  <thead>\n",
       "    <tr style=\"text-align: right;\">\n",
       "      <th></th>\n",
       "      <th>open</th>\n",
       "      <th>high</th>\n",
       "      <th>low</th>\n",
       "      <th>close</th>\n",
       "      <th>volume</th>\n",
       "      <th>high-1</th>\n",
       "      <th>low-1</th>\n",
       "      <th>open-1</th>\n",
       "      <th>close-1</th>\n",
       "      <th>volume-1</th>\n",
       "      <th>...</th>\n",
       "      <th>BTC_high-15_5min</th>\n",
       "      <th>BTC_low-15_5min</th>\n",
       "      <th>BTC_open-15_5min</th>\n",
       "      <th>BTC_close-15_5min</th>\n",
       "      <th>BTC_volume-15_5min</th>\n",
       "      <th>day</th>\n",
       "      <th>hour</th>\n",
       "      <th>minute</th>\n",
       "      <th>lunch_day</th>\n",
       "      <th>buy</th>\n",
       "    </tr>\n",
       "  </thead>\n",
       "  <tbody>\n",
       "    <tr>\n",
       "      <th>5</th>\n",
       "      <td>0.259200</td>\n",
       "      <td>0.259300</td>\n",
       "      <td>0.254700</td>\n",
       "      <td>0.258000</td>\n",
       "      <td>38103.38</td>\n",
       "      <td>0.259900</td>\n",
       "      <td>0.257900</td>\n",
       "      <td>0.259000</td>\n",
       "      <td>0.259400</td>\n",
       "      <td>26573.45</td>\n",
       "      <td>...</td>\n",
       "      <td>52500.42</td>\n",
       "      <td>52066.99</td>\n",
       "      <td>52066.99</td>\n",
       "      <td>52469.49</td>\n",
       "      <td>909.313696</td>\n",
       "      <td>1</td>\n",
       "      <td>15</td>\n",
       "      <td>18</td>\n",
       "      <td>-117</td>\n",
       "      <td>1</td>\n",
       "    </tr>\n",
       "    <tr>\n",
       "      <th>6</th>\n",
       "      <td>0.000043</td>\n",
       "      <td>0.000043</td>\n",
       "      <td>0.000043</td>\n",
       "      <td>0.000043</td>\n",
       "      <td>47526628.00</td>\n",
       "      <td>0.000043</td>\n",
       "      <td>0.000043</td>\n",
       "      <td>0.000043</td>\n",
       "      <td>0.000043</td>\n",
       "      <td>21892392.00</td>\n",
       "      <td>...</td>\n",
       "      <td>29609.47</td>\n",
       "      <td>29536.22</td>\n",
       "      <td>29536.23</td>\n",
       "      <td>29564.50</td>\n",
       "      <td>272.084180</td>\n",
       "      <td>6</td>\n",
       "      <td>4</td>\n",
       "      <td>37</td>\n",
       "      <td>-611</td>\n",
       "      <td>1</td>\n",
       "    </tr>\n",
       "    <tr>\n",
       "      <th>7</th>\n",
       "      <td>0.052220</td>\n",
       "      <td>0.052220</td>\n",
       "      <td>0.052220</td>\n",
       "      <td>0.052220</td>\n",
       "      <td>218.60</td>\n",
       "      <td>0.052250</td>\n",
       "      <td>0.052240</td>\n",
       "      <td>0.052250</td>\n",
       "      <td>0.052240</td>\n",
       "      <td>814.50</td>\n",
       "      <td>...</td>\n",
       "      <td>19085.65</td>\n",
       "      <td>19052.62</td>\n",
       "      <td>19085.64</td>\n",
       "      <td>19076.30</td>\n",
       "      <td>120.363966</td>\n",
       "      <td>1</td>\n",
       "      <td>3</td>\n",
       "      <td>18</td>\n",
       "      <td>-314</td>\n",
       "      <td>1</td>\n",
       "    </tr>\n",
       "    <tr>\n",
       "      <th>11</th>\n",
       "      <td>3.036200</td>\n",
       "      <td>3.036200</td>\n",
       "      <td>3.008200</td>\n",
       "      <td>3.018100</td>\n",
       "      <td>101695.10</td>\n",
       "      <td>3.046600</td>\n",
       "      <td>3.035300</td>\n",
       "      <td>3.046500</td>\n",
       "      <td>3.035700</td>\n",
       "      <td>6457.70</td>\n",
       "      <td>...</td>\n",
       "      <td>39785.99</td>\n",
       "      <td>39713.50</td>\n",
       "      <td>39719.99</td>\n",
       "      <td>39767.99</td>\n",
       "      <td>125.824500</td>\n",
       "      <td>4</td>\n",
       "      <td>13</td>\n",
       "      <td>59</td>\n",
       "      <td>-741</td>\n",
       "      <td>1</td>\n",
       "    </tr>\n",
       "    <tr>\n",
       "      <th>17</th>\n",
       "      <td>0.287290</td>\n",
       "      <td>0.287900</td>\n",
       "      <td>0.286660</td>\n",
       "      <td>0.287710</td>\n",
       "      <td>45267.50</td>\n",
       "      <td>0.287900</td>\n",
       "      <td>0.286760</td>\n",
       "      <td>0.287350</td>\n",
       "      <td>0.287290</td>\n",
       "      <td>64389.70</td>\n",
       "      <td>...</td>\n",
       "      <td>35949.60</td>\n",
       "      <td>35861.24</td>\n",
       "      <td>35870.17</td>\n",
       "      <td>35912.68</td>\n",
       "      <td>219.663963</td>\n",
       "      <td>6</td>\n",
       "      <td>16</td>\n",
       "      <td>56</td>\n",
       "      <td>-335</td>\n",
       "      <td>1</td>\n",
       "    </tr>\n",
       "    <tr>\n",
       "      <th>...</th>\n",
       "      <td>...</td>\n",
       "      <td>...</td>\n",
       "      <td>...</td>\n",
       "      <td>...</td>\n",
       "      <td>...</td>\n",
       "      <td>...</td>\n",
       "      <td>...</td>\n",
       "      <td>...</td>\n",
       "      <td>...</td>\n",
       "      <td>...</td>\n",
       "      <td>...</td>\n",
       "      <td>...</td>\n",
       "      <td>...</td>\n",
       "      <td>...</td>\n",
       "      <td>...</td>\n",
       "      <td>...</td>\n",
       "      <td>...</td>\n",
       "      <td>...</td>\n",
       "      <td>...</td>\n",
       "      <td>...</td>\n",
       "      <td>...</td>\n",
       "    </tr>\n",
       "    <tr>\n",
       "      <th>1084353</th>\n",
       "      <td>5.646400</td>\n",
       "      <td>5.677400</td>\n",
       "      <td>5.612800</td>\n",
       "      <td>5.666700</td>\n",
       "      <td>30206.87</td>\n",
       "      <td>5.674200</td>\n",
       "      <td>5.577100</td>\n",
       "      <td>5.604200</td>\n",
       "      <td>5.646400</td>\n",
       "      <td>46021.36</td>\n",
       "      <td>...</td>\n",
       "      <td>50077.90</td>\n",
       "      <td>49380.14</td>\n",
       "      <td>49952.49</td>\n",
       "      <td>50037.51</td>\n",
       "      <td>816.505984</td>\n",
       "      <td>2</td>\n",
       "      <td>7</td>\n",
       "      <td>17</td>\n",
       "      <td>-223</td>\n",
       "      <td>1</td>\n",
       "    </tr>\n",
       "    <tr>\n",
       "      <th>1084361</th>\n",
       "      <td>2.428000</td>\n",
       "      <td>2.431000</td>\n",
       "      <td>2.424000</td>\n",
       "      <td>2.430000</td>\n",
       "      <td>1538.10</td>\n",
       "      <td>2.434000</td>\n",
       "      <td>2.425000</td>\n",
       "      <td>2.434000</td>\n",
       "      <td>2.430000</td>\n",
       "      <td>1785.40</td>\n",
       "      <td>...</td>\n",
       "      <td>38834.02</td>\n",
       "      <td>38699.99</td>\n",
       "      <td>38700.00</td>\n",
       "      <td>38815.49</td>\n",
       "      <td>82.259800</td>\n",
       "      <td>3</td>\n",
       "      <td>0</td>\n",
       "      <td>39</td>\n",
       "      <td>-638</td>\n",
       "      <td>1</td>\n",
       "    </tr>\n",
       "    <tr>\n",
       "      <th>1084364</th>\n",
       "      <td>1.039700</td>\n",
       "      <td>1.040300</td>\n",
       "      <td>1.035000</td>\n",
       "      <td>1.036200</td>\n",
       "      <td>1597635.57</td>\n",
       "      <td>1.042000</td>\n",
       "      <td>1.039600</td>\n",
       "      <td>1.039800</td>\n",
       "      <td>1.039700</td>\n",
       "      <td>822241.14</td>\n",
       "      <td>...</td>\n",
       "      <td>39420.77</td>\n",
       "      <td>39271.96</td>\n",
       "      <td>39296.40</td>\n",
       "      <td>39288.07</td>\n",
       "      <td>605.105036</td>\n",
       "      <td>4</td>\n",
       "      <td>11</td>\n",
       "      <td>25</td>\n",
       "      <td>607</td>\n",
       "      <td>1</td>\n",
       "    </tr>\n",
       "    <tr>\n",
       "      <th>1084369</th>\n",
       "      <td>0.451630</td>\n",
       "      <td>0.451630</td>\n",
       "      <td>0.449670</td>\n",
       "      <td>0.451380</td>\n",
       "      <td>10695.90</td>\n",
       "      <td>0.452800</td>\n",
       "      <td>0.451660</td>\n",
       "      <td>0.451660</td>\n",
       "      <td>0.452730</td>\n",
       "      <td>4355.60</td>\n",
       "      <td>...</td>\n",
       "      <td>35776.57</td>\n",
       "      <td>35588.00</td>\n",
       "      <td>35773.34</td>\n",
       "      <td>35605.99</td>\n",
       "      <td>198.151291</td>\n",
       "      <td>1</td>\n",
       "      <td>0</td>\n",
       "      <td>22</td>\n",
       "      <td>98</td>\n",
       "      <td>1</td>\n",
       "    </tr>\n",
       "    <tr>\n",
       "      <th>1084375</th>\n",
       "      <td>0.228300</td>\n",
       "      <td>0.228300</td>\n",
       "      <td>0.228300</td>\n",
       "      <td>0.228300</td>\n",
       "      <td>0.00</td>\n",
       "      <td>0.228600</td>\n",
       "      <td>0.228300</td>\n",
       "      <td>0.228300</td>\n",
       "      <td>0.228300</td>\n",
       "      <td>1958.00</td>\n",
       "      <td>...</td>\n",
       "      <td>30537.78</td>\n",
       "      <td>30371.71</td>\n",
       "      <td>30386.90</td>\n",
       "      <td>30476.50</td>\n",
       "      <td>311.876700</td>\n",
       "      <td>5</td>\n",
       "      <td>17</td>\n",
       "      <td>24</td>\n",
       "      <td>-667</td>\n",
       "      <td>1</td>\n",
       "    </tr>\n",
       "  </tbody>\n",
       "</table>\n",
       "<p>214970 rows × 765 columns</p>\n",
       "</div>"
      ],
      "text/plain": [
       "             open      high       low     close       volume    high-1  \\\n",
       "5        0.259200  0.259300  0.254700  0.258000     38103.38  0.259900   \n",
       "6        0.000043  0.000043  0.000043  0.000043  47526628.00  0.000043   \n",
       "7        0.052220  0.052220  0.052220  0.052220       218.60  0.052250   \n",
       "11       3.036200  3.036200  3.008200  3.018100    101695.10  3.046600   \n",
       "17       0.287290  0.287900  0.286660  0.287710     45267.50  0.287900   \n",
       "...           ...       ...       ...       ...          ...       ...   \n",
       "1084353  5.646400  5.677400  5.612800  5.666700     30206.87  5.674200   \n",
       "1084361  2.428000  2.431000  2.424000  2.430000      1538.10  2.434000   \n",
       "1084364  1.039700  1.040300  1.035000  1.036200   1597635.57  1.042000   \n",
       "1084369  0.451630  0.451630  0.449670  0.451380     10695.90  0.452800   \n",
       "1084375  0.228300  0.228300  0.228300  0.228300         0.00  0.228600   \n",
       "\n",
       "            low-1    open-1   close-1     volume-1  ...  BTC_high-15_5min  \\\n",
       "5        0.257900  0.259000  0.259400     26573.45  ...          52500.42   \n",
       "6        0.000043  0.000043  0.000043  21892392.00  ...          29609.47   \n",
       "7        0.052240  0.052250  0.052240       814.50  ...          19085.65   \n",
       "11       3.035300  3.046500  3.035700      6457.70  ...          39785.99   \n",
       "17       0.286760  0.287350  0.287290     64389.70  ...          35949.60   \n",
       "...           ...       ...       ...          ...  ...               ...   \n",
       "1084353  5.577100  5.604200  5.646400     46021.36  ...          50077.90   \n",
       "1084361  2.425000  2.434000  2.430000      1785.40  ...          38834.02   \n",
       "1084364  1.039600  1.039800  1.039700    822241.14  ...          39420.77   \n",
       "1084369  0.451660  0.451660  0.452730      4355.60  ...          35776.57   \n",
       "1084375  0.228300  0.228300  0.228300      1958.00  ...          30537.78   \n",
       "\n",
       "         BTC_low-15_5min  BTC_open-15_5min  BTC_close-15_5min  \\\n",
       "5               52066.99          52066.99           52469.49   \n",
       "6               29536.22          29536.23           29564.50   \n",
       "7               19052.62          19085.64           19076.30   \n",
       "11              39713.50          39719.99           39767.99   \n",
       "17              35861.24          35870.17           35912.68   \n",
       "...                  ...               ...                ...   \n",
       "1084353         49380.14          49952.49           50037.51   \n",
       "1084361         38699.99          38700.00           38815.49   \n",
       "1084364         39271.96          39296.40           39288.07   \n",
       "1084369         35588.00          35773.34           35605.99   \n",
       "1084375         30371.71          30386.90           30476.50   \n",
       "\n",
       "         BTC_volume-15_5min  day  hour  minute  lunch_day  buy  \n",
       "5                909.313696    1    15      18       -117    1  \n",
       "6                272.084180    6     4      37       -611    1  \n",
       "7                120.363966    1     3      18       -314    1  \n",
       "11               125.824500    4    13      59       -741    1  \n",
       "17               219.663963    6    16      56       -335    1  \n",
       "...                     ...  ...   ...     ...        ...  ...  \n",
       "1084353          816.505984    2     7      17       -223    1  \n",
       "1084361           82.259800    3     0      39       -638    1  \n",
       "1084364          605.105036    4    11      25        607    1  \n",
       "1084369          198.151291    1     0      22         98    1  \n",
       "1084375          311.876700    5    17      24       -667    1  \n",
       "\n",
       "[214970 rows x 765 columns]"
      ]
     },
     "execution_count": 8,
     "metadata": {},
     "output_type": "execute_result"
    }
   ],
   "source": [
    "df[df['buy']==1]"
   ]
  },
  {
   "cell_type": "code",
   "execution_count": 9,
   "metadata": {},
   "outputs": [
    {
     "data": {
      "text/plain": [
       "0.0"
      ]
     },
     "execution_count": 9,
     "metadata": {},
     "output_type": "execute_result"
    }
   ],
   "source": [
    "df.iloc[1000037][\"buy\"]"
   ]
  },
  {
   "cell_type": "code",
   "execution_count": 10,
   "metadata": {},
   "outputs": [],
   "source": [
    "\n",
    "\n",
    "high_weight=3\n",
    "df[\"high\"]=(df[\"open\"]+high_weight*df[\"high\"]+df[\"low\"]+df[\"close\"])/(3+high_weight)\n",
    "df.rename(columns={\"high\":\"price\"},inplace = True)\n",
    "df[\"BTC_high\"]=(df[\"BTC_open\"]+high_weight*df[\"BTC_high\"]+df[\"BTC_low\"]+df[\"BTC_close\"])/(3+high_weight)\n",
    "df.rename(columns={\"BTC_high\":\"BTC_price\"},inplace = True)\n",
    "df2=df.drop(columns=[\"BTC_open\",\"BTC_low\",\"BTC_close\",\"open\",\"low\",\"close\"])\n",
    "del(df)\n",
    "df=df2\n",
    "#del(df2)\n",
    "for key in df.keys():\n",
    "    if key.find(\"BTC\")!=-1 and (key.find(\"open\")!=-1 or\n",
    "    key.find(\"high\")!=-1 or key.find(\"low\")!=-1 or key.find(\"close\")!=-1):\n",
    "        df[key]=(df[\"BTC_price\"]-df[key])/df[\"BTC_price\"]\n",
    "    if key.find(\"BTC\")==-1 and (key.find(\"open\")!=-1 or\n",
    "    key.find(\"high\")!=-1 or key.find(\"low\")!=-1 or key.find(\"close\")!=-1):\n",
    "        df[key]=(df[\"price\"]-df[key])/df[\"price\"]\n",
    "\n",
    "df1=df[df[\"buy\"]==1]\n",
    "df0=df[df[\"buy\"]==0].iloc[0:len(df1)]\n",
    "df=pd.concat([df1,df0],axis=0)\n",
    "del(df1)\n",
    "del(df0)\n",
    "\n",
    "\n"
   ]
  },
  {
   "cell_type": "code",
   "execution_count": 22,
   "metadata": {},
   "outputs": [],
   "source": [
    "#VolRemover=[\"volume\",\"volume-1\",\"BTC_volume-1\"]\n",
    "VolRemover=[]\n",
    "for key in df.keys():\n",
    "    if key.find(\"volume-1_\") != -1 :\n",
    "        VolRemover.append(key)\n",
    "\n",
    "df=df.drop(columns=VolRemover)"
   ]
  },
  {
   "cell_type": "code",
   "execution_count": 23,
   "metadata": {},
   "outputs": [
    {
     "data": {
      "text/plain": [
       "False"
      ]
     },
     "execution_count": 23,
     "metadata": {},
     "output_type": "execute_result"
    }
   ],
   "source": [
    "\"volume-1_1day\" in df.keys()"
   ]
  },
  {
   "cell_type": "code",
   "execution_count": null,
   "metadata": {},
   "outputs": [],
   "source": [
    "for k in df.keys():print(k, end=\"  ; \")"
   ]
  },
  {
   "cell_type": "code",
   "execution_count": 27,
   "metadata": {},
   "outputs": [
    {
     "data": {
      "text/plain": [
       "Index(['price', 'high-1', 'low-1', 'open-1', 'close-1', 'high-2', 'low-2',\n",
       "       'open-2', 'close-2', 'volume-2',\n",
       "       ...\n",
       "       'BTC_high-15_5min', 'BTC_low-15_5min', 'BTC_open-15_5min',\n",
       "       'BTC_close-15_5min', 'BTC_volume-15_5min', 'day', 'hour', 'minute',\n",
       "       'lunch_day', 'buy'],\n",
       "      dtype='object', length=748)"
      ]
     },
     "execution_count": 27,
     "metadata": {},
     "output_type": "execute_result"
    }
   ],
   "source": [
    "df.keys()"
   ]
  },
  {
   "cell_type": "code",
   "execution_count": 29,
   "metadata": {},
   "outputs": [],
   "source": [
    "df.to_csv(\"cleaned_w15_50percent_novolume.csv\")"
   ]
  },
  {
   "cell_type": "code",
   "execution_count": null,
   "metadata": {},
   "outputs": [],
   "source": [
    "try:\n",
    "    df=pd.concat([df1,df0],axis=0).drop(columns=['volume-1', 'volume-1','close','BTC_volume-1', 'BTC_volume-1','BTC_volume-1'])\n",
    "except:\n",
    "    print(\"df may be clean\")\n",
    "    "
   ]
  },
  {
   "cell_type": "code",
   "execution_count": 30,
   "metadata": {},
   "outputs": [
    {
     "ename": "NameError",
     "evalue": "name 'df1' is not defined",
     "output_type": "error",
     "traceback": [
      "\u001b[1;31m---------------------------------------------------------------------------\u001b[0m",
      "\u001b[1;31mNameError\u001b[0m                                 Traceback (most recent call last)",
      "Cell \u001b[1;32mIn [30], line 1\u001b[0m\n\u001b[1;32m----> 1\u001b[0m \u001b[38;5;28;01mdel\u001b[39;00m(df1)\n\u001b[0;32m      2\u001b[0m \u001b[38;5;28;01mdel\u001b[39;00m(df0)\n",
      "\u001b[1;31mNameError\u001b[0m: name 'df1' is not defined"
     ]
    }
   ],
   "source": [
    "del(df1)\n",
    "del(df0)"
   ]
  },
  {
   "cell_type": "code",
   "execution_count": 31,
   "metadata": {},
   "outputs": [
    {
     "data": {
      "text/html": [
       "<div>\n",
       "<style scoped>\n",
       "    .dataframe tbody tr th:only-of-type {\n",
       "        vertical-align: middle;\n",
       "    }\n",
       "\n",
       "    .dataframe tbody tr th {\n",
       "        vertical-align: top;\n",
       "    }\n",
       "\n",
       "    .dataframe thead th {\n",
       "        text-align: right;\n",
       "    }\n",
       "</style>\n",
       "<table border=\"1\" class=\"dataframe\">\n",
       "  <thead>\n",
       "    <tr style=\"text-align: right;\">\n",
       "      <th></th>\n",
       "      <th>price</th>\n",
       "      <th>high-1</th>\n",
       "      <th>low-1</th>\n",
       "      <th>open-1</th>\n",
       "      <th>close-1</th>\n",
       "      <th>high-2</th>\n",
       "      <th>low-2</th>\n",
       "      <th>open-2</th>\n",
       "      <th>close-2</th>\n",
       "      <th>volume-2</th>\n",
       "      <th>...</th>\n",
       "      <th>BTC_high-15_5min</th>\n",
       "      <th>BTC_low-15_5min</th>\n",
       "      <th>BTC_open-15_5min</th>\n",
       "      <th>BTC_close-15_5min</th>\n",
       "      <th>BTC_volume-15_5min</th>\n",
       "      <th>day</th>\n",
       "      <th>hour</th>\n",
       "      <th>minute</th>\n",
       "      <th>lunch_day</th>\n",
       "      <th>buy</th>\n",
       "    </tr>\n",
       "  </thead>\n",
       "  <tbody>\n",
       "    <tr>\n",
       "      <th>263373</th>\n",
       "      <td>0.834533</td>\n",
       "      <td>-0.001039</td>\n",
       "      <td>-0.001039</td>\n",
       "      <td>-0.001039</td>\n",
       "      <td>-0.001039</td>\n",
       "      <td>-0.001278</td>\n",
       "      <td>-0.000200</td>\n",
       "      <td>-0.000559</td>\n",
       "      <td>-0.001278</td>\n",
       "      <td>2562.24000</td>\n",
       "      <td>...</td>\n",
       "      <td>-0.000472</td>\n",
       "      <td>0.000659</td>\n",
       "      <td>-0.000458</td>\n",
       "      <td>0.000374</td>\n",
       "      <td>135.739098</td>\n",
       "      <td>5</td>\n",
       "      <td>19</td>\n",
       "      <td>25</td>\n",
       "      <td>572</td>\n",
       "      <td>0</td>\n",
       "    </tr>\n",
       "    <tr>\n",
       "      <th>177238</th>\n",
       "      <td>0.267890</td>\n",
       "      <td>-0.003173</td>\n",
       "      <td>0.002202</td>\n",
       "      <td>-0.002949</td>\n",
       "      <td>0.000747</td>\n",
       "      <td>-0.006794</td>\n",
       "      <td>-0.001978</td>\n",
       "      <td>-0.006197</td>\n",
       "      <td>-0.002949</td>\n",
       "      <td>60725.60000</td>\n",
       "      <td>...</td>\n",
       "      <td>0.000748</td>\n",
       "      <td>0.003573</td>\n",
       "      <td>0.002551</td>\n",
       "      <td>0.000846</td>\n",
       "      <td>86.304710</td>\n",
       "      <td>2</td>\n",
       "      <td>3</td>\n",
       "      <td>17</td>\n",
       "      <td>-323</td>\n",
       "      <td>0</td>\n",
       "    </tr>\n",
       "    <tr>\n",
       "      <th>57208</th>\n",
       "      <td>43.761667</td>\n",
       "      <td>-0.000419</td>\n",
       "      <td>0.000267</td>\n",
       "      <td>-0.000419</td>\n",
       "      <td>0.000267</td>\n",
       "      <td>-0.000647</td>\n",
       "      <td>-0.000419</td>\n",
       "      <td>-0.000647</td>\n",
       "      <td>-0.000419</td>\n",
       "      <td>22.83194</td>\n",
       "      <td>...</td>\n",
       "      <td>-0.001683</td>\n",
       "      <td>-0.001070</td>\n",
       "      <td>-0.001370</td>\n",
       "      <td>-0.001494</td>\n",
       "      <td>115.725349</td>\n",
       "      <td>3</td>\n",
       "      <td>3</td>\n",
       "      <td>8</td>\n",
       "      <td>749</td>\n",
       "      <td>0</td>\n",
       "    </tr>\n",
       "    <tr>\n",
       "      <th>91407</th>\n",
       "      <td>0.000270</td>\n",
       "      <td>-0.003704</td>\n",
       "      <td>-0.003704</td>\n",
       "      <td>-0.003704</td>\n",
       "      <td>-0.003704</td>\n",
       "      <td>-0.003704</td>\n",
       "      <td>-0.003704</td>\n",
       "      <td>-0.003704</td>\n",
       "      <td>-0.003704</td>\n",
       "      <td>62671.00000</td>\n",
       "      <td>...</td>\n",
       "      <td>-0.009368</td>\n",
       "      <td>-0.006812</td>\n",
       "      <td>-0.009299</td>\n",
       "      <td>-0.006813</td>\n",
       "      <td>243.119622</td>\n",
       "      <td>3</td>\n",
       "      <td>5</td>\n",
       "      <td>4</td>\n",
       "      <td>133</td>\n",
       "      <td>0</td>\n",
       "    </tr>\n",
       "    <tr>\n",
       "      <th>127022</th>\n",
       "      <td>0.728150</td>\n",
       "      <td>-0.001305</td>\n",
       "      <td>0.006661</td>\n",
       "      <td>0.006249</td>\n",
       "      <td>-0.001167</td>\n",
       "      <td>0.002266</td>\n",
       "      <td>0.006523</td>\n",
       "      <td>0.006523</td>\n",
       "      <td>0.006249</td>\n",
       "      <td>208749.60000</td>\n",
       "      <td>...</td>\n",
       "      <td>-0.018855</td>\n",
       "      <td>-0.015650</td>\n",
       "      <td>-0.018256</td>\n",
       "      <td>-0.015812</td>\n",
       "      <td>111.089970</td>\n",
       "      <td>2</td>\n",
       "      <td>9</td>\n",
       "      <td>28</td>\n",
       "      <td>-351</td>\n",
       "      <td>0</td>\n",
       "    </tr>\n",
       "    <tr>\n",
       "      <th>...</th>\n",
       "      <td>...</td>\n",
       "      <td>...</td>\n",
       "      <td>...</td>\n",
       "      <td>...</td>\n",
       "      <td>...</td>\n",
       "      <td>...</td>\n",
       "      <td>...</td>\n",
       "      <td>...</td>\n",
       "      <td>...</td>\n",
       "      <td>...</td>\n",
       "      <td>...</td>\n",
       "      <td>...</td>\n",
       "      <td>...</td>\n",
       "      <td>...</td>\n",
       "      <td>...</td>\n",
       "      <td>...</td>\n",
       "      <td>...</td>\n",
       "      <td>...</td>\n",
       "      <td>...</td>\n",
       "      <td>...</td>\n",
       "      <td>...</td>\n",
       "    </tr>\n",
       "    <tr>\n",
       "      <th>101366</th>\n",
       "      <td>4.099367</td>\n",
       "      <td>0.001577</td>\n",
       "      <td>0.004261</td>\n",
       "      <td>0.002529</td>\n",
       "      <td>0.001577</td>\n",
       "      <td>0.000553</td>\n",
       "      <td>0.005115</td>\n",
       "      <td>0.001309</td>\n",
       "      <td>0.002773</td>\n",
       "      <td>18340.92000</td>\n",
       "      <td>...</td>\n",
       "      <td>-0.004630</td>\n",
       "      <td>-0.002987</td>\n",
       "      <td>-0.003730</td>\n",
       "      <td>-0.003795</td>\n",
       "      <td>140.776594</td>\n",
       "      <td>1</td>\n",
       "      <td>23</td>\n",
       "      <td>1</td>\n",
       "      <td>-230</td>\n",
       "      <td>0</td>\n",
       "    </tr>\n",
       "    <tr>\n",
       "      <th>185226</th>\n",
       "      <td>2.403000</td>\n",
       "      <td>-0.000832</td>\n",
       "      <td>-0.000832</td>\n",
       "      <td>-0.000832</td>\n",
       "      <td>-0.000832</td>\n",
       "      <td>-0.001248</td>\n",
       "      <td>-0.000832</td>\n",
       "      <td>-0.001248</td>\n",
       "      <td>-0.000832</td>\n",
       "      <td>15.00000</td>\n",
       "      <td>...</td>\n",
       "      <td>-0.009789</td>\n",
       "      <td>-0.007048</td>\n",
       "      <td>-0.007466</td>\n",
       "      <td>-0.009034</td>\n",
       "      <td>138.743890</td>\n",
       "      <td>5</td>\n",
       "      <td>7</td>\n",
       "      <td>25</td>\n",
       "      <td>130</td>\n",
       "      <td>0</td>\n",
       "    </tr>\n",
       "    <tr>\n",
       "      <th>131379</th>\n",
       "      <td>1.104133</td>\n",
       "      <td>-0.001872</td>\n",
       "      <td>-0.000785</td>\n",
       "      <td>-0.001872</td>\n",
       "      <td>-0.000785</td>\n",
       "      <td>-0.002959</td>\n",
       "      <td>-0.002143</td>\n",
       "      <td>-0.002143</td>\n",
       "      <td>-0.002143</td>\n",
       "      <td>292.00000</td>\n",
       "      <td>...</td>\n",
       "      <td>-0.006039</td>\n",
       "      <td>-0.002814</td>\n",
       "      <td>-0.004780</td>\n",
       "      <td>-0.002936</td>\n",
       "      <td>212.879800</td>\n",
       "      <td>4</td>\n",
       "      <td>10</td>\n",
       "      <td>49</td>\n",
       "      <td>307</td>\n",
       "      <td>0</td>\n",
       "    </tr>\n",
       "    <tr>\n",
       "      <th>166187</th>\n",
       "      <td>1.356800</td>\n",
       "      <td>0.000000</td>\n",
       "      <td>0.001253</td>\n",
       "      <td>0.000663</td>\n",
       "      <td>0.000737</td>\n",
       "      <td>0.000737</td>\n",
       "      <td>0.001695</td>\n",
       "      <td>0.001474</td>\n",
       "      <td>0.000737</td>\n",
       "      <td>79354.55000</td>\n",
       "      <td>...</td>\n",
       "      <td>-0.003522</td>\n",
       "      <td>-0.001499</td>\n",
       "      <td>-0.002159</td>\n",
       "      <td>-0.002339</td>\n",
       "      <td>273.298550</td>\n",
       "      <td>2</td>\n",
       "      <td>8</td>\n",
       "      <td>35</td>\n",
       "      <td>624</td>\n",
       "      <td>0</td>\n",
       "    </tr>\n",
       "    <tr>\n",
       "      <th>65294</th>\n",
       "      <td>1.479833</td>\n",
       "      <td>-0.000788</td>\n",
       "      <td>0.001577</td>\n",
       "      <td>-0.000045</td>\n",
       "      <td>0.001577</td>\n",
       "      <td>0.000698</td>\n",
       "      <td>0.001644</td>\n",
       "      <td>0.001509</td>\n",
       "      <td>0.001644</td>\n",
       "      <td>472.47000</td>\n",
       "      <td>...</td>\n",
       "      <td>-0.003355</td>\n",
       "      <td>-0.000425</td>\n",
       "      <td>-0.000894</td>\n",
       "      <td>-0.002377</td>\n",
       "      <td>165.345040</td>\n",
       "      <td>2</td>\n",
       "      <td>9</td>\n",
       "      <td>52</td>\n",
       "      <td>-685</td>\n",
       "      <td>0</td>\n",
       "    </tr>\n",
       "  </tbody>\n",
       "</table>\n",
       "<p>429940 rows × 748 columns</p>\n",
       "</div>"
      ],
      "text/plain": [
       "            price    high-1     low-1    open-1   close-1    high-2     low-2  \\\n",
       "263373   0.834533 -0.001039 -0.001039 -0.001039 -0.001039 -0.001278 -0.000200   \n",
       "177238   0.267890 -0.003173  0.002202 -0.002949  0.000747 -0.006794 -0.001978   \n",
       "57208   43.761667 -0.000419  0.000267 -0.000419  0.000267 -0.000647 -0.000419   \n",
       "91407    0.000270 -0.003704 -0.003704 -0.003704 -0.003704 -0.003704 -0.003704   \n",
       "127022   0.728150 -0.001305  0.006661  0.006249 -0.001167  0.002266  0.006523   \n",
       "...           ...       ...       ...       ...       ...       ...       ...   \n",
       "101366   4.099367  0.001577  0.004261  0.002529  0.001577  0.000553  0.005115   \n",
       "185226   2.403000 -0.000832 -0.000832 -0.000832 -0.000832 -0.001248 -0.000832   \n",
       "131379   1.104133 -0.001872 -0.000785 -0.001872 -0.000785 -0.002959 -0.002143   \n",
       "166187   1.356800  0.000000  0.001253  0.000663  0.000737  0.000737  0.001695   \n",
       "65294    1.479833 -0.000788  0.001577 -0.000045  0.001577  0.000698  0.001644   \n",
       "\n",
       "          open-2   close-2      volume-2  ...  BTC_high-15_5min  \\\n",
       "263373 -0.000559 -0.001278    2562.24000  ...         -0.000472   \n",
       "177238 -0.006197 -0.002949   60725.60000  ...          0.000748   \n",
       "57208  -0.000647 -0.000419      22.83194  ...         -0.001683   \n",
       "91407  -0.003704 -0.003704   62671.00000  ...         -0.009368   \n",
       "127022  0.006523  0.006249  208749.60000  ...         -0.018855   \n",
       "...          ...       ...           ...  ...               ...   \n",
       "101366  0.001309  0.002773   18340.92000  ...         -0.004630   \n",
       "185226 -0.001248 -0.000832      15.00000  ...         -0.009789   \n",
       "131379 -0.002143 -0.002143     292.00000  ...         -0.006039   \n",
       "166187  0.001474  0.000737   79354.55000  ...         -0.003522   \n",
       "65294   0.001509  0.001644     472.47000  ...         -0.003355   \n",
       "\n",
       "        BTC_low-15_5min  BTC_open-15_5min  BTC_close-15_5min  \\\n",
       "263373         0.000659         -0.000458           0.000374   \n",
       "177238         0.003573          0.002551           0.000846   \n",
       "57208         -0.001070         -0.001370          -0.001494   \n",
       "91407         -0.006812         -0.009299          -0.006813   \n",
       "127022        -0.015650         -0.018256          -0.015812   \n",
       "...                 ...               ...                ...   \n",
       "101366        -0.002987         -0.003730          -0.003795   \n",
       "185226        -0.007048         -0.007466          -0.009034   \n",
       "131379        -0.002814         -0.004780          -0.002936   \n",
       "166187        -0.001499         -0.002159          -0.002339   \n",
       "65294         -0.000425         -0.000894          -0.002377   \n",
       "\n",
       "        BTC_volume-15_5min  day  hour  minute  lunch_day  buy  \n",
       "263373          135.739098    5    19      25        572    0  \n",
       "177238           86.304710    2     3      17       -323    0  \n",
       "57208           115.725349    3     3       8        749    0  \n",
       "91407           243.119622    3     5       4        133    0  \n",
       "127022          111.089970    2     9      28       -351    0  \n",
       "...                    ...  ...   ...     ...        ...  ...  \n",
       "101366          140.776594    1    23       1       -230    0  \n",
       "185226          138.743890    5     7      25        130    0  \n",
       "131379          212.879800    4    10      49        307    0  \n",
       "166187          273.298550    2     8      35        624    0  \n",
       "65294           165.345040    2     9      52       -685    0  \n",
       "\n",
       "[429940 rows x 748 columns]"
      ]
     },
     "execution_count": 31,
     "metadata": {},
     "output_type": "execute_result"
    }
   ],
   "source": [
    "df=df.reindex(np.random.permutation(df.index))\n",
    "df=df.reindex(np.random.permutation(df.index))\n",
    "df=df.reindex(np.random.permutation(df.index))\n",
    "sys.getsizeof(df)/(1024**2)\n",
    "df\n"
   ]
  },
  {
   "cell_type": "markdown",
   "metadata": {},
   "source": [
    "### Remove volumes"
   ]
  },
  {
   "cell_type": "markdown",
   "metadata": {},
   "source": [
    "Cheking null values"
   ]
  },
  {
   "cell_type": "code",
   "execution_count": 32,
   "metadata": {},
   "outputs": [
    {
     "data": {
      "text/html": [
       "<div>\n",
       "<style scoped>\n",
       "    .dataframe tbody tr th:only-of-type {\n",
       "        vertical-align: middle;\n",
       "    }\n",
       "\n",
       "    .dataframe tbody tr th {\n",
       "        vertical-align: top;\n",
       "    }\n",
       "\n",
       "    .dataframe thead th {\n",
       "        text-align: right;\n",
       "    }\n",
       "</style>\n",
       "<table border=\"1\" class=\"dataframe\">\n",
       "  <thead>\n",
       "    <tr style=\"text-align: right;\">\n",
       "      <th></th>\n",
       "      <th>price</th>\n",
       "      <th>high-1</th>\n",
       "      <th>low-1</th>\n",
       "      <th>open-1</th>\n",
       "      <th>close-1</th>\n",
       "      <th>high-2</th>\n",
       "      <th>low-2</th>\n",
       "      <th>open-2</th>\n",
       "      <th>close-2</th>\n",
       "      <th>volume-2</th>\n",
       "      <th>...</th>\n",
       "      <th>BTC_high-15_5min</th>\n",
       "      <th>BTC_low-15_5min</th>\n",
       "      <th>BTC_open-15_5min</th>\n",
       "      <th>BTC_close-15_5min</th>\n",
       "      <th>BTC_volume-15_5min</th>\n",
       "      <th>day</th>\n",
       "      <th>hour</th>\n",
       "      <th>minute</th>\n",
       "      <th>lunch_day</th>\n",
       "      <th>buy</th>\n",
       "    </tr>\n",
       "  </thead>\n",
       "  <tbody>\n",
       "  </tbody>\n",
       "</table>\n",
       "<p>0 rows × 748 columns</p>\n",
       "</div>"
      ],
      "text/plain": [
       "Empty DataFrame\n",
       "Columns: [price, high-1, low-1, open-1, close-1, high-2, low-2, open-2, close-2, volume-2, high-3, low-3, open-3, close-3, volume-3, high-4, low-4, open-4, close-4, volume-4, high-5, low-5, open-5, close-5, volume-5, high-6, low-6, open-6, close-6, volume-6, high-7, low-7, open-7, close-7, volume-7, high-8, low-8, open-8, close-8, volume-8, high-9, low-9, open-9, close-9, volume-9, high-10, low-10, open-10, close-10, volume-10, high-11, low-11, open-11, close-11, volume-11, high-12, low-12, open-12, close-12, volume-12, high-13, low-13, open-13, close-13, volume-13, high-14, low-14, open-14, close-14, volume-14, high-15, low-15, open-15, close-15, volume-15, high-1_day, low-1_day, open-1_day, close-1_day, high-2_day, low-2_day, open-2_day, close-2_day, volume-2_day, high-3_day, low-3_day, open-3_day, close-3_day, volume-3_day, high-4_day, low-4_day, open-4_day, close-4_day, volume-4_day, high-5_day, low-5_day, open-5_day, close-5_day, volume-5_day, high-6_day, ...]\n",
       "Index: []\n",
       "\n",
       "[0 rows x 748 columns]"
      ]
     },
     "execution_count": 32,
     "metadata": {},
     "output_type": "execute_result"
    }
   ],
   "source": [
    "df[df.isnull().any(axis=1)]"
   ]
  },
  {
   "cell_type": "markdown",
   "metadata": {},
   "source": [
    "checking keys"
   ]
  },
  {
   "cell_type": "code",
   "execution_count": null,
   "metadata": {},
   "outputs": [],
   "source": [
    "for k in df.keys():print(k,end=\"  ;\")"
   ]
  },
  {
   "cell_type": "markdown",
   "metadata": {},
   "source": [
    "# starting numpy process"
   ]
  },
  {
   "cell_type": "markdown",
   "metadata": {},
   "source": [
    "## convert Pandas DataFrame to numpy object"
   ]
  },
  {
   "cell_type": "code",
   "execution_count": 33,
   "metadata": {},
   "outputs": [
    {
     "data": {
      "text/plain": [
       "array([[ 8.34533333e-01, -1.03850455e-03, -1.03850455e-03, ...,\n",
       "         2.50000000e+01,  5.72000000e+02,  0.00000000e+00],\n",
       "       [ 2.67890000e-01, -3.17294412e-03,  2.20239651e-03, ...,\n",
       "         1.70000000e+01, -3.23000000e+02,  0.00000000e+00],\n",
       "       [ 4.37616667e+01, -4.18935903e-04,  2.66595575e-04, ...,\n",
       "         8.00000000e+00,  7.49000000e+02,  0.00000000e+00],\n",
       "       ...,\n",
       "       [ 1.10413333e+00, -1.87175462e-03, -7.84929356e-04, ...,\n",
       "         4.90000000e+01,  3.07000000e+02,  0.00000000e+00],\n",
       "       [ 1.35680000e+00,  0.00000000e+00,  1.25294811e-03, ...,\n",
       "         3.50000000e+01,  6.24000000e+02,  0.00000000e+00],\n",
       "       [ 1.47983333e+00, -7.88377069e-04,  1.57675414e-03, ...,\n",
       "         5.20000000e+01, -6.85000000e+02,  0.00000000e+00]])"
      ]
     },
     "execution_count": 33,
     "metadata": {},
     "output_type": "execute_result"
    }
   ],
   "source": [
    "\n",
    "dt = df.to_numpy()\n",
    "dt\n"
   ]
  },
  {
   "cell_type": "code",
   "execution_count": 36,
   "metadata": {},
   "outputs": [
    {
     "ename": "NameError",
     "evalue": "name 'df' is not defined",
     "output_type": "error",
     "traceback": [
      "\u001b[1;31m---------------------------------------------------------------------------\u001b[0m",
      "\u001b[1;31mNameError\u001b[0m                                 Traceback (most recent call last)",
      "Cell \u001b[1;32mIn [36], line 1\u001b[0m\n\u001b[1;32m----> 1\u001b[0m \u001b[38;5;28;01mdel\u001b[39;00m(df)\n\u001b[0;32m      2\u001b[0m gc\u001b[38;5;241m.\u001b[39mcollect()\n",
      "\u001b[1;31mNameError\u001b[0m: name 'df' is not defined"
     ]
    }
   ],
   "source": [
    "del(df)\n"
   ]
  },
  {
   "cell_type": "code",
   "execution_count": 37,
   "metadata": {},
   "outputs": [
    {
     "data": {
      "text/plain": [
       "2240"
      ]
     },
     "execution_count": 37,
     "metadata": {},
     "output_type": "execute_result"
    }
   ],
   "source": [
    "gc.collect()\n"
   ]
  },
  {
   "cell_type": "code",
   "execution_count": 38,
   "metadata": {},
   "outputs": [
    {
     "data": {
      "text/plain": [
       "(429940, 748)"
      ]
     },
     "execution_count": 38,
     "metadata": {},
     "output_type": "execute_result"
    }
   ],
   "source": [
    "dt.shape"
   ]
  },
  {
   "cell_type": "code",
   "execution_count": 48,
   "metadata": {},
   "outputs": [
    {
     "data": {
      "text/plain": [
       "5.1000000000000005"
      ]
     },
     "execution_count": 48,
     "metadata": {},
     "output_type": "execute_result"
    }
   ],
   "source": [
    "dt[142110,0]"
   ]
  },
  {
   "cell_type": "markdown",
   "metadata": {},
   "source": [
    "### Shuffle the rows Again"
   ]
  },
  {
   "cell_type": "code",
   "execution_count": 49,
   "metadata": {},
   "outputs": [],
   "source": [
    "np.random.shuffle(dt)"
   ]
  },
  {
   "cell_type": "code",
   "execution_count": 50,
   "metadata": {},
   "outputs": [
    {
     "data": {
      "text/plain": [
       "0.00011444091796875"
      ]
     },
     "execution_count": 50,
     "metadata": {},
     "output_type": "execute_result"
    }
   ],
   "source": [
    "sys.getsizeof(dt)/(1024**2)"
   ]
  },
  {
   "cell_type": "code",
   "execution_count": null,
   "metadata": {},
   "outputs": [],
   "source": [
    "#np.savetxt('np_shuffled_cryptodata_w15.csv', dt ,delimiter=',')\n",
    "\n"
   ]
  },
  {
   "cell_type": "code",
   "execution_count": null,
   "metadata": {},
   "outputs": [],
   "source": [
    "#dt=np.genfromtxt('np_shuffled_cryptodata_w15.csv', delimiter=',')"
   ]
  },
  {
   "cell_type": "code",
   "execution_count": 51,
   "metadata": {},
   "outputs": [
    {
     "name": "stdout",
     "output_type": "stream",
     "text": [
      "128982\n"
     ]
    }
   ],
   "source": [
    "index_20percent= int(0.3*len(dt[:,0]))\n",
    "print(index_20percent)"
   ]
  },
  {
   "cell_type": "code",
   "execution_count": 52,
   "metadata": {},
   "outputs": [],
   "source": [
    "XVALIDATION= dt[:index_20percent, :-1]\n",
    "YVALIDATION= dt[:index_20percent,-1]\n"
   ]
  },
  {
   "cell_type": "code",
   "execution_count": 53,
   "metadata": {},
   "outputs": [],
   "source": [
    "XTRAIN= dt[index_20percent:, 0:-1]\n",
    "YTRAIN= dt[index_20percent:,-1]"
   ]
  },
  {
   "cell_type": "markdown",
   "metadata": {},
   "source": [
    "## Normalization"
   ]
  },
  {
   "cell_type": "code",
   "execution_count": 54,
   "metadata": {},
   "outputs": [
    {
     "data": {
      "image/png": "[encoded data removed]",
      "text/plain": [
       "<Figure size 640x480 with 1 Axes>"
      ]
     },
     "metadata": {},
     "output_type": "display_data"
    }
   ],
   "source": [
    "plt.hist(XTRAIN[:,0])\n",
    "plt.ylabel(\"open_1min\")\n",
    "plt.show()"
   ]
  },
  {
   "cell_type": "code",
   "execution_count": 55,
   "metadata": {},
   "outputs": [
    {
     "data": {
      "image/png": "[encoded data removed]",
      "text/plain": [
       "<Figure size 640x480 with 1 Axes>"
      ]
     },
     "metadata": {},
     "output_type": "display_data"
    },
    {
     "data": {
      "image/png": "[encoded data removed]",
      "text/plain": [
       "<Figure size 640x480 with 1 Axes>"
      ]
     },
     "metadata": {},
     "output_type": "display_data"
    }
   ],
   "source": [
    "plt.hist(YTRAIN)\n",
    "plt.ylabel(\"Output labels\")\n",
    "plt.show()\n",
    "\n",
    "plt.hist(YVALIDATION)\n",
    "plt.ylabel(\"Output labels\")\n",
    "plt.show()"
   ]
  },
  {
   "cell_type": "markdown",
   "metadata": {},
   "source": [
    "Tenderalization (mean normalization)"
   ]
  },
  {
   "cell_type": "code",
   "execution_count": 56,
   "metadata": {},
   "outputs": [],
   "source": [
    "mean = XTRAIN.mean(axis=0)\n",
    "XTRAIN -= mean \n",
    "std = XTRAIN.std(axis=0)\n",
    "XTRAIN /= std\n",
    "\n",
    "XVALIDATION -=mean\n",
    "XVALIDATION /= std"
   ]
  },
  {
   "cell_type": "code",
   "execution_count": 58,
   "metadata": {},
   "outputs": [],
   "source": [
    "Normalization={\"mean\":mean.tolist(),\"std\":std.tolist()}\n",
    "with open('Normalization_Values.json', 'w') as fp:\n",
    "            json.dump(Normalization, fp,  indent=4)"
   ]
  },
  {
   "cell_type": "code",
   "execution_count": 59,
   "metadata": {},
   "outputs": [
    {
     "data": {
      "image/png": "[encoded data removed]",
      "text/plain": [
       "<Figure size 640x480 with 1 Axes>"
      ]
     },
     "metadata": {},
     "output_type": "display_data"
    }
   ],
   "source": [
    "plt.hist(XTRAIN[:,0])\n",
    "plt.ylabel(\"open column\")\n",
    "plt.show()"
   ]
  },
  {
   "cell_type": "code",
   "execution_count": 60,
   "metadata": {},
   "outputs": [
    {
     "name": "stdout",
     "output_type": "stream",
     "text": [
      "(300958, 747)\n",
      "(300958,)\n",
      "(128982, 747)\n",
      "(128982,)\n"
     ]
    }
   ],
   "source": [
    "print(XTRAIN.shape)\n",
    "print(YTRAIN.shape)\n",
    "print(XVALIDATION.shape)\n",
    "print(YVALIDATION.shape)"
   ]
  },
  {
   "cell_type": "markdown",
   "metadata": {},
   "source": [
    "# Neural network model"
   ]
  },
  {
   "cell_type": "markdown",
   "metadata": {},
   "source": [
    "### Model Generator"
   ]
  },
  {
   "cell_type": "code",
   "execution_count": 61,
   "metadata": {
    "id": "5SKqJygzA6X7"
   },
   "outputs": [],
   "source": [
    "IN_DIM=len(XTRAIN[0,:])\n",
    "\n",
    "#code genrator\n",
    "global All_Hist\n",
    "try:\n",
    "    with open('Results_history.json') as json_file:\n",
    "        All_Hist = json.load(json_file)\n",
    "except:\n",
    "    All_Hist={0.000001:\"code\"}\n",
    "\n",
    "try:\n",
    "    All_Hist.pop('1e-06')\n",
    "except:\n",
    "    print(All_Hist)\n"
   ]
  },
  {
   "cell_type": "markdown",
   "metadata": {},
   "source": [
    "The neural network architecture:\n",
    "- layer 1 : 764 neurons\n",
    "- layer 2 : 8 neurons\n",
    "- layer 3 : neurons "
   ]
  },
  {
   "cell_type": "markdown",
   "metadata": {},
   "source": [
    "## Model Test"
   ]
  },
  {
   "cell_type": "markdown",
   "metadata": {},
   "source": [
    "## Compile the model "
   ]
  },
  {
   "cell_type": "code",
   "execution_count": 62,
   "metadata": {},
   "outputs": [
    {
     "name": "stdout",
     "output_type": "stream",
     "text": [
      "61/61 [==============================] - 5s 86ms/step - loss: 0.0487 - accuracy: 0.9822 - val_loss: 0.0746 - val_accuracy: 0.9725\n",
      "Epoch 69/1200\n",
      "61/61 [==============================] - 6s 91ms/step - loss: 0.0481 - accuracy: 0.9823 - val_loss: 0.0781 - val_accuracy: 0.9717\n",
      "Epoch 70/1200\n",
      "61/61 [==============================] - 5s 82ms/step - loss: 0.0482 - accuracy: 0.9823 - val_loss: 0.0769 - val_accuracy: 0.9727\n",
      "Epoch 71/1200\n",
      "61/61 [==============================] - 5s 79ms/step - loss: 0.0465 - accuracy: 0.9830 - val_loss: 0.0764 - val_accuracy: 0.9729\n",
      "Epoch 72/1200\n",
      "61/61 [==============================] - 5s 89ms/step - loss: 0.0458 - accuracy: 0.9834 - val_loss: 0.0754 - val_accuracy: 0.9721\n",
      "Epoch 73/1200\n",
      "61/61 [==============================] - 5s 80ms/step - loss: 0.0451 - accuracy: 0.9837 - val_loss: 0.0762 - val_accuracy: 0.9724\n",
      "Epoch 74/1200\n",
      "61/61 [==============================] - 5s 76ms/step - loss: 0.0474 - accuracy: 0.9828 - val_loss: 0.0749 - val_accuracy: 0.9722\n",
      "Epoch 75/1200\n",
      "61/61 [==============================] - 5s 76ms/step - loss: 0.0459 - accuracy: 0.9834 - val_loss: 0.0785 - val_accuracy: 0.9720\n",
      "Epoch 76/1200\n",
      "61/61 [==============================] - 5s 81ms/step - loss: 0.0441 - accuracy: 0.9839 - val_loss: 0.0781 - val_accuracy: 0.9721\n",
      "Epoch 77/1200\n",
      "61/61 [==============================] - 5s 79ms/step - loss: 0.0450 - accuracy: 0.9836 - val_loss: 0.0753 - val_accuracy: 0.9732\n",
      "Epoch 78/1200\n",
      "61/61 [==============================] - 5s 81ms/step - loss: 0.0449 - accuracy: 0.9837 - val_loss: 0.0743 - val_accuracy: 0.9730\n",
      "Epoch 79/1200\n",
      "61/61 [==============================] - 5s 83ms/step - loss: 0.0435 - accuracy: 0.9843 - val_loss: 0.0778 - val_accuracy: 0.9718\n",
      "Epoch 80/1200\n",
      "61/61 [==============================] - 5s 78ms/step - loss: 0.0428 - accuracy: 0.9845 - val_loss: 0.0797 - val_accuracy: 0.9720\n",
      "Epoch 81/1200\n",
      "61/61 [==============================] - 5s 82ms/step - loss: 0.0435 - accuracy: 0.9842 - val_loss: 0.0758 - val_accuracy: 0.9723\n",
      "Epoch 82/1200\n",
      "61/61 [==============================] - 5s 77ms/step - loss: 0.0422 - accuracy: 0.9850 - val_loss: 0.0747 - val_accuracy: 0.9732\n",
      "Epoch 83/1200\n",
      "61/61 [==============================] - 5s 76ms/step - loss: 0.0419 - accuracy: 0.9848 - val_loss: 0.0764 - val_accuracy: 0.9731\n",
      "Epoch 84/1200\n",
      "61/61 [==============================] - 5s 78ms/step - loss: 0.0429 - accuracy: 0.9845 - val_loss: 0.0755 - val_accuracy: 0.9732\n",
      "Epoch 85/1200\n",
      "61/61 [==============================] - 5s 82ms/step - loss: 0.0408 - accuracy: 0.9855 - val_loss: 0.0760 - val_accuracy: 0.9733\n",
      "Epoch 86/1200\n",
      "61/61 [==============================] - 5s 79ms/step - loss: 0.0403 - accuracy: 0.9855 - val_loss: 0.0752 - val_accuracy: 0.9732\n",
      "Epoch 87/1200\n",
      "61/61 [==============================] - 5s 83ms/step - loss: 0.0390 - accuracy: 0.9860 - val_loss: 0.0767 - val_accuracy: 0.9734\n",
      "Epoch 88/1200\n",
      "61/61 [==============================] - 5s 77ms/step - loss: 0.0392 - accuracy: 0.9860 - val_loss: 0.0785 - val_accuracy: 0.9732\n",
      "Epoch 89/1200\n",
      "61/61 [==============================] - 5s 88ms/step - loss: 0.0387 - accuracy: 0.9859 - val_loss: 0.0765 - val_accuracy: 0.9732\n",
      "Epoch 90/1200\n",
      "61/61 [==============================] - 5s 83ms/step - loss: 0.0396 - accuracy: 0.9857 - val_loss: 0.0757 - val_accuracy: 0.9736\n",
      "Epoch 91/1200\n",
      "61/61 [==============================] - 5s 82ms/step - loss: 0.0398 - accuracy: 0.9854 - val_loss: 0.0817 - val_accuracy: 0.9729\n",
      "Epoch 92/1200\n",
      "61/61 [==============================] - 6s 92ms/step - loss: 0.0384 - accuracy: 0.9861 - val_loss: 0.0790 - val_accuracy: 0.9729\n",
      "Epoch 93/1200\n",
      "61/61 [==============================] - 5s 82ms/step - loss: 0.0388 - accuracy: 0.9859 - val_loss: 0.0787 - val_accuracy: 0.9726\n",
      "Epoch 94/1200\n",
      "61/61 [==============================] - 4s 72ms/step - loss: 0.0388 - accuracy: 0.9862 - val_loss: 0.0752 - val_accuracy: 0.9733\n",
      "Epoch 95/1200\n",
      "61/61 [==============================] - 4s 74ms/step - loss: 0.0380 - accuracy: 0.9866 - val_loss: 0.0814 - val_accuracy: 0.9729\n",
      "Epoch 96/1200\n",
      "61/61 [==============================] - 5s 74ms/step - loss: 0.0378 - accuracy: 0.9865 - val_loss: 0.0776 - val_accuracy: 0.9732\n",
      "Epoch 97/1200\n",
      "61/61 [==============================] - 5s 77ms/step - loss: 0.0369 - accuracy: 0.9870 - val_loss: 0.0807 - val_accuracy: 0.9727\n",
      "Epoch 98/1200\n",
      "61/61 [==============================] - 5s 76ms/step - loss: 0.0358 - accuracy: 0.9872 - val_loss: 0.0788 - val_accuracy: 0.9728\n",
      "Epoch 99/1200\n",
      "61/61 [==============================] - 6s 94ms/step - loss: 0.0357 - accuracy: 0.9872 - val_loss: 0.0803 - val_accuracy: 0.9729\n",
      "Epoch 100/1200\n",
      "61/61 [==============================] - 5s 82ms/step - loss: 0.0360 - accuracy: 0.9869 - val_loss: 0.0785 - val_accuracy: 0.9731\n",
      "Epoch 101/1200\n",
      "61/61 [==============================] - 6s 98ms/step - loss: 0.0354 - accuracy: 0.9875 - val_loss: 0.0844 - val_accuracy: 0.9731\n",
      "Epoch 102/1200\n",
      "61/61 [==============================] - 6s 96ms/step - loss: 0.0346 - accuracy: 0.9876 - val_loss: 0.0822 - val_accuracy: 0.9727\n",
      "Epoch 103/1200\n",
      "61/61 [==============================] - 6s 91ms/step - loss: 0.0374 - accuracy: 0.9866 - val_loss: 0.0809 - val_accuracy: 0.9731\n",
      "Epoch 104/1200\n",
      "61/61 [==============================] - 6s 104ms/step - loss: 0.0347 - accuracy: 0.9875 - val_loss: 0.0785 - val_accuracy: 0.9730\n",
      "Epoch 105/1200\n",
      "61/61 [==============================] - 7s 112ms/step - loss: 0.0333 - accuracy: 0.9884 - val_loss: 0.0822 - val_accuracy: 0.9729\n",
      "Epoch 106/1200\n",
      "61/61 [==============================] - 6s 98ms/step - loss: 0.0337 - accuracy: 0.9881 - val_loss: 0.0815 - val_accuracy: 0.9724\n",
      "Epoch 107/1200\n",
      "61/61 [==============================] - 6s 91ms/step - loss: 0.0347 - accuracy: 0.9878 - val_loss: 0.0832 - val_accuracy: 0.9720\n",
      "Epoch 108/1200\n",
      "61/61 [==============================] - 5s 80ms/step - loss: 0.0338 - accuracy: 0.9882 - val_loss: 0.0821 - val_accuracy: 0.9715\n",
      "Epoch 109/1200\n",
      "61/61 [==============================] - 5s 87ms/step - loss: 0.0353 - accuracy: 0.9874 - val_loss: 0.0825 - val_accuracy: 0.9721\n",
      "Epoch 110/1200\n",
      "61/61 [==============================] - 5s 83ms/step - loss: 0.0343 - accuracy: 0.9877 - val_loss: 0.0818 - val_accuracy: 0.9731\n",
      "Epoch 110: early stopping\n",
      "##########################################################################\n",
      "------val_accuracy-----> 97.36 | 98.84 <----------accuracy----------\n"
     ]
    }
   ],
   "source": [
    "model = Sequential()\n",
    "model.add(Dense(int(IN_DIM/2),input_dim=IN_DIM,activation='softplus'))\n",
    "model.add(Dense(int(IN_DIM/2),activation='relu'))\n",
    "model.add(Dropout(0.7))\n",
    "model.add(Dense(int(IN_DIM/5),activation='softplus'))\n",
    "model.add(Dense(int(IN_DIM/4),activation='softmax'))\n",
    "model.add(Dense(int(IN_DIM/1),activation='softplus'))\n",
    "model.add(Dense(1,activation='sigmoid'))\n",
    "print(model.summary())\n",
    "#model.compile(loss='binary_crossentropy',optimizer='rmsprop',metrics=['accuracy'])\n",
    "model.compile(loss='binary_crossentropy',optimizer='adam',metrics=['accuracy'])\n",
    "callbacks_a = ModelCheckpoint(filepath ='XcryptoAi_model.hdf5',monitor ='val_accuracy',save_best_only = True, save_weights = True)\n",
    "callbacks_b = EarlyStopping(monitor ='val_accuracy',mode='auto',patience=20,verbose=1)\n",
    "history = model.fit(XTRAIN,\n",
    "                YTRAIN,\n",
    "                validation_data=(XVALIDATION,YVALIDATION),\n",
    "                epochs=1200,\n",
    "                batch_size=5000,\n",
    "                callbacks=[callbacks_a,callbacks_b])\n",
    "\n",
    "print('##########################################################################')\n",
    "print(f\"------val_accuracy-----> {'{0:.4g}'.format(max(history.history['val_accuracy'])*100)} | {'{0:.4g}'.format(max(history.history['accuracy'])*100)} <----------accuracy----------\")\n"
   ]
  },
  {
   "cell_type": "code",
   "execution_count": 63,
   "metadata": {},
   "outputs": [
    {
     "name": "stdout",
     "output_type": "stream",
     "text": [
      "##########################################################################\n",
      "------val_accuracy-----> 97.36 | 98.84 <----------accuracy----------\n"
     ]
    }
   ],
   "source": [
    "print('##########################################################################')\n",
    "print(f\"------val_accuracy-----> {'{0:.4g}'.format(max(history.history['val_accuracy'])*100)} | {'{0:.4g}'.format(max(history.history['accuracy'])*100)} <----------accuracy----------\")\n"
   ]
  },
  {
   "cell_type": "code",
   "execution_count": 64,
   "metadata": {},
   "outputs": [
    {
     "name": "stdout",
     "output_type": "stream",
     "text": [
      "4031/4031 [==============================] - 97s 24ms/step - loss: 0.0818 - accuracy: 0.9731\n"
     ]
    }
   ],
   "source": [
    "accuracy = model.evaluate(XVALIDATION, YVALIDATION)\n"
   ]
  },
  {
   "cell_type": "code",
   "execution_count": 70,
   "metadata": {},
   "outputs": [
    {
     "data": {
      "text/plain": [
       "array([ 1.34755481,  1.54203805, -0.27254662,  0.02283634, -1.37429572,\n",
       "        0.39523371,  0.08594001])"
      ]
     },
     "execution_count": 70,
     "metadata": {},
     "output_type": "execute_result"
    }
   ],
   "source": [
    "dt[0,740:-1]"
   ]
  },
  {
   "cell_type": "markdown",
   "metadata": {},
   "source": [
    "### Use the model"
   ]
  },
  {
   "cell_type": "code",
   "execution_count": 71,
   "metadata": {},
   "outputs": [],
   "source": [
    "\n",
    "# make probability predictions with the model\n",
    "predictions = model.predict(XVALIDATION)\n",
    "# round predictions \n",
    "rounded = [round(x[0]) for x in predictions]"
   ]
  },
  {
   "cell_type": "code",
   "execution_count": 78,
   "metadata": {},
   "outputs": [
    {
     "data": {
      "text/plain": [
       "0"
      ]
     },
     "execution_count": 78,
     "metadata": {},
     "output_type": "execute_result"
    }
   ],
   "source": [
    "rounded[121201]"
   ]
  },
  {
   "cell_type": "code",
   "execution_count": 79,
   "metadata": {},
   "outputs": [
    {
     "data": {
      "text/plain": [
       "0.0"
      ]
     },
     "execution_count": 79,
     "metadata": {},
     "output_type": "execute_result"
    }
   ],
   "source": [
    "YVALIDATION[121201]"
   ]
  }
 ],
 "metadata": {
  "kernelspec": {
   "display_name": "Python 3.9.7 ('base')",
   "language": "python",
   "name": "python3"
  },
  "language_info": {
   "codemirror_mode": {
    "name": "ipython",
    "version": 3
   },
   "file_extension": ".py",
   "mimetype": "text/x-python",
   "name": "python",
   "nbconvert_exporter": "python",
   "pygments_lexer": "ipython3",
   "version": "3.9.7"
  },
  "orig_nbformat": 4,
  "vscode": {
   "interpreter": {
    "hash": "875f36f95367728e9e1ed7321fa85119a0c86f1195820c7e047475fcf301cc07"
   }
  }
 },
 "nbformat": 4,
 "nbformat_minor": 2
}
