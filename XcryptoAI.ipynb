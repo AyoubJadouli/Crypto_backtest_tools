{
 "cells": [
  {
   "cell_type": "code",
   "execution_count": 2,
   "metadata": {},
   "outputs": [],
   "source": [
    "import sys\n",
    "sys.path.append('a/UltimeTradingBot/Crypto_backtest_tools')\n",
    "from utilities.get_data import get_historical_from_db\n",
    "from utilities.backtesting import basic_single_asset_backtest, plot_wallet_vs_asset, get_metrics\n",
    "import pandas as pd\n",
    "import ccxt\n",
    "import matplotlib.pyplot as plt\n",
    "import ta\n",
    "import numpy as np\n",
    "import random\n",
    "from sklearn.utils import shuffle\n",
    "import seaborn as sns\n",
    "from utilities.backtesting import plot_wallet_vs_asset, get_metrics, get_n_columns, basic_multi_asset_backtest, plot_sharpe_evolution, plot_bar_by_month\n",
    "from utilities.custom_indicators import SuperTrend\n",
    "pd.options.mode.chained_assignment = None  # default='warn'\n"
   ]
  },
  {
   "cell_type": "code",
   "execution_count": 3,
   "metadata": {},
   "outputs": [
    {
     "data": {
      "text/plain": [
       "[PhysicalDevice(name='/physical_device:GPU:0', device_type='GPU')]"
      ]
     },
     "execution_count": 3,
     "metadata": {},
     "output_type": "execute_result"
    }
   ],
   "source": [
    "\n",
    "import tensorflow as tf\n",
    "#tf.test.is_gpu_available(\n",
    "#     cuda_only=False, min_cuda_compute_capability=None\n",
    "# )\n",
    "tf.config.list_physical_devices('GPU')\n",
    "\n"
   ]
  },
  {
   "cell_type": "code",
   "execution_count": 4,
   "metadata": {},
   "outputs": [
    {
     "ename": "AttributeError",
     "evalue": "module 'tensorflow' has no attribute 'Session'",
     "output_type": "error",
     "traceback": [
      "\u001b[1;31m---------------------------------------------------------------------------\u001b[0m",
      "\u001b[1;31mAttributeError\u001b[0m                            Traceback (most recent call last)",
      "\u001b[1;32m~\\AppData\\Local\\Temp/ipykernel_17476/2269825933.py\u001b[0m in \u001b[0;36m<module>\u001b[1;34m\u001b[0m\n\u001b[1;32m----> 1\u001b[1;33m \u001b[0msess\u001b[0m \u001b[1;33m=\u001b[0m \u001b[0mtf\u001b[0m\u001b[1;33m.\u001b[0m\u001b[0mSession\u001b[0m\u001b[1;33m(\u001b[0m\u001b[0mconfig\u001b[0m\u001b[1;33m=\u001b[0m\u001b[0mtf\u001b[0m\u001b[1;33m.\u001b[0m\u001b[0mConfigProto\u001b[0m\u001b[1;33m(\u001b[0m\u001b[0mlog_device_placement\u001b[0m\u001b[1;33m=\u001b[0m\u001b[1;32mTrue\u001b[0m\u001b[1;33m)\u001b[0m\u001b[1;33m)\u001b[0m\u001b[1;33m\u001b[0m\u001b[1;33m\u001b[0m\u001b[0m\n\u001b[0m",
      "\u001b[1;31mAttributeError\u001b[0m: module 'tensorflow' has no attribute 'Session'"
     ]
    }
   ],
   "source": [
    "sess = tf.Session(config=tf.ConfigProto(log_device_placement=True))"
   ]
  },
  {
   "cell_type": "code",
   "execution_count": 6,
   "metadata": {},
   "outputs": [],
   "source": [
    "import warnings\n",
    "warnings.filterwarnings('ignore')"
   ]
  },
  {
   "cell_type": "code",
   "execution_count": 5,
   "metadata": {},
   "outputs": [],
   "source": [
    "PRERR=False\n",
    "def prerr(err):\n",
    "    if PRERR:\n",
    "        print(\"\\033[0;31m Error in \"+str(sys._getframe().f_code.co_name) +\" \\033[0;33m\"+str(err))"
   ]
  },
  {
   "cell_type": "code",
   "execution_count": 7,
   "metadata": {},
   "outputs": [],
   "source": [
    "#MetaData=get_crypto_metadata(Binance_USDT_HALAL)\n",
    "MetaData = pd.read_csv(\"D:\\+DATA+\\MetaData.csv\")\n",
    "df = pd.read_csv('D:/+DATA+/allok_w15_nosell.csv',index_col=0)"
   ]
  },
  {
   "cell_type": "code",
   "execution_count": 4,
   "metadata": {},
   "outputs": [],
   "source": [
    "#df=df.drop(columns=\"sell\")\n",
    "df=df.drop(columns=[\"Unnamed: 0\"])\n",
    "#df.to_csv('D:/+DATA+/allok_w15_nosell.csv')"
   ]
  },
  {
   "cell_type": "code",
   "execution_count": null,
   "metadata": {},
   "outputs": [],
   "source": [
    "sys.getsizeof(df)/(1024**2)"
   ]
  },
  {
   "cell_type": "markdown",
   "metadata": {},
   "source": [
    "## Testing impoted DATA"
   ]
  },
  {
   "cell_type": "code",
   "execution_count": 11,
   "metadata": {},
   "outputs": [
    {
     "data": {
      "text/html": [
       "<div>\n",
       "<style scoped>\n",
       "    .dataframe tbody tr th:only-of-type {\n",
       "        vertical-align: middle;\n",
       "    }\n",
       "\n",
       "    .dataframe tbody tr th {\n",
       "        vertical-align: top;\n",
       "    }\n",
       "\n",
       "    .dataframe thead th {\n",
       "        text-align: right;\n",
       "    }\n",
       "</style>\n",
       "<table border=\"1\" class=\"dataframe\">\n",
       "  <thead>\n",
       "    <tr style=\"text-align: right;\">\n",
       "      <th></th>\n",
       "      <th>open</th>\n",
       "      <th>high</th>\n",
       "      <th>low</th>\n",
       "      <th>close</th>\n",
       "      <th>volume</th>\n",
       "      <th>high-1</th>\n",
       "      <th>low-1</th>\n",
       "      <th>open-1</th>\n",
       "      <th>close-1</th>\n",
       "      <th>volume-1</th>\n",
       "      <th>...</th>\n",
       "      <th>BTC_high-15_5min</th>\n",
       "      <th>BTC_low-15_5min</th>\n",
       "      <th>BTC_open-15_5min</th>\n",
       "      <th>BTC_close-15_5min</th>\n",
       "      <th>BTC_volume-15_5min</th>\n",
       "      <th>day</th>\n",
       "      <th>hour</th>\n",
       "      <th>minute</th>\n",
       "      <th>lunch_day</th>\n",
       "      <th>buy</th>\n",
       "    </tr>\n",
       "  </thead>\n",
       "  <tbody>\n",
       "    <tr>\n",
       "      <th>5</th>\n",
       "      <td>0.259200</td>\n",
       "      <td>0.259300</td>\n",
       "      <td>0.254700</td>\n",
       "      <td>0.258000</td>\n",
       "      <td>38103.38</td>\n",
       "      <td>0.259900</td>\n",
       "      <td>0.257900</td>\n",
       "      <td>0.259000</td>\n",
       "      <td>0.259400</td>\n",
       "      <td>26573.45</td>\n",
       "      <td>...</td>\n",
       "      <td>52500.42</td>\n",
       "      <td>52066.99</td>\n",
       "      <td>52066.99</td>\n",
       "      <td>52469.49</td>\n",
       "      <td>909.313696</td>\n",
       "      <td>1</td>\n",
       "      <td>15</td>\n",
       "      <td>18</td>\n",
       "      <td>-117</td>\n",
       "      <td>1</td>\n",
       "    </tr>\n",
       "    <tr>\n",
       "      <th>6</th>\n",
       "      <td>0.000043</td>\n",
       "      <td>0.000043</td>\n",
       "      <td>0.000043</td>\n",
       "      <td>0.000043</td>\n",
       "      <td>47526628.00</td>\n",
       "      <td>0.000043</td>\n",
       "      <td>0.000043</td>\n",
       "      <td>0.000043</td>\n",
       "      <td>0.000043</td>\n",
       "      <td>21892392.00</td>\n",
       "      <td>...</td>\n",
       "      <td>29609.47</td>\n",
       "      <td>29536.22</td>\n",
       "      <td>29536.23</td>\n",
       "      <td>29564.50</td>\n",
       "      <td>272.084180</td>\n",
       "      <td>6</td>\n",
       "      <td>4</td>\n",
       "      <td>37</td>\n",
       "      <td>-611</td>\n",
       "      <td>1</td>\n",
       "    </tr>\n",
       "    <tr>\n",
       "      <th>7</th>\n",
       "      <td>0.052220</td>\n",
       "      <td>0.052220</td>\n",
       "      <td>0.052220</td>\n",
       "      <td>0.052220</td>\n",
       "      <td>218.60</td>\n",
       "      <td>0.052250</td>\n",
       "      <td>0.052240</td>\n",
       "      <td>0.052250</td>\n",
       "      <td>0.052240</td>\n",
       "      <td>814.50</td>\n",
       "      <td>...</td>\n",
       "      <td>19085.65</td>\n",
       "      <td>19052.62</td>\n",
       "      <td>19085.64</td>\n",
       "      <td>19076.30</td>\n",
       "      <td>120.363966</td>\n",
       "      <td>1</td>\n",
       "      <td>3</td>\n",
       "      <td>18</td>\n",
       "      <td>-314</td>\n",
       "      <td>1</td>\n",
       "    </tr>\n",
       "    <tr>\n",
       "      <th>11</th>\n",
       "      <td>3.036200</td>\n",
       "      <td>3.036200</td>\n",
       "      <td>3.008200</td>\n",
       "      <td>3.018100</td>\n",
       "      <td>101695.10</td>\n",
       "      <td>3.046600</td>\n",
       "      <td>3.035300</td>\n",
       "      <td>3.046500</td>\n",
       "      <td>3.035700</td>\n",
       "      <td>6457.70</td>\n",
       "      <td>...</td>\n",
       "      <td>39785.99</td>\n",
       "      <td>39713.50</td>\n",
       "      <td>39719.99</td>\n",
       "      <td>39767.99</td>\n",
       "      <td>125.824500</td>\n",
       "      <td>4</td>\n",
       "      <td>13</td>\n",
       "      <td>59</td>\n",
       "      <td>-741</td>\n",
       "      <td>1</td>\n",
       "    </tr>\n",
       "    <tr>\n",
       "      <th>17</th>\n",
       "      <td>0.287290</td>\n",
       "      <td>0.287900</td>\n",
       "      <td>0.286660</td>\n",
       "      <td>0.287710</td>\n",
       "      <td>45267.50</td>\n",
       "      <td>0.287900</td>\n",
       "      <td>0.286760</td>\n",
       "      <td>0.287350</td>\n",
       "      <td>0.287290</td>\n",
       "      <td>64389.70</td>\n",
       "      <td>...</td>\n",
       "      <td>35949.60</td>\n",
       "      <td>35861.24</td>\n",
       "      <td>35870.17</td>\n",
       "      <td>35912.68</td>\n",
       "      <td>219.663963</td>\n",
       "      <td>6</td>\n",
       "      <td>16</td>\n",
       "      <td>56</td>\n",
       "      <td>-335</td>\n",
       "      <td>1</td>\n",
       "    </tr>\n",
       "    <tr>\n",
       "      <th>...</th>\n",
       "      <td>...</td>\n",
       "      <td>...</td>\n",
       "      <td>...</td>\n",
       "      <td>...</td>\n",
       "      <td>...</td>\n",
       "      <td>...</td>\n",
       "      <td>...</td>\n",
       "      <td>...</td>\n",
       "      <td>...</td>\n",
       "      <td>...</td>\n",
       "      <td>...</td>\n",
       "      <td>...</td>\n",
       "      <td>...</td>\n",
       "      <td>...</td>\n",
       "      <td>...</td>\n",
       "      <td>...</td>\n",
       "      <td>...</td>\n",
       "      <td>...</td>\n",
       "      <td>...</td>\n",
       "      <td>...</td>\n",
       "      <td>...</td>\n",
       "    </tr>\n",
       "    <tr>\n",
       "      <th>1084353</th>\n",
       "      <td>5.646400</td>\n",
       "      <td>5.677400</td>\n",
       "      <td>5.612800</td>\n",
       "      <td>5.666700</td>\n",
       "      <td>30206.87</td>\n",
       "      <td>5.674200</td>\n",
       "      <td>5.577100</td>\n",
       "      <td>5.604200</td>\n",
       "      <td>5.646400</td>\n",
       "      <td>46021.36</td>\n",
       "      <td>...</td>\n",
       "      <td>50077.90</td>\n",
       "      <td>49380.14</td>\n",
       "      <td>49952.49</td>\n",
       "      <td>50037.51</td>\n",
       "      <td>816.505984</td>\n",
       "      <td>2</td>\n",
       "      <td>7</td>\n",
       "      <td>17</td>\n",
       "      <td>-223</td>\n",
       "      <td>1</td>\n",
       "    </tr>\n",
       "    <tr>\n",
       "      <th>1084361</th>\n",
       "      <td>2.428000</td>\n",
       "      <td>2.431000</td>\n",
       "      <td>2.424000</td>\n",
       "      <td>2.430000</td>\n",
       "      <td>1538.10</td>\n",
       "      <td>2.434000</td>\n",
       "      <td>2.425000</td>\n",
       "      <td>2.434000</td>\n",
       "      <td>2.430000</td>\n",
       "      <td>1785.40</td>\n",
       "      <td>...</td>\n",
       "      <td>38834.02</td>\n",
       "      <td>38699.99</td>\n",
       "      <td>38700.00</td>\n",
       "      <td>38815.49</td>\n",
       "      <td>82.259800</td>\n",
       "      <td>3</td>\n",
       "      <td>0</td>\n",
       "      <td>39</td>\n",
       "      <td>-638</td>\n",
       "      <td>1</td>\n",
       "    </tr>\n",
       "    <tr>\n",
       "      <th>1084364</th>\n",
       "      <td>1.039700</td>\n",
       "      <td>1.040300</td>\n",
       "      <td>1.035000</td>\n",
       "      <td>1.036200</td>\n",
       "      <td>1597635.57</td>\n",
       "      <td>1.042000</td>\n",
       "      <td>1.039600</td>\n",
       "      <td>1.039800</td>\n",
       "      <td>1.039700</td>\n",
       "      <td>822241.14</td>\n",
       "      <td>...</td>\n",
       "      <td>39420.77</td>\n",
       "      <td>39271.96</td>\n",
       "      <td>39296.40</td>\n",
       "      <td>39288.07</td>\n",
       "      <td>605.105036</td>\n",
       "      <td>4</td>\n",
       "      <td>11</td>\n",
       "      <td>25</td>\n",
       "      <td>607</td>\n",
       "      <td>1</td>\n",
       "    </tr>\n",
       "    <tr>\n",
       "      <th>1084369</th>\n",
       "      <td>0.451630</td>\n",
       "      <td>0.451630</td>\n",
       "      <td>0.449670</td>\n",
       "      <td>0.451380</td>\n",
       "      <td>10695.90</td>\n",
       "      <td>0.452800</td>\n",
       "      <td>0.451660</td>\n",
       "      <td>0.451660</td>\n",
       "      <td>0.452730</td>\n",
       "      <td>4355.60</td>\n",
       "      <td>...</td>\n",
       "      <td>35776.57</td>\n",
       "      <td>35588.00</td>\n",
       "      <td>35773.34</td>\n",
       "      <td>35605.99</td>\n",
       "      <td>198.151291</td>\n",
       "      <td>1</td>\n",
       "      <td>0</td>\n",
       "      <td>22</td>\n",
       "      <td>98</td>\n",
       "      <td>1</td>\n",
       "    </tr>\n",
       "    <tr>\n",
       "      <th>1084375</th>\n",
       "      <td>0.228300</td>\n",
       "      <td>0.228300</td>\n",
       "      <td>0.228300</td>\n",
       "      <td>0.228300</td>\n",
       "      <td>0.00</td>\n",
       "      <td>0.228600</td>\n",
       "      <td>0.228300</td>\n",
       "      <td>0.228300</td>\n",
       "      <td>0.228300</td>\n",
       "      <td>1958.00</td>\n",
       "      <td>...</td>\n",
       "      <td>30537.78</td>\n",
       "      <td>30371.71</td>\n",
       "      <td>30386.90</td>\n",
       "      <td>30476.50</td>\n",
       "      <td>311.876700</td>\n",
       "      <td>5</td>\n",
       "      <td>17</td>\n",
       "      <td>24</td>\n",
       "      <td>-667</td>\n",
       "      <td>1</td>\n",
       "    </tr>\n",
       "  </tbody>\n",
       "</table>\n",
       "<p>214970 rows × 765 columns</p>\n",
       "</div>"
      ],
      "text/plain": [
       "             open      high       low     close       volume    high-1  \\\n",
       "5        0.259200  0.259300  0.254700  0.258000     38103.38  0.259900   \n",
       "6        0.000043  0.000043  0.000043  0.000043  47526628.00  0.000043   \n",
       "7        0.052220  0.052220  0.052220  0.052220       218.60  0.052250   \n",
       "11       3.036200  3.036200  3.008200  3.018100    101695.10  3.046600   \n",
       "17       0.287290  0.287900  0.286660  0.287710     45267.50  0.287900   \n",
       "...           ...       ...       ...       ...          ...       ...   \n",
       "1084353  5.646400  5.677400  5.612800  5.666700     30206.87  5.674200   \n",
       "1084361  2.428000  2.431000  2.424000  2.430000      1538.10  2.434000   \n",
       "1084364  1.039700  1.040300  1.035000  1.036200   1597635.57  1.042000   \n",
       "1084369  0.451630  0.451630  0.449670  0.451380     10695.90  0.452800   \n",
       "1084375  0.228300  0.228300  0.228300  0.228300         0.00  0.228600   \n",
       "\n",
       "            low-1    open-1   close-1     volume-1  ...  BTC_high-15_5min  \\\n",
       "5        0.257900  0.259000  0.259400     26573.45  ...          52500.42   \n",
       "6        0.000043  0.000043  0.000043  21892392.00  ...          29609.47   \n",
       "7        0.052240  0.052250  0.052240       814.50  ...          19085.65   \n",
       "11       3.035300  3.046500  3.035700      6457.70  ...          39785.99   \n",
       "17       0.286760  0.287350  0.287290     64389.70  ...          35949.60   \n",
       "...           ...       ...       ...          ...  ...               ...   \n",
       "1084353  5.577100  5.604200  5.646400     46021.36  ...          50077.90   \n",
       "1084361  2.425000  2.434000  2.430000      1785.40  ...          38834.02   \n",
       "1084364  1.039600  1.039800  1.039700    822241.14  ...          39420.77   \n",
       "1084369  0.451660  0.451660  0.452730      4355.60  ...          35776.57   \n",
       "1084375  0.228300  0.228300  0.228300      1958.00  ...          30537.78   \n",
       "\n",
       "         BTC_low-15_5min  BTC_open-15_5min  BTC_close-15_5min  \\\n",
       "5               52066.99          52066.99           52469.49   \n",
       "6               29536.22          29536.23           29564.50   \n",
       "7               19052.62          19085.64           19076.30   \n",
       "11              39713.50          39719.99           39767.99   \n",
       "17              35861.24          35870.17           35912.68   \n",
       "...                  ...               ...                ...   \n",
       "1084353         49380.14          49952.49           50037.51   \n",
       "1084361         38699.99          38700.00           38815.49   \n",
       "1084364         39271.96          39296.40           39288.07   \n",
       "1084369         35588.00          35773.34           35605.99   \n",
       "1084375         30371.71          30386.90           30476.50   \n",
       "\n",
       "         BTC_volume-15_5min  day  hour  minute  lunch_day  buy  \n",
       "5                909.313696    1    15      18       -117    1  \n",
       "6                272.084180    6     4      37       -611    1  \n",
       "7                120.363966    1     3      18       -314    1  \n",
       "11               125.824500    4    13      59       -741    1  \n",
       "17               219.663963    6    16      56       -335    1  \n",
       "...                     ...  ...   ...     ...        ...  ...  \n",
       "1084353          816.505984    2     7      17       -223    1  \n",
       "1084361           82.259800    3     0      39       -638    1  \n",
       "1084364          605.105036    4    11      25        607    1  \n",
       "1084369          198.151291    1     0      22         98    1  \n",
       "1084375          311.876700    5    17      24       -667    1  \n",
       "\n",
       "[214970 rows x 765 columns]"
      ]
     },
     "execution_count": 11,
     "metadata": {},
     "output_type": "execute_result"
    }
   ],
   "source": [
    "df[df['buy']==1]"
   ]
  },
  {
   "cell_type": "code",
   "execution_count": 12,
   "metadata": {},
   "outputs": [
    {
     "data": {
      "text/plain": [
       "0.0"
      ]
     },
     "execution_count": 12,
     "metadata": {},
     "output_type": "execute_result"
    }
   ],
   "source": [
    "df.iloc[1000037][\"buy\"]"
   ]
  },
  {
   "cell_type": "markdown",
   "metadata": {},
   "source": [
    "Cheking null values"
   ]
  },
  {
   "cell_type": "code",
   "execution_count": 13,
   "metadata": {},
   "outputs": [
    {
     "data": {
      "text/html": [
       "<div>\n",
       "<style scoped>\n",
       "    .dataframe tbody tr th:only-of-type {\n",
       "        vertical-align: middle;\n",
       "    }\n",
       "\n",
       "    .dataframe tbody tr th {\n",
       "        vertical-align: top;\n",
       "    }\n",
       "\n",
       "    .dataframe thead th {\n",
       "        text-align: right;\n",
       "    }\n",
       "</style>\n",
       "<table border=\"1\" class=\"dataframe\">\n",
       "  <thead>\n",
       "    <tr style=\"text-align: right;\">\n",
       "      <th></th>\n",
       "      <th>open</th>\n",
       "      <th>high</th>\n",
       "      <th>low</th>\n",
       "      <th>close</th>\n",
       "      <th>volume</th>\n",
       "      <th>high-1</th>\n",
       "      <th>low-1</th>\n",
       "      <th>open-1</th>\n",
       "      <th>close-1</th>\n",
       "      <th>volume-1</th>\n",
       "      <th>...</th>\n",
       "      <th>BTC_high-15_5min</th>\n",
       "      <th>BTC_low-15_5min</th>\n",
       "      <th>BTC_open-15_5min</th>\n",
       "      <th>BTC_close-15_5min</th>\n",
       "      <th>BTC_volume-15_5min</th>\n",
       "      <th>day</th>\n",
       "      <th>hour</th>\n",
       "      <th>minute</th>\n",
       "      <th>lunch_day</th>\n",
       "      <th>buy</th>\n",
       "    </tr>\n",
       "  </thead>\n",
       "  <tbody>\n",
       "  </tbody>\n",
       "</table>\n",
       "<p>0 rows × 765 columns</p>\n",
       "</div>"
      ],
      "text/plain": [
       "Empty DataFrame\n",
       "Columns: [open, high, low, close, volume, high-1, low-1, open-1, close-1, volume-1, high-2, low-2, open-2, close-2, volume-2, high-3, low-3, open-3, close-3, volume-3, high-4, low-4, open-4, close-4, volume-4, high-5, low-5, open-5, close-5, volume-5, high-6, low-6, open-6, close-6, volume-6, high-7, low-7, open-7, close-7, volume-7, high-8, low-8, open-8, close-8, volume-8, high-9, low-9, open-9, close-9, volume-9, high-10, low-10, open-10, close-10, volume-10, high-11, low-11, open-11, close-11, volume-11, high-12, low-12, open-12, close-12, volume-12, high-13, low-13, open-13, close-13, volume-13, high-14, low-14, open-14, close-14, volume-14, high-15, low-15, open-15, close-15, volume-15, high-1_day, low-1_day, open-1_day, close-1_day, volume-1_day, high-2_day, low-2_day, open-2_day, close-2_day, volume-2_day, high-3_day, low-3_day, open-3_day, close-3_day, volume-3_day, high-4_day, low-4_day, open-4_day, close-4_day, volume-4_day, ...]\n",
       "Index: []\n",
       "\n",
       "[0 rows x 765 columns]"
      ]
     },
     "execution_count": 13,
     "metadata": {},
     "output_type": "execute_result"
    }
   ],
   "source": [
    "df[df.isnull().any(axis=1)]"
   ]
  },
  {
   "cell_type": "markdown",
   "metadata": {},
   "source": [
    "checking keys"
   ]
  },
  {
   "cell_type": "code",
   "execution_count": null,
   "metadata": {},
   "outputs": [],
   "source": [
    "for k in df.keys():print(k)"
   ]
  },
  {
   "cell_type": "code",
   "execution_count": null,
   "metadata": {},
   "outputs": [],
   "source": [
    "del(allok)"
   ]
  },
  {
   "cell_type": "markdown",
   "metadata": {},
   "source": [
    "# starting numpy process"
   ]
  },
  {
   "cell_type": "markdown",
   "metadata": {},
   "source": [
    "## convert Pandas DataFrame to numpy object"
   ]
  },
  {
   "cell_type": "code",
   "execution_count": 5,
   "metadata": {},
   "outputs": [
    {
     "data": {
      "text/plain": [
       "array([[ 4.8747e+00,  4.8747e+00,  4.8727e+00, ...,  1.5000e+01,\n",
       "        -6.8500e+02,  0.0000e+00],\n",
       "       [ 1.2014e+00,  1.2020e+00,  1.2009e+00, ...,  2.4000e+01,\n",
       "         6.2400e+02,  0.0000e+00],\n",
       "       [ 2.9010e-01,  2.9010e-01,  2.8999e-01, ...,  5.0000e+01,\n",
       "        -6.1700e+02,  0.0000e+00],\n",
       "       ...,\n",
       "       [ 1.5099e+01,  1.5120e+01,  1.5087e+01, ...,  4.2000e+01,\n",
       "         3.4800e+02,  0.0000e+00],\n",
       "       [ 2.7710e-01,  2.7710e-01,  2.7690e-01, ...,  5.7000e+01,\n",
       "         6.8000e+01,  0.0000e+00],\n",
       "       [ 1.3220e-02,  1.3220e-02,  1.3210e-02, ...,  5.7000e+01,\n",
       "        -3.9100e+02,  0.0000e+00]])"
      ]
     },
     "execution_count": 5,
     "metadata": {},
     "output_type": "execute_result"
    }
   ],
   "source": [
    "\n",
    "dt = df.to_numpy()\n",
    "dt\n"
   ]
  },
  {
   "cell_type": "code",
   "execution_count": 6,
   "metadata": {},
   "outputs": [],
   "source": [
    "del(df)"
   ]
  },
  {
   "cell_type": "code",
   "execution_count": 7,
   "metadata": {},
   "outputs": [
    {
     "data": {
      "text/plain": [
       "(1084382, 765)"
      ]
     },
     "execution_count": 7,
     "metadata": {},
     "output_type": "execute_result"
    }
   ],
   "source": [
    "dt.shape"
   ]
  },
  {
   "cell_type": "code",
   "execution_count": 16,
   "metadata": {},
   "outputs": [
    {
     "data": {
      "text/plain": [
       "0.0"
      ]
     },
     "execution_count": 16,
     "metadata": {},
     "output_type": "execute_result"
    }
   ],
   "source": [
    "dt[97,-1]"
   ]
  },
  {
   "cell_type": "markdown",
   "metadata": {},
   "source": [
    "### Shuffle the rows Again"
   ]
  },
  {
   "cell_type": "code",
   "execution_count": 8,
   "metadata": {},
   "outputs": [],
   "source": [
    "np.random.shuffle(dt)"
   ]
  },
  {
   "cell_type": "code",
   "execution_count": 22,
   "metadata": {},
   "outputs": [
    {
     "data": {
      "text/plain": [
       "0.00011444091796875"
      ]
     },
     "execution_count": 22,
     "metadata": {},
     "output_type": "execute_result"
    }
   ],
   "source": [
    "sys.getsizeof(dt)/(1024**2)"
   ]
  },
  {
   "cell_type": "code",
   "execution_count": null,
   "metadata": {},
   "outputs": [],
   "source": [
    "np.savetxt('np_shuffled_cryptodata_w15.csv', dt ,delimiter=',')\n",
    "\n"
   ]
  },
  {
   "cell_type": "code",
   "execution_count": null,
   "metadata": {},
   "outputs": [],
   "source": [
    "dt=np.genfromtxt('np_shuffled_cryptodata_w15.csv', delimiter=',')"
   ]
  },
  {
   "cell_type": "code",
   "execution_count": 9,
   "metadata": {},
   "outputs": [
    {
     "name": "stdout",
     "output_type": "stream",
     "text": [
      "216876\n"
     ]
    }
   ],
   "source": [
    "index_20percent= int(0.2*len(dt[:,0]))\n",
    "print(index_20percent)"
   ]
  },
  {
   "cell_type": "code",
   "execution_count": 10,
   "metadata": {},
   "outputs": [],
   "source": [
    "XVALIDATION= dt[:index_20percent, :-1]\n",
    "YVALIDATION= dt[:index_20percent,-1]\n"
   ]
  },
  {
   "cell_type": "code",
   "execution_count": 11,
   "metadata": {},
   "outputs": [],
   "source": [
    "XTRAIN= dt[index_20percent:, 0:-1]\n",
    "YTRAIN= dt[index_20percent:,-1]"
   ]
  },
  {
   "cell_type": "markdown",
   "metadata": {},
   "source": [
    "## Normalization"
   ]
  },
  {
   "cell_type": "code",
   "execution_count": 26,
   "metadata": {},
   "outputs": [
    {
     "data": {
      "image/png": "[encoded data removed]",
      "text/plain": [
       "<Figure size 432x288 with 1 Axes>"
      ]
     },
     "metadata": {
      "needs_background": "light"
     },
     "output_type": "display_data"
    }
   ],
   "source": [
    "plt.hist(XTRAIN[:,0])\n",
    "plt.ylabel(\"open_1min\")\n",
    "plt.show()"
   ]
  },
  {
   "cell_type": "code",
   "execution_count": null,
   "metadata": {},
   "outputs": [],
   "source": [
    "plt.hist(YTRAIN)\n",
    "plt.ylabel(\"Output labels\")\n",
    "plt.show()\n",
    "\n",
    "plt.hist(YVALIDATION)\n",
    "plt.ylabel(\"Output labels\")\n",
    "plt.show()"
   ]
  },
  {
   "cell_type": "markdown",
   "metadata": {},
   "source": [
    "Tenderalization (mean normalization)"
   ]
  },
  {
   "cell_type": "code",
   "execution_count": 12,
   "metadata": {},
   "outputs": [
    {
     "name": "stderr",
     "output_type": "stream",
     "text": [
      "C:\\Users\\ayoub\\AppData\\Local\\Temp/ipykernel_16072/2389388380.py:4: RuntimeWarning: divide by zero encountered in true_divide\n",
      "  XTRAIN /= std\n",
      "C:\\Users\\ayoub\\AppData\\Local\\Temp/ipykernel_16072/2389388380.py:7: RuntimeWarning: divide by zero encountered in true_divide\n",
      "  XVALIDATION /= std\n"
     ]
    }
   ],
   "source": [
    "mean = XTRAIN.mean(axis=0)\n",
    "XTRAIN -= mean \n",
    "std = XTRAIN.std(axis=0)\n",
    "XTRAIN /= std\n",
    "\n",
    "XVALIDATION -=mean\n",
    "XVALIDATION /= std"
   ]
  },
  {
   "cell_type": "code",
   "execution_count": null,
   "metadata": {},
   "outputs": [],
   "source": [
    "print(mean)\n",
    "print(std)"
   ]
  },
  {
   "cell_type": "code",
   "execution_count": 29,
   "metadata": {},
   "outputs": [
    {
     "data": {
      "image/png": "[encoded data removed]",
      "text/plain": [
       "<Figure size 432x288 with 1 Axes>"
      ]
     },
     "metadata": {
      "needs_background": "light"
     },
     "output_type": "display_data"
    }
   ],
   "source": [
    "plt.hist(XTRAIN[:,0])\n",
    "plt.ylabel(\"open column\")\n",
    "plt.show()"
   ]
  },
  {
   "cell_type": "code",
   "execution_count": 14,
   "metadata": {},
   "outputs": [
    {
     "name": "stdout",
     "output_type": "stream",
     "text": [
      "(867506, 764)\n",
      "(867506,)\n",
      "(216876, 764)\n",
      "(216876,)\n"
     ]
    }
   ],
   "source": [
    "print(XTRAIN.shape)\n",
    "print(YTRAIN.shape)\n",
    "print(XVALIDATION.shape)\n",
    "print(YVALIDATION.shape)"
   ]
  },
  {
   "cell_type": "markdown",
   "metadata": {},
   "source": [
    "# Neural network model"
   ]
  },
  {
   "cell_type": "markdown",
   "metadata": {},
   "source": [
    "The neural network architecture:\n",
    "- layer 1 : 764 neurons\n",
    "- layer 2 : 8 neurons\n",
    "- layer 3 : neurons "
   ]
  },
  {
   "cell_type": "code",
   "execution_count": null,
   "metadata": {},
   "outputs": [],
   "source": [
    "IN_DIM=len(XTRAIN[0,:])\n",
    "# model = Sequential()\n",
    "# model.add(Dense(int(IN_DIM/2),input_dim=IN_DIM,activation='softplus'))\n",
    "# model.add(Dropout(0.2))\n",
    "# model.add(Dense(int(IN_DIM/4),activation='relu'))\n",
    "# model.add(Dropout(0.2))\n",
    "# model.add(Dense(int(IN_DIM/6),activation='relu'))\n",
    "# model.add(Dropout(0.4))\n",
    "\n",
    "# model.add(Dense(1,activation='sigmoid'))\n",
    "#code genrator\n",
    "global All_Hist\n",
    "try:\n",
    "    with open('Results_history.json') as json_file:\n",
    "        data = json.load(json_file)\n",
    "except:\n",
    "    All_Hist={0.000001:\"code\"}\n",
    "def auto_code_gen():\n",
    "    NumLayer=random.randint(1, 5)\n",
    "    InpLay=int(random.randint(1, max(2,int(NumLayer/random.randint(3,NumLayer+4)+4))))\n",
    "    act_func=['tanh','relu','sigmoid','softmax','softplus']\n",
    "    dropout_val=[0.2,0.3,0.4,0.5,0.6,0.7]\n",
    "    decreaser=1\n",
    "    IN_DIM=len(XTRAIN[0,:])\n",
    "    code=\"model.add(Dense(int(IN_DIM/\"+str(InpLay)+\"),input_dim=IN_DIM,activation=\\'\"+random.choice(act_func)+\"\\'))\\n\"\n",
    "    for i in range(0,NumLayer):\n",
    "        code+='model.add(Dense(int(IN_DIM/'+str(random.randint(1,max(2,(i+1)*2)+1))+'),activation=\\''+random.choice(act_func)+'\\'))\\n'\n",
    "        if random.choice([True,False]):\n",
    "            code+='model.add(Dropout('+str(random.choice(dropout_val))+'))\\n'\n",
    "    code+='model.add(Dense(1,activation=\\'sigmoid\\'))'\n",
    "    return code\n",
    "\n",
    "def model_tester(max_tests=500):\n",
    "    from tensorflow.keras.models import Sequential\n",
    "    import json\n",
    "    from tensorflow.keras.layers import Dense\n",
    "    from tensorflow.keras.layers import Dropout \n",
    "    code=\"\"\n",
    "    for c in range(1,max_tests+1):\n",
    "        model = Sequential()\n",
    "        code=auto_code_gen()\n",
    "        exec(code)\n",
    "        print(model.summary())\n",
    "        #model.compile(loss='binary_crossentropy',optimizer='rmsprop',metrics=['accuracy'])\n",
    "        model.compile(loss='binary_crossentropy',optimizer='adam',metrics=['accuracy'])\n",
    "        callbacks_a = ModelCheckpoint(filepath ='XcryptoAi_model.hdf5',monitor ='val_accuracy',save_best_only = True, save_weights = True)\n",
    "        callbacks_b = EarlyStopping(monitor ='val_accuracy',mode='auto',patience=20,verbose=1)\n",
    "        history = model.fit(XTRAIN,\n",
    "                        YTRAIN,\n",
    "                        validation_data=(XVALIDATION,YVALIDATION),\n",
    "                        epochs=1200,\n",
    "                        batch_size=5000,\n",
    "                        callbacks=[callbacks_a,callbacks_b])\n",
    "\n",
    "        print('##########################################################################')\n",
    "        print(f\"------val_accuracy-----> {'{0:.4g}'.format(max(history.history['val_accuracy'])*100)} | {'{0:.4g}'.format(max(history.history['accuracy'])*100)} <----------accuracy----------\")\n",
    "        All_Hist[max(history.history['val_accuracy'])]=code\n",
    "        with open('Results_history.json', 'w') as fp:\n",
    "            json.dump(All_Hist, fp,  indent=4)\n",
    "\n",
    "\n",
    "model_tester(max_tests=500)"
   ]
  },
  {
   "cell_type": "code",
   "execution_count": 3,
   "metadata": {},
   "outputs": [
    {
     "data": {
      "text/plain": [
       "{0.22: 'eeee', 0.34: 'ss'}"
      ]
     },
     "execution_count": 3,
     "metadata": {},
     "output_type": "execute_result"
    }
   ],
   "source": [
    "z={}\n",
    "z[0.22]=\"eeee\"\n",
    "z[0.34]=\"ss\"\n",
    "\n",
    "z"
   ]
  },
  {
   "cell_type": "code",
   "execution_count": 15,
   "metadata": {},
   "outputs": [
    {
     "name": "stdout",
     "output_type": "stream",
     "text": [
      "Model: \"sequential\"\n",
      "_________________________________________________________________\n",
      " Layer (type)                Output Shape              Param #   \n",
      "=================================================================\n",
      " dense (Dense)               (None, 100)               76500     \n",
      "                                                                 \n",
      " dense_1 (Dense)             (None, 20)                2020      \n",
      "                                                                 \n",
      " dense_2 (Dense)             (None, 4)                 84        \n",
      "                                                                 \n",
      " dense_3 (Dense)             (None, 1)                 5         \n",
      "                                                                 \n",
      "=================================================================\n",
      "Total params: 78,609\n",
      "Trainable params: 78,609\n",
      "Non-trainable params: 0\n",
      "_________________________________________________________________\n",
      "None\n"
     ]
    }
   ],
   "source": [
    "from tensorflow.keras.models import Sequential\n",
    "from tensorflow.keras.layers import Dense \n",
    "\n",
    "model = Sequential()\n",
    "model.add(Dense(100,input_dim=len(XTRAIN[0,:]),activation='relu'))\n",
    "model.add(Dense(20,activation='relu'))\n",
    "model.add(Dense(4,activation='relu'))\n",
    "model.add(Dense(1,activation='sigmoid'))\n",
    "print(model.summary())\n",
    "\n"
   ]
  },
  {
   "cell_type": "markdown",
   "metadata": {},
   "source": [
    "## Compile the model "
   ]
  },
  {
   "cell_type": "code",
   "execution_count": 16,
   "metadata": {},
   "outputs": [],
   "source": [
    "#model.compile(loss='binary_crossentropy',optimizer='adam',metric=['accuracy'])\n",
    "model.compile(loss='binary_crossentropy',optimizer='rmsprop',metrics=['accuracy'])"
   ]
  },
  {
   "cell_type": "markdown",
   "metadata": {},
   "source": [
    "### Train the model"
   ]
  },
  {
   "cell_type": "code",
   "execution_count": 17,
   "metadata": {},
   "outputs": [],
   "source": [
    "from keras.callbacks import EarlyStopping, ModelCheckpoint\n"
   ]
  },
  {
   "cell_type": "code",
   "execution_count": 18,
   "metadata": {},
   "outputs": [],
   "source": [
    "callbacks_a = ModelCheckpoint(filepath ='D:/+DATA+/XcryptoAi_model.hdf5',monitor ='val_loss',save_best_only = True, save_weights = True)\n",
    "callbacks_b = EarlyStopping(monitor ='val_loss',mode='min',patience=20,verbose=1)"
   ]
  },
  {
   "cell_type": "code",
   "execution_count": 19,
   "metadata": {},
   "outputs": [
    {
     "name": "stdout",
     "output_type": "stream",
     "text": [
      "Epoch 1/256\n",
      "86751/86751 [==============================] - 319s 4ms/step - loss: nan - accuracy: 0.8020 - val_loss: nan - val_accuracy: 0.8010\n",
      "Epoch 2/256\n",
      "86751/86751 [==============================] - 254s 3ms/step - loss: nan - accuracy: 0.8020 - val_loss: nan - val_accuracy: 0.8010\n",
      "Epoch 3/256\n",
      "86751/86751 [==============================] - 275s 3ms/step - loss: nan - accuracy: 0.8020 - val_loss: nan - val_accuracy: 0.8010\n",
      "Epoch 4/256\n",
      "86751/86751 [==============================] - 235s 3ms/step - loss: nan - accuracy: 0.8020 - val_loss: nan - val_accuracy: 0.8010\n",
      "Epoch 5/256\n",
      "86751/86751 [==============================] - 257s 3ms/step - loss: nan - accuracy: 0.8020 - val_loss: nan - val_accuracy: 0.8010\n",
      "Epoch 6/256\n",
      "86751/86751 [==============================] - 218s 3ms/step - loss: nan - accuracy: 0.8020 - val_loss: nan - val_accuracy: 0.8010\n",
      "Epoch 7/256\n",
      "86751/86751 [==============================] - 232s 3ms/step - loss: nan - accuracy: 0.8020 - val_loss: nan - val_accuracy: 0.8010\n",
      "Epoch 8/256\n",
      "86751/86751 [==============================] - 241s 3ms/step - loss: nan - accuracy: 0.8020 - val_loss: nan - val_accuracy: 0.8010\n",
      "Epoch 9/256\n",
      "86751/86751 [==============================] - 260s 3ms/step - loss: nan - accuracy: 0.8020 - val_loss: nan - val_accuracy: 0.8010\n",
      "Epoch 10/256\n",
      "86751/86751 [==============================] - 247s 3ms/step - loss: nan - accuracy: 0.8020 - val_loss: nan - val_accuracy: 0.8010\n",
      "Epoch 11/256\n",
      "86751/86751 [==============================] - 256s 3ms/step - loss: nan - accuracy: 0.8020 - val_loss: nan - val_accuracy: 0.8010\n",
      "Epoch 12/256\n",
      "86751/86751 [==============================] - 292s 3ms/step - loss: nan - accuracy: 0.8020 - val_loss: nan - val_accuracy: 0.8010\n",
      "Epoch 13/256\n",
      "86751/86751 [==============================] - 287s 3ms/step - loss: nan - accuracy: 0.8020 - val_loss: nan - val_accuracy: 0.8010\n",
      "Epoch 14/256\n",
      "86751/86751 [==============================] - 296s 3ms/step - loss: nan - accuracy: 0.8020 - val_loss: nan - val_accuracy: 0.8010\n",
      "Epoch 15/256\n",
      "86751/86751 [==============================] - 337s 4ms/step - loss: nan - accuracy: 0.8020 - val_loss: nan - val_accuracy: 0.8010\n",
      "Epoch 16/256\n",
      "86751/86751 [==============================] - 329s 4ms/step - loss: nan - accuracy: 0.8020 - val_loss: nan - val_accuracy: 0.8010\n",
      "Epoch 17/256\n",
      "86745/86751 [============================>.] - ETA: 0s - loss: nan - accuracy: 0.8020"
     ]
    }
   ],
   "source": [
    "history = model.fit(XTRAIN,YTRAIN,validation_data=(XVALIDATION,YVALIDATION),epochs=256,batch_size=10,callbacks=[callbacks_a,callbacks_b])"
   ]
  }
 ],
 "metadata": {
  "kernelspec": {
   "display_name": "Python 3.9.7 ('base')",
   "language": "python",
   "name": "python3"
  },
  "language_info": {
   "codemirror_mode": {
    "name": "ipython",
    "version": 3
   },
   "file_extension": ".py",
   "mimetype": "text/x-python",
   "name": "python",
   "nbconvert_exporter": "python",
   "pygments_lexer": "ipython3",
   "version": "3.9.7"
  },
  "orig_nbformat": 4,
  "vscode": {
   "interpreter": {
    "hash": "875f36f95367728e9e1ed7321fa85119a0c86f1195820c7e047475fcf301cc07"
   }
  }
 },
 "nbformat": 4,
 "nbformat_minor": 2
}
