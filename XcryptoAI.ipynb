{
 "cells": [
  {
   "cell_type": "code",
   "execution_count": 1,
   "metadata": {},
   "outputs": [],
   "source": [
    "Model_FileName='XcryptoAi_model.hdf5'\n",
    "Normalization_File='Normalization_Values.json'\n",
    "import sys\n",
    "sys.path.append('a/UltimeTradingBot/Crypto_backtest_tools')\n",
    "from utilities.get_data import get_historical_from_db\n",
    "from utilities.backtesting import basic_single_asset_backtest, plot_wallet_vs_asset, get_metrics\n",
    "import pandas as pd\n",
    "import ccxt\n",
    "import matplotlib.pyplot as plt\n",
    "import ta\n",
    "import json\n",
    "import numpy as np\n",
    "import random\n",
    "from sklearn.utils import shuffle\n",
    "import seaborn as sns\n",
    "from utilities.backtesting import plot_wallet_vs_asset, get_metrics, get_n_columns, basic_multi_asset_backtest, plot_sharpe_evolution, plot_bar_by_month\n",
    "from utilities.custom_indicators import SuperTrend\n",
    "from tensorflow.keras.models import Sequential\n",
    "from tensorflow.keras.layers import Dense\n",
    "from tensorflow.keras.layers import Dropout\n",
    "from tensorflow.keras.constraints import MaxNorm\n",
    "from tensorflow.keras.optimizers import SGD\n",
    "from keras.callbacks import EarlyStopping, ModelCheckpoint\n",
    "from tensorflow.keras.models import Sequential\n",
    "from tensorflow.keras.layers import Dense \n",
    "import os\n",
    "pd.options.mode.chained_assignment = None  # default='warn'\n"
   ]
  },
  {
   "cell_type": "code",
   "execution_count": 2,
   "metadata": {},
   "outputs": [],
   "source": [
    "import gc\n"
   ]
  },
  {
   "cell_type": "code",
   "execution_count": 3,
   "metadata": {},
   "outputs": [
    {
     "name": "stdout",
     "output_type": "stream",
     "text": [
      "Thu Sep 22 00:26:46 2022       \n",
      "+-----------------------------------------------------------------------------+\n",
      "| NVIDIA-SMI 512.77       Driver Version: 512.77       CUDA Version: 11.6     |\n",
      "|-------------------------------+----------------------+----------------------+\n",
      "| GPU  Name            TCC/WDDM | Bus-Id        Disp.A | Volatile Uncorr. ECC |\n",
      "| Fan  Temp  Perf  Pwr:Usage/Cap|         Memory-Usage | GPU-Util  Compute M. |\n",
      "|                               |                      |               MIG M. |\n",
      "|===============================+======================+======================|\n",
      "|   0  NVIDIA GeForce ... WDDM  | 00000000:01:00.0 Off |                  N/A |\n",
      "| N/A   49C    P8    N/A /  N/A |    129MiB /  4096MiB |     16%      Default |\n",
      "|                               |                      |                  N/A |\n",
      "+-------------------------------+----------------------+----------------------+\n",
      "                                                                               \n",
      "+-----------------------------------------------------------------------------+\n",
      "| Processes:                                                                  |\n",
      "|  GPU   GI   CI        PID   Type   Process name                  GPU Memory |\n",
      "|        ID   ID                                                   Usage      |\n",
      "|=============================================================================|\n",
      "|    0   N/A  N/A      1464    C+G   ...e\\PhoneExperienceHost.exe    N/A      |\n",
      "|    0   N/A  N/A      3576    C+G   ...kyb3d8bbwe\\Calculator.exe    N/A      |\n",
      "|    0   N/A  N/A      7592    C+G   ...5n1h2txyewy\\SearchApp.exe    N/A      |\n",
      "|    0   N/A  N/A      8068    C+G   ...Docker\\Docker Desktop.exe    N/A      |\n",
      "|    0   N/A  N/A     11116    C+G   ...8wekyb3d8bbwe\\Cortana.exe    N/A      |\n",
      "|    0   N/A  N/A     12080    C+G   ...4__8wekyb3d8bbwe\\Time.exe    N/A      |\n",
      "|    0   N/A  N/A     12856    C+G   ...5n1h2txyewy\\SearchApp.exe    N/A      |\n",
      "|    0   N/A  N/A     15048    C+G   ...2txyewy\\TextInputHost.exe    N/A      |\n",
      "|    0   N/A  N/A     15628    C+G   C:\\LIB\\VSCode\\Code.exe          N/A      |\n",
      "+-----------------------------------------------------------------------------+\n"
     ]
    }
   ],
   "source": [
    "\n",
    "import tensorflow as tf\n",
    "#tf.test.is_gpu_available(\n",
    "#     cuda_only=False, min_cuda_compute_capability=None\n",
    "# )\n",
    "tf.config.list_physical_devices('GPU')\n",
    "\n",
    "!nvidia-smi\n",
    "\n"
   ]
  },
  {
   "cell_type": "code",
   "execution_count": 4,
   "metadata": {},
   "outputs": [],
   "source": [
    "import warnings\n",
    "warnings.filterwarnings('ignore')\n",
    "PRERR=False\n",
    "def prerr(err):\n",
    "    if PRERR:\n",
    "        print(\"\\033[0;31m Error in \"+str(sys._getframe().f_code.co_name) +\" \\033[0;33m\"+str(err))"
   ]
  },
  {
   "cell_type": "code",
   "execution_count": 5,
   "metadata": {},
   "outputs": [],
   "source": [
    "#MetaData=get_crypto_metadata(Binance_USDT_HALAL)\n",
    "MetaData = pd.read_csv(\"D:\\+DATA+\\MetaData.csv\")\n",
    "df = pd.read_csv('D:/+DATA+/AICryptoBot/allok_w15_nosell.csv',index_col=0)"
   ]
  },
  {
   "cell_type": "code",
   "execution_count": 6,
   "metadata": {},
   "outputs": [],
   "source": [
    "#df=df.drop(columns=\"sell\")\n",
    "#df=df.drop(columns=[\"Unnamed: 0\"])\n",
    "#df.to_csv('D:/+DATA+/allok_w15_nosell.csv')"
   ]
  },
  {
   "cell_type": "code",
   "execution_count": 7,
   "metadata": {},
   "outputs": [
    {
     "data": {
      "text/plain": [
       "6337.254440307617"
      ]
     },
     "execution_count": 7,
     "metadata": {},
     "output_type": "execute_result"
    }
   ],
   "source": [
    "sys.getsizeof(df)/(1024**2)"
   ]
  },
  {
   "cell_type": "markdown",
   "metadata": {},
   "source": [
    "## Testing impoted DATA"
   ]
  },
  {
   "cell_type": "code",
   "execution_count": 8,
   "metadata": {},
   "outputs": [
    {
     "data": {
      "text/html": [
       "<div>\n",
       "<style scoped>\n",
       "    .dataframe tbody tr th:only-of-type {\n",
       "        vertical-align: middle;\n",
       "    }\n",
       "\n",
       "    .dataframe tbody tr th {\n",
       "        vertical-align: top;\n",
       "    }\n",
       "\n",
       "    .dataframe thead th {\n",
       "        text-align: right;\n",
       "    }\n",
       "</style>\n",
       "<table border=\"1\" class=\"dataframe\">\n",
       "  <thead>\n",
       "    <tr style=\"text-align: right;\">\n",
       "      <th></th>\n",
       "      <th>open</th>\n",
       "      <th>high</th>\n",
       "      <th>low</th>\n",
       "      <th>close</th>\n",
       "      <th>volume</th>\n",
       "      <th>high-1</th>\n",
       "      <th>low-1</th>\n",
       "      <th>open-1</th>\n",
       "      <th>close-1</th>\n",
       "      <th>volume-1</th>\n",
       "      <th>...</th>\n",
       "      <th>BTC_high-15_5min</th>\n",
       "      <th>BTC_low-15_5min</th>\n",
       "      <th>BTC_open-15_5min</th>\n",
       "      <th>BTC_close-15_5min</th>\n",
       "      <th>BTC_volume-15_5min</th>\n",
       "      <th>day</th>\n",
       "      <th>hour</th>\n",
       "      <th>minute</th>\n",
       "      <th>lunch_day</th>\n",
       "      <th>buy</th>\n",
       "    </tr>\n",
       "  </thead>\n",
       "  <tbody>\n",
       "    <tr>\n",
       "      <th>5</th>\n",
       "      <td>0.259200</td>\n",
       "      <td>0.259300</td>\n",
       "      <td>0.254700</td>\n",
       "      <td>0.258000</td>\n",
       "      <td>38103.38</td>\n",
       "      <td>0.259900</td>\n",
       "      <td>0.257900</td>\n",
       "      <td>0.259000</td>\n",
       "      <td>0.259400</td>\n",
       "      <td>26573.45</td>\n",
       "      <td>...</td>\n",
       "      <td>52500.42</td>\n",
       "      <td>52066.99</td>\n",
       "      <td>52066.99</td>\n",
       "      <td>52469.49</td>\n",
       "      <td>909.313696</td>\n",
       "      <td>1</td>\n",
       "      <td>15</td>\n",
       "      <td>18</td>\n",
       "      <td>-117</td>\n",
       "      <td>1</td>\n",
       "    </tr>\n",
       "    <tr>\n",
       "      <th>6</th>\n",
       "      <td>0.000043</td>\n",
       "      <td>0.000043</td>\n",
       "      <td>0.000043</td>\n",
       "      <td>0.000043</td>\n",
       "      <td>47526628.00</td>\n",
       "      <td>0.000043</td>\n",
       "      <td>0.000043</td>\n",
       "      <td>0.000043</td>\n",
       "      <td>0.000043</td>\n",
       "      <td>21892392.00</td>\n",
       "      <td>...</td>\n",
       "      <td>29609.47</td>\n",
       "      <td>29536.22</td>\n",
       "      <td>29536.23</td>\n",
       "      <td>29564.50</td>\n",
       "      <td>272.084180</td>\n",
       "      <td>6</td>\n",
       "      <td>4</td>\n",
       "      <td>37</td>\n",
       "      <td>-611</td>\n",
       "      <td>1</td>\n",
       "    </tr>\n",
       "    <tr>\n",
       "      <th>7</th>\n",
       "      <td>0.052220</td>\n",
       "      <td>0.052220</td>\n",
       "      <td>0.052220</td>\n",
       "      <td>0.052220</td>\n",
       "      <td>218.60</td>\n",
       "      <td>0.052250</td>\n",
       "      <td>0.052240</td>\n",
       "      <td>0.052250</td>\n",
       "      <td>0.052240</td>\n",
       "      <td>814.50</td>\n",
       "      <td>...</td>\n",
       "      <td>19085.65</td>\n",
       "      <td>19052.62</td>\n",
       "      <td>19085.64</td>\n",
       "      <td>19076.30</td>\n",
       "      <td>120.363966</td>\n",
       "      <td>1</td>\n",
       "      <td>3</td>\n",
       "      <td>18</td>\n",
       "      <td>-314</td>\n",
       "      <td>1</td>\n",
       "    </tr>\n",
       "    <tr>\n",
       "      <th>11</th>\n",
       "      <td>3.036200</td>\n",
       "      <td>3.036200</td>\n",
       "      <td>3.008200</td>\n",
       "      <td>3.018100</td>\n",
       "      <td>101695.10</td>\n",
       "      <td>3.046600</td>\n",
       "      <td>3.035300</td>\n",
       "      <td>3.046500</td>\n",
       "      <td>3.035700</td>\n",
       "      <td>6457.70</td>\n",
       "      <td>...</td>\n",
       "      <td>39785.99</td>\n",
       "      <td>39713.50</td>\n",
       "      <td>39719.99</td>\n",
       "      <td>39767.99</td>\n",
       "      <td>125.824500</td>\n",
       "      <td>4</td>\n",
       "      <td>13</td>\n",
       "      <td>59</td>\n",
       "      <td>-741</td>\n",
       "      <td>1</td>\n",
       "    </tr>\n",
       "    <tr>\n",
       "      <th>17</th>\n",
       "      <td>0.287290</td>\n",
       "      <td>0.287900</td>\n",
       "      <td>0.286660</td>\n",
       "      <td>0.287710</td>\n",
       "      <td>45267.50</td>\n",
       "      <td>0.287900</td>\n",
       "      <td>0.286760</td>\n",
       "      <td>0.287350</td>\n",
       "      <td>0.287290</td>\n",
       "      <td>64389.70</td>\n",
       "      <td>...</td>\n",
       "      <td>35949.60</td>\n",
       "      <td>35861.24</td>\n",
       "      <td>35870.17</td>\n",
       "      <td>35912.68</td>\n",
       "      <td>219.663963</td>\n",
       "      <td>6</td>\n",
       "      <td>16</td>\n",
       "      <td>56</td>\n",
       "      <td>-335</td>\n",
       "      <td>1</td>\n",
       "    </tr>\n",
       "    <tr>\n",
       "      <th>...</th>\n",
       "      <td>...</td>\n",
       "      <td>...</td>\n",
       "      <td>...</td>\n",
       "      <td>...</td>\n",
       "      <td>...</td>\n",
       "      <td>...</td>\n",
       "      <td>...</td>\n",
       "      <td>...</td>\n",
       "      <td>...</td>\n",
       "      <td>...</td>\n",
       "      <td>...</td>\n",
       "      <td>...</td>\n",
       "      <td>...</td>\n",
       "      <td>...</td>\n",
       "      <td>...</td>\n",
       "      <td>...</td>\n",
       "      <td>...</td>\n",
       "      <td>...</td>\n",
       "      <td>...</td>\n",
       "      <td>...</td>\n",
       "      <td>...</td>\n",
       "    </tr>\n",
       "    <tr>\n",
       "      <th>1084353</th>\n",
       "      <td>5.646400</td>\n",
       "      <td>5.677400</td>\n",
       "      <td>5.612800</td>\n",
       "      <td>5.666700</td>\n",
       "      <td>30206.87</td>\n",
       "      <td>5.674200</td>\n",
       "      <td>5.577100</td>\n",
       "      <td>5.604200</td>\n",
       "      <td>5.646400</td>\n",
       "      <td>46021.36</td>\n",
       "      <td>...</td>\n",
       "      <td>50077.90</td>\n",
       "      <td>49380.14</td>\n",
       "      <td>49952.49</td>\n",
       "      <td>50037.51</td>\n",
       "      <td>816.505984</td>\n",
       "      <td>2</td>\n",
       "      <td>7</td>\n",
       "      <td>17</td>\n",
       "      <td>-223</td>\n",
       "      <td>1</td>\n",
       "    </tr>\n",
       "    <tr>\n",
       "      <th>1084361</th>\n",
       "      <td>2.428000</td>\n",
       "      <td>2.431000</td>\n",
       "      <td>2.424000</td>\n",
       "      <td>2.430000</td>\n",
       "      <td>1538.10</td>\n",
       "      <td>2.434000</td>\n",
       "      <td>2.425000</td>\n",
       "      <td>2.434000</td>\n",
       "      <td>2.430000</td>\n",
       "      <td>1785.40</td>\n",
       "      <td>...</td>\n",
       "      <td>38834.02</td>\n",
       "      <td>38699.99</td>\n",
       "      <td>38700.00</td>\n",
       "      <td>38815.49</td>\n",
       "      <td>82.259800</td>\n",
       "      <td>3</td>\n",
       "      <td>0</td>\n",
       "      <td>39</td>\n",
       "      <td>-638</td>\n",
       "      <td>1</td>\n",
       "    </tr>\n",
       "    <tr>\n",
       "      <th>1084364</th>\n",
       "      <td>1.039700</td>\n",
       "      <td>1.040300</td>\n",
       "      <td>1.035000</td>\n",
       "      <td>1.036200</td>\n",
       "      <td>1597635.57</td>\n",
       "      <td>1.042000</td>\n",
       "      <td>1.039600</td>\n",
       "      <td>1.039800</td>\n",
       "      <td>1.039700</td>\n",
       "      <td>822241.14</td>\n",
       "      <td>...</td>\n",
       "      <td>39420.77</td>\n",
       "      <td>39271.96</td>\n",
       "      <td>39296.40</td>\n",
       "      <td>39288.07</td>\n",
       "      <td>605.105036</td>\n",
       "      <td>4</td>\n",
       "      <td>11</td>\n",
       "      <td>25</td>\n",
       "      <td>607</td>\n",
       "      <td>1</td>\n",
       "    </tr>\n",
       "    <tr>\n",
       "      <th>1084369</th>\n",
       "      <td>0.451630</td>\n",
       "      <td>0.451630</td>\n",
       "      <td>0.449670</td>\n",
       "      <td>0.451380</td>\n",
       "      <td>10695.90</td>\n",
       "      <td>0.452800</td>\n",
       "      <td>0.451660</td>\n",
       "      <td>0.451660</td>\n",
       "      <td>0.452730</td>\n",
       "      <td>4355.60</td>\n",
       "      <td>...</td>\n",
       "      <td>35776.57</td>\n",
       "      <td>35588.00</td>\n",
       "      <td>35773.34</td>\n",
       "      <td>35605.99</td>\n",
       "      <td>198.151291</td>\n",
       "      <td>1</td>\n",
       "      <td>0</td>\n",
       "      <td>22</td>\n",
       "      <td>98</td>\n",
       "      <td>1</td>\n",
       "    </tr>\n",
       "    <tr>\n",
       "      <th>1084375</th>\n",
       "      <td>0.228300</td>\n",
       "      <td>0.228300</td>\n",
       "      <td>0.228300</td>\n",
       "      <td>0.228300</td>\n",
       "      <td>0.00</td>\n",
       "      <td>0.228600</td>\n",
       "      <td>0.228300</td>\n",
       "      <td>0.228300</td>\n",
       "      <td>0.228300</td>\n",
       "      <td>1958.00</td>\n",
       "      <td>...</td>\n",
       "      <td>30537.78</td>\n",
       "      <td>30371.71</td>\n",
       "      <td>30386.90</td>\n",
       "      <td>30476.50</td>\n",
       "      <td>311.876700</td>\n",
       "      <td>5</td>\n",
       "      <td>17</td>\n",
       "      <td>24</td>\n",
       "      <td>-667</td>\n",
       "      <td>1</td>\n",
       "    </tr>\n",
       "  </tbody>\n",
       "</table>\n",
       "<p>214970 rows × 765 columns</p>\n",
       "</div>"
      ],
      "text/plain": [
       "             open      high       low     close       volume    high-1  \\\n",
       "5        0.259200  0.259300  0.254700  0.258000     38103.38  0.259900   \n",
       "6        0.000043  0.000043  0.000043  0.000043  47526628.00  0.000043   \n",
       "7        0.052220  0.052220  0.052220  0.052220       218.60  0.052250   \n",
       "11       3.036200  3.036200  3.008200  3.018100    101695.10  3.046600   \n",
       "17       0.287290  0.287900  0.286660  0.287710     45267.50  0.287900   \n",
       "...           ...       ...       ...       ...          ...       ...   \n",
       "1084353  5.646400  5.677400  5.612800  5.666700     30206.87  5.674200   \n",
       "1084361  2.428000  2.431000  2.424000  2.430000      1538.10  2.434000   \n",
       "1084364  1.039700  1.040300  1.035000  1.036200   1597635.57  1.042000   \n",
       "1084369  0.451630  0.451630  0.449670  0.451380     10695.90  0.452800   \n",
       "1084375  0.228300  0.228300  0.228300  0.228300         0.00  0.228600   \n",
       "\n",
       "            low-1    open-1   close-1     volume-1  ...  BTC_high-15_5min  \\\n",
       "5        0.257900  0.259000  0.259400     26573.45  ...          52500.42   \n",
       "6        0.000043  0.000043  0.000043  21892392.00  ...          29609.47   \n",
       "7        0.052240  0.052250  0.052240       814.50  ...          19085.65   \n",
       "11       3.035300  3.046500  3.035700      6457.70  ...          39785.99   \n",
       "17       0.286760  0.287350  0.287290     64389.70  ...          35949.60   \n",
       "...           ...       ...       ...          ...  ...               ...   \n",
       "1084353  5.577100  5.604200  5.646400     46021.36  ...          50077.90   \n",
       "1084361  2.425000  2.434000  2.430000      1785.40  ...          38834.02   \n",
       "1084364  1.039600  1.039800  1.039700    822241.14  ...          39420.77   \n",
       "1084369  0.451660  0.451660  0.452730      4355.60  ...          35776.57   \n",
       "1084375  0.228300  0.228300  0.228300      1958.00  ...          30537.78   \n",
       "\n",
       "         BTC_low-15_5min  BTC_open-15_5min  BTC_close-15_5min  \\\n",
       "5               52066.99          52066.99           52469.49   \n",
       "6               29536.22          29536.23           29564.50   \n",
       "7               19052.62          19085.64           19076.30   \n",
       "11              39713.50          39719.99           39767.99   \n",
       "17              35861.24          35870.17           35912.68   \n",
       "...                  ...               ...                ...   \n",
       "1084353         49380.14          49952.49           50037.51   \n",
       "1084361         38699.99          38700.00           38815.49   \n",
       "1084364         39271.96          39296.40           39288.07   \n",
       "1084369         35588.00          35773.34           35605.99   \n",
       "1084375         30371.71          30386.90           30476.50   \n",
       "\n",
       "         BTC_volume-15_5min  day  hour  minute  lunch_day  buy  \n",
       "5                909.313696    1    15      18       -117    1  \n",
       "6                272.084180    6     4      37       -611    1  \n",
       "7                120.363966    1     3      18       -314    1  \n",
       "11               125.824500    4    13      59       -741    1  \n",
       "17               219.663963    6    16      56       -335    1  \n",
       "...                     ...  ...   ...     ...        ...  ...  \n",
       "1084353          816.505984    2     7      17       -223    1  \n",
       "1084361           82.259800    3     0      39       -638    1  \n",
       "1084364          605.105036    4    11      25        607    1  \n",
       "1084369          198.151291    1     0      22         98    1  \n",
       "1084375          311.876700    5    17      24       -667    1  \n",
       "\n",
       "[214970 rows x 765 columns]"
      ]
     },
     "execution_count": 8,
     "metadata": {},
     "output_type": "execute_result"
    }
   ],
   "source": [
    "df[df['buy']==1]"
   ]
  },
  {
   "cell_type": "code",
   "execution_count": 9,
   "metadata": {},
   "outputs": [
    {
     "data": {
      "text/plain": [
       "0.0"
      ]
     },
     "execution_count": 9,
     "metadata": {},
     "output_type": "execute_result"
    }
   ],
   "source": [
    "df.iloc[1000037][\"buy\"]"
   ]
  },
  {
   "cell_type": "code",
   "execution_count": 10,
   "metadata": {},
   "outputs": [],
   "source": [
    "\n",
    "\n",
    "high_weight=3\n",
    "df[\"high\"]=(df[\"open\"]+high_weight*df[\"high\"]+df[\"low\"]+df[\"close\"])/(3+high_weight)\n",
    "df.rename(columns={\"high\":\"price\"},inplace = True)\n",
    "df[\"BTC_high\"]=(df[\"BTC_open\"]+high_weight*df[\"BTC_high\"]+df[\"BTC_low\"]+df[\"BTC_close\"])/(3+high_weight)\n",
    "df.rename(columns={\"BTC_high\":\"BTC_price\"},inplace = True)\n",
    "df2=df.drop(columns=[\"BTC_open\",\"BTC_low\",\"BTC_close\",\"open\",\"low\",\"close\"])\n",
    "del(df)\n",
    "df=df2\n",
    "#del(df2)\n",
    "for key in df.keys():\n",
    "    if key.find(\"BTC\")!=-1 and (key.find(\"open\")!=-1 or\n",
    "    key.find(\"high\")!=-1 or key.find(\"low\")!=-1 or key.find(\"close\")!=-1):\n",
    "        df[key]=(df[\"BTC_price\"]-df[key])/df[\"BTC_price\"]\n",
    "    if key.find(\"BTC\")==-1 and (key.find(\"open\")!=-1 or\n",
    "    key.find(\"high\")!=-1 or key.find(\"low\")!=-1 or key.find(\"close\")!=-1):\n",
    "        df[key]=(df[\"price\"]-df[key])/df[\"price\"]\n",
    "\n",
    "df1=df[df[\"buy\"]==1]\n",
    "df0=df[df[\"buy\"]==0].iloc[0:len(df1)]\n",
    "df=pd.concat([df1,df0],axis=0)\n",
    "del(df1)\n",
    "del(df0)\n",
    "\n",
    "\n"
   ]
  },
  {
   "cell_type": "code",
   "execution_count": 11,
   "metadata": {},
   "outputs": [],
   "source": [
    "VolRemover=[\"volume\",\"volume-1\",\"BTC_volume\",\"BTC_volume-1\"]\n",
    "#VolRemover=[]\n",
    "for key in df.keys():\n",
    "    if key.find(\"volume-1_\") != -1 :\n",
    "        VolRemover.append(key)\n",
    "\n",
    "df=df.drop(columns=VolRemover)"
   ]
  },
  {
   "cell_type": "code",
   "execution_count": 12,
   "metadata": {},
   "outputs": [
    {
     "data": {
      "text/plain": [
       "False"
      ]
     },
     "execution_count": 12,
     "metadata": {},
     "output_type": "execute_result"
    }
   ],
   "source": [
    "\"volume-1_1day\" in df.keys()"
   ]
  },
  {
   "cell_type": "code",
   "execution_count": 13,
   "metadata": {},
   "outputs": [
    {
     "name": "stdout",
     "output_type": "stream",
     "text": [
      "price  ; high-1  ; low-1  ; open-1  ; close-1  ; high-2  ; low-2  ; open-2  ; close-2  ; volume-2  ; high-3  ; low-3  ; open-3  ; close-3  ; volume-3  ; high-4  ; low-4  ; open-4  ; close-4  ; volume-4  ; high-5  ; low-5  ; open-5  ; close-5  ; volume-5  ; high-6  ; low-6  ; open-6  ; close-6  ; volume-6  ; high-7  ; low-7  ; open-7  ; close-7  ; volume-7  ; high-8  ; low-8  ; open-8  ; close-8  ; volume-8  ; high-9  ; low-9  ; open-9  ; close-9  ; volume-9  ; high-10  ; low-10  ; open-10  ; close-10  ; volume-10  ; high-11  ; low-11  ; open-11  ; close-11  ; volume-11  ; high-12  ; low-12  ; open-12  ; close-12  ; volume-12  ; high-13  ; low-13  ; open-13  ; close-13  ; volume-13  ; high-14  ; low-14  ; open-14  ; close-14  ; volume-14  ; high-15  ; low-15  ; open-15  ; close-15  ; volume-15  ; high-1_day  ; low-1_day  ; open-1_day  ; close-1_day  ; high-2_day  ; low-2_day  ; open-2_day  ; close-2_day  ; volume-2_day  ; high-3_day  ; low-3_day  ; open-3_day  ; close-3_day  ; volume-3_day  ; high-4_day  ; low-4_day  ; open-4_day  ; close-4_day  ; volume-4_day  ; high-5_day  ; low-5_day  ; open-5_day  ; close-5_day  ; volume-5_day  ; high-6_day  ; low-6_day  ; open-6_day  ; close-6_day  ; volume-6_day  ; high-7_day  ; low-7_day  ; open-7_day  ; close-7_day  ; volume-7_day  ; high-8_day  ; low-8_day  ; open-8_day  ; close-8_day  ; volume-8_day  ; high-9_day  ; low-9_day  ; open-9_day  ; close-9_day  ; volume-9_day  ; high-10_day  ; low-10_day  ; open-10_day  ; close-10_day  ; volume-10_day  ; high-11_day  ; low-11_day  ; open-11_day  ; close-11_day  ; volume-11_day  ; high-12_day  ; low-12_day  ; open-12_day  ; close-12_day  ; volume-12_day  ; high-13_day  ; low-13_day  ; open-13_day  ; close-13_day  ; volume-13_day  ; high-14_day  ; low-14_day  ; open-14_day  ; close-14_day  ; volume-14_day  ; high-15_day  ; low-15_day  ; open-15_day  ; close-15_day  ; volume-15_day  ; high-1_hour  ; low-1_hour  ; open-1_hour  ; close-1_hour  ; high-2_hour  ; low-2_hour  ; open-2_hour  ; close-2_hour  ; volume-2_hour  ; high-3_hour  ; low-3_hour  ; open-3_hour  ; close-3_hour  ; volume-3_hour  ; high-4_hour  ; low-4_hour  ; open-4_hour  ; close-4_hour  ; volume-4_hour  ; high-5_hour  ; low-5_hour  ; open-5_hour  ; close-5_hour  ; volume-5_hour  ; high-6_hour  ; low-6_hour  ; open-6_hour  ; close-6_hour  ; volume-6_hour  ; high-7_hour  ; low-7_hour  ; open-7_hour  ; close-7_hour  ; volume-7_hour  ; high-8_hour  ; low-8_hour  ; open-8_hour  ; close-8_hour  ; volume-8_hour  ; high-9_hour  ; low-9_hour  ; open-9_hour  ; close-9_hour  ; volume-9_hour  ; high-10_hour  ; low-10_hour  ; open-10_hour  ; close-10_hour  ; volume-10_hour  ; high-11_hour  ; low-11_hour  ; open-11_hour  ; close-11_hour  ; volume-11_hour  ; high-12_hour  ; low-12_hour  ; open-12_hour  ; close-12_hour  ; volume-12_hour  ; high-13_hour  ; low-13_hour  ; open-13_hour  ; close-13_hour  ; volume-13_hour  ; high-14_hour  ; low-14_hour  ; open-14_hour  ; close-14_hour  ; volume-14_hour  ; high-15_hour  ; low-15_hour  ; open-15_hour  ; close-15_hour  ; volume-15_hour  ; high-1_15min  ; low-1_15min  ; open-1_15min  ; close-1_15min  ; high-2_15min  ; low-2_15min  ; open-2_15min  ; close-2_15min  ; volume-2_15min  ; high-3_15min  ; low-3_15min  ; open-3_15min  ; close-3_15min  ; volume-3_15min  ; high-4_15min  ; low-4_15min  ; open-4_15min  ; close-4_15min  ; volume-4_15min  ; high-5_15min  ; low-5_15min  ; open-5_15min  ; close-5_15min  ; volume-5_15min  ; high-6_15min  ; low-6_15min  ; open-6_15min  ; close-6_15min  ; volume-6_15min  ; high-7_15min  ; low-7_15min  ; open-7_15min  ; close-7_15min  ; volume-7_15min  ; high-8_15min  ; low-8_15min  ; open-8_15min  ; close-8_15min  ; volume-8_15min  ; high-9_15min  ; low-9_15min  ; open-9_15min  ; close-9_15min  ; volume-9_15min  ; high-10_15min  ; low-10_15min  ; open-10_15min  ; close-10_15min  ; volume-10_15min  ; high-11_15min  ; low-11_15min  ; open-11_15min  ; close-11_15min  ; volume-11_15min  ; high-12_15min  ; low-12_15min  ; open-12_15min  ; close-12_15min  ; volume-12_15min  ; high-13_15min  ; low-13_15min  ; open-13_15min  ; close-13_15min  ; volume-13_15min  ; high-14_15min  ; low-14_15min  ; open-14_15min  ; close-14_15min  ; volume-14_15min  ; high-15_15min  ; low-15_15min  ; open-15_15min  ; close-15_15min  ; volume-15_15min  ; high-1_5min  ; low-1_5min  ; open-1_5min  ; close-1_5min  ; high-2_5min  ; low-2_5min  ; open-2_5min  ; close-2_5min  ; volume-2_5min  ; high-3_5min  ; low-3_5min  ; open-3_5min  ; close-3_5min  ; volume-3_5min  ; high-4_5min  ; low-4_5min  ; open-4_5min  ; close-4_5min  ; volume-4_5min  ; high-5_5min  ; low-5_5min  ; open-5_5min  ; close-5_5min  ; volume-5_5min  ; high-6_5min  ; low-6_5min  ; open-6_5min  ; close-6_5min  ; volume-6_5min  ; high-7_5min  ; low-7_5min  ; open-7_5min  ; close-7_5min  ; volume-7_5min  ; high-8_5min  ; low-8_5min  ; open-8_5min  ; close-8_5min  ; volume-8_5min  ; high-9_5min  ; low-9_5min  ; open-9_5min  ; close-9_5min  ; volume-9_5min  ; high-10_5min  ; low-10_5min  ; open-10_5min  ; close-10_5min  ; volume-10_5min  ; high-11_5min  ; low-11_5min  ; open-11_5min  ; close-11_5min  ; volume-11_5min  ; high-12_5min  ; low-12_5min  ; open-12_5min  ; close-12_5min  ; volume-12_5min  ; high-13_5min  ; low-13_5min  ; open-13_5min  ; close-13_5min  ; volume-13_5min  ; high-14_5min  ; low-14_5min  ; open-14_5min  ; close-14_5min  ; volume-14_5min  ; high-15_5min  ; low-15_5min  ; open-15_5min  ; close-15_5min  ; volume-15_5min  ; BTC_price  ; BTC_high-1  ; BTC_low-1  ; BTC_open-1  ; BTC_close-1  ; BTC_high-2  ; BTC_low-2  ; BTC_open-2  ; BTC_close-2  ; BTC_volume-2  ; BTC_high-3  ; BTC_low-3  ; BTC_open-3  ; BTC_close-3  ; BTC_volume-3  ; BTC_high-4  ; BTC_low-4  ; BTC_open-4  ; BTC_close-4  ; BTC_volume-4  ; BTC_high-5  ; BTC_low-5  ; BTC_open-5  ; BTC_close-5  ; BTC_volume-5  ; BTC_high-6  ; BTC_low-6  ; BTC_open-6  ; BTC_close-6  ; BTC_volume-6  ; BTC_high-7  ; BTC_low-7  ; BTC_open-7  ; BTC_close-7  ; BTC_volume-7  ; BTC_high-8  ; BTC_low-8  ; BTC_open-8  ; BTC_close-8  ; BTC_volume-8  ; BTC_high-9  ; BTC_low-9  ; BTC_open-9  ; BTC_close-9  ; BTC_volume-9  ; BTC_high-10  ; BTC_low-10  ; BTC_open-10  ; BTC_close-10  ; BTC_volume-10  ; BTC_high-11  ; BTC_low-11  ; BTC_open-11  ; BTC_close-11  ; BTC_volume-11  ; BTC_high-12  ; BTC_low-12  ; BTC_open-12  ; BTC_close-12  ; BTC_volume-12  ; BTC_high-13  ; BTC_low-13  ; BTC_open-13  ; BTC_close-13  ; BTC_volume-13  ; BTC_high-14  ; BTC_low-14  ; BTC_open-14  ; BTC_close-14  ; BTC_volume-14  ; BTC_high-15  ; BTC_low-15  ; BTC_open-15  ; BTC_close-15  ; BTC_volume-15  ; BTC_high-1_day  ; BTC_low-1_day  ; BTC_open-1_day  ; BTC_close-1_day  ; BTC_high-2_day  ; BTC_low-2_day  ; BTC_open-2_day  ; BTC_close-2_day  ; BTC_volume-2_day  ; BTC_high-3_day  ; BTC_low-3_day  ; BTC_open-3_day  ; BTC_close-3_day  ; BTC_volume-3_day  ; BTC_high-4_day  ; BTC_low-4_day  ; BTC_open-4_day  ; BTC_close-4_day  ; BTC_volume-4_day  ; BTC_high-5_day  ; BTC_low-5_day  ; BTC_open-5_day  ; BTC_close-5_day  ; BTC_volume-5_day  ; BTC_high-6_day  ; BTC_low-6_day  ; BTC_open-6_day  ; BTC_close-6_day  ; BTC_volume-6_day  ; BTC_high-7_day  ; BTC_low-7_day  ; BTC_open-7_day  ; BTC_close-7_day  ; BTC_volume-7_day  ; BTC_high-8_day  ; BTC_low-8_day  ; BTC_open-8_day  ; BTC_close-8_day  ; BTC_volume-8_day  ; BTC_high-9_day  ; BTC_low-9_day  ; BTC_open-9_day  ; BTC_close-9_day  ; BTC_volume-9_day  ; BTC_high-10_day  ; BTC_low-10_day  ; BTC_open-10_day  ; BTC_close-10_day  ; BTC_volume-10_day  ; BTC_high-11_day  ; BTC_low-11_day  ; BTC_open-11_day  ; BTC_close-11_day  ; BTC_volume-11_day  ; BTC_high-12_day  ; BTC_low-12_day  ; BTC_open-12_day  ; BTC_close-12_day  ; BTC_volume-12_day  ; BTC_high-13_day  ; BTC_low-13_day  ; BTC_open-13_day  ; BTC_close-13_day  ; BTC_volume-13_day  ; BTC_high-14_day  ; BTC_low-14_day  ; BTC_open-14_day  ; BTC_close-14_day  ; BTC_volume-14_day  ; BTC_high-15_day  ; BTC_low-15_day  ; BTC_open-15_day  ; BTC_close-15_day  ; BTC_volume-15_day  ; BTC_high-1_hour  ; BTC_low-1_hour  ; BTC_open-1_hour  ; BTC_close-1_hour  ; BTC_high-2_hour  ; BTC_low-2_hour  ; BTC_open-2_hour  ; BTC_close-2_hour  ; BTC_volume-2_hour  ; BTC_high-3_hour  ; BTC_low-3_hour  ; BTC_open-3_hour  ; BTC_close-3_hour  ; BTC_volume-3_hour  ; BTC_high-4_hour  ; BTC_low-4_hour  ; BTC_open-4_hour  ; BTC_close-4_hour  ; BTC_volume-4_hour  ; BTC_high-5_hour  ; BTC_low-5_hour  ; BTC_open-5_hour  ; BTC_close-5_hour  ; BTC_volume-5_hour  ; BTC_high-6_hour  ; BTC_low-6_hour  ; BTC_open-6_hour  ; BTC_close-6_hour  ; BTC_volume-6_hour  ; BTC_high-7_hour  ; BTC_low-7_hour  ; BTC_open-7_hour  ; BTC_close-7_hour  ; BTC_volume-7_hour  ; BTC_high-8_hour  ; BTC_low-8_hour  ; BTC_open-8_hour  ; BTC_close-8_hour  ; BTC_volume-8_hour  ; BTC_high-9_hour  ; BTC_low-9_hour  ; BTC_open-9_hour  ; BTC_close-9_hour  ; BTC_volume-9_hour  ; BTC_high-10_hour  ; BTC_low-10_hour  ; BTC_open-10_hour  ; BTC_close-10_hour  ; BTC_volume-10_hour  ; BTC_high-11_hour  ; BTC_low-11_hour  ; BTC_open-11_hour  ; BTC_close-11_hour  ; BTC_volume-11_hour  ; BTC_high-12_hour  ; BTC_low-12_hour  ; BTC_open-12_hour  ; BTC_close-12_hour  ; BTC_volume-12_hour  ; BTC_high-13_hour  ; BTC_low-13_hour  ; BTC_open-13_hour  ; BTC_close-13_hour  ; BTC_volume-13_hour  ; BTC_high-14_hour  ; BTC_low-14_hour  ; BTC_open-14_hour  ; BTC_close-14_hour  ; BTC_volume-14_hour  ; BTC_high-15_hour  ; BTC_low-15_hour  ; BTC_open-15_hour  ; BTC_close-15_hour  ; BTC_volume-15_hour  ; BTC_high-1_15min  ; BTC_low-1_15min  ; BTC_open-1_15min  ; BTC_close-1_15min  ; BTC_high-2_15min  ; BTC_low-2_15min  ; BTC_open-2_15min  ; BTC_close-2_15min  ; BTC_volume-2_15min  ; BTC_high-3_15min  ; BTC_low-3_15min  ; BTC_open-3_15min  ; BTC_close-3_15min  ; BTC_volume-3_15min  ; BTC_high-4_15min  ; BTC_low-4_15min  ; BTC_open-4_15min  ; BTC_close-4_15min  ; BTC_volume-4_15min  ; BTC_high-5_15min  ; BTC_low-5_15min  ; BTC_open-5_15min  ; BTC_close-5_15min  ; BTC_volume-5_15min  ; BTC_high-6_15min  ; BTC_low-6_15min  ; BTC_open-6_15min  ; BTC_close-6_15min  ; BTC_volume-6_15min  ; BTC_high-7_15min  ; BTC_low-7_15min  ; BTC_open-7_15min  ; BTC_close-7_15min  ; BTC_volume-7_15min  ; BTC_high-8_15min  ; BTC_low-8_15min  ; BTC_open-8_15min  ; BTC_close-8_15min  ; BTC_volume-8_15min  ; BTC_high-9_15min  ; BTC_low-9_15min  ; BTC_open-9_15min  ; BTC_close-9_15min  ; BTC_volume-9_15min  ; BTC_high-10_15min  ; BTC_low-10_15min  ; BTC_open-10_15min  ; BTC_close-10_15min  ; BTC_volume-10_15min  ; BTC_high-11_15min  ; BTC_low-11_15min  ; BTC_open-11_15min  ; BTC_close-11_15min  ; BTC_volume-11_15min  ; BTC_high-12_15min  ; BTC_low-12_15min  ; BTC_open-12_15min  ; BTC_close-12_15min  ; BTC_volume-12_15min  ; BTC_high-13_15min  ; BTC_low-13_15min  ; BTC_open-13_15min  ; BTC_close-13_15min  ; BTC_volume-13_15min  ; BTC_high-14_15min  ; BTC_low-14_15min  ; BTC_open-14_15min  ; BTC_close-14_15min  ; BTC_volume-14_15min  ; BTC_high-15_15min  ; BTC_low-15_15min  ; BTC_open-15_15min  ; BTC_close-15_15min  ; BTC_volume-15_15min  ; BTC_high-1_5min  ; BTC_low-1_5min  ; BTC_open-1_5min  ; BTC_close-1_5min  ; BTC_high-2_5min  ; BTC_low-2_5min  ; BTC_open-2_5min  ; BTC_close-2_5min  ; BTC_volume-2_5min  ; BTC_high-3_5min  ; BTC_low-3_5min  ; BTC_open-3_5min  ; BTC_close-3_5min  ; BTC_volume-3_5min  ; BTC_high-4_5min  ; BTC_low-4_5min  ; BTC_open-4_5min  ; BTC_close-4_5min  ; BTC_volume-4_5min  ; BTC_high-5_5min  ; BTC_low-5_5min  ; BTC_open-5_5min  ; BTC_close-5_5min  ; BTC_volume-5_5min  ; BTC_high-6_5min  ; BTC_low-6_5min  ; BTC_open-6_5min  ; BTC_close-6_5min  ; BTC_volume-6_5min  ; BTC_high-7_5min  ; BTC_low-7_5min  ; BTC_open-7_5min  ; BTC_close-7_5min  ; BTC_volume-7_5min  ; BTC_high-8_5min  ; BTC_low-8_5min  ; BTC_open-8_5min  ; BTC_close-8_5min  ; BTC_volume-8_5min  ; BTC_high-9_5min  ; BTC_low-9_5min  ; BTC_open-9_5min  ; BTC_close-9_5min  ; BTC_volume-9_5min  ; BTC_high-10_5min  ; BTC_low-10_5min  ; BTC_open-10_5min  ; BTC_close-10_5min  ; BTC_volume-10_5min  ; BTC_high-11_5min  ; BTC_low-11_5min  ; BTC_open-11_5min  ; BTC_close-11_5min  ; BTC_volume-11_5min  ; BTC_high-12_5min  ; BTC_low-12_5min  ; BTC_open-12_5min  ; BTC_close-12_5min  ; BTC_volume-12_5min  ; BTC_high-13_5min  ; BTC_low-13_5min  ; BTC_open-13_5min  ; BTC_close-13_5min  ; BTC_volume-13_5min  ; BTC_high-14_5min  ; BTC_low-14_5min  ; BTC_open-14_5min  ; BTC_close-14_5min  ; BTC_volume-14_5min  ; BTC_high-15_5min  ; BTC_low-15_5min  ; BTC_open-15_5min  ; BTC_close-15_5min  ; BTC_volume-15_5min  ; day  ; hour  ; minute  ; lunch_day  ; buy  ; "
     ]
    }
   ],
   "source": [
    "for k in df.keys():print(k, end=\"  ; \")"
   ]
  },
  {
   "cell_type": "code",
   "execution_count": 14,
   "metadata": {},
   "outputs": [
    {
     "data": {
      "text/plain": [
       "Index(['price', 'high-1', 'low-1', 'open-1', 'close-1', 'high-2', 'low-2',\n",
       "       'open-2', 'close-2', 'volume-2',\n",
       "       ...\n",
       "       'BTC_high-15_5min', 'BTC_low-15_5min', 'BTC_open-15_5min',\n",
       "       'BTC_close-15_5min', 'BTC_volume-15_5min', 'day', 'hour', 'minute',\n",
       "       'lunch_day', 'buy'],\n",
       "      dtype='object', length=747)"
      ]
     },
     "execution_count": 14,
     "metadata": {},
     "output_type": "execute_result"
    }
   ],
   "source": [
    "df.keys()"
   ]
  },
  {
   "cell_type": "code",
   "execution_count": 15,
   "metadata": {},
   "outputs": [],
   "source": [
    "df.to_csv(\"cleaned_w15_50percent_novolume.csv\")"
   ]
  },
  {
   "cell_type": "code",
   "execution_count": 16,
   "metadata": {},
   "outputs": [],
   "source": [
    "# try:\n",
    "#     df=pd.concat([df1,df0],axis=0).drop(columns=['volume-1', 'volume-1','close','BTC_volume-1', 'BTC_volume-1','BTC_volume-1'])\n",
    "# except:\n",
    "#     print(\"df may be clean\")\n",
    "    \n",
    "# gc.collect()"
   ]
  },
  {
   "cell_type": "code",
   "execution_count": 19,
   "metadata": {},
   "outputs": [
    {
     "data": {
      "text/plain": [
       "0"
      ]
     },
     "execution_count": 19,
     "metadata": {},
     "output_type": "execute_result"
    }
   ],
   "source": [
    "#del(df1)\n",
    "#del(df0)\n",
    "gc.collect()"
   ]
  },
  {
   "cell_type": "code",
   "execution_count": 20,
   "metadata": {},
   "outputs": [
    {
     "data": {
      "text/html": [
       "<div>\n",
       "<style scoped>\n",
       "    .dataframe tbody tr th:only-of-type {\n",
       "        vertical-align: middle;\n",
       "    }\n",
       "\n",
       "    .dataframe tbody tr th {\n",
       "        vertical-align: top;\n",
       "    }\n",
       "\n",
       "    .dataframe thead th {\n",
       "        text-align: right;\n",
       "    }\n",
       "</style>\n",
       "<table border=\"1\" class=\"dataframe\">\n",
       "  <thead>\n",
       "    <tr style=\"text-align: right;\">\n",
       "      <th></th>\n",
       "      <th>price</th>\n",
       "      <th>high-1</th>\n",
       "      <th>low-1</th>\n",
       "      <th>open-1</th>\n",
       "      <th>close-1</th>\n",
       "      <th>high-2</th>\n",
       "      <th>low-2</th>\n",
       "      <th>open-2</th>\n",
       "      <th>close-2</th>\n",
       "      <th>volume-2</th>\n",
       "      <th>...</th>\n",
       "      <th>BTC_high-15_5min</th>\n",
       "      <th>BTC_low-15_5min</th>\n",
       "      <th>BTC_open-15_5min</th>\n",
       "      <th>BTC_close-15_5min</th>\n",
       "      <th>BTC_volume-15_5min</th>\n",
       "      <th>day</th>\n",
       "      <th>hour</th>\n",
       "      <th>minute</th>\n",
       "      <th>lunch_day</th>\n",
       "      <th>buy</th>\n",
       "    </tr>\n",
       "  </thead>\n",
       "  <tbody>\n",
       "    <tr>\n",
       "      <th>995847</th>\n",
       "      <td>10.091667</td>\n",
       "      <td>-0.002808</td>\n",
       "      <td>0.001156</td>\n",
       "      <td>-0.000826</td>\n",
       "      <td>-0.001817</td>\n",
       "      <td>-0.001817</td>\n",
       "      <td>0.003138</td>\n",
       "      <td>0.002147</td>\n",
       "      <td>-0.001817</td>\n",
       "      <td>2283.890</td>\n",
       "      <td>...</td>\n",
       "      <td>-0.005336</td>\n",
       "      <td>-0.002141</td>\n",
       "      <td>-0.004098</td>\n",
       "      <td>-0.002347</td>\n",
       "      <td>99.906790</td>\n",
       "      <td>3</td>\n",
       "      <td>12</td>\n",
       "      <td>17</td>\n",
       "      <td>-439</td>\n",
       "      <td>1</td>\n",
       "    </tr>\n",
       "    <tr>\n",
       "      <th>237034</th>\n",
       "      <td>0.974617</td>\n",
       "      <td>-0.002445</td>\n",
       "      <td>-0.000393</td>\n",
       "      <td>-0.002445</td>\n",
       "      <td>-0.000393</td>\n",
       "      <td>-0.003369</td>\n",
       "      <td>-0.001009</td>\n",
       "      <td>-0.003369</td>\n",
       "      <td>-0.002548</td>\n",
       "      <td>2674.020</td>\n",
       "      <td>...</td>\n",
       "      <td>0.007276</td>\n",
       "      <td>0.008596</td>\n",
       "      <td>0.008009</td>\n",
       "      <td>0.008596</td>\n",
       "      <td>48.730178</td>\n",
       "      <td>6</td>\n",
       "      <td>16</td>\n",
       "      <td>34</td>\n",
       "      <td>-211</td>\n",
       "      <td>0</td>\n",
       "    </tr>\n",
       "    <tr>\n",
       "      <th>240074</th>\n",
       "      <td>37.725000</td>\n",
       "      <td>-0.000186</td>\n",
       "      <td>0.004533</td>\n",
       "      <td>0.003897</td>\n",
       "      <td>0.003632</td>\n",
       "      <td>-0.002624</td>\n",
       "      <td>0.004612</td>\n",
       "      <td>-0.001564</td>\n",
       "      <td>0.003738</td>\n",
       "      <td>15001.501</td>\n",
       "      <td>...</td>\n",
       "      <td>-0.030136</td>\n",
       "      <td>-0.012166</td>\n",
       "      <td>-0.019384</td>\n",
       "      <td>-0.023617</td>\n",
       "      <td>1413.035455</td>\n",
       "      <td>1</td>\n",
       "      <td>17</td>\n",
       "      <td>19</td>\n",
       "      <td>-230</td>\n",
       "      <td>0</td>\n",
       "    </tr>\n",
       "    <tr>\n",
       "      <th>136558</th>\n",
       "      <td>370.566667</td>\n",
       "      <td>-0.000630</td>\n",
       "      <td>0.005847</td>\n",
       "      <td>0.005847</td>\n",
       "      <td>-0.000630</td>\n",
       "      <td>0.003148</td>\n",
       "      <td>0.003148</td>\n",
       "      <td>0.003148</td>\n",
       "      <td>0.003148</td>\n",
       "      <td>0.135</td>\n",
       "      <td>...</td>\n",
       "      <td>-0.005037</td>\n",
       "      <td>-0.000612</td>\n",
       "      <td>-0.000612</td>\n",
       "      <td>-0.003926</td>\n",
       "      <td>329.211640</td>\n",
       "      <td>7</td>\n",
       "      <td>13</td>\n",
       "      <td>26</td>\n",
       "      <td>-590</td>\n",
       "      <td>0</td>\n",
       "    </tr>\n",
       "    <tr>\n",
       "      <th>184873</th>\n",
       "      <td>47.160833</td>\n",
       "      <td>-0.001679</td>\n",
       "      <td>0.000463</td>\n",
       "      <td>0.000463</td>\n",
       "      <td>-0.000152</td>\n",
       "      <td>0.000230</td>\n",
       "      <td>0.000951</td>\n",
       "      <td>0.000484</td>\n",
       "      <td>0.000421</td>\n",
       "      <td>1405.758</td>\n",
       "      <td>...</td>\n",
       "      <td>-0.001085</td>\n",
       "      <td>0.002062</td>\n",
       "      <td>0.001842</td>\n",
       "      <td>0.000120</td>\n",
       "      <td>228.795685</td>\n",
       "      <td>1</td>\n",
       "      <td>18</td>\n",
       "      <td>28</td>\n",
       "      <td>-223</td>\n",
       "      <td>0</td>\n",
       "    </tr>\n",
       "    <tr>\n",
       "      <th>...</th>\n",
       "      <td>...</td>\n",
       "      <td>...</td>\n",
       "      <td>...</td>\n",
       "      <td>...</td>\n",
       "      <td>...</td>\n",
       "      <td>...</td>\n",
       "      <td>...</td>\n",
       "      <td>...</td>\n",
       "      <td>...</td>\n",
       "      <td>...</td>\n",
       "      <td>...</td>\n",
       "      <td>...</td>\n",
       "      <td>...</td>\n",
       "      <td>...</td>\n",
       "      <td>...</td>\n",
       "      <td>...</td>\n",
       "      <td>...</td>\n",
       "      <td>...</td>\n",
       "      <td>...</td>\n",
       "      <td>...</td>\n",
       "      <td>...</td>\n",
       "    </tr>\n",
       "    <tr>\n",
       "      <th>345769</th>\n",
       "      <td>6.688167</td>\n",
       "      <td>-0.002816</td>\n",
       "      <td>0.004959</td>\n",
       "      <td>0.001072</td>\n",
       "      <td>0.003613</td>\n",
       "      <td>-0.006255</td>\n",
       "      <td>0.002118</td>\n",
       "      <td>-0.002367</td>\n",
       "      <td>0.001072</td>\n",
       "      <td>5730.000</td>\n",
       "      <td>...</td>\n",
       "      <td>-0.011802</td>\n",
       "      <td>-0.009198</td>\n",
       "      <td>-0.010232</td>\n",
       "      <td>-0.010795</td>\n",
       "      <td>128.607770</td>\n",
       "      <td>2</td>\n",
       "      <td>8</td>\n",
       "      <td>14</td>\n",
       "      <td>-751</td>\n",
       "      <td>1</td>\n",
       "    </tr>\n",
       "    <tr>\n",
       "      <th>113301</th>\n",
       "      <td>0.002899</td>\n",
       "      <td>-0.001368</td>\n",
       "      <td>0.000632</td>\n",
       "      <td>-0.000506</td>\n",
       "      <td>0.000356</td>\n",
       "      <td>-0.000471</td>\n",
       "      <td>-0.000368</td>\n",
       "      <td>-0.000471</td>\n",
       "      <td>-0.000368</td>\n",
       "      <td>44041.000</td>\n",
       "      <td>...</td>\n",
       "      <td>-0.009603</td>\n",
       "      <td>-0.007661</td>\n",
       "      <td>-0.009058</td>\n",
       "      <td>-0.008272</td>\n",
       "      <td>116.992102</td>\n",
       "      <td>6</td>\n",
       "      <td>3</td>\n",
       "      <td>26</td>\n",
       "      <td>180</td>\n",
       "      <td>0</td>\n",
       "    </tr>\n",
       "    <tr>\n",
       "      <th>98804</th>\n",
       "      <td>1.099910</td>\n",
       "      <td>-0.000427</td>\n",
       "      <td>0.003264</td>\n",
       "      <td>0.002227</td>\n",
       "      <td>0.001746</td>\n",
       "      <td>0.000482</td>\n",
       "      <td>0.003546</td>\n",
       "      <td>0.001646</td>\n",
       "      <td>0.001927</td>\n",
       "      <td>15611.000</td>\n",
       "      <td>...</td>\n",
       "      <td>0.002794</td>\n",
       "      <td>0.004865</td>\n",
       "      <td>0.004520</td>\n",
       "      <td>0.004440</td>\n",
       "      <td>92.798480</td>\n",
       "      <td>4</td>\n",
       "      <td>13</td>\n",
       "      <td>1</td>\n",
       "      <td>-673</td>\n",
       "      <td>0</td>\n",
       "    </tr>\n",
       "    <tr>\n",
       "      <th>448122</th>\n",
       "      <td>9.323667</td>\n",
       "      <td>-0.010225</td>\n",
       "      <td>-0.001752</td>\n",
       "      <td>-0.007436</td>\n",
       "      <td>-0.001752</td>\n",
       "      <td>-0.011190</td>\n",
       "      <td>-0.001430</td>\n",
       "      <td>-0.003790</td>\n",
       "      <td>-0.007544</td>\n",
       "      <td>65520.600</td>\n",
       "      <td>...</td>\n",
       "      <td>-0.002114</td>\n",
       "      <td>-0.000245</td>\n",
       "      <td>-0.001946</td>\n",
       "      <td>-0.000736</td>\n",
       "      <td>61.223330</td>\n",
       "      <td>5</td>\n",
       "      <td>0</td>\n",
       "      <td>31</td>\n",
       "      <td>273</td>\n",
       "      <td>1</td>\n",
       "    </tr>\n",
       "    <tr>\n",
       "      <th>902404</th>\n",
       "      <td>0.002002</td>\n",
       "      <td>-0.000500</td>\n",
       "      <td>0.000000</td>\n",
       "      <td>-0.000500</td>\n",
       "      <td>0.000000</td>\n",
       "      <td>-0.001499</td>\n",
       "      <td>-0.001499</td>\n",
       "      <td>-0.001499</td>\n",
       "      <td>-0.001499</td>\n",
       "      <td>0.000</td>\n",
       "      <td>...</td>\n",
       "      <td>0.011348</td>\n",
       "      <td>0.016150</td>\n",
       "      <td>0.015957</td>\n",
       "      <td>0.015426</td>\n",
       "      <td>574.898235</td>\n",
       "      <td>5</td>\n",
       "      <td>21</td>\n",
       "      <td>41</td>\n",
       "      <td>-162</td>\n",
       "      <td>1</td>\n",
       "    </tr>\n",
       "  </tbody>\n",
       "</table>\n",
       "<p>429940 rows × 747 columns</p>\n",
       "</div>"
      ],
      "text/plain": [
       "             price    high-1     low-1    open-1   close-1    high-2  \\\n",
       "995847   10.091667 -0.002808  0.001156 -0.000826 -0.001817 -0.001817   \n",
       "237034    0.974617 -0.002445 -0.000393 -0.002445 -0.000393 -0.003369   \n",
       "240074   37.725000 -0.000186  0.004533  0.003897  0.003632 -0.002624   \n",
       "136558  370.566667 -0.000630  0.005847  0.005847 -0.000630  0.003148   \n",
       "184873   47.160833 -0.001679  0.000463  0.000463 -0.000152  0.000230   \n",
       "...            ...       ...       ...       ...       ...       ...   \n",
       "345769    6.688167 -0.002816  0.004959  0.001072  0.003613 -0.006255   \n",
       "113301    0.002899 -0.001368  0.000632 -0.000506  0.000356 -0.000471   \n",
       "98804     1.099910 -0.000427  0.003264  0.002227  0.001746  0.000482   \n",
       "448122    9.323667 -0.010225 -0.001752 -0.007436 -0.001752 -0.011190   \n",
       "902404    0.002002 -0.000500  0.000000 -0.000500  0.000000 -0.001499   \n",
       "\n",
       "           low-2    open-2   close-2   volume-2  ...  BTC_high-15_5min  \\\n",
       "995847  0.003138  0.002147 -0.001817   2283.890  ...         -0.005336   \n",
       "237034 -0.001009 -0.003369 -0.002548   2674.020  ...          0.007276   \n",
       "240074  0.004612 -0.001564  0.003738  15001.501  ...         -0.030136   \n",
       "136558  0.003148  0.003148  0.003148      0.135  ...         -0.005037   \n",
       "184873  0.000951  0.000484  0.000421   1405.758  ...         -0.001085   \n",
       "...          ...       ...       ...        ...  ...               ...   \n",
       "345769  0.002118 -0.002367  0.001072   5730.000  ...         -0.011802   \n",
       "113301 -0.000368 -0.000471 -0.000368  44041.000  ...         -0.009603   \n",
       "98804   0.003546  0.001646  0.001927  15611.000  ...          0.002794   \n",
       "448122 -0.001430 -0.003790 -0.007544  65520.600  ...         -0.002114   \n",
       "902404 -0.001499 -0.001499 -0.001499      0.000  ...          0.011348   \n",
       "\n",
       "        BTC_low-15_5min  BTC_open-15_5min  BTC_close-15_5min  \\\n",
       "995847        -0.002141         -0.004098          -0.002347   \n",
       "237034         0.008596          0.008009           0.008596   \n",
       "240074        -0.012166         -0.019384          -0.023617   \n",
       "136558        -0.000612         -0.000612          -0.003926   \n",
       "184873         0.002062          0.001842           0.000120   \n",
       "...                 ...               ...                ...   \n",
       "345769        -0.009198         -0.010232          -0.010795   \n",
       "113301        -0.007661         -0.009058          -0.008272   \n",
       "98804          0.004865          0.004520           0.004440   \n",
       "448122        -0.000245         -0.001946          -0.000736   \n",
       "902404         0.016150          0.015957           0.015426   \n",
       "\n",
       "        BTC_volume-15_5min  day  hour  minute  lunch_day  buy  \n",
       "995847           99.906790    3    12      17       -439    1  \n",
       "237034           48.730178    6    16      34       -211    0  \n",
       "240074         1413.035455    1    17      19       -230    0  \n",
       "136558          329.211640    7    13      26       -590    0  \n",
       "184873          228.795685    1    18      28       -223    0  \n",
       "...                    ...  ...   ...     ...        ...  ...  \n",
       "345769          128.607770    2     8      14       -751    1  \n",
       "113301          116.992102    6     3      26        180    0  \n",
       "98804            92.798480    4    13       1       -673    0  \n",
       "448122           61.223330    5     0      31        273    1  \n",
       "902404          574.898235    5    21      41       -162    1  \n",
       "\n",
       "[429940 rows x 747 columns]"
      ]
     },
     "execution_count": 20,
     "metadata": {},
     "output_type": "execute_result"
    }
   ],
   "source": [
    "df=df.reindex(np.random.permutation(df.index))\n",
    "gc.collect()\n",
    "df=df.reindex(np.random.permutation(df.index))\n",
    "gc.collect()\n",
    "df=df.reindex(np.random.permutation(df.index))\n",
    "gc.collect()\n",
    "sys.getsizeof(df)/(1024**2)\n",
    "df\n"
   ]
  },
  {
   "cell_type": "markdown",
   "metadata": {},
   "source": [
    "### Remove volumes"
   ]
  },
  {
   "cell_type": "markdown",
   "metadata": {},
   "source": [
    "Cheking null values"
   ]
  },
  {
   "cell_type": "code",
   "execution_count": 21,
   "metadata": {},
   "outputs": [
    {
     "data": {
      "text/html": [
       "<div>\n",
       "<style scoped>\n",
       "    .dataframe tbody tr th:only-of-type {\n",
       "        vertical-align: middle;\n",
       "    }\n",
       "\n",
       "    .dataframe tbody tr th {\n",
       "        vertical-align: top;\n",
       "    }\n",
       "\n",
       "    .dataframe thead th {\n",
       "        text-align: right;\n",
       "    }\n",
       "</style>\n",
       "<table border=\"1\" class=\"dataframe\">\n",
       "  <thead>\n",
       "    <tr style=\"text-align: right;\">\n",
       "      <th></th>\n",
       "      <th>price</th>\n",
       "      <th>high-1</th>\n",
       "      <th>low-1</th>\n",
       "      <th>open-1</th>\n",
       "      <th>close-1</th>\n",
       "      <th>high-2</th>\n",
       "      <th>low-2</th>\n",
       "      <th>open-2</th>\n",
       "      <th>close-2</th>\n",
       "      <th>volume-2</th>\n",
       "      <th>...</th>\n",
       "      <th>BTC_high-15_5min</th>\n",
       "      <th>BTC_low-15_5min</th>\n",
       "      <th>BTC_open-15_5min</th>\n",
       "      <th>BTC_close-15_5min</th>\n",
       "      <th>BTC_volume-15_5min</th>\n",
       "      <th>day</th>\n",
       "      <th>hour</th>\n",
       "      <th>minute</th>\n",
       "      <th>lunch_day</th>\n",
       "      <th>buy</th>\n",
       "    </tr>\n",
       "  </thead>\n",
       "  <tbody>\n",
       "  </tbody>\n",
       "</table>\n",
       "<p>0 rows × 747 columns</p>\n",
       "</div>"
      ],
      "text/plain": [
       "Empty DataFrame\n",
       "Columns: [price, high-1, low-1, open-1, close-1, high-2, low-2, open-2, close-2, volume-2, high-3, low-3, open-3, close-3, volume-3, high-4, low-4, open-4, close-4, volume-4, high-5, low-5, open-5, close-5, volume-5, high-6, low-6, open-6, close-6, volume-6, high-7, low-7, open-7, close-7, volume-7, high-8, low-8, open-8, close-8, volume-8, high-9, low-9, open-9, close-9, volume-9, high-10, low-10, open-10, close-10, volume-10, high-11, low-11, open-11, close-11, volume-11, high-12, low-12, open-12, close-12, volume-12, high-13, low-13, open-13, close-13, volume-13, high-14, low-14, open-14, close-14, volume-14, high-15, low-15, open-15, close-15, volume-15, high-1_day, low-1_day, open-1_day, close-1_day, high-2_day, low-2_day, open-2_day, close-2_day, volume-2_day, high-3_day, low-3_day, open-3_day, close-3_day, volume-3_day, high-4_day, low-4_day, open-4_day, close-4_day, volume-4_day, high-5_day, low-5_day, open-5_day, close-5_day, volume-5_day, high-6_day, ...]\n",
       "Index: []\n",
       "\n",
       "[0 rows x 747 columns]"
      ]
     },
     "execution_count": 21,
     "metadata": {},
     "output_type": "execute_result"
    }
   ],
   "source": [
    "gc.collect()\n",
    "df[df.isnull().any(axis=1)]\n"
   ]
  },
  {
   "cell_type": "markdown",
   "metadata": {},
   "source": [
    "checking keys"
   ]
  },
  {
   "cell_type": "code",
   "execution_count": 22,
   "metadata": {},
   "outputs": [
    {
     "name": "stdout",
     "output_type": "stream",
     "text": [
      "price  ;high-1  ;low-1  ;open-1  ;close-1  ;high-2  ;low-2  ;open-2  ;close-2  ;volume-2  ;high-3  ;low-3  ;open-3  ;close-3  ;volume-3  ;high-4  ;low-4  ;open-4  ;close-4  ;volume-4  ;high-5  ;low-5  ;open-5  ;close-5  ;volume-5  ;high-6  ;low-6  ;open-6  ;close-6  ;volume-6  ;high-7  ;low-7  ;open-7  ;close-7  ;volume-7  ;high-8  ;low-8  ;open-8  ;close-8  ;volume-8  ;high-9  ;low-9  ;open-9  ;close-9  ;volume-9  ;high-10  ;low-10  ;open-10  ;close-10  ;volume-10  ;high-11  ;low-11  ;open-11  ;close-11  ;volume-11  ;high-12  ;low-12  ;open-12  ;close-12  ;volume-12  ;high-13  ;low-13  ;open-13  ;close-13  ;volume-13  ;high-14  ;low-14  ;open-14  ;close-14  ;volume-14  ;high-15  ;low-15  ;open-15  ;close-15  ;volume-15  ;high-1_day  ;low-1_day  ;open-1_day  ;close-1_day  ;high-2_day  ;low-2_day  ;open-2_day  ;close-2_day  ;volume-2_day  ;high-3_day  ;low-3_day  ;open-3_day  ;close-3_day  ;volume-3_day  ;high-4_day  ;low-4_day  ;open-4_day  ;close-4_day  ;volume-4_day  ;high-5_day  ;low-5_day  ;open-5_day  ;close-5_day  ;volume-5_day  ;high-6_day  ;low-6_day  ;open-6_day  ;close-6_day  ;volume-6_day  ;high-7_day  ;low-7_day  ;open-7_day  ;close-7_day  ;volume-7_day  ;high-8_day  ;low-8_day  ;open-8_day  ;close-8_day  ;volume-8_day  ;high-9_day  ;low-9_day  ;open-9_day  ;close-9_day  ;volume-9_day  ;high-10_day  ;low-10_day  ;open-10_day  ;close-10_day  ;volume-10_day  ;high-11_day  ;low-11_day  ;open-11_day  ;close-11_day  ;volume-11_day  ;high-12_day  ;low-12_day  ;open-12_day  ;close-12_day  ;volume-12_day  ;high-13_day  ;low-13_day  ;open-13_day  ;close-13_day  ;volume-13_day  ;high-14_day  ;low-14_day  ;open-14_day  ;close-14_day  ;volume-14_day  ;high-15_day  ;low-15_day  ;open-15_day  ;close-15_day  ;volume-15_day  ;high-1_hour  ;low-1_hour  ;open-1_hour  ;close-1_hour  ;high-2_hour  ;low-2_hour  ;open-2_hour  ;close-2_hour  ;volume-2_hour  ;high-3_hour  ;low-3_hour  ;open-3_hour  ;close-3_hour  ;volume-3_hour  ;high-4_hour  ;low-4_hour  ;open-4_hour  ;close-4_hour  ;volume-4_hour  ;high-5_hour  ;low-5_hour  ;open-5_hour  ;close-5_hour  ;volume-5_hour  ;high-6_hour  ;low-6_hour  ;open-6_hour  ;close-6_hour  ;volume-6_hour  ;high-7_hour  ;low-7_hour  ;open-7_hour  ;close-7_hour  ;volume-7_hour  ;high-8_hour  ;low-8_hour  ;open-8_hour  ;close-8_hour  ;volume-8_hour  ;high-9_hour  ;low-9_hour  ;open-9_hour  ;close-9_hour  ;volume-9_hour  ;high-10_hour  ;low-10_hour  ;open-10_hour  ;close-10_hour  ;volume-10_hour  ;high-11_hour  ;low-11_hour  ;open-11_hour  ;close-11_hour  ;volume-11_hour  ;high-12_hour  ;low-12_hour  ;open-12_hour  ;close-12_hour  ;volume-12_hour  ;high-13_hour  ;low-13_hour  ;open-13_hour  ;close-13_hour  ;volume-13_hour  ;high-14_hour  ;low-14_hour  ;open-14_hour  ;close-14_hour  ;volume-14_hour  ;high-15_hour  ;low-15_hour  ;open-15_hour  ;close-15_hour  ;volume-15_hour  ;high-1_15min  ;low-1_15min  ;open-1_15min  ;close-1_15min  ;high-2_15min  ;low-2_15min  ;open-2_15min  ;close-2_15min  ;volume-2_15min  ;high-3_15min  ;low-3_15min  ;open-3_15min  ;close-3_15min  ;volume-3_15min  ;high-4_15min  ;low-4_15min  ;open-4_15min  ;close-4_15min  ;volume-4_15min  ;high-5_15min  ;low-5_15min  ;open-5_15min  ;close-5_15min  ;volume-5_15min  ;high-6_15min  ;low-6_15min  ;open-6_15min  ;close-6_15min  ;volume-6_15min  ;high-7_15min  ;low-7_15min  ;open-7_15min  ;close-7_15min  ;volume-7_15min  ;high-8_15min  ;low-8_15min  ;open-8_15min  ;close-8_15min  ;volume-8_15min  ;high-9_15min  ;low-9_15min  ;open-9_15min  ;close-9_15min  ;volume-9_15min  ;high-10_15min  ;low-10_15min  ;open-10_15min  ;close-10_15min  ;volume-10_15min  ;high-11_15min  ;low-11_15min  ;open-11_15min  ;close-11_15min  ;volume-11_15min  ;high-12_15min  ;low-12_15min  ;open-12_15min  ;close-12_15min  ;volume-12_15min  ;high-13_15min  ;low-13_15min  ;open-13_15min  ;close-13_15min  ;volume-13_15min  ;high-14_15min  ;low-14_15min  ;open-14_15min  ;close-14_15min  ;volume-14_15min  ;high-15_15min  ;low-15_15min  ;open-15_15min  ;close-15_15min  ;volume-15_15min  ;high-1_5min  ;low-1_5min  ;open-1_5min  ;close-1_5min  ;high-2_5min  ;low-2_5min  ;open-2_5min  ;close-2_5min  ;volume-2_5min  ;high-3_5min  ;low-3_5min  ;open-3_5min  ;close-3_5min  ;volume-3_5min  ;high-4_5min  ;low-4_5min  ;open-4_5min  ;close-4_5min  ;volume-4_5min  ;high-5_5min  ;low-5_5min  ;open-5_5min  ;close-5_5min  ;volume-5_5min  ;high-6_5min  ;low-6_5min  ;open-6_5min  ;close-6_5min  ;volume-6_5min  ;high-7_5min  ;low-7_5min  ;open-7_5min  ;close-7_5min  ;volume-7_5min  ;high-8_5min  ;low-8_5min  ;open-8_5min  ;close-8_5min  ;volume-8_5min  ;high-9_5min  ;low-9_5min  ;open-9_5min  ;close-9_5min  ;volume-9_5min  ;high-10_5min  ;low-10_5min  ;open-10_5min  ;close-10_5min  ;volume-10_5min  ;high-11_5min  ;low-11_5min  ;open-11_5min  ;close-11_5min  ;volume-11_5min  ;high-12_5min  ;low-12_5min  ;open-12_5min  ;close-12_5min  ;volume-12_5min  ;high-13_5min  ;low-13_5min  ;open-13_5min  ;close-13_5min  ;volume-13_5min  ;high-14_5min  ;low-14_5min  ;open-14_5min  ;close-14_5min  ;volume-14_5min  ;high-15_5min  ;low-15_5min  ;open-15_5min  ;close-15_5min  ;volume-15_5min  ;BTC_price  ;BTC_high-1  ;BTC_low-1  ;BTC_open-1  ;BTC_close-1  ;BTC_high-2  ;BTC_low-2  ;BTC_open-2  ;BTC_close-2  ;BTC_volume-2  ;BTC_high-3  ;BTC_low-3  ;BTC_open-3  ;BTC_close-3  ;BTC_volume-3  ;BTC_high-4  ;BTC_low-4  ;BTC_open-4  ;BTC_close-4  ;BTC_volume-4  ;BTC_high-5  ;BTC_low-5  ;BTC_open-5  ;BTC_close-5  ;BTC_volume-5  ;BTC_high-6  ;BTC_low-6  ;BTC_open-6  ;BTC_close-6  ;BTC_volume-6  ;BTC_high-7  ;BTC_low-7  ;BTC_open-7  ;BTC_close-7  ;BTC_volume-7  ;BTC_high-8  ;BTC_low-8  ;BTC_open-8  ;BTC_close-8  ;BTC_volume-8  ;BTC_high-9  ;BTC_low-9  ;BTC_open-9  ;BTC_close-9  ;BTC_volume-9  ;BTC_high-10  ;BTC_low-10  ;BTC_open-10  ;BTC_close-10  ;BTC_volume-10  ;BTC_high-11  ;BTC_low-11  ;BTC_open-11  ;BTC_close-11  ;BTC_volume-11  ;BTC_high-12  ;BTC_low-12  ;BTC_open-12  ;BTC_close-12  ;BTC_volume-12  ;BTC_high-13  ;BTC_low-13  ;BTC_open-13  ;BTC_close-13  ;BTC_volume-13  ;BTC_high-14  ;BTC_low-14  ;BTC_open-14  ;BTC_close-14  ;BTC_volume-14  ;BTC_high-15  ;BTC_low-15  ;BTC_open-15  ;BTC_close-15  ;BTC_volume-15  ;BTC_high-1_day  ;BTC_low-1_day  ;BTC_open-1_day  ;BTC_close-1_day  ;BTC_high-2_day  ;BTC_low-2_day  ;BTC_open-2_day  ;BTC_close-2_day  ;BTC_volume-2_day  ;BTC_high-3_day  ;BTC_low-3_day  ;BTC_open-3_day  ;BTC_close-3_day  ;BTC_volume-3_day  ;BTC_high-4_day  ;BTC_low-4_day  ;BTC_open-4_day  ;BTC_close-4_day  ;BTC_volume-4_day  ;BTC_high-5_day  ;BTC_low-5_day  ;BTC_open-5_day  ;BTC_close-5_day  ;BTC_volume-5_day  ;BTC_high-6_day  ;BTC_low-6_day  ;BTC_open-6_day  ;BTC_close-6_day  ;BTC_volume-6_day  ;BTC_high-7_day  ;BTC_low-7_day  ;BTC_open-7_day  ;BTC_close-7_day  ;BTC_volume-7_day  ;BTC_high-8_day  ;BTC_low-8_day  ;BTC_open-8_day  ;BTC_close-8_day  ;BTC_volume-8_day  ;BTC_high-9_day  ;BTC_low-9_day  ;BTC_open-9_day  ;BTC_close-9_day  ;BTC_volume-9_day  ;BTC_high-10_day  ;BTC_low-10_day  ;BTC_open-10_day  ;BTC_close-10_day  ;BTC_volume-10_day  ;BTC_high-11_day  ;BTC_low-11_day  ;BTC_open-11_day  ;BTC_close-11_day  ;BTC_volume-11_day  ;BTC_high-12_day  ;BTC_low-12_day  ;BTC_open-12_day  ;BTC_close-12_day  ;BTC_volume-12_day  ;BTC_high-13_day  ;BTC_low-13_day  ;BTC_open-13_day  ;BTC_close-13_day  ;BTC_volume-13_day  ;BTC_high-14_day  ;BTC_low-14_day  ;BTC_open-14_day  ;BTC_close-14_day  ;BTC_volume-14_day  ;BTC_high-15_day  ;BTC_low-15_day  ;BTC_open-15_day  ;BTC_close-15_day  ;BTC_volume-15_day  ;BTC_high-1_hour  ;BTC_low-1_hour  ;BTC_open-1_hour  ;BTC_close-1_hour  ;BTC_high-2_hour  ;BTC_low-2_hour  ;BTC_open-2_hour  ;BTC_close-2_hour  ;BTC_volume-2_hour  ;BTC_high-3_hour  ;BTC_low-3_hour  ;BTC_open-3_hour  ;BTC_close-3_hour  ;BTC_volume-3_hour  ;BTC_high-4_hour  ;BTC_low-4_hour  ;BTC_open-4_hour  ;BTC_close-4_hour  ;BTC_volume-4_hour  ;BTC_high-5_hour  ;BTC_low-5_hour  ;BTC_open-5_hour  ;BTC_close-5_hour  ;BTC_volume-5_hour  ;BTC_high-6_hour  ;BTC_low-6_hour  ;BTC_open-6_hour  ;BTC_close-6_hour  ;BTC_volume-6_hour  ;BTC_high-7_hour  ;BTC_low-7_hour  ;BTC_open-7_hour  ;BTC_close-7_hour  ;BTC_volume-7_hour  ;BTC_high-8_hour  ;BTC_low-8_hour  ;BTC_open-8_hour  ;BTC_close-8_hour  ;BTC_volume-8_hour  ;BTC_high-9_hour  ;BTC_low-9_hour  ;BTC_open-9_hour  ;BTC_close-9_hour  ;BTC_volume-9_hour  ;BTC_high-10_hour  ;BTC_low-10_hour  ;BTC_open-10_hour  ;BTC_close-10_hour  ;BTC_volume-10_hour  ;BTC_high-11_hour  ;BTC_low-11_hour  ;BTC_open-11_hour  ;BTC_close-11_hour  ;BTC_volume-11_hour  ;BTC_high-12_hour  ;BTC_low-12_hour  ;BTC_open-12_hour  ;BTC_close-12_hour  ;BTC_volume-12_hour  ;BTC_high-13_hour  ;BTC_low-13_hour  ;BTC_open-13_hour  ;BTC_close-13_hour  ;BTC_volume-13_hour  ;BTC_high-14_hour  ;BTC_low-14_hour  ;BTC_open-14_hour  ;BTC_close-14_hour  ;BTC_volume-14_hour  ;BTC_high-15_hour  ;BTC_low-15_hour  ;BTC_open-15_hour  ;BTC_close-15_hour  ;BTC_volume-15_hour  ;BTC_high-1_15min  ;BTC_low-1_15min  ;BTC_open-1_15min  ;BTC_close-1_15min  ;BTC_high-2_15min  ;BTC_low-2_15min  ;BTC_open-2_15min  ;BTC_close-2_15min  ;BTC_volume-2_15min  ;BTC_high-3_15min  ;BTC_low-3_15min  ;BTC_open-3_15min  ;BTC_close-3_15min  ;BTC_volume-3_15min  ;BTC_high-4_15min  ;BTC_low-4_15min  ;BTC_open-4_15min  ;BTC_close-4_15min  ;BTC_volume-4_15min  ;BTC_high-5_15min  ;BTC_low-5_15min  ;BTC_open-5_15min  ;BTC_close-5_15min  ;BTC_volume-5_15min  ;BTC_high-6_15min  ;BTC_low-6_15min  ;BTC_open-6_15min  ;BTC_close-6_15min  ;BTC_volume-6_15min  ;BTC_high-7_15min  ;BTC_low-7_15min  ;BTC_open-7_15min  ;BTC_close-7_15min  ;BTC_volume-7_15min  ;BTC_high-8_15min  ;BTC_low-8_15min  ;BTC_open-8_15min  ;BTC_close-8_15min  ;BTC_volume-8_15min  ;BTC_high-9_15min  ;BTC_low-9_15min  ;BTC_open-9_15min  ;BTC_close-9_15min  ;BTC_volume-9_15min  ;BTC_high-10_15min  ;BTC_low-10_15min  ;BTC_open-10_15min  ;BTC_close-10_15min  ;BTC_volume-10_15min  ;BTC_high-11_15min  ;BTC_low-11_15min  ;BTC_open-11_15min  ;BTC_close-11_15min  ;BTC_volume-11_15min  ;BTC_high-12_15min  ;BTC_low-12_15min  ;BTC_open-12_15min  ;BTC_close-12_15min  ;BTC_volume-12_15min  ;BTC_high-13_15min  ;BTC_low-13_15min  ;BTC_open-13_15min  ;BTC_close-13_15min  ;BTC_volume-13_15min  ;BTC_high-14_15min  ;BTC_low-14_15min  ;BTC_open-14_15min  ;BTC_close-14_15min  ;BTC_volume-14_15min  ;BTC_high-15_15min  ;BTC_low-15_15min  ;BTC_open-15_15min  ;BTC_close-15_15min  ;BTC_volume-15_15min  ;BTC_high-1_5min  ;BTC_low-1_5min  ;BTC_open-1_5min  ;BTC_close-1_5min  ;BTC_high-2_5min  ;BTC_low-2_5min  ;BTC_open-2_5min  ;BTC_close-2_5min  ;BTC_volume-2_5min  ;BTC_high-3_5min  ;BTC_low-3_5min  ;BTC_open-3_5min  ;BTC_close-3_5min  ;BTC_volume-3_5min  ;BTC_high-4_5min  ;BTC_low-4_5min  ;BTC_open-4_5min  ;BTC_close-4_5min  ;BTC_volume-4_5min  ;BTC_high-5_5min  ;BTC_low-5_5min  ;BTC_open-5_5min  ;BTC_close-5_5min  ;BTC_volume-5_5min  ;BTC_high-6_5min  ;BTC_low-6_5min  ;BTC_open-6_5min  ;BTC_close-6_5min  ;BTC_volume-6_5min  ;BTC_high-7_5min  ;BTC_low-7_5min  ;BTC_open-7_5min  ;BTC_close-7_5min  ;BTC_volume-7_5min  ;BTC_high-8_5min  ;BTC_low-8_5min  ;BTC_open-8_5min  ;BTC_close-8_5min  ;BTC_volume-8_5min  ;BTC_high-9_5min  ;BTC_low-9_5min  ;BTC_open-9_5min  ;BTC_close-9_5min  ;BTC_volume-9_5min  ;BTC_high-10_5min  ;BTC_low-10_5min  ;BTC_open-10_5min  ;BTC_close-10_5min  ;BTC_volume-10_5min  ;BTC_high-11_5min  ;BTC_low-11_5min  ;BTC_open-11_5min  ;BTC_close-11_5min  ;BTC_volume-11_5min  ;BTC_high-12_5min  ;BTC_low-12_5min  ;BTC_open-12_5min  ;BTC_close-12_5min  ;BTC_volume-12_5min  ;BTC_high-13_5min  ;BTC_low-13_5min  ;BTC_open-13_5min  ;BTC_close-13_5min  ;BTC_volume-13_5min  ;BTC_high-14_5min  ;BTC_low-14_5min  ;BTC_open-14_5min  ;BTC_close-14_5min  ;BTC_volume-14_5min  ;BTC_high-15_5min  ;BTC_low-15_5min  ;BTC_open-15_5min  ;BTC_close-15_5min  ;BTC_volume-15_5min  ;day  ;hour  ;minute  ;lunch_day  ;buy  ;"
     ]
    },
    {
     "data": {
      "text/plain": [
       "0"
      ]
     },
     "execution_count": 22,
     "metadata": {},
     "output_type": "execute_result"
    }
   ],
   "source": [
    "for k in df.keys():print(k,end=\"  ;\")\n",
    "gc.collect()"
   ]
  },
  {
   "cell_type": "markdown",
   "metadata": {},
   "source": [
    "# starting numpy process"
   ]
  },
  {
   "cell_type": "markdown",
   "metadata": {},
   "source": [
    "## convert Pandas DataFrame to numpy object"
   ]
  },
  {
   "cell_type": "code",
   "execution_count": 23,
   "metadata": {},
   "outputs": [
    {
     "data": {
      "text/plain": [
       "0"
      ]
     },
     "execution_count": 23,
     "metadata": {},
     "output_type": "execute_result"
    }
   ],
   "source": [
    "\n",
    "dt = df.to_numpy()\n",
    "dt\n",
    "gc.collect()"
   ]
  },
  {
   "cell_type": "code",
   "execution_count": 24,
   "metadata": {},
   "outputs": [
    {
     "data": {
      "text/plain": [
       "0"
      ]
     },
     "execution_count": 24,
     "metadata": {},
     "output_type": "execute_result"
    }
   ],
   "source": [
    "del(df)\n",
    "gc.collect()"
   ]
  },
  {
   "cell_type": "code",
   "execution_count": 25,
   "metadata": {},
   "outputs": [
    {
     "data": {
      "text/plain": [
       "0"
      ]
     },
     "execution_count": 25,
     "metadata": {},
     "output_type": "execute_result"
    }
   ],
   "source": [
    "gc.collect()\n"
   ]
  },
  {
   "cell_type": "code",
   "execution_count": 26,
   "metadata": {},
   "outputs": [
    {
     "data": {
      "text/plain": [
       "(429940, 747)"
      ]
     },
     "execution_count": 26,
     "metadata": {},
     "output_type": "execute_result"
    }
   ],
   "source": [
    "dt.shape"
   ]
  },
  {
   "cell_type": "code",
   "execution_count": 27,
   "metadata": {},
   "outputs": [
    {
     "data": {
      "text/plain": [
       "1.0"
      ]
     },
     "execution_count": 27,
     "metadata": {},
     "output_type": "execute_result"
    }
   ],
   "source": [
    "dt[142110,-1]"
   ]
  },
  {
   "cell_type": "markdown",
   "metadata": {},
   "source": [
    "### Shuffle the rows Again"
   ]
  },
  {
   "cell_type": "code",
   "execution_count": 28,
   "metadata": {},
   "outputs": [],
   "source": [
    "np.random.shuffle(dt)"
   ]
  },
  {
   "cell_type": "code",
   "execution_count": 29,
   "metadata": {},
   "outputs": [
    {
     "data": {
      "text/plain": [
       "0.00011444091796875"
      ]
     },
     "execution_count": 29,
     "metadata": {},
     "output_type": "execute_result"
    }
   ],
   "source": [
    "sys.getsizeof(dt)/(1024**2)"
   ]
  },
  {
   "cell_type": "code",
   "execution_count": 30,
   "metadata": {},
   "outputs": [],
   "source": [
    "#np.savetxt('np_shuffled_cryptodata_w15.csv', dt ,delimiter=',')\n",
    "\n"
   ]
  },
  {
   "cell_type": "code",
   "execution_count": 31,
   "metadata": {},
   "outputs": [],
   "source": [
    "#dt=np.genfromtxt('np_shuffled_cryptodata_w15.csv', delimiter=',')"
   ]
  },
  {
   "cell_type": "code",
   "execution_count": 32,
   "metadata": {},
   "outputs": [
    {
     "name": "stdout",
     "output_type": "stream",
     "text": [
      "128982\n"
     ]
    }
   ],
   "source": [
    "index_20percent= int(0.3*len(dt[:,0]))\n",
    "print(index_20percent)"
   ]
  },
  {
   "cell_type": "code",
   "execution_count": 33,
   "metadata": {},
   "outputs": [],
   "source": [
    "XVALIDATION= dt[:index_20percent, :-1]\n",
    "YVALIDATION= dt[:index_20percent,-1]\n"
   ]
  },
  {
   "cell_type": "code",
   "execution_count": 34,
   "metadata": {},
   "outputs": [],
   "source": [
    "XTRAIN= dt[index_20percent:, 0:-1]\n",
    "YTRAIN= dt[index_20percent:,-1]"
   ]
  },
  {
   "cell_type": "markdown",
   "metadata": {},
   "source": [
    "## Normalization"
   ]
  },
  {
   "cell_type": "code",
   "execution_count": 35,
   "metadata": {},
   "outputs": [
    {
     "data": {
      "image/png": "[encoded data removed]",
      "text/plain": [
       "<Figure size 640x480 with 1 Axes>"
      ]
     },
     "metadata": {},
     "output_type": "display_data"
    }
   ],
   "source": [
    "plt.hist(XTRAIN[:,0])\n",
    "plt.ylabel(\"open_1min\")\n",
    "plt.show()"
   ]
  },
  {
   "cell_type": "code",
   "execution_count": 49,
   "metadata": {},
   "outputs": [
    {
     "data": {
      "image/png": "[encoded data removed]",
      "text/plain": [
       "<Figure size 640x480 with 1 Axes>"
      ]
     },
     "metadata": {},
     "output_type": "display_data"
    },
    {
     "data": {
      "image/png": "[encoded data removed]",
      "text/plain": [
       "<Figure size 640x480 with 1 Axes>"
      ]
     },
     "metadata": {},
     "output_type": "display_data"
    }
   ],
   "source": [
    "plt.hist(YTRAIN)\n",
    "plt.ylabel(\"Output labels\")\n",
    "plt.show()\n",
    "\n",
    "plt.hist(YVALIDATION)\n",
    "plt.ylabel(\"Output labels\")\n",
    "plt.show()"
   ]
  },
  {
   "cell_type": "markdown",
   "metadata": {},
   "source": [
    "Tenderalization (mean normalization)"
   ]
  },
  {
   "cell_type": "code",
   "execution_count": 37,
   "metadata": {},
   "outputs": [],
   "source": [
    "mean = XTRAIN.mean(axis=0)\n",
    "XTRAIN -= mean \n",
    "std = XTRAIN.std(axis=0)\n",
    "XTRAIN /= std\n",
    "\n",
    "XVALIDATION -=mean\n",
    "XVALIDATION /= std"
   ]
  },
  {
   "cell_type": "code",
   "execution_count": 52,
   "metadata": {},
   "outputs": [],
   "source": [
    "Normalization={\"mean\":mean.tolist(),\"std\":std.tolist()}\n",
    "with open(Normalization_File, 'w') as fp:\n",
    "            json.dump(Normalization, fp,  indent=4)"
   ]
  },
  {
   "cell_type": "code",
   "execution_count": 51,
   "metadata": {},
   "outputs": [
    {
     "data": {
      "image/png": "[encoded data removed]",
      "text/plain": [
       "<Figure size 640x480 with 1 Axes>"
      ]
     },
     "metadata": {},
     "output_type": "display_data"
    }
   ],
   "source": [
    "plt.hist(XTRAIN[:,0])\n",
    "plt.ylabel(\"open column\")\n",
    "plt.show()"
   ]
  },
  {
   "cell_type": "code",
   "execution_count": 53,
   "metadata": {},
   "outputs": [
    {
     "name": "stdout",
     "output_type": "stream",
     "text": [
      "(300958, 746)\n",
      "(300958,)\n",
      "(128982, 746)\n",
      "(128982,)\n"
     ]
    }
   ],
   "source": [
    "print(XTRAIN.shape)\n",
    "print(YTRAIN.shape)\n",
    "print(XVALIDATION.shape)\n",
    "print(YVALIDATION.shape)"
   ]
  },
  {
   "cell_type": "markdown",
   "metadata": {},
   "source": [
    "# Neural network model"
   ]
  },
  {
   "cell_type": "markdown",
   "metadata": {},
   "source": [
    "### Model Generator"
   ]
  },
  {
   "cell_type": "code",
   "execution_count": 54,
   "metadata": {
    "id": "5SKqJygzA6X7"
   },
   "outputs": [],
   "source": [
    "IN_DIM=len(XTRAIN[0,:])\n",
    "\n",
    "#code genrator\n",
    "global All_Hist\n",
    "try:\n",
    "    with open('Results_history.json') as json_file:\n",
    "        All_Hist = json.load(json_file)\n",
    "except:\n",
    "    All_Hist={0.000001:\"code\"}\n",
    "\n",
    "try:\n",
    "    All_Hist.pop('1e-06')\n",
    "except:\n",
    "    print(All_Hist)\n"
   ]
  },
  {
   "cell_type": "markdown",
   "metadata": {},
   "source": [
    "The neural network architecture:\n",
    "- layer 1 : 764 neurons\n",
    "- layer 2 : 8 neurons\n",
    "- layer 3 : neurons "
   ]
  },
  {
   "cell_type": "markdown",
   "metadata": {},
   "source": [
    "## Model Test"
   ]
  },
  {
   "cell_type": "markdown",
   "metadata": {},
   "source": [
    "## Compile the model "
   ]
  },
  {
   "cell_type": "code",
   "execution_count": null,
   "metadata": {},
   "outputs": [],
   "source": [
    "model = Sequential()\n",
    "model.add(Dense(int(IN_DIM/2),input_dim=IN_DIM,activation='softplus'))\n",
    "model.add(Dense(int(IN_DIM/2),activation='relu'))\n",
    "model.add(Dropout(0.7))\n",
    "model.add(Dense(int(IN_DIM/5),activation='softplus'))\n",
    "model.add(Dense(int(IN_DIM/4),activation='softmax'))\n",
    "model.add(Dense(int(IN_DIM/1),activation='softplus'))\n",
    "model.add(Dense(1,activation='sigmoid'))\n",
    "print(model.summary())\n",
    "#model.compile(loss='binary_crossentropy',optimizer='rmsprop',metrics=['accuracy'])\n",
    "model.compile(loss='binary_crossentropy',optimizer='adam',metrics=['accuracy'])\n",
    "callbacks_a = ModelCheckpoint(filepath = Model_FileName,monitor ='val_accuracy',save_best_only = True, save_weights = True)\n",
    "callbacks_b = EarlyStopping(monitor ='val_accuracy',mode='auto',patience=20,verbose=1)\n",
    "history = model.fit(XTRAIN,\n",
    "                YTRAIN,\n",
    "                validation_data=(XVALIDATION,YVALIDATION),\n",
    "                epochs=1200,\n",
    "                batch_size=5000,\n",
    "                callbacks=[callbacks_a,callbacks_b])\n",
    "\n",
    "print('##########################################################################')\n",
    "print(f\"------val_accuracy-----> {'{0:.4g}'.format(max(history.history['val_accuracy'])*100)} | {'{0:.4g}'.format(max(history.history['accuracy'])*100)} <----------accuracy----------\")\n"
   ]
  },
  {
   "cell_type": "code",
   "execution_count": 56,
   "metadata": {},
   "outputs": [
    {
     "name": "stdout",
     "output_type": "stream",
     "text": [
      "##########################################################################\n",
      "------val_accuracy-----> 97.31 | 98.37 <----------accuracy----------\n"
     ]
    }
   ],
   "source": [
    "print('##########################################################################')\n",
    "print(f\"------val_accuracy-----> {'{0:.4g}'.format(max(history.history['val_accuracy'])*100)} | {'{0:.4g}'.format(max(history.history['accuracy'])*100)} <----------accuracy----------\")\n"
   ]
  },
  {
   "cell_type": "code",
   "execution_count": 60,
   "metadata": {},
   "outputs": [
    {
     "data": {
      "text/plain": [
       "1.0"
      ]
     },
     "execution_count": 60,
     "metadata": {},
     "output_type": "execute_result"
    }
   ],
   "source": [
    "dt[0,-1]"
   ]
  },
  {
   "cell_type": "code",
   "execution_count": 61,
   "metadata": {},
   "outputs": [
    {
     "name": "stdout",
     "output_type": "stream",
     "text": [
      "4031/4031 [==============================] - 27s 7ms/step - loss: 0.0784 - accuracy: 0.9721\n"
     ]
    }
   ],
   "source": [
    "accuracy = model.evaluate(XVALIDATION, YVALIDATION)\n"
   ]
  },
  {
   "cell_type": "code",
   "execution_count": 63,
   "metadata": {},
   "outputs": [
    {
     "data": {
      "text/plain": [
       "array([[-0.17600387, -0.32206393, -0.10222545, ..., -1.57115732,\n",
       "        -0.82133863,  1.        ],\n",
       "       [-0.17674622, -0.29287732, -0.23837354, ..., -0.81868127,\n",
       "        -0.1347404 ,  1.        ],\n",
       "       [-0.12463055, -0.20494276, -0.30434103, ..., -1.28174345,\n",
       "        -0.85022464,  1.        ],\n",
       "       ...,\n",
       "       [-0.17751348, -0.0528792 , -0.41706334, ..., -0.76079849,\n",
       "         0.4696438 ,  0.        ],\n",
       "       [-0.14716562,  0.43125333, -0.4560441 , ...,  0.28109143,\n",
       "        -0.83467064,  0.        ],\n",
       "       [-0.17755063,  0.27060385,  0.03726877, ..., -1.22386068,\n",
       "        -0.77467662,  1.        ]])"
      ]
     },
     "execution_count": 63,
     "metadata": {},
     "output_type": "execute_result"
    }
   ],
   "source": [
    "dt[0:-1]"
   ]
  },
  {
   "cell_type": "markdown",
   "metadata": {},
   "source": [
    "### Use the model"
   ]
  },
  {
   "cell_type": "code",
   "execution_count": 64,
   "metadata": {},
   "outputs": [],
   "source": [
    "\n",
    "# make probability predictions with the model\n",
    "predictions = model.predict(XVALIDATION)\n",
    "# round predictions \n",
    "rounded = [round(x[0]) for x in predictions]"
   ]
  },
  {
   "cell_type": "code",
   "execution_count": 68,
   "metadata": {},
   "outputs": [
    {
     "data": {
      "text/plain": [
       "0"
      ]
     },
     "execution_count": 68,
     "metadata": {},
     "output_type": "execute_result"
    }
   ],
   "source": [
    "rounded[1201]"
   ]
  },
  {
   "cell_type": "code",
   "execution_count": 67,
   "metadata": {},
   "outputs": [
    {
     "data": {
      "text/plain": [
       "0.0"
      ]
     },
     "execution_count": 67,
     "metadata": {},
     "output_type": "execute_result"
    }
   ],
   "source": [
    "YVALIDATION[1201]"
   ]
  }
 ],
 "metadata": {
  "kernelspec": {
   "display_name": "Python 3.9.7 ('base')",
   "language": "python",
   "name": "python3"
  },
  "language_info": {
   "codemirror_mode": {
    "name": "ipython",
    "version": 3
   },
   "file_extension": ".py",
   "mimetype": "text/x-python",
   "name": "python",
   "nbconvert_exporter": "python",
   "pygments_lexer": "ipython3",
   "version": "3.9.7"
  },
  "orig_nbformat": 4,
  "vscode": {
   "interpreter": {
    "hash": "875f36f95367728e9e1ed7321fa85119a0c86f1195820c7e047475fcf301cc07"
   }
  }
 },
 "nbformat": 4,
 "nbformat_minor": 2
}
