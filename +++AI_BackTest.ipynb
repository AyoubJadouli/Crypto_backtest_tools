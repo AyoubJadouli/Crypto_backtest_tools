{
 "cells": [
  {
   "attachments": {},
   "cell_type": "markdown",
   "metadata": {},
   "source": [
    "# AI back test methods1\n",
    "\n",
    "# --1 Config"
   ]
  },
  {
   "cell_type": "code",
   "execution_count": 1,
   "metadata": {},
   "outputs": [],
   "source": [
    "# ai_options\n",
    "Normalization_File= \"/UltimeTradingBot/Data/BUY_UP_CLOSE/tp21_w5_max2min_Norm_v2.json\"\n",
    "Model_FileName= \"/UltimeTradingBot/Data/BUY_UP_CLOSE/tp21_w5_max2min_Model_v2.hdf5_v2.h5\"\n",
    "WINDOW_SIZE= 5\n",
    "PRESSISION=0.0\n",
    "DATE_RANGE_START=\"\"\n",
    "DATE_RANGE_END=\"\"\n",
    "\n",
    "#trading_options:\n",
    "TAKE_PROFIT= 0.15  \n",
    "STOP_LOSS=  2.3  \n",
    "MAX_HOLDING_TIME= 10\n",
    "\n",
    "USE_TRAILING_STOP_LOSS: False\n",
    "TRAILING_STOP_LOSS= .002     \n",
    "TRAILING_TAKE_PROFIT= .002  \n",
    "\n",
    "PAIR_WITH= \"BUSD\"\n",
    "TRADE_TOTAL= 100 \n",
    "TRADE_SLOTS= 5"
   ]
  },
  {
   "cell_type": "code",
   "execution_count": 1,
   "metadata": {},
   "outputs": [],
   "source": [
    "from xdata_config import *"
   ]
  },
  {
   "attachments": {},
   "cell_type": "markdown",
   "metadata": {},
   "source": [
    "## fonctions and dependancys"
   ]
  },
  {
   "cell_type": "code",
   "execution_count": 13,
   "metadata": {},
   "outputs": [],
   "source": [
    "#! python3 -m pip install --upgrade pip\n",
    "#! pip install mplfinance\n",
    "import mplfinance as mpf\n",
    "import pandas as pd\n",
    "import numpy as np\n",
    "import tensorflow as tf\n",
    "from keras.models import Sequential\n",
    "from keras.layers import Dense\n",
    "from keras.layers import Dropout\n",
    "from keras.constraints import MaxNorm\n",
    "from keras.optimizers import SGD\n",
    "from keras.callbacks import EarlyStopping, ModelCheckpoint\n",
    "from keras.models import Sequential\n",
    "from keras.layers import Dense \n",
    "from keras.models import load_model"
   ]
  },
  {
   "cell_type": "code",
   "execution_count": 10,
   "metadata": {},
   "outputs": [],
   "source": [
    "from functions_module import *"
   ]
  },
  {
   "cell_type": "code",
   "execution_count": 12,
   "metadata": {},
   "outputs": [
    {
     "name": "stdout",
     "output_type": "stream",
     "text": [
      "myArgs:  [ 'LINK', 'AGIX', 'SAND', 'JASMY', 'T', 'BUSD' ]\n",
      "LINK/BUSD\n",
      "AGIX/BUSD\n",
      "SAND/BUSD\n",
      "JASMY/BUSD\n",
      "T/BUSD\n",
      "BUSD/BUSD\n",
      "LINK/BUSD Binance 1m 01-01-2021\n",
      "Loading 1110/1110 requests | 1109828 candles loadedAGIX/BUSD Binance 1m 01-01-2021\n",
      "Loading 1110/1110 requests | 1109829 candles loaded021 0:0 in ./database/Binance/1m/LINK-BUSD.csvSAND/BUSD Binance 1m 01-01-2021\n",
      "Loading 1110/1110 requests | 1109844 candles loaded2022 8:0 in ./database/Binance/1m/AGIX-BUSD.csvJASMY/BUSD Binance 1m 01-01-2021\n",
      "Loading 1110/1110 requests | 1109845 candles loaded021 0:0 in ./database/Binance/1m/SAND-BUSD.csvT/BUSD Binance 1m 01-01-2021\n",
      "Loading 1110/1110 requests | 1109875 candles loaded2021 12:0 in ./database/Binance/1m/JASMY-BUSD.csvLINK/BUSD Binance 5m 01-01-2021\n",
      "Loading 222/222 requests | 221981 candles loaded2-2022 4:0 in ./database/Binance/1m/T-BUSD.csvAGIX/BUSD Binance 5m 01-01-2021\n",
      "Loading 222/222 requests | 221981 candles loaded-2021 0:0 in ./database/Binance/5m/LINK-BUSD.csvSAND/BUSD Binance 5m 01-01-2021\n",
      "Loading 222/222 requests | 221981 candles loaded0-2022 8:0 in ./database/Binance/5m/AGIX-BUSD.csvJASMY/BUSD Binance 5m 01-01-2021\n",
      "Loading 222/222 requests | 221981 candles loaded-2021 0:0 in ./database/Binance/5m/SAND-BUSD.csvT/BUSD Binance 5m 01-01-2021\n",
      "Loading 222/222 requests | 221981 candles loaded11-2021 12:0 in ./database/Binance/5m/JASMY-BUSD.csvLINK/BUSD Binance 15m 01-01-2021\n",
      "Loading 74/74 requests | 73994 candles loaded25-2-2022 4:0 in ./database/Binance/5m/T-BUSD.csvAGIX/BUSD Binance 15m 01-01-2021\n",
      "Loading 74/74 requests | 73994 candles loaded-1-2021 0:0 in ./database/Binance/15m/LINK-BUSD.csvSAND/BUSD Binance 15m 01-01-2021\n",
      "Loading 74/74 requests | 73994 candles loaded4-10-2022 8:0 in ./database/Binance/15m/AGIX-BUSD.csvJASMY/BUSD Binance 15m 01-01-2021\n",
      "Loading 74/74 requests | 73994 candles loaded-1-2021 0:0 in ./database/Binance/15m/SAND-BUSD.csvT/BUSD Binance 15m 01-01-2021\n",
      "Loading 74/74 requests | 73994 candles loaded2-11-2021 12:0 in ./database/Binance/15m/JASMY-BUSD.csvLINK/BUSD Binance 1h 01-01-2021\n",
      "Loading 19/19 requests | 18499 candles loadedAGIX/BUSD Binance 1h 01-01-2021nce/15m/T-BUSD.csv\n",
      "Loading 19/19 requests | 18499 candles loadedSAND/BUSD Binance 1h 01-01-2021ce/1h/LINK-BUSD.csv\n",
      "Loading 19/19 requests | 18499 candles loadedJASMY/BUSD Binance 1h 01-01-2021ce/1h/AGIX-BUSD.csv\n",
      "Loading 19/19 requests | 18499 candles loadedT/BUSD Binance 1h 01-01-2021nance/1h/SAND-BUSD.csv\n",
      "Loading 19/19 requests | 18499 candles loadedLINK/BUSD Binance 1d 01-01-2021nance/1h/JASMY-BUSD.csv\n",
      "Loading 1/1 requests | 771 candles loadedAGIX/BUSD Binance 1d 01-01-2021inance/1h/T-BUSD.csv\n",
      "Loading 1/1 requests | 120 candles loadedSAND/BUSD Binance 1d 01-01-2021ance/1d/LINK-BUSD.csv\n",
      "Loading 1/1 requests | 771 candles loadedJASMY/BUSD Binance 1d 01-01-2021nance/1d/AGIX-BUSD.csv\n",
      "Loading 1/1 requests | 446 candles loadedT/BUSD Binance 1d 01-01-2021Binance/1d/SAND-BUSD.csv\n",
      "Successfully downloaded 351 candles since 25-2-2022 0:0 in ./database/Binance/1d/T-BUSD.csvD.csv"
     ]
    },
    {
     "data": {
      "text/plain": [
       "0"
      ]
     },
     "execution_count": 12,
     "metadata": {},
     "output_type": "execute_result"
    }
   ],
   "source": [
    "PAIR_WITH=\"BUSD\"\n",
    "coins_to_download='LINK AGIX SAND JASMY T'\n",
    "# for coin in VOLATILE_COINS:\n",
    "#     coins_to_download=coins_to_download+\" \"+coin\n",
    "os.system(f\"node database/ddargs.js {coins_to_download} {PAIR_WITH}\")#node database/ddargs.js ORN BUSD"
   ]
  },
  {
   "cell_type": "code",
   "execution_count": 19,
   "metadata": {},
   "outputs": [
    {
     "ename": "SyntaxError",
     "evalue": "invalid syntax (1604563782.py, line 2)",
     "output_type": "error",
     "traceback": [
      "\u001b[0;36m  Cell \u001b[0;32mIn [19], line 2\u001b[0;36m\u001b[0m\n\u001b[0;31m    Mini_list=for c in Mini_list c=c+\"/BUSD\"\u001b[0m\n\u001b[0m              ^\u001b[0m\n\u001b[0;31mSyntaxError\u001b[0m\u001b[0;31m:\u001b[0m invalid syntax\n"
     ]
    }
   ],
   "source": [
    "Mini_list=coins_to_download.split(\" \")\n",
    "Mini_list=for c in Mini_list c=c+\"/BUSD\""
   ]
  },
  {
   "cell_type": "code",
   "execution_count": 23,
   "metadata": {},
   "outputs": [
    {
     "ename": "AttributeError",
     "evalue": "module 'ccxtpro' has no attribute 'binance'",
     "output_type": "error",
     "traceback": [
      "\u001b[0;31m---------------------------------------------------------------------------\u001b[0m",
      "\u001b[0;31mAttributeError\u001b[0m                            Traceback (most recent call last)",
      "Cell \u001b[0;32mIn [23], line 2\u001b[0m\n\u001b[1;32m      1\u001b[0m \u001b[39mimport\u001b[39;00m \u001b[39mccxtpro\u001b[39;00m\n\u001b[0;32m----> 2\u001b[0m exchangepro \u001b[39m=\u001b[39m ccxtpro\u001b[39m.\u001b[39;49mbinance()\n",
      "\u001b[0;31mAttributeError\u001b[0m: module 'ccxtpro' has no attribute 'binance'"
     ]
    }
   ],
   "source": []
  }
 ],
 "metadata": {
  "kernelspec": {
   "display_name": "Python 3",
   "language": "python",
   "name": "python3"
  },
  "language_info": {
   "codemirror_mode": {
    "name": "ipython",
    "version": 3
   },
   "file_extension": ".py",
   "mimetype": "text/x-python",
   "name": "python",
   "nbconvert_exporter": "python",
   "pygments_lexer": "ipython3",
   "version": "3.9.2"
  },
  "orig_nbformat": 4,
  "vscode": {
   "interpreter": {
    "hash": "e7370f93d1d0cde622a1f8e1c04877d8463912d04d973331ad4851f04de6915a"
   }
  }
 },
 "nbformat": 4,
 "nbformat_minor": 2
}
