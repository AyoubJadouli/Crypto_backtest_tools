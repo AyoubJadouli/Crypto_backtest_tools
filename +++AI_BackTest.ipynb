{
 "cells": [
  {
   "attachments": {},
   "cell_type": "markdown",
   "metadata": {},
   "source": [
    "# AI back test methods1\n",
    "\n",
    "# --2 fonctions and dependancys\n"
   ]
  },
  {
   "cell_type": "code",
   "execution_count": null,
   "metadata": {},
   "outputs": [],
   "source": [
    "#! python3 -m pip install --upgrade pip\n",
    "#! pip install mplfinance\n",
    "from xdata_config import *\n",
    "from functions_module import *\n",
    "import mplfinance as mpf\n",
    "import pandas as pd\n",
    "import numpy as np\n",
    "import tensorflow as tf\n",
    "from keras.models import Sequential\n",
    "from keras.layers import Dense\n",
    "from keras.layers import Dropout\n",
    "from keras.constraints import MaxNorm\n",
    "from keras.optimizers import SGD\n",
    "from keras.callbacks import EarlyStopping, ModelCheckpoint\n",
    "from keras.models import Sequential\n",
    "from keras.layers import Dense \n",
    "from keras.models import load_model\n",
    "from datetime import datetime"
   ]
  },
  {
   "cell_type": "code",
   "execution_count": null,
   "metadata": {},
   "outputs": [],
   "source": [
    "import requests\n",
    "\n",
    "url = 'https://api.binance.com/api/v3/ticker/price'\n",
    "\n",
    "response = requests.get(url)\n",
    "tickers = response.json()\n",
    "ticker_list=[]\n",
    "for ticker in tickers:\n",
    "    ticker_list.append((ticker['symbol']))\n"
   ]
  },
  {
   "attachments": {},
   "cell_type": "markdown",
   "metadata": {},
   "source": [
    "# --1 Config"
   ]
  },
  {
   "cell_type": "code",
   "execution_count": null,
   "metadata": {},
   "outputs": [],
   "source": [
    "# ai_options\n",
    "Normalization_File= \"/UltimeTradingBot/Data/BUY_UP_CLOSE/tp21_w5_max2min_Norm_v2.json\"\n",
    "Model_FileName= \"/UltimeTradingBot/Data/BUY_TEST/tp550_w15_max120min_Model_vInit.h5\"\n",
    "WINDOW_SIZE= 15\n",
    "PRESSISION=0.0\n",
    "PERIODE_START=\"11-11-2022 00:00:00\"\n",
    "PERIODE_END=\"11-02-2023 00:00:00\"\n",
    "\n",
    "start_period = datetime.strptime(PERIODE_START, '%d-%m-%Y %H:%M:%S')\n",
    "end_period = datetime.strptime(PERIODE_END, '%d-%m-%Y %H:%M:%S')\n",
    "\n",
    "\n",
    "#trading_options:\n",
    "TAKE_PROFIT= 0.4  \n",
    "STOP_LOSS=  1.3  \n",
    "MAX_HOLDING_TIME= 120\n",
    "\n",
    "USE_TRAILING_STOP_LOSS: False\n",
    "TRAILING_STOP_LOSS= .002     \n",
    "TRAILING_TAKE_PROFIT= .002  \n",
    "\n",
    "PAIR_WITH= \"USDT\"\n",
    "TRADE_TOTAL= 100 \n",
    "TRADE_SLOTS= 5\n",
    "\n",
    "TRADING_FEE= 0.1\n",
    "  "
   ]
  },
  {
   "attachments": {},
   "cell_type": "markdown",
   "metadata": {},
   "source": [
    "# --3 Importing DATA"
   ]
  },
  {
   "cell_type": "code",
   "execution_count": null,
   "metadata": {},
   "outputs": [],
   "source": [
    "from datetime import date\n",
    "#TICKERS = \"../Binance-Fast-Trade-Bot/volatile_volume_\" + str(date.today()) + \".txt\"\n",
    "TICKERS = \"/UltimeTradingBot/Binance-Fast-Trade-Bot/halal_coins.txt\"\n",
    "VOLATILE_COINS=[line.strip() for line in open(TICKERS)]\n",
    "PAIR_WITH=\"USDT\"\n",
    "VOLATILE_USDT_PAIRS=[coin+\"/USDT\" for coin in VOLATILE_COINS]\n",
    "VOLATILE_BUSD_PAIRS=[coin+\"/BUSD\" for coin in VOLATILE_COINS]\n",
    "for pair in VOLATILE_BUSD_PAIRS:\n",
    "    if pair.replace('/' ,'') not  in ticker_list:\n",
    "        print(pair)\n",
    "        VOLATILE_BUSD_PAIRS.remove(pair)\n",
    "\n",
    "for pair in VOLATILE_USDT_PAIRS:\n",
    "    if pair.replace('/', '') not in ticker_list:\n",
    "        print(pair)\n",
    "        VOLATILE_USDT_PAIRS.remove(pair)\n",
    "\n",
    "content = os.listdir('database/DataBackTest/1m')\n",
    "for pair in VOLATILE_USDT_PAIRS:\n",
    "    if pair.replace('/', '-')+'.csv' not in content:\n",
    "        print(pair)\n",
    "        VOLATILE_USDT_PAIRS.remove(pair)\n",
    "for pair in VOLATILE_BUSD_PAIRS:\n",
    "    if pair.replace('/', '-')+'.csv' not in content:\n",
    "        print(pair)\n",
    "        VOLATILE_BUSD_PAIRS.remove(pair)"
   ]
  },
  {
   "cell_type": "code",
   "execution_count": null,
   "metadata": {},
   "outputs": [],
   "source": [
    "# coins_to_download=''\n",
    "# for coin in LISTCOIN:\n",
    "#     coins_to_download=coins_to_download+\" \"+coin\n",
    "# os.system(f\"node database/dd_for_backtest.js {coins_to_download} {PAIR_WITH}\")#node database/ddargs.js ORN BUSD"
   ]
  },
  {
   "cell_type": "code",
   "execution_count": null,
   "metadata": {},
   "outputs": [],
   "source": [
    "pair_list = VOLATILE_USDT_PAIRS\n",
    "#tf = '1m'\n",
    "oldest_pair = \"BTC/USDT\"\n",
    "if oldest_pair not in pair_list: pair_list.append(oldest_pair)\n",
    "df_list1m = {}\n",
    "df_list1d = {}\n",
    "df_list1h = {}\n",
    "df_list5m = {}\n",
    "df_list15m = {}\n",
    "\n",
    "\n",
    "for pair in pair_list:\n",
    "    df = get_backtest_historical(ccxt.binance(), pair, '1m', path=\"./database/\")\n",
    "    df_list1m[pair] = df.loc[:]\n",
    "\n",
    "for pair in pair_list:\n",
    "    df = get_backtest_historical(ccxt.binance(), pair, '1d', path=\"./database/\")\n",
    "    df_list1d[pair] = df.loc[:]\n",
    "\n",
    "for pair in pair_list:\n",
    "    df = get_backtest_historical(ccxt.binance(), pair, '1h', path=\"./database/\")\n",
    "    df_list1h[pair] = df.loc[:]\n",
    "\n",
    "for pair in pair_list:\n",
    "    df = get_backtest_historical(ccxt.binance(), pair, '5m', path=\"./database/\")\n",
    "    df_list5m[pair] = df.loc[:]\n",
    "\n",
    "for pair in pair_list:\n",
    "    df = get_backtest_historical(\n",
    "        ccxt.binance(), pair, '15m', path=\"./database/\")\n",
    "    df_list15m[pair] = df.loc[:]\n",
    "del(df)\n",
    "df_list = df_list1m\n",
    "prerr(\"Data load 100% use df_list1d[\\\"BTC/USDT\\\"] for exemple to access\")\n",
    "\n"
   ]
  },
  {
   "attachments": {},
   "cell_type": "markdown",
   "metadata": {},
   "source": [
    "# --3 Decalring Tables"
   ]
  },
  {
   "cell_type": "code",
   "execution_count": null,
   "metadata": {},
   "outputs": [],
   "source": [
    "import pandas as pd\n",
    "\n",
    "def create_portfolio_dataframe(num_slots,init_quantity=500, base_currency='usdt'):\n",
    "    # create an empty DataFrame with the columns we need\n",
    "    columns = ['date', f'reserve_{base_currency}',f'total_{base_currency}']\n",
    "    for i in range(num_slots):\n",
    "        columns += [f'slot{i+1}_symbol', f'slot{i+1}_volume', f'slot{i+1}_bought_{base_currency}', f'slot{i+1}_current_total_{base_currency}']\n",
    "    df = pd.DataFrame(columns=columns)\n",
    "    \n",
    "    # create some sample data\n",
    "    for date in pd.date_range(PERIODE_START, periods=1):\n",
    "        data = {'date': date, f'total_{base_currency}': init_quantity}\n",
    "        # for i in range(num_slots):\n",
    "        #     symbol = f'coin{i+1}'\n",
    "        #     volume = (i+1) * 100\n",
    "        #     bought_currency = base_currency.upper()\n",
    "        #     bought_value = (i+1) * 500\n",
    "        #     current_price = (i+1) * 1.5\n",
    "        #     current_total = volume * current_price\n",
    "        #     data.update({\n",
    "        #         f'slot{i+1}_symbol': symbol,\n",
    "        #         f'slot{i+1}_volume': volume,\n",
    "        #         f'slot{i+1}_bought_{base_currency}': bought_value,\n",
    "        #         f'slot{i+1}_current_total_{base_currency}': current_total,\n",
    "        #     })\n",
    "        #     data[f'total_{base_currency}'] += current_total\n",
    "        df = df.append(data, ignore_index=True)\n",
    "    \n",
    "    # set the date column as the index of the DataFrame\n",
    "    df.set_index('date', inplace=True)\n",
    "    df.iloc[:,0]=np.float64(init_quantity)\n",
    "    return df.iloc[0:1]\n"
   ]
  },
  {
   "cell_type": "code",
   "execution_count": null,
   "metadata": {},
   "outputs": [],
   "source": [
    "Portfolio=create_portfolio_dataframe(TRADE_SLOTS,init_quantity=500, base_currency=PAIR_WITH) #pair with plus slots plus total\n",
    "Order_history= pd.DataFrame(columns= ['Order ID', 'Pair', 'Side', 'Price', 'Quantity', 'Executed', 'Time', 'Status'])\n",
    "signal_df=pd.DataFrame(columns= ['coin', 'time',\"price\",'note'])"
   ]
  },
  {
   "cell_type": "code",
   "execution_count": null,
   "metadata": {},
   "outputs": [],
   "source": [
    "signal_df"
   ]
  },
  {
   "cell_type": "code",
   "execution_count": null,
   "metadata": {},
   "outputs": [],
   "source": [
    "def get_top_volumes(start_period,end_period):\n",
    "    AllTop20Volumes={}\n",
    "    for day in df_list1d[\"BTC/USDT\"].index:\n",
    "        if start_period<= day <= end_period:\n",
    "            Top20vol={}\n",
    "            for p,df in df_list1d.items():\n",
    "                if p not in [\"EUR/USDT\",\"EUR/BUSD\",\"BTC/USDT\",\"BTC/BUSD\"]:\n",
    "                    try:Top20vol.update({p:(df.loc[day].volume*df.loc[day].close)})\n",
    "                    except Exception as e :print(f'Time Error wile working on {p}: {e}')\n",
    "                    #print (Top20vol)\n",
    "            AllTop20Volumes.update({day:sorted(Top20vol, key=Top20vol.get, reverse=True)[:20]})\n",
    "    return AllTop20Volumes"
   ]
  },
  {
   "cell_type": "code",
   "execution_count": null,
   "metadata": {},
   "outputs": [],
   "source": [
    "AllTop20Volumes=get_top_volumes(start_period,end_period)\n"
   ]
  },
  {
   "cell_type": "code",
   "execution_count": null,
   "metadata": {},
   "outputs": [],
   "source": [
    "len(AllTop20Volumes)"
   ]
  },
  {
   "cell_type": "code",
   "execution_count": null,
   "metadata": {},
   "outputs": [],
   "source": [
    "model=load_model(\"/UltimeTradingBot/Data/BUY_TEST/tp300_w12_max60min_Model_true_win_model_v2.h5\")"
   ]
  },
  {
   "cell_type": "code",
   "execution_count": null,
   "metadata": {},
   "outputs": [],
   "source": [
    "for day,TOPLIST in AllTop20Volumes.items():\n",
    "    for coin in TOPLIST:\n",
    "        try:\n",
    "            loc_start=df_list1m[coin].index.get_loc(day)\n",
    "            loc_end=df_list1m[coin].index.get_loc(day+pd.Timedelta('1 day'))\n",
    "            gc.collect()\n",
    "            df=mini_expand4(pair=coin,i=loc_start,j=loc_end,window=WINDOW_SIZE,metadata=MetaData,buy_pourcent=TAKE_PROFIT,sell_pourcent=STOP_LOSS,buy_function=buy_test)\n",
    "            dt=df.iloc[:,:-1].to_numpy(dtype=np.float32)\n",
    "            predictions_note=model.predict(dt)\n",
    "            predictions_round=predictions_note.round()\n",
    "            dico_signal={\"coin\":coin,\"time\":df[predictions_round==1].index.values,\"price\":df[predictions_round==1][\"price\"].values,\"note\":predictions_note[predictions_round==1]}\n",
    "            df_signal_coin = pd.DataFrame(dico_signal)\n",
    "            signal_df=pd.concat([signal_df,df_signal_coin])\n",
    "        except:\n",
    "            print(f\"error at {day} in {coin}\")"
   ]
  },
  {
   "cell_type": "code",
   "execution_count": null,
   "metadata": {},
   "outputs": [],
   "source": [
    "df_signal_coin"
   ]
  },
  {
   "cell_type": "code",
   "execution_count": null,
   "metadata": {},
   "outputs": [],
   "source": [
    "\n"
   ]
  },
  {
   "cell_type": "code",
   "execution_count": null,
   "metadata": {},
   "outputs": [],
   "source": [
    "true_win_model=model\n",
    "wheretosave=f'{DATA_DIR}/tp{int(BUY_PERCENT*100)}_w{WINDOW_SIZE}_max{MAX_FORCAST_SIZE}min_Model'+\"_true_win_model_v2.h5\"\n",
    "true_win_model.save(wheretosave)\n",
    "print(wheretosave)"
   ]
  },
  {
   "cell_type": "code",
   "execution_count": null,
   "metadata": {},
   "outputs": [],
   "source": [
    "mini_expand4(pair=coin,i=loc_start+4*1440,j=loc_end+5*1440,window=WINDOW_SIZE,metadata=MetaData,buy_pourcent=TAKE_PROFIT,sell_pourcent=STOP_LOSS,buy_function=buy_test)"
   ]
  },
  {
   "cell_type": "code",
   "execution_count": null,
   "metadata": {},
   "outputs": [],
   "source": [
    "df_list1m[coin].index[0]"
   ]
  },
  {
   "cell_type": "code",
   "execution_count": null,
   "metadata": {},
   "outputs": [],
   "source": [
    "coin=\"ETH/USDT\"\n",
    "loc_start=df_list1m[coin].index.get_loc(day)\n",
    "loc_end=df_list1m[coin].index.get_loc(pd.to_datetime(day+pd.Timedelta('1 day'))\n"
   ]
  },
  {
   "cell_type": "code",
   "execution_count": null,
   "metadata": {},
   "outputs": [],
   "source": [
    "# PAIR_WITH=\"BUSD\"\n",
    "# coins_to_download='LINK AGIX SAND JASMY T'\n",
    "# # for coin in VOLATILE_COINS:\n",
    "# #     coins_to_download=coins_to_download+\" \"+coin\n",
    "# os.system(f\"node database/ddargs.js {coins_to_download} {PAIR_WITH}\")#node database/ddargs.js ORN BUSD"
   ]
  },
  {
   "cell_type": "code",
   "execution_count": null,
   "metadata": {},
   "outputs": [],
   "source": [
    "# Mini_list=coins_to_download.split(\" \")\n",
    "# Mini_list=for c in Mini_list c=c+\"/BUSD\""
   ]
  },
  {
   "cell_type": "code",
   "execution_count": null,
   "metadata": {},
   "outputs": [],
   "source": [
    "import ccxt\n",
    "import pandas as pd\n",
    "\n",
    "# Load historical data for each coin\n",
    "exchange = ccxt.binance()\n",
    "symbols = ['BTC/USDT', 'ETH/USDT', 'LTC/USDT']\n",
    "timeframe = '1d'\n",
    "dataframes = []\n",
    "for symbol in symbols:\n",
    "    df = pd.DataFrame(exchange.fetch_ohlcv(symbol, timeframe))\n",
    "    df.columns = ['timestamp', 'open', 'high', 'low', 'close', 'volume']\n",
    "    df['symbol'] = symbol\n",
    "    dataframes.append(df)\n",
    "\n",
    "# Merge dataframes for all coins into a single dataframe\n",
    "df = pd.concat(dataframes)\n",
    "\n",
    "# Clean and preprocess the data\n",
    "df = df.drop_duplicates(subset=['timestamp', 'symbol'])\n",
    "df = df.pivot(index='timestamp', columns='symbol', values='close')\n",
    "\n",
    "# Create signal dataframe\n",
    "signal_df = pd.DataFrame(index=df.index, columns=df.columns, data=0)\n",
    "# Set signals based on your strategy\n",
    "signal_df.loc[df['BTC/USDT'] > df['ETH/USDT'], 'BTC/USDT'] = 1\n",
    "signal_df.loc[df['ETH/USDT'] > df['LTC/USDT'], 'ETH/USDT'] = 1\n",
    "signal_df.loc[df['LTC/USDT'] > df['BTC/USDT'], 'LTC/USDT'] = 1\n",
    "\n",
    "# Calculate coin returns based on signals\n",
    "returns_df = df.pct_change() * signal_df.shift(1)\n",
    "\n",
    "# Calculate portfolio return\n",
    "weights = [0.5, 0.3, 0.2]  # weights for each coin in portfolio\n",
    "portfolio_return = returns_df.dot(weights)\n",
    "\n",
    "# Calculate total return over backtest period\n",
    "total_return = (portfolio_return + 1).cumprod()[-1] - 1\n",
    "\n",
    "# Evaluate strategy performance\n",
    "benchmark_return = df['BTC/USDT'].pct_change"
   ]
  },
  {
   "cell_type": "code",
   "execution_count": null,
   "metadata": {},
   "outputs": [],
   "source": [
    "\n",
    "def buy_test(df,buy_pourcent=BUY_PERCENT,sell_pourcent=SELL_PERCENT,window=3):\n",
    "    try:\n",
    "        print (f\"---buy_after_depth--- Buy percent: {buy_pourcent}% MaxForcastSize: {window}\")\n",
    "        mino=buy_pourcent*0.01\n",
    "        maxo=-sell_pourcent*0.01\n",
    "        codep1='df[\"buy\"]=((('\n",
    "        for i in range(1,window):\n",
    "            codep1=codep1+'df[\"high\"].shift(periods='+str(-i)+', freq=None, axis=0, fill_value=None)-df[\"close\"])/df[\"close\"] >=mino )| (('\n",
    "        codep2='df[\"high\"].shift(periods='+str(-window)+', freq=None, axis=0, fill_value=None)-df[\"close\"])/df[\"close\"] >=mino)).replace({False: 0, True: 1})'\n",
    "        code=codep1+codep2\n",
    "        prerr(code)\n",
    "        exec(code)\n",
    "\n",
    "\n",
    "        codep1='df[\"sell\"]=((( '\n",
    "        for i in range(1,window):\n",
    "            codep1=codep1+'df[\"low\"].shift(periods='+str(-i)+', freq=None, axis=0, fill_value=None)-df[\"close\"])/df[\"close\"] <=maxo ) | (('\n",
    "        codep2='df[\"low\"].shift(periods='+str(-window)+', freq=None, axis=0, fill_value=None)-df[\"close\"])/df[\"close\"] <=maxo )).replace({False: 0, True: 1})'\n",
    "        code=codep1+codep2\n",
    "        prerr(code)\n",
    "        exec(code)\n",
    "\n",
    "        df[\"buy\"]=((df['buy']==1 ) & (df['sell']==0)).replace({False: 0, True: 1})\n",
    "\n",
    "    except Exception as e:\n",
    "        print(\"Error buy only\")\n",
    "        print(e)\n",
    "    try:df.pop(\"b\")\n",
    "    except:print(\"---buy_after_depth--- no b\")\n",
    "    try:df.pop(\"ismin\")\n",
    "    except:print(\"---buy_after_depth--- no sell\")\n",
    "    try:df.pop(\"sell\")\n",
    "    except:print(\"---buy_after_depth--- no sell\")\n",
    "    return df\n",
    "\n"
   ]
  },
  {
   "attachments": {},
   "cell_type": "markdown",
   "metadata": {},
   "source": [
    "# --4 Initial Test"
   ]
  },
  {
   "cell_type": "code",
   "execution_count": null,
   "metadata": {},
   "outputs": [],
   "source": [
    "## Generate Data\n",
    "BAD_PERIOD_START=\"2022-08-30\"\n",
    "BAD_PERIOD_END=\"2022-11-22\"\n",
    "pair_to_test=\"GMT/USDT\"\n",
    "MAX_FORCAST_SIZE=16\n",
    "\n",
    "# ai_options\n",
    "WINDOW_SIZE= 7\n",
    "\n",
    "start_period = datetime.strptime(PERIODE_START, '%d-%m-%Y %H:%M:%S')\n",
    "end_period = datetime.strptime(PERIODE_END, '%d-%m-%Y %H:%M:%S')\n",
    "\n",
    "\n",
    "#trading_options:\n",
    "TAKE_PROFIT= 0.4\n",
    "STOP_LOSS=  1.3  \n",
    "MAX_HOLDING_TIME= MAX_FORCAST_SIZE\n",
    "\n",
    "USE_TRAILING_STOP_LOSS: False\n",
    "TRAILING_STOP_LOSS= .002     \n",
    "TRAILING_TAKE_PROFIT= .002  \n",
    "\n",
    "\n",
    "\n",
    "\n",
    "\n",
    "loc_start=0\n",
    "loc_end=1000000\n",
    "\n",
    "\n",
    "i_start=91000\n",
    "i_end=i_start+400\n",
    "\n",
    "# loc_start=df_list1m[pair_to_test].index.get_loc(pd.to_datetime(BAD_PERIOD_START))\n",
    "# loc_end=df_list1m[pair_to_test].index.get_loc(pd.to_datetime(BAD_PERIOD_END))\n",
    "\n",
    "\n",
    "OnePair_DF=mini_expand4(        pair=pair_to_test,\n",
    "                                i=loc_start,j=loc_end,\n",
    "                                window=WINDOW_SIZE,\n",
    "                                metadata=MetaData,\n",
    "                                high_weight=1,\n",
    "                                buy_pourcent=TAKE_PROFIT,\n",
    "                                sell_pourcent=STOP_LOSS,\n",
    "                                buy_function=buy_test\n",
    "                        )\n",
    "OnePair_DT=OnePair_DF.to_numpy()\n",
    "gc.collect()\n",
    "OnePair_DT=fixdt(OnePair_DT)\n",
    "print(OnePair_DT[0,0] == OnePair_DF.iloc[0,0])\n",
    "print(OnePair_DT[5,5] == OnePair_DF.iloc[5,5])\n",
    "hp(OnePair_DF.buy.mean(),\"Buy mean percent\")\n"
   ]
  },
  {
   "cell_type": "code",
   "execution_count": null,
   "metadata": {},
   "outputs": [],
   "source": [
    "Model_FileName=\"/UltimeTradingBot/Data/BUY_TEST/tp70_w7_max2min_Model_true_win_model_Re3.h5\" #LTC ::80.99/0.86 # GMT: 84/0.93 LPT:86.9330453563715/0.8 ETH:78 #SOL 75/0.6 Doge:58/0.5\n",
    "\n",
    "\n",
    "# Model_FileName= \"/UltimeTradingBot/Data/AFTER_DEPTH_CLOSE/tp349_w12_max12min_Model_VeryDeep.h5\" # Win Ratio:47.11246200607903 # GMT  Win Ratio:57.608695652173914\n",
    "#Model_FileName= \"/UltimeTradingBot/Data/AFTER_DEPTH_CLOSE/tp250_w12_max12min_Model_VeryDeep.h5\" # Win Ratio:42.80420927819772 #GMT Win Ratio:53.\n",
    "#Model_FileName=\"/UltimeTradingBot/Data/BUY_TEST/tp180_w12_max12min_Model_VeryDeep.h5\" # Win Ratio:59.35050391937291 # GMT 61.70886075949367/9 #SNM 52% / ETH 59.8/2\n",
    "#Model_FileName=\"/UltimeTradingBot/Data/BUY_TEST/tp70_w12_max12min_Model_VeryDeep.h5\" # %44\n",
    "# Model_FileName=\"/UltimeTradingBot/Data/BUY_TEST/tp300_w12_max60min_Model_true_win_model_v2.h5\" #45%\n",
    "# Model_FileName=\"/UltimeTradingBot/Data/BUY_TEST/tp300_w12_max60min_Model_VeryDeep.h5\" #46%\n",
    "\n",
    "\n",
    "USED_MODEL=load_model(Model_FileName)\n",
    "\n",
    "\n",
    "import matplotlib.pyplot as plt\n",
    "\n",
    "x = np.linspace(0, 10, 500)\n",
    "dashes = [10, 5, 100, 5]  # 10 points on, 5 off, 100 on, 5 off\n",
    "\n",
    "fig, ax = plt.subplots()\n",
    "line1, = ax.plot(OnePair_DF.index[i_start:i_end], OnePair_DF.price[i_start:i_end], '-', linewidth=1,\n",
    "                 label='Dashes set retroactively')\n",
    "line1.set_dashes(dashes)\n",
    "plt.plot(OnePair_DF[i_start:i_end][OnePair_DF.buy[i_start:i_end]==1].index, OnePair_DF[i_start:i_end][OnePair_DF.buy[i_start:i_end]==1].price, 'ro')\n",
    "\n",
    "\n",
    "ax.legend(loc='lower right')\n",
    "plt.show()\n",
    "\n",
    "\n",
    "\n",
    "OnePair_PredNote=USED_MODEL.predict( OnePair_DT[:, 0:-1])\n",
    "OnePair_Pred=OnePair_PredNote.round()\n",
    "\n",
    "gc.collect()\n",
    "\n",
    "Original_Traget_Data=OnePair_DT[:,-1]\n",
    "buy_mean=hp(Original_Traget_Data.mean(),\"Buy Mean: \")\n",
    "Predicted_Data=OnePair_Pred[:,0]\n",
    "gc.collect()\n",
    "TruePred=(Original_Traget_Data==Predicted_Data).copy()\n",
    "ModelAccuracy=hp(TruePred.mean(),\"ModelAccuracy\")\n",
    "gc.collect()\n",
    "TrueWinPred=((Predicted_Data==1) & (Original_Traget_Data==1) ).copy()\n",
    "TrueWinPred_Mean=hp(TrueWinPred.mean(),\"True Win Predictions Mean of all\")\n",
    "gc.collect()\n",
    "LossPred=((Predicted_Data==1) & (Original_Traget_Data==0) ).copy()\n",
    "LossPred_Mean=hp(LossPred.mean(),\"XXX Loss Buy Mean of all\")\n",
    "gc.collect()\n",
    "\n",
    "MissedDealPred=((Predicted_Data==0) & (Original_Traget_Data==1) ).copy()\n",
    "MissedDeal_Mean=hp(MissedDealPred.mean(),\"Missed good deal off all\")\n",
    "gc.collect()\n",
    "\n",
    "GoodZeroPred=((Predicted_Data==0) & (Original_Traget_Data==0) ).copy()\n",
    "GoodZero_Mean=hp(GoodZeroPred.mean(),\"Good Zero prediction Mean\")\n",
    "gc.collect()\n",
    "\n",
    "fiability=TrueWinPred_Mean + LossPred_Mean + MissedDeal_Mean + GoodZero_Mean\n",
    "if( fiability == 100):print(\"good fiability\")\n",
    "else: print(f\"check the fiability {fiability}\")\n",
    "winratio=TrueWinPred_Mean/(LossPred_Mean+TrueWinPred_Mean)\n",
    "\n",
    "print(f\"========= Win Ratio:{winratio*100} %====================\")\n",
    "TestsHistory.loc[len(TestsHistory)]=[Model_FileName,pair_to_test ,ModelAccuracy, TrueWinPred_Mean, LossPred_Mean, MissedDeal_Mean, GoodZero_Mean, WINDOW_SIZE,MAX_FORCAST_SIZE,TAKE_PROFIT,hp(winratio),buy_mean]\n",
    "\n",
    "\n",
    "PREDICTION_TO_TEST=Predicted_Data\n",
    "\n",
    "x = np.linspace(0, 10, 500)\n",
    "dashes = [10, 5, 100, 5]  # 10 points on, 5 off, 100 on, 5 off\n",
    "fig, ax = plt.subplots()\n",
    "line1, = ax.plot(OnePair_DF.index[i_start:i_end], OnePair_DF.price[i_start:i_end], '-', linewidth=1,\n",
    "                 label='price')\n",
    "line1.set_dashes(dashes)\n",
    "plt.plot(OnePair_DF[i_start:i_end][PREDICTION_TO_TEST[i_start:i_end]==1].index, OnePair_DF[i_start:i_end][PREDICTION_TO_TEST[i_start:i_end]==1].price, 'ro')\n",
    "\n",
    "\n",
    "ax.legend(loc='lower right')\n",
    "plt.show()\n",
    "gc.collect()"
   ]
  },
  {
   "cell_type": "code",
   "execution_count": null,
   "metadata": {},
   "outputs": [],
   "source": [
    "TestsHistory= pd.DataFrame(columns= ['Model-FileName','TestedPair' ,'ModelAccuracy', 'TrueWin', 'XLoss', 'MissedDeal', 'GoodZero', 'WINDOW','MAX_FORCAST_SIZE','TAKE_PROFIT','WinRatio','BuyMean'])"
   ]
  },
  {
   "cell_type": "code",
   "execution_count": null,
   "metadata": {},
   "outputs": [],
   "source": [
    "## Generate Data\n",
    "BAD_PERIOD_START=\"2022-08-30\"\n",
    "BAD_PERIOD_END=\"2022-11-22\"\n",
    "MAX_FORCAST_SIZE=16\n",
    "\n",
    "# ai_options\n",
    "WINDOW_SIZE= 7\n",
    "\n",
    "start_period = datetime.strptime(PERIODE_START, '%d-%m-%Y %H:%M:%S')\n",
    "end_period = datetime.strptime(PERIODE_END, '%d-%m-%Y %H:%M:%S')\n",
    "\n",
    "\n",
    "#trading_options:\n",
    "TAKE_PROFIT= 0.4\n",
    "STOP_LOSS=  1.3  \n",
    "MAX_HOLDING_TIME= MAX_FORCAST_SIZE\n",
    "\n",
    "USE_TRAILING_STOP_LOSS: False\n",
    "TRAILING_STOP_LOSS= .002     \n",
    "TRAILING_TAKE_PROFIT= .002  \n",
    "\n",
    "\n",
    "\n",
    "\n",
    "\n",
    "loc_start=0\n",
    "loc_end=1000000\n",
    "\n",
    "\n",
    "i_start=91000\n",
    "i_end=i_start+400\n",
    "\n",
    "# loc_start=df_list1m[pair_to_test].index.get_loc(pd.to_datetime(BAD_PERIOD_START))\n",
    "# loc_end=df_list1m[pair_to_test].index.get_loc(pd.to_datetime(BAD_PERIOD_END))\n",
    "\n",
    "\n",
    "Model_FileNames=[\"/UltimeTradingBot/Data/BUY_TEST/tp70_w7_max2min_Model_true_win_model_Re3.h5\" #LTC ::80.99/0.86 # GMT: 84/0.93 LPT:86.9330453563715/0.8 ETH:78 #SOL 75/0.6 Doge:58/0.5\n",
    ",\"/UltimeTradingBot/Data/BUY_TEST/tp30_w7_max2min_Model_VeryDeep.h5\"   #52.500060887990465/21 ETC:51.307/16\n",
    ",\"/UltimeTradingBot/Data/BUY_TEST/tp30_w7_max2min_Model_true_win_model_Re1.h5\"   #GMT 65.888/2% -  ETh: 55.0/0.37 -LTC 54/1.8\n",
    ",\"/UltimeTradingBot/Data/BUY_TEST/tp30_w7_max2min_Model_true_win_model_Re2.h5\"\n",
    ",\"/UltimeTradingBot/Data/BUY_TEST/tp70_w7_max2min_Model_true_win_model_Re2.h5\" #LTC: 64/4\n",
    ",\"/UltimeTradingBot/Data/BUY_TEST/tp70_w7_max2min_Model_true_win_model_Re1.h5\" #LTC: 57.15/7.9\n",
    ",\"/UltimeTradingBot/Data/BUY_TEST/tp70_w7_max2min_Model_VeryDeep.h5\" #LTC:48.741696716644526/12\n",
    ",\"/UltimeTradingBot/Data/BUY_MIN_CLOSE/tp70_w7_max4min_Model_vInit.h5\" #\n",
    ",\"/UltimeTradingBot/Data/BUY_MIN_CLOSE/tp70_w7_max4min_Model_true_win_model_Re1.h5\" #Doge:28/4.5\n",
    ",\"/UltimeTradingBot/Data/BUY_MIN_CLOSE/tp70_w7_max4min_Model_true_win_model_Re2.h5\" #Doge:32/4.0\n",
    ",\"/UltimeTradingBot/Data/BUY_MIN_CLOSE/tp70_w7_max4min_Model_true_win_model_Re3.h5\" #Doge:34.17/3.8 GMT35\n",
    ",\"/UltimeTradingBot/Data/BUY_TEST/tp70_w7_max2min_Model_true_win_model_Re2.h5\" #LTC ::80.99/0.86 # GMT: 84/0.93 LPT:86.9330453563715/0.8 ETH:78 #SOL 75/0.6 Doge:58/0.5\n",
    ",\"/UltimeTradingBot/Data/AFTER_DEPTH_CLOSE/tp42_w7_max16min_Model_true_win_model_Re3.h5\" #GMT 44/\n",
    ",\"/UltimeTradingBot/Data/AFTER_DEPTH_CLOSE/tp42_w7_max16min_Model_JUSTGood_v2.h5\"\n",
    ",\"/UltimeTradingBot/Data/AFTER_DEPTH_CLOSE/tp42_w7_max16min_Model_JUSTGood_v2.h5\" # GMT:58/8\n",
    ",\"/UltimeTradingBot/Data/BUY_TEST/tp70_w7_max2min_Model_true_win_model_Re2.h5\" #58/6\n",
    ",\"/UltimeTradingBot/Data/AFTER_DEPTH_CLOSE/tp130_w7_max16min_Model_true_win_model_Re7.h5\",\n",
    "\"/UltimeTradingBot/Data/AFTER_DEPTH_CLOSE/tp130_w7_max16min_Anti-Model_v2.h5\"\n",
    "\n",
    "]\n",
    "\n",
    "Model_FileNames=[\"/UltimeTradingBot/Data/AFTER_DEPTH_CLOSE/tp130_w7_max16min_Model_true_win_model_Re8.h5\",\"/UltimeTradingBot/Data/AFTER_DEPTH_CLOSE/tp130_w7_max16min_Model_true_win_model_Re8.h5\"]\n",
    "Model_FileNames=matching_files\n",
    "for pair_to_test in [\"GMT/USDT\",\"XRP/USDT\",\"ETH/USDT\",\"LTC/USDT\",\"SOL/USDT\"]:\n",
    "    print(f'#################################################### Working on : {pair_to_test} ###################################################')\n",
    "    OnePair_DF=mini_expand4(        pair=pair_to_test,\n",
    "                                    i=loc_start,j=loc_end,\n",
    "                                    window=WINDOW_SIZE,\n",
    "                                    metadata=MetaData,\n",
    "                                    high_weight=1,\n",
    "                                    buy_pourcent=TAKE_PROFIT,\n",
    "                                    sell_pourcent=STOP_LOSS,\n",
    "                                    buy_function=buy_test\n",
    "                            )\n",
    "    OnePair_DT=OnePair_DF.to_numpy()\n",
    "    gc.collect()\n",
    "    OnePair_DT=fixdt(OnePair_DT)\n",
    "    print(OnePair_DT[0,0] == OnePair_DF.iloc[0,0])\n",
    "    print(OnePair_DT[5,5] == OnePair_DF.iloc[5,5])\n",
    "    hp(OnePair_DF.buy.mean(),\"Buy mean percent\")\n",
    "    x = np.linspace(0, 10, 500)\n",
    "    dashes = [10, 5, 100, 5]  # 10 points on, 5 off, 100 on, 5 off\n",
    "\n",
    "    fig, ax = plt.subplots()\n",
    "    line1, = ax.plot(OnePair_DF.index[i_start:i_end], OnePair_DF.price[i_start:i_end], '-', linewidth=1,\n",
    "                    label='Dashes set retroactively')\n",
    "    line1.set_dashes(dashes)\n",
    "    plt.plot(OnePair_DF[i_start:i_end][OnePair_DF.buy[i_start:i_end]==1].index, OnePair_DF[i_start:i_end][OnePair_DF.buy[i_start:i_end]==1].price, 'ro')\n",
    "\n",
    "\n",
    "    ax.legend(loc='lower right')\n",
    "    plt.show()\n",
    "\n",
    "\n",
    "    for Model_FileName in Model_FileNames:\n",
    "        print(f'Using Model:{Model_FileName}')\n",
    "        USED_MODEL=load_model(Model_FileName)\n",
    "\n",
    "  \n",
    "\n",
    "\n",
    "        OnePair_PredNote=USED_MODEL.predict( OnePair_DT[:, 0:-1])\n",
    "        OnePair_Pred=OnePair_PredNote.round()\n",
    "\n",
    "        gc.collect()\n",
    "\n",
    "        Original_Traget_Data=OnePair_DT[:,-1]\n",
    "        buy_mean=hp(Original_Traget_Data.mean(),\"Buy Mean: \")\n",
    "        Predicted_Data=OnePair_Pred[:,0]\n",
    "        gc.collect()\n",
    "        TruePred=(Original_Traget_Data==Predicted_Data).copy()\n",
    "        ModelAccuracy=hp(TruePred.mean(),\"ModelAccuracy\")\n",
    "        gc.collect()\n",
    "        TrueWinPred=((Predicted_Data==1) & (Original_Traget_Data==1) ).copy()\n",
    "        TrueWinPred_Mean=hp(TrueWinPred.mean(),\"True Win Predictions Mean of all\")\n",
    "        gc.collect()\n",
    "        LossPred=((Predicted_Data==1) & (Original_Traget_Data==0) ).copy()\n",
    "        LossPred_Mean=hp(LossPred.mean(),\"XXX Loss Buy Mean of all\")\n",
    "        gc.collect()\n",
    "\n",
    "        MissedDealPred=((Predicted_Data==0) & (Original_Traget_Data==1) ).copy()\n",
    "        MissedDeal_Mean=hp(MissedDealPred.mean(),\"Missed good deal off all\")\n",
    "        gc.collect()\n",
    "\n",
    "        GoodZeroPred=((Predicted_Data==0) & (Original_Traget_Data==0) ).copy()\n",
    "        GoodZero_Mean=hp(GoodZeroPred.mean(),\"Good Zero prediction Mean\")\n",
    "        gc.collect()\n",
    "\n",
    "        fiability=TrueWinPred_Mean + LossPred_Mean + MissedDeal_Mean + GoodZero_Mean\n",
    "        if( fiability == 100):print(\"good fiability\")\n",
    "        else: print(f\"check the fiability {fiability}\")\n",
    "        winratio=TrueWinPred_Mean/(LossPred_Mean+TrueWinPred_Mean)\n",
    "\n",
    "        print(f\"========= Win Ratio:{winratio*100} %====================\")\n",
    "        TestsHistory.loc[len(TestsHistory)]=[Model_FileName,pair_to_test ,ModelAccuracy, TrueWinPred_Mean, LossPred_Mean, MissedDeal_Mean, GoodZero_Mean, WINDOW_SIZE,MAX_FORCAST_SIZE,TAKE_PROFIT,hp(winratio),buy_mean]\n",
    "\n",
    "\n",
    "        PREDICTION_TO_TEST=Predicted_Data\n",
    "\n",
    "        x = np.linspace(0, 10, 500)\n",
    "        dashes = [10, 5, 100, 5]  # 10 points on, 5 off, 100 on, 5 off\n",
    "        fig, ax = plt.subplots()\n",
    "        line1, = ax.plot(OnePair_DF.index[i_start:i_end], OnePair_DF.price[i_start:i_end], '-', linewidth=1,\n",
    "                        label='price')\n",
    "        line1.set_dashes(dashes)\n",
    "        plt.plot(OnePair_DF[i_start:i_end][PREDICTION_TO_TEST[i_start:i_end]==1].index, OnePair_DF[i_start:i_end][PREDICTION_TO_TEST[i_start:i_end]==1].price, 'ro')\n",
    "\n",
    "\n",
    "        ax.legend(loc='lower right')\n",
    "        plt.show()\n",
    "        gc.collect()"
   ]
  },
  {
   "cell_type": "code",
   "execution_count": null,
   "metadata": {},
   "outputs": [],
   "source": [
    "TestsHistory.sort_values(\"WinRatio\",ascending=0)"
   ]
  },
  {
   "cell_type": "code",
   "execution_count": null,
   "metadata": {},
   "outputs": [],
   "source": [
    "TestsHistory.sort_values(\"TrueWin\",ascending=0)[:20]"
   ]
  },
  {
   "cell_type": "code",
   "execution_count": null,
   "metadata": {},
   "outputs": [],
   "source": [
    "TestsHistory.groupby(\"Model-FileName\").mean().sort_values(\"WinRatio\",ascending=0)"
   ]
  },
  {
   "attachments": {},
   "cell_type": "markdown",
   "metadata": {},
   "source": [
    "# Test MultiModel sollution"
   ]
  },
  {
   "cell_type": "code",
   "execution_count": 152,
   "metadata": {},
   "outputs": [
    {
     "data": {
      "image/png": "[encoded data removed]",
      "text/plain": [
       "<Figure size 640x480 with 1 Axes>"
      ]
     },
     "metadata": {},
     "output_type": "display_data"
    },
    {
     "name": "stdout",
     "output_type": "stream",
     "text": [
      "30627/30627 [==============================] - 72s 2ms/step\n",
      "30627/30627 [==============================] - 137s 4ms/step\n",
      "30627/30627 [==============================] - 90s 3ms/step\n",
      "30627/30627 [==============================] - 88s 3ms/step\n",
      "Buy Mean: : 42.817%\n",
      "ModelAccuracy: 57.523%\n",
      "True Win Predictions Mean of all: 0.551%\n",
      "XXX Loss Buy Mean of all: 0.210%\n",
      "Missed good deal off all: 42.267%\n",
      "Good Zero prediction Mean: 56.973%\n",
      "check the fiability 100.001\n",
      "========= Win Ratio:72.40473061760841 %====================\n",
      "Precent Mean: 72.405%\n"
     ]
    },
    {
     "data": {
      "image/png": "[encoded data removed]",
      "text/plain": [
       "<Figure size 640x480 with 1 Axes>"
      ]
     },
     "metadata": {},
     "output_type": "display_data"
    },
    {
     "data": {
      "text/plain": [
       "3042"
      ]
     },
     "execution_count": 152,
     "metadata": {},
     "output_type": "execute_result"
    }
   ],
   "source": [
    "\n",
    "bag_of_modules=[\"/UltimeTradingBot/Data/AFTER_DEPTH_CLOSE/tp130_w7_max16min_Anti-Model_v2.h5\",\n",
    "               \"/UltimeTradingBot/Data/AFTER_DEPTH_CLOSE/tp130_w7_max16min_Model_VeryDeep.h5\",\n",
    "               \"/UltimeTradingBot/Data/AFTER_DEPTH_CLOSE/tp42_w7_max16min_Model_vInit.h5\",\n",
    "               \"/UltimeTradingBot/Data/SELL_TEST/tp70_w7_max3min_Model_vInit.h5\",\n",
    "               #\"/UltimeTradingBot/Data/BUY_TEST/tp150_w7_max2min_Model_true_win_model_v3.h5\", \n",
    "               #\"/UltimeTradingBot/Data/BUY_TEST/tp70_w7_max2min_Model_true_win_model_Re1.h5\"\n",
    "               ]\n",
    "\n",
    "bag_of_modules=[\n",
    "                \"/UltimeTradingBot/Data/AFTER_DEPTH_CLOSE/tp130_w7_max16min_Model_vInit.h5\",\n",
    "                #\"/UltimeTradingBot/Data/AFTER_DEPTH_CLOSE/tp130_w7_max16min_Model_true_win_model_Re8.h5\",\n",
    "                #\"/UltimeTradingBot/Data/AFTER_DEPTH_CLOSE/tp130_w7_max16min_Anti-Model_v2.h5\",\n",
    "                #\"/UltimeTradingBot/Data/AFTER_DEPTH_CLOSE/tp42_w7_max16min_Model_vInit.h5\",\n",
    "                \"/UltimeTradingBot/Data/BUY_MIN_CLOSE/tp70_w7_max4min_Model_VeryDeep.h5\",\n",
    "                \"/UltimeTradingBot/Data/BUY_TEST/tp150_w7_max2min_Model_vInit.h5\",  \n",
    " #               \"/UltimeTradingBot/Data/SELL_TEST/tp250_w7_max16min_Model_vInit.h5\",                \n",
    "                ]\n",
    "\n",
    "# bag_of_modules=[\"/UltimeTradingBot/Data/SELL_TEST/tp30_w7_max16min_Model_vInit.h5\"]\n",
    "\n",
    "import matplotlib.pyplot as plt\n",
    "\n",
    "x = np.linspace(0, 10, 500)\n",
    "dashes = [10, 5, 100, 5]  # 10 points on, 5 off, 100 on, 5 off\n",
    "\n",
    "fig, ax = plt.subplots()\n",
    "line1, = ax.plot(OnePair_DF.index[i_start:i_end], OnePair_DF.price[i_start:i_end], '-', linewidth=1,\n",
    "                 label='Dashes set retroactively')\n",
    "line1.set_dashes(dashes)\n",
    "plt.plot(OnePair_DF[i_start:i_end][OnePair_DF.buy[i_start:i_end]==1].index, OnePair_DF[i_start:i_end][OnePair_DF.buy[i_start:i_end]==1].price, 'ro')\n",
    "\n",
    "\n",
    "ax.legend(loc='lower right')\n",
    "plt.show()\n",
    "\n",
    "OnePair_Pred=1\n",
    "for Model_FileName in bag_of_modules:\n",
    "    USED_MODEL=load_model(Model_FileName)\n",
    "    OnePair_PredNote=USED_MODEL.predict( OnePair_DT[:, 0:-1])\n",
    "    OnePair_Pred=OnePair_PredNote.round()*OnePair_Pred\n",
    "\n",
    "gc.collect()\n",
    "\n",
    "Original_Traget_Data=OnePair_DT[:,-1]\n",
    "buy_mean=hp(Original_Traget_Data.mean(),\"Buy Mean: \")\n",
    "Predicted_Data=OnePair_Pred[:,0]\n",
    "gc.collect()\n",
    "TruePred=(Original_Traget_Data==Predicted_Data).copy()\n",
    "ModelAccuracy=hp(TruePred.mean(),\"ModelAccuracy\")\n",
    "gc.collect()\n",
    "TrueWinPred=((Predicted_Data==1) & (Original_Traget_Data==1) ).copy()\n",
    "TrueWinPred_Mean=hp(TrueWinPred.mean(),\"True Win Predictions Mean of all\")\n",
    "gc.collect()\n",
    "LossPred=((Predicted_Data==1) & (Original_Traget_Data==0) ).copy()\n",
    "LossPred_Mean=hp(LossPred.mean(),\"XXX Loss Buy Mean of all\")\n",
    "gc.collect()\n",
    "\n",
    "MissedDealPred=((Predicted_Data==0) & (Original_Traget_Data==1) ).copy()\n",
    "MissedDeal_Mean=hp(MissedDealPred.mean(),\"Missed good deal off all\")\n",
    "gc.collect()\n",
    "\n",
    "GoodZeroPred=((Predicted_Data==0) & (Original_Traget_Data==0) ).copy()\n",
    "GoodZero_Mean=hp(GoodZeroPred.mean(),\"Good Zero prediction Mean\")\n",
    "gc.collect()\n",
    "\n",
    "fiability=TrueWinPred_Mean + LossPred_Mean + MissedDeal_Mean + GoodZero_Mean\n",
    "if( fiability == 100):print(\"good fiability\")\n",
    "else: print(f\"check the fiability {fiability}\")\n",
    "winratio=TrueWinPred_Mean/(LossPred_Mean+TrueWinPred_Mean)\n",
    "\n",
    "print(f\"========= Win Ratio:{winratio*100} %====================\")\n",
    "TestsHistory2.loc[len(TestsHistory)]=[Model_FileName,pair_to_test ,ModelAccuracy, TrueWinPred_Mean, LossPred_Mean, MissedDeal_Mean, GoodZero_Mean, WINDOW_SIZE,MAX_FORCAST_SIZE,TAKE_PROFIT,hp(winratio),buy_mean]\n",
    "\n",
    "\n",
    "PREDICTION_TO_TEST=Predicted_Data\n",
    "\n",
    "x = np.linspace(0, 10, 500)\n",
    "dashes = [10, 5, 100, 5]  # 10 points on, 5 off, 100 on, 5 off\n",
    "fig, ax = plt.subplots()\n",
    "line1, = ax.plot(OnePair_DF.index[i_start:i_end], OnePair_DF.price[i_start:i_end], '-', linewidth=1,\n",
    "                 label='price')\n",
    "line1.set_dashes(dashes)\n",
    "plt.plot(OnePair_DF[i_start:i_end][PREDICTION_TO_TEST[i_start:i_end]==1].index, OnePair_DF[i_start:i_end][PREDICTION_TO_TEST[i_start:i_end]==1].price, 'ro')\n",
    "\n",
    "\n",
    "ax.legend(loc='lower right')\n",
    "plt.show()\n",
    "gc.collect()"
   ]
  },
  {
   "cell_type": "code",
   "execution_count": 150,
   "metadata": {},
   "outputs": [
    {
     "data": {
      "text/plain": [
       "(980042, 287)"
      ]
     },
     "execution_count": 150,
     "metadata": {},
     "output_type": "execute_result"
    }
   ],
   "source": [
    "OnePair_DF.shape"
   ]
  },
  {
   "cell_type": "code",
   "execution_count": 148,
   "metadata": {},
   "outputs": [
    {
     "data": {
      "image/png": "[encoded data removed]",
      "text/plain": [
       "<Figure size 640x480 with 1 Axes>"
      ]
     },
     "metadata": {},
     "output_type": "display_data"
    },
    {
     "data": {
      "text/plain": [
       "3290"
      ]
     },
     "execution_count": 148,
     "metadata": {},
     "output_type": "execute_result"
    }
   ],
   "source": [
    "ii_start=46000\n",
    "ii_end=ii_start+600\n",
    "x = np.linspace(0, 10, 500)\n",
    "dashes = [10, 5, 100, 5]  # 10 points on, 5 off, 100 on, 5 off\n",
    "fig, ax = plt.subplots()\n",
    "line1, = ax.plot(OnePair_DF.index[ii_start:ii_end], OnePair_DF.price[ii_start:ii_end], '-', linewidth=1,\n",
    "                 label='price')\n",
    "line1.set_dashes(dashes)\n",
    "plt.plot(OnePair_DF[ii_start:ii_end][PREDICTION_TO_TEST[ii_start:ii_end]==1].index, OnePair_DF[ii_start:ii_end][PREDICTION_TO_TEST[ii_start:ii_end]==1].price, 'ro')\n",
    "\n",
    "\n",
    "ax.legend(loc='lower right')\n",
    "plt.show()\n",
    "gc.collect()"
   ]
  },
  {
   "cell_type": "code",
   "execution_count": 153,
   "metadata": {},
   "outputs": [
    {
     "data": {
      "image/png": "[encoded data removed]",
      "text/plain": [
       "<Figure size 640x480 with 1 Axes>"
      ]
     },
     "metadata": {},
     "output_type": "display_data"
    },
    {
     "data": {
      "text/plain": [
       "3042"
      ]
     },
     "execution_count": 153,
     "metadata": {},
     "output_type": "execute_result"
    }
   ],
   "source": [
    "ii_start=46000\n",
    "ii_end=ii_start+600\n",
    "x = np.linspace(0, 10, 500)\n",
    "dashes = [10, 5, 100, 5]  # 10 points on, 5 off, 100 on, 5 off\n",
    "fig, ax = plt.subplots()\n",
    "line1, = ax.plot(OnePair_DF.index[ii_start:ii_end], OnePair_DF.price[ii_start:ii_end], '-', linewidth=1,\n",
    "                 label='price')\n",
    "line1.set_dashes(dashes)\n",
    "plt.plot(OnePair_DF[ii_start:ii_end][PREDICTION_TO_TEST[ii_start:ii_end]==1].index, OnePair_DF[ii_start:ii_end][PREDICTION_TO_TEST[ii_start:ii_end]==1].price, 'ro')\n",
    "\n",
    "\n",
    "ax.legend(loc='lower right')\n",
    "plt.show()\n",
    "gc.collect()"
   ]
  },
  {
   "cell_type": "code",
   "execution_count": 117,
   "metadata": {},
   "outputs": [
    {
     "name": "stdout",
     "output_type": "stream",
     "text": [
      "Buy Mean: : 42.817%\n",
      "ModelAccuracy: 57.386%\n",
      "True Win Predictions Mean of all: 0.322%\n",
      "XXX Loss Buy Mean of all: 0.118%\n",
      "Missed good deal off all: 42.495%\n",
      "Good Zero prediction Mean: 57.064%\n",
      "check the fiability 99.999\n",
      "========= Win Ratio:73.18181818181819 %====================\n",
      "Precent Mean: 73.182%\n"
     ]
    },
    {
     "data": {
      "image/png": "[encoded data removed]",
      "text/plain": [
       "<Figure size 640x480 with 1 Axes>"
      ]
     },
     "metadata": {},
     "output_type": "display_data"
    },
    {
     "data": {
      "text/plain": [
       "3042"
      ]
     },
     "execution_count": 117,
     "metadata": {},
     "output_type": "execute_result"
    }
   ],
   "source": [
    "press=-0.37\n",
    "OnePair_Pred=(OnePair_PredNote+press).round()\n",
    "gc.collect()\n",
    "\n",
    "Original_Traget_Data=OnePair_DT[:,-1]\n",
    "buy_mean=hp(Original_Traget_Data.mean(),\"Buy Mean: \")\n",
    "Predicted_Data=OnePair_Pred[:,0]\n",
    "gc.collect()\n",
    "TruePred=(Original_Traget_Data==Predicted_Data).copy()\n",
    "ModelAccuracy=hp(TruePred.mean(),\"ModelAccuracy\")\n",
    "gc.collect()\n",
    "TrueWinPred=((Predicted_Data==1) & (Original_Traget_Data==1) ).copy()\n",
    "TrueWinPred_Mean=hp(TrueWinPred.mean(),\"True Win Predictions Mean of all\")\n",
    "gc.collect()\n",
    "LossPred=((Predicted_Data==1) & (Original_Traget_Data==0) ).copy()\n",
    "LossPred_Mean=hp(LossPred.mean(),\"XXX Loss Buy Mean of all\")\n",
    "gc.collect()\n",
    "\n",
    "MissedDealPred=((Predicted_Data==0) & (Original_Traget_Data==1) ).copy()\n",
    "MissedDeal_Mean=hp(MissedDealPred.mean(),\"Missed good deal off all\")\n",
    "gc.collect()\n",
    "\n",
    "GoodZeroPred=((Predicted_Data==0) & (Original_Traget_Data==0) ).copy()\n",
    "GoodZero_Mean=hp(GoodZeroPred.mean(),\"Good Zero prediction Mean\")\n",
    "gc.collect()\n",
    "\n",
    "fiability=TrueWinPred_Mean + LossPred_Mean + MissedDeal_Mean + GoodZero_Mean\n",
    "if( fiability == 100):print(\"good fiability\")\n",
    "else: print(f\"check the fiability {fiability}\")\n",
    "winratio=TrueWinPred_Mean/(LossPred_Mean+TrueWinPred_Mean)\n",
    "\n",
    "print(f\"========= Win Ratio:{winratio*100} %====================\")\n",
    "TestsHistory.loc[len(TestsHistory)]=[Model_FileName,pair_to_test ,ModelAccuracy, TrueWinPred_Mean, LossPred_Mean, MissedDeal_Mean, GoodZero_Mean, WINDOW_SIZE,MAX_FORCAST_SIZE,TAKE_PROFIT,hp(winratio),buy_mean]\n",
    "\n",
    "\n",
    "PREDICTION_TO_TEST=Predicted_Data\n",
    "\n",
    "x = np.linspace(0, 10, 500)\n",
    "dashes = [10, 5, 100, 5]  # 10 points on, 5 off, 100 on, 5 off\n",
    "fig, ax = plt.subplots()\n",
    "line1, = ax.plot(OnePair_DF.index[i_start:i_end], OnePair_DF.price[i_start:i_end], '-', linewidth=1,\n",
    "                 label='price')\n",
    "line1.set_dashes(dashes)\n",
    "plt.plot(OnePair_DF[i_start:i_end][PREDICTION_TO_TEST[i_start:i_end]==1].index, OnePair_DF[i_start:i_end][PREDICTION_TO_TEST[i_start:i_end]==1].price, 'ro')\n",
    "\n",
    "\n",
    "ax.legend(loc='lower right')\n",
    "plt.show()\n",
    "gc.collect()"
   ]
  },
  {
   "cell_type": "code",
   "execution_count": 97,
   "metadata": {},
   "outputs": [
    {
     "data": {
      "text/plain": [
       "array(['/UltimeTradingBot/Data/BUY_TEST/tp70_w7_max2min_Model_true_win_model_Re3.h5',\n",
       "       '/UltimeTradingBot/Data/BUY_TEST/tp70_w7_max2min_Model_true_win_model_Re3.h5'],\n",
       "      dtype=object)"
      ]
     },
     "execution_count": 97,
     "metadata": {},
     "output_type": "execute_result"
    }
   ],
   "source": [
    "TestsHistory[TestsHistory.WinRatio==78.558][\"Model-FileName\"].values"
   ]
  },
  {
   "cell_type": "code",
   "execution_count": null,
   "metadata": {},
   "outputs": [],
   "source": []
  },
  {
   "cell_type": "code",
   "execution_count": 92,
   "metadata": {},
   "outputs": [
    {
     "data": {
      "text/html": [
       "<div>\n",
       "<style scoped>\n",
       "    .dataframe tbody tr th:only-of-type {\n",
       "        vertical-align: middle;\n",
       "    }\n",
       "\n",
       "    .dataframe tbody tr th {\n",
       "        vertical-align: top;\n",
       "    }\n",
       "\n",
       "    .dataframe thead th {\n",
       "        text-align: right;\n",
       "    }\n",
       "</style>\n",
       "<table border=\"1\" class=\"dataframe\">\n",
       "  <thead>\n",
       "    <tr style=\"text-align: right;\">\n",
       "      <th></th>\n",
       "      <th>Model-FileName</th>\n",
       "      <th>TestedPair</th>\n",
       "      <th>ModelAccuracy</th>\n",
       "      <th>TrueWin</th>\n",
       "      <th>XLoss</th>\n",
       "      <th>MissedDeal</th>\n",
       "      <th>GoodZero</th>\n",
       "      <th>WINDOW</th>\n",
       "      <th>MAX_FORCAST_SIZE</th>\n",
       "      <th>TAKE_PROFIT</th>\n",
       "      <th>WinRatio</th>\n",
       "      <th>BuyMean</th>\n",
       "    </tr>\n",
       "  </thead>\n",
       "  <tbody>\n",
       "    <tr>\n",
       "      <th>128</th>\n",
       "      <td>/UltimeTradingBot/Data/AFTER_DEPTH_CLOSE/tp130...</td>\n",
       "      <td>LTC/USDT</td>\n",
       "      <td>66.642</td>\n",
       "      <td>2.292</td>\n",
       "      <td>1.471</td>\n",
       "      <td>31.887</td>\n",
       "      <td>64.35</td>\n",
       "      <td>7</td>\n",
       "      <td>16</td>\n",
       "      <td>0.4</td>\n",
       "      <td>60.909</td>\n",
       "      <td>34.179</td>\n",
       "    </tr>\n",
       "    <tr>\n",
       "      <th>129</th>\n",
       "      <td>/UltimeTradingBot/Data/AFTER_DEPTH_CLOSE/tp130...</td>\n",
       "      <td>LTC/USDT</td>\n",
       "      <td>66.642</td>\n",
       "      <td>2.292</td>\n",
       "      <td>1.471</td>\n",
       "      <td>31.887</td>\n",
       "      <td>64.35</td>\n",
       "      <td>7</td>\n",
       "      <td>16</td>\n",
       "      <td>0.4</td>\n",
       "      <td>60.909</td>\n",
       "      <td>34.179</td>\n",
       "    </tr>\n",
       "    <tr>\n",
       "      <th>299</th>\n",
       "      <td>/UltimeTradingBot/Data/AFTER_DEPTH_CLOSE/tp130...</td>\n",
       "      <td>LTC/USDT</td>\n",
       "      <td>66.642</td>\n",
       "      <td>2.292</td>\n",
       "      <td>1.471</td>\n",
       "      <td>31.887</td>\n",
       "      <td>64.35</td>\n",
       "      <td>7</td>\n",
       "      <td>16</td>\n",
       "      <td>0.4</td>\n",
       "      <td>60.909</td>\n",
       "      <td>34.179</td>\n",
       "    </tr>\n",
       "  </tbody>\n",
       "</table>\n",
       "</div>"
      ],
      "text/plain": [
       "                                        Model-FileName TestedPair  \\\n",
       "128  /UltimeTradingBot/Data/AFTER_DEPTH_CLOSE/tp130...   LTC/USDT   \n",
       "129  /UltimeTradingBot/Data/AFTER_DEPTH_CLOSE/tp130...   LTC/USDT   \n",
       "299  /UltimeTradingBot/Data/AFTER_DEPTH_CLOSE/tp130...   LTC/USDT   \n",
       "\n",
       "     ModelAccuracy  TrueWin  XLoss  MissedDeal  GoodZero  WINDOW  \\\n",
       "128         66.642    2.292  1.471      31.887     64.35       7   \n",
       "129         66.642    2.292  1.471      31.887     64.35       7   \n",
       "299         66.642    2.292  1.471      31.887     64.35       7   \n",
       "\n",
       "     MAX_FORCAST_SIZE  TAKE_PROFIT  WinRatio  BuyMean  \n",
       "128                16          0.4    60.909   34.179  \n",
       "129                16          0.4    60.909   34.179  \n",
       "299                16          0.4    60.909   34.179  "
      ]
     },
     "execution_count": 92,
     "metadata": {},
     "output_type": "execute_result"
    }
   ],
   "source": [
    "TestsHistory[TestsHistory.WinRatio==60.909]"
   ]
  },
  {
   "cell_type": "code",
   "execution_count": null,
   "metadata": {},
   "outputs": [],
   "source": [
    "TestsHistory.to_csv(\"test-restuls02.csv\")"
   ]
  },
  {
   "cell_type": "code",
   "execution_count": null,
   "metadata": {},
   "outputs": [],
   "source": [
    "import os\n",
    "import glob\n",
    "\n",
    "path = \"/UltimeTradingBot/Data\"\n",
    "pattern = os.path.join(path, \"**/*w7*.h5\")\n",
    "\n",
    "matching_files = []\n",
    "for file_path in glob.iglob(pattern, recursive=True):\n",
    "    if os.path.isfile(file_path):\n",
    "        matching_files.append(file_path)\n",
    "\n",
    "print(matching_files)"
   ]
  }
 ],
 "metadata": {
  "kernelspec": {
   "display_name": "Python 3",
   "language": "python",
   "name": "python3"
  },
  "language_info": {
   "codemirror_mode": {
    "name": "ipython",
    "version": 3
   },
   "file_extension": ".py",
   "mimetype": "text/x-python",
   "name": "python",
   "nbconvert_exporter": "python",
   "pygments_lexer": "ipython3",
   "version": "3.9.2"
  },
  "orig_nbformat": 4,
  "vscode": {
   "interpreter": {
    "hash": "e7370f93d1d0cde622a1f8e1c04877d8463912d04d973331ad4851f04de6915a"
   }
  }
 },
 "nbformat": 4,
 "nbformat_minor": 2
}
