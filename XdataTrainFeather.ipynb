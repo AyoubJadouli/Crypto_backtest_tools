{
 "cells": [
  {
   "cell_type": "code",
   "execution_count": 1,
   "metadata": {
    "notebookRunGroups": {
     "groupValue": "2"
    }
   },
   "outputs": [
    {
     "name": "stdout",
     "output_type": "stream",
     "text": [
      "/UltimeTradingBot/Crypto_backtest_tools\n"
     ]
    }
   ],
   "source": [
    "%cd '/UltimeTradingBot/Crypto_backtest_tools'\n",
    "WINDOW_SIZE=10\n",
    "BUY_PERCENT=1.2\n",
    "SELL_PERCENT=0.2\n",
    "MAX_FORCAST_SIZE=5\n",
    "VERSION=1\n",
    "TESTING_MOD=False\n",
    "UPGRAD_MOD=False\n",
    "JUST_IMPORT_DATA=False\n",
    "#Normalization_File='w15_NoVol_Normalization.json'\n",
    "#Model_FileName='w15_NoVol_XcryptoAi_model.hdf5'\n",
    "ALLHIST_FILE='Results_history.json'\n",
    "DATA_DIR='/UltimeTradingBot/Data/'\n",
    "FIRST_NORM_FLAG=True\n",
    "DATA_DIR='/UltimeTradingBot/Data'\n",
    "Normalization_File=f'{DATA_DIR}/tp{int(BUY_PERCENT*100)}_w{WINDOW_SIZE}_max{MAX_FORCAST_SIZE}min_Norm_v{VERSION}.json'\n",
    "Model_FileName=f'{DATA_DIR}/tp{int(BUY_PERCENT*100)}_w{WINDOW_SIZE}_max{MAX_FORCAST_SIZE}min_Model_v{VERSION}.hdf5'\n",
    "DATA_FILE=f'{DATA_DIR}/CSV/tp{int(BUY_PERCENT*100)}_w{WINDOW_SIZE}_max{MAX_FORCAST_SIZE}min_Data_v{VERSION}.csv'\n",
    "REMOTE_DATA_FILE=f'/gdrive/+DATA+/tp{int(BUY_PERCENT*100)}_w{WINDOW_SIZE}_max{MAX_FORCAST_SIZE}min_Data_v{VERSION}.csv.zip'\n",
    "METAINFO=f\"tp{int(BUY_PERCENT*100)}_w{WINDOW_SIZE}_max{MAX_FORCAST_SIZE}min\"\n",
    "window=WINDOW_SIZE\n",
    "NORM_FILE=Normalization_File\n",
    "MODEL_FILE=Model_FileName\n",
    "Px=40\n",
    "BUFFER_SIZE=250000*Px\n",
    "SAMPLE_SIZE=5000*Px\n",
    "ModelTest=\"/UltimeTradingBot/Data/tp200_w10_max20min_Model_v2.h5\"\n",
    "\n",
    "#DATA_FILE=DATA_DIR+'w'+str(WINDOW_SIZE)+'_EXTData.csv'\n",
    "\n"
   ]
  },
  {
   "cell_type": "code",
   "execution_count": 2,
   "metadata": {
    "notebookRunGroups": {
     "groupValue": "1"
    }
   },
   "outputs": [
    {
     "name": "stdout",
     "output_type": "stream",
     "text": [
      "/UltimeTradingBot/Crypto_backtest_tools\n"
     ]
    },
    {
     "name": "stderr",
     "output_type": "stream",
     "text": [
      "/usr/local/lib/python3.9/dist-packages/pandas/core/computation/expressions.py:20: UserWarning: Pandas requires version '2.7.3' or newer of 'numexpr' (version '2.7.2' currently installed).\n",
      "  from pandas.core.computation.check import NUMEXPR_INSTALLED\n",
      "/usr/local/lib/python3.9/dist-packages/pandas/core/arrays/masked.py:59: UserWarning: Pandas requires version '1.3.2' or newer of 'bottleneck' (version '1.2.1' currently installed).\n",
      "  from pandas.core import (\n",
      "2022-11-12 11:10:07.551316: W tensorflow/stream_executor/platform/default/dso_loader.cc:64] Could not load dynamic library 'libcudart.so.11.0'; dlerror: libcudart.so.11.0: cannot open shared object file: No such file or directory\n",
      "2022-11-12 11:10:07.551361: I tensorflow/stream_executor/cuda/cudart_stub.cc:29] Ignore above cudart dlerror if you do not have a GPU set up on your machine.\n",
      "2022-11-12 11:10:07.592260: E tensorflow/stream_executor/cuda/cuda_blas.cc:2981] Unable to register cuBLAS factory: Attempting to register factory for plugin cuBLAS when one has already been registered\n",
      "2022-11-12 11:10:08.577649: W tensorflow/stream_executor/platform/default/dso_loader.cc:64] Could not load dynamic library 'libnvinfer.so.7'; dlerror: libnvinfer.so.7: cannot open shared object file: No such file or directory\n",
      "2022-11-12 11:10:08.577777: W tensorflow/stream_executor/platform/default/dso_loader.cc:64] Could not load dynamic library 'libnvinfer_plugin.so.7'; dlerror: libnvinfer_plugin.so.7: cannot open shared object file: No such file or directory\n",
      "2022-11-12 11:10:08.577793: W tensorflow/compiler/tf2tensorrt/utils/py_utils.cc:38] TF-TRT Warning: Cannot dlopen some TensorRT libraries. If you would like to use Nvidia GPU with TensorRT, please make sure the missing libraries mentioned above are installed properly.\n"
     ]
    }
   ],
   "source": [
    "\n",
    "import sys\n",
    "sys.path.append('/UltimeTradingBot/Crypto_backtest_tools')\n",
    "%cd /UltimeTradingBot/Crypto_backtest_tools\n",
    "from utilities.get_data import get_historical_from_db\n",
    "from utilities.backtesting import basic_single_asset_backtest, plot_wallet_vs_asset, get_metrics\n",
    "import pandas as pd\n",
    "import ccxt\n",
    "import time\n",
    "import matplotlib.pyplot as plt\n",
    "#import ta\n",
    "import numpy as np\n",
    "import gc\n",
    "import random\n",
    "from sklearn.utils import shuffle\n",
    "import seaborn as sns\n",
    "import tensorflow as tf\n",
    "\n",
    "from utilities.backtesting import plot_wallet_vs_asset, get_metrics, get_n_columns, basic_multi_asset_backtest, plot_sharpe_evolution, plot_bar_by_month\n",
    "#from utilities.custom_indicators import SuperTrend\n",
    "pd.options.mode.chained_assignment = None  # default='warn'\n",
    "import gc\n",
    "gc.collect()    \n",
    "import ccxt\n",
    "import matplotlib.pyplot as plt\n",
    "import json\n",
    "import numpy as np\n",
    "import random\n",
    "import os\n",
    "import tensorflow as tf\n",
    "from tensorflow.keras.models import Sequential\n",
    "from tensorflow.keras.layers import Dense\n",
    "from tensorflow.keras.layers import Dropout\n",
    "from tensorflow.keras.constraints import MaxNorm\n",
    "from tensorflow.keras.optimizers import SGD\n",
    "from keras.callbacks import EarlyStopping, ModelCheckpoint\n",
    "from tensorflow.keras.models import Sequential\n",
    "from tensorflow.keras.layers import Dense \n",
    "\n",
    "\n",
    "import warnings\n",
    "warnings.filterwarnings('ignore')\n",
    "PRERR=False\n",
    "def prerr(err):\n",
    "    if PRERR:\n",
    "        print(\"\\033[0;31m Error in \"+str(sys._getframe().f_code.co_name) +\" \\033[0;33m\"+str(err))\n",
    "\n",
    "PDEBUG=True\n",
    "def pdebug(err):\n",
    "    if PDEBUG:\n",
    "        print(\"\\033[0;31m Error in \"+str(sys._getframe().f_code.co_name) +\" \\033[0;33m\"+str(err))"
   ]
  },
  {
   "cell_type": "markdown",
   "metadata": {},
   "source": [
    "### Usefull Global and Config Vars"
   ]
  },
  {
   "cell_type": "markdown",
   "metadata": {},
   "source": [
    "### importing Data"
   ]
  },
  {
   "cell_type": "code",
   "execution_count": 3,
   "metadata": {
    "notebookRunGroups": {
     "groupValue": "1"
    }
   },
   "outputs": [],
   "source": [
    "Binance_USDT_HALAL = [\n",
    "    \"LUNA/USDT\",\n",
    "    \"ETH/USDT\",\n",
    "    \"GMT/USDT\",\n",
    "    \"SOL/USDT\",\n",
    "    \"LTC/USDT\",\n",
    "    \"APE/USDT\",\n",
    "    \"XRP/USDT\",\n",
    "    \"ICP/USDT\",\n",
    "    \"IDEX/USDT\",\n",
    "    \"AVAX/USDT\",\n",
    "    \"DOT/USDT\",\n",
    "    \"ROSE/USDT\",\n",
    "    \"ADA/USDT\",\n",
    "    \"JASMY/USDT\",\n",
    "    \"GAL/USDT\",\n",
    "    \"GALA/USDT\",\n",
    "    \"SHIB/USDT\",\n",
    "    \"WAVES/USDT\",\n",
    "    \"DOGE/USDT\",\n",
    "    \"AR/USDT\",\n",
    "    \"GLMR/USDT\",\n",
    "    \"LOKA/USDT\",\n",
    "    \"XLM/USDT\",\n",
    "    \"MTL/USDT\",\n",
    "    \"SNX/USDT\",\n",
    "    \"PYR/USDT\",\n",
    "    \"DASH/USDT\",\n",
    "    \"BTC/USDT\",\n",
    "    \"TRX/USDT\",\n",
    "    \"NEAR/USDT\",\n",
    "    \"AXS/USDT\",\n",
    "    \"ZIL/USDT\",\n",
    "    \"UST/USDT\",\n",
    "    \"ENS/USDT\",\n",
    "    \"MANA/USDT\",\n",
    "    \"DAR/USDT\",\n",
    "    \"LAZIO/USDT\",\n",
    "    \"ALICE/USDT\",\n",
    "    \"ZEC/USDT\",\n",
    "    \"ALGO/USDT\",\n",
    "    \"GRT/USDT\",\n",
    "    \"PSG/USDT\",\n",
    "    \"SLP/USDT\",\n",
    "    \"EOS/USDT\",\n",
    "    \"PORTO/USDT\",\n",
    "    \"EGLD/USDT\",\n",
    "    \"XMR/USDT\",\n",
    "    \"KDA/USDT\",\n",
    "    \"ETC/USDT\",\n",
    "    \"MBOX/USDT\",\n",
    "    \"OGN/USDT\",\n",
    "    \"CITY/USDT\",\n",
    "    \"ASTR/USDT\",\n",
    "    \"IOTA/USDT\",\n",
    "    \"ACM/USDT\",\n",
    "    \"BAR/USDT\",\n",
    "    \"JUV/USDT\",\n",
    "    \"SYS/USDT\",\n",
    "    \"RVN/USDT\",\n",
    "    \"MBL/USDT\",\n",
    "    \"REN/USDT\",\n",
    "    \"JST/USDT\",\n",
    "    \"OMG/USDT\",\n",
    "    \"ATM/USDT\",\n",
    "    \"XEC/USDT\",\n",
    "    \"STORJ/USDT\",\n",
    "    \"ZRX/USDT\",\n",
    "    \"SRM/USDT\",\n",
    "    \"ICX/USDT\",\n",
    "    \"API3/USDT\",\n",
    "    \"ONT/USDT\",\n",
    "    \"SKL/USDT\",\n",
    "    \"MULTI/USDT\",\n",
    "    \"QTUM/USDT\",\n",
    "    \"COCOS/USDT\",\n",
    "    \"VOXEL/USDT\",\n",
    "    \"HIVE/USDT\",\n",
    "    \"KP3R/USDT\",\n",
    "    \"ATA/USDT\",\n",
    "    \"STMX/USDT\",\n",
    "    \"ADX/USDT\",\n",
    "    \"HIGH/USDT\",\n",
    "    \"NULS/USDT\",\n",
    "    \"MLN/USDT\",\n",
    "    \"YGG/USDT\",\n",
    "    \"SC/USDT\",\n",
    "    \"CKB/USDT\",\n",
    "    \"TOMO/USDT\",\n",
    "    \"STX/USDT\",\n",
    "    \"FLUX/USDT\",\n",
    "    \"DNT/USDT\",\n",
    "    \"ORN/USDT\",\n",
    "    \"PLA/USDT\",\n",
    "    \"BADGER/USDT\",\n",
    "    \"DF/USDT\",\n",
    "    \"MOB/USDT\",\n",
    "    \"LPT/USDT\",\n",
    "    \"SCRT/USDT\",\n",
    "    \"RAD/USDT\",\n",
    "    \"NMR/USDT\",\n",
    "    \"ELF/USDT\",\n",
    "    \"TORN/USDT\",\n",
    "    \"T/USDT\",\n",
    "    \"QUICK/USDT\",\n",
    "    \"LSK/USDT\",\n",
    "    \"FIDA/USDT\",\n",
    "    \"XNO/USDT\",\n",
    "    \"BTG/USDT\",\n",
    "    \"GHST/USDT\",\n",
    "    \"EPS/USDT\"\n",
    "]\n",
    "\n",
    "pair_list = Binance_USDT_HALAL\n",
    "#tf = '1m'\n",
    "oldest_pair = \"BTC/USDT\"\n",
    "df_list1m = {}\n",
    "df_list1d = {}\n",
    "df_list1h = {}\n",
    "df_list5m = {}\n",
    "df_list15m = {}\n",
    "\n",
    "\n",
    "for pair in pair_list:\n",
    "    df = get_historical_from_db(ccxt.binance(), pair, '1m', path=\"./database/\")\n",
    "    df_list1m[pair] = df.loc[:]\n",
    "\n",
    "for pair in pair_list:\n",
    "    df = get_historical_from_db(ccxt.binance(), pair, '1d', path=\"./database/\")\n",
    "    df_list1d[pair] = df.loc[:]\n",
    "\n",
    "for pair in pair_list:\n",
    "    df = get_historical_from_db(ccxt.binance(), pair, '1h', path=\"./database/\")\n",
    "    df_list1h[pair] = df.loc[:]\n",
    "\n",
    "for pair in pair_list:\n",
    "    df = get_historical_from_db(ccxt.binance(), pair, '5m', path=\"./database/\")\n",
    "    df_list5m[pair] = df.loc[:]\n",
    "\n",
    "for pair in pair_list:\n",
    "    df = get_historical_from_db(\n",
    "        ccxt.binance(), pair, '15m', path=\"./database/\")\n",
    "    df_list15m[pair] = df.loc[:]\n",
    "del(df)\n",
    "df_list = df_list1m\n",
    "prerr(\"Data load 100% use df_list1d[\\\"BTC/USDT\\\"] for exemple to access\")\n"
   ]
  },
  {
   "cell_type": "code",
   "execution_count": 4,
   "metadata": {},
   "outputs": [],
   "source": [
    "#df_list1m[\"BTC/USDT\"].iloc[0:10]"
   ]
  },
  {
   "cell_type": "markdown",
   "metadata": {},
   "source": [
    "### Validated Fonctions"
   ]
  },
  {
   "cell_type": "code",
   "execution_count": 5,
   "metadata": {
    "notebookRunGroups": {
     "groupValue": "1"
    }
   },
   "outputs": [],
   "source": [
    "'''\n",
    "Binance First Candle Finders\n",
    "Creslin\n",
    "\n",
    "Get list of all IDs on binance\n",
    "Returns the first candle / launch timestamp to the minute for each\n",
    "'''\n",
    "import urllib.request\n",
    "import json\n",
    "import ccxt\n",
    "\n",
    "def all_ids():\n",
    "    # load all markets from binance into a list\n",
    "    id = 'binance'\n",
    "    exchange_found = id in ccxt.exchanges\n",
    "    if exchange_found:\n",
    "        exchange = getattr(ccxt, id)({})\n",
    "        markets = exchange.load_markets()\n",
    "        tuples = list(ccxt.Exchange.keysort(markets).items())\n",
    "\n",
    "        ids = []\n",
    "        for (k, v) in tuples:\n",
    "            ids.append(v['id'])\n",
    "\n",
    "        return ids\n",
    "\n",
    "def give_first_kline_open_stamp(interval, symbol, start_ts=1499990400000):\n",
    "        '''\n",
    "        Returns the first kline from an interval and start timestamp and symbol\n",
    "        :param interval:  1w, 1d, 1m etc - the bar length to query\n",
    "        :param symbol:    BTCUSDT or LTCBTC etc\n",
    "        :param start_ts:  Timestamp in miliseconds to start the query from\n",
    "        :return:          The first open candle timestamp\n",
    "        '''\n",
    "\n",
    "        url_stub = \"http://api.binance.com/api/v1/klines?interval=\"\n",
    "\n",
    "        #/api/v1/klines?interval=1m&startTime=1536349500000&symbol=ETCBNB\n",
    "        addInterval   = url_stub     + str(interval) + \"&\"\n",
    "        addStarttime  = addInterval   + \"startTime=\"  + str(start_ts) + \"&\"\n",
    "        addSymbol     = addStarttime + \"symbol=\"     + str(symbol)\n",
    "        url_to_get = addSymbol\n",
    "\n",
    "        kline_data = urllib.request.urlopen(url_to_get).read().decode(\"utf-8\")\n",
    "        kline_data = json.loads(kline_data)\n",
    "\n",
    "        return kline_data[0][0]\n",
    "\n",
    "\n",
    "# Get list of all IDs on binance\n",
    "def get_crypto_metadata(pair_list):\n",
    "    Binance_USDT_HALAL=pair_list\n",
    "    ids = []\n",
    "    #ids = all_ids()\n",
    "    for halalpair in Binance_USDT_HALAL:\n",
    "    #    print( halalpair.replace('/',''))\n",
    "        ids.append(halalpair.replace('/',''))\n",
    "    #print(ids)\n",
    "    MetaData=pd.DataFrame(ids)\n",
    "    MetaData[\"Pair\"]=Binance_USDT_HALAL\n",
    "    counters=0\n",
    "    for this_id in ids:\n",
    "        '''\n",
    "        Find launch Week of symbol, start at Binance launch date 2017-07-14 (1499990400000)\n",
    "        Find launch Day of symbol in week\n",
    "        Find launch minute of symbol in day\n",
    "        '''\n",
    "\n",
    "        symbol_launch_week_stamp   = give_first_kline_open_stamp('1w', this_id, 1499990400000 )\n",
    "        symbol_launch_day_stamp    = give_first_kline_open_stamp('1d', this_id, symbol_launch_week_stamp)\n",
    "        symbol_launch_minute_stamp = give_first_kline_open_stamp('1m', this_id, symbol_launch_day_stamp)\n",
    "        MetaData.loc[counters,\"launch_week_stamp\"]=str(symbol_launch_week_stamp)\n",
    "        MetaData.loc[counters,\"launch_day_stamp\"]=str(symbol_launch_day_stamp)\n",
    "        MetaData.loc[counters,\"launch_minute\"]=pd.to_datetime(symbol_launch_minute_stamp, unit='ms')\n",
    "\n",
    "        counters += 1\n",
    "\n",
    "        #print(\"Week stamp\", symbol_launch_week_stamp)\n",
    "        #print(\"Day  stamp\", symbol_launch_day_stamp)\n",
    "        #print(\"Min  stamp\", symbol_launch_minute_stamp)\n",
    "\n",
    "        print(this_id, \"launched\", symbol_launch_minute_stamp )\n",
    "    return MetaData\n",
    "    #print(\"\")"
   ]
  },
  {
   "cell_type": "code",
   "execution_count": 6,
   "metadata": {
    "notebookRunGroups": {
     "groupValue": "1"
    }
   },
   "outputs": [],
   "source": [
    "try:\n",
    "    MetaData = pd.read_csv(\"../Data/MetaData.csv\",index_col=0)\n",
    "except:\n",
    "    MetaData=get_crypto_metadata(Binance_USDT_HALAL)\n",
    "    MetaData.to_csv(\"../Data/MetaData.csv\")\n",
    "#allok = pd.read_csv('D:/+DATA+/allok_w15.csv')"
   ]
  },
  {
   "cell_type": "code",
   "execution_count": 7,
   "metadata": {
    "notebookRunGroups": {
     "groupValue": "1"
    }
   },
   "outputs": [],
   "source": [
    "#MetaData.to_csv(\"D:\\+DATA+\\MetaData.csv\")\n",
    "pair_list=Binance_USDT_HALAL\n",
    "window=WINDOW_SIZE\n",
    "buy_weight=50\n",
    "sample_size=10000\n",
    "min_days=MAX_FORCAST_SIZE\n",
    "buffer_size=100000\n",
    "#MetaData"
   ]
  },
  {
   "cell_type": "code",
   "execution_count": 8,
   "metadata": {
    "notebookRunGroups": {
     "groupValue": "1"
    }
   },
   "outputs": [],
   "source": [
    "def expand_row(dataframe, window=2):\n",
    "    df = dataframe.copy()\n",
    "    for i in range(1, window+1):\n",
    "        df[\"high\"+str(i)] = df[\"high\"][i:]\n",
    "        df[\"low\"+str(i)] = df[\"low\"][i:]\n",
    "        df[\"open\"+str(i)] = df[\"open\"][i:]\n",
    "        df[\"close\"+str(i)] = df[\"close\"][i:]\n",
    "        df[\"volume\"+str(i)] = df[\"volume\"][i:]\n",
    "    return df\n",
    "\n",
    "def justlast_remover(df):\n",
    "    justlast=[\"BTC_open\",\"BTC_low\",\"BTC_close\",\"open\",\"low\",\"close\"]\n",
    "    for key in df.keys():\n",
    "        #key.find(\"-1\") != -1 and key.find(\"open-1\") == -1) or\n",
    "        if ( key.find(\"close\") != -1 ):\n",
    "            justlast.append(key)\n",
    "    df=df.drop(columns=justlast)\n",
    "    return df\n",
    "\n",
    "def expand_previous(dataframe, window=10):\n",
    "    df = dataframe.copy()\n",
    "    if window >= len(df):\n",
    "        for i in range(1, window+1):\n",
    "            df.loc[window:len(df),\"high-\"+str(i)]=None\n",
    "            df.loc[window:len(df),\"low-\"+str(i)]=None\n",
    "            #df.loc[window:len(df),\"open-\"+str(i)]=None            \n",
    "            df.loc[window:len(df),\"close-\"+str(i)]=None            \n",
    "            df.loc[window:len(df),\"volume-\"+str(i)]=None\n",
    "        window=len(df)\n",
    "\n",
    "    for i in range(1, window+1):\n",
    "        try:\n",
    "            df.loc[window:len(df),\"high-\"+str(i)]=None\n",
    "            df[\"high-\"+str(i)].iloc[window:len(df)]=df[\"high\"][window-i:len(df)-i].to_list()\n",
    "\n",
    "            df.loc[window:len(df),\"low-\"+str(i)]=None\n",
    "            df[\"low-\"+str(i)].iloc[window:len(df)]=df[\"low\"][window-i:len(df)-i].to_list()\n",
    "\n",
    "            # df.loc[window:len(df),\"open-\"+str(i)]=None\n",
    "            # df[\"open-\"+str(i)].iloc[window:len(df)]=df[\"open\"][window-i:len(df)-i].to_list()           \n",
    "            \n",
    "            df.loc[window:len(df),\"close-\"+str(i)]=None\n",
    "            df[\"close-\"+str(i)].iloc[window:len(df)]=df[\"close\"][window-i:len(df)-i].to_list()            \n",
    "            \n",
    "            df.loc[window:len(df),\"volume-\"+str(i)]=None\n",
    "            df[\"volume-\"+str(i)].iloc[window:len(df)]=df[\"volume\"][window-i:len(df)-i].to_list()\n",
    "            \n",
    "            # df[\"high-\"+str(i)][i:] = df[\"high\"][i-1:]\n",
    "            # df[\"low-\"+str(i)][i:] = df[\"low\"][i-1:]\n",
    "            # df[\"open-\"+str(i)][i:] = df[\"open\"][i-1:]\n",
    "            # df[\"close-\"+str(i)][i:] = df[\"close\"][i-1:]\n",
    "            # df[\"volume-\"+str(i)][i:] = df[\"volume\"][i-1:]\n",
    "        except:\n",
    "            prerr(\"Error in     expand_previous: \" +str(i))\n",
    "    if window >= len(df): return df       \n",
    "    return df.iloc[window:]\n",
    "\n",
    "def expand_previous_org(dataframe, window=10):\n",
    "    df = dataframe.copy()\n",
    "    if window >= len(df):\n",
    "        for i in range(1, window+1):\n",
    "            df.loc[window:len(df),\"high-\"+str(i)]=None\n",
    "            df.loc[window:len(df),\"low-\"+str(i)]=None\n",
    "            df.loc[window:len(df),\"open-\"+str(i)]=None            \n",
    "            df.loc[window:len(df),\"close-\"+str(i)]=None            \n",
    "            df.loc[window:len(df),\"volume-\"+str(i)]=None\n",
    "        window=len(df)\n",
    "\n",
    "    for i in range(1, window+1):\n",
    "        try:\n",
    "            df.loc[window:len(df),\"high-\"+str(i)]=None\n",
    "            df[\"high-\"+str(i)].iloc[window:len(df)]=df[\"high\"][window-i:len(df)-i].to_list()\n",
    "\n",
    "            df.loc[window:len(df),\"low-\"+str(i)]=None\n",
    "            df[\"low-\"+str(i)].iloc[window:len(df)]=df[\"low\"][window-i:len(df)-i].to_list()\n",
    "\n",
    "            df.loc[window:len(df),\"open-\"+str(i)]=None\n",
    "            df[\"open-\"+str(i)].iloc[window:len(df)]=df[\"open\"][window-i:len(df)-i].to_list()           \n",
    "            \n",
    "            df.loc[window:len(df),\"close-\"+str(i)]=None\n",
    "            df[\"close-\"+str(i)].iloc[window:len(df)]=df[\"close\"][window-i:len(df)-i].to_list()            \n",
    "            \n",
    "            df.loc[window:len(df),\"volume-\"+str(i)]=None\n",
    "            df[\"volume-\"+str(i)].iloc[window:len(df)]=df[\"volume\"][window-i:len(df)-i].to_list()\n",
    "            \n",
    "            # df[\"high-\"+str(i)][i:] = df[\"high\"][i-1:]\n",
    "            # df[\"low-\"+str(i)][i:] = df[\"low\"][i-1:]\n",
    "            # df[\"open-\"+str(i)][i:] = df[\"open\"][i-1:]\n",
    "            # df[\"close-\"+str(i)][i:] = df[\"close\"][i-1:]\n",
    "            # df[\"volume-\"+str(i)][i:] = df[\"volume\"][i-1:]\n",
    "        except:\n",
    "            prerr(\"Error in     expand_previous: \" +str(i))\n",
    "    if window >= len(df): return df       \n",
    "    return df.iloc[window:]\n",
    "\n",
    "\n",
    "def expand_previous_err(dataframe, window=10):\n",
    "    df = dataframe.copy()\n",
    "    if window >= len(df):\n",
    "        for i in range(1, window+1):\n",
    "            df.loc[window:len(df),\"high-\"+str(i)]=None\n",
    "            df.loc[window:len(df),\"low-\"+str(i)]=None\n",
    "            df.loc[window:len(df),\"open-\"+str(i)]=None            \n",
    "            df.loc[window:len(df),\"close-\"+str(i)]=None            \n",
    "            df.loc[window:len(df),\"volume-\"+str(i)]=None\n",
    "        window=len(df)\n",
    "\n",
    "    for i in range(1, window+1):\n",
    "            df.loc[window:len(df),\"high-\"+str(i)]=None\n",
    "            df[\"high-\"+str(i)].iloc[window:len(df)]=df[\"high\"][window-i:len(df)-i]\n",
    "\n",
    "            df.loc[window:len(df),\"low-\"+str(i)]=None\n",
    "            df[\"low-\"+str(i)].iloc[window:len(df)]=df[\"low\"][window-i:len(df)-i]\n",
    "\n",
    "            df.loc[window:len(df),\"open-\"+str(i)]=None\n",
    "            df[\"open-\"+str(i)].iloc[window:len(df)]=df[\"open\"][window-i:len(df)-i]            \n",
    "            \n",
    "            df.loc[window:len(df),\"close-\"+str(i)]=None\n",
    "            df[\"close-\"+str(i)].iloc[window:len(df)]=df[\"close\"][window-i:len(df)-i]            \n",
    "            \n",
    "            df.loc[window:len(df),\"volume-\"+str(i)]=None\n",
    "            df[\"volume-\"+str(i)].iloc[window:len(df)]=df[\"volume\"][window-i:len(df)-i]\n",
    "            \n",
    "            # df[\"high-\"+str(i)][i:] = df[\"high\"][i-1:]\n",
    "            # df[\"low-\"+str(i)][i:] = df[\"low\"][i-1:]\n",
    "            # df[\"open-\"+str(i)][i:] = df[\"open\"][i-1:]\n",
    "            # df[\"close-\"+str(i)][i:] = df[\"close\"][i-1:]\n",
    "            # df[\"volume-\"+str(i)][i:] = df[\"volume\"][i-1:]\n",
    "    if window >= len(df):\n",
    "        return df\n",
    "    return df.iloc[window:]\n",
    "\n",
    "def expand_timeframe(df_minutes,df_hours, window=2):\n",
    "    dfm = df_minutes.copy()\n",
    "    for j in range(1, window+1):\n",
    "        for i in df_hours[dfm.iloc[0].name:].index:\n",
    "        #prerr(str(i))\n",
    "            try:\n",
    "                dfm.loc[pd.date_range(str(i), periods=60, freq=\"min\"),\"high_1h-\"+str(j)]= df_hours[str(i-pd.Timedelta(str(j)+\" hour\"))]['high']\n",
    "                dfm.loc[pd.date_range(str(i), periods=60, freq=\"min\"),\"low_1h-\"+str(j)]= df_hours[str(i-pd.Timedelta(str(j)+\" hour\"))]['low']\n",
    "                dfm.loc[pd.date_range(str(i), periods=60, freq=\"min\"),\"open_1h-\"+str(j)]= df_hours[str(i-pd.Timedelta(str(j)+\" hour\"))]['open']\n",
    "                dfm.loc[pd.date_range(str(i), periods=60, freq=\"min\"),\"close_1h-\"+str(j)]= df_hours[str(i-pd.Timedelta(str(j)+\" hour\"))]['close']\n",
    "            except:\n",
    "                prerr(\"Error Merging: \"+str(i))\n",
    "    \n",
    "    return dfm\n",
    "\n",
    "\n",
    "def float_or_not(var):\n",
    "    try:\n",
    "        x=float(var)\n",
    "    except:\n",
    "        x=None\n",
    "    return x\n",
    "\n",
    "def expand_to_1h(df_1m,df_1h, window=2):\n",
    "    dfm = df_1m.copy()\n",
    "    index_start=df_1h.index.intersection(dfm.index.round(freq='H'))\n",
    "    for i in index_start:\n",
    "        for j in range(1, window+1):\n",
    "            # try:    \n",
    "                timefragment=dfm.index.intersection(pd.date_range(str(i), periods=60, freq=\"min\"))\n",
    "                dfm.loc[timefragment,\"high_1h-\"+str(j)]=float_or_not(df_1h.loc[str(i-pd.Timedelta(str(j)+\" hour\"))]['high'])\n",
    "                dfm.loc[timefragment,\"low_1h-\"+str(j)]=float_or_not(df_1h.loc[str(i-pd.Timedelta(str(j)+\" hour\"))]['low'])\n",
    "                dfm.loc[timefragment,\"open_1h-\"+str(j)]=float_or_not(df_1h.loc[str(i-pd.Timedelta(str(j)+\" hour\"))]['open'])\n",
    "                dfm.loc[timefragment,\"close_1h-\"+str(j)]=float_or_not(df_1h.loc[str(i-pd.Timedelta(str(j)+\" hour\"))]['close'])\n",
    "            # except:\n",
    "            #     prerr(\"error fonction \"str(i))\n",
    "    return dfm\n",
    "\n",
    "def expand_to_4h(df_1m,df_4h, window=2):\n",
    "    dfm = df_1m.copy()\n",
    "    #index_start=df_1h[str(dfm.iloc[0].name.round(freq='H')):].index.intersection(dfm.index)\n",
    "    index_start=df_4h.index.intersection(dfm.index.round(freq='4H'))\n",
    "    for i in index_start:\n",
    "        for j in range(1, window+1):\n",
    "            # try:    \n",
    "                timefragment=dfm.index.intersection(pd.date_range(str(i), periods=4*60, freq=\"min\"))\n",
    "                dfm.loc[timefragment,\"high_4h-\"+str(j)]=float_or_not(df_4h.loc[str(i-pd.Timedelta(str(j*4)+\" hour\"))]['high'])\n",
    "                dfm.loc[timefragment,\"low_4h-\"+str(j)]= float_or_not(df_4h.loc[str(i-pd.Timedelta(str(j*4)+\" hour\"))]['low'])\n",
    "                dfm.loc[timefragment,\"open_4h-\"+str(j)]= float_or_not(df_4h.loc[str(i-pd.Timedelta(str(j*4)+\" hour\"))]['open'])\n",
    "                dfm.loc[timefragment,\"close_4h-\"+str(j)]= float_or_not(df_4h.loc[str(i-pd.Timedelta(str(j*4)+\" hour\"))]['close'])\n",
    "            # except:\n",
    "            #     prerr(\"error fonction \"str(i))\n",
    "    return dfm\n",
    "\n",
    "def expand_to_1d(df_1m,df_1d, window=2,time_suffix=\"1d\"):\n",
    "    dfm = df_1m.copy()\n",
    "    index_start=df_1d.index.intersection(dfm.index.round(freq='1d'))\n",
    "    for i in index_start:\n",
    "        for j in range(1, window+1):\n",
    "            # try:    \n",
    "                prerr(i)\n",
    "                timefragment=dfm.index.intersection(pd.date_range(str(i), periods=24*60, freq=\"min\"))\n",
    "                dfm.loc[timefragment,\"high_\"+time_suffix+\"-\"+str(j)]=float_or_not(df_1d.loc[str(i-pd.Timedelta(str(j)+\" day\"))]['high'])\n",
    "                dfm.loc[timefragment,\"low_\"+time_suffix+\"-\"+str(j)]= float_or_not(df_1d.loc[str(i-pd.Timedelta(str(j)+\" day\"))]['low'])\n",
    "                dfm.loc[timefragment,\"open_\"+time_suffix+\"-\"+str(j)]= float_or_not(df_1d.loc[str(i-pd.Timedelta(str(j)+\" day\"))]['open'])\n",
    "                dfm.loc[timefragment,\"close_\"+time_suffix+\"-\"+str(j)]= float_or_not(df_1d.loc[str(i-pd.Timedelta(str(j)+\" day\"))]['close'])\n",
    "            # except:\n",
    "            #     prerr(\"error fonction \"str(i))\n",
    "    return dfm\n",
    "\n",
    "def expand_to_5m(df_1m,df_5m, window=2,time_suffix=\"5m\"):\n",
    "    dfm = df_1m.copy()\n",
    "    index_start=df_5m.index.intersection(dfm.index.round(freq='5 min'))\n",
    "    for i in index_start:\n",
    "        for j in range(1, window+1):\n",
    "            # try:    \n",
    "                \n",
    "                timefragment=dfm.index.intersection(pd.date_range(str(i), periods=5, freq=\"min\"))\n",
    "                dfm.loc[timefragment,\"high_\"+time_suffix+\"-\"+str(j)]=float_or_not(df_5m.loc[str(i-pd.Timedelta(str(j*5)+\" min\"))]['high'])\n",
    "                dfm.loc[timefragment,\"low_\"+time_suffix+\"-\"+str(j)]= float_or_not(df_5m.loc[str(i-pd.Timedelta(str(j*5)+\" min\"))]['low'])\n",
    "                dfm.loc[timefragment,\"open_\"+time_suffix+\"-\"+str(j)]= float_or_not(df_5m.loc[str(i-pd.Timedelta(str(j*5)+\" min\"))]['open'])\n",
    "                dfm.loc[timefragment,\"close_\"+time_suffix+\"-\"+str(j)]= float_or_not(df_5m.loc[str(i-pd.Timedelta(str(j*5)+\" min\"))]['close'])\n",
    "            # except:\n",
    "            #     prerr(\"error fonction \"str(i))\n",
    "    return dfm\n",
    "\n",
    "\n",
    "def expand_to_15m(df_1m,df_15m, window=2,time_suffix=\"15m\"):\n",
    "    dfm = df_1m.copy()\n",
    "    index_start=df_15m.index.intersection(dfm.index.round(freq='5 min'))\n",
    "    for i in index_start:\n",
    "        for j in range(1, window+1):    \n",
    "            # try:    \n",
    "                timefragment=dfm.index.intersection(pd.date_range(str(i), periods=15, freq=\"min\"))\n",
    "                dfm.loc[timefragment,\"high_\"+time_suffix+\"-\"+str(j)]=float_or_not(df_15m.loc[str(i-pd.Timedelta(str(j*15)+\" min\"))]['high'])\n",
    "                dfm.loc[timefragment,\"low_\"+time_suffix+\"-\"+str(j)]= float_or_not(df_15m.loc[str(i-pd.Timedelta(str(j*15)+\" min\"))]['low'])\n",
    "                dfm.loc[timefragment,\"open_\"+time_suffix+\"-\"+str(j)]= float_or_not(df_15m.loc[str(i-pd.Timedelta(str(j*15)+\" min\"))]['open'])\n",
    "                dfm.loc[timefragment,\"close_\"+time_suffix+\"-\"+str(j)]= float_or_not(df_15m.loc[str(i-pd.Timedelta(str(j*15)+\" min\"))]['close'])\n",
    "            # except:\n",
    "            #     prerr(\"error fonction \"str(i))\n",
    "    return dfm\n",
    "\n",
    "def rapid1d_expand(df1m,df1d,window=2):\n",
    "    d1min=df1m.copy()\n",
    "    d1day=df1d.loc[\n",
    "    d1min.index[0].round(freq='1d')-pd.Timedelta(str(window)+' day'):\n",
    "    d1min.index[len(d1min)-1].round(freq='1d')+pd.Timedelta('1 day')\n",
    "    ].copy()\n",
    "    d1day_pre=expand_previous(d1day,window)\n",
    "    d1day_pre=d1day_pre.drop(columns=['open', 'low','close','high','volume'])\n",
    "    d1day_pre=d1day_pre.add_suffix(\"_day\")\n",
    "    d1min=pd.merge_asof(\n",
    "        d1min, d1day_pre, on=None, left_on=None, right_on=None, left_index=True, \n",
    "        right_index=True, by=None, left_by=None, right_by=None, \n",
    "        suffixes=('', '_day'),\n",
    "        tolerance=pd.Timedelta('1 day'), allow_exact_matches=True, direction='backward')\n",
    "    return d1min\n",
    "\n",
    "def rapid1h_expand(df1m,df1h,window=2):\n",
    "    d1min=df1m.copy()\n",
    "    d1hour=df1h.loc[\n",
    "    d1min.index[0].round(freq='H')-pd.Timedelta(str(window)+' hour'):\n",
    "    d1min.index[len(d1min)-1].round(freq='H')+pd.Timedelta('1 hour')\n",
    "    ].copy()\n",
    "    d1hour_pre=expand_previous(d1hour,window)\n",
    "    d1hour_pre=d1hour_pre.drop(columns=['open', 'low','close','high','volume'])\n",
    "    d1hour_pre=d1hour_pre.add_suffix(\"_hour\")\n",
    "    d1min=pd.merge_asof(\n",
    "    d1min, d1hour_pre, on=None, left_on=None, right_on=None, left_index=True, \n",
    "    right_index=True, by=None, left_by=None, right_by=None, \n",
    "    suffixes=('', '_hour'),\n",
    "    tolerance=pd.Timedelta('1 hour'), allow_exact_matches=True, direction='backward')\n",
    "    return d1min\n",
    "\n",
    "\n",
    "def rapid5m_expand(df1m,df5m,window=2):\n",
    "    d1min=df1m.copy()\n",
    "    d5min=df5m.loc[\n",
    "    d1min.index[0].round(freq='5 min')-pd.Timedelta(str(window*5+10)+' min'):\n",
    "    d1min.index[len(d1min)-1].round(freq='5 min')+pd.Timedelta('5 min')\n",
    "    ].copy()\n",
    "    d5min_pre=expand_previous(d5min,window)\n",
    "    d5min_pre=d5min_pre.drop(columns=['open', 'low','close','high','volume'])\n",
    "    d5min_pre=d5min_pre.add_suffix(\"_5min\")\n",
    "    d1min=pd.merge_asof(\n",
    "    d1min, d5min_pre, on=None, left_on=None, right_on=None, left_index=True, \n",
    "    right_index=True, by=None, left_by=None, right_by=None, \n",
    "    suffixes=('', '_5min'),\n",
    "    tolerance=pd.Timedelta('5 min'), allow_exact_matches=True, direction='backward')\n",
    "    return d1min\n",
    "\n",
    "def rapid15m_expand(df1m,df15m,window=2):\n",
    "    d1min=df1m.copy()\n",
    "    d15min=df15m.loc[\n",
    "    d1min.index[0].round(freq='15 min')-pd.Timedelta(str(window*15+30)+' min'):\n",
    "    d1min.index[len(d1min)-1].round(freq='15 min')+pd.Timedelta('15 min')\n",
    "    ].copy()\n",
    "    d15min_pre=expand_previous(d15min,window)\n",
    "    d15min_pre=d15min_pre.drop(columns=['open', 'low','close','high','volume'])\n",
    "    d15min_pre=d15min_pre.add_suffix(\"_15min\")\n",
    "    d1min=pd.merge_asof(\n",
    "    d1min, d15min_pre, on=None, left_on=None, right_on=None, left_index=True, \n",
    "    right_index=True, by=None, left_by=None, right_by=None, \n",
    "    suffixes=('', '_15min'),\n",
    "    tolerance=pd.Timedelta('15 min'), allow_exact_matches=True, direction='backward')\n",
    "    return d1min\n",
    "\n",
    "\n",
    "def full_expand(df1m,df5m,df15m,df1h,df1d,window=10):\n",
    "    d1min=df1m.copy()\n",
    "    d1min=expand_previous(d1min,window=window).drop(columns=[\"volume\"])\n",
    "    d1min=rapid1d_expand(d1min,df1d,window)\n",
    "    d1min=rapid1h_expand(d1min,df1h,window)\n",
    "    d1min=rapid15m_expand(d1min,df15m,window)\n",
    "    d1min=rapid5m_expand(d1min,df5m,window)\n",
    "    return d1min\n",
    "\n",
    "def full_expand_org(df1m,df5m,df15m,df1h,df1d,window=10):\n",
    "    d1min=df1m.copy()\n",
    "    d1min=expand_previous(d1min,window=window)\n",
    "    d1min=rapid1d_expand(d1min,df1d,window)\n",
    "    d1min=rapid1h_expand(d1min,df1h,window)\n",
    "    d1min=rapid15m_expand(d1min,df15m,window)\n",
    "    d1min=rapid5m_expand(d1min,df5m,window)\n",
    "    return d1min\n",
    "\n",
    "\n",
    "def day_expand(data_full):\n",
    "    ser = pd.to_datetime(pd.Series(data_full.index))\n",
    "    data_full[\"day\"]=ser.dt.isocalendar().day.values\n",
    "    data_full[\"hour\"]=ser.dt.hour.values\n",
    "    data_full[\"minute\"]=ser.dt.minute.values\n",
    "\n",
    "# merging\n",
    "def pair_btc(pair=\"LTC/USDT\",window=2):\n",
    "    Pair_Full=full_expand(df_list1m[pair],df_list5m[pair],df_list15m[pair],df_list1h[pair],df_list1d[pair],window)\n",
    "    BTC_Full=full_expand(\n",
    "        df_list1m[\"BTC/USDT\"].loc[df_list1m[pair].iloc[0].name:\n",
    "        df_list1m[pair].iloc[len(df_list1m[pair])-1].name],\n",
    "        df_list5m[\"BTC/USDT\"],df_list15m[\"BTC/USDT\"],df_list1h[\"BTC/USDT\"],df_list1d[\"BTC/USDT\"],window)   \n",
    "    BTC_Full=BTC_Full.add_prefix(\"BTC_\")\n",
    "    Merged=pd.merge(Pair_Full, BTC_Full, left_index=True, how='outer',\n",
    "            right_index=True, suffixes=('', ''))\n",
    "    day_expand(Merged)\n",
    "    return Merged\n",
    "\n",
    "\n",
    "\n",
    "\n"
   ]
  },
  {
   "cell_type": "code",
   "execution_count": 9,
   "metadata": {
    "notebookRunGroups": {
     "groupValue": "1"
    }
   },
   "outputs": [],
   "source": [
    "def buy_results(df,min_pourcent=BUY_PERCENT):\n",
    "    mino=min_pourcent*0.01\n",
    "    df[\"buy\"]=(\n",
    "        ((df[\"high\"].shift(periods=1, freq=None, axis=0, fill_value=None)-df[\"high\"])/df[\"high\"] >=mino )| ((\n",
    "          df[\"high\"].shift(periods=2, freq=None, axis=0, fill_value=None)-df[\"high\"])/df[\"high\"] >=mino )| ((\n",
    "          df[\"high\"].shift(periods=3, freq=None, axis=0, fill_value=None)-df[\"high\"])/df[\"high\"] >=mino)\n",
    "    ).replace({False: 0, True: 1}) \n",
    " \n",
    "def buy_results_gen(df,min_pourcent=BUY_PERCENT,window=3):\n",
    "    mino=min_pourcent*0.01\n",
    "    codep1='df[\"buy\"]=((('\n",
    "    for i in range(1,window):\n",
    "        codep1=codep1+'df[\"high\"].shift(periods='+str(i)+', freq=None, axis=0, fill_value=None)-df[\"high\"])/df[\"high\"] >=mino )| (('\n",
    "    codep2='df[\"high\"].shift(periods='+str(window)+', freq=None, axis=0, fill_value=None)-df[\"high\"])/df[\"high\"] >=mino)).replace({False: 0, True: 1})'\n",
    "    code=codep1+codep2\n",
    "    print(code)\n",
    "    exec(code)\n",
    "\n",
    "def buy_sell(df,buy_pourcent=BUY_PERCENT,sell_pourcent=SELL_PERCENT,window=3):\n",
    "    mino=buy_pourcent*0.01\n",
    "    maxo=-sell_pourcent*0.01\n",
    "    codep1='df[\"buy\"]=((('\n",
    "    for i in range(1,window):\n",
    "        codep1=codep1+'df[\"high\"].shift(periods='+str(i)+', freq=None, axis=0, fill_value=None)-df[\"high\"])/df[\"high\"] >=mino )| (('\n",
    "    codep2='df[\"high\"].shift(periods='+str(window)+', freq=None, axis=0, fill_value=None)-df[\"high\"])/df[\"high\"] >=mino)).replace({False: 0, True: 1})'\n",
    "    code=codep1+codep2\n",
    "    prerr(code)\n",
    "    exec(code)\n",
    "    codep1='df[\"sell\"]=((df[\"buy\"]==0)&(( '\n",
    "    for i in range(1,window):\n",
    "        codep1=codep1+'df[\"high\"].shift(periods='+str(i)+', freq=None, axis=0, fill_value=None)-df[\"high\"])/df[\"high\"] <=maxo )& (('\n",
    "    codep2='df[\"high\"].shift(periods='+str(window)+', freq=None, axis=0, fill_value=None)-df[\"high\"])/df[\"high\"] <=maxo )).replace({False: 0, True: 1})'\n",
    "    code=codep1+codep2\n",
    "    prerr(code)\n",
    "    exec(code)\n",
    "    df[\"bs\"]=((df['buy']==1 ) & (df['sell']==0)).replace({False: 0, True: 1})\n",
    "\n",
    "def buy_only(df,buy_pourcent=BUY_PERCENT,sell_pourcent=SELL_PERCENT,window=3):\n",
    "    mino=buy_pourcent*0.01\n",
    "    maxo=-sell_pourcent*0.01\n",
    "    codep1='df[\"buy\"]=((('\n",
    "    for i in range(1,window):\n",
    "        codep1=codep1+'df[\"high\"].shift(periods='+str(i)+', freq=None, axis=0, fill_value=None)-df[\"high\"])/df[\"high\"] >=mino )| (('\n",
    "    codep2='df[\"high\"].shift(periods='+str(window)+', freq=None, axis=0, fill_value=None)-df[\"high\"])/df[\"high\"] >=mino)).replace({False: 0, True: 1})'\n",
    "    code=codep1+codep2\n",
    "    prerr(code)\n",
    "    exec(code)\n",
    "    # codep1='df[\"sell\"]=((df[\"buy\"]==0)&(( '\n",
    "    # for i in range(1,window):\n",
    "    #     codep1=codep1+'df[\"high\"].shift(periods='+str(i)+', freq=None, axis=0, fill_value=None)-df[\"high\"])/df[\"high\"] <=maxo )& (('\n",
    "    # codep2='df[\"high\"].shift(periods='+str(window)+', freq=None, axis=0, fill_value=None)-df[\"high\"])/df[\"high\"] <=maxo )).replace({False: 0, True: 1})'\n",
    "    # code=codep1+codep2\n",
    "    # prerr(code)\n",
    "    # exec(code)\n",
    "    # df[\"bs\"]=((df['buy']==1 ) & (df['sell']==0)).replace({False: 0, True: 1})\n",
    "    return df"
   ]
  },
  {
   "cell_type": "code",
   "execution_count": 10,
   "metadata": {
    "notebookRunGroups": {
     "groupValue": "1"
    }
   },
   "outputs": [],
   "source": [
    "def Meta_expand(data_full,metadt,pair):\n",
    "    data_full[\"lunch_day\"]=int(-(pd.to_datetime(metadt[metadt[\"Pair\"] == pair][\"launch_minute\"])-pd.Timestamp('2020-01-01 00:00:00.000000')).dt.days)\n",
    "\n",
    "def mini_expand(pair=\"LTC/USDT\",i=0,j=10000,window=2):\n",
    "    Pair_Full=full_expand(df_list1m[pair].iloc[i:j],df_list5m[pair],df_list15m[pair],df_list1h[pair],df_list1d[pair],window)\n",
    "    BTC_Full=full_expand(\n",
    "        df_list1m[\"BTC/USDT\"].loc[Pair_Full.iloc[0].name-pd.Timedelta(str(window-1) +\" min\"):Pair_Full.iloc[len(Pair_Full)-1].name],\n",
    "        df_list5m[\"BTC/USDT\"],\n",
    "        df_list15m[\"BTC/USDT\"],\n",
    "        df_list1h[\"BTC/USDT\"],\n",
    "        df_list1d[\"BTC/USDT\"],\n",
    "        window)   \n",
    "    BTC_Full=BTC_Full.add_prefix(\"BTC_\")\n",
    "    Merged=pd.merge(Pair_Full, BTC_Full, left_index=True, how='left',\n",
    "            right_index=True, suffixes=('', ''))\n",
    "    day_expand(Merged)\n",
    "    return Merged\n",
    "\n",
    "def mini_expand2(pair=\"LTC/USDT\",i=0,j=10000,window=2,metadata=MetaData):\n",
    "    Pair_Full=full_expand(df_list1m[pair].iloc[i:j],df_list5m[pair],df_list15m[pair],df_list1h[pair],df_list1d[pair],window)\n",
    "    BTC_Full=full_expand(\n",
    "        df_list1m[\"BTC/USDT\"].loc[Pair_Full.iloc[0].name-pd.Timedelta(str(window-1) +\" min\"):Pair_Full.iloc[len(Pair_Full)-1].name],\n",
    "        df_list5m[\"BTC/USDT\"],\n",
    "        df_list15m[\"BTC/USDT\"],\n",
    "        df_list1h[\"BTC/USDT\"],\n",
    "        df_list1d[\"BTC/USDT\"],\n",
    "        window)   \n",
    "    BTC_Full=BTC_Full.add_prefix(\"BTC_\")\n",
    "    Merged=pd.merge(Pair_Full, BTC_Full, left_index=True, how='left',\n",
    "            right_index=True, suffixes=('', ''))\n",
    "    day_expand(Merged)\n",
    "    Meta_expand(Merged,metadata,pair)\n",
    "    buy_sell(Merged,buy_pourcent=BUY_PERCENT,sell_pourcent=SELL_PERCENT,window=7)\n",
    "    return Merged\n",
    "\n",
    "def mini_expand3(pair=\"LTC/USDT\",i=0,j=10000,window=2,metadata=MetaData,high_weight=3):\n",
    "    Pair_Full=full_expand(df_list1m[pair].iloc[i:j],df_list5m[pair],df_list15m[pair],df_list1h[pair],df_list1d[pair],window)\n",
    "    BTC_Full=full_expand(\n",
    "        df_list1m[\"BTC/USDT\"].loc[(Pair_Full.iloc[0].name-pd.Timedelta(str(window) +\" d\")).round(freq='1 min'):Pair_Full.iloc[len(Pair_Full)-1].name],\n",
    "        df_list5m[\"BTC/USDT\"],#.loc[(Pair_Full.iloc[0].name-pd.Timedelta(str(window) +\" d\")).round(freq='5 min'):Pair_Full.iloc[len(Pair_Full)-1].name],\n",
    "        df_list15m[\"BTC/USDT\"],#.loc[(Pair_Full.iloc[0].name-pd.Timedelta(str(window) +\" day\")).round(freq='15 min'):Pair_Full.iloc[len(Pair_Full)-1].name],\n",
    "        df_list1h[\"BTC/USDT\"],#.loc[(Pair_Full.iloc[0].name-pd.Timedelta(str(window) +\" day\")).round(freq='1 H'):Pair_Full.iloc[len(Pair_Full)-1].name],\n",
    "        df_list1d[\"BTC/USDT\"],#.loc[(Pair_Full.iloc[0].name-pd.Timedelta(str(window) +\" day\")).round(freq='1 d'):Pair_Full.iloc[len(Pair_Full)-1].name],\n",
    "        window)   \n",
    "    BTC_Full=BTC_Full.add_prefix(\"BTC_\")\n",
    "    # Merged=pd.merge(Pair_Full, BTC_Full, left_index=True, how='left',\n",
    "    #         right_index=True, suffixes=('', ''))\n",
    "    Merged=pd.merge(Pair_Full, BTC_Full, left_index=True, how='inner',\n",
    "            right_index=True, suffixes=('', ''))\n",
    "    day_expand(Merged)\n",
    "    Meta_expand(Merged,metadata,pair)\n",
    "    #buy_sell(Merged,buy_pourcent=BUY_PERCENT,sell_pourcent=SELL_PERCENT,window=MAX_FORCAST_SIZE)\n",
    "    buy_only(Merged,buy_pourcent=BUY_PERCENT,sell_pourcent=SELL_PERCENT,window=MAX_FORCAST_SIZE)\n",
    "    Merged[\"high\"]=(Merged[\"open\"]+high_weight*Merged[\"high\"]+Merged[\"low\"]+Merged[\"close\"])/(3+high_weight)\n",
    "    Merged.rename(columns={\"high\":\"price\"},inplace = True)\n",
    "    Merged[\"BTC_high\"]=(Merged[\"BTC_open\"]+high_weight*Merged[\"BTC_high\"]+Merged[\"BTC_low\"]+Merged[\"BTC_close\"])/(3+high_weight)\n",
    "    Merged.rename(columns={\"BTC_high\":\"BTC_price\"},inplace = True)\n",
    "    Merged=Merged.drop(columns=[\"BTC_open\",\"BTC_low\",\"BTC_close\",\"open\",\"low\",\"close\"])\n",
    "    # Merged=justlast_remover(Merged)\n",
    "    for key in Merged.keys():\n",
    "        if key.find(\"BTC\")!=-1 and (key.find(\"open\")!=-1 or\n",
    "        key.find(\"high\")!=-1 or key.find(\"low\")!=-1 or key.find(\"close\")!=-1):\n",
    "            Merged[key]=(Merged[\"BTC_price\"]-Merged[key])/Merged[\"BTC_price\"]\n",
    "        if key.find(\"BTC\")==-1 and (key.find(\"open\")!=-1 or\n",
    "        key.find(\"high\")!=-1 or key.find(\"low\")!=-1 or key.find(\"close\")!=-1):\n",
    "            Merged[key]=(Merged[\"price\"]-Merged[key])/Merged[\"price\"]\n",
    "    return Merged\n",
    "\n",
    "def mini_expand3old(pair=\"LTC/USDT\",i=0,j=10000,window=2,metadata=MetaData,high_weight=3):\n",
    "    Pair_Full=full_expand(df_list1m[pair].iloc[i:j],df_list5m[pair],df_list15m[pair],df_list1h[pair],df_list1d[pair],window)\n",
    "    BTC_Full=full_expand(\n",
    "        df_list1m[\"BTC/USDT\"].loc[Pair_Full.iloc[0].name-pd.Timedelta(str(window) +\" min\"):Pair_Full.iloc[len(Pair_Full)-1].name],\n",
    "        df_list5m[\"BTC/USDT\"],\n",
    "        df_list15m[\"BTC/USDT\"],\n",
    "        df_list1h[\"BTC/USDT\"],\n",
    "        df_list1d[\"BTC/USDT\"],\n",
    "        window)   \n",
    "    BTC_Full=BTC_Full.add_prefix(\"BTC_\")\n",
    "    Merged=pd.merge(Pair_Full, BTC_Full, left_index=True, how='left',\n",
    "            right_index=True, suffixes=('', ''))\n",
    "    day_expand(Merged)\n",
    "    Meta_expand(Merged,metadata,pair)\n",
    "    buy_sell(Merged,buy_pourcent=BUY_PERCENT,sell_pourcent=SELL_PERCENT,window=MAX_FORCAST_SIZE)\n",
    "    Merged[\"high\"]=(Merged[\"open\"]+high_weight*Merged[\"high\"]+Merged[\"low\"]+Merged[\"close\"])/(3+high_weight)\n",
    "    Merged.rename(columns={\"high\":\"price\"},inplace = True)\n",
    "    Merged[\"BTC_high\"]=(Merged[\"BTC_open\"]+high_weight*Merged[\"BTC_high\"]+Merged[\"BTC_low\"]+Merged[\"BTC_close\"])/(3+high_weight)\n",
    "    Merged.rename(columns={\"BTC_high\":\"BTC_price\"},inplace = True)\n",
    "    # Merged=Merged.drop(columns=[\"BTC_open\",\"BTC_low\",\"BTC_close\",\"open\",\"low\",\"close\"])\n",
    "    Merged=justlast_remover(Merged)\n",
    "\n",
    "    for key in Merged.keys():\n",
    "        if key.find(\"BTC\")!=-1 and (key.find(\"open\")!=-1 or\n",
    "        key.find(\"high\")!=-1 or key.find(\"low\")!=-1 or key.find(\"close\")!=-1):\n",
    "            Merged[key]=(Merged[\"BTC_price\"]-Merged[key])/Merged[\"BTC_price\"]\n",
    "        if key.find(\"BTC\")==-1 and (key.find(\"open\")!=-1 or\n",
    "        key.find(\"high\")!=-1 or key.find(\"low\")!=-1 or key.find(\"close\")!=-1):\n",
    "            Merged[key]=(Merged[\"price\"]-Merged[key])/Merged[\"price\"]\n",
    "    return Merged\n",
    "\n",
    "\n",
    "\n",
    "def slow_expand(pair=\"LTC/USDT\",i=0,j=100000,window=3):\n",
    "    df=mini_expand(pair=pair,i=i,j=j,window=window)\n",
    "    for mx in range(1,int(len(df_list1m[pair])/j)+1) :\n",
    "        df=pd.concat([df,\n",
    "        mini_expand(pair=pair,\n",
    "        i=(mx*j)-window,\n",
    "        j=(mx+1)*j,\n",
    "        window=window)],axis=0)\n",
    "    return df\n",
    "\n",
    "def pair_data_gen(pair=\"LTC/USDT\",i=0,j=100000,window=3,metadata=MetaData):\n",
    "    df=mini_expand3(pair=pair,i=i,j=j,window=window,metadata=metadata)\n",
    "    for mx in range(1,int(len(df_list1m[pair])/j)+1) :\n",
    "        df=pd.concat([df,\n",
    "        mini_expand3(pair=pair,\n",
    "        i=(mx*j)-window,\n",
    "        j=(mx+1)*j,\n",
    "        window=window,metadata=metadata)],axis=0)\n",
    "        # Meta_expand(df,metadata,pair)\n",
    "        # buy_sell(df,buy_pourcent=BUY_PERCENT,sell_pourcent=SELL_PERCENT,window=7)\n",
    "        #print(\"loop \"+str(mx)+\"--> size of df: \"+str(len(df)))\n",
    "    return df\n",
    "\n",
    "###\n",
    "\n",
    "def data_is_enough(df,days=10,window=10):\n",
    "    if days <= window:\n",
    "        return df[~df.isnull().any(axis=1) |(df[\"open-\"+str(days)+\"_day\"].isnull() & ~df[\"open-\"+str(window-1)+\"_hour\"].isnull()  & ~df[\"open-\"+str(window-1)+\"_5min\"].isnull() & ~df[\"open-\"+str(days-1)+\"_day\"].isnull())]\n",
    "    else:\n",
    "        prerr(\"number of days must be equal or lower than window\")\n",
    "        return df\n",
    "\n",
    "def data_cleanup(df):\n",
    "    return df.dropna()\n",
    "    #return df[~df.isnull().any(axis=1)]\n",
    "    \n",
    "def data_shufler2(df):\n",
    "    return df.sample(frac=1).reset_index()\n",
    "    \n",
    "def data_shufler(df):\n",
    "    x = len(df)\n",
    "    df[\"num_index\"] = range(0, x, 1)\n",
    "    df.set_index(df['num_index'], inplace=True)\n",
    "    df = df.reindex(np.random.permutation(df.index))\n",
    "    try:df= df.drop(\"num_index\",axis=1)\n",
    "    except:pass\n",
    "    #df = df.reindex(np.random.permutation(df.index))\n",
    "    return df\n",
    "    \n",
    "def data_np_shufler(df):\n",
    "    df = shuffle(df)\n",
    "    #df = df.reindex(np.random.permutation(df.index))\n",
    "        \n",
    "\n",
    "\n",
    "\n",
    "def data_chooser(df,weight=50,row_numbers=100000):\n",
    "    df=data_shufler(df)\n",
    "    if row_numbers>=len(df):\n",
    "        row_numbers=len(df)\n",
    "    df=pd.concat([df[df[\"buy\"]==1].iloc[:int(row_numbers*weight*0.01)],\n",
    "                 df[df[\"buy\"]==0].iloc[:int(row_numbers*(100-weight)*0.01)]])\n",
    "    df=data_shufler(df)\n",
    "    return df\n",
    "    \n",
    "\n",
    "def data_looper(pair_list=Binance_USDT_HALAL,window=15,buy_weight=50,sample_size=100000,min_days=10,buffer_size=100000):\n",
    "    xdf=pd.DataFrame()\n",
    "    for pair in pair_list:\n",
    "        if pair != \"BTC/USDT\":\n",
    "            print(\"working on: \"+pair)\n",
    "            df=pair_data_gen(pair=pair,i=0,j=buffer_size,window=window)\n",
    "            gc.collect()\n",
    "\n",
    "            df=data_is_enough(df,days=min_days,window=window)\n",
    "            gc.collect()\n",
    "\n",
    "            df=data_chooser(df,weight=buy_weight,row_numbers=sample_size)\n",
    "            gc.collect()\n",
    "\n",
    "            print(pair+\" is processed\")\n",
    "            xdf=pd.concat([xdf,df],axis=0)\n",
    "            del(df)\n",
    "            gc.collect()\n",
    "        else:\n",
    "            print(\"ignore BTC\")\n",
    "    return xdf\n",
    "\n",
    "def data_looper_fast(pair_list=Binance_USDT_HALAL,window=15,buy_weight=50,sample_size=100000,min_days=10,buffer_size=100000):\n",
    "    xdf=pd.DataFrame()\n",
    "    count=0\n",
    "    for pair in pair_list:\n",
    "        if pair != \"BTC/USDT\":\n",
    "            print(\"working on: \"+pair ,end=\" -->\")\n",
    "            try:\n",
    "                df=pair_data_gen(pair=pair,i=0,j=buffer_size,window=window)\n",
    "                gc.collect()\n",
    "                count+=1\n",
    "                # df=data_is_enough(df,days=min_days,window=window)\n",
    "                # gc.collect()\n",
    "                df.reindex(np.random.permutation(df.index))\n",
    "                df=data_chooser(df,weight=buy_weight,row_numbers=sample_size)\n",
    "                gc.collect()\n",
    "\n",
    "                df=data_cleanup(df)\n",
    "                print(pair+\" is processed\")\n",
    "            except:\n",
    "                print(f\"error while processing {pair} {count}/{len(pair_list)}\")\n",
    "            xdf=pd.concat([xdf,df],axis=0)\n",
    "            del(df)\n",
    "            gc.collect()\n",
    "        else:\n",
    "            print(\"ignore BTC\")\n",
    "            \n",
    "    return xdf\n",
    "\n",
    "def volume_cleaner(df):\n",
    "    VolRemover=[\"volume\",\"volume-1\",\"BTC_volume\",\"BTC_volume-1\"]\n",
    "    for key in df.keys():\n",
    "        if key.find(\"volume-1_\") != -1 :\n",
    "            VolRemover.append(key)\n",
    "    df=df.drop(columns=VolRemover)\n",
    "    return df\n",
    "    \n",
    "Normalization=None\n",
    "def normalize(dataset,file=Normalization_File):\n",
    "    global Normalization\n",
    "    try:\n",
    "        N=Normalization\n",
    "    except:\n",
    "        Normalization=None\n",
    "    if(Normalization==None):\n",
    "        #print('Loading normalization from file')\n",
    "        with open(file) as json_file:\n",
    "            Normalization = json.load(json_file)\n",
    "    else:\n",
    "        #print('normalization is loaded')\n",
    "        pass\n",
    "\n",
    "    mean=np.array(Normalization[\"mean\"])\n",
    "    std=np.array(Normalization[\"std\"])\n",
    "    dataset -= mean \n",
    "    dataset /= std\n",
    "    return(dataset)"
   ]
  },
  {
   "cell_type": "markdown",
   "metadata": {},
   "source": [
    "## buy or sell mod"
   ]
  },
  {
   "cell_type": "code",
   "execution_count": 11,
   "metadata": {
    "notebookRunGroups": {
     "groupValue": "1"
    }
   },
   "outputs": [],
   "source": [
    "# Costumaize buy condition here\n",
    "def buy_only(df,buy_pourcent=BUY_PERCENT,sell_pourcent=SELL_PERCENT,window=3):\n",
    "    try:\n",
    "        \n",
    "        ## test param\n",
    "        #buy_pourcent=1\n",
    "        window=15\n",
    "        print (f\"---buy_only--- Buy percent: {buy_pourcent}%\")\n",
    "        mino=buy_pourcent*0.01\n",
    "        maxo=-sell_pourcent*0.01\n",
    "        codep1='df[\"b\"]=((('\n",
    "        for i in range(1,window):\n",
    "            codep1=codep1+'df[\"high\"].shift(periods='+str(-i)+', freq=None, axis=0, fill_value=None)-df[\"high\"])/df[\"high\"] >=mino )| (('\n",
    "        codep2='df[\"high\"].shift(periods='+str(-window)+', freq=None, axis=0, fill_value=None)-df[\"high\"])/df[\"high\"] >=mino)).replace({False: 0, True: 1})'\n",
    "        code=codep1+codep2\n",
    "        prerr(code)\n",
    "        exec(code)\n",
    "\n",
    "\n",
    "##################### debug ###############33\n",
    "        strcomment='''\n",
    "        codep1='df[\"b5\"]=((('\n",
    "        for i in range(1,5):\n",
    "            codep1=codep1+'df[\"high\"].shift(periods='+str(-i)+', freq=None, axis=0, fill_value=None)-df[\"high\"])/df[\"high\"] >=mino )| (('\n",
    "        codep2='df[\"high\"].shift(periods='+str(-window)+', freq=None, axis=0, fill_value=None)-df[\"high\"])/df[\"high\"] >=mino)).replace({False: 0, True: 1})'\n",
    "        code=codep1+codep2\n",
    "        prerr(code)\n",
    "        exec(code)\n",
    "\n",
    "\n",
    "\n",
    "        codep1='df[\"b10\"]=((('\n",
    "        for i in range(1,10):\n",
    "            codep1=codep1+'df[\"high\"].shift(periods='+str(-i)+', freq=None, axis=0, fill_value=None)-df[\"high\"])/df[\"high\"] >=mino )| (('\n",
    "        codep2='df[\"high\"].shift(periods='+str(-window)+', freq=None, axis=0, fill_value=None)-df[\"high\"])/df[\"high\"] >=mino)).replace({False: 0, True: 1})'\n",
    "        code=codep1+codep2\n",
    "        prerr(code)\n",
    "        exec(code)\n",
    "\n",
    "        codep1='df[\"b15\"]=((('\n",
    "        for i in range(1,15):\n",
    "            codep1=codep1+'df[\"high\"].shift(periods='+str(-i)+', freq=None, axis=0, fill_value=None)-df[\"high\"])/df[\"high\"] >=mino )| (('\n",
    "        codep2='df[\"high\"].shift(periods='+str(-window)+', freq=None, axis=0, fill_value=None)-df[\"high\"])/df[\"high\"] >=mino)).replace({False: 0, True: 1})'\n",
    "        code=codep1+codep2\n",
    "        prerr(code)\n",
    "        exec(code)\n",
    "\n",
    "\n",
    "        mino=buy_pourcent*0.01\n",
    "        maxo=-sell_pourcent*0.01\n",
    "        codep1='df[\"b30\"]=((('\n",
    "        for i in range(1,30):\n",
    "            codep1=codep1+'df[\"high\"].shift(periods='+str(-i)+', freq=None, axis=0, fill_value=None)-df[\"high\"])/df[\"high\"] >=mino )| (('\n",
    "        codep2='df[\"high\"].shift(periods='+str(-window)+', freq=None, axis=0, fill_value=None)-df[\"high\"])/df[\"high\"] >=mino)).replace({False: 0, True: 1})'\n",
    "        code=codep1+codep2\n",
    "        prerr(code)\n",
    "        exec(code)\n",
    "\n",
    "\n",
    "        mino=buy_pourcent*0.01\n",
    "        maxo=-sell_pourcent*0.01\n",
    "        codep1='df[\"b60\"]=((('\n",
    "        for i in range(1,60):\n",
    "            codep1=codep1+'df[\"high\"].shift(periods='+str(-i)+', freq=None, axis=0, fill_value=None)-df[\"high\"])/df[\"high\"] >=mino )| (('\n",
    "        codep2='df[\"high\"].shift(periods='+str(-window)+', freq=None, axis=0, fill_value=None)-df[\"high\"])/df[\"high\"] >=mino)).replace({False: 0, True: 1})'\n",
    "        code=codep1+codep2\n",
    "        prerr(code)\n",
    "        exec(code)\n",
    "\n",
    "        mino=buy_pourcent*0.01\n",
    "        maxo=-sell_pourcent*0.01\n",
    "        codep1='df[\"b180\"]=((('\n",
    "        for i in range(1,180):\n",
    "            codep1=codep1+'df[\"high\"].shift(periods='+str(-i)+', freq=None, axis=0, fill_value=None)-df[\"high\"])/df[\"high\"] >=mino )| (('\n",
    "        codep2='df[\"high\"].shift(periods='+str(-window)+', freq=None, axis=0, fill_value=None)-df[\"high\"])/df[\"high\"] >=mino)).replace({False: 0, True: 1})'\n",
    "        code=codep1+codep2\n",
    "        prerr(code)\n",
    "        exec(code)\n",
    "    \n",
    "        '''#####\n",
    "\n",
    "        # codep1='df[\"b5p\"]=((('\n",
    "        # for i in range(1,window+5):\n",
    "        #     codep1=codep1+'df[\"high\"].shift(periods='+str(-i)+', freq=None, axis=0, fill_value=None)-df[\"high\"])/df[\"high\"] >=0.005 )| (('\n",
    "        # codep2='df[\"high\"].shift(periods='+str(-window)+', freq=None, axis=0, fill_value=None)-df[\"high\"])/df[\"high\"] >=0.005)).replace({False: 0, True: 1})'\n",
    "        # code=codep1+codep2\n",
    "        # prerr(code)\n",
    "        # exec(code)\n",
    "\n",
    "        # codep1='df[\"b9p\"]=((('\n",
    "        # for i in range(1,window+9):\n",
    "        #     codep1=codep1+'df[\"high\"].shift(periods='+str(-i)+', freq=None, axis=0, fill_value=None)-df[\"high\"])/df[\"high\"] >=0.009 )| (('\n",
    "        # codep2='df[\"high\"].shift(periods='+str(-window)+', freq=None, axis=0, fill_value=None)-df[\"high\"])/df[\"high\"] >=0.009)).replace({False: 0, True: 1})'\n",
    "        # code=codep1+codep2\n",
    "        # prerr(code)\n",
    "        # exec(code)\n",
    "\n",
    "        # codep1='df[\"b15p\"]=((('\n",
    "        # for i in range(1,window+15):\n",
    "        #     codep1=codep1+'df[\"high\"].shift(periods='+str(-i)+', freq=None, axis=0, fill_value=None)-df[\"high\"])/df[\"high\"] >=0.015 )| (('\n",
    "        # codep2='df[\"high\"].shift(periods='+str(-window)+', freq=None, axis=0, fill_value=None)-df[\"high\"])/df[\"high\"] >=0.015)).replace({False: 0, True: 1})'\n",
    "        # code=codep1+codep2\n",
    "        # prerr(code)\n",
    "        # exec(code)\n",
    "\n",
    "\n",
    "\n",
    "\n",
    "\n",
    "\n",
    "        # codep1='df[\"sell\"]=((( '\n",
    "        # for i in range(1,window):\n",
    "        #     codep1=codep1+'df[\"low\"].shift(periods='+str(-i)+', freq=None, axis=0, fill_value=None)-df[\"high\"])/df[\"high\"] <=maxo )& (('\n",
    "        # codep2='df[\"low\"].shift(periods='+str(-window)+', freq=None, axis=0, fill_value=None)-df[\"high\"])/df[\"high\"] <=maxo )).replace({False: 0, True: 1})'\n",
    "        # code=codep1+codep2\n",
    "        # prerr(code)\n",
    "        # exec(code)\n",
    "\n",
    "        # df[\"buy\"]=((df['b']==1 ) & (df['sell']==0)).replace({False: 0, True: 1})\n",
    "        \n",
    "        \n",
    "\n",
    "\n",
    "\n",
    "\n",
    "        #df.pop(\"b\")\n",
    "        #df.pop(\"sell\")\n",
    "        \n",
    "        \n",
    "        # df[\"f1\"]=(df[\"high\"].shift(periods=-1, freq=None, axis=0, fill_value=None)-df[\"high\"])/df[\"high\"]\n",
    "        # df[\"f2\"]=(df[\"high\"].shift(periods=-2, freq=None, axis=0, fill_value=None)-df[\"high\"])/df[\"high\"]\n",
    "        # df[\"f15_p\"]=df[\"high-1_15min\"].shift(periods=-2, freq=None, axis=0, fill_value=None)\n",
    "        # df[\"fh_p\"]=df[\"high-1_hour\"].shift(periods=-2, freq=None, axis=0, fill_value=None)\n",
    "\n",
    "        # df['signal'] = np.where(\n",
    "        # df['high'] >= df.shift(1).rolling(window)['high'].min(), 1,\n",
    "        # np.where(\n",
    "        #     df['low'] >= df.shift(1).rolling(window)['low'].min(), -1,\n",
    "        #     0\n",
    "        # )\n",
    "        # )\n",
    "\n",
    "\n",
    "\n",
    "\n",
    "    #     df['ismin'] = np.where(\n",
    "    #     df['high'] <= df.shift(-window-1).rolling(2*window)['high'].min(), 1,\n",
    "    #    0\n",
    "    #     )\n",
    "    #     df[\"buy\"]=((df['buy']==1 ) & (df['ismin']==1)).replace({False: 0, True: 1})\n",
    "    #     df.pop(\"b\")\n",
    "    #     df.pop(\"ismin\")\n",
    "\n",
    "        \n",
    "\n",
    "    #     df['ismax'] = np.where(\n",
    "    #     df['low'] >= df.shift(1).rolling(window)['low'].min(), 1,\n",
    "    #    0\n",
    "    #     )\n",
    "        \n",
    "        \n",
    "        codep1='df[\"sell\"]=((( '\n",
    "        for i in range(1,window):\n",
    "            codep1=codep1+'df[\"low\"].shift(periods='+str(-i)+', freq=None, axis=0, fill_value=None)-df[\"high\"])/df[\"high\"] <=maxo ) | (('\n",
    "        codep2='df[\"low\"].shift(periods='+str(-window)+', freq=None, axis=0, fill_value=None)-df[\"high\"])/df[\"high\"] <=maxo )).replace({False: 0, True: 1})'\n",
    "        code=codep1+codep2\n",
    "        prerr(code)\n",
    "        exec(code)\n",
    "\n",
    "        df[\"buy\"]=((df['b']==1 ) & (df['sell']==0)).replace({False: 0, True: 1})\n",
    "        \n",
    "        \n",
    "\n",
    "    except Exception as e:\n",
    "        print(\"Error buy only\")\n",
    "        print(e)\n",
    "    p=df.pop(\"b\")\n",
    "    p=df.pop(\"sell\")\n",
    "\n",
    "    return df"
   ]
  },
  {
   "cell_type": "markdown",
   "metadata": {},
   "source": [
    "# Test space"
   ]
  },
  {
   "cell_type": "code",
   "execution_count": null,
   "metadata": {},
   "outputs": [],
   "source": [
    "WINDOW_SIZE=10\n",
    "BUY_PERCENT=1.2\n",
    "SELL_PERCENT=0.2\n",
    "MAX_FORCAST_SIZE=5\n"
   ]
  },
  {
   "cell_type": "code",
   "execution_count": null,
   "metadata": {},
   "outputs": [],
   "source": [
    "dddd=pd.DataFrame()\n",
    "for pair in [\"GMT/USDT\",\"XRP/USDT\",\"RVN/USDT\",\"ETC/USDT\",\"LUNA/USDT\",\"APE/USDT\",\"ETH/USDT\",\"DOGE/USDT\"]:\n",
    "    print( f'===  {pair}  === ')\n",
    "    dtest=mini_expand3(pair=pair,i=0,j=len(df_list1m[pair]),window=1,metadata=MetaData)\n",
    "    #print(f\"  - {BUY_PERCENT}% / {MAX_FORCAST_SIZE}min ==b 0.27%=> \" +str({dtest[\"buy\"].mean()*100}))\n",
    "\n",
    "    print(f\"  - {MAX_FORCAST_SIZE}min ==buy {BUY_PERCENT}%=> \" +str( format(float(dtest[\"buy\"].mean()*100) ,\".2f\")))\n",
    "    #print(f\"  - {MAX_FORCAST_SIZE}min ==sell {SELL_PERCENT}%=> \" +str( format(float(dtest[\"sell\"].mean()*100) ,\".2f\")))\n",
    "\n",
    "\n",
    "    dddd=pd.concat([dtest,dddd],axis=0)\n",
    "\n",
    "\n",
    "print( f'=== ALL === ')\n",
    "  \n",
    "#print(f\"  - {MAX_FORCAST_SIZE}min ==b {SELL_PERCENT}%=> \" +str(format(float(dddd[\"sell\"].mean()*100), \".2f\")))\n",
    "print(f\"  - final buy dessision {MAX_FORCAST_SIZE}min  -  {BUY_PERCENT}% => \" + str( format(float(dddd[\"buy\"].mean()*100), \".2f\")))\n",
    "\n",
    "\n",
    "  \n",
    "  \n",
    "  \n",
    "  \n",
    "  \n",
    "    # print(f\"  - 0.9% / 11min => \" +str( {dtest[\"b9p\"].mean()*100}))\n",
    "    # print(f\"  - 0.5% / 7min => \" +str( {dtest[\"b5p\"].mean()*100}))"
   ]
  },
  {
   "cell_type": "code",
   "execution_count": null,
   "metadata": {},
   "outputs": [],
   "source": [
    "dddd.buy.mean()"
   ]
  },
  {
   "cell_type": "code",
   "execution_count": null,
   "metadata": {},
   "outputs": [],
   "source": [
    "pair='ETH/USDT'\n",
    "pt=mini_expand3(pair,i=0,j=int(len(df_list1m[pair])/2),window=10,metadata=MetaData)"
   ]
  },
  {
   "cell_type": "code",
   "execution_count": null,
   "metadata": {},
   "outputs": [],
   "source": [
    "np.delete(dt, dt[:,1], axis=None)"
   ]
  },
  {
   "cell_type": "code",
   "execution_count": null,
   "metadata": {},
   "outputs": [],
   "source": [
    "buyy=pt.pop(\"buy\")\n",
    "bb=pt.pop(\"b\")\n",
    "bprice=pt.pop(\"price\")"
   ]
  },
  {
   "cell_type": "code",
   "execution_count": null,
   "metadata": {},
   "outputs": [],
   "source": [
    "dt=pt.to_numpy()"
   ]
  },
  {
   "cell_type": "code",
   "execution_count": null,
   "metadata": {},
   "outputs": [],
   "source": [
    "Y=(dt[:,-1]-1)*(-1)\n",
    "dt[:,-1]=Y"
   ]
  },
  {
   "cell_type": "code",
   "execution_count": null,
   "metadata": {},
   "outputs": [],
   "source": [
    "from keras.models import load_model \n",
    "model2=load_model(\"../dontbuy_model_w10_noprice_p1.2.h5\")"
   ]
  },
  {
   "cell_type": "code",
   "execution_count": null,
   "metadata": {},
   "outputs": [],
   "source": [
    "predo=(model2.predict( tf.convert_to_tensor(np.nan_to_num(dt[:, 0:-1],copy=False,nan=0) ,dtype=tf.float32))).round().transpose()[0]\n",
    "False_prediction=dt[:,-1][(predo!=Y[:])]\n",
    "True_prediction=dt[:,-1][(predo==Y[:])]\n",
    "fp0=False_prediction[False_prediction==0].shape[0]*100/dt.shape[0] #### it mean that 11.73 of the 0 class are wrong the buyed witch lead the losses\n",
    "print( f\"Prediction mean :{predo.mean()*100} %\"+'#### the colose to 50 the better')\n",
    "print( f\"False prediction class 0 :{fp0} %\"+'#### it mean that x of the 0 class are wrong the buyed witch lead the losses')\n",
    "fp1=False_prediction[False_prediction==1].shape[0]*100/dt.shape[0]   #### we don't buy x % of the correct chanses\n",
    "print( f\"False prediction class 1 :{fp1} %\"+'#### we don\\'t buy x % of the correct chanses')\n",
    "trp0=True_prediction[True_prediction==0].shape[0]*100/dt.shape[0]   #### it mean that 40 % of class 0 are predicted correctly\n",
    "trp1=True_prediction[True_prediction==1].shape[0]*100/dt.shape[0]     #### the only buying correct of all\n",
    "print( f\"True prediction class 0 :{trp0} %\"+'#### it mean that 40 % of class 0 are predicted correctly')\n",
    "print( f\"True prediction class 1 :{trp1} %\"+'#### the only buying correct of all')\n",
    "print(f\"successful buy pourcent of unsuccessfull: {100*trp1/(trp1+fp1)}  %\")\n"
   ]
  },
  {
   "cell_type": "code",
   "execution_count": null,
   "metadata": {},
   "outputs": [],
   "source": [
    "pt.sell=(pt.sell-1)*(-1)"
   ]
  },
  {
   "cell_type": "code",
   "execution_count": null,
   "metadata": {},
   "outputs": [],
   "source": [
    "price=pt.pop(\"price\")"
   ]
  },
  {
   "cell_type": "code",
   "execution_count": null,
   "metadata": {},
   "outputs": [],
   "source": [
    "dt=pt.to_numpy()"
   ]
  },
  {
   "cell_type": "code",
   "execution_count": null,
   "metadata": {},
   "outputs": [],
   "source": [
    "from keras.models import load_model\n",
    "model2=load_model(\"../dontbuy_model_w10_noprice_p1.2.h5\")"
   ]
  },
  {
   "cell_type": "code",
   "execution_count": null,
   "metadata": {},
   "outputs": [],
   "source": [
    "mm.predict()"
   ]
  },
  {
   "cell_type": "code",
   "execution_count": null,
   "metadata": {},
   "outputs": [],
   "source": [
    "gc.collect()"
   ]
  },
  {
   "cell_type": "markdown",
   "metadata": {},
   "source": [
    "## garbage test"
   ]
  },
  {
   "cell_type": "code",
   "execution_count": null,
   "metadata": {},
   "outputs": [],
   "source": [
    "\n",
    "etc=mini_expand3(pair=\"BTC/USDT\",i=0,j=500000,window=8,metadata=MetaData)"
   ]
  },
  {
   "cell_type": "code",
   "execution_count": null,
   "metadata": {},
   "outputs": [],
   "source": [
    "\n",
    "etc.buy.mean()"
   ]
  },
  {
   "cell_type": "code",
   "execution_count": null,
   "metadata": {},
   "outputs": [],
   "source": [
    "etc_np=etc.iloc[:,0:-10].reset_index().reset_index().drop(columns=\"date\").to_numpy()"
   ]
  },
  {
   "cell_type": "code",
   "execution_count": null,
   "metadata": {},
   "outputs": [],
   "source": [
    "np.nan_to_num(etc_np)\n",
    "\n",
    "etc_np=tf.convert_to_tensor(etc_np, dtype=tf.float32)"
   ]
  },
  {
   "cell_type": "code",
   "execution_count": null,
   "metadata": {},
   "outputs": [],
   "source": [
    "model=tf.keras.models.load_model(Model_FileName)\n",
    "etc[\"prediction\"]=model.predict(etc_np).round()"
   ]
  },
  {
   "cell_type": "code",
   "execution_count": null,
   "metadata": {},
   "outputs": [],
   "source": [
    "etc[(etc.b60==0)&(etc.prediction==1)]"
   ]
  },
  {
   "cell_type": "code",
   "execution_count": null,
   "metadata": {},
   "outputs": [],
   "source": [
    "round(etc.iloc[:2,0:-11])"
   ]
  },
  {
   "cell_type": "code",
   "execution_count": null,
   "metadata": {},
   "outputs": [],
   "source": [
    "etc[0:1]"
   ]
  },
  {
   "cell_type": "code",
   "execution_count": null,
   "metadata": {},
   "outputs": [],
   "source": [
    "del etc"
   ]
  },
  {
   "cell_type": "markdown",
   "metadata": {},
   "source": [
    "# Start Data genration Process"
   ]
  },
  {
   "cell_type": "code",
   "execution_count": null,
   "metadata": {},
   "outputs": [],
   "source": [
    "if  False:\n",
    "    ww=WINDOW_SIZE\n",
    "    gc.collect()\n",
    "    df=data_looper_fast(pair_list=Binance_USDT_HALAL,window=WINDOW_SIZE,buy_weight=50,sample_size=SAMPLE_SIZE,min_days=0,buffer_size=BUFFER_SIZE)\n",
    "    # Test Data:\n",
    "    # df=data_looper_fast(pair_list=Binance_USDT_HALAL[50:80],window=WINDOW_SIZE,buy_weight=10,sample_size=SAMPLE_SIZE*3,min_days=0,buffer_size=BUFFER_SIZE)\n",
    "    gc.collect()\n",
    "    #df=volume_cleaner(df)\n",
    "    #df=data_shufler(df)\n",
    "    #df=df.reindex(np.random.permutation(df.index))\n",
    "    #df=df.reindex(np.random.permutation(df.index))\n",
    "    time.sleep(3)\n",
    "    gc.collect()\n",
    "    print('################### reindexing and shufling ###############')\n",
    "    df=df.reset_index().drop(columns=\"num_index\")\n",
    "    gc.collect()\n",
    "    for i in range(1):\n",
    "        df = df.reindex(np.random.permutation(df.index)).reset_index().drop(columns=\"index\")\n",
    "        gc.collect()\n",
    "    print('################### Cleaning Null values ###############')\n",
    "    df=df.dropna()\n",
    "    print(df)\n",
    "# else:\n",
    "#     if TESTING_MOD:\n",
    "#         df_testing=data_looper_fast(pair_list=Binance_USDT_HALAL[70:90],window=WINDOW_SIZE,buy_weight=10,sample_size=SAMPLE_SIZE,min_days=0,buffer_size=BUFFER_SIZE)\n",
    "#         df_testing=df_testing[~df_testing.isna().any(axis=1)]"
   ]
  },
  {
   "cell_type": "code",
   "execution_count": null,
   "metadata": {},
   "outputs": [],
   "source": [
    "#pair_list=Binance_USDT_HALAL[:20]\n",
    "pair_list=Binance_USDT_HALAL[0:55]\n",
    "window=WINDOW_SIZE\n",
    "buy_weight=50\n",
    "sample_size=50000\n",
    "min_days=1\n",
    "buffer_size=BUFFER_SIZE\n",
    "xdf=pd.DataFrame()\n",
    "count=0\n",
    "for pair in pair_list:\n",
    "    if pair != \"BTC/USDT\":\n",
    "        print(\"working on: \"+pair ,end=\" -->\")\n",
    "        try:\n",
    "            df=mini_expand3(pair=pair,i=0,j=len(df_list1m[pair]),window=window,metadata=MetaData)\n",
    "            gc.collect()\n",
    "            count+=1\n",
    "            df=df.reset_index()\n",
    "            try:df.pop(\"num_index\")\n",
    "            except: pass\n",
    "            try:df.pop(\"index\")\n",
    "            except: pass\n",
    "            try:df.pop(\"date\")\n",
    "            except: pass\n",
    "            df=data_shufler(df)            \n",
    "            df=data_chooser(df,weight=buy_weight,row_numbers=sample_size)\n",
    "            gc.collect()\n",
    "            df=data_cleanup(df)\n",
    "            print(pair+f\" is processed -- {count}/{len(pair_list)}\")\n",
    "        except Exception as e:\n",
    "            print(f\"error while processing {pair} {count}/{len(pair_list)}\")\n",
    "            print(e)\n",
    "        xdf=pd.concat([xdf,df],axis=0)\n",
    "        del(df)\n",
    "        gc.collect()\n",
    "df=xdf\n",
    "del xdf\n",
    "for i in range(1):\n",
    "    try:df=df.reset_index() \n",
    "    except: pass\n",
    "    try:df.pop(\"num_index\")\n",
    "    except: pass\n",
    "    try:df.pop(\"index\")\n",
    "    except: pass\n",
    "    df=df.reset_index()    \n",
    "    gc.collect()\n",
    "    df = df.reindex(np.random.permutation(df.index))\n",
    "    try:df.pop(\"index\")\n",
    "    except: pass\n",
    "    gc.collect()\n",
    "    df=df.reset_index()\n",
    "try:df.pop(\"index\")\n",
    "except: pass\n",
    "    \n",
    "gc.collect()\n"
   ]
  },
  {
   "cell_type": "code",
   "execution_count": null,
   "metadata": {},
   "outputs": [],
   "source": [
    "df.to_feather(f\"../Data/fea/w{WINDOW_SIZE}_buy{BUY_PERCENT}_p1.fea\")"
   ]
  },
  {
   "cell_type": "code",
   "execution_count": null,
   "metadata": {},
   "outputs": [],
   "source": [
    "try:del df\n",
    "except:pass\n",
    "gc.collect()\n",
    "pair_list=Binance_USDT_HALAL[55:]\n",
    "window=WINDOW_SIZE\n",
    "buy_weight=50\n",
    "sample_size=50000\n",
    "min_days=1\n",
    "buffer_size=BUFFER_SIZE\n",
    "xdf=pd.DataFrame()\n",
    "count=0\n",
    "for pair in pair_list:\n",
    "    if pair != \"BTC/USDT\":\n",
    "        print(\"working on: \"+pair ,end=\" -->\")\n",
    "        try:\n",
    "            df=mini_expand3(pair=pair,i=0,j=len(df_list1m[pair]),window=window,metadata=MetaData)\n",
    "            gc.collect()\n",
    "            count+=1\n",
    "            df=df.reset_index()\n",
    "            try:df.pop(\"num_index\")\n",
    "            except: pass\n",
    "            try:df.pop(\"index\")\n",
    "            except: pass\n",
    "            try:df.pop(\"date\")\n",
    "            except: pass\n",
    "            df=data_shufler(df)            \n",
    "            df=data_chooser(df,weight=buy_weight,row_numbers=sample_size)\n",
    "            gc.collect()\n",
    "            df=data_cleanup(df)\n",
    "            print(pair+f\" is processed -- {count}/{len(pair_list)}\")\n",
    "        except Exception as e:\n",
    "            print(f\"error while processing {pair} {count}/{len(pair_list)}\")\n",
    "            print(e)\n",
    "        xdf=pd.concat([xdf,df],axis=0)\n",
    "        del(df)\n",
    "        gc.collect()\n",
    "df=xdf\n",
    "del xdf\n",
    "for i in range(1):\n",
    "    try:df=df.reset_index() \n",
    "    except: pass\n",
    "    try:df.pop(\"num_index\")\n",
    "    except: pass\n",
    "    try:df.pop(\"index\")\n",
    "    except: pass\n",
    "    df=df.reset_index()    \n",
    "    gc.collect()\n",
    "    df = df.reindex(np.random.permutation(df.index))\n",
    "    try:df.pop(\"index\")\n",
    "    except: pass\n",
    "    gc.collect()\n",
    "    df=df.reset_index()\n",
    "try:df.pop(\"index\")\n",
    "except: pass\n",
    "    \n",
    "gc.collect()\n"
   ]
  },
  {
   "cell_type": "code",
   "execution_count": null,
   "metadata": {},
   "outputs": [],
   "source": [
    "df.to_feather(f\"../Data/fea/w{WINDOW_SIZE}_buy{BUY_PERCENT}_p2.fea\")"
   ]
  },
  {
   "cell_type": "code",
   "execution_count": null,
   "metadata": {},
   "outputs": [],
   "source": [
    "df1=pd.read_feather(f\"../Data/fea/w{WINDOW_SIZE}_buy{BUY_PERCENT}_p1.fea\")"
   ]
  },
  {
   "cell_type": "code",
   "execution_count": null,
   "metadata": {},
   "outputs": [],
   "source": [
    "df2=pd.read_feather(f\"../Data/fea/w{WINDOW_SIZE}_buy{BUY_PERCENT}_p2.fea\")"
   ]
  },
  {
   "cell_type": "code",
   "execution_count": null,
   "metadata": {},
   "outputs": [],
   "source": [
    "df.to_feather(f\"../Data/fea/w{WINDOW_SIZE}_buy{BUY_PERCENT}_full.fea\")"
   ]
  },
  {
   "cell_type": "code",
   "execution_count": null,
   "metadata": {},
   "outputs": [],
   "source": [
    "df=pd.read_feather(f\"../Data/fea/w{WINDOW_SIZE}_buy{BUY_PERCENT}_full.fea\")"
   ]
  },
  {
   "cell_type": "code",
   "execution_count": 4,
   "metadata": {},
   "outputs": [],
   "source": [
    "def get_from_fea(file=f\"../Data/fea/w{WINDOW_SIZE}_buy{BUY_PERCENT}_full.fea\",nrows=2000000,srows=0):\n",
    "    return pd.read_feather(file).drop(columns=[\"index\",\"price\"])[srows:nrows+srows].copy()\n",
    "dt=get_from_fea(file=f\"../Data/fea/w{WINDOW_SIZE}_buy{BUY_PERCENT}_full.fea\",nrows=500000,srows=0).to_numpy(dtype=np.float32)"
   ]
  },
  {
   "cell_type": "code",
   "execution_count": null,
   "metadata": {},
   "outputs": [],
   "source": [
    "np.save(f\"../Data/np/w{WINDOW_SIZE}_buy{BUY_PERCENT}_full_normalized.npy\",dt)"
   ]
  },
  {
   "cell_type": "code",
   "execution_count": null,
   "metadata": {},
   "outputs": [],
   "source": [
    "dt=np.load(f\"../Data/np/w{WINDOW_SIZE}_buy{BUY_PERCENT}_full_normalized.npy\",allow_pickle=True)"
   ]
  },
  {
   "cell_type": "code",
   "execution_count": null,
   "metadata": {},
   "outputs": [],
   "source": [
    "np.nan_to_num(dt, copy=False, nan=0.0, posinf=None, neginf=None)"
   ]
  },
  {
   "cell_type": "code",
   "execution_count": null,
   "metadata": {},
   "outputs": [],
   "source": [
    "gc.collect()"
   ]
  },
  {
   "cell_type": "code",
   "execution_count": null,
   "metadata": {},
   "outputs": [],
   "source": [
    "df.pop(\"index\")\n",
    "prices=df.pop(\"price\")"
   ]
  },
  {
   "cell_type": "code",
   "execution_count": null,
   "metadata": {},
   "outputs": [],
   "source": [
    "gc.collect()"
   ]
  },
  {
   "cell_type": "code",
   "execution_count": null,
   "metadata": {},
   "outputs": [],
   "source": [
    "if  not JUST_IMPORT_DATA:\n",
    "    print(\"saveing the file\")\n",
    "    df.to_csv(DATA_FILE+\"buy07.csv\",index=False)\n",
    "    # dffull=df\n",
    "    print(df)"
   ]
  },
  {
   "cell_type": "code",
   "execution_count": null,
   "metadata": {},
   "outputs": [],
   "source": [
    "df[111:121]"
   ]
  },
  {
   "cell_type": "code",
   "execution_count": null,
   "metadata": {},
   "outputs": [],
   "source": [
    "df.buy.mean()"
   ]
  },
  {
   "cell_type": "code",
   "execution_count": null,
   "metadata": {},
   "outputs": [],
   "source": [
    "if JUST_IMPORT_DATA:\n",
    "    df=pd.read_csv(DATA_FILE,nrows=20000)\n",
    "    # df=dffull"
   ]
  },
  {
   "cell_type": "code",
   "execution_count": null,
   "metadata": {},
   "outputs": [],
   "source": [
    "df[df.price==4724.285]"
   ]
  },
  {
   "cell_type": "code",
   "execution_count": null,
   "metadata": {},
   "outputs": [],
   "source": [
    "dtest=mini_expand3(pair=\"ETH/USDT\",i=0,j=len(df_list1m[\"ETH/USDT\"]),window=1,metadata=MetaData)"
   ]
  },
  {
   "cell_type": "code",
   "execution_count": null,
   "metadata": {},
   "outputs": [],
   "source": [
    "dtest[dtest.price==4724.285]"
   ]
  },
  {
   "cell_type": "code",
   "execution_count": null,
   "metadata": {},
   "outputs": [],
   "source": [
    "df.shape"
   ]
  },
  {
   "cell_type": "code",
   "execution_count": null,
   "metadata": {},
   "outputs": [],
   "source": [
    "df=df.dropna()"
   ]
  },
  {
   "cell_type": "code",
   "execution_count": null,
   "metadata": {},
   "outputs": [],
   "source": [
    "gc.collect()"
   ]
  },
  {
   "cell_type": "code",
   "execution_count": null,
   "metadata": {},
   "outputs": [],
   "source": [
    "df.buy.mean()"
   ]
  },
  {
   "cell_type": "code",
   "execution_count": null,
   "metadata": {},
   "outputs": [],
   "source": [
    "dt=pd.read_csv(DATA_FILE).dropna().drop(columns=\"price\").to_numpy() # no price\n"
   ]
  },
  {
   "cell_type": "code",
   "execution_count": null,
   "metadata": {},
   "outputs": [],
   "source": [
    "orgY=dt[:,-1].copy()\n",
    "dt[:,-1]=(dt[:,-1]-1)*(-1)"
   ]
  },
  {
   "cell_type": "markdown",
   "metadata": {},
   "source": [
    "# Part 2: Training\n"
   ]
  },
  {
   "cell_type": "markdown",
   "metadata": {},
   "source": [
    "## Testing impoted DATA"
   ]
  },
  {
   "cell_type": "markdown",
   "metadata": {},
   "source": [
    "# starting numpy process"
   ]
  },
  {
   "cell_type": "markdown",
   "metadata": {},
   "source": [
    "## convert Pandas DataFrame to numpy object"
   ]
  },
  {
   "cell_type": "code",
   "execution_count": null,
   "metadata": {},
   "outputs": [],
   "source": [
    "#df=df.dropna()\n",
    "gc.collect()\n",
    "dt = df.to_numpy()\n",
    "#dt=tf.convert_to_tensor(dt, dtype=tf.float32)\n",
    "#dt = df.iloc[0:int(len(df/1.5))].to_numpy()\n",
    "#dt = np.concatenate((dt,df.iloc[int(len(df/2)):].to_numpy()),axis=0)\n"
   ]
  },
  {
   "cell_type": "code",
   "execution_count": null,
   "metadata": {
    "notebookRunGroups": {
     "groupValue": "1"
    }
   },
   "outputs": [],
   "source": [
    "del df"
   ]
  },
  {
   "cell_type": "code",
   "execution_count": null,
   "metadata": {},
   "outputs": [],
   "source": [
    "gc.collect()"
   ]
  },
  {
   "cell_type": "code",
   "execution_count": null,
   "metadata": {},
   "outputs": [],
   "source": [
    "# goodcsv='/UltimeTradingBot/Data/csv/W20F4minP35.csv'\n",
    "\n",
    "# dt=pd.read_csv(goodcsv).sample(frac=1,random_state=2).to_numpy()"
   ]
  },
  {
   "cell_type": "code",
   "execution_count": null,
   "metadata": {},
   "outputs": [],
   "source": [
    "# del dffull\n",
    "# df=df.iloc[int(len(df/1.5)):]\n",
    "# gc.collect()\n",
    "print(dt.shape)"
   ]
  },
  {
   "cell_type": "code",
   "execution_count": null,
   "metadata": {},
   "outputs": [],
   "source": [
    "dt[:,-1].mean()"
   ]
  },
  {
   "cell_type": "code",
   "execution_count": null,
   "metadata": {},
   "outputs": [],
   "source": [
    "np.nan_to_num(dt)"
   ]
  },
  {
   "cell_type": "code",
   "execution_count": null,
   "metadata": {},
   "outputs": [],
   "source": [
    "dt.shape\n",
    "\n"
   ]
  },
  {
   "cell_type": "code",
   "execution_count": null,
   "metadata": {},
   "outputs": [],
   "source": [
    "#dt=np.genfromtxt('np_shuffled_cryptodata_w15.csv', delimiter=',')\n",
    "index_20percent= int(0.5*df.shape[0])\n",
    "print(index_20percent)\n",
    "# XVALIDATION= df.iloc[:index_20percent, :-1]\n",
    "# YVALIDATION= df.iloc[:index_20percent,-1]\n",
    "# XTRAIN= df.iloc[index_20percent:, 0:-1]\n",
    "# YTRAIN= df.iloc[index_20percent:,-1]"
   ]
  },
  {
   "cell_type": "code",
   "execution_count": null,
   "metadata": {},
   "outputs": [],
   "source": [
    "#### PANDAS DIRECT NORMALIZATION #####\n",
    "if True:\n",
    "    #if FIRST_NORM_FLAG:\n",
    "    if True:\n",
    "        print(\"normalizing ...\")\n",
    "        mean = df.iloc[index_20percent:, 0:-1].mean(axis=0)\n",
    "        gc.collect()\n",
    "        std = df.iloc[index_20percent:, 0:-1].std(axis=0)\n",
    "        gc.collect()\n",
    "\n",
    "\n",
    "        # df.iloc[:, 0:-1] -= mean \n",
    "        # df.iloc[:, 0:-1] /= std\n",
    "\n",
    "        # XVALIDATION -=mean\n",
    "        # XVALIDATION /= std\n",
    "        FIRST_NORM_FLAG=False\n",
    "        ######################### SAVIN NORM ################\n",
    "        try:\n",
    "            Normalization={\"mean\":mean.tolist(),\"std\":std.tolist()}\n",
    "            with open(Normalization_File, 'w+') as fp:\n",
    "                        json.dump(Normalization, fp,  indent=4)\n",
    "                        print(Normalization_File)\n",
    "        except:\n",
    "            print(\"error Normalization in juppiter\")\n",
    "    else:print(\"already normalized\")\n",
    "\n"
   ]
  },
  {
   "cell_type": "code",
   "execution_count": null,
   "metadata": {},
   "outputs": [],
   "source": [
    "with open(Normalization_File) as json_file:\n",
    "                print(Normalization_File)\n",
    "                Normalization = json.load(json_file)\n",
    "                mean=np.array(Normalization[\"mean\"])\n",
    "                std=np.array(Normalization[\"std\"])"
   ]
  },
  {
   "cell_type": "code",
   "execution_count": null,
   "metadata": {},
   "outputs": [],
   "source": [
    "std.shape"
   ]
  },
  {
   "cell_type": "code",
   "execution_count": null,
   "metadata": {},
   "outputs": [],
   "source": [
    "\n",
    "gc.collect()\n",
    "df.iloc[:1000000, 0:-1] -= Normalization[\"mean\"]\n",
    "gc.collect()\n",
    "\n",
    "df.iloc[:1000000, 0:-1] /= Normalization[\"std\"]"
   ]
  },
  {
   "cell_type": "code",
   "execution_count": null,
   "metadata": {},
   "outputs": [],
   "source": [
    "df.to_feather(f\"../Data/fea/w{WINDOW_SIZE}_buy{BUY_PERCENT}_noprice_normalized.fea\")"
   ]
  },
  {
   "cell_type": "code",
   "execution_count": 5,
   "metadata": {},
   "outputs": [
    {
     "name": "stdout",
     "output_type": "stream",
     "text": [
      "250000\n"
     ]
    }
   ],
   "source": [
    "index_20percent= int(0.5*len(dt[:,0]))\n",
    "print(index_20percent)"
   ]
  },
  {
   "cell_type": "code",
   "execution_count": 6,
   "metadata": {},
   "outputs": [],
   "source": [
    "XVALIDATION= dt[:index_20percent, :-1]\n",
    "YVALIDATION= dt[:index_20percent,-1]\n"
   ]
  },
  {
   "cell_type": "code",
   "execution_count": 7,
   "metadata": {},
   "outputs": [],
   "source": [
    "XTRAIN= dt[index_20percent:, 0:-1]\n",
    "YTRAIN= dt[index_20percent:,-1]"
   ]
  },
  {
   "cell_type": "code",
   "execution_count": null,
   "metadata": {},
   "outputs": [],
   "source": [
    "dt[0,0]"
   ]
  },
  {
   "cell_type": "code",
   "execution_count": null,
   "metadata": {},
   "outputs": [],
   "source": [
    "dt[0,0]"
   ]
  },
  {
   "cell_type": "code",
   "execution_count": null,
   "metadata": {},
   "outputs": [],
   "source": [
    "del dt"
   ]
  },
  {
   "cell_type": "code",
   "execution_count": null,
   "metadata": {},
   "outputs": [],
   "source": [
    "df[0:1]"
   ]
  },
  {
   "cell_type": "markdown",
   "metadata": {},
   "source": [
    "## Normalization"
   ]
  },
  {
   "cell_type": "code",
   "execution_count": null,
   "metadata": {},
   "outputs": [],
   "source": [
    "import gc\n",
    "gc.collect()"
   ]
  },
  {
   "cell_type": "markdown",
   "metadata": {},
   "source": [
    "Tenderalization (mean normalization)"
   ]
  },
  {
   "cell_type": "code",
   "execution_count": null,
   "metadata": {},
   "outputs": [],
   "source": [
    "\n",
    "if True:\n",
    "    #if FIRST_NORM_FLAG:\n",
    "    if True:\n",
    "        print(\"normalizing ...\")\n",
    "        mean = XTRAIN.mean(axis=0)\n",
    "        std = XTRAIN.std(axis=0)\n",
    "\n",
    "\n",
    "\n",
    "        XTRAIN -= mean \n",
    "        XTRAIN /= std\n",
    "\n",
    "        XVALIDATION -=mean\n",
    "        XVALIDATION /= std\n",
    "        FIRST_NORM_FLAG=False\n",
    "        ######################### SAVIN NORM ################\n",
    "        try:\n",
    "            Normalization={\"mean\":mean.tolist(),\"std\":std.tolist()}\n",
    "            with open(Normalization_File, 'w+') as fp:\n",
    "                        json.dump(Normalization, fp,  indent=4)\n",
    "                        print(Normalization_File)\n",
    "        except:\n",
    "            print(\"error Normalization in juppiter\")\n",
    "    else:print(\"already normalized\")\n",
    "\n"
   ]
  },
  {
   "cell_type": "code",
   "execution_count": null,
   "metadata": {},
   "outputs": [],
   "source": [
    "dt[:,:-1] -= mean \n",
    "dt[:,:-1] /= std"
   ]
  },
  {
   "cell_type": "code",
   "execution_count": null,
   "metadata": {},
   "outputs": [],
   "source": [
    "with open(Normalization_File, 'w+') as fp:\n",
    "        json.dump(Normalization, fp,  indent=4)\n",
    "        print(Normalization_File)"
   ]
  },
  {
   "cell_type": "code",
   "execution_count": 10,
   "metadata": {},
   "outputs": [
    {
     "name": "stdout",
     "output_type": "stream",
     "text": [
      "/UltimeTradingBot/Data/tp120_w10_max5min_Norm_v1.json\n",
      "normalizing ...\n"
     ]
    }
   ],
   "source": [
    "################## V2 Testing ######################\n",
    "\n",
    "TESTING_MOD=True\n",
    "# Normalization\n",
    "if TESTING_MOD:\n",
    "    with open(Normalization_File) as json_file:\n",
    "                print(Normalization_File)\n",
    "                Normalization = json.load(json_file)\n",
    "                mean=np.array(Normalization[\"mean\"])\n",
    "                std=np.array(Normalization[\"std\"])\n",
    "# mean=np.array(Normalization[\"mean\"])\n",
    "\n",
    "if  TESTING_MOD:\n",
    "    if FIRST_NORM_FLAG:\n",
    "        print(\"normalizing ...\")\n",
    "        dt[:,0:-1] -= Normalization[\"mean\"] \n",
    "        dt[:,0:-1] /= Normalization[\"std\"] \n",
    "\n",
    "    \n",
    "        FIRST_NORM_FLAG=False\n",
    "        FIRST_NORM_FLAG=False\n",
    "    else:print(\"already normalized\")\n"
   ]
  },
  {
   "cell_type": "code",
   "execution_count": null,
   "metadata": {},
   "outputs": [],
   "source": [
    "print(Normalization_File)"
   ]
  },
  {
   "cell_type": "code",
   "execution_count": null,
   "metadata": {},
   "outputs": [],
   "source": [
    "print(XTRAIN.shape)\n",
    "print(YTRAIN.shape)\n",
    "print(XVALIDATION.shape)\n",
    "print(YVALIDATION.shape)"
   ]
  },
  {
   "cell_type": "markdown",
   "metadata": {},
   "source": [
    "# Neural network model"
   ]
  },
  {
   "cell_type": "markdown",
   "metadata": {},
   "source": [
    "## Model Test"
   ]
  },
  {
   "cell_type": "markdown",
   "metadata": {},
   "source": [
    "## Compile the model "
   ]
  },
  {
   "cell_type": "code",
   "execution_count": null,
   "metadata": {},
   "outputs": [],
   "source": [
    "# if True:\n",
    "#     IN_DIM=len(mean)\n",
    "# #     model = Sequential()\n",
    "# #     model.add(Dense(int(IN_DIM/2),input_dim=IN_DIM,activation='relu'))\n",
    "# #     model.add(Dropout(0.5))\n",
    "# #     model.add(Dense(int(IN_DIM/4),activation='relu'))\n",
    "# # #    model.add(Dropout(0.7))\n",
    "# #     model.add(Dense(8,activation='relu'))\n",
    "# # #    model.add(Dropout(0.7))\n",
    "# #     model.add(Dense(1,activation='sigmoid'))\n",
    "#     model = Sequential()\n",
    "#     model.add(Dense(IN_DIM,input_dim=IN_DIM,activation='relu'))\n",
    "#     model.add(Dense(100,activation='tanh'))\n",
    "#     model.add(Dense(100,activation='relu'))\n",
    "#     model.add(Dense(40,activation='relu'))\n",
    "#     model.add(Dense(40,activation='relu'))\n",
    "#     model.add(Dense(40,activation='relu'))\n",
    "# #    model.add(Dense(10,activation='relu'))\n",
    "# #    model.add(Dropout(0.5))\n",
    "# #    model.add(Dense(20,activation='relu'))\n",
    "# #    model.add(Dropout(0.7))\n",
    "#     model.add(Dense(4,activation='relu'))\n",
    "# #    model.add(Dropout(0.7))\n",
    "#     model.add(Dense(1,activation='sigmoid'))\n",
    "#     print(model.summary())\n",
    "#     model.compile(loss='binary_crossentropy',optimizer='adam',metrics=['accuracy'])\n",
    "#     callbacks_a = ModelCheckpoint(filepath=Model_FileName,monitor ='val_accuracy',save_best_only = True, save_weights = True)\n",
    "#     callbacks_b = EarlyStopping(monitor ='accuracy',mode='auto',patience=50,verbose=1)\n",
    "#     history = model.fit(XTRAIN,\n",
    "#                     YTRAIN,\n",
    "#                     validation_data=(XVALIDATION,YVALIDATION),\n",
    "#                     epochs=6000,\n",
    "#                     batch_size=128*50,\n",
    "#                     callbacks=[callbacks_a,callbacks_b])\n",
    "\n",
    "#     print('##########################################################################')\n",
    "#     print(f\"------val_accuracy-----> {'{0:.4g}'.format(max(history.history['val_accuracy'])*100)} | {'{0:.4g}'.format(max(history.history['accuracy'])*100)} <----------accuracy----------\")\n",
    "#     #94%"
   ]
  },
  {
   "cell_type": "code",
   "execution_count": null,
   "metadata": {},
   "outputs": [],
   "source": [
    "from tensorflow.keras.models import load_model\n",
    "model2=load_model(Model_FileName+f\"1.dropout0.5.onelayer.h5\")\n"
   ]
  },
  {
   "cell_type": "code",
   "execution_count": null,
   "metadata": {},
   "outputs": [],
   "source": [
    "model2.evaluate(XTRAIN,YTRAIN)"
   ]
  },
  {
   "cell_type": "code",
   "execution_count": 8,
   "metadata": {},
   "outputs": [],
   "source": [
    "Y=dt[:,-1]"
   ]
  },
  {
   "cell_type": "code",
   "execution_count": 11,
   "metadata": {},
   "outputs": [],
   "source": [
    "del model2"
   ]
  },
  {
   "cell_type": "code",
   "execution_count": null,
   "metadata": {},
   "outputs": [],
   "source": [
    "PRED=model2.predict(dt[:,:-1]).round()"
   ]
  },
  {
   "cell_type": "code",
   "execution_count": null,
   "metadata": {},
   "outputs": [],
   "source": [
    "REAL_PRED=np.array(((PRED[:,0]==1) & (Y==1)),dtype=float)"
   ]
  },
  {
   "cell_type": "code",
   "execution_count": null,
   "metadata": {},
   "outputs": [],
   "source": [
    "REAL_PRED.mean()"
   ]
  },
  {
   "cell_type": "code",
   "execution_count": null,
   "metadata": {},
   "outputs": [],
   "source": [
    "dt[:,-1]=REAL_PRED"
   ]
  },
  {
   "cell_type": "code",
   "execution_count": null,
   "metadata": {},
   "outputs": [],
   "source": [
    "dt[:,-1].mean()"
   ]
  },
  {
   "cell_type": "code",
   "execution_count": null,
   "metadata": {},
   "outputs": [],
   "source": [
    "del model2"
   ]
  },
  {
   "cell_type": "code",
   "execution_count": 13,
   "metadata": {},
   "outputs": [
    {
     "name": "stdout",
     "output_type": "stream",
     "text": [
      "first time or error\n",
      "Model: \"sequential_2\"\n",
      "_________________________________________________________________\n",
      " Layer (type)                Output Shape              Param #   \n",
      "=================================================================\n",
      " dense_8 (Dense)             (None, 100)               40600     \n",
      "                                                                 \n",
      " dropout_2 (Dropout)         (None, 100)               0         \n",
      "                                                                 \n",
      " dense_9 (Dense)             (None, 20)                2020      \n",
      "                                                                 \n",
      " dense_10 (Dense)            (None, 5)                 105       \n",
      "                                                                 \n",
      " dense_11 (Dense)            (None, 1)                 6         \n",
      "                                                                 \n",
      "=================================================================\n",
      "Total params: 42,731\n",
      "Trainable params: 42,731\n",
      "Non-trainable params: 0\n",
      "_________________________________________________________________\n",
      "None\n",
      "Epoch 1/6000\n",
      "3/3 [==============================] - 3s 1s/step - loss: 0.9764 - accuracy: 0.4048 - val_loss: 0.7340 - val_accuracy: 0.4264\n",
      "Epoch 2/6000\n",
      "3/3 [==============================] - 1s 541ms/step - loss: 0.7819 - accuracy: 0.4403 - val_loss: 0.6965 - val_accuracy: 0.5429\n",
      "Epoch 3/6000\n",
      "3/3 [==============================] - 1s 525ms/step - loss: 0.7227 - accuracy: 0.5006 - val_loss: 0.6905 - val_accuracy: 0.5902\n",
      "Epoch 4/6000\n",
      "3/3 [==============================] - 1s 522ms/step - loss: 0.7024 - accuracy: 0.5460 - val_loss: 0.6873 - val_accuracy: 0.6003\n",
      "Epoch 5/6000\n",
      "3/3 [==============================] - 1s 512ms/step - loss: 0.6940 - accuracy: 0.5731 - val_loss: 0.6828 - val_accuracy: 0.6022\n",
      "Epoch 6/6000\n",
      "3/3 [==============================] - 1s 532ms/step - loss: 0.6857 - accuracy: 0.5875 - val_loss: 0.6762 - val_accuracy: 0.6032\n",
      "Epoch 7/6000\n",
      "3/3 [==============================] - 1s 525ms/step - loss: 0.6796 - accuracy: 0.5930 - val_loss: 0.6684 - val_accuracy: 0.6033\n",
      "Epoch 8/6000\n",
      "3/3 [==============================] - 1s 524ms/step - loss: 0.6734 - accuracy: 0.5982 - val_loss: 0.6611 - val_accuracy: 0.6032\n",
      "Epoch 9/6000\n",
      "3/3 [==============================] - 1s 512ms/step - loss: 0.6680 - accuracy: 0.5994 - val_loss: 0.6560 - val_accuracy: 0.6029\n",
      "Epoch 10/6000\n",
      "3/3 [==============================] - 1s 518ms/step - loss: 0.6641 - accuracy: 0.6006 - val_loss: 0.6531 - val_accuracy: 0.6025\n",
      "Epoch 11/6000\n",
      "3/3 [==============================] - 1s 521ms/step - loss: 0.6610 - accuracy: 0.6019 - val_loss: 0.6512 - val_accuracy: 0.6026\n",
      "Epoch 12/6000\n",
      "3/3 [==============================] - 1s 509ms/step - loss: 0.6595 - accuracy: 0.6018 - val_loss: 0.6499 - val_accuracy: 0.6025\n",
      "Epoch 13/6000\n",
      "3/3 [==============================] - 1s 528ms/step - loss: 0.6575 - accuracy: 0.6031 - val_loss: 0.6487 - val_accuracy: 0.6023\n",
      "Epoch 14/6000\n",
      "3/3 [==============================] - 1s 519ms/step - loss: 0.6561 - accuracy: 0.6031 - val_loss: 0.6475 - val_accuracy: 0.6023\n",
      "Epoch 15/6000\n",
      "3/3 [==============================] - 1s 514ms/step - loss: 0.6539 - accuracy: 0.6036 - val_loss: 0.6464 - val_accuracy: 0.6022\n",
      "Epoch 16/6000\n",
      "3/3 [==============================] - 1s 526ms/step - loss: 0.6533 - accuracy: 0.6036 - val_loss: 0.6453 - val_accuracy: 0.6023\n",
      "Epoch 17/6000\n",
      "3/3 [==============================] - 1s 508ms/step - loss: 0.6516 - accuracy: 0.6037 - val_loss: 0.6441 - val_accuracy: 0.6023\n",
      "Epoch 18/6000\n",
      "3/3 [==============================] - 1s 531ms/step - loss: 0.6508 - accuracy: 0.6029 - val_loss: 0.6430 - val_accuracy: 0.6024\n",
      "Epoch 19/6000\n",
      "3/3 [==============================] - 2s 559ms/step - loss: 0.6500 - accuracy: 0.6040 - val_loss: 0.6419 - val_accuracy: 0.6024\n",
      "Epoch 20/6000\n",
      "3/3 [==============================] - 2s 562ms/step - loss: 0.6483 - accuracy: 0.6045 - val_loss: 0.6408 - val_accuracy: 0.6025\n",
      "Epoch 21/6000\n",
      "3/3 [==============================] - 2s 569ms/step - loss: 0.6475 - accuracy: 0.6050 - val_loss: 0.6398 - val_accuracy: 0.6026\n",
      "Epoch 22/6000\n",
      "3/3 [==============================] - 2s 565ms/step - loss: 0.6467 - accuracy: 0.6038 - val_loss: 0.6390 - val_accuracy: 0.6028\n",
      "Epoch 22: early stopping\n",
      "##########################################################################\n",
      "------val_accuracy-----> 60.33 | 60.5 <----------accuracy----------\n",
      "15625/15625 [==============================] - 24s 2ms/step\n",
      "--------------------Real prediction mean: 0.002868 ---------------------------\n",
      "Model: \"sequential_3\"\n",
      "_________________________________________________________________\n",
      " Layer (type)                Output Shape              Param #   \n",
      "=================================================================\n",
      " dense_12 (Dense)            (None, 100)               40600     \n",
      "                                                                 \n",
      " dropout_3 (Dropout)         (None, 100)               0         \n",
      "                                                                 \n",
      " dense_13 (Dense)            (None, 20)                2020      \n",
      "                                                                 \n",
      " dense_14 (Dense)            (None, 5)                 105       \n",
      "                                                                 \n",
      " dense_15 (Dense)            (None, 1)                 6         \n",
      "                                                                 \n",
      "=================================================================\n",
      "Total params: 42,731\n",
      "Trainable params: 42,731\n",
      "Non-trainable params: 0\n",
      "_________________________________________________________________\n",
      "None\n",
      "Epoch 1/6000\n",
      "3/3 [==============================] - 4s 1s/step - loss: 0.7137 - accuracy: 0.6636 - val_loss: 0.5569 - val_accuracy: 0.9494\n",
      "Epoch 2/6000\n",
      "3/3 [==============================] - 2s 569ms/step - loss: 0.5258 - accuracy: 0.9058 - val_loss: 0.4180 - val_accuracy: 0.9937\n",
      "Epoch 3/6000\n",
      "3/3 [==============================] - 2s 575ms/step - loss: 0.3939 - accuracy: 0.9759 - val_loss: 0.3110 - val_accuracy: 0.9969\n",
      "Epoch 4/6000\n",
      "3/3 [==============================] - 2s 614ms/step - loss: 0.2972 - accuracy: 0.9917 - val_loss: 0.2276 - val_accuracy: 0.9971\n",
      "Epoch 5/6000\n",
      "3/3 [==============================] - 2s 631ms/step - loss: 0.2170 - accuracy: 0.9955 - val_loss: 0.1603 - val_accuracy: 0.9971\n",
      "Epoch 6/6000\n",
      "3/3 [==============================] - 2s 625ms/step - loss: 0.1543 - accuracy: 0.9965 - val_loss: 0.1060 - val_accuracy: 0.9971\n",
      "Epoch 7/6000\n",
      "3/3 [==============================] - 2s 740ms/step - loss: 0.1056 - accuracy: 0.9969 - val_loss: 0.0663 - val_accuracy: 0.9971\n",
      "Epoch 8/6000\n",
      "3/3 [==============================] - 2s 728ms/step - loss: 0.0720 - accuracy: 0.9970 - val_loss: 0.0428 - val_accuracy: 0.9971\n",
      "Epoch 9/6000\n",
      "3/3 [==============================] - 2s 749ms/step - loss: 0.0507 - accuracy: 0.9970 - val_loss: 0.0311 - val_accuracy: 0.9971\n",
      "Epoch 10/6000\n",
      "3/3 [==============================] - 2s 711ms/step - loss: 0.0386 - accuracy: 0.9970 - val_loss: 0.0254 - val_accuracy: 0.9971\n",
      "Epoch 11/6000\n",
      "3/3 [==============================] - 2s 608ms/step - loss: 0.0320 - accuracy: 0.9971 - val_loss: 0.0227 - val_accuracy: 0.9971\n",
      "Epoch 12/6000\n",
      "3/3 [==============================] - 2s 639ms/step - loss: 0.0280 - accuracy: 0.9971 - val_loss: 0.0213 - val_accuracy: 0.9971\n",
      "Epoch 13/6000\n",
      "3/3 [==============================] - 2s 763ms/step - loss: 0.0258 - accuracy: 0.9971 - val_loss: 0.0205 - val_accuracy: 0.9971\n",
      "Epoch 14/6000\n",
      "3/3 [==============================] - 2s 676ms/step - loss: 0.0250 - accuracy: 0.9971 - val_loss: 0.0199 - val_accuracy: 0.9971\n",
      "Epoch 15/6000\n",
      "3/3 [==============================] - 2s 649ms/step - loss: 0.0234 - accuracy: 0.9971 - val_loss: 0.0194 - val_accuracy: 0.9971\n",
      "Epoch 16/6000\n",
      "3/3 [==============================] - 2s 672ms/step - loss: 0.0228 - accuracy: 0.9971 - val_loss: 0.0189 - val_accuracy: 0.9971\n",
      "Epoch 17/6000\n",
      "3/3 [==============================] - 2s 661ms/step - loss: 0.0218 - accuracy: 0.9971 - val_loss: 0.0185 - val_accuracy: 0.9971\n",
      "Epoch 18/6000\n",
      "3/3 [==============================] - 2s 645ms/step - loss: 0.0215 - accuracy: 0.9971 - val_loss: 0.0180 - val_accuracy: 0.9971\n",
      "Epoch 19/6000\n",
      "3/3 [==============================] - 2s 601ms/step - loss: 0.0210 - accuracy: 0.9971 - val_loss: 0.0175 - val_accuracy: 0.9971\n",
      "Epoch 20/6000\n",
      "3/3 [==============================] - 2s 684ms/step - loss: 0.0202 - accuracy: 0.9971 - val_loss: 0.0171 - val_accuracy: 0.9971\n",
      "Epoch 20: early stopping\n",
      "##########################################################################\n",
      "------val_accuracy-----> 99.71 | 99.71 <----------accuracy----------\n"
     ]
    }
   ],
   "source": [
    "for ii in range(2):\n",
    "#if True:    \n",
    "    tv=ii\n",
    "    try : \n",
    "      PRED=model2.predict(dt[:,:-1]).round()\n",
    "      REAL_PRED=np.array(((PRED[:,0]==1) & (Y==1)),dtype=float)\n",
    "      dt[:,-1]=REAL_PRED\n",
    "      print(f\"--------------------Real prediction mean: {REAL_PRED.mean()} ---------------------------\")\n",
    "      del model2\n",
    "      del history\n",
    "    except: print(\"first time or error\")\n",
    "    gc.collect()\n",
    "    if True:\n",
    "        IN_DIM=dt.shape[1]-1\n",
    "        model2 = Sequential()\n",
    "        model2.add(Dense(int(100),input_dim=IN_DIM,activation='relu')) #( 100=>66.23)\n",
    "        # resultus withe 250 d0.3 50 d 20 d 8 = 65.6% vs  65.49 no droppout vs 65.78 d0.5 vs 65.68 d0.4 # 65.48 # one dropout of   0.5 = 66.11   #tanh 66.33 accuracy #softmax 66.12 #softplus 66.5 # sigmoid 66.21 / \n",
    "        model2.add(Dropout(0.5))\n",
    "        model2.add(Dense(int(20),activation='relu')) # best softplus 66.26(69) vs relu 66.65(70)  / -20 => 66.25 /250 ->65.78\n",
    "        #model2.add(Dropout(0.1)) #5=> 66.00  66.21 vs no dopout 66.28\n",
    "        #model2.add(Dense(int(20),activation='relu')) # disabled 6.24\n",
    "        model2.add(Dense(int(5),activation='relu')) # -4 -> -> 66.24\n",
    "        model2.add(Dense(1,activation='sigmoid'))\n",
    "        print(model2.summary())\n",
    "        model2.compile(loss='binary_crossentropy',optimizer='adam',metrics=['accuracy'])\n",
    "        callbacks_a = ModelCheckpoint(filepath =MODEL_FILE+f\"{tv}.multi_train.h5\",monitor ='val_accuracy',save_best_only = True, save_weights = True)\n",
    "        callbacks_b = EarlyStopping(monitor ='val_accuracy',mode='auto',patience=15,verbose=1)\n",
    "        history = model2.fit(dt[index_20percent:, 0:-1],\n",
    "                        dt[index_20percent:,-1],\n",
    "                        validation_data=(dt[:index_20percent, :-1],Y[:index_20percent]),\n",
    "                        epochs=6000,\n",
    "                        batch_size=100000,\n",
    "                        callbacks=[callbacks_a,callbacks_b])\n",
    "\n",
    "        print('##########################################################################')\n",
    "        print(f\"------val_accuracy-----> {'{0:.4g}'.format(max(history.history['val_accuracy'])*100)} | {'{0:.4g}'.format(max(history.history['accuracy'])*100)} <----------accuracy----------\")\n",
    "        #94%"
   ]
  },
  {
   "cell_type": "code",
   "execution_count": null,
   "metadata": {},
   "outputs": [],
   "source": [
    "dt.shape[1]"
   ]
  },
  {
   "cell_type": "code",
   "execution_count": 14,
   "metadata": {},
   "outputs": [
    {
     "name": "stdout",
     "output_type": "stream",
     "text": [
      "15625/15625 [==============================] - 24s 2ms/step\n"
     ]
    }
   ],
   "source": [
    "prediction2=(model2.predict( dt[:, 0:-1])).round()"
   ]
  },
  {
   "cell_type": "code",
   "execution_count": 15,
   "metadata": {},
   "outputs": [],
   "source": [
    "False_prediction=dt[:index_20percent,-1][(prediction2[:index_20percent].transpose()[0]!=Y[:index_20percent])]\n",
    "True_prediction=dt[:index_20percent,-1][(prediction2[:index_20percent].transpose()[0]==Y[:index_20percent])]"
   ]
  },
  {
   "cell_type": "code",
   "execution_count": 16,
   "metadata": {},
   "outputs": [
    {
     "name": "stdout",
     "output_type": "stream",
     "text": [
      "Prediction mean :0.0 %#### the colose to 50 the better\n",
      "False prediction class 0 :0.0 %#### it mean that x of the 0 class are wrong the buyed witch lead the losses\n",
      "False prediction class 1 :0.286 %#### we don't buy x % of the correct chanses\n",
      "True prediction class 0 :99.714 %#### it mean that 40 % of class 0 are predicted correctly\n",
      "True prediction class 1 :0.0 %#### the only buying correct of all\n",
      "successful buy pourcent of unsuccessfull: 0.0  %\n"
     ]
    }
   ],
   "source": [
    "fp0=False_prediction[False_prediction==0].shape[0]*100/index_20percent #### it mean that 11.73 of the 0 class are wrong the buyed witch lead the losses\n",
    "print( f\"Prediction mean :{prediction2.mean()*100} %\"+'#### the colose to 50 the better')\n",
    "print( f\"False prediction class 0 :{fp0} %\"+'#### it mean that x of the 0 class are wrong the buyed witch lead the losses')\n",
    "fp1=False_prediction[False_prediction==1].shape[0]*100/index_20percent   #### we don't buy x % of the correct chanses\n",
    "print( f\"False prediction class 1 :{fp1} %\"+'#### we don\\'t buy x % of the correct chanses')\n",
    "trp0=True_prediction[True_prediction==0].shape[0]*100/index_20percent   #### it mean that 40 % of class 0 are predicted correctly\n",
    "trp1=True_prediction[True_prediction==1].shape[0]*100/index_20percent     #### the only buying correct of all\n",
    "print( f\"True prediction class 0 :{trp0} %\"+'#### it mean that 40 % of class 0 are predicted correctly')\n",
    "print( f\"True prediction class 1 :{trp1} %\"+'#### the only buying correct of all')\n",
    "print(f\"successful buy pourcent of unsuccessfull: {100*trp1/(trp1+fp1)}  %\")\n"
   ]
  },
  {
   "cell_type": "code",
   "execution_count": null,
   "metadata": {},
   "outputs": [],
   "source": [
    "model2.evaluate(dt[:index_20percent,:-1], Y[:index_20percent]) #3-> 66.76 / 4 -> 65.75\n"
   ]
  },
  {
   "cell_type": "code",
   "execution_count": null,
   "metadata": {},
   "outputs": [],
   "source": [
    "model2.save(\"../buy_model_w10_tp1.2.h5\")"
   ]
  },
  {
   "cell_type": "code",
   "execution_count": null,
   "metadata": {},
   "outputs": [],
   "source": [
    "# #minimodel\n",
    "# if True:\n",
    "#     IN_DIM=len(mean)\n",
    "#     model = Sequential()\n",
    "#     model.add(Dense(int(IN_DIM/2),input_dim=IN_DIM,activation='tanh'))\n",
    "#     model.add(Dense(int(IN_DIM/3),activation='tanh'))\n",
    "#     model.add(Dense(int(IN_DIM/1),activation='relu'))\n",
    "#     model.add(Dense(1,activation='sigmoid'))\n",
    "#     print(model.summary())\n",
    "#     model.compile(loss='binary_crossentropy',optimizer='adam',metrics=['accuracy'])\n",
    "#     callbacks_a = ModelCheckpoint(filepath=Model_FileName,monitor ='val_accuracy',save_best_only = True, save_weights = True)\n",
    "#     callbacks_b = EarlyStopping(monitor ='accuracy',mode='auto',patience=50,verbose=1)\n",
    "#     history = model.fit(XTRAIN,\n",
    "#                     YTRAIN,\n",
    "#                     validation_data=(XVALIDATION,YVALIDATION),\n",
    "#                     epochs=6000,\n",
    "#                     batch_size=128*500,\n",
    "#                     callbacks=[callbacks_a,callbacks_b])\n",
    "\n",
    "#     print('##########################################################################')\n",
    "#     print(f\"------val_accuracy-----> {'{0:.4g}'.format(max(history.history['val_accuracy'])*100)} | {'{0:.4g}'.format(max(history.history['accuracy'])*100)} <----------accuracy----------\")\n",
    "    "
   ]
  },
  {
   "cell_type": "code",
   "execution_count": null,
   "metadata": {},
   "outputs": [],
   "source": [
    "# model.save(Model_FileName+\"minx.h5\")"
   ]
  },
  {
   "cell_type": "code",
   "execution_count": null,
   "metadata": {},
   "outputs": [],
   "source": [
    "# #minimodel\n",
    "# if True:\n",
    "#     IN_DIM=len(mean)\n",
    "#     model3 = Sequential()\n",
    "#     model3.add(Dense(int(25),input_dim=IN_DIM,activation='tanh'))\n",
    "#     model3.add(Dense(int(10),activation='relu'))\n",
    "#     model3.add(Dense(int(10),activation='relu'))\n",
    "#     model3.add(Dense(1,activation='sigmoid'))\n",
    "#     print(model3.summary())\n",
    "#     model3.compile(loss='binary_crossentropy',optimizer='adam',metrics=['accuracy'])\n",
    "#     callbacks_a = ModelCheckpoint(filepath=Model_FileName+\"fast.h5\",monitor ='val_accuracy',save_best_only = True, save_weights = True)\n",
    "#     callbacks_b = EarlyStopping(monitor ='accuracy',mode='auto',patience=50,verbose=1)\n",
    "#     history = model3.fit(XTRAIN,\n",
    "#                     YTRAIN,\n",
    "#                     validation_data=(XVALIDATION,YVALIDATION),\n",
    "#                     epochs=6000,\n",
    "#                     batch_size=128*500,\n",
    "#                     callbacks=[callbacks_a,callbacks_b])\n",
    "\n",
    "#     print('##########################################################################')\n",
    "#     print(f\"------val_accuracy-----> {'{0:.4g}'.format(max(history.history['val_accuracy'])*100)} | {'{0:.4g}'.format(max(history.history['accuracy'])*100)} <----------accuracy----------\")\n",
    "    "
   ]
  },
  {
   "cell_type": "code",
   "execution_count": null,
   "metadata": {},
   "outputs": [],
   "source": [
    "# #minimodel\n",
    "# if True:\n",
    "#     IN_DIM=len(mean)\n",
    "#     model3 = Sequential()\n",
    "#     model3.add(Dense(int(IN_DIM),input_dim=IN_DIM,activation='tanh'))\n",
    "#     model3.add(Dense(int(40),activation='relu'))\n",
    "#     model3.add(Dense(int(40),activation='relu'))\n",
    "#     model3.add(Dense(int(10),activation='relu'))\n",
    "#     model3.add(Dense(1,activation='sigmoid'))\n",
    "#     print(model3.summary())\n",
    "#     model.compile(loss='binary_crossentropy',optimizer='adam',metrics=['accuracy'])\n",
    "#     callbacks_a = ModelCheckpoint(filepath=Model_FileName,monitor ='val_accuracy',save_best_only = True, save_weights = True)\n",
    "#     callbacks_b = EarlyStopping(monitor ='accuracy',mode='auto',patience=50,verbose=1)\n",
    "#     history = model.fit(XTRAIN,\n",
    "#                     YTRAIN,\n",
    "#                     validation_data=(XVALIDATION,YVALIDATION),\n",
    "#                     epochs=6000,\n",
    "#                     batch_size=128*500,\n",
    "#                     callbacks=[callbacks_a,callbacks_b])\n",
    "\n",
    "#     print('##########################################################################')\n",
    "#     print(f\"------val_accuracy-----> {'{0:.4g}'.format(max(history.history['val_accuracy'])*100)} | {'{0:.4g}'.format(max(history.history['accuracy'])*100)} <----------accuracy----------\")\n",
    "    "
   ]
  },
  {
   "cell_type": "markdown",
   "metadata": {},
   "source": [
    "## Best Model"
   ]
  },
  {
   "cell_type": "code",
   "execution_count": null,
   "metadata": {},
   "outputs": [],
   "source": [
    "# if True:\n",
    "#     IN_DIM=len(mean)\n",
    "#     model = Sequential()\n",
    "#     model.add(Dense(int(IN_DIM/1),input_dim=IN_DIM,activation='relu'))\n",
    "#     model.add(Dense(int(IN_DIM/1),activation='softplus'))\n",
    "#     model.add(Dense(int(IN_DIM/3),activation='relu'))\n",
    "#     model.add(Dense(int(IN_DIM/3),activation='relu'))\n",
    "#     model.add(Dense(int(IN_DIM/6),activation='relu'))\n",
    "#     model.add(Dense(1,activation='sigmoid'))\n",
    "#     print(model.summary())\n",
    "#     model.compile(loss='binary_crossentropy',optimizer='adam',metrics=['accuracy'])\n",
    "#     callbacks_a = ModelCheckpoint(filepath =MODEL_FILE,monitor ='val_loss',save_best_only = True, save_weights = True)\n",
    "#     callbacks_b = EarlyStopping(monitor ='val_loss',mode='auto',patience=30,verbose=1)\n",
    "#     history = model.fit(XTRAIN,\n",
    "#                     YTRAIN,\n",
    "#                     validation_data=(XVALIDATION,YVALIDATION),\n",
    "#                     epochs=6000,\n",
    "#                     batch_size=128*500,\n",
    "#                     callbacks=[callbacks_a,callbacks_b])\n",
    "\n",
    "#     print('##########################################################################')\n",
    "#     print(f\"------val_accuracy-----> {'{0:.4g}'.format(max(history.history['val_accuracy'])*100)} | {'{0:.4g}'.format(max(history.history['accuracy'])*100)} <----------accuracy----------\")\n",
    "#     #94%"
   ]
  },
  {
   "cell_type": "code",
   "execution_count": null,
   "metadata": {},
   "outputs": [],
   "source": [
    "# ## Mega fast import\n",
    "# import numba as nb\n",
    "# import numpy as np\n",
    "# import os\n",
    "# os.environ[ 'NUMBA_CACHE_DIR' ] = '/UltimeTradingBot/Data/csv/tmp/'\n",
    "\n",
    "# @nb.njit('float64[:,:](uint8[::1],)', cache=True)\n",
    "# def decode_csv_buffer(rawData):\n",
    "#     COMMA = np.uint8(ord(','))\n",
    "#     CR = np.uint8(ord('\\r'))\n",
    "#     LF = np.uint8(ord('\\n'))\n",
    "#     ZERO = np.uint8(ord('0'))\n",
    "\n",
    "#     # Find the size of the matrix (`n`)\n",
    "\n",
    "#     n = 0\n",
    "#     lineSize = 0\n",
    "\n",
    "#     for i in range(rawData.size):\n",
    "#         c = rawData[i]\n",
    "#         if c == CR or c == LF:\n",
    "#             break\n",
    "#         n += rawData[i] == COMMA\n",
    "#         lineSize += 1\n",
    "    \n",
    "#     n += 1\n",
    "\n",
    "#     # Empty matrix\n",
    "#     if lineSize == 0:\n",
    "#         return np.empty((0, 0), dtype=np.float64)\n",
    "\n",
    "#     # Initialization\n",
    "\n",
    "#     res = np.empty(n * n, dtype=np.float64)\n",
    "\n",
    "#     # Fill the matrix\n",
    "\n",
    "#     curInt = 0\n",
    "#     curPos = 0\n",
    "#     lastCharIsDigit = True\n",
    "\n",
    "#     for i in range(len(rawData)):\n",
    "#         c = rawData[i]\n",
    "#         if c == CR or c == LF or c == COMMA:\n",
    "#             if lastCharIsDigit:\n",
    "#                 # Write the last int in the flatten matrix\n",
    "#                 res[curPos] = curInt\n",
    "#                 curPos += 1\n",
    "#                 curInt = 0\n",
    "#             lastCharIsDigit = False\n",
    "#         else:\n",
    "#             curInt = curInt * 10 + (c - ZERO)\n",
    "#             lastCharIsDigit = True\n",
    "\n",
    "#     return res.reshape(n, n)\n",
    "# def load_numba(filename):\n",
    "#     # Load fully the file in a raw memory buffer\n",
    "#     rawData = np.fromfile(filename, dtype=np.uint8)\n",
    "\n",
    "#     # Decode the buffer using the Numba JIT\n",
    "#     # This method only work for your specific needs and \n",
    "#     # can simply crash if the file content is invalid.\n",
    "#     return decode_csv_buffer(rawData)"
   ]
  },
  {
   "cell_type": "code",
   "execution_count": null,
   "metadata": {},
   "outputs": [],
   "source": [
    "# filename='/UltimeTradingBot/Data/csv/W20F4minP35.csv'\n",
    "\n",
    "# dt=load_numba(filename)"
   ]
  },
  {
   "cell_type": "code",
   "execution_count": null,
   "metadata": {},
   "outputs": [],
   "source": [
    "# if not TESTING_MOD:\n",
    "#     IN_DIM=len(mean)\n",
    "#     model = Sequential()\n",
    "#     model.add(Dense(int(IN_DIM/2),input_dim=IN_DIM,activation='softplus'))\n",
    "#     model.add(Dense(int(IN_DIM/2),activation='relu'))\n",
    "#     model.add(Dropout(0.3))\n",
    "#     model.add(Dense(int(IN_DIM/5),activation='softplus'))\n",
    "#     model.add(Dense(int(IN_DIM/4),activation='softmax'))\n",
    "#     model.add(Dense(int(IN_DIM/1),activation='softplus'))\n",
    "#     model.add(Dense(1,activation='sigmoid'))\n",
    "#     print(model.summary())\n",
    "#     #model.compile(loss='binary_crossentropy',optimizer='rmsprop',metrics=['accuracy'])\n",
    "#     # model.compile(loss='binary_crossentropy',optimizer='adam',metrics=['accuracy'])\n",
    "#     # callbacks_a = ModelCheckpoint(filepath=Model_FileName+'.sftp.hdf5',monitor ='val_accuracy',save_best_only = True, save_weights = True)\n",
    "#     # callbacks_b = EarlyStopping(monitor ='val_accuracy',mode='auto',patience=10,verbose=1)\n",
    "#     model.compile(loss='binary_crossentropy',optimizer='adam',metrics=['accuracy'])\n",
    "#     callbacks_a = ModelCheckpoint(filepath=Model_FileName+'.sftp.hdf5',monitor ='val_accuracy',save_best_only = True, save_weights = True)\n",
    "#     callbacks_b = EarlyStopping(monitor ='val_accuracy',mode='auto',patience=10,verbose=1)\n",
    "#     history = model.fit(XTRAIN,\n",
    "#                     YTRAIN,\n",
    "#                     validation_data=(XVALIDATION,YVALIDATION),\n",
    "#                     epochs=6000,\n",
    "#                     batch_size=128*500,\n",
    "#                     callbacks=[callbacks_a,callbacks_b])\n",
    "\n",
    "#     print('##########################################################################')\n",
    "#     print(f\"------val_accuracy-----> {'{0:.4g}'.format(max(history.history['val_accuracy'])*100)} | {'{0:.4g}'.format(max(history.history['accuracy'])*100)} <----------accuracy----------\")\n",
    "#     #94%"
   ]
  },
  {
   "cell_type": "code",
   "execution_count": null,
   "metadata": {},
   "outputs": [],
   "source": [
    "print('##########################################################################')\n",
    "print(f'Input shape: {XVALIDATION.shape}')\n",
    "print(f\"------val_accuracy-----> {'{0:.4g}'.format(max(history.history['val_accuracy'])*100)} | {'{0:.4g}'.format(max(history.history['accuracy'])*100)} <----------accuracy----------\")\n"
   ]
  },
  {
   "cell_type": "code",
   "execution_count": null,
   "metadata": {},
   "outputs": [],
   "source": [
    "#dt=df.to_numpy()\n",
    "#if TESTING_MOD:\n",
    "normalize(dt[:,0:-1])"
   ]
  },
  {
   "cell_type": "code",
   "execution_count": null,
   "metadata": {},
   "outputs": [],
   "source": [
    "Normalization"
   ]
  },
  {
   "cell_type": "code",
   "execution_count": null,
   "metadata": {},
   "outputs": [],
   "source": [
    "from keras.models import load_model\n",
    "\n",
    "model = load_model(Model_FileName)\n",
    "\n",
    "print(Model_FileName+' Loaded')"
   ]
  },
  {
   "cell_type": "code",
   "execution_count": null,
   "metadata": {},
   "outputs": [],
   "source": [
    "eth.iloc[:,:-8].reset_index().reset_index().drop(columns=\"date\")"
   ]
  },
  {
   "cell_type": "code",
   "execution_count": null,
   "metadata": {},
   "outputs": [],
   "source": [
    "dteth=eth.iloc[:,:-8].reset_index().reset_index().drop(columns=\"date\").to_numpy()"
   ]
  },
  {
   "cell_type": "code",
   "execution_count": null,
   "metadata": {},
   "outputs": [],
   "source": [
    "peth=model.predict(dteth)"
   ]
  },
  {
   "cell_type": "code",
   "execution_count": null,
   "metadata": {},
   "outputs": [],
   "source": [
    "\n",
    "#import tensorflow as tf\n",
    "dt=np.nan_to_num(dt)\n",
    "\n",
    "dt=tf.convert_to_tensor(dt, dtype=tf.float32)\n",
    "#dt==dt.astype(np.float64)\n"
   ]
  },
  {
   "cell_type": "code",
   "execution_count": null,
   "metadata": {},
   "outputs": [],
   "source": [
    "gc.collect()"
   ]
  },
  {
   "cell_type": "code",
   "execution_count": null,
   "metadata": {},
   "outputs": [],
   "source": [
    "\n",
    "\n",
    "XVALIDATION[YVALIDATION==1]"
   ]
  },
  {
   "cell_type": "markdown",
   "metadata": {},
   "source": [
    "## Retrain"
   ]
  },
  {
   "cell_type": "code",
   "execution_count": null,
   "metadata": {},
   "outputs": [],
   "source": [
    "XX0=XVALIDATION[YVALIDATION==0]\n",
    "YY0=YVALIDATION[YVALIDATION==0]"
   ]
  },
  {
   "cell_type": "code",
   "execution_count": null,
   "metadata": {},
   "outputs": [],
   "source": [
    "INDEX_SEP=int(XX0.shape[0]/4)\n",
    "XX0Train=XX0[INDEX_SEP:]\n",
    "YY0Train=YY0[INDEX_SEP:]\n",
    "\n",
    "XX0Val=XX0[:INDEX_SEP]\n",
    "YY0Val=YY0[:INDEX_SEP]"
   ]
  },
  {
   "cell_type": "code",
   "execution_count": null,
   "metadata": {},
   "outputs": [],
   "source": [
    "XX1=XVALIDATION[YVALIDATION==1]\n",
    "YY1=YVALIDATION[YVALIDATION==1]\n",
    "\n",
    "INDEX_SEP=int(XX1.shape[0]/4)\n",
    "XX1Train=XX1[INDEX_SEP:]\n",
    "YY1Train=YY1[INDEX_SEP:]\n",
    "\n",
    "XX1Val=XX1[:INDEX_SEP]\n",
    "YY1Val=YY1[:INDEX_SEP]"
   ]
  },
  {
   "cell_type": "code",
   "execution_count": null,
   "metadata": {},
   "outputs": [],
   "source": [
    "accuracy0 = model.evaluate(XX0, YY0)\n",
    "accuracy1 = model.evaluate(XX1, YY1)\n",
    "accuracy = model.evaluate(XVALIDATION, YVALIDATION)\n",
    "\n",
    "print(f\"class 0: {format(accuracy0[1]*100,'0.2f')} %\")\n",
    "print(f\"class 1: {format(accuracy1[1]*100,'0.2f')} %\")\n",
    "print(f\"FULL class : {format(accuracy[1]*100,'0.2f')} %\")\n",
    "\n",
    "#accuracy = model.evaluate(dt[:,0:-1], dt[:,-1])\n"
   ]
  },
  {
   "cell_type": "code",
   "execution_count": null,
   "metadata": {},
   "outputs": [],
   "source": [
    "accuracy = model.evaluate(XTRAIN, YTRAIN)\n"
   ]
  },
  {
   "cell_type": "code",
   "execution_count": null,
   "metadata": {},
   "outputs": [],
   "source": [
    "print(f\"class 0: {format(accuracy0[1]*100,'0.2f')} %\")\n",
    "print(f\"class 1: {format(accuracy1[1]*100,'0.2f')} %\")\n",
    "print(f\"FULL class : {format(accuracy[1]*100,'0.2f')} %\")\n"
   ]
  },
  {
   "cell_type": "code",
   "execution_count": null,
   "metadata": {},
   "outputs": [],
   "source": [
    "model.save(Model_FileName)"
   ]
  },
  {
   "cell_type": "code",
   "execution_count": null,
   "metadata": {},
   "outputs": [],
   "source": [
    "Model_FileName"
   ]
  },
  {
   "cell_type": "code",
   "execution_count": null,
   "metadata": {},
   "outputs": [],
   "source": [
    "XXXX=np.concatenate((XTRAIN,XX0Train))\n",
    "YYYY=np.concatenate((YTRAIN,YY0Train))\n"
   ]
  },
  {
   "cell_type": "code",
   "execution_count": null,
   "metadata": {},
   "outputs": [],
   "source": [
    "XXXX.shape"
   ]
  },
  {
   "cell_type": "code",
   "execution_count": null,
   "metadata": {},
   "outputs": [],
   "source": [
    "# if True:\n",
    "#     IN_DIM=len(mean)\n",
    "#     model = Sequential()\n",
    "#     model.add(Dense(int(IN_DIM/1),input_dim=IN_DIM,activation='relu'))\n",
    "#     model.add(Dense(int(IN_DIM/1),activation='softplus'))\n",
    "#     model.add(Dense(int(IN_DIM/3),activation='relu'))\n",
    "#     model.add(Dense(int(IN_DIM/3),activation='relu'))\n",
    "#     model.add(Dense(int(IN_DIM/6),activation='relu'))\n",
    "#     model.add(Dense(1,activation='sigmoid'))\n",
    "#     print(model.summary())\n",
    "#     model.compile(loss='binary_crossentropy',optimizer='adam',metrics=['accuracy'])\n",
    "#     callbacks_a = ModelCheckpoint(filepath =MODEL_FILE+\".z.h5\",monitor ='val_loss',save_best_only = True, save_weights = True)\n",
    "#     callbacks_b = EarlyStopping(monitor ='val_loss',mode='auto',patience=5,verbose=1)\n",
    "#     history = model.fit(XXXX,\n",
    "#                     YYYY,\n",
    "#                     validation_data=(XX0Val,YY0Val),\n",
    "#                     epochs=6000,\n",
    "#                     batch_size=128*500,\n",
    "#                     callbacks=[callbacks_a,callbacks_b])\n",
    "\n",
    "#     print('##########################################################################')\n",
    "#     print(f\"------val_accuracy-----> {'{0:.4g}'.format(max(history.history['val_accuracy'])*100)} | {'{0:.4g}'.format(max(history.history['accuracy'])*100)} <----------accuracy----------\")\n",
    "#     #94%"
   ]
  },
  {
   "cell_type": "code",
   "execution_count": null,
   "metadata": {},
   "outputs": [],
   "source": [
    "# if True:\n",
    "#     IN_DIM=len(mean)\n",
    "#     model2 = Sequential()\n",
    "#     model2.add(Dense(int(IN_DIM/1),input_dim=IN_DIM,activation='tanh'))\n",
    "#     model2.add(Dropout(0.3))\n",
    "#     model2.add(Dense(int(IN_DIM/1),activation='relu'))\n",
    "#     model2.add(Dropout(0.3))\n",
    "#     model2.add(Dense(int(IN_DIM/3),activation='relu'))\n",
    "#     model2.add(Dropout(0.3))\n",
    "#     model2.add(Dense(int(IN_DIM/3),activation='relu'))\n",
    "#     model2.add(Dropout(0.3))\n",
    "#     model2.add(Dense(int(IN_DIM/12),activation='relu'))\n",
    "#     model2.add(Dense(1,activation='sigmoid'))\n",
    "#     print(model2.summary())\n",
    "#     model2.compile(loss='binary_crossentropy',optimizer='adam',metrics=['accuracy'])\n",
    "#     callbacks_a = ModelCheckpoint(filepath =MODEL_FILE+\".z2.h5\",monitor ='val_loss',save_best_only = True, save_weights = True)\n",
    "#     callbacks_b = EarlyStopping(monitor ='val_loss',mode='auto',patience=5,verbose=1)\n",
    "#     history = model2.fit(XXXX,\n",
    "#                     YYYY,\n",
    "#                     validation_data=(XX0Val,YY0Val),\n",
    "#                     epochs=6000,\n",
    "#                     batch_size=55555,\n",
    "#                     callbacks=[callbacks_a,callbacks_b])\n",
    "\n",
    "#     print('##########################################################################')\n",
    "#     print(f\"------val_accuracy-----> {'{0:.4g}'.format(max(history.history['val_accuracy'])*100)} | {'{0:.4g}'.format(max(history.history['accuracy'])*100)} <----------accuracy----------\")\n",
    "#     #94%"
   ]
  },
  {
   "cell_type": "code",
   "execution_count": null,
   "metadata": {},
   "outputs": [],
   "source": [
    "# if True:\n",
    "#     IN_DIM=len(mean)\n",
    "#     model2 = Sequential()\n",
    "#     model2.add(Dense(int(IN_DIM),input_dim=IN_DIM,activation='tanh'))\n",
    "#     model2.add(Dropout(0.3))\n",
    "#     model2.add(Dense(int(100),activation='relu'))\n",
    "#     model2.add(Dropout(0.3))\n",
    "#     model2.add(Dense(int(50),activation='relu'))\n",
    "#     model2.add(Dropout(0.3))\n",
    "#     model2.add(Dense(int(20),activation='relu'))\n",
    "#     model2.add(Dropout(0.3))\n",
    "#     model2.add(Dense(int(10),activation='relu'))\n",
    "#     model2.add(Dense(1,activation='sigmoid'))\n",
    "#     print(model2.summary())\n",
    "#     model2.compile(loss='binary_crossentropy',optimizer='adam',metrics=['accuracy'])\n",
    "#     callbacks_a = ModelCheckpoint(filepath =MODEL_FILE+\".z4.h5\",monitor ='val_loss',save_best_only = True, save_weights = True)\n",
    "#     callbacks_b = EarlyStopping(monitor ='val_loss',mode='auto',patience=5,verbose=1)\n",
    "#     history = model2.fit(XXXX,\n",
    "#                     YYYY,\n",
    "#                     validation_data=(XX0Val,YY0Val),\n",
    "#                     epochs=6000,\n",
    "#                     batch_size=55555,\n",
    "#                     callbacks=[callbacks_a,callbacks_b])\n",
    "\n",
    "#     print('##########################################################################')\n",
    "#     print(f\"------val_accuracy-----> {'{0:.4g}'.format(max(history.history['val_accuracy'])*100)} | {'{0:.4g}'.format(max(history.history['accuracy'])*100)} <----------accuracy----------\")\n",
    "#     #94%"
   ]
  },
  {
   "cell_type": "code",
   "execution_count": null,
   "metadata": {},
   "outputs": [],
   "source": [
    "# retest\n",
    "accuracy0 = model2.evaluate(XX0, YY0)\n",
    "accuracy1 = model2.evaluate(XX1, YY1)\n",
    "accuracy = model2.evaluate(XVALIDATION, YVALIDATION)\n",
    "\n",
    "print(f\"class 0: {accuracy0[1]*100}%\")\n",
    "print(f\"class 1: {accuracy1[1]*100}%\")\n",
    "print(f\"FULL Model : {accuracy[1]*100}%\")\n",
    "\n",
    "#accuracy = model.evaluate(dt[:,0:-1], dt[:,-1])\n"
   ]
  },
  {
   "cell_type": "markdown",
   "metadata": {},
   "source": [
    "### Use the model"
   ]
  },
  {
   "cell_type": "code",
   "execution_count": null,
   "metadata": {},
   "outputs": [],
   "source": [
    "\n",
    "# # make probability predictions with the model\n",
    "# predictions = model.predict(dt[0:,0:-1])\n",
    "# # round predictions \n",
    "# rounded = [round(x[0]) for x in predictions]"
   ]
  },
  {
   "cell_type": "code",
   "execution_count": null,
   "metadata": {},
   "outputs": [],
   "source": []
  },
  {
   "cell_type": "code",
   "execution_count": null,
   "metadata": {},
   "outputs": [],
   "source": [
    "sum(rounded)/len(rounded)"
   ]
  },
  {
   "cell_type": "code",
   "execution_count": null,
   "metadata": {},
   "outputs": [],
   "source": [
    "YVALIDATION[1002]"
   ]
  },
  {
   "cell_type": "code",
   "execution_count": 12,
   "metadata": {},
   "outputs": [],
   "source": [
    "def Buy_Dessision(input):\n",
    "    predictions = model.predict(XVALIDATION)\n",
    "    rounded = [round(x[0]) for x in predictions]"
   ]
  },
  {
   "cell_type": "code",
   "execution_count": 13,
   "metadata": {},
   "outputs": [],
   "source": [
    "# Costumaize buy condition here\n",
    "def buy_only(df,buy_pourcent=BUY_PERCENT,sell_pourcent=SELL_PERCENT,window=3):\n",
    "    try:\n",
    "        \n",
    "        ## test param\n",
    "        #buy_pourcent=1\n",
    "        #window=15\n",
    "        print (f\"---buy_only--- Buy percent: {buy_pourcent}%\")\n",
    "        mino=buy_pourcent*0.01\n",
    "        maxo=-sell_pourcent*0.01\n",
    "        codep1='df[\"b\"]=((('\n",
    "        for i in range(1,window):\n",
    "            codep1=codep1+'df[\"high\"].shift(periods='+str(-i)+', freq=None, axis=0, fill_value=None)-df[\"high\"])/df[\"high\"] >=mino )| (('\n",
    "        codep2='df[\"high\"].shift(periods='+str(-window)+', freq=None, axis=0, fill_value=None)-df[\"high\"])/df[\"high\"] >=mino)).replace({False: 0, True: 1})'\n",
    "        code=codep1+codep2\n",
    "        prerr(code)\n",
    "        exec(code)\n",
    "\n",
    "        \n",
    "        codep1='df[\"sell\"]=((( '\n",
    "        for i in range(1,window):\n",
    "            codep1=codep1+'df[\"low\"].shift(periods='+str(-i)+', freq=None, axis=0, fill_value=None)-df[\"high\"])/df[\"high\"] <=maxo ) | (('\n",
    "        codep2='df[\"low\"].shift(periods='+str(-window)+', freq=None, axis=0, fill_value=None)-df[\"high\"])/df[\"high\"] <=maxo )).replace({False: 0, True: 1})'\n",
    "        code=codep1+codep2\n",
    "        prerr(code)\n",
    "        exec(code)\n",
    "\n",
    "        df[\"buy\"]=((df['b']==1 ) & (df['sell']==0)).replace({False: 0, True: 1})\n",
    "        \n",
    "        \n",
    "\n",
    "    except Exception as e:\n",
    "        print(\"Error buy only\")\n",
    "        print(e)\n",
    "    p=df.pop(\"b\")\n",
    "    p=df.pop(\"sell\")\n",
    "\n",
    "    return df"
   ]
  },
  {
   "cell_type": "code",
   "execution_count": 14,
   "metadata": {},
   "outputs": [],
   "source": [
    "def mini_expand3(pair=\"LTC/USDT\",i=0,j=10000,window=2,metadata=MetaData,high_weight=3,buy_pourcent=BUY_PERCENT,sell_pourcent=SELL_PERCENT):\n",
    "    Pair_Full=full_expand(df_list1m[pair].iloc[i:j],df_list5m[pair],df_list15m[pair],df_list1h[pair],df_list1d[pair],window)\n",
    "    BTC_Full=full_expand(\n",
    "        df_list1m[\"BTC/USDT\"].loc[(Pair_Full.iloc[0].name-pd.Timedelta(str(window) +\" d\")).round(freq='1 min'):Pair_Full.iloc[len(Pair_Full)-1].name],\n",
    "        df_list5m[\"BTC/USDT\"],#.loc[(Pair_Full.iloc[0].name-pd.Timedelta(str(window) +\" d\")).round(freq='5 min'):Pair_Full.iloc[len(Pair_Full)-1].name],\n",
    "        df_list15m[\"BTC/USDT\"],#.loc[(Pair_Full.iloc[0].name-pd.Timedelta(str(window) +\" day\")).round(freq='15 min'):Pair_Full.iloc[len(Pair_Full)-1].name],\n",
    "        df_list1h[\"BTC/USDT\"],#.loc[(Pair_Full.iloc[0].name-pd.Timedelta(str(window) +\" day\")).round(freq='1 H'):Pair_Full.iloc[len(Pair_Full)-1].name],\n",
    "        df_list1d[\"BTC/USDT\"],#.loc[(Pair_Full.iloc[0].name-pd.Timedelta(str(window) +\" day\")).round(freq='1 d'):Pair_Full.iloc[len(Pair_Full)-1].name],\n",
    "        window)   \n",
    "    BTC_Full=BTC_Full.add_prefix(\"BTC_\")\n",
    "    # Merged=pd.merge(Pair_Full, BTC_Full, left_index=True, how='left',\n",
    "    #         right_index=True, suffixes=('', ''))\n",
    "    Merged=pd.merge(Pair_Full, BTC_Full, left_index=True, how='inner',\n",
    "            right_index=True, suffixes=('', ''))\n",
    "    day_expand(Merged)\n",
    "    Meta_expand(Merged,metadata,pair)\n",
    "    #buy_sell(Merged,buy_pourcent=BUY_PERCENT,sell_pourcent=SELL_PERCENT,window=MAX_FORCAST_SIZE)\n",
    "    buy_only(Merged,buy_pourcent=buy_pourcent,sell_pourcent=sell_pourcent,window=MAX_FORCAST_SIZE)\n",
    "    Merged[\"high\"]=(Merged[\"open\"]+high_weight*Merged[\"high\"]+Merged[\"low\"]+Merged[\"close\"])/(3+high_weight)\n",
    "    Merged.rename(columns={\"high\":\"price\"},inplace = True)\n",
    "    Merged[\"BTC_high\"]=(Merged[\"BTC_open\"]+high_weight*Merged[\"BTC_high\"]+Merged[\"BTC_low\"]+Merged[\"BTC_close\"])/(3+high_weight)\n",
    "    Merged.rename(columns={\"BTC_high\":\"BTC_price\"},inplace = True)\n",
    "    Merged=Merged.drop(columns=[\"BTC_open\",\"BTC_low\",\"BTC_close\",\"open\",\"low\",\"close\"])\n",
    "    # Merged=justlast_remover(Merged)\n",
    "    for key in Merged.keys():\n",
    "        if key.find(\"BTC\")!=-1 and (key.find(\"open\")!=-1 or\n",
    "        key.find(\"high\")!=-1 or key.find(\"low\")!=-1 or key.find(\"close\")!=-1):\n",
    "            Merged[key]=-100*(Merged[\"BTC_price\"]-Merged[key])/Merged[\"BTC_price\"]\n",
    "        if key.find(\"BTC\")==-1 and (key.find(\"open\")!=-1 or\n",
    "        key.find(\"high\")!=-1 or key.find(\"low\")!=-1 or key.find(\"close\")!=-1):\n",
    "            Merged[key]=-100*(Merged[\"price\"]-Merged[key])/Merged[\"price\"]\n",
    "    Merged=Merged.dropna()\n",
    "    return Merged"
   ]
  },
  {
   "cell_type": "code",
   "execution_count": null,
   "metadata": {},
   "outputs": [],
   "source": []
  },
  {
   "cell_type": "markdown",
   "metadata": {},
   "source": [
    "## 2- Garbage Test"
   ]
  },
  {
   "cell_type": "code",
   "execution_count": 15,
   "metadata": {},
   "outputs": [],
   "source": [
    "for pair in Binance_USDT_HALAL:\n",
    "    price_volatility_5m=(100*(df_list5m[pair][\"high\"]-df_list5m[pair][\"low\"])/df_list5m[pair][\"high\"]).mean()"
   ]
  },
  {
   "cell_type": "code",
   "execution_count": 16,
   "metadata": {},
   "outputs": [
    {
     "name": "stdout",
     "output_type": "stream",
     "text": [
      "0.6588983589901976\n"
     ]
    }
   ],
   "source": [
    "pair=\"SOL/USDT\"\n",
    "price_volatility_5m=(100*(df_list5m[pair][\"high\"]-df_list5m[pair][\"low\"])/df_list5m[pair][\"high\"]).mean()\n",
    "print(price_volatility_5m)"
   ]
  },
  {
   "cell_type": "code",
   "execution_count": 17,
   "metadata": {},
   "outputs": [
    {
     "name": "stdout",
     "output_type": "stream",
     "text": [
      "---buy_only--- Buy percent: 0.8%\n"
     ]
    }
   ],
   "source": [
    "df=mini_expand3(pair=pair,i=0,j=len(df_list1m[pair]),window=WINDOW_SIZE,metadata=MetaData,buy_pourcent=max(price_volatility_5m*0.6,0.8),sell_pourcent=SELL_PERCENT)"
   ]
  },
  {
   "cell_type": "code",
   "execution_count": 18,
   "metadata": {},
   "outputs": [
    {
     "data": {
      "text/plain": [
       "date\n",
       "2020-08-21 00:00:00    11851.216667\n",
       "2020-08-21 00:01:00    11852.235000\n",
       "2020-08-21 00:02:00    11866.776667\n",
       "2020-08-21 00:03:00    11874.653333\n",
       "2020-08-21 00:04:00    11871.078333\n",
       "                           ...     \n",
       "2022-05-18 13:56:00    29416.931667\n",
       "2022-05-18 13:57:00    29379.176667\n",
       "2022-05-18 13:58:00    29355.188333\n",
       "2022-05-18 13:59:00    29370.298333\n",
       "2022-05-18 14:00:00    29365.115000\n",
       "Name: BTC_price, Length: 913897, dtype: float64"
      ]
     },
     "execution_count": 18,
     "metadata": {},
     "output_type": "execute_result"
    }
   ],
   "source": [
    "df.pop(\"price\")\n",
    "df.pop(\"BTC_price\")"
   ]
  },
  {
   "cell_type": "code",
   "execution_count": 19,
   "metadata": {},
   "outputs": [
    {
     "name": "stdout",
     "output_type": "stream",
     "text": [
      "2.254192759140253\n"
     ]
    }
   ],
   "source": [
    "print(df.buy.mean()*100)"
   ]
  },
  {
   "cell_type": "code",
   "execution_count": 20,
   "metadata": {},
   "outputs": [
    {
     "data": {
      "text/html": [
       "<div>\n",
       "<style scoped>\n",
       "    .dataframe tbody tr th:only-of-type {\n",
       "        vertical-align: middle;\n",
       "    }\n",
       "\n",
       "    .dataframe tbody tr th {\n",
       "        vertical-align: top;\n",
       "    }\n",
       "\n",
       "    .dataframe thead th {\n",
       "        text-align: right;\n",
       "    }\n",
       "</style>\n",
       "<table border=\"1\" class=\"dataframe\">\n",
       "  <thead>\n",
       "    <tr style=\"text-align: right;\">\n",
       "      <th></th>\n",
       "      <th>high-1</th>\n",
       "      <th>low-1</th>\n",
       "      <th>close-1</th>\n",
       "      <th>volume-1</th>\n",
       "      <th>high-2</th>\n",
       "      <th>low-2</th>\n",
       "      <th>close-2</th>\n",
       "      <th>volume-2</th>\n",
       "      <th>high-3</th>\n",
       "      <th>low-3</th>\n",
       "      <th>...</th>\n",
       "      <th>BTC_volume-9_5min</th>\n",
       "      <th>BTC_high-10_5min</th>\n",
       "      <th>BTC_low-10_5min</th>\n",
       "      <th>BTC_close-10_5min</th>\n",
       "      <th>BTC_volume-10_5min</th>\n",
       "      <th>day</th>\n",
       "      <th>hour</th>\n",
       "      <th>minute</th>\n",
       "      <th>lunch_day</th>\n",
       "      <th>buy</th>\n",
       "    </tr>\n",
       "    <tr>\n",
       "      <th>date</th>\n",
       "      <th></th>\n",
       "      <th></th>\n",
       "      <th></th>\n",
       "      <th></th>\n",
       "      <th></th>\n",
       "      <th></th>\n",
       "      <th></th>\n",
       "      <th></th>\n",
       "      <th></th>\n",
       "      <th></th>\n",
       "      <th></th>\n",
       "      <th></th>\n",
       "      <th></th>\n",
       "      <th></th>\n",
       "      <th></th>\n",
       "      <th></th>\n",
       "      <th></th>\n",
       "      <th></th>\n",
       "      <th></th>\n",
       "      <th></th>\n",
       "      <th></th>\n",
       "    </tr>\n",
       "  </thead>\n",
       "  <tbody>\n",
       "    <tr>\n",
       "      <th>2020-08-21 00:00:00</th>\n",
       "      <td>-0.045238</td>\n",
       "      <td>-0.045238</td>\n",
       "      <td>-0.045238</td>\n",
       "      <td>0.00</td>\n",
       "      <td>-0.045238</td>\n",
       "      <td>-0.045238</td>\n",
       "      <td>-0.045238</td>\n",
       "      <td>365.46</td>\n",
       "      <td>-0.042118</td>\n",
       "      <td>-0.042118</td>\n",
       "      <td>...</td>\n",
       "      <td>64.780713</td>\n",
       "      <td>-0.049756</td>\n",
       "      <td>-0.115319</td>\n",
       "      <td>-0.074563</td>\n",
       "      <td>126.811156</td>\n",
       "      <td>5</td>\n",
       "      <td>0</td>\n",
       "      <td>0</td>\n",
       "      <td>-223</td>\n",
       "      <td>0</td>\n",
       "    </tr>\n",
       "    <tr>\n",
       "      <th>2020-08-21 00:01:00</th>\n",
       "      <td>0.129063</td>\n",
       "      <td>0.038511</td>\n",
       "      <td>0.038511</td>\n",
       "      <td>474.40</td>\n",
       "      <td>0.038511</td>\n",
       "      <td>0.038511</td>\n",
       "      <td>0.038511</td>\n",
       "      <td>0.00</td>\n",
       "      <td>0.038511</td>\n",
       "      <td>0.038511</td>\n",
       "      <td>...</td>\n",
       "      <td>64.780713</td>\n",
       "      <td>-0.058343</td>\n",
       "      <td>-0.123901</td>\n",
       "      <td>-0.083149</td>\n",
       "      <td>126.811156</td>\n",
       "      <td>5</td>\n",
       "      <td>0</td>\n",
       "      <td>1</td>\n",
       "      <td>-223</td>\n",
       "      <td>0</td>\n",
       "    </tr>\n",
       "    <tr>\n",
       "      <th>2020-08-21 00:02:00</th>\n",
       "      <td>-0.038481</td>\n",
       "      <td>-0.153925</td>\n",
       "      <td>-0.153925</td>\n",
       "      <td>1272.74</td>\n",
       "      <td>0.052002</td>\n",
       "      <td>-0.038481</td>\n",
       "      <td>-0.038481</td>\n",
       "      <td>474.40</td>\n",
       "      <td>-0.038481</td>\n",
       "      <td>-0.038481</td>\n",
       "      <td>...</td>\n",
       "      <td>64.780713</td>\n",
       "      <td>-0.180813</td>\n",
       "      <td>-0.246290</td>\n",
       "      <td>-0.205588</td>\n",
       "      <td>126.811156</td>\n",
       "      <td>5</td>\n",
       "      <td>0</td>\n",
       "      <td>2</td>\n",
       "      <td>-223</td>\n",
       "      <td>0</td>\n",
       "    </tr>\n",
       "    <tr>\n",
       "      <th>2020-08-21 00:03:00</th>\n",
       "      <td>0.020789</td>\n",
       "      <td>-0.213087</td>\n",
       "      <td>0.020789</td>\n",
       "      <td>513.37</td>\n",
       "      <td>-0.094590</td>\n",
       "      <td>-0.209968</td>\n",
       "      <td>-0.209968</td>\n",
       "      <td>1272.74</td>\n",
       "      <td>-0.004158</td>\n",
       "      <td>-0.094590</td>\n",
       "      <td>...</td>\n",
       "      <td>64.780713</td>\n",
       "      <td>-0.247025</td>\n",
       "      <td>-0.312458</td>\n",
       "      <td>-0.271783</td>\n",
       "      <td>126.811156</td>\n",
       "      <td>5</td>\n",
       "      <td>0</td>\n",
       "      <td>3</td>\n",
       "      <td>-223</td>\n",
       "      <td>0</td>\n",
       "    </tr>\n",
       "    <tr>\n",
       "      <th>2020-08-21 00:04:00</th>\n",
       "      <td>0.149743</td>\n",
       "      <td>-0.131025</td>\n",
       "      <td>-0.131025</td>\n",
       "      <td>170.09</td>\n",
       "      <td>0.062393</td>\n",
       "      <td>-0.171580</td>\n",
       "      <td>0.062393</td>\n",
       "      <td>513.37</td>\n",
       "      <td>-0.053034</td>\n",
       "      <td>-0.168460</td>\n",
       "      <td>...</td>\n",
       "      <td>64.780713</td>\n",
       "      <td>-0.216984</td>\n",
       "      <td>-0.282437</td>\n",
       "      <td>-0.241750</td>\n",
       "      <td>126.811156</td>\n",
       "      <td>5</td>\n",
       "      <td>0</td>\n",
       "      <td>4</td>\n",
       "      <td>-223</td>\n",
       "      <td>0</td>\n",
       "    </tr>\n",
       "    <tr>\n",
       "      <th>...</th>\n",
       "      <td>...</td>\n",
       "      <td>...</td>\n",
       "      <td>...</td>\n",
       "      <td>...</td>\n",
       "      <td>...</td>\n",
       "      <td>...</td>\n",
       "      <td>...</td>\n",
       "      <td>...</td>\n",
       "      <td>...</td>\n",
       "      <td>...</td>\n",
       "      <td>...</td>\n",
       "      <td>...</td>\n",
       "      <td>...</td>\n",
       "      <td>...</td>\n",
       "      <td>...</td>\n",
       "      <td>...</td>\n",
       "      <td>...</td>\n",
       "      <td>...</td>\n",
       "      <td>...</td>\n",
       "      <td>...</td>\n",
       "      <td>...</td>\n",
       "    </tr>\n",
       "    <tr>\n",
       "      <th>2022-05-18 13:56:00</th>\n",
       "      <td>0.312651</td>\n",
       "      <td>0.041902</td>\n",
       "      <td>0.157937</td>\n",
       "      <td>4598.55</td>\n",
       "      <td>0.448026</td>\n",
       "      <td>0.080580</td>\n",
       "      <td>0.080580</td>\n",
       "      <td>3694.60</td>\n",
       "      <td>0.390008</td>\n",
       "      <td>-0.170830</td>\n",
       "      <td>...</td>\n",
       "      <td>306.828060</td>\n",
       "      <td>0.548250</td>\n",
       "      <td>0.131007</td>\n",
       "      <td>0.341430</td>\n",
       "      <td>853.220830</td>\n",
       "      <td>3</td>\n",
       "      <td>13</td>\n",
       "      <td>56</td>\n",
       "      <td>-223</td>\n",
       "      <td>0</td>\n",
       "    </tr>\n",
       "    <tr>\n",
       "      <th>2022-05-18 13:57:00</th>\n",
       "      <td>0.339114</td>\n",
       "      <td>-0.125957</td>\n",
       "      <td>-0.029067</td>\n",
       "      <td>8846.37</td>\n",
       "      <td>0.513516</td>\n",
       "      <td>0.242225</td>\n",
       "      <td>0.358492</td>\n",
       "      <td>4598.55</td>\n",
       "      <td>0.649162</td>\n",
       "      <td>0.280981</td>\n",
       "      <td>...</td>\n",
       "      <td>306.828060</td>\n",
       "      <td>0.677464</td>\n",
       "      <td>0.259685</td>\n",
       "      <td>0.470379</td>\n",
       "      <td>853.220830</td>\n",
       "      <td>3</td>\n",
       "      <td>13</td>\n",
       "      <td>57</td>\n",
       "      <td>-223</td>\n",
       "      <td>0</td>\n",
       "    </tr>\n",
       "    <tr>\n",
       "      <th>2022-05-18 13:58:00</th>\n",
       "      <td>0.255424</td>\n",
       "      <td>-0.132562</td>\n",
       "      <td>-0.054965</td>\n",
       "      <td>3061.43</td>\n",
       "      <td>0.449416</td>\n",
       "      <td>-0.016166</td>\n",
       "      <td>0.080830</td>\n",
       "      <td>8846.37</td>\n",
       "      <td>0.624010</td>\n",
       "      <td>0.352420</td>\n",
       "      <td>...</td>\n",
       "      <td>306.828060</td>\n",
       "      <td>0.759735</td>\n",
       "      <td>0.341615</td>\n",
       "      <td>0.552480</td>\n",
       "      <td>853.220830</td>\n",
       "      <td>3</td>\n",
       "      <td>13</td>\n",
       "      <td>58</td>\n",
       "      <td>-223</td>\n",
       "      <td>0</td>\n",
       "    </tr>\n",
       "    <tr>\n",
       "      <th>2022-05-18 13:59:00</th>\n",
       "      <td>-0.025833</td>\n",
       "      <td>-0.471454</td>\n",
       "      <td>-0.025833</td>\n",
       "      <td>7928.91</td>\n",
       "      <td>0.129166</td>\n",
       "      <td>-0.258331</td>\n",
       "      <td>-0.180832</td>\n",
       "      <td>3061.43</td>\n",
       "      <td>0.322914</td>\n",
       "      <td>-0.142082</td>\n",
       "      <td>...</td>\n",
       "      <td>306.828060</td>\n",
       "      <td>0.707898</td>\n",
       "      <td>0.289993</td>\n",
       "      <td>0.500750</td>\n",
       "      <td>853.220830</td>\n",
       "      <td>3</td>\n",
       "      <td>13</td>\n",
       "      <td>59</td>\n",
       "      <td>-223</td>\n",
       "      <td>0</td>\n",
       "    </tr>\n",
       "    <tr>\n",
       "      <th>2022-05-18 14:00:00</th>\n",
       "      <td>0.038707</td>\n",
       "      <td>-0.406425</td>\n",
       "      <td>-0.232243</td>\n",
       "      <td>9224.45</td>\n",
       "      <td>-0.135475</td>\n",
       "      <td>-0.580608</td>\n",
       "      <td>-0.135475</td>\n",
       "      <td>7928.91</td>\n",
       "      <td>0.019354</td>\n",
       "      <td>-0.367718</td>\n",
       "      <td>...</td>\n",
       "      <td>248.808760</td>\n",
       "      <td>0.929351</td>\n",
       "      <td>0.511679</td>\n",
       "      <td>0.877793</td>\n",
       "      <td>306.828060</td>\n",
       "      <td>3</td>\n",
       "      <td>14</td>\n",
       "      <td>0</td>\n",
       "      <td>-223</td>\n",
       "      <td>0</td>\n",
       "    </tr>\n",
       "  </tbody>\n",
       "</table>\n",
       "<p>913897 rows × 405 columns</p>\n",
       "</div>"
      ],
      "text/plain": [
       "                       high-1     low-1   close-1  volume-1    high-2  \\\n",
       "date                                                                    \n",
       "2020-08-21 00:00:00 -0.045238 -0.045238 -0.045238      0.00 -0.045238   \n",
       "2020-08-21 00:01:00  0.129063  0.038511  0.038511    474.40  0.038511   \n",
       "2020-08-21 00:02:00 -0.038481 -0.153925 -0.153925   1272.74  0.052002   \n",
       "2020-08-21 00:03:00  0.020789 -0.213087  0.020789    513.37 -0.094590   \n",
       "2020-08-21 00:04:00  0.149743 -0.131025 -0.131025    170.09  0.062393   \n",
       "...                       ...       ...       ...       ...       ...   \n",
       "2022-05-18 13:56:00  0.312651  0.041902  0.157937   4598.55  0.448026   \n",
       "2022-05-18 13:57:00  0.339114 -0.125957 -0.029067   8846.37  0.513516   \n",
       "2022-05-18 13:58:00  0.255424 -0.132562 -0.054965   3061.43  0.449416   \n",
       "2022-05-18 13:59:00 -0.025833 -0.471454 -0.025833   7928.91  0.129166   \n",
       "2022-05-18 14:00:00  0.038707 -0.406425 -0.232243   9224.45 -0.135475   \n",
       "\n",
       "                        low-2   close-2  volume-2    high-3     low-3  ...  \\\n",
       "date                                                                   ...   \n",
       "2020-08-21 00:00:00 -0.045238 -0.045238    365.46 -0.042118 -0.042118  ...   \n",
       "2020-08-21 00:01:00  0.038511  0.038511      0.00  0.038511  0.038511  ...   \n",
       "2020-08-21 00:02:00 -0.038481 -0.038481    474.40 -0.038481 -0.038481  ...   \n",
       "2020-08-21 00:03:00 -0.209968 -0.209968   1272.74 -0.004158 -0.094590  ...   \n",
       "2020-08-21 00:04:00 -0.171580  0.062393    513.37 -0.053034 -0.168460  ...   \n",
       "...                       ...       ...       ...       ...       ...  ...   \n",
       "2022-05-18 13:56:00  0.080580  0.080580   3694.60  0.390008 -0.170830  ...   \n",
       "2022-05-18 13:57:00  0.242225  0.358492   4598.55  0.649162  0.280981  ...   \n",
       "2022-05-18 13:58:00 -0.016166  0.080830   8846.37  0.624010  0.352420  ...   \n",
       "2022-05-18 13:59:00 -0.258331 -0.180832   3061.43  0.322914 -0.142082  ...   \n",
       "2022-05-18 14:00:00 -0.580608 -0.135475   7928.91  0.019354 -0.367718  ...   \n",
       "\n",
       "                     BTC_volume-9_5min  BTC_high-10_5min  BTC_low-10_5min  \\\n",
       "date                                                                        \n",
       "2020-08-21 00:00:00          64.780713         -0.049756        -0.115319   \n",
       "2020-08-21 00:01:00          64.780713         -0.058343        -0.123901   \n",
       "2020-08-21 00:02:00          64.780713         -0.180813        -0.246290   \n",
       "2020-08-21 00:03:00          64.780713         -0.247025        -0.312458   \n",
       "2020-08-21 00:04:00          64.780713         -0.216984        -0.282437   \n",
       "...                                ...               ...              ...   \n",
       "2022-05-18 13:56:00         306.828060          0.548250         0.131007   \n",
       "2022-05-18 13:57:00         306.828060          0.677464         0.259685   \n",
       "2022-05-18 13:58:00         306.828060          0.759735         0.341615   \n",
       "2022-05-18 13:59:00         306.828060          0.707898         0.289993   \n",
       "2022-05-18 14:00:00         248.808760          0.929351         0.511679   \n",
       "\n",
       "                     BTC_close-10_5min  BTC_volume-10_5min  day  hour  minute  \\\n",
       "date                                                                            \n",
       "2020-08-21 00:00:00          -0.074563          126.811156    5     0       0   \n",
       "2020-08-21 00:01:00          -0.083149          126.811156    5     0       1   \n",
       "2020-08-21 00:02:00          -0.205588          126.811156    5     0       2   \n",
       "2020-08-21 00:03:00          -0.271783          126.811156    5     0       3   \n",
       "2020-08-21 00:04:00          -0.241750          126.811156    5     0       4   \n",
       "...                                ...                 ...  ...   ...     ...   \n",
       "2022-05-18 13:56:00           0.341430          853.220830    3    13      56   \n",
       "2022-05-18 13:57:00           0.470379          853.220830    3    13      57   \n",
       "2022-05-18 13:58:00           0.552480          853.220830    3    13      58   \n",
       "2022-05-18 13:59:00           0.500750          853.220830    3    13      59   \n",
       "2022-05-18 14:00:00           0.877793          306.828060    3    14       0   \n",
       "\n",
       "                     lunch_day  buy  \n",
       "date                                 \n",
       "2020-08-21 00:00:00       -223    0  \n",
       "2020-08-21 00:01:00       -223    0  \n",
       "2020-08-21 00:02:00       -223    0  \n",
       "2020-08-21 00:03:00       -223    0  \n",
       "2020-08-21 00:04:00       -223    0  \n",
       "...                        ...  ...  \n",
       "2022-05-18 13:56:00       -223    0  \n",
       "2022-05-18 13:57:00       -223    0  \n",
       "2022-05-18 13:58:00       -223    0  \n",
       "2022-05-18 13:59:00       -223    0  \n",
       "2022-05-18 14:00:00       -223    0  \n",
       "\n",
       "[913897 rows x 405 columns]"
      ]
     },
     "execution_count": 20,
     "metadata": {},
     "output_type": "execute_result"
    }
   ],
   "source": [
    "df"
   ]
  },
  {
   "cell_type": "code",
   "execution_count": 21,
   "metadata": {},
   "outputs": [],
   "source": [
    "df=df.reset_index()\n",
    "try:df.pop(\"num_index\")\n",
    "except: pass\n",
    "try:df.pop(\"index\")\n",
    "except: pass\n",
    "try:df.pop(\"date\")\n",
    "except: pass\n",
    "df=data_shufler(df)            \n",
    "df=data_chooser(df,weight=50,row_numbers=df.buy.sum()*2)\n",
    "gc.collect()\n",
    "df=data_cleanup(df)"
   ]
  },
  {
   "cell_type": "code",
   "execution_count": 22,
   "metadata": {},
   "outputs": [
    {
     "data": {
      "text/plain": [
       "True"
      ]
     },
     "execution_count": 22,
     "metadata": {},
     "output_type": "execute_result"
    }
   ],
   "source": [
    "(df.shape[0]/2)==df.buy.sum()"
   ]
  },
  {
   "cell_type": "code",
   "execution_count": 23,
   "metadata": {},
   "outputs": [],
   "source": [
    "dt=df.to_numpy(dtype=np.float64)"
   ]
  },
  {
   "cell_type": "code",
   "execution_count": 24,
   "metadata": {},
   "outputs": [
    {
     "data": {
      "text/plain": [
       "0.3307487935802198"
      ]
     },
     "execution_count": 24,
     "metadata": {},
     "output_type": "execute_result"
    }
   ],
   "source": [
    "dt[0,0]"
   ]
  },
  {
   "cell_type": "code",
   "execution_count": 25,
   "metadata": {},
   "outputs": [
    {
     "name": "stdout",
     "output_type": "stream",
     "text": [
      "4120\n"
     ]
    }
   ],
   "source": [
    "index_20percent= int(0.1*len(dt[:,0]))\n",
    "print(index_20percent)\n",
    "XVALIDATION= dt[:index_20percent, :-1]\n",
    "YVALIDATION= dt[:index_20percent,-1]\n",
    "XTRAIN= dt[index_20percent:, 0:-1]\n",
    "YTRAIN= dt[index_20percent:,-1]"
   ]
  },
  {
   "cell_type": "code",
   "execution_count": 26,
   "metadata": {},
   "outputs": [
    {
     "data": {
      "text/plain": [
       "0.3307487935802198"
      ]
     },
     "execution_count": 26,
     "metadata": {},
     "output_type": "execute_result"
    }
   ],
   "source": [
    "XVALIDATION[0,0]"
   ]
  },
  {
   "cell_type": "code",
   "execution_count": 27,
   "metadata": {},
   "outputs": [
    {
     "name": "stdout",
     "output_type": "stream",
     "text": [
      "normalizing ...\n",
      "/UltimeTradingBot/Data/tp120_w10_max5min_Norm_v1.json\n"
     ]
    }
   ],
   "source": [
    "\n",
    "if True:\n",
    "    if FIRST_NORM_FLAG:\n",
    "    #if True:\n",
    "        print(\"normalizing ...\")\n",
    "        mean = XTRAIN.mean(axis=0)\n",
    "        std = XTRAIN.std(axis=0)\n",
    "\n",
    "\n",
    "\n",
    "        XTRAIN -= mean \n",
    "        XTRAIN /= std\n",
    "\n",
    "        XVALIDATION -=mean\n",
    "        XVALIDATION /= std\n",
    "        FIRST_NORM_FLAG=False\n",
    "        ######################### SAVIN NORM ################\n",
    "        try:\n",
    "            Normalization={\"mean\":mean.tolist(),\"std\":std.tolist()}\n",
    "            with open(Normalization_File.replace(\"/UltimeTradingBot/Data/\", \"/UltimeTradingBot/Data/\"+pair.replace(\"/\", \"-\")+\"-\"), 'w+') as fp:\n",
    "                        json.dump(Normalization, fp,  indent=4)\n",
    "                        print(Normalization_File)\n",
    "        except Exception as e:\n",
    "            print(\"error Normalization in juppiter\")\n",
    "            print(e)\n",
    "    else:print(\"already normalized\")"
   ]
  },
  {
   "cell_type": "code",
   "execution_count": 28,
   "metadata": {},
   "outputs": [],
   "source": [
    "Y=dt[:,-1]"
   ]
  },
  {
   "cell_type": "code",
   "execution_count": 29,
   "metadata": {},
   "outputs": [
    {
     "name": "stdout",
     "output_type": "stream",
     "text": [
      "Model: \"sequential\"\n",
      "_________________________________________________________________\n",
      " Layer (type)                Output Shape              Param #   \n",
      "=================================================================\n",
      " dense (Dense)               (None, 404)               163620    \n",
      "                                                                 \n",
      " dropout (Dropout)           (None, 404)               0         \n",
      "                                                                 \n",
      " dense_1 (Dense)             (None, 20)                8100      \n",
      "                                                                 \n",
      " dense_2 (Dense)             (None, 50)                1050      \n",
      "                                                                 \n",
      " dense_3 (Dense)             (None, 1)                 51        \n",
      "                                                                 \n",
      "=================================================================\n",
      "Total params: 172,821\n",
      "Trainable params: 172,821\n",
      "Non-trainable params: 0\n",
      "_________________________________________________________________\n"
     ]
    },
    {
     "name": "stderr",
     "output_type": "stream",
     "text": [
      "2022-11-11 22:46:14.452346: W tensorflow/stream_executor/platform/default/dso_loader.cc:64] Could not load dynamic library 'libcuda.so.1'; dlerror: libcuda.so.1: cannot open shared object file: No such file or directory\n",
      "2022-11-11 22:46:14.452417: W tensorflow/stream_executor/cuda/cuda_driver.cc:263] failed call to cuInit: UNKNOWN ERROR (303)\n",
      "2022-11-11 22:46:14.452466: I tensorflow/stream_executor/cuda/cuda_diagnostics.cc:169] retrieving CUDA diagnostic information for host: abj-K93SV\n",
      "2022-11-11 22:46:14.452485: I tensorflow/stream_executor/cuda/cuda_diagnostics.cc:176] hostname: abj-K93SV\n",
      "2022-11-11 22:46:14.452803: I tensorflow/stream_executor/cuda/cuda_diagnostics.cc:200] libcuda reported version is: NOT_FOUND: was unable to find libcuda.so DSO loaded into this program\n",
      "2022-11-11 22:46:14.452911: I tensorflow/stream_executor/cuda/cuda_diagnostics.cc:204] kernel reported version is: 390.154.0\n"
     ]
    },
    {
     "name": "stdout",
     "output_type": "stream",
     "text": [
      "None\n",
      "Epoch 1/6000\n",
      "38/38 [==============================] - 2s 24ms/step - loss: nan - accuracy: 0.5009 - val_loss: nan - val_accuracy: 0.4922\n",
      "Epoch 2/6000\n",
      "38/38 [==============================] - 1s 18ms/step - loss: nan - accuracy: 0.5009 - val_loss: nan - val_accuracy: 0.4922\n",
      "Epoch 3/6000\n",
      "38/38 [==============================] - 1s 18ms/step - loss: nan - accuracy: 0.5009 - val_loss: nan - val_accuracy: 0.4922\n",
      "Epoch 4/6000\n",
      "38/38 [==============================] - 1s 18ms/step - loss: nan - accuracy: 0.5009 - val_loss: nan - val_accuracy: 0.4922\n",
      "Epoch 5/6000\n",
      "38/38 [==============================] - 1s 18ms/step - loss: nan - accuracy: 0.5009 - val_loss: nan - val_accuracy: 0.4922\n",
      "Epoch 6/6000\n",
      "38/38 [==============================] - 1s 18ms/step - loss: nan - accuracy: 0.5009 - val_loss: nan - val_accuracy: 0.4922\n",
      "Epoch 7/6000\n",
      "38/38 [==============================] - 1s 18ms/step - loss: nan - accuracy: 0.5009 - val_loss: nan - val_accuracy: 0.4922\n",
      "Epoch 8/6000\n",
      "38/38 [==============================] - 1s 18ms/step - loss: nan - accuracy: 0.5009 - val_loss: nan - val_accuracy: 0.4922\n",
      "Epoch 9/6000\n",
      "38/38 [==============================] - 1s 18ms/step - loss: nan - accuracy: 0.5009 - val_loss: nan - val_accuracy: 0.4922\n",
      "Epoch 10/6000\n",
      "38/38 [==============================] - 1s 18ms/step - loss: nan - accuracy: 0.5009 - val_loss: nan - val_accuracy: 0.4922\n",
      "Epoch 11/6000\n",
      "38/38 [==============================] - 1s 21ms/step - loss: nan - accuracy: 0.5009 - val_loss: nan - val_accuracy: 0.4922\n",
      "Epoch 12/6000\n",
      "38/38 [==============================] - 1s 20ms/step - loss: nan - accuracy: 0.5009 - val_loss: nan - val_accuracy: 0.4922\n",
      "Epoch 13/6000\n",
      "38/38 [==============================] - 1s 20ms/step - loss: nan - accuracy: 0.5009 - val_loss: nan - val_accuracy: 0.4922\n",
      "Epoch 14/6000\n",
      "38/38 [==============================] - 1s 23ms/step - loss: nan - accuracy: 0.5009 - val_loss: nan - val_accuracy: 0.4922\n",
      "Epoch 15/6000\n",
      "38/38 [==============================] - 1s 20ms/step - loss: nan - accuracy: 0.5009 - val_loss: nan - val_accuracy: 0.4922\n",
      "Epoch 16/6000\n",
      "38/38 [==============================] - 1s 21ms/step - loss: nan - accuracy: 0.5009 - val_loss: nan - val_accuracy: 0.4922\n",
      "Epoch 16: early stopping\n",
      "##########################################################################\n",
      "------val_accuracy-----> 49.22 | 50.09 <----------accuracy----------\n"
     ]
    }
   ],
   "source": [
    "IN_DIM=dt.shape[1]-1\n",
    "model = Sequential()\n",
    "model.add(Dense(int(IN_DIM),input_dim=IN_DIM,activation='relu')) #( 100=>66.23)\n",
    "# resultus withe 250 d0.3 50 d 20 d 8 = 65.6% vs  65.49 no droppout vs 65.78 d0.5 vs 65.68 d0.4 # 65.48 # one dropout of   0.5 = 66.11   #tanh 66.33 accuracy #softmax 66.12 #softplus 66.5 # sigmoid 66.21 / \n",
    "model.add(Dropout(0.5))\n",
    "model.add(Dense(int(20),activation='relu')) # best softplus 66.26(69) vs relu 66.65(70)  / -20 => 66.25 /250 ->65.78\n",
    "#model2.add(Dropout(0.1)) #5=> 66.00  66.21 vs no dopout 66.28\n",
    "#model2.add(Dense(int(20),activation='relu')) # disabled 6.24\n",
    "model.add(Dense(int(50),activation='relu')) # -4 -> -> 66.24\n",
    "model.add(Dense(1,activation='sigmoid'))\n",
    "print(model.summary())\n",
    "model.compile(loss='binary_crossentropy',optimizer='adam',metrics=['accuracy'])\n",
    "callbacks_a = ModelCheckpoint(filepath =MODEL_FILE+f\"test.multi_train.h5\",monitor ='val_accuracy',save_best_only = True, save_weights = True)\n",
    "callbacks_b = EarlyStopping(monitor ='val_accuracy',mode='auto',patience=15,verbose=1)\n",
    "history = model.fit(dt[index_20percent:, 0:-1],\n",
    "                dt[index_20percent:,-1],\n",
    "                validation_data=(dt[:index_20percent, :-1],Y[:index_20percent]),\n",
    "                epochs=6000,\n",
    "                batch_size=1000,\n",
    "                callbacks=[callbacks_a,callbacks_b])\n",
    "\n",
    "print('##########################################################################')\n",
    "print(f\"------val_accuracy-----> {'{0:.4g}'.format(max(history.history['val_accuracy'])*100)} | {'{0:.4g}'.format(max(history.history['accuracy'])*100)} <----------accuracy----------\")\n",
    "#94%"
   ]
  }
 ],
 "metadata": {
  "kernelspec": {
   "display_name": "Python 3",
   "language": "python",
   "name": "python3"
  },
  "language_info": {
   "codemirror_mode": {
    "name": "ipython",
    "version": 3
   },
   "file_extension": ".py",
   "mimetype": "text/x-python",
   "name": "python",
   "nbconvert_exporter": "python",
   "pygments_lexer": "ipython3",
   "version": "3.9.2"
  },
  "vscode": {
   "interpreter": {
    "hash": "767d51c1340bd893661ea55ea3124f6de3c7a262a8b4abca0554b478b1e2ff90"
   }
  }
 },
 "nbformat": 4,
 "nbformat_minor": 2
}
